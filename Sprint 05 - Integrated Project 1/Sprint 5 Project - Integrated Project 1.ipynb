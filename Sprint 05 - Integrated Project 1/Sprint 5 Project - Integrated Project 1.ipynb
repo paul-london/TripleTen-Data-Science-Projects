{
 "cells": [
  {
   "cell_type": "markdown",
   "metadata": {},
   "source": [
    "# Sprint 5 - Integrated Project"
   ]
  },
  {
   "cell_type": "markdown",
   "metadata": {},
   "source": [
    "I work for an online store called Ice, which sells video games all over the world. User and expert reviews, genres, platforms, and historical data on game sales are available from open sources. In this project I will identify patterns that determine whether a game succeeds or not. This will allow me to analyze market trends and plan advertising campaigns. I have been provided data going back to 2016, and I'm planning a campaign for 2017.\n",
    "\n",
    "To complete this project and plan a campaign for 2017, I will work through the following steps:\n",
    "\n",
    "**Step 1.** Open the data file and study the general information\n",
    "\n",
    "**Step 2.** Prepare the data\n",
    "- Replace column names\n",
    "- Convert the data types\n",
    "- Replace missing values\n",
    "- Calculate the total sales for each game and add it to the dataset\n",
    "\n",
    "**Step 3.** Analyze the data in a variety of ways. For example,\n",
    "- Look at how many games were released in different years. Is the data for every period significant?\n",
    "- Look at how sales varied from platform to platform\n",
    "- Choose the platforms with the greatest total sales and build a distribution based on data for each year. Find platforms that used to be popular but now have zero sales.\n",
    "- Look at platforms that used to be popular but now have zero sales. How long does it generally take for new platforms to appear and old ones to fade?\n",
    "- Determine what period data should be taken for based on the above results, and build a model for 2017, disregarding irrelevant data.\n",
    "- Which platforms are leading in sales and which are growing/shrinking? Select several potentially profitable platforms.\n",
    "- Build a box plot for global sales of all games by platform. Are there significant differences in sales or average sales?\n",
    "- How do user and professional reviews affect sales for one of the popular platforms? Show a scatter plot and calculate correlation.\n",
    "- Compare sales of the same games on different platforms.\n",
    "- What are the most profitable genres? Discuss genres with high and low sales generally.\n",
    "\n",
    "**Step 4.** Create a user profile for each region (NA, EU, JP) and determine:\n",
    "- The top five platforms and describe variations in their market shares from region to region.\n",
    "- The top five genres and explain the difference.\n",
    "- Do ESRB ratings affect sales in individual regions?\n",
    "\n",
    "**Step 5.** Statistically test the following hypotheses:\n",
    "- Average user ratings of the Xbox One and PC platforms are the same.\n",
    "- Average user ratings for the Action and Sports genres are different."
   ]
  },
  {
   "cell_type": "markdown",
   "metadata": {},
   "source": [
    "## Import Libraries"
   ]
  },
  {
   "cell_type": "code",
   "execution_count": 1,
   "metadata": {},
   "outputs": [],
   "source": [
    "# Import libraries required for the analysis\n",
    "import pandas as pd\n",
    "import numpy as np\n",
    "from matplotlib import pyplot as plt\n",
    "from datetime import datetime\n",
    "from scipy import stats as st\n",
    "import seaborn as sns\n",
    "\n",
    "# Always show all columns when displaying dataframes\n",
    "pd.set_option('display.max_columns', None)"
   ]
  },
  {
   "cell_type": "markdown",
   "metadata": {},
   "source": [
    "## Read and Create Dataset"
   ]
  },
  {
   "cell_type": "code",
   "execution_count": 2,
   "metadata": {},
   "outputs": [],
   "source": [
    "# Read data csv and create dataframe\n",
    "games = pd.read_csv('games.csv')"
   ]
  },
  {
   "cell_type": "markdown",
   "metadata": {},
   "source": [
    "### Description of fields in dataset\n",
    "\n",
    "- Name - Name of game\n",
    "- Platform - Platform game was released on\n",
    "- Year_of_Release - Year of game release\n",
    "- Genre - Genre of game\n",
    "- NA_sales - North American sales in USD million\n",
    "- EU_sales - sales in Europe in USD million\n",
    "- JP_sales - sales in Japan in USD million\n",
    "- Other_sales - sales in other countries in USD million\n",
    "- Critic_Score - critic rating out of a maximum of 100\n",
    "- User_Score - user rating out of a maximum of 10\n",
    "- Rating (ESRB) - The Entertainment Software Rating Board evaluates a game's content and assigns an age rating such as Teen or Mature.\n",
    "\n",
    "*Data for 2016 may be incomplete.*\n",
    "\n",
    "### Definition of platform abbreviations (and their manufacturers) in dataset\n",
    "\n",
    "- 2600 - 2600 (Atari)\n",
    "- 3DO - 3DO (The 3DO Company)\n",
    "- 3DS - 3DS (Nintendo)\n",
    "- DC - Dreamcast (Sega)\n",
    "- DS - DS (Nintendo)\n",
    "- GB - Game Boy (Nintendo)\n",
    "- GBA - Game Boy Advance (Nintendo)\n",
    "- GC - GameCube (Nintendo)\n",
    "- GEN - Genesis (Sega)\n",
    "- GG - Game Gear (Sega)\n",
    "- N64 - Nintendo 64 (Nintendo)\n",
    "- NES - Nintendo Entertainment System (Nintendo)\n",
    "- NG - Neo Geo (SNK Corporation)\n",
    "- PC - Personal Computer (Multiple)\n",
    "- PCFX - PC-FX (NEC, Hudson Soft)\n",
    "- PS - PlayStation (Sony)\n",
    "- PS2 - PlayStation 2 (Sony)\n",
    "- PS3 - PlayStation 3 (Sony)\n",
    "- PS4 - PlayStation 4 (Sony)\n",
    "- PSP - PlayStation Portable (Sony)\n",
    "- PSV - PlayStation Vita (Sony)\n",
    "- SAT - Saturn (Sega)\n",
    "- SCD - Sega CD (Sega)\n",
    "- SNES - Super Nintendo Entertainment System (Nintendo)\n",
    "- TG16 - TurboGrafx-16 (NEC, Hudson Soft)\n",
    "- Wii - Wii (Nintendo)\n",
    "- WiiU - Wii U (Nintendo)\n",
    "- WS - WonderSwan (Bandai)\n",
    "- X360 - Xbox 360 (Microsoft)\n",
    "- XB - Xbox (Microsoft)\n",
    "- XOne - Xbox One (Microsoft)\n",
    "\n",
    "### Overview of the dataset before manipulation"
   ]
  },
  {
   "cell_type": "code",
   "execution_count": 3,
   "metadata": {},
   "outputs": [
    {
     "name": "stdout",
     "output_type": "stream",
     "text": [
      "<class 'pandas.core.frame.DataFrame'>\n",
      "RangeIndex: 16715 entries, 0 to 16714\n",
      "Data columns (total 11 columns):\n",
      " #   Column           Non-Null Count  Dtype  \n",
      "---  ------           --------------  -----  \n",
      " 0   Name             16713 non-null  object \n",
      " 1   Platform         16715 non-null  object \n",
      " 2   Year_of_Release  16446 non-null  float64\n",
      " 3   Genre            16713 non-null  object \n",
      " 4   NA_sales         16715 non-null  float64\n",
      " 5   EU_sales         16715 non-null  float64\n",
      " 6   JP_sales         16715 non-null  float64\n",
      " 7   Other_sales      16715 non-null  float64\n",
      " 8   Critic_Score     8137 non-null   float64\n",
      " 9   User_Score       10014 non-null  object \n",
      " 10  Rating           9949 non-null   object \n",
      "dtypes: float64(6), object(5)\n",
      "memory usage: 1.4+ MB\n"
     ]
    },
    {
     "data": {
      "text/html": [
       "<div>\n",
       "<style scoped>\n",
       "    .dataframe tbody tr th:only-of-type {\n",
       "        vertical-align: middle;\n",
       "    }\n",
       "\n",
       "    .dataframe tbody tr th {\n",
       "        vertical-align: top;\n",
       "    }\n",
       "\n",
       "    .dataframe thead th {\n",
       "        text-align: right;\n",
       "    }\n",
       "</style>\n",
       "<table border=\"1\" class=\"dataframe\">\n",
       "  <thead>\n",
       "    <tr style=\"text-align: right;\">\n",
       "      <th></th>\n",
       "      <th>Name</th>\n",
       "      <th>Platform</th>\n",
       "      <th>Year_of_Release</th>\n",
       "      <th>Genre</th>\n",
       "      <th>NA_sales</th>\n",
       "      <th>EU_sales</th>\n",
       "      <th>JP_sales</th>\n",
       "      <th>Other_sales</th>\n",
       "      <th>Critic_Score</th>\n",
       "      <th>User_Score</th>\n",
       "      <th>Rating</th>\n",
       "    </tr>\n",
       "  </thead>\n",
       "  <tbody>\n",
       "    <tr>\n",
       "      <th>0</th>\n",
       "      <td>Wii Sports</td>\n",
       "      <td>Wii</td>\n",
       "      <td>2006.0</td>\n",
       "      <td>Sports</td>\n",
       "      <td>41.36</td>\n",
       "      <td>28.96</td>\n",
       "      <td>3.77</td>\n",
       "      <td>8.45</td>\n",
       "      <td>76.0</td>\n",
       "      <td>8</td>\n",
       "      <td>E</td>\n",
       "    </tr>\n",
       "    <tr>\n",
       "      <th>1</th>\n",
       "      <td>Super Mario Bros.</td>\n",
       "      <td>NES</td>\n",
       "      <td>1985.0</td>\n",
       "      <td>Platform</td>\n",
       "      <td>29.08</td>\n",
       "      <td>3.58</td>\n",
       "      <td>6.81</td>\n",
       "      <td>0.77</td>\n",
       "      <td>NaN</td>\n",
       "      <td>NaN</td>\n",
       "      <td>NaN</td>\n",
       "    </tr>\n",
       "    <tr>\n",
       "      <th>2</th>\n",
       "      <td>Mario Kart Wii</td>\n",
       "      <td>Wii</td>\n",
       "      <td>2008.0</td>\n",
       "      <td>Racing</td>\n",
       "      <td>15.68</td>\n",
       "      <td>12.76</td>\n",
       "      <td>3.79</td>\n",
       "      <td>3.29</td>\n",
       "      <td>82.0</td>\n",
       "      <td>8.3</td>\n",
       "      <td>E</td>\n",
       "    </tr>\n",
       "    <tr>\n",
       "      <th>3</th>\n",
       "      <td>Wii Sports Resort</td>\n",
       "      <td>Wii</td>\n",
       "      <td>2009.0</td>\n",
       "      <td>Sports</td>\n",
       "      <td>15.61</td>\n",
       "      <td>10.93</td>\n",
       "      <td>3.28</td>\n",
       "      <td>2.95</td>\n",
       "      <td>80.0</td>\n",
       "      <td>8</td>\n",
       "      <td>E</td>\n",
       "    </tr>\n",
       "    <tr>\n",
       "      <th>4</th>\n",
       "      <td>Pokemon Red/Pokemon Blue</td>\n",
       "      <td>GB</td>\n",
       "      <td>1996.0</td>\n",
       "      <td>Role-Playing</td>\n",
       "      <td>11.27</td>\n",
       "      <td>8.89</td>\n",
       "      <td>10.22</td>\n",
       "      <td>1.00</td>\n",
       "      <td>NaN</td>\n",
       "      <td>NaN</td>\n",
       "      <td>NaN</td>\n",
       "    </tr>\n",
       "    <tr>\n",
       "      <th>5</th>\n",
       "      <td>Tetris</td>\n",
       "      <td>GB</td>\n",
       "      <td>1989.0</td>\n",
       "      <td>Puzzle</td>\n",
       "      <td>23.20</td>\n",
       "      <td>2.26</td>\n",
       "      <td>4.22</td>\n",
       "      <td>0.58</td>\n",
       "      <td>NaN</td>\n",
       "      <td>NaN</td>\n",
       "      <td>NaN</td>\n",
       "    </tr>\n",
       "    <tr>\n",
       "      <th>6</th>\n",
       "      <td>New Super Mario Bros.</td>\n",
       "      <td>DS</td>\n",
       "      <td>2006.0</td>\n",
       "      <td>Platform</td>\n",
       "      <td>11.28</td>\n",
       "      <td>9.14</td>\n",
       "      <td>6.50</td>\n",
       "      <td>2.88</td>\n",
       "      <td>89.0</td>\n",
       "      <td>8.5</td>\n",
       "      <td>E</td>\n",
       "    </tr>\n",
       "    <tr>\n",
       "      <th>7</th>\n",
       "      <td>Wii Play</td>\n",
       "      <td>Wii</td>\n",
       "      <td>2006.0</td>\n",
       "      <td>Misc</td>\n",
       "      <td>13.96</td>\n",
       "      <td>9.18</td>\n",
       "      <td>2.93</td>\n",
       "      <td>2.84</td>\n",
       "      <td>58.0</td>\n",
       "      <td>6.6</td>\n",
       "      <td>E</td>\n",
       "    </tr>\n",
       "    <tr>\n",
       "      <th>8</th>\n",
       "      <td>New Super Mario Bros. Wii</td>\n",
       "      <td>Wii</td>\n",
       "      <td>2009.0</td>\n",
       "      <td>Platform</td>\n",
       "      <td>14.44</td>\n",
       "      <td>6.94</td>\n",
       "      <td>4.70</td>\n",
       "      <td>2.24</td>\n",
       "      <td>87.0</td>\n",
       "      <td>8.4</td>\n",
       "      <td>E</td>\n",
       "    </tr>\n",
       "    <tr>\n",
       "      <th>9</th>\n",
       "      <td>Duck Hunt</td>\n",
       "      <td>NES</td>\n",
       "      <td>1984.0</td>\n",
       "      <td>Shooter</td>\n",
       "      <td>26.93</td>\n",
       "      <td>0.63</td>\n",
       "      <td>0.28</td>\n",
       "      <td>0.47</td>\n",
       "      <td>NaN</td>\n",
       "      <td>NaN</td>\n",
       "      <td>NaN</td>\n",
       "    </tr>\n",
       "  </tbody>\n",
       "</table>\n",
       "</div>"
      ],
      "text/plain": [
       "                        Name Platform  Year_of_Release         Genre  \\\n",
       "0                 Wii Sports      Wii           2006.0        Sports   \n",
       "1          Super Mario Bros.      NES           1985.0      Platform   \n",
       "2             Mario Kart Wii      Wii           2008.0        Racing   \n",
       "3          Wii Sports Resort      Wii           2009.0        Sports   \n",
       "4   Pokemon Red/Pokemon Blue       GB           1996.0  Role-Playing   \n",
       "5                     Tetris       GB           1989.0        Puzzle   \n",
       "6      New Super Mario Bros.       DS           2006.0      Platform   \n",
       "7                   Wii Play      Wii           2006.0          Misc   \n",
       "8  New Super Mario Bros. Wii      Wii           2009.0      Platform   \n",
       "9                  Duck Hunt      NES           1984.0       Shooter   \n",
       "\n",
       "   NA_sales  EU_sales  JP_sales  Other_sales  Critic_Score User_Score Rating  \n",
       "0     41.36     28.96      3.77         8.45          76.0          8      E  \n",
       "1     29.08      3.58      6.81         0.77           NaN        NaN    NaN  \n",
       "2     15.68     12.76      3.79         3.29          82.0        8.3      E  \n",
       "3     15.61     10.93      3.28         2.95          80.0          8      E  \n",
       "4     11.27      8.89     10.22         1.00           NaN        NaN    NaN  \n",
       "5     23.20      2.26      4.22         0.58           NaN        NaN    NaN  \n",
       "6     11.28      9.14      6.50         2.88          89.0        8.5      E  \n",
       "7     13.96      9.18      2.93         2.84          58.0        6.6      E  \n",
       "8     14.44      6.94      4.70         2.24          87.0        8.4      E  \n",
       "9     26.93      0.63      0.28         0.47           NaN        NaN    NaN  "
      ]
     },
     "execution_count": 3,
     "metadata": {},
     "output_type": "execute_result"
    }
   ],
   "source": [
    "# Print overview of dataframe and first 10 rows before we make any changes to it\n",
    "games.info()\n",
    "games.head(10)"
   ]
  },
  {
   "cell_type": "markdown",
   "metadata": {},
   "source": [
    "## Prepare the Data For Analysis\n",
    "\n",
    "### Change column names to lower case"
   ]
  },
  {
   "cell_type": "code",
   "execution_count": 4,
   "metadata": {},
   "outputs": [],
   "source": [
    "# Convert column names to lowercase\n",
    "games.columns = [x.lower() for x in games.columns]"
   ]
  },
  {
   "cell_type": "markdown",
   "metadata": {},
   "source": [
    "### Convert data types\n",
    "\n",
    "The fields below must have their data types converted for this analysis. I've provided a justification of why and how each needs to be converted.\n",
    "\n",
    "- **year_of_release** - Currently a float, but needs to be converted to an integer to drop the decimal place then converted to a string so that I can fill missing values with 'Unknown'.\n",
    "- **user_score** - Currently an object between 0 and 10 with a decimal place. Needs to first be converted to a float then multiplied by 10 to match the critic score which is out of 100.\n",
    "\n",
    "While *user_score* and *critic_score* are whole numbers, for ease of analysis and replacing null values, these values will be converted to numeric data types instead of objects (int/float)."
   ]
  },
  {
   "cell_type": "code",
   "execution_count": 5,
   "metadata": {},
   "outputs": [
    {
     "name": "stdout",
     "output_type": "stream",
     "text": [
      "<class 'pandas.core.frame.DataFrame'>\n",
      "RangeIndex: 16715 entries, 0 to 16714\n",
      "Data columns (total 11 columns):\n",
      " #   Column           Non-Null Count  Dtype  \n",
      "---  ------           --------------  -----  \n",
      " 0   name             16713 non-null  object \n",
      " 1   platform         16715 non-null  object \n",
      " 2   year_of_release  16446 non-null  Int64  \n",
      " 3   genre            16713 non-null  object \n",
      " 4   na_sales         16715 non-null  float64\n",
      " 5   eu_sales         16715 non-null  float64\n",
      " 6   jp_sales         16715 non-null  float64\n",
      " 7   other_sales      16715 non-null  float64\n",
      " 8   critic_score     8137 non-null   float64\n",
      " 9   user_score       7590 non-null   Int64  \n",
      " 10  rating           9949 non-null   object \n",
      "dtypes: Int64(2), float64(5), object(4)\n",
      "memory usage: 1.4+ MB\n"
     ]
    },
    {
     "data": {
      "text/html": [
       "<div>\n",
       "<style scoped>\n",
       "    .dataframe tbody tr th:only-of-type {\n",
       "        vertical-align: middle;\n",
       "    }\n",
       "\n",
       "    .dataframe tbody tr th {\n",
       "        vertical-align: top;\n",
       "    }\n",
       "\n",
       "    .dataframe thead th {\n",
       "        text-align: right;\n",
       "    }\n",
       "</style>\n",
       "<table border=\"1\" class=\"dataframe\">\n",
       "  <thead>\n",
       "    <tr style=\"text-align: right;\">\n",
       "      <th></th>\n",
       "      <th>name</th>\n",
       "      <th>platform</th>\n",
       "      <th>year_of_release</th>\n",
       "      <th>genre</th>\n",
       "      <th>na_sales</th>\n",
       "      <th>eu_sales</th>\n",
       "      <th>jp_sales</th>\n",
       "      <th>other_sales</th>\n",
       "      <th>critic_score</th>\n",
       "      <th>user_score</th>\n",
       "      <th>rating</th>\n",
       "    </tr>\n",
       "  </thead>\n",
       "  <tbody>\n",
       "    <tr>\n",
       "      <th>0</th>\n",
       "      <td>Wii Sports</td>\n",
       "      <td>Wii</td>\n",
       "      <td>2006</td>\n",
       "      <td>Sports</td>\n",
       "      <td>41.36</td>\n",
       "      <td>28.96</td>\n",
       "      <td>3.77</td>\n",
       "      <td>8.45</td>\n",
       "      <td>76.0</td>\n",
       "      <td>80</td>\n",
       "      <td>E</td>\n",
       "    </tr>\n",
       "    <tr>\n",
       "      <th>1</th>\n",
       "      <td>Super Mario Bros.</td>\n",
       "      <td>NES</td>\n",
       "      <td>1985</td>\n",
       "      <td>Platform</td>\n",
       "      <td>29.08</td>\n",
       "      <td>3.58</td>\n",
       "      <td>6.81</td>\n",
       "      <td>0.77</td>\n",
       "      <td>NaN</td>\n",
       "      <td>&lt;NA&gt;</td>\n",
       "      <td>NaN</td>\n",
       "    </tr>\n",
       "    <tr>\n",
       "      <th>2</th>\n",
       "      <td>Mario Kart Wii</td>\n",
       "      <td>Wii</td>\n",
       "      <td>2008</td>\n",
       "      <td>Racing</td>\n",
       "      <td>15.68</td>\n",
       "      <td>12.76</td>\n",
       "      <td>3.79</td>\n",
       "      <td>3.29</td>\n",
       "      <td>82.0</td>\n",
       "      <td>83</td>\n",
       "      <td>E</td>\n",
       "    </tr>\n",
       "    <tr>\n",
       "      <th>3</th>\n",
       "      <td>Wii Sports Resort</td>\n",
       "      <td>Wii</td>\n",
       "      <td>2009</td>\n",
       "      <td>Sports</td>\n",
       "      <td>15.61</td>\n",
       "      <td>10.93</td>\n",
       "      <td>3.28</td>\n",
       "      <td>2.95</td>\n",
       "      <td>80.0</td>\n",
       "      <td>80</td>\n",
       "      <td>E</td>\n",
       "    </tr>\n",
       "    <tr>\n",
       "      <th>4</th>\n",
       "      <td>Pokemon Red/Pokemon Blue</td>\n",
       "      <td>GB</td>\n",
       "      <td>1996</td>\n",
       "      <td>Role-Playing</td>\n",
       "      <td>11.27</td>\n",
       "      <td>8.89</td>\n",
       "      <td>10.22</td>\n",
       "      <td>1.00</td>\n",
       "      <td>NaN</td>\n",
       "      <td>&lt;NA&gt;</td>\n",
       "      <td>NaN</td>\n",
       "    </tr>\n",
       "  </tbody>\n",
       "</table>\n",
       "</div>"
      ],
      "text/plain": [
       "                       name platform  year_of_release         genre  na_sales  \\\n",
       "0                Wii Sports      Wii             2006        Sports     41.36   \n",
       "1         Super Mario Bros.      NES             1985      Platform     29.08   \n",
       "2            Mario Kart Wii      Wii             2008        Racing     15.68   \n",
       "3         Wii Sports Resort      Wii             2009        Sports     15.61   \n",
       "4  Pokemon Red/Pokemon Blue       GB             1996  Role-Playing     11.27   \n",
       "\n",
       "   eu_sales  jp_sales  other_sales  critic_score  user_score rating  \n",
       "0     28.96      3.77         8.45          76.0          80      E  \n",
       "1      3.58      6.81         0.77           NaN        <NA>    NaN  \n",
       "2     12.76      3.79         3.29          82.0          83      E  \n",
       "3     10.93      3.28         2.95          80.0          80      E  \n",
       "4      8.89     10.22         1.00           NaN        <NA>    NaN  "
      ]
     },
     "execution_count": 5,
     "metadata": {},
     "output_type": "execute_result"
    }
   ],
   "source": [
    "# Convert data types as described above\n",
    "games['year_of_release'] = games['year_of_release'].astype('Int64')\n",
    "games['user_score'] =  pd.to_numeric(games['user_score'], errors='coerce')\n",
    "\n",
    "# Multiply user score score by 10 to match scale of critic score and convert to integer \n",
    "games['user_score'] = games['user_score'].apply(lambda x: x*10).astype('Int64')\n",
    "\n",
    "# Verify the changes \n",
    "games.info()\n",
    "games.head()"
   ]
  },
  {
   "cell_type": "markdown",
   "metadata": {},
   "source": [
    "### Fill in missing values\n",
    "\n",
    "There are missing values in fields name, year_of_release, genre, critic_score, user_score, rating. Below is a description of how I will handle filling each of these values:\n",
    "\n",
    "- name - There are two rows where the name is null. These two rows don't have a genre, critic score, user score, or rating. For now, I will replace name with 'Unknown'\n",
    "- year_of_release - While some of the game titles have the year in it, there are still missing values in the year or release. For games with a missing year of release, I will replace those values with 0, which will denote an unknown year of release.\n",
    "- genre - There are two rows where the genre is null. These two rows don't have a genre, critic score, user score, or rating. For now, I will replace name with 'Unknown'\n",
    "- critic_score - Replace critic score with 0 which will represent that the game doesn't have a critic score.\n",
    "- user_score - Replace user score with 0 which will represent that the game doesn't have a user score.\n",
    "- rating - Replace rating with Unknown which will represent that the game doesn't have a rating.\n",
    "\n",
    "In the next cell, you will find the code used to fill the missing values in these fields.\n",
    "\n",
    "Some potential reasons for why these values I listed above might be missing could be because:\n",
    "\n",
    "- The games were released years prior to the ratings/rankings list being created\n",
    "- There isn't enough popularity for a particular game to be rated by users or critics\n",
    "- TBD in user_score will be replaced with a 0 and will be handled similiarly to user scores without a value. I will assume that there is no score and for that reason the value will be replaced with 0 which will capture all missing or to be determined scores."
   ]
  },
  {
   "cell_type": "code",
   "execution_count": 6,
   "metadata": {},
   "outputs": [
    {
     "data": {
      "text/plain": [
       "name               0\n",
       "platform           0\n",
       "year_of_release    0\n",
       "genre              0\n",
       "na_sales           0\n",
       "eu_sales           0\n",
       "jp_sales           0\n",
       "other_sales        0\n",
       "critic_score       0\n",
       "user_score         0\n",
       "rating             0\n",
       "dtype: int64"
      ]
     },
     "execution_count": 6,
     "metadata": {},
     "output_type": "execute_result"
    }
   ],
   "source": [
    "# Fill missing values for name, genre, and rating with 'Unknown'\n",
    "games.fillna({'name':'Unknown','genre':'Unknown','rating':'Unknown'},inplace=True)\n",
    "\n",
    "# Fill missing values for year_of_release, critic_score, and user_score with 0\n",
    "games.fillna({'year_of_release':0,'critic_score':0,'user_score':0},inplace=True)\n",
    "\n",
    "# Verify all missing values have been removed\n",
    "games.isna().sum()"
   ]
  },
  {
   "cell_type": "markdown",
   "metadata": {},
   "source": [
    "### Calculate total sales and add to the dataset\n",
    "\n",
    "Calculate the total sales (the sum of sales in all regions) for each game and put these values in a separate column called total_sales"
   ]
  },
  {
   "cell_type": "code",
   "execution_count": 7,
   "metadata": {},
   "outputs": [
    {
     "data": {
      "text/html": [
       "<div>\n",
       "<style scoped>\n",
       "    .dataframe tbody tr th:only-of-type {\n",
       "        vertical-align: middle;\n",
       "    }\n",
       "\n",
       "    .dataframe tbody tr th {\n",
       "        vertical-align: top;\n",
       "    }\n",
       "\n",
       "    .dataframe thead th {\n",
       "        text-align: right;\n",
       "    }\n",
       "</style>\n",
       "<table border=\"1\" class=\"dataframe\">\n",
       "  <thead>\n",
       "    <tr style=\"text-align: right;\">\n",
       "      <th></th>\n",
       "      <th>name</th>\n",
       "      <th>platform</th>\n",
       "      <th>year_of_release</th>\n",
       "      <th>genre</th>\n",
       "      <th>na_sales</th>\n",
       "      <th>eu_sales</th>\n",
       "      <th>jp_sales</th>\n",
       "      <th>other_sales</th>\n",
       "      <th>critic_score</th>\n",
       "      <th>user_score</th>\n",
       "      <th>rating</th>\n",
       "      <th>total_sales</th>\n",
       "    </tr>\n",
       "  </thead>\n",
       "  <tbody>\n",
       "    <tr>\n",
       "      <th>0</th>\n",
       "      <td>Wii Sports</td>\n",
       "      <td>Wii</td>\n",
       "      <td>2006</td>\n",
       "      <td>Sports</td>\n",
       "      <td>41.36</td>\n",
       "      <td>28.96</td>\n",
       "      <td>3.77</td>\n",
       "      <td>8.45</td>\n",
       "      <td>76.0</td>\n",
       "      <td>80</td>\n",
       "      <td>E</td>\n",
       "      <td>82.54</td>\n",
       "    </tr>\n",
       "    <tr>\n",
       "      <th>1</th>\n",
       "      <td>Super Mario Bros.</td>\n",
       "      <td>NES</td>\n",
       "      <td>1985</td>\n",
       "      <td>Platform</td>\n",
       "      <td>29.08</td>\n",
       "      <td>3.58</td>\n",
       "      <td>6.81</td>\n",
       "      <td>0.77</td>\n",
       "      <td>0.0</td>\n",
       "      <td>0</td>\n",
       "      <td>Unknown</td>\n",
       "      <td>40.24</td>\n",
       "    </tr>\n",
       "    <tr>\n",
       "      <th>2</th>\n",
       "      <td>Mario Kart Wii</td>\n",
       "      <td>Wii</td>\n",
       "      <td>2008</td>\n",
       "      <td>Racing</td>\n",
       "      <td>15.68</td>\n",
       "      <td>12.76</td>\n",
       "      <td>3.79</td>\n",
       "      <td>3.29</td>\n",
       "      <td>82.0</td>\n",
       "      <td>83</td>\n",
       "      <td>E</td>\n",
       "      <td>35.52</td>\n",
       "    </tr>\n",
       "    <tr>\n",
       "      <th>3</th>\n",
       "      <td>Wii Sports Resort</td>\n",
       "      <td>Wii</td>\n",
       "      <td>2009</td>\n",
       "      <td>Sports</td>\n",
       "      <td>15.61</td>\n",
       "      <td>10.93</td>\n",
       "      <td>3.28</td>\n",
       "      <td>2.95</td>\n",
       "      <td>80.0</td>\n",
       "      <td>80</td>\n",
       "      <td>E</td>\n",
       "      <td>32.77</td>\n",
       "    </tr>\n",
       "    <tr>\n",
       "      <th>4</th>\n",
       "      <td>Pokemon Red/Pokemon Blue</td>\n",
       "      <td>GB</td>\n",
       "      <td>1996</td>\n",
       "      <td>Role-Playing</td>\n",
       "      <td>11.27</td>\n",
       "      <td>8.89</td>\n",
       "      <td>10.22</td>\n",
       "      <td>1.00</td>\n",
       "      <td>0.0</td>\n",
       "      <td>0</td>\n",
       "      <td>Unknown</td>\n",
       "      <td>31.38</td>\n",
       "    </tr>\n",
       "    <tr>\n",
       "      <th>5</th>\n",
       "      <td>Tetris</td>\n",
       "      <td>GB</td>\n",
       "      <td>1989</td>\n",
       "      <td>Puzzle</td>\n",
       "      <td>23.20</td>\n",
       "      <td>2.26</td>\n",
       "      <td>4.22</td>\n",
       "      <td>0.58</td>\n",
       "      <td>0.0</td>\n",
       "      <td>0</td>\n",
       "      <td>Unknown</td>\n",
       "      <td>30.26</td>\n",
       "    </tr>\n",
       "    <tr>\n",
       "      <th>6</th>\n",
       "      <td>New Super Mario Bros.</td>\n",
       "      <td>DS</td>\n",
       "      <td>2006</td>\n",
       "      <td>Platform</td>\n",
       "      <td>11.28</td>\n",
       "      <td>9.14</td>\n",
       "      <td>6.50</td>\n",
       "      <td>2.88</td>\n",
       "      <td>89.0</td>\n",
       "      <td>85</td>\n",
       "      <td>E</td>\n",
       "      <td>29.80</td>\n",
       "    </tr>\n",
       "    <tr>\n",
       "      <th>7</th>\n",
       "      <td>Wii Play</td>\n",
       "      <td>Wii</td>\n",
       "      <td>2006</td>\n",
       "      <td>Misc</td>\n",
       "      <td>13.96</td>\n",
       "      <td>9.18</td>\n",
       "      <td>2.93</td>\n",
       "      <td>2.84</td>\n",
       "      <td>58.0</td>\n",
       "      <td>66</td>\n",
       "      <td>E</td>\n",
       "      <td>28.91</td>\n",
       "    </tr>\n",
       "    <tr>\n",
       "      <th>8</th>\n",
       "      <td>New Super Mario Bros. Wii</td>\n",
       "      <td>Wii</td>\n",
       "      <td>2009</td>\n",
       "      <td>Platform</td>\n",
       "      <td>14.44</td>\n",
       "      <td>6.94</td>\n",
       "      <td>4.70</td>\n",
       "      <td>2.24</td>\n",
       "      <td>87.0</td>\n",
       "      <td>84</td>\n",
       "      <td>E</td>\n",
       "      <td>28.32</td>\n",
       "    </tr>\n",
       "    <tr>\n",
       "      <th>9</th>\n",
       "      <td>Duck Hunt</td>\n",
       "      <td>NES</td>\n",
       "      <td>1984</td>\n",
       "      <td>Shooter</td>\n",
       "      <td>26.93</td>\n",
       "      <td>0.63</td>\n",
       "      <td>0.28</td>\n",
       "      <td>0.47</td>\n",
       "      <td>0.0</td>\n",
       "      <td>0</td>\n",
       "      <td>Unknown</td>\n",
       "      <td>28.31</td>\n",
       "    </tr>\n",
       "  </tbody>\n",
       "</table>\n",
       "</div>"
      ],
      "text/plain": [
       "                        name platform  year_of_release         genre  \\\n",
       "0                 Wii Sports      Wii             2006        Sports   \n",
       "1          Super Mario Bros.      NES             1985      Platform   \n",
       "2             Mario Kart Wii      Wii             2008        Racing   \n",
       "3          Wii Sports Resort      Wii             2009        Sports   \n",
       "4   Pokemon Red/Pokemon Blue       GB             1996  Role-Playing   \n",
       "5                     Tetris       GB             1989        Puzzle   \n",
       "6      New Super Mario Bros.       DS             2006      Platform   \n",
       "7                   Wii Play      Wii             2006          Misc   \n",
       "8  New Super Mario Bros. Wii      Wii             2009      Platform   \n",
       "9                  Duck Hunt      NES             1984       Shooter   \n",
       "\n",
       "   na_sales  eu_sales  jp_sales  other_sales  critic_score  user_score  \\\n",
       "0     41.36     28.96      3.77         8.45          76.0          80   \n",
       "1     29.08      3.58      6.81         0.77           0.0           0   \n",
       "2     15.68     12.76      3.79         3.29          82.0          83   \n",
       "3     15.61     10.93      3.28         2.95          80.0          80   \n",
       "4     11.27      8.89     10.22         1.00           0.0           0   \n",
       "5     23.20      2.26      4.22         0.58           0.0           0   \n",
       "6     11.28      9.14      6.50         2.88          89.0          85   \n",
       "7     13.96      9.18      2.93         2.84          58.0          66   \n",
       "8     14.44      6.94      4.70         2.24          87.0          84   \n",
       "9     26.93      0.63      0.28         0.47           0.0           0   \n",
       "\n",
       "    rating  total_sales  \n",
       "0        E        82.54  \n",
       "1  Unknown        40.24  \n",
       "2        E        35.52  \n",
       "3        E        32.77  \n",
       "4  Unknown        31.38  \n",
       "5  Unknown        30.26  \n",
       "6        E        29.80  \n",
       "7        E        28.91  \n",
       "8        E        28.32  \n",
       "9  Unknown        28.31  "
      ]
     },
     "execution_count": 7,
     "metadata": {},
     "output_type": "execute_result"
    }
   ],
   "source": [
    "# Create a column called total_sales which is the sum of na_sales, eu_sales, jp_sales, and other_sales\n",
    "games['total_sales'] = games['na_sales'] + games['eu_sales'] + games['jp_sales'] + games['other_sales']\n",
    " \n",
    "# Check for new total_sales column\n",
    "games.head(10)"
   ]
  },
  {
   "cell_type": "markdown",
   "metadata": {},
   "source": [
    "## Analyze the Data\n",
    "\n",
    "In this section, I will analyze the data in a variety of ways and provide conclusions about the data.\n",
    "\n",
    "### Look at how many games were released in different years. Is the data for every period significant?"
   ]
  },
  {
   "cell_type": "code",
   "execution_count": 8,
   "metadata": {},
   "outputs": [
    {
     "data": {
      "image/png": "[encoded data removed]",
      "text/plain": [
       "<Figure size 2500x1000 with 1 Axes>"
      ]
     },
     "metadata": {},
     "output_type": "display_data"
    }
   ],
   "source": [
    "# Create data frame that groups the count of games by year of release\n",
    "games_by_year = games.groupby('year_of_release')['name'].count().to_frame('count_of_games').reset_index()\n",
    "\n",
    "# Create a bar chart that shows the count of games released per year\n",
    "games_by_year.plot(x = 'year_of_release'\n",
    "                   , y = 'count_of_games'\n",
    "                   , title = 'Number of Games Released Per Year'\n",
    "                   , xlabel = 'Year of Release'\n",
    "                   , ylabel = 'Number of Games Released'\n",
    "                   , kind = 'bar'\n",
    "                   , rot = 45\n",
    "                   , figsize=(25,10)\n",
    "                   )\n",
    "\n",
    "# Hide legend as it isn't necessary\n",
    "plt.legend().set_visible(False)\n",
    "\n",
    "# Show bar chart\n",
    "plt.show() "
   ]
  },
  {
   "cell_type": "markdown",
   "metadata": {},
   "source": [
    "The greatest number of games were released from 2002 through 2011. There was a steady decline in games released after 2011, however, the lowest number of release games was in the 1980s. Game releases increased after 1990, finally peaking in 2008/2009.\n",
    "\n",
    "Look at how sales varied from platform to platform. Choose the platforms with the greatest total sales and build a distribution based on data for each year. Find platforms that used to be popular but now have zero sales. How long does it generally take for new platforms to appear and old ones to fade?\n",
    "\n",
    "### Look at how sales varied from platform to platform"
   ]
  },
  {
   "cell_type": "code",
   "execution_count": 9,
   "metadata": {},
   "outputs": [
    {
     "data": {
      "image/png": "[encoded data removed]",
      "text/plain": [
       "<Figure size 2500x1000 with 1 Axes>"
      ]
     },
     "metadata": {},
     "output_type": "display_data"
    }
   ],
   "source": [
    "# Create data frame that groups the sum of total sales by platform order by sales in descending order\n",
    "sales_by_platform = games.groupby('platform')['total_sales'].sum().to_frame('total_sales_by_platform').sort_values(by=['total_sales_by_platform'], ascending=False).reset_index()\n",
    "\n",
    "# Create a bar chart that shows the sales by platform \n",
    "sales_by_platform.plot(x = 'platform'\n",
    "                   , y = 'total_sales_by_platform'\n",
    "                   , title = 'Total Sales By Platform'\n",
    "                   , xlabel = 'Platform'\n",
    "                   , ylabel = 'Sales (in USD Millions)'\n",
    "                   , kind = 'bar'\n",
    "                   , rot = 45\n",
    "                   , figsize=(25,10)\n",
    "                   )\n",
    "\n",
    "# Hide legend as it isn't necessary\n",
    "plt.legend().set_visible(False)\n",
    "\n",
    "# Show bar chart\n",
    "plt.show() "
   ]
  },
  {
   "cell_type": "markdown",
   "metadata": {},
   "source": [
    "By 2016, the top three grossing platforms were the PlayStation 2, Xbox 360, and the PlayStation 3. In the next cell, I will build a distribution for each platform based on sales data for each year.\n",
    "\n",
    "### Choose the platforms with the greatest total sales and build a distribution based on data for each year."
   ]
  },
  {
   "cell_type": "code",
   "execution_count": 10,
   "metadata": {},
   "outputs": [
    {
     "data": {
      "image/png": "[encoded data removed]",
      "text/plain": [
       "<Figure size 2500x1000 with 1 Axes>"
      ]
     },
     "metadata": {},
     "output_type": "display_data"
    }
   ],
   "source": [
    "# Create data frame that groups the sum of total sales by platform and year\n",
    "sales_by_top_three_platforms = games[games['platform'].isin(['PS2','X360','PS3'])].groupby(['year_of_release','platform'])['total_sales'].sum().to_frame('yearly_sales_by_platform').reset_index()\n",
    "\n",
    "\n",
    "pivot_sales_by_top_three_platforms = sales_by_top_three_platforms.pivot(index='year_of_release', columns='platform', values='yearly_sales_by_platform').reset_index()\n",
    "\n",
    "\n",
    "# Create a bar chart that shows the sales by platform \n",
    "pivot_sales_by_top_three_platforms.plot(x = 'year_of_release'\n",
    "                                       , y = ['PS2','X360','PS3']\n",
    "                                       , title = 'Total Yearly Sales By Platform'\n",
    "                                       , xlabel = 'Platform'\n",
    "                                       , ylabel = 'Sales (in USD Millions)'\n",
    "                                       , kind = 'bar'\n",
    "                                       , rot = 45\n",
    "                                       , figsize=(25,10)\n",
    "                                       )\n",
    "\n",
    "# Change legend/series titles\n",
    "plt.legend(title='Platform')\n",
    "\n",
    "# Show bar chart\n",
    "plt.show() "
   ]
  },
  {
   "cell_type": "markdown",
   "metadata": {},
   "source": [
    "The PlayStation 2 was dominant in sales between 2000 and 2005, however, with the release of the PlayStation 3 and Xbox 360 in 2006, sales of PS2 games quickly declined in favor of the new platforms.\n",
    "\n",
    "### Find platforms that used to be popular but now have zero sales.\n",
    "\n",
    "We can ask ourselves: \"How do you define platforms that used to be popular\"?\n",
    "\n",
    "My approach:\n",
    "- Take the top 10 highest grossing platforms and call those the \"popular platforms\"\n",
    "- Using those platforms, determine yearly sales for each platform\n",
    "- Get the first and last years the platform had sales\n",
    "- If the platform still has sales in 2016, exclude from analysis because there still may be sales of the platform\n",
    "- If last year of sales is before 2016 then assume sales are now 0\n",
    "- Exclude year_of_release = 0  because year 0 refers to unknown sales data"
   ]
  },
  {
   "cell_type": "code",
   "execution_count": 11,
   "metadata": {},
   "outputs": [],
   "source": [
    "# Create list of sales by platform to determine popularity (same as in section 4.2 above)\n",
    "sales_by_platform = games.groupby('platform')['total_sales'].sum().to_frame('total_sales_by_platform').sort_values(by=['total_sales_by_platform'], ascending=False).reset_index()\n",
    "\n",
    "# Select top 10 highest grossing platforms - these are considered to be popular\n",
    "popular_platforms = sales_by_platform['platform'].head(10)\n",
    "\n",
    "# Get sales by each year for every platform, excluding those with unknown sales (year_of_release = 0)\n",
    "yearly_sales_by_platform = games[games['year_of_release']!=0].groupby(['year_of_release','platform'])['total_sales'].sum().to_frame('yearly_sales').reset_index()\n",
    "\n",
    "# Get the first year the platform was seen and sales amount \n",
    "first_seen = yearly_sales_by_platform.groupby(['platform']).min('year_of_release').reset_index()\n",
    "\n",
    "# Get the last year the platform was seen and sales amount \n",
    "last_seen = yearly_sales_by_platform[['platform','year_of_release']].groupby(['platform']).max('year_of_release').reset_index()\n",
    "\n",
    "# Get the year the platform had the most sales \n",
    "max_sales_by_platform = yearly_sales_by_platform.groupby(['platform'])['yearly_sales'].max().to_frame().reset_index()\n",
    "peak_sales = max_sales_by_platform.merge(yearly_sales_by_platform, on = ['platform','yearly_sales'])\n",
    "\n",
    "# Merge data sets to get history of platform to do calculations on \n",
    "# First merge first seen and last seen\n",
    "first_and_peak = first_seen.merge(last_seen, on = 'platform', suffixes=('_first_seen', '_last_seen'))\n",
    "\n",
    "# Next merge last seen to and peak sales and first seen\n",
    "first_peak_last = first_and_peak.merge(peak_sales, on = 'platform', suffixes=(None, '_peak'))"
   ]
  },
  {
   "cell_type": "code",
   "execution_count": 12,
   "metadata": {},
   "outputs": [
    {
     "name": "stdout",
     "output_type": "stream",
     "text": [
      "These are the platforms that were once top grossing platforms but no longer have sales in 2016 - ['DS' 'GBA' 'PS' 'PS2' 'PSP']\n"
     ]
    }
   ],
   "source": [
    "# Find platforms that used to be popular but now have zero sales\n",
    "\n",
    "# Filter down all platforms to the ones that were most popular \n",
    "popular_platform_history = first_peak_last.query('platform in @popular_platforms')\n",
    "\n",
    "# Filter for platforms that no longer have sales \n",
    "no_more_sales = popular_platform_history[popular_platform_history['year_of_release_last_seen'] < 2016]['platform'].unique()\n",
    "\n",
    "# Print platforms that were popular but no longer have sales\n",
    "print('These are the platforms that were once top grossing platforms but no longer have sales in 2016 -',no_more_sales)"
   ]
  },
  {
   "cell_type": "markdown",
   "metadata": {},
   "source": [
    "Based on the assumptions above, the platforms that were once popular but now have zero sales are as follows:\n",
    "- DS\n",
    "- Gameboy Advance\n",
    "- PlayStation\n",
    "- PlayStation 2\n",
    "- PlayStation Portable (PSP)\n",
    "- Xbox\n",
    "\n",
    "### How long does it generally take for new platforms to appear and old ones to fade?\n",
    "Assumptions for answering these questions:\n",
    "\n",
    "For each platform first get the following information:\n",
    "- First year the platform had sales\n",
    "- When the platform had its highest sales\n",
    "- The last year the platform had sales\n",
    "\n",
    "To answer how long does it take for new platforms to appear:\n",
    "- Calculate average years from platform inception to peak sales\n",
    "\n",
    "To answer how long does it take for new platforms to appear:\n",
    "- Calculate average years from platform peak sales to the last year sales were seen\n",
    "- Exlcude year_of_release = 0  because year 0 captures unknown sales"
   ]
  },
  {
   "cell_type": "code",
   "execution_count": 13,
   "metadata": {},
   "outputs": [
    {
     "name": "stdout",
     "output_type": "stream",
     "text": [
      "On average, it takes 3.39 years from when a new platform is launched to when it generates its max revenue.\n",
      "On average, it takes 4.23 years from when a platform generates its max revenue to when it no longer generates revenue.\n"
     ]
    }
   ],
   "source": [
    "# For each platform, calculate the difference from when the platform was first released \n",
    "first_peak_last['first_to_peak_years'] = first_peak_last['year_of_release'] - first_peak_last['year_of_release_first_seen']\n",
    "\n",
    "# For each platform, calculate the difference from when the platform peaked to when it last had sales\n",
    "first_peak_last['peak_to_last_years'] = first_peak_last['year_of_release_last_seen'] - first_peak_last['year_of_release'] \n",
    "\n",
    "# Calculate the average time for new platforms to peak (inception to peak)\n",
    "avg_appear = first_peak_last['first_to_peak_years'].mean()\n",
    "\n",
    "# Calculate the average time for new platforms to fade (peak to year of final sales)\n",
    "avg_fade = first_peak_last['peak_to_last_years'].mean()\n",
    "\n",
    "# Print results \n",
    "print('On average, it takes', round(avg_appear,2), 'years from when a new platform is launched to when it generates its max revenue.')\n",
    "print('On average, it takes', round(avg_fade,2), 'years from when a platform generates its max revenue to when it no longer generates revenue.')"
   ]
  },
  {
   "cell_type": "markdown",
   "metadata": {},
   "source": [
    "### Data filtering moving forward\n",
    "\n",
    "We now have enough insight to determine what time period to look at for further analysis, specifically as it relates to a campaign for 2017.\n",
    "\n",
    "Given that it takes on average 3.32 years from platform release date to a plaform's peak revenue, the platforms I will consider working with for the analysis will have a platform release date after 2013. Those released 2013 and earlier will be disregarded in the next sections."
   ]
  },
  {
   "cell_type": "code",
   "execution_count": 14,
   "metadata": {},
   "outputs": [],
   "source": [
    "# Create a filtered down data set that only has platforms with a release date of 2014 and later\n",
    "games_filtered = games[games['year_of_release'] >= 2014]"
   ]
  },
  {
   "cell_type": "markdown",
   "metadata": {},
   "source": [
    "### Which platforms are leading in sales? Which ones are growing or shrinking? Select several potentially profitable platforms."
   ]
  },
  {
   "cell_type": "code",
   "execution_count": 15,
   "metadata": {},
   "outputs": [
    {
     "data": {
      "image/png": "[encoded data removed]",
      "text/plain": [
       "<Figure size 2500x1000 with 1 Axes>"
      ]
     },
     "metadata": {},
     "output_type": "display_data"
    }
   ],
   "source": [
    "# Using the filtered games list for sales in or after 2014, sum total sales by platform \n",
    "yearly_game_sales = games_filtered.groupby(['year_of_release','platform'])['total_sales'].sum().to_frame('yearly_sales').reset_index()\n",
    "\n",
    "# Pivot yearly sales data so that platform is x-axis and columns represent each year to set up data for grouped bar chart\n",
    "pivot_sales_by_platforms = yearly_game_sales.pivot(index='platform', columns='year_of_release', values='yearly_sales').reset_index()\n",
    "\n",
    "# Create a bar chart that shows the sales by platform \n",
    "pivot_sales_by_platforms.plot(x = 'platform'\n",
    "                                       , y = [2014,2015,2016]\n",
    "                                       , title = 'Total Yearly Sales By Platform'\n",
    "                                       , xlabel = 'Platform'\n",
    "                                       , ylabel = 'Sales (in USD Millions)'\n",
    "                                       , kind = 'bar'\n",
    "                                       , rot = 45\n",
    "                                       , figsize=(25,10)\n",
    "                                       )\n",
    "# Plot legend\n",
    "plt.legend(loc=\"upper left\")\n",
    "\n",
    "# Show bar chart\n",
    "plt.show() "
   ]
  },
  {
   "cell_type": "markdown",
   "metadata": {},
   "source": [
    "All sales for 2016 appear to be down compared to 2015, but this might be because we don't have a full view of 2016 yet. Given this assumption, I would say that it's safe to believe that sales might be growing and/or profitable for the PS4 and Xbox One because sales are up in 2015 compared to 2014. This might be because the platforms are more newly released compared to their predecessors like the Xbox One or PS3. In terms of selecting profitable platforms, I would select the PS4 and the Xbox One, and if I needed one additional from another manufacturer, I would select the Nintendo 3DS.\n",
    "\n",
    "### Build a box plot for the global sales of all games, broken down by platform. Are the differences in sales significant? What about average sales on various platforms? Describe your findings."
   ]
  },
  {
   "cell_type": "code",
   "execution_count": 16,
   "metadata": {},
   "outputs": [
    {
     "data": {
      "text/plain": [
       "Text(0.5, 0, 'Platform')"
      ]
     },
     "execution_count": 16,
     "metadata": {},
     "output_type": "execute_result"
    },
    {
     "data": {
      "image/png": "[encoded data removed]",
      "text/plain": [
       "<Figure size 1000x1000 with 1 Axes>"
      ]
     },
     "metadata": {},
     "output_type": "display_data"
    }
   ],
   "source": [
    "# Create dataframe of platform and sales regardless or year and game name filtered down to Xbox One, ps4, and 3DS\n",
    "box_plot_data = games_filtered.query(\"platform in ['3DS','PS4','XOne']\")[['platform','total_sales']].reset_index(drop=True)\n",
    "\n",
    "# Create boxplot of sales by platform \n",
    "box_plot_data.boxplot(by='platform',figsize=(10,10))\n",
    "\n",
    "# Configure naming\n",
    "plt.title('Global Sales By Platform (2014-2016)')\n",
    "plt.suptitle(None)\n",
    "plt.ylabel('Yearly Global Sales (in USD million)')\n",
    "plt.xlabel('Platform')"
   ]
  },
  {
   "cell_type": "markdown",
   "metadata": {},
   "source": [
    "While the median sales for games across all platforms between 2014 and 2016 are similiar, PS4 and Xbox have games sold with higher yearly sales when looking at quartile three and maximum values that are not outliers. The 3DS has more higher grossing outliers than the PS4 and Xbox One, and I would imagine that these are due to popular platform games like Mario or Zelda.\n",
    "\n",
    "### Take a look at how user and professional reviews affect sales for one popular platform (you choose). Build a scatter plot and calculate the correlation between reviews and sales. Draw conclusions."
   ]
  },
  {
   "cell_type": "code",
   "execution_count": 17,
   "metadata": {},
   "outputs": [
    {
     "data": {
      "image/png": "[encoded data removed]",
      "text/plain": [
       "<Figure size 1000x500 with 1 Axes>"
      ]
     },
     "metadata": {},
     "output_type": "display_data"
    },
    {
     "name": "stdout",
     "output_type": "stream",
     "text": [
      "The correlation between critic score and total sales for the PS4 between 2014 through 2016 is: 0.403\n"
     ]
    }
   ],
   "source": [
    "# I'm going to analyze PS4 sales from 2014-2016\n",
    "# I will build a scatter plot and calculate the correlation between reviews and sales\n",
    "\n",
    "PS4_filtered = games_filtered[(games_filtered['platform'] == 'PS4') & (games_filtered['critic_score'] > 0)][['critic_score','total_sales']].reset_index(drop=True)\n",
    "\n",
    "# Create a bar chart that shows the sales by platform \n",
    "PS4_filtered.plot(x = 'critic_score'\n",
    "                  , y = 'total_sales'\n",
    "                  , title = 'Critic Score '\n",
    "                  , xlabel = 'Critic Score vs Global Sales Per PS4 Game (Sales From 2014 Through 2016)'\n",
    "                  , ylabel = 'Sales (in USD Millions)'\n",
    "                  , kind = 'scatter'\n",
    "                  , rot = 0\n",
    "                  , figsize=(10,5)\n",
    "                  )\n",
    "# Show bar chart\n",
    "plt.show() \n",
    "\n",
    "# Calculate the correlation between reviews and sales\n",
    "correlation = PS4_filtered['critic_score'].corr(PS4_filtered['total_sales'])\n",
    "\n",
    "# Print correlation between the two columns\n",
    "print('The correlation between critic score and total sales for the PS4 between 2014 through 2016 is:', round(correlation,3))"
   ]
  },
  {
   "cell_type": "markdown",
   "metadata": {},
   "source": [
    "A correlation coefficient between .39 and .59 represents a moderate positive correlation between critic score and game sales. Since there is a positive correlation between critic scores and sales, any games with a high critic score should be advertised to help drive sales.\n",
    "\n",
    "### Take a look at the general distribution of games by genre. What can we say about the most profitable genres? Can you generalize about genres with high and low sales?"
   ]
  },
  {
   "cell_type": "code",
   "execution_count": 18,
   "metadata": {},
   "outputs": [
    {
     "data": {
      "text/html": [
       "<div>\n",
       "<style scoped>\n",
       "    .dataframe tbody tr th:only-of-type {\n",
       "        vertical-align: middle;\n",
       "    }\n",
       "\n",
       "    .dataframe tbody tr th {\n",
       "        vertical-align: top;\n",
       "    }\n",
       "\n",
       "    .dataframe thead th {\n",
       "        text-align: right;\n",
       "    }\n",
       "</style>\n",
       "<table border=\"1\" class=\"dataframe\">\n",
       "  <thead>\n",
       "    <tr style=\"text-align: right;\">\n",
       "      <th></th>\n",
       "      <th>genre</th>\n",
       "      <th>sum</th>\n",
       "      <th>count</th>\n",
       "    </tr>\n",
       "  </thead>\n",
       "  <tbody>\n",
       "    <tr>\n",
       "      <th>0</th>\n",
       "      <td>Action</td>\n",
       "      <td>199.36</td>\n",
       "      <td>619</td>\n",
       "    </tr>\n",
       "    <tr>\n",
       "      <th>1</th>\n",
       "      <td>Shooter</td>\n",
       "      <td>170.94</td>\n",
       "      <td>128</td>\n",
       "    </tr>\n",
       "    <tr>\n",
       "      <th>2</th>\n",
       "      <td>Sports</td>\n",
       "      <td>109.48</td>\n",
       "      <td>161</td>\n",
       "    </tr>\n",
       "    <tr>\n",
       "      <th>3</th>\n",
       "      <td>Role-Playing</td>\n",
       "      <td>101.44</td>\n",
       "      <td>221</td>\n",
       "    </tr>\n",
       "    <tr>\n",
       "      <th>4</th>\n",
       "      <td>Misc</td>\n",
       "      <td>37.55</td>\n",
       "      <td>113</td>\n",
       "    </tr>\n",
       "    <tr>\n",
       "      <th>5</th>\n",
       "      <td>Fighting</td>\n",
       "      <td>28.22</td>\n",
       "      <td>60</td>\n",
       "    </tr>\n",
       "    <tr>\n",
       "      <th>6</th>\n",
       "      <td>Racing</td>\n",
       "      <td>27.52</td>\n",
       "      <td>69</td>\n",
       "    </tr>\n",
       "    <tr>\n",
       "      <th>7</th>\n",
       "      <td>Platform</td>\n",
       "      <td>18.09</td>\n",
       "      <td>38</td>\n",
       "    </tr>\n",
       "    <tr>\n",
       "      <th>8</th>\n",
       "      <td>Adventure</td>\n",
       "      <td>17.55</td>\n",
       "      <td>185</td>\n",
       "    </tr>\n",
       "    <tr>\n",
       "      <th>9</th>\n",
       "      <td>Simulation</td>\n",
       "      <td>13.13</td>\n",
       "      <td>44</td>\n",
       "    </tr>\n",
       "    <tr>\n",
       "      <th>10</th>\n",
       "      <td>Strategy</td>\n",
       "      <td>3.96</td>\n",
       "      <td>37</td>\n",
       "    </tr>\n",
       "    <tr>\n",
       "      <th>11</th>\n",
       "      <td>Puzzle</td>\n",
       "      <td>2.21</td>\n",
       "      <td>14</td>\n",
       "    </tr>\n",
       "  </tbody>\n",
       "</table>\n",
       "</div>"
      ],
      "text/plain": [
       "           genre     sum  count\n",
       "0         Action  199.36    619\n",
       "1        Shooter  170.94    128\n",
       "2         Sports  109.48    161\n",
       "3   Role-Playing  101.44    221\n",
       "4           Misc   37.55    113\n",
       "5       Fighting   28.22     60\n",
       "6         Racing   27.52     69\n",
       "7       Platform   18.09     38\n",
       "8      Adventure   17.55    185\n",
       "9     Simulation   13.13     44\n",
       "10      Strategy    3.96     37\n",
       "11        Puzzle    2.21     14"
      ]
     },
     "execution_count": 18,
     "metadata": {},
     "output_type": "execute_result"
    },
    {
     "data": {
      "image/png": "[encoded data removed]",
      "text/plain": [
       "<Figure size 2000x1500 with 12 Axes>"
      ]
     },
     "metadata": {},
     "output_type": "display_data"
    }
   ],
   "source": [
    "# Create a dataframe of genre and total sales \n",
    "genre_grouped = games_filtered[['genre','total_sales']].sort_values(by='genre')\n",
    "\n",
    "# Create a histogram for each genre\n",
    "# y-axis is count of games and x-axis is distribution of sales within genre\n",
    "genre_grouped['total_sales'].hist(by = genre_grouped['genre']\n",
    "                                  , figsize=(20, 15)\n",
    "                                  , rot = 0\n",
    "                                  )\n",
    "\n",
    "# Create an aggregation of game count and sales within each genre just to validate what is displayed in histogram\n",
    "genre_grouped.groupby('genre').agg(['sum', 'count']).droplevel(axis=1, level=0).sort_values(by = 'sum', ascending = False).reset_index()"
   ]
  },
  {
   "cell_type": "markdown",
   "metadata": {},
   "source": [
    "*In the plots above, the x-axis represents USD sales in millions and the y-axis represents the count of games in the genre.*\n",
    "\n",
    "When looking at the general distribution of games by genre, the profitability of the genre can be achieved in different ways. For example, the top two most profitable genres are Action and Shooters. When you look at the distribution of games and sales for these genres, you'll see that the action has over 600 games compared the 128 games in the Shoorters category. This means, on average, shooters generated more sales than action games. Lastly, genres with higher total sales tend to have more games then lower sales generating genres. The top 5 highest grossing genres have over 1,200 games, however the remaining 7 genres have just over 400 games.\n",
    "\n",
    "## Create a user profile for each region. For each region (NA, EU, JP), determine the following\n",
    "\n",
    "### What are the top five platforms? Describe variations in their market shares from region to region."
   ]
  },
  {
   "cell_type": "code",
   "execution_count": 19,
   "metadata": {},
   "outputs": [
    {
     "data": {
      "text/plain": [
       "<seaborn.axisgrid.FacetGrid at 0x7fa50ffa4070>"
      ]
     },
     "execution_count": 19,
     "metadata": {},
     "output_type": "execute_result"
    },
    {
     "data": {
      "image/png": "[encoded data removed]",
      "text/plain": [
       "<Figure size 786.75x700 with 1 Axes>"
      ]
     },
     "metadata": {},
     "output_type": "display_data"
    }
   ],
   "source": [
    "# Create a dataframe with regional sales for each platform for sales after 2014\n",
    "regional_platform_sales = games_filtered.groupby('platform')[['na_sales','eu_sales','jp_sales']].sum().reset_index()\n",
    "\n",
    "# Get the top 5 platforms for each region\n",
    "na_platform = regional_platform_sales[['platform','na_sales']].sort_values('na_sales', ascending = False).head(5).reset_index(drop=True)\n",
    "eu_platform = regional_platform_sales[['platform','eu_sales']].sort_values('eu_sales', ascending = False).head(5).reset_index(drop=True)\n",
    "jp_platform = regional_platform_sales[['platform','jp_sales']].sort_values('jp_sales', ascending = False).head(5).reset_index(drop=True)\n",
    "\n",
    "# Create a column called region and fill with the region\n",
    "na_platform['region'] = 'North America'\n",
    "eu_platform['region'] = 'Europe'\n",
    "jp_platform['region'] = 'Japan'\n",
    "\n",
    "# Replace column names to just sales for each region \n",
    "na_platform.rename(columns={'na_sales':'sales'}, inplace=True)\n",
    "eu_platform.rename(columns={'eu_sales':'sales'}, inplace=True)\n",
    "jp_platform.rename(columns={'jp_sales':'sales'}, inplace=True)\n",
    "\n",
    "# Union of all platfrom sales together\n",
    "all_region_platform_sales = pd.concat([na_platform,eu_platform,jp_platform])\n",
    "\n",
    "# Tried several ways to visualize this and attempted something new using seaborn catplot\n",
    "# I wanted to show platform sales by region in descending order of sales to show the differences in platform popularity amongst regions\n",
    "# Result shows some null values but insights can still be derived\n",
    "sns.catplot(data=all_region_platform_sales, x=\"region\", y=\"sales\", kind=\"bar\", hue='platform', height=7)"
   ]
  },
  {
   "cell_type": "markdown",
   "metadata": {},
   "source": [
    "When looking at top grossing platforms, region to region, we see that in Europe and North America, the PS4 and Xbox One are the most popular consoles. North America prefers the Xbox 360 over the PC, which Europe favors. Unlike Europe and North America, Japan's highest grossing platform is the 3DS following by the PS4 and PSV.\n",
    "\n",
    "### What are the top five genres? Explain the difference."
   ]
  },
  {
   "cell_type": "code",
   "execution_count": 20,
   "metadata": {},
   "outputs": [
    {
     "data": {
      "text/plain": [
       "<seaborn.axisgrid.FacetGrid at 0x7fa50d829f40>"
      ]
     },
     "execution_count": 20,
     "metadata": {},
     "output_type": "execute_result"
    },
    {
     "data": {
      "image/png": "[encoded data removed]",
      "text/plain": [
       "<Figure size 835.375x700 with 1 Axes>"
      ]
     },
     "metadata": {},
     "output_type": "display_data"
    }
   ],
   "source": [
    "# Create a dataframe with regional sales for each genre for sales after 2014\n",
    "regional_genre_sales = games_filtered.groupby('genre')[['na_sales','eu_sales','jp_sales']].sum().reset_index()\n",
    "\n",
    "# Get the top 5 genres for each region\n",
    "na_genre = regional_genre_sales[['genre','na_sales']].sort_values('na_sales', ascending = False).head(5).reset_index(drop=True)\n",
    "eu_genre = regional_genre_sales[['genre','eu_sales']].sort_values('eu_sales', ascending = False).head(5).reset_index(drop=True)\n",
    "jp_genre = regional_genre_sales[['genre','jp_sales']].sort_values('jp_sales', ascending = False).head(5).reset_index(drop=True)\n",
    "\n",
    "# Create a column called region and fill with the region\n",
    "na_genre['region'] = 'North America'\n",
    "eu_genre['region'] = 'Europe'\n",
    "jp_genre['region'] = 'Japan'\n",
    "\n",
    "# Replace column names to just sales for each region \n",
    "na_genre.rename(columns={'na_sales':'sales'}, inplace=True)\n",
    "eu_genre.rename(columns={'eu_sales':'sales'}, inplace=True)\n",
    "jp_genre.rename(columns={'jp_sales':'sales'}, inplace=True)\n",
    "\n",
    "# Union all genres sales together\n",
    "all_region_genre_sales = pd.concat([na_genre,eu_genre,jp_genre])\n",
    "\n",
    "# Add comment\n",
    "sns.catplot(data=all_region_genre_sales, x=\"region\", y=\"sales\", kind=\"bar\", hue='genre', height=7)"
   ]
  },
  {
   "cell_type": "markdown",
   "metadata": {},
   "source": [
    "In North America, the highest grossing genres are similiar to those in Europe: Shooters, Action, Sports, and Role-Playing. In Japan, the top genres by sales are Role-Playing and Action.\n",
    "\n",
    "### Do ESRB ratings affect sales in individual regions?"
   ]
  },
  {
   "cell_type": "code",
   "execution_count": 21,
   "metadata": {},
   "outputs": [
    {
     "data": {
      "text/plain": [
       "<seaborn.axisgrid.FacetGrid at 0x7fa50d829670>"
      ]
     },
     "execution_count": 21,
     "metadata": {},
     "output_type": "execute_result"
    },
    {
     "data": {
      "image/png": "[encoded data removed]",
      "text/plain": [
       "<Figure size 814.375x700 with 1 Axes>"
      ]
     },
     "metadata": {},
     "output_type": "display_data"
    }
   ],
   "source": [
    "# Create a dataframe of rating and total sales by region\n",
    "esrb_regional_sales = games_filtered.groupby('rating')[['na_sales','eu_sales','jp_sales']].sum().reset_index()\n",
    "\n",
    "# Pivot the esrb_regional_sales data to get data in format for bar chart\n",
    "pivoted_esrb_regional_sales = pd.melt(esrb_regional_sales, value_vars =['na_sales','eu_sales','jp_sales'], id_vars = 'rating' )\n",
    "\n",
    "# Create a bar chart that plots ESRB sales by region\n",
    "sns.catplot(data=pivoted_esrb_regional_sales, x=\"variable\", y=\"value\", kind=\"bar\", hue='rating', height=7)"
   ]
  },
  {
   "cell_type": "markdown",
   "metadata": {},
   "source": [
    "ESRB ratings do affect sales in different regions. From what we can see in the data, it appears as if Japan doesn't rate their games on the ESRB scale due to the fact that so many of Japanese games have 'Unknown' as its rating. Both Europe and North America have high sales for games in the Mature and Everybody rating categories\n",
    "\n",
    "## Testing statistical hypotheses\n",
    "\n",
    "### Average user ratings of the Xbox One and PC platforms are the same"
   ]
  },
  {
   "cell_type": "code",
   "execution_count": 22,
   "metadata": {},
   "outputs": [
    {
     "name": "stdout",
     "output_type": "stream",
     "text": [
      "The number of Xbox One ratings is: 165\n",
      "The number of PC ratings is: 122\n",
      "float64\n",
      "float64\n",
      "p-value:  0.10450507919348478\n",
      "The average user rating for the Xbox One is 65.95\n",
      "The average user rating for the PC is 62.98\n",
      "We can't reject the null hypothesis - There is no difference in average user rating for the Xbox One and PC platforms.\n"
     ]
    }
   ],
   "source": [
    "# Null Hypothesis - \"There is no difference in average user ratings of the Xbox One and PC platforms\"\n",
    "# Alternative Hypothesis - \"There is a difference in average user ratings of the Xbox One and PC platforms\"\n",
    "\n",
    "# Get Xbox One Ratings Where User Score is Greater Than 0\n",
    "# Remove user_scores of 0 because I set user score of 0 to be the value when user score is missing\n",
    "xbox_one_ratings = games_filtered[(games_filtered['user_score'] > 0) & (games_filtered['platform'] == 'XOne')]['user_score']\n",
    "\n",
    "# Get PC Ratings Where User Score is Greater Than 0\n",
    "# Remove user_scores of 0 because I set user score of 0 to be the value when user score is missing\n",
    "pc_ratings = games_filtered[(games_filtered['user_score'] > 0) & (games_filtered['platform'] == 'PC')]['user_score']\n",
    "\n",
    "# Print the number of values in each list to see if there is a similiarly equal and large enough sample size\n",
    "print('The number of Xbox One ratings is:', len(xbox_one_ratings))\n",
    "print('The number of PC ratings is:', len(pc_ratings))\n",
    "\n",
    "# I was getting errors with the data type for t-test so I had to convert from object to float\n",
    "xbox_one_ratings = np.array(xbox_one_ratings, dtype=float)\n",
    "pc_ratings = np.array(pc_ratings, dtype=float)\n",
    "\n",
    "# Confirming the data switched from object to float\n",
    "print(np.array(xbox_one_ratings).dtype)\n",
    "print(np.array(pc_ratings).dtype)\n",
    "\n",
    "# Critical statistical significance level\n",
    "# If the p-value is less than alpha, we reject the hypothesis\n",
    "alpha = 0.05  \n",
    "\n",
    "# In order to test the hypothesis that the means of the two statistical populations are equal based on samples taken from them, apply the independent t-test \n",
    "results = st.ttest_ind(xbox_one_ratings, pc_ratings)\n",
    "\n",
    "print('p-value: ', results.pvalue)\n",
    "print('The average user rating for the Xbox One is',round(xbox_one_ratings.mean(),2))\n",
    "print('The average user rating for the PC is',round(pc_ratings.mean(),2))\n",
    "\n",
    "if results.pvalue < alpha:\n",
    "    print(\"We reject the null hypothesis - There is a difference in average user rating for the Xbox One and PC platforms.\")\n",
    "else:\n",
    "    print(\"We can't reject the null hypothesis - There is no difference in average user rating for the Xbox One and PC platforms.\") "
   ]
  },
  {
   "cell_type": "markdown",
   "metadata": {},
   "source": [
    "### Average user ratings for the Action and Sports genres are different"
   ]
  },
  {
   "cell_type": "code",
   "execution_count": 23,
   "metadata": {},
   "outputs": [
    {
     "name": "stdout",
     "output_type": "stream",
     "text": [
      "The number of Action genre ratings is: 297\n",
      "The number of Sports genre ratings is: 127\n",
      "float64\n",
      "float64\n",
      "p-value:  2.871114798510669e-19\n",
      "The average user rating for the Action genre is 67.61\n",
      "The average user rating for the Sports genre is 52.25\n",
      "We reject the null hypothesis - There is a difference in average user rating of the Action and Sports genres.\n"
     ]
    }
   ],
   "source": [
    "# Null Hypothesis: \"There is no difference in average user ratings of the Action and Sports genres\"\n",
    "# Alternative Hypothesis: \"There is a difference in average user ratings of the Action and Sports genres\"\n",
    "\n",
    "# Get Action Ratings Where User Score is Greater Than 0\n",
    "# Remove user_scores of 0 because I set user score of 0 to be the value when user score is missing\n",
    "action_ratings = games_filtered[(games_filtered['user_score'] > 0) & (games_filtered['genre'] == 'Action')]['user_score']\n",
    "\n",
    "# Get Sports Ratings Where User Score is Greater Than 0\n",
    "# Remove user_scores of 0 because I set user score of 0 to be the value when user score is missing\n",
    "sports_ratings = games_filtered[(games_filtered['user_score'] > 0) & (games_filtered['genre'] == 'Sports')]['user_score']\n",
    "\n",
    "# Print the number of values in each list to see if there is a similiarly equal and large enough sample size\n",
    "print('The number of Action genre ratings is:', len(action_ratings))\n",
    "print('The number of Sports genre ratings is:', len(sports_ratings))\n",
    "\n",
    "# I was getting errors with the data type for t-test so I had to convert from object to float\n",
    "action_ratings = np.array(action_ratings, dtype=float)\n",
    "sports_ratings = np.array(sports_ratings, dtype=float)\n",
    "\n",
    "# Confirming the data switched from object to float\n",
    "print(np.array(action_ratings).dtype)\n",
    "print(np.array(sports_ratings).dtype)\n",
    "\n",
    "# Critical statistical significance level\n",
    "# If the p-value is less than alpha, we reject the hypothesis\n",
    "alpha = 0.05  \n",
    "\n",
    "# In order to test the hypothesis that the means of the two statistical populations are equal based on samples taken from them, apply the independent t-test \n",
    "results = st.ttest_ind(action_ratings, sports_ratings)\n",
    "\n",
    "print('p-value: ', results.pvalue)\n",
    "print('The average user rating for the Action genre is',round(action_ratings.mean(),2))\n",
    "print('The average user rating for the Sports genre is',round(sports_ratings.mean(),2))\n",
    "\n",
    "if results.pvalue < alpha:\n",
    "    print(\"We reject the null hypothesis - There is a difference in average user rating of the Action and Sports genres.\")\n",
    "else:\n",
    "    print(\"We can't reject the null hypothesis - There is a difference in average user rating of the Action and Sports genres.\") "
   ]
  },
  {
   "cell_type": "markdown",
   "metadata": {},
   "source": [
    "## Conclusion\n",
    "\n",
    "Recall that it's December 2016 and I'm planning a video game advertising campaign for 2017. From my analysis of video game sales data from 2014 through 2016, I have a few important takeaways that I think will help my business sell more games in 2017 based on what we've historically seen in the past few years:\n",
    "\n",
    "- The platforms with high sales and popularity going into 2017 are the 3DS, PS4, and Xbox One.\n",
    "- In North America, the highest grossing genres are similiar to those in Europe: Shooters, Action, Sports, and Role-Playing.\n",
    "- In Japan, the top genres by sales are Role-Playing and Action. \n",
    "- Games with E or M ratings tend to have higher sales compared to games with other ESRB ratings.\n",
    "- There is a moderate positive correlation (r = 0.403) between critic score and sales for the PS4. It would be beneficial to check if this holds true across other platforms to ensure awareness of any high critic scores.\n",
    "\n",
    "With these insights, I recommend optimizing the 2017 advertising campaign by prioritizing the following:\n",
    "- Platforms: 3DS, PlayStation 4, Xbox One\n",
    "- Genres (North America, Europe): Shooter, Action, Sports, Role-Playing\n",
    "- Genres (Japan): Action, Role-Playing\n",
    "- ESRB Rating: E, M\n",
    "- Critic Score: Prioritize higher scores (at least for PS4 games)\n",
    "\n",
    "By prioritizing the above areas, thereby adjusting to market trends, I believe the Ice online store will be able to maximize sales in 2017."
   ]
  }
 ],
 "metadata": {
  "ExecuteTimeLog": [
   {
    "duration": 2482,
    "start_time": "2024-11-13T15:03:07.299Z"
   },
   {
    "duration": 3,
    "start_time": "2024-11-13T15:10:23.437Z"
   },
   {
    "duration": 570,
    "start_time": "2024-11-13T15:10:24.866Z"
   },
   {
    "duration": 59,
    "start_time": "2024-11-13T15:10:42.818Z"
   },
   {
    "duration": 59,
    "start_time": "2024-11-13T15:10:51.474Z"
   },
   {
    "duration": 57,
    "start_time": "2024-11-13T15:10:53.850Z"
   },
   {
    "duration": 60,
    "start_time": "2024-11-13T15:10:59.698Z"
   },
   {
    "duration": 68,
    "start_time": "2024-11-13T15:11:02.406Z"
   },
   {
    "duration": 14,
    "start_time": "2024-11-13T15:13:00.575Z"
   },
   {
    "duration": 2,
    "start_time": "2024-11-13T15:15:24.664Z"
   },
   {
    "duration": 2,
    "start_time": "2024-11-13T15:15:25.698Z"
   },
   {
    "duration": 3,
    "start_time": "2024-11-13T15:16:58.341Z"
   },
   {
    "duration": 3,
    "start_time": "2024-11-13T19:48:45.686Z"
   },
   {
    "duration": 59,
    "start_time": "2024-11-13T19:48:45.691Z"
   },
   {
    "duration": 0,
    "start_time": "2024-11-13T19:48:45.752Z"
   },
   {
    "duration": 0,
    "start_time": "2024-11-13T19:48:45.753Z"
   },
   {
    "duration": 0,
    "start_time": "2024-11-13T19:48:45.757Z"
   },
   {
    "duration": 0,
    "start_time": "2024-11-13T19:48:45.758Z"
   },
   {
    "duration": 0,
    "start_time": "2024-11-13T19:48:45.760Z"
   },
   {
    "duration": 0,
    "start_time": "2024-11-13T19:48:45.762Z"
   },
   {
    "duration": 0,
    "start_time": "2024-11-13T19:48:45.763Z"
   },
   {
    "duration": 0,
    "start_time": "2024-11-13T19:48:45.765Z"
   },
   {
    "duration": 0,
    "start_time": "2024-11-13T19:48:45.766Z"
   },
   {
    "duration": 0,
    "start_time": "2024-11-13T19:48:45.768Z"
   },
   {
    "duration": 0,
    "start_time": "2024-11-13T19:48:45.769Z"
   },
   {
    "duration": 0,
    "start_time": "2024-11-13T19:48:45.770Z"
   },
   {
    "duration": 42,
    "start_time": "2024-11-13T19:48:45.773Z"
   },
   {
    "duration": 0,
    "start_time": "2024-11-13T19:48:45.817Z"
   },
   {
    "duration": 0,
    "start_time": "2024-11-13T19:48:45.818Z"
   },
   {
    "duration": 0,
    "start_time": "2024-11-13T19:48:45.820Z"
   },
   {
    "duration": 0,
    "start_time": "2024-11-13T19:48:45.821Z"
   },
   {
    "duration": 1,
    "start_time": "2024-11-13T19:48:45.822Z"
   },
   {
    "duration": 0,
    "start_time": "2024-11-13T19:48:45.823Z"
   },
   {
    "duration": 0,
    "start_time": "2024-11-13T19:48:45.825Z"
   },
   {
    "duration": 24,
    "start_time": "2024-11-13T19:48:45.827Z"
   },
   {
    "duration": 844,
    "start_time": "2024-11-13T19:52:06.558Z"
   },
   {
    "duration": 561,
    "start_time": "2024-11-13T19:52:07.405Z"
   },
   {
    "duration": 0,
    "start_time": "2024-11-13T19:52:07.968Z"
   },
   {
    "duration": 0,
    "start_time": "2024-11-13T19:52:07.970Z"
   },
   {
    "duration": 0,
    "start_time": "2024-11-13T19:52:07.971Z"
   },
   {
    "duration": 0,
    "start_time": "2024-11-13T19:52:07.972Z"
   },
   {
    "duration": 0,
    "start_time": "2024-11-13T19:52:07.972Z"
   },
   {
    "duration": 0,
    "start_time": "2024-11-13T19:52:07.974Z"
   },
   {
    "duration": 0,
    "start_time": "2024-11-13T19:52:07.975Z"
   },
   {
    "duration": 0,
    "start_time": "2024-11-13T19:52:07.976Z"
   },
   {
    "duration": 0,
    "start_time": "2024-11-13T19:52:07.977Z"
   },
   {
    "duration": 0,
    "start_time": "2024-11-13T19:52:07.978Z"
   },
   {
    "duration": 0,
    "start_time": "2024-11-13T19:52:07.979Z"
   },
   {
    "duration": 0,
    "start_time": "2024-11-13T19:52:08.005Z"
   },
   {
    "duration": 0,
    "start_time": "2024-11-13T19:52:08.006Z"
   },
   {
    "duration": 0,
    "start_time": "2024-11-13T19:52:08.007Z"
   },
   {
    "duration": 0,
    "start_time": "2024-11-13T19:52:08.009Z"
   },
   {
    "duration": 0,
    "start_time": "2024-11-13T19:52:08.010Z"
   },
   {
    "duration": 0,
    "start_time": "2024-11-13T19:52:08.011Z"
   },
   {
    "duration": 0,
    "start_time": "2024-11-13T19:52:08.012Z"
   },
   {
    "duration": 0,
    "start_time": "2024-11-13T19:52:08.013Z"
   },
   {
    "duration": 0,
    "start_time": "2024-11-13T19:52:08.014Z"
   },
   {
    "duration": 0,
    "start_time": "2024-11-13T19:52:08.015Z"
   },
   {
    "duration": 3,
    "start_time": "2024-11-13T19:59:55.203Z"
   },
   {
    "duration": 8,
    "start_time": "2024-11-13T19:59:56.202Z"
   },
   {
    "duration": 4,
    "start_time": "2024-11-13T20:00:08.526Z"
   },
   {
    "duration": 62,
    "start_time": "2024-11-13T20:01:21.817Z"
   },
   {
    "duration": 58,
    "start_time": "2024-11-13T20:01:25.855Z"
   },
   {
    "duration": 60,
    "start_time": "2024-11-13T20:02:38.211Z"
   },
   {
    "duration": 63,
    "start_time": "2024-11-13T20:08:20.397Z"
   },
   {
    "duration": 6,
    "start_time": "2024-11-13T20:09:14.959Z"
   },
   {
    "duration": 58,
    "start_time": "2024-11-13T20:09:27.471Z"
   },
   {
    "duration": 63,
    "start_time": "2024-11-13T20:10:00.724Z"
   },
   {
    "duration": 59,
    "start_time": "2024-11-13T20:10:21.111Z"
   },
   {
    "duration": 63,
    "start_time": "2024-11-13T20:11:03.607Z"
   },
   {
    "duration": 2552,
    "start_time": "2024-11-20T23:49:17.389Z"
   },
   {
    "duration": 590,
    "start_time": "2024-11-20T23:49:22.774Z"
   },
   {
    "duration": 60,
    "start_time": "2024-11-20T23:49:45.395Z"
   },
   {
    "duration": 5,
    "start_time": "2024-11-20T23:50:13.587Z"
   },
   {
    "duration": 62,
    "start_time": "2024-11-20T23:50:19.594Z"
   },
   {
    "duration": 61,
    "start_time": "2024-11-20T23:50:31.957Z"
   },
   {
    "duration": 59,
    "start_time": "2024-11-20T23:52:39.477Z"
   },
   {
    "duration": 58,
    "start_time": "2024-11-20T23:52:42.237Z"
   },
   {
    "duration": 59,
    "start_time": "2024-11-20T23:53:32.137Z"
   },
   {
    "duration": 62,
    "start_time": "2024-11-20T23:54:03.239Z"
   },
   {
    "duration": 58,
    "start_time": "2024-11-20T23:56:13.558Z"
   },
   {
    "duration": 61,
    "start_time": "2024-11-20T23:56:57.462Z"
   },
   {
    "duration": 58,
    "start_time": "2024-11-21T00:02:50.318Z"
   },
   {
    "duration": 3,
    "start_time": "2024-11-21T00:03:26.090Z"
   },
   {
    "duration": 57,
    "start_time": "2024-11-21T00:03:28.109Z"
   },
   {
    "duration": 59,
    "start_time": "2024-11-21T00:04:01.137Z"
   },
   {
    "duration": 59,
    "start_time": "2024-11-21T00:04:19.614Z"
   },
   {
    "duration": 61,
    "start_time": "2024-11-21T00:05:05.370Z"
   },
   {
    "duration": 14,
    "start_time": "2024-11-21T00:06:11.693Z"
   },
   {
    "duration": 3,
    "start_time": "2024-11-21T00:06:15.298Z"
   },
   {
    "duration": 61,
    "start_time": "2024-11-21T00:06:17.333Z"
   },
   {
    "duration": 59,
    "start_time": "2024-11-21T00:06:50.478Z"
   },
   {
    "duration": 18,
    "start_time": "2024-11-21T00:07:24.708Z"
   },
   {
    "duration": 14,
    "start_time": "2024-11-21T00:07:31.306Z"
   },
   {
    "duration": 14,
    "start_time": "2024-11-21T00:07:44.605Z"
   },
   {
    "duration": 40,
    "start_time": "2024-11-21T00:11:02.253Z"
   },
   {
    "duration": 23,
    "start_time": "2024-11-21T00:11:05.727Z"
   },
   {
    "duration": 3,
    "start_time": "2024-11-21T00:12:13.306Z"
   },
   {
    "duration": 18,
    "start_time": "2024-11-21T00:13:49.378Z"
   },
   {
    "duration": 18,
    "start_time": "2024-11-21T00:14:31.298Z"
   },
   {
    "duration": 25,
    "start_time": "2024-11-21T00:14:45.176Z"
   },
   {
    "duration": 26,
    "start_time": "2024-11-21T00:15:19.245Z"
   },
   {
    "duration": 825,
    "start_time": "2024-11-21T00:15:34.395Z"
   },
   {
    "duration": 23,
    "start_time": "2024-11-21T00:15:35.223Z"
   },
   {
    "duration": 21,
    "start_time": "2024-11-21T00:15:35.248Z"
   },
   {
    "duration": 3,
    "start_time": "2024-11-21T00:15:35.270Z"
   },
   {
    "duration": 44,
    "start_time": "2024-11-21T00:15:35.275Z"
   },
   {
    "duration": 11,
    "start_time": "2024-11-21T00:15:35.322Z"
   },
   {
    "duration": 14,
    "start_time": "2024-11-21T00:15:35.335Z"
   },
   {
    "duration": 387,
    "start_time": "2024-11-21T00:15:35.350Z"
   },
   {
    "duration": 373,
    "start_time": "2024-11-21T00:15:35.738Z"
   },
   {
    "duration": 323,
    "start_time": "2024-11-21T00:15:36.113Z"
   },
   {
    "duration": 22,
    "start_time": "2024-11-21T00:15:36.438Z"
   },
   {
    "duration": 6,
    "start_time": "2024-11-21T00:15:36.461Z"
   },
   {
    "duration": 7,
    "start_time": "2024-11-21T00:15:36.468Z"
   },
   {
    "duration": 3,
    "start_time": "2024-11-21T00:15:36.478Z"
   },
   {
    "duration": 282,
    "start_time": "2024-11-21T00:15:36.483Z"
   },
   {
    "duration": 161,
    "start_time": "2024-11-21T00:15:36.767Z"
   },
   {
    "duration": 137,
    "start_time": "2024-11-21T00:15:36.930Z"
   },
   {
    "duration": 1171,
    "start_time": "2024-11-21T00:15:37.069Z"
   },
   {
    "duration": 408,
    "start_time": "2024-11-21T00:15:38.242Z"
   },
   {
    "duration": 391,
    "start_time": "2024-11-21T00:15:38.653Z"
   },
   {
    "duration": 360,
    "start_time": "2024-11-21T00:15:39.046Z"
   },
   {
    "duration": 590,
    "start_time": "2024-11-21T00:15:39.412Z"
   },
   {
    "duration": 1,
    "start_time": "2024-11-21T00:15:40.003Z"
   },
   {
    "duration": 12,
    "start_time": "2024-11-21T00:17:05.730Z"
   },
   {
    "duration": 10,
    "start_time": "2024-11-21T00:17:19.879Z"
   },
   {
    "duration": 14,
    "start_time": "2024-11-21T00:18:47.205Z"
   },
   {
    "duration": 354,
    "start_time": "2024-11-21T00:21:42.688Z"
   },
   {
    "duration": 358,
    "start_time": "2024-11-21T00:21:54.496Z"
   },
   {
    "duration": 438,
    "start_time": "2024-11-21T00:22:41.318Z"
   },
   {
    "duration": 730,
    "start_time": "2024-11-21T00:22:57.281Z"
   },
   {
    "duration": 387,
    "start_time": "2024-11-21T00:23:04.467Z"
   },
   {
    "duration": 348,
    "start_time": "2024-11-21T00:23:20.605Z"
   },
   {
    "duration": 351,
    "start_time": "2024-11-21T00:23:25.803Z"
   },
   {
    "duration": 342,
    "start_time": "2024-11-21T00:23:46.780Z"
   },
   {
    "duration": 333,
    "start_time": "2024-11-21T00:24:02.345Z"
   },
   {
    "duration": 298,
    "start_time": "2024-11-21T00:24:23.378Z"
   },
   {
    "duration": 330,
    "start_time": "2024-11-21T00:24:46.307Z"
   },
   {
    "duration": 338,
    "start_time": "2024-11-21T00:26:38.922Z"
   },
   {
    "duration": 4,
    "start_time": "2024-11-21T00:27:02.754Z"
   },
   {
    "duration": 455,
    "start_time": "2024-11-21T00:27:07.810Z"
   },
   {
    "duration": 6,
    "start_time": "2024-11-21T00:28:07.546Z"
   },
   {
    "duration": 332,
    "start_time": "2024-11-21T00:28:33.971Z"
   },
   {
    "duration": 325,
    "start_time": "2024-11-21T00:28:40.338Z"
   },
   {
    "duration": 300,
    "start_time": "2024-11-21T00:29:03.978Z"
   },
   {
    "duration": 472,
    "start_time": "2024-11-21T00:29:12.241Z"
   },
   {
    "duration": 153,
    "start_time": "2024-11-21T01:12:43.701Z"
   },
   {
    "duration": 156,
    "start_time": "2024-11-21T01:12:49.827Z"
   },
   {
    "duration": 151,
    "start_time": "2024-11-21T01:13:11.158Z"
   },
   {
    "duration": 47,
    "start_time": "2024-11-21T01:20:06.647Z"
   },
   {
    "duration": 804,
    "start_time": "2024-11-21T01:20:23.792Z"
   },
   {
    "duration": 28,
    "start_time": "2024-11-21T01:20:24.598Z"
   },
   {
    "duration": 23,
    "start_time": "2024-11-21T01:20:24.627Z"
   },
   {
    "duration": 2,
    "start_time": "2024-11-21T01:20:24.653Z"
   },
   {
    "duration": 25,
    "start_time": "2024-11-21T01:20:24.657Z"
   },
   {
    "duration": 42,
    "start_time": "2024-11-21T01:20:24.684Z"
   },
   {
    "duration": 16,
    "start_time": "2024-11-21T01:20:24.727Z"
   },
   {
    "duration": 387,
    "start_time": "2024-11-21T01:20:24.744Z"
   },
   {
    "duration": 366,
    "start_time": "2024-11-21T01:20:25.133Z"
   },
   {
    "duration": 350,
    "start_time": "2024-11-21T01:20:25.503Z"
   },
   {
    "duration": 24,
    "start_time": "2024-11-21T01:20:25.856Z"
   },
   {
    "duration": 7,
    "start_time": "2024-11-21T01:20:25.882Z"
   },
   {
    "duration": 25,
    "start_time": "2024-11-21T01:20:25.890Z"
   },
   {
    "duration": 4,
    "start_time": "2024-11-21T01:20:25.916Z"
   },
   {
    "duration": 273,
    "start_time": "2024-11-21T01:20:25.922Z"
   },
   {
    "duration": 168,
    "start_time": "2024-11-21T01:20:26.196Z"
   },
   {
    "duration": 146,
    "start_time": "2024-11-21T01:20:26.366Z"
   },
   {
    "duration": 1187,
    "start_time": "2024-11-21T01:20:26.513Z"
   },
   {
    "duration": 442,
    "start_time": "2024-11-21T01:20:27.702Z"
   },
   {
    "duration": 400,
    "start_time": "2024-11-21T01:20:28.146Z"
   },
   {
    "duration": 366,
    "start_time": "2024-11-21T01:20:28.549Z"
   },
   {
    "duration": 584,
    "start_time": "2024-11-21T01:20:28.918Z"
   },
   {
    "duration": 0,
    "start_time": "2024-11-21T01:20:29.512Z"
   },
   {
    "duration": 49,
    "start_time": "2024-11-21T01:21:50.550Z"
   },
   {
    "duration": 843,
    "start_time": "2024-11-21T01:23:35.249Z"
   },
   {
    "duration": 30,
    "start_time": "2024-11-21T01:23:36.094Z"
   },
   {
    "duration": 24,
    "start_time": "2024-11-21T01:23:36.125Z"
   },
   {
    "duration": 3,
    "start_time": "2024-11-21T01:23:36.151Z"
   },
   {
    "duration": 26,
    "start_time": "2024-11-21T01:23:36.156Z"
   },
   {
    "duration": 31,
    "start_time": "2024-11-21T01:23:36.183Z"
   },
   {
    "duration": 13,
    "start_time": "2024-11-21T01:23:36.216Z"
   },
   {
    "duration": 373,
    "start_time": "2024-11-21T01:23:36.231Z"
   },
   {
    "duration": 374,
    "start_time": "2024-11-21T01:23:36.606Z"
   },
   {
    "duration": 347,
    "start_time": "2024-11-21T01:23:36.983Z"
   },
   {
    "duration": 22,
    "start_time": "2024-11-21T01:23:37.332Z"
   },
   {
    "duration": 7,
    "start_time": "2024-11-21T01:23:37.356Z"
   },
   {
    "duration": 6,
    "start_time": "2024-11-21T01:23:37.365Z"
   },
   {
    "duration": 4,
    "start_time": "2024-11-21T01:23:37.373Z"
   },
   {
    "duration": 290,
    "start_time": "2024-11-21T01:23:37.378Z"
   },
   {
    "duration": 164,
    "start_time": "2024-11-21T01:23:37.670Z"
   },
   {
    "duration": 143,
    "start_time": "2024-11-21T01:23:37.836Z"
   },
   {
    "duration": 1171,
    "start_time": "2024-11-21T01:23:37.981Z"
   },
   {
    "duration": 416,
    "start_time": "2024-11-21T01:23:39.154Z"
   },
   {
    "duration": 439,
    "start_time": "2024-11-21T01:23:39.572Z"
   },
   {
    "duration": 389,
    "start_time": "2024-11-21T01:23:40.013Z"
   },
   {
    "duration": 593,
    "start_time": "2024-11-21T01:23:40.404Z"
   },
   {
    "duration": 0,
    "start_time": "2024-11-21T01:23:40.999Z"
   },
   {
    "duration": 48,
    "start_time": "2024-11-21T01:24:04.091Z"
   },
   {
    "duration": 49,
    "start_time": "2024-11-21T01:28:57.486Z"
   },
   {
    "duration": 49,
    "start_time": "2024-11-21T01:30:01.573Z"
   },
   {
    "duration": 49,
    "start_time": "2024-11-21T01:30:30.596Z"
   },
   {
    "duration": 9,
    "start_time": "2024-11-21T01:31:10.643Z"
   },
   {
    "duration": 9,
    "start_time": "2024-11-21T01:32:22.962Z"
   },
   {
    "duration": 162,
    "start_time": "2024-11-25T15:44:26.317Z"
   },
   {
    "duration": 14,
    "start_time": "2024-11-25T15:44:38.582Z"
   },
   {
    "duration": 2513,
    "start_time": "2024-11-25T15:44:50.049Z"
   },
   {
    "duration": 39,
    "start_time": "2024-11-25T15:44:52.564Z"
   },
   {
    "duration": 24,
    "start_time": "2024-11-25T15:44:52.604Z"
   },
   {
    "duration": 3,
    "start_time": "2024-11-25T15:44:52.629Z"
   },
   {
    "duration": 25,
    "start_time": "2024-11-25T15:44:52.635Z"
   },
   {
    "duration": 10,
    "start_time": "2024-11-25T15:44:52.661Z"
   },
   {
    "duration": 38,
    "start_time": "2024-11-25T15:44:52.673Z"
   },
   {
    "duration": 360,
    "start_time": "2024-11-25T15:44:52.712Z"
   },
   {
    "duration": 325,
    "start_time": "2024-11-25T15:44:53.075Z"
   },
   {
    "duration": 343,
    "start_time": "2024-11-25T15:44:53.402Z"
   },
   {
    "duration": 23,
    "start_time": "2024-11-25T15:44:53.747Z"
   },
   {
    "duration": 6,
    "start_time": "2024-11-25T15:44:53.772Z"
   },
   {
    "duration": 5,
    "start_time": "2024-11-25T15:44:53.780Z"
   },
   {
    "duration": 21,
    "start_time": "2024-11-25T15:44:53.788Z"
   },
   {
    "duration": 282,
    "start_time": "2024-11-25T15:44:53.811Z"
   },
   {
    "duration": 230,
    "start_time": "2024-11-25T15:44:54.095Z"
   },
   {
    "duration": 140,
    "start_time": "2024-11-25T15:44:54.328Z"
   },
   {
    "duration": 1131,
    "start_time": "2024-11-25T15:44:54.470Z"
   },
   {
    "duration": 447,
    "start_time": "2024-11-25T15:44:55.603Z"
   },
   {
    "duration": 389,
    "start_time": "2024-11-25T15:44:56.051Z"
   },
   {
    "duration": 454,
    "start_time": "2024-11-25T15:44:56.442Z"
   },
   {
    "duration": 15,
    "start_time": "2024-11-25T15:44:56.898Z"
   },
   {
    "duration": 8,
    "start_time": "2024-11-25T15:44:56.915Z"
   },
   {
    "duration": 415,
    "start_time": "2024-11-25T15:47:07.197Z"
   },
   {
    "duration": 350,
    "start_time": "2024-11-25T15:47:11.957Z"
   },
   {
    "duration": 791,
    "start_time": "2024-11-27T18:15:14.653Z"
   },
   {
    "duration": 36,
    "start_time": "2024-11-27T18:15:15.446Z"
   },
   {
    "duration": 22,
    "start_time": "2024-11-27T18:15:15.484Z"
   },
   {
    "duration": 3,
    "start_time": "2024-11-27T18:15:15.508Z"
   },
   {
    "duration": 25,
    "start_time": "2024-11-27T18:15:15.513Z"
   },
   {
    "duration": 10,
    "start_time": "2024-11-27T18:15:15.539Z"
   },
   {
    "duration": 47,
    "start_time": "2024-11-27T18:15:15.551Z"
   },
   {
    "duration": 356,
    "start_time": "2024-11-27T18:15:15.600Z"
   },
   {
    "duration": 360,
    "start_time": "2024-11-27T18:15:15.958Z"
   },
   {
    "duration": 339,
    "start_time": "2024-11-27T18:15:16.321Z"
   },
   {
    "duration": 26,
    "start_time": "2024-11-27T18:15:16.662Z"
   },
   {
    "duration": 6,
    "start_time": "2024-11-27T18:15:16.690Z"
   },
   {
    "duration": 6,
    "start_time": "2024-11-27T18:15:16.698Z"
   },
   {
    "duration": 4,
    "start_time": "2024-11-27T18:15:16.705Z"
   },
   {
    "duration": 284,
    "start_time": "2024-11-27T18:15:16.710Z"
   },
   {
    "duration": 168,
    "start_time": "2024-11-27T18:15:16.996Z"
   },
   {
    "duration": 152,
    "start_time": "2024-11-27T18:15:17.166Z"
   },
   {
    "duration": 1207,
    "start_time": "2024-11-27T18:15:17.320Z"
   },
   {
    "duration": 395,
    "start_time": "2024-11-27T18:15:18.529Z"
   },
   {
    "duration": 395,
    "start_time": "2024-11-27T18:15:18.926Z"
   },
   {
    "duration": 372,
    "start_time": "2024-11-27T18:15:19.323Z"
   },
   {
    "duration": 9,
    "start_time": "2024-11-27T18:15:19.697Z"
   },
   {
    "duration": 8,
    "start_time": "2024-11-27T18:15:19.708Z"
   }
  ],
  "kernelspec": {
   "display_name": "Python 3 (ipykernel)",
   "language": "python",
   "name": "python3"
  },
  "language_info": {
   "codemirror_mode": {
    "name": "ipython",
    "version": 3
   },
   "file_extension": ".py",
   "mimetype": "text/x-python",
   "name": "python",
   "nbconvert_exporter": "python",
   "pygments_lexer": "ipython3",
   "version": "3.9.19"
  },
  "toc": {
   "base_numbering": 1,
   "nav_menu": {},
   "number_sections": true,
   "sideBar": true,
   "skip_h1_title": true,
   "title_cell": "Table of Contents",
   "title_sidebar": "Contents",
   "toc_cell": false,
   "toc_position": {},
   "toc_section_display": true,
   "toc_window_display": false
  }
 },
 "nbformat": 4,
 "nbformat_minor": 2
}
