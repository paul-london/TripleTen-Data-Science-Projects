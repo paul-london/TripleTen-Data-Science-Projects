{
 "cells": [
  {
   "cell_type": "markdown",
   "metadata": {},
   "source": [
    "# Sprint 8 Project: Supervised Learning\n",
    "\n",
    "## Introduction\n",
    "\n",
    "Beta Bank customers are slowly closing their accounts and leaving the bank. It has been discovered that it is cheaper to retain existing customers than to attract new ones. I work as an analyst for Beta Bank and have been tasked with predicting whether a customer will leave the bank soon in order to attempt to keep them.\n",
    "\n",
    "To accomplish this, I will:\n",
    "- Download and prepare the data\n",
    "- Example and prepare classes of data, training models without taking into account class imbalance\n",
    "- Improve the quality of the models by taking into account class imbalance\n",
    "- Determine which model is the best fit for the dataset\n",
    "- Assess model quality by analyzing various performance metrics\n",
    "\n",
    "My model criteria will be:\n",
    "- Maximum possible F1 Score that is greater than or equal to 0.59\n",
    "\n",
    "## Import Libraries"
   ]
  },
  {
   "cell_type": "code",
   "execution_count": 1,
   "metadata": {},
   "outputs": [],
   "source": [
    "# Import libraries required for the project\n",
    "import pandas as pd\n",
    "import numpy as np\n",
    "import matplotlib.pyplot as plt\n",
    "\n",
    "# From sklearn get classification models, model evaluation packages, and training data split\n",
    "from sklearn.tree import DecisionTreeClassifier\n",
    "from sklearn.ensemble import RandomForestClassifier\n",
    "from sklearn.linear_model import LogisticRegression\n",
    "\n",
    "# Split dataset for training\n",
    "from sklearn.model_selection import train_test_split\n",
    "\n",
    "# For feature scaling\n",
    "from sklearn.preprocessing import StandardScaler\n",
    "\n",
    "# For upsampling shuffle\n",
    "from sklearn.utils import shuffle\n",
    "\n",
    "# Metrics\n",
    "from sklearn.metrics import accuracy_score, confusion_matrix, recall_score, precision_score, f1_score, roc_curve, roc_auc_score\n",
    "\n",
    "# Show all columns when displaying dataframe\n",
    "pd.set_option('display.max_columns', None)"
   ]
  },
  {
   "cell_type": "markdown",
   "metadata": {},
   "source": [
    "## Read in and Explore Data\n",
    "\n",
    "### Read in Data"
   ]
  },
  {
   "cell_type": "code",
   "execution_count": 2,
   "metadata": {},
   "outputs": [],
   "source": [
    "# Read CSV and save as churn dataframe\n",
    "churn = pd.read_csv('/datasets/Churn.csv')"
   ]
  },
  {
   "cell_type": "markdown",
   "metadata": {},
   "source": [
    "### Description of Fields in Data\n",
    "Below is a description for all of the fields in the dataset that I will be working with to build and train my models\n",
    "\n",
    "**Features**\n",
    "\n",
    "- *RowNumber* — data string index\n",
    "- *CustomerId* — unique customer identifier\n",
    "- *Surname* — surname\n",
    "- *CreditScore* — credit score\n",
    "- *Geography* — country of residence\n",
    "- *Gender* — gender\n",
    "- *Age* — age\n",
    "- *Tenure* — period of maturation for a customer’s fixed deposit (years)\n",
    "- *Balance* — account balance\n",
    "- *NumOfProducts* — number of banking products used by the customer\n",
    "- *HasCrCard* — customer has a credit card\n",
    "- *IsActiveMember* — customer’s activeness\n",
    "- *EstimatedSalary* — estimated salary\n",
    "\n",
    "**Target**\n",
    "\n",
    "- *Exited* — сustomer has left"
   ]
  },
  {
   "cell_type": "markdown",
   "metadata": {},
   "source": [
    "### Explore Data"
   ]
  },
  {
   "cell_type": "code",
   "execution_count": 3,
   "metadata": {},
   "outputs": [
    {
     "name": "stdout",
     "output_type": "stream",
     "text": [
      "Check for Missing Values\n",
      "RowNumber            0\n",
      "CustomerId           0\n",
      "Surname              0\n",
      "CreditScore          0\n",
      "Geography            0\n",
      "Gender               0\n",
      "Age                  0\n",
      "Tenure             909\n",
      "Balance              0\n",
      "NumOfProducts        0\n",
      "HasCrCard            0\n",
      "IsActiveMember       0\n",
      "EstimatedSalary      0\n",
      "Exited               0\n",
      "dtype: int64\n",
      "\n",
      " Describe Dataframe\n",
      "         RowNumber    CustomerId   CreditScore           Age       Tenure  \\\n",
      "count  10000.00000  1.000000e+04  10000.000000  10000.000000  9091.000000   \n",
      "mean    5000.50000  1.569094e+07    650.528800     38.921800     4.997690   \n",
      "std     2886.89568  7.193619e+04     96.653299     10.487806     2.894723   \n",
      "min        1.00000  1.556570e+07    350.000000     18.000000     0.000000   \n",
      "25%     2500.75000  1.562853e+07    584.000000     32.000000     2.000000   \n",
      "50%     5000.50000  1.569074e+07    652.000000     37.000000     5.000000   \n",
      "75%     7500.25000  1.575323e+07    718.000000     44.000000     7.000000   \n",
      "max    10000.00000  1.581569e+07    850.000000     92.000000    10.000000   \n",
      "\n",
      "             Balance  NumOfProducts    HasCrCard  IsActiveMember  \\\n",
      "count   10000.000000   10000.000000  10000.00000    10000.000000   \n",
      "mean    76485.889288       1.530200      0.70550        0.515100   \n",
      "std     62397.405202       0.581654      0.45584        0.499797   \n",
      "min         0.000000       1.000000      0.00000        0.000000   \n",
      "25%         0.000000       1.000000      0.00000        0.000000   \n",
      "50%     97198.540000       1.000000      1.00000        1.000000   \n",
      "75%    127644.240000       2.000000      1.00000        1.000000   \n",
      "max    250898.090000       4.000000      1.00000        1.000000   \n",
      "\n",
      "       EstimatedSalary        Exited  \n",
      "count     10000.000000  10000.000000  \n",
      "mean     100090.239881      0.203700  \n",
      "std       57510.492818      0.402769  \n",
      "min          11.580000      0.000000  \n",
      "25%       51002.110000      0.000000  \n",
      "50%      100193.915000      0.000000  \n",
      "75%      149388.247500      0.000000  \n",
      "max      199992.480000      1.000000  \n",
      "\n",
      " Check Data Types\n",
      "<class 'pandas.core.frame.DataFrame'>\n",
      "RangeIndex: 10000 entries, 0 to 9999\n",
      "Data columns (total 14 columns):\n",
      " #   Column           Non-Null Count  Dtype  \n",
      "---  ------           --------------  -----  \n",
      " 0   RowNumber        10000 non-null  int64  \n",
      " 1   CustomerId       10000 non-null  int64  \n",
      " 2   Surname          10000 non-null  object \n",
      " 3   CreditScore      10000 non-null  int64  \n",
      " 4   Geography        10000 non-null  object \n",
      " 5   Gender           10000 non-null  object \n",
      " 6   Age              10000 non-null  int64  \n",
      " 7   Tenure           9091 non-null   float64\n",
      " 8   Balance          10000 non-null  float64\n",
      " 9   NumOfProducts    10000 non-null  int64  \n",
      " 10  HasCrCard        10000 non-null  int64  \n",
      " 11  IsActiveMember   10000 non-null  int64  \n",
      " 12  EstimatedSalary  10000 non-null  float64\n",
      " 13  Exited           10000 non-null  int64  \n",
      "dtypes: float64(3), int64(8), object(3)\n",
      "memory usage: 1.1+ MB\n",
      "None\n",
      "\n",
      " Check for Duplicate Rows\n",
      "Empty DataFrame\n",
      "Columns: [RowNumber, CustomerId, Surname, CreditScore, Geography, Gender, Age, Tenure, Balance, NumOfProducts, HasCrCard, IsActiveMember, EstimatedSalary, Exited]\n",
      "Index: []\n",
      "\n",
      " Print First 10 Rows\n"
     ]
    },
    {
     "data": {
      "text/html": [
       "<div>\n",
       "<style scoped>\n",
       "    .dataframe tbody tr th:only-of-type {\n",
       "        vertical-align: middle;\n",
       "    }\n",
       "\n",
       "    .dataframe tbody tr th {\n",
       "        vertical-align: top;\n",
       "    }\n",
       "\n",
       "    .dataframe thead th {\n",
       "        text-align: right;\n",
       "    }\n",
       "</style>\n",
       "<table border=\"1\" class=\"dataframe\">\n",
       "  <thead>\n",
       "    <tr style=\"text-align: right;\">\n",
       "      <th></th>\n",
       "      <th>RowNumber</th>\n",
       "      <th>CustomerId</th>\n",
       "      <th>Surname</th>\n",
       "      <th>CreditScore</th>\n",
       "      <th>Geography</th>\n",
       "      <th>Gender</th>\n",
       "      <th>Age</th>\n",
       "      <th>Tenure</th>\n",
       "      <th>Balance</th>\n",
       "      <th>NumOfProducts</th>\n",
       "      <th>HasCrCard</th>\n",
       "      <th>IsActiveMember</th>\n",
       "      <th>EstimatedSalary</th>\n",
       "      <th>Exited</th>\n",
       "    </tr>\n",
       "  </thead>\n",
       "  <tbody>\n",
       "    <tr>\n",
       "      <th>0</th>\n",
       "      <td>1</td>\n",
       "      <td>15634602</td>\n",
       "      <td>Hargrave</td>\n",
       "      <td>619</td>\n",
       "      <td>France</td>\n",
       "      <td>Female</td>\n",
       "      <td>42</td>\n",
       "      <td>2.0</td>\n",
       "      <td>0.00</td>\n",
       "      <td>1</td>\n",
       "      <td>1</td>\n",
       "      <td>1</td>\n",
       "      <td>101348.88</td>\n",
       "      <td>1</td>\n",
       "    </tr>\n",
       "    <tr>\n",
       "      <th>1</th>\n",
       "      <td>2</td>\n",
       "      <td>15647311</td>\n",
       "      <td>Hill</td>\n",
       "      <td>608</td>\n",
       "      <td>Spain</td>\n",
       "      <td>Female</td>\n",
       "      <td>41</td>\n",
       "      <td>1.0</td>\n",
       "      <td>83807.86</td>\n",
       "      <td>1</td>\n",
       "      <td>0</td>\n",
       "      <td>1</td>\n",
       "      <td>112542.58</td>\n",
       "      <td>0</td>\n",
       "    </tr>\n",
       "    <tr>\n",
       "      <th>2</th>\n",
       "      <td>3</td>\n",
       "      <td>15619304</td>\n",
       "      <td>Onio</td>\n",
       "      <td>502</td>\n",
       "      <td>France</td>\n",
       "      <td>Female</td>\n",
       "      <td>42</td>\n",
       "      <td>8.0</td>\n",
       "      <td>159660.80</td>\n",
       "      <td>3</td>\n",
       "      <td>1</td>\n",
       "      <td>0</td>\n",
       "      <td>113931.57</td>\n",
       "      <td>1</td>\n",
       "    </tr>\n",
       "    <tr>\n",
       "      <th>3</th>\n",
       "      <td>4</td>\n",
       "      <td>15701354</td>\n",
       "      <td>Boni</td>\n",
       "      <td>699</td>\n",
       "      <td>France</td>\n",
       "      <td>Female</td>\n",
       "      <td>39</td>\n",
       "      <td>1.0</td>\n",
       "      <td>0.00</td>\n",
       "      <td>2</td>\n",
       "      <td>0</td>\n",
       "      <td>0</td>\n",
       "      <td>93826.63</td>\n",
       "      <td>0</td>\n",
       "    </tr>\n",
       "    <tr>\n",
       "      <th>4</th>\n",
       "      <td>5</td>\n",
       "      <td>15737888</td>\n",
       "      <td>Mitchell</td>\n",
       "      <td>850</td>\n",
       "      <td>Spain</td>\n",
       "      <td>Female</td>\n",
       "      <td>43</td>\n",
       "      <td>2.0</td>\n",
       "      <td>125510.82</td>\n",
       "      <td>1</td>\n",
       "      <td>1</td>\n",
       "      <td>1</td>\n",
       "      <td>79084.10</td>\n",
       "      <td>0</td>\n",
       "    </tr>\n",
       "    <tr>\n",
       "      <th>5</th>\n",
       "      <td>6</td>\n",
       "      <td>15574012</td>\n",
       "      <td>Chu</td>\n",
       "      <td>645</td>\n",
       "      <td>Spain</td>\n",
       "      <td>Male</td>\n",
       "      <td>44</td>\n",
       "      <td>8.0</td>\n",
       "      <td>113755.78</td>\n",
       "      <td>2</td>\n",
       "      <td>1</td>\n",
       "      <td>0</td>\n",
       "      <td>149756.71</td>\n",
       "      <td>1</td>\n",
       "    </tr>\n",
       "    <tr>\n",
       "      <th>6</th>\n",
       "      <td>7</td>\n",
       "      <td>15592531</td>\n",
       "      <td>Bartlett</td>\n",
       "      <td>822</td>\n",
       "      <td>France</td>\n",
       "      <td>Male</td>\n",
       "      <td>50</td>\n",
       "      <td>7.0</td>\n",
       "      <td>0.00</td>\n",
       "      <td>2</td>\n",
       "      <td>1</td>\n",
       "      <td>1</td>\n",
       "      <td>10062.80</td>\n",
       "      <td>0</td>\n",
       "    </tr>\n",
       "    <tr>\n",
       "      <th>7</th>\n",
       "      <td>8</td>\n",
       "      <td>15656148</td>\n",
       "      <td>Obinna</td>\n",
       "      <td>376</td>\n",
       "      <td>Germany</td>\n",
       "      <td>Female</td>\n",
       "      <td>29</td>\n",
       "      <td>4.0</td>\n",
       "      <td>115046.74</td>\n",
       "      <td>4</td>\n",
       "      <td>1</td>\n",
       "      <td>0</td>\n",
       "      <td>119346.88</td>\n",
       "      <td>1</td>\n",
       "    </tr>\n",
       "    <tr>\n",
       "      <th>8</th>\n",
       "      <td>9</td>\n",
       "      <td>15792365</td>\n",
       "      <td>He</td>\n",
       "      <td>501</td>\n",
       "      <td>France</td>\n",
       "      <td>Male</td>\n",
       "      <td>44</td>\n",
       "      <td>4.0</td>\n",
       "      <td>142051.07</td>\n",
       "      <td>2</td>\n",
       "      <td>0</td>\n",
       "      <td>1</td>\n",
       "      <td>74940.50</td>\n",
       "      <td>0</td>\n",
       "    </tr>\n",
       "    <tr>\n",
       "      <th>9</th>\n",
       "      <td>10</td>\n",
       "      <td>15592389</td>\n",
       "      <td>H?</td>\n",
       "      <td>684</td>\n",
       "      <td>France</td>\n",
       "      <td>Male</td>\n",
       "      <td>27</td>\n",
       "      <td>2.0</td>\n",
       "      <td>134603.88</td>\n",
       "      <td>1</td>\n",
       "      <td>1</td>\n",
       "      <td>1</td>\n",
       "      <td>71725.73</td>\n",
       "      <td>0</td>\n",
       "    </tr>\n",
       "  </tbody>\n",
       "</table>\n",
       "</div>"
      ],
      "text/plain": [
       "   RowNumber  CustomerId   Surname  CreditScore Geography  Gender  Age  \\\n",
       "0          1    15634602  Hargrave          619    France  Female   42   \n",
       "1          2    15647311      Hill          608     Spain  Female   41   \n",
       "2          3    15619304      Onio          502    France  Female   42   \n",
       "3          4    15701354      Boni          699    France  Female   39   \n",
       "4          5    15737888  Mitchell          850     Spain  Female   43   \n",
       "5          6    15574012       Chu          645     Spain    Male   44   \n",
       "6          7    15592531  Bartlett          822    France    Male   50   \n",
       "7          8    15656148    Obinna          376   Germany  Female   29   \n",
       "8          9    15792365        He          501    France    Male   44   \n",
       "9         10    15592389        H?          684    France    Male   27   \n",
       "\n",
       "   Tenure    Balance  NumOfProducts  HasCrCard  IsActiveMember  \\\n",
       "0     2.0       0.00              1          1               1   \n",
       "1     1.0   83807.86              1          0               1   \n",
       "2     8.0  159660.80              3          1               0   \n",
       "3     1.0       0.00              2          0               0   \n",
       "4     2.0  125510.82              1          1               1   \n",
       "5     8.0  113755.78              2          1               0   \n",
       "6     7.0       0.00              2          1               1   \n",
       "7     4.0  115046.74              4          1               0   \n",
       "8     4.0  142051.07              2          0               1   \n",
       "9     2.0  134603.88              1          1               1   \n",
       "\n",
       "   EstimatedSalary  Exited  \n",
       "0        101348.88       1  \n",
       "1        112542.58       0  \n",
       "2        113931.57       1  \n",
       "3         93826.63       0  \n",
       "4         79084.10       0  \n",
       "5        149756.71       1  \n",
       "6         10062.80       0  \n",
       "7        119346.88       1  \n",
       "8         74940.50       0  \n",
       "9         71725.73       0  "
      ]
     },
     "execution_count": 3,
     "metadata": {},
     "output_type": "execute_result"
    }
   ],
   "source": [
    "# Check for missing values\n",
    "print('Check for Missing Values')\n",
    "print(churn.isna().sum())\n",
    "\n",
    "# Check values for each column\n",
    "print('\\n Describe Dataframe')\n",
    "print(churn.describe())\n",
    "\n",
    "# Check data types\n",
    "print('\\n Check Data Types')\n",
    "print(churn.info())\n",
    "#print(churn.dtypes)\n",
    "\n",
    "#Check for duplicate rows\n",
    "print('\\n Check for Duplicate Rows')\n",
    "print(churn[churn['CustomerId'].duplicated(keep=False)])\n",
    "\n",
    "# Check data\n",
    "print('\\n Print First 10 Rows')\n",
    "churn.head(10)"
   ]
  },
  {
   "cell_type": "markdown",
   "metadata": {},
   "source": [
    "### Data Exploration Observations\n",
    "- The Tenure column has 909 missing values\n",
    "- All data types appear to be correct\n",
    "- There are no duplicated rows (by Customer ID)\n",
    "- There are several columns that would not be useful for modeling and will be excluded later on:\n",
    "    - RowNumber\n",
    "    - CustomerId\n",
    "    - Surname\n",
    "    \n",
    "## Prepare Data for Model Training\n",
    "\n",
    "In this section, I will:\n",
    "\n",
    "- Replace missing Tenure values with 0, assuming they are new customers, and change data type to integer (since it's measured in whole years). Another option would be to use the average tenure.\n",
    "- Exclude extraneous variables not helpful for modeling\n",
    "    - RowNumber\n",
    "    - CustomerId\n",
    "    - Surname\n",
    "- Process all feature types\n",
    "    - Categorical features (encoding)\n",
    "    - Numerical features (feature scaling)\n",
    "    - *Note: numerical features that are already binary (0 or 1) will not be processed*\n",
    "- Create training, validation, and test datasets from original dataset\n",
    "\n",
    "### Replace Missing Values"
   ]
  },
  {
   "cell_type": "code",
   "execution_count": 4,
   "metadata": {},
   "outputs": [
    {
     "name": "stdout",
     "output_type": "stream",
     "text": [
      "0\n"
     ]
    },
    {
     "data": {
      "text/plain": [
       "dtype('int64')"
      ]
     },
     "execution_count": 4,
     "metadata": {},
     "output_type": "execute_result"
    }
   ],
   "source": [
    "# Replace missing Tenure values with 0\n",
    "churn['Tenure'].fillna(0, inplace = True)\n",
    "\n",
    "# Check to see if missing values were replaced\n",
    "print(churn['Tenure'].isna().sum())\n",
    "\n",
    "# Convert Tenure column from float to int\n",
    "churn['Tenure'] = churn['Tenure'].astype('int64')\n",
    "\n",
    "# Check datatype\n",
    "churn['Tenure'].dtype"
   ]
  },
  {
   "cell_type": "markdown",
   "metadata": {},
   "source": [
    "### Exclusion of Extraneous Variables"
   ]
  },
  {
   "cell_type": "code",
   "execution_count": 5,
   "metadata": {},
   "outputs": [],
   "source": [
    "# Remove extraneous fields that will reduce model accuracy \n",
    "# Fields to remove are RowNumber, CustomerID, and Surname\n",
    "# I will leave an intact version of the churn dataframe to analyze class imbalance later on\n",
    "churn_edited = churn.drop(['RowNumber','Surname','CustomerId'], axis=1)"
   ]
  },
  {
   "cell_type": "markdown",
   "metadata": {},
   "source": [
    "### Feature Processing\n",
    "\n",
    "#### Categorical Features"
   ]
  },
  {
   "cell_type": "code",
   "execution_count": 6,
   "metadata": {},
   "outputs": [
    {
     "name": "stdout",
     "output_type": "stream",
     "text": [
      "['France' 'Spain' 'Germany']\n",
      "['Female' 'Male']\n"
     ]
    }
   ],
   "source": [
    "# Checking unique values in the Geography and Gender features\n",
    "print(churn_edited['Geography'].unique())\n",
    "print(churn_edited['Gender'].unique())"
   ]
  },
  {
   "cell_type": "markdown",
   "metadata": {},
   "source": [
    "Since the Geography and Gender features are categorical and have no implicit order or ranking, I will use One-Hot Encoding to process them. I will drop the first dummy variable created by each (one of two Gender columns and one of three Geography columns) to avoid redundancy in the encoding which can confuse models.\n",
    "\n",
    "After these variables are encoded:\n",
    "- Gender\n",
    "    - Gender_Male column will be 1 for Male or 0 for Female\n",
    "- Geography\n",
    "    - One of Geography_Germany or Geography_Spain will be 1 for 'Germany' or 'Spain', respectively\n",
    "    - Both Geography_Germany and Geography_Spain will be 0 indicating 'France'"
   ]
  },
  {
   "cell_type": "code",
   "execution_count": 7,
   "metadata": {},
   "outputs": [
    {
     "data": {
      "text/html": [
       "<div>\n",
       "<style scoped>\n",
       "    .dataframe tbody tr th:only-of-type {\n",
       "        vertical-align: middle;\n",
       "    }\n",
       "\n",
       "    .dataframe tbody tr th {\n",
       "        vertical-align: top;\n",
       "    }\n",
       "\n",
       "    .dataframe thead th {\n",
       "        text-align: right;\n",
       "    }\n",
       "</style>\n",
       "<table border=\"1\" class=\"dataframe\">\n",
       "  <thead>\n",
       "    <tr style=\"text-align: right;\">\n",
       "      <th></th>\n",
       "      <th>CreditScore</th>\n",
       "      <th>Age</th>\n",
       "      <th>Tenure</th>\n",
       "      <th>Balance</th>\n",
       "      <th>NumOfProducts</th>\n",
       "      <th>HasCrCard</th>\n",
       "      <th>IsActiveMember</th>\n",
       "      <th>EstimatedSalary</th>\n",
       "      <th>Exited</th>\n",
       "      <th>Geography_Germany</th>\n",
       "      <th>Geography_Spain</th>\n",
       "      <th>Gender_Male</th>\n",
       "    </tr>\n",
       "  </thead>\n",
       "  <tbody>\n",
       "    <tr>\n",
       "      <th>0</th>\n",
       "      <td>619</td>\n",
       "      <td>42</td>\n",
       "      <td>2</td>\n",
       "      <td>0.00</td>\n",
       "      <td>1</td>\n",
       "      <td>1</td>\n",
       "      <td>1</td>\n",
       "      <td>101348.88</td>\n",
       "      <td>1</td>\n",
       "      <td>0</td>\n",
       "      <td>0</td>\n",
       "      <td>0</td>\n",
       "    </tr>\n",
       "    <tr>\n",
       "      <th>1</th>\n",
       "      <td>608</td>\n",
       "      <td>41</td>\n",
       "      <td>1</td>\n",
       "      <td>83807.86</td>\n",
       "      <td>1</td>\n",
       "      <td>0</td>\n",
       "      <td>1</td>\n",
       "      <td>112542.58</td>\n",
       "      <td>0</td>\n",
       "      <td>0</td>\n",
       "      <td>1</td>\n",
       "      <td>0</td>\n",
       "    </tr>\n",
       "    <tr>\n",
       "      <th>2</th>\n",
       "      <td>502</td>\n",
       "      <td>42</td>\n",
       "      <td>8</td>\n",
       "      <td>159660.80</td>\n",
       "      <td>3</td>\n",
       "      <td>1</td>\n",
       "      <td>0</td>\n",
       "      <td>113931.57</td>\n",
       "      <td>1</td>\n",
       "      <td>0</td>\n",
       "      <td>0</td>\n",
       "      <td>0</td>\n",
       "    </tr>\n",
       "    <tr>\n",
       "      <th>3</th>\n",
       "      <td>699</td>\n",
       "      <td>39</td>\n",
       "      <td>1</td>\n",
       "      <td>0.00</td>\n",
       "      <td>2</td>\n",
       "      <td>0</td>\n",
       "      <td>0</td>\n",
       "      <td>93826.63</td>\n",
       "      <td>0</td>\n",
       "      <td>0</td>\n",
       "      <td>0</td>\n",
       "      <td>0</td>\n",
       "    </tr>\n",
       "    <tr>\n",
       "      <th>4</th>\n",
       "      <td>850</td>\n",
       "      <td>43</td>\n",
       "      <td>2</td>\n",
       "      <td>125510.82</td>\n",
       "      <td>1</td>\n",
       "      <td>1</td>\n",
       "      <td>1</td>\n",
       "      <td>79084.10</td>\n",
       "      <td>0</td>\n",
       "      <td>0</td>\n",
       "      <td>1</td>\n",
       "      <td>0</td>\n",
       "    </tr>\n",
       "  </tbody>\n",
       "</table>\n",
       "</div>"
      ],
      "text/plain": [
       "   CreditScore  Age  Tenure    Balance  NumOfProducts  HasCrCard  \\\n",
       "0          619   42       2       0.00              1          1   \n",
       "1          608   41       1   83807.86              1          0   \n",
       "2          502   42       8  159660.80              3          1   \n",
       "3          699   39       1       0.00              2          0   \n",
       "4          850   43       2  125510.82              1          1   \n",
       "\n",
       "   IsActiveMember  EstimatedSalary  Exited  Geography_Germany  \\\n",
       "0               1        101348.88       1                  0   \n",
       "1               1        112542.58       0                  0   \n",
       "2               0        113931.57       1                  0   \n",
       "3               0         93826.63       0                  0   \n",
       "4               1         79084.10       0                  0   \n",
       "\n",
       "   Geography_Spain  Gender_Male  \n",
       "0                0            0  \n",
       "1                1            0  \n",
       "2                0            0  \n",
       "3                0            0  \n",
       "4                1            0  "
      ]
     },
     "execution_count": 7,
     "metadata": {},
     "output_type": "execute_result"
    }
   ],
   "source": [
    "# Applying One-Hot Encoding to the data\n",
    "# Dropping the first dummy variable for each to avoid redundancy\n",
    "# Note that only Geography and Gender are affected without having to specify (they are the only remaining object columns)\n",
    "churn_edited = pd.get_dummies(churn_edited, drop_first=True)\n",
    "\n",
    "# Printing the first 5 rows to check for accuracy\n",
    "churn_edited.head()"
   ]
  },
  {
   "cell_type": "markdown",
   "metadata": {},
   "source": [
    "#### Numerical Features"
   ]
  },
  {
   "cell_type": "markdown",
   "metadata": {},
   "source": [
    "The numerical features in the data vary widely between each other in magnitude and dispersion. This would cause bias in modeling, so I need to standardize these features before they can be used. *Note: Numerical features that are already binary, such as HasCrCard and IsActiveMember, will not be affected by standardization.*"
   ]
  },
  {
   "cell_type": "code",
   "execution_count": 8,
   "metadata": {},
   "outputs": [
    {
     "name": "stdout",
     "output_type": "stream",
     "text": [
      "   CreditScore       Age    Tenure   Balance  NumOfProducts  HasCrCard  \\\n",
      "0    -0.326221  0.293517 -0.817441 -1.225848      -0.911583          1   \n",
      "1    -0.440036  0.198164 -1.138838  0.117350      -0.911583          0   \n",
      "2    -1.536794  0.293517  1.110941  1.333053       2.527057          1   \n",
      "3     0.501521  0.007457 -1.138838 -1.225848       0.807737          0   \n",
      "4     2.063884  0.388871 -0.817441  0.785728      -0.911583          1   \n",
      "\n",
      "   IsActiveMember  EstimatedSalary  Exited  Geography_Germany  \\\n",
      "0               1         0.021886       1                  0   \n",
      "1               1         0.216534       0                  0   \n",
      "2               0         0.240687       1                  0   \n",
      "3               0        -0.108918       0                  0   \n",
      "4               1        -0.365276       0                  0   \n",
      "\n",
      "   Geography_Spain  Gender_Male  \n",
      "0                0            0  \n",
      "1                1            0  \n",
      "2                0            0  \n",
      "3                0            0  \n",
      "4                1            0  \n"
     ]
    }
   ],
   "source": [
    "# Create a list of numeric columns in the churn dataset that need to be scaled\n",
    "# Note: this does not include categorical variables (either encoded or unencoded)\n",
    "# The only numerical features in the data are defined below\n",
    "numeric = ['CreditScore','Age','Tenure','Balance','NumOfProducts','EstimatedSalary']\n",
    "\n",
    "# Apply feature scaling to the numeric fields in the list\n",
    "scaler = StandardScaler()\n",
    "scaler.fit(churn_edited[numeric])\n",
    "\n",
    "# Apply Scaler to Training and Validation Sets\n",
    "churn_edited[numeric] = scaler.transform(churn_edited[numeric])\n",
    "\n",
    "# Check Scaled Numeric Features\n",
    "print(churn_edited.head())"
   ]
  },
  {
   "cell_type": "markdown",
   "metadata": {},
   "source": [
    "Now that the categorical features are encoded and the numerical features are standardized and scaled, our data is ready to be split into training, validation, and test sets for my models.\n",
    "\n",
    "### Splitting Data into Training, Validation, and Test Sets"
   ]
  },
  {
   "cell_type": "code",
   "execution_count": 9,
   "metadata": {},
   "outputs": [
    {
     "name": "stdout",
     "output_type": "stream",
     "text": [
      "(6000, 11)\n",
      "(6000,)\n",
      "(2000, 11)\n",
      "(2000,)\n",
      "(2000, 11)\n",
      "(2000,)\n"
     ]
    }
   ],
   "source": [
    "# Separate target and feature data\n",
    "# The target variable is 'Exited' because this is what we are trying to predict\n",
    "# The features are everything remaining, besides 'Exited,' from our data processed above\n",
    "target = churn_edited['Exited']\n",
    "features = churn_edited.drop('Exited', axis=1)\n",
    "\n",
    "# Create Training, Validation, and Test Datasets. The standard ratio is 3:1:1\n",
    "# First we will split off 40% to get a training dataset of 60% of the data source \n",
    "# The validiation set will later be split in half to get 3 datasets with a ratio of 3:1:1\n",
    "# Set Random State to 12345 to Replicate Training Set in Future\n",
    "features_train, features_valid, target_train, target_valid = train_test_split(\n",
    "    features, target, test_size=0.40, random_state=12345)\n",
    "\n",
    "# Create a validation and test set (50% of validation set each) from the the original validation set\n",
    "features_valid, features_test, target_valid, target_test = train_test_split(\n",
    "    features_valid, target_valid, test_size=0.50, random_state=12345)\n",
    "\n",
    "# Check the sizes of the training, validation, and test sets for 3:1:1 ratio\n",
    "# Training \n",
    "print(features_train.shape) # Training set contains 60% of original dataframe rows\n",
    "print(target_train.shape)   # Training set contains 60% of original dataframe rows\n",
    "\n",
    "# Validation\n",
    "print(features_valid.shape) # Validation set contains 20% of original dataframe rows\n",
    "print(target_valid.shape)   # Validation set contains 20% of original dataframe rows\n",
    "\n",
    "# Test\n",
    "print(features_test.shape)  # Test set contains 20% of original dataframe rows\n",
    "print(target_test.shape)    # Test set contains 20% of original dataframe rows"
   ]
  },
  {
   "cell_type": "markdown",
   "metadata": {},
   "source": [
    "The data is now separated into target and features, as well as training, validation, and test sets, for a total of 6 datasets.\n",
    "\n",
    "## Model Training (Disregarding Class Imbalance)\n",
    "\n",
    "The task is to create a model to predict the 'Exited' variable, which is either 1 for Yes and 0 for No. Since this is a categorical variable, I have decided to use 3 popular classification algorithms to create models:\n",
    "\n",
    "- Decision Tree Classifier\n",
    "- Random Forest Classifier\n",
    "- Logistic Regression\n",
    "\n",
    "In this section, I will use the training dataset to train, and specific parameters to improve, each model to predict if customers will soon exit the bank.\n",
    "\n",
    "### Decision Tree Classifier Model\n",
    "\n",
    "#### Training and Tuning"
   ]
  },
  {
   "cell_type": "code",
   "execution_count": 10,
   "metadata": {},
   "outputs": [
    {
     "name": "stdout",
     "output_type": "stream",
     "text": [
      "At a depth of 1 the F1 score of the model is 0.0\n",
      "At a depth of 2 the F1 score of the model is 0.522\n",
      "At a depth of 3 the F1 score of the model is 0.423\n",
      "At a depth of 4 the F1 score of the model is 0.553\n",
      "At a depth of 5 the F1 score of the model is 0.541\n",
      "At a depth of 6 the F1 score of the model is 0.57\n",
      "At a depth of 7 the F1 score of the model is 0.532\n",
      "At a depth of 8 the F1 score of the model is 0.545\n",
      "At a depth of 9 the F1 score of the model is 0.579\n",
      "At a depth of 10 the F1 score of the model is 0.529\n",
      "At a depth of 11 the F1 score of the model is 0.521\n",
      "At a depth of 12 the F1 score of the model is 0.502\n",
      "At a depth of 13 the F1 score of the model is 0.526\n",
      "At a depth of 14 the F1 score of the model is 0.483\n",
      "At a depth of 15 the F1 score of the model is 0.503\n",
      "At a depth of 16 the F1 score of the model is 0.492\n",
      "At a depth of 17 the F1 score of the model is 0.471\n",
      "At a depth of 18 the F1 score of the model is 0.491\n",
      "At a depth of 19 the F1 score of the model is 0.492\n",
      "At a depth of 20 the F1 score of the model is 0.504\n",
      "\n",
      "The F1 score of the best model is 0.579 at a depth of 9\n"
     ]
    }
   ],
   "source": [
    "# For the Decision Tree Classification Model the parameter that should be tuned is max_depth\n",
    "# Initialize loop variables\n",
    "best_result = 0\n",
    "best_depth = 0\n",
    "\n",
    "# For tree depth from 1 to 20, calculate the optimal tree depth and evaluate model for greatest F1 score\n",
    "# I am choosing to use F1 score as the preferred tuning metric because:\n",
    "# a) We have a target of 0.59 or greater\n",
    "# b) It is a better metric than accuracy when the data has imbalanced classes\n",
    "for depth in range(1, 21):\n",
    "    model = DecisionTreeClassifier(random_state=12345, max_depth=depth) # Create a model with the given depth\n",
    "    model.fit(features_train, target_train) # Train the model\n",
    "    predictions = model.predict(features_valid) # Get the model's predictions\n",
    "    result = f1_score(target_valid,predictions) # Calculate the F1 score\n",
    "    if result > best_result:\n",
    "        best_result = result\n",
    "        best_depth = depth\n",
    "    \n",
    "    # Print model accuracy at each depth\n",
    "    print(\"At a depth of\", depth, \"the F1 score of the model is\", round(result, 3))\n",
    "\n",
    "# Print the F1 score of the model and which depth produced the greatest F1 score \n",
    "print()\n",
    "print(\"The F1 score of the best model is\", round(best_result,3), \"at a depth of\", best_depth)"
   ]
  },
  {
   "cell_type": "markdown",
   "metadata": {},
   "source": [
    "#### Model Performance Metrics"
   ]
  },
  {
   "cell_type": "code",
   "execution_count": 11,
   "metadata": {},
   "outputs": [
    {
     "name": "stdout",
     "output_type": "stream",
     "text": [
      "Confusion Matrix\n",
      "[[1494   88]\n",
      " [ 212  206]]\n",
      "\n",
      "At a max depth of 9, the accuracy of the model is 0.85\n",
      "The Recall Score is 0.493\n",
      "The Precision Score is 0.701\n",
      "The F1 Score is 0.579\n",
      "The AUC-ROC Score is 0.79\n"
     ]
    }
   ],
   "source": [
    "# Use Decision Tree Model for classification with depth of 9 (from above results)\n",
    "model = DecisionTreeClassifier(random_state=12345, max_depth=9)\n",
    "\n",
    "# Fit Model to Training Dataset\n",
    "model.fit(features_train, target_train)\n",
    "\n",
    "# Use Model to Predict Target Values on Validation Set\n",
    "predicted_valid = model.predict(features_valid)\n",
    "\n",
    "# Print Confusion Matrix\n",
    "print('Confusion Matrix')\n",
    "print(confusion_matrix(target_valid, predicted_valid))\n",
    "\n",
    "# Get Accuracy Score \n",
    "accuracy_valid = accuracy_score(target_valid, predicted_valid)\n",
    "\n",
    "# Print Model Accuracy \n",
    "print(\"\\nAt a max depth of 9, the accuracy of the model is\", round(accuracy_valid, 3))\n",
    "\n",
    "# Print Recall Score\n",
    "print('The Recall Score is', round(recall_score(target_valid, predicted_valid), 3))\n",
    "\n",
    "# Print Precision Score \n",
    "print('The Precision Score is', round(precision_score(target_valid, predicted_valid), 3))\n",
    "\n",
    "# Print F1 Score \n",
    "print('The F1 Score is', round(f1_score(target_valid, predicted_valid), 3))\n",
    "\n",
    "# Calculate and Print AUC-ROC Score\n",
    "probabilities_valid = model.predict_proba(features_valid)\n",
    "probabilities_one_valid = probabilities_valid[:, 1]\n",
    "auc_roc = roc_auc_score(target_valid, probabilities_one_valid)\n",
    "print('The AUC-ROC Score is', round(auc_roc, 3))"
   ]
  },
  {
   "cell_type": "markdown",
   "metadata": {},
   "source": [
    "### Random Forest Classifier Model\n",
    "\n",
    "#### Training and Tuning"
   ]
  },
  {
   "cell_type": "code",
   "execution_count": 12,
   "metadata": {},
   "outputs": [
    {
     "name": "stdout",
     "output_type": "stream",
     "text": [
      "At a number of estimators of 1 and max depth 1 the F1 score of the model is 0.248\n",
      "At a number of estimators of 1 and max depth 2 the F1 score of the model is 0.248\n",
      "At a number of estimators of 1 and max depth 3 the F1 score of the model is 0.223\n",
      "At a number of estimators of 1 and max depth 4 the F1 score of the model is 0.439\n",
      "At a number of estimators of 1 and max depth 5 the F1 score of the model is 0.435\n",
      "At a number of estimators of 1 and max depth 6 the F1 score of the model is 0.424\n",
      "At a number of estimators of 1 and max depth 7 the F1 score of the model is 0.533\n",
      "At a number of estimators of 1 and max depth 8 the F1 score of the model is 0.526\n",
      "At a number of estimators of 1 and max depth 9 the F1 score of the model is 0.521\n",
      "At a number of estimators of 1 and max depth 10 the F1 score of the model is 0.531\n",
      "At a number of estimators of 1 and max depth 11 the F1 score of the model is 0.494\n",
      "At a number of estimators of 1 and max depth 12 the F1 score of the model is 0.521\n",
      "At a number of estimators of 1 and max depth 13 the F1 score of the model is 0.512\n",
      "At a number of estimators of 1 and max depth 14 the F1 score of the model is 0.519\n",
      "At a number of estimators of 1 and max depth 15 the F1 score of the model is 0.506\n",
      "At a number of estimators of 1 and max depth 16 the F1 score of the model is 0.437\n",
      "At a number of estimators of 1 and max depth 17 the F1 score of the model is 0.475\n",
      "At a number of estimators of 1 and max depth 18 the F1 score of the model is 0.481\n",
      "At a number of estimators of 1 and max depth 19 the F1 score of the model is 0.496\n",
      "At a number of estimators of 1 and max depth 20 the F1 score of the model is 0.47\n",
      "At a number of estimators of 2 and max depth 1 the F1 score of the model is 0.248\n",
      "At a number of estimators of 2 and max depth 2 the F1 score of the model is 0.225\n",
      "At a number of estimators of 2 and max depth 3 the F1 score of the model is 0.232\n",
      "At a number of estimators of 2 and max depth 4 the F1 score of the model is 0.489\n",
      "At a number of estimators of 2 and max depth 5 the F1 score of the model is 0.47\n",
      "At a number of estimators of 2 and max depth 6 the F1 score of the model is 0.441\n",
      "At a number of estimators of 2 and max depth 7 the F1 score of the model is 0.502\n",
      "At a number of estimators of 2 and max depth 8 the F1 score of the model is 0.539\n",
      "At a number of estimators of 2 and max depth 9 the F1 score of the model is 0.522\n",
      "At a number of estimators of 2 and max depth 10 the F1 score of the model is 0.521\n",
      "At a number of estimators of 2 and max depth 11 the F1 score of the model is 0.467\n",
      "At a number of estimators of 2 and max depth 12 the F1 score of the model is 0.507\n",
      "At a number of estimators of 2 and max depth 13 the F1 score of the model is 0.496\n",
      "At a number of estimators of 2 and max depth 14 the F1 score of the model is 0.493\n",
      "At a number of estimators of 2 and max depth 15 the F1 score of the model is 0.464\n",
      "At a number of estimators of 2 and max depth 16 the F1 score of the model is 0.416\n",
      "At a number of estimators of 2 and max depth 17 the F1 score of the model is 0.397\n",
      "At a number of estimators of 2 and max depth 18 the F1 score of the model is 0.411\n",
      "At a number of estimators of 2 and max depth 19 the F1 score of the model is 0.429\n",
      "At a number of estimators of 2 and max depth 20 the F1 score of the model is 0.377\n",
      "At a number of estimators of 3 and max depth 1 the F1 score of the model is 0.121\n",
      "At a number of estimators of 3 and max depth 2 the F1 score of the model is 0.129\n",
      "At a number of estimators of 3 and max depth 3 the F1 score of the model is 0.4\n",
      "At a number of estimators of 3 and max depth 4 the F1 score of the model is 0.454\n",
      "At a number of estimators of 3 and max depth 5 the F1 score of the model is 0.499\n",
      "At a number of estimators of 3 and max depth 6 the F1 score of the model is 0.489\n",
      "At a number of estimators of 3 and max depth 7 the F1 score of the model is 0.513\n",
      "At a number of estimators of 3 and max depth 8 the F1 score of the model is 0.527\n",
      "At a number of estimators of 3 and max depth 9 the F1 score of the model is 0.558\n",
      "At a number of estimators of 3 and max depth 10 the F1 score of the model is 0.561\n",
      "At a number of estimators of 3 and max depth 11 the F1 score of the model is 0.548\n",
      "At a number of estimators of 3 and max depth 12 the F1 score of the model is 0.575\n",
      "At a number of estimators of 3 and max depth 13 the F1 score of the model is 0.569\n",
      "At a number of estimators of 3 and max depth 14 the F1 score of the model is 0.544\n",
      "At a number of estimators of 3 and max depth 15 the F1 score of the model is 0.558\n",
      "At a number of estimators of 3 and max depth 16 the F1 score of the model is 0.517\n",
      "At a number of estimators of 3 and max depth 17 the F1 score of the model is 0.515\n",
      "At a number of estimators of 3 and max depth 18 the F1 score of the model is 0.544\n",
      "At a number of estimators of 3 and max depth 19 the F1 score of the model is 0.537\n",
      "At a number of estimators of 3 and max depth 20 the F1 score of the model is 0.514\n",
      "At a number of estimators of 4 and max depth 1 the F1 score of the model is 0.0\n",
      "At a number of estimators of 4 and max depth 2 the F1 score of the model is 0.129\n",
      "At a number of estimators of 4 and max depth 3 the F1 score of the model is 0.341\n",
      "At a number of estimators of 4 and max depth 4 the F1 score of the model is 0.453\n",
      "At a number of estimators of 4 and max depth 5 the F1 score of the model is 0.517\n",
      "At a number of estimators of 4 and max depth 6 the F1 score of the model is 0.542\n",
      "At a number of estimators of 4 and max depth 7 the F1 score of the model is 0.536\n",
      "At a number of estimators of 4 and max depth 8 the F1 score of the model is 0.543\n",
      "At a number of estimators of 4 and max depth 9 the F1 score of the model is 0.562\n",
      "At a number of estimators of 4 and max depth 10 the F1 score of the model is 0.56\n",
      "At a number of estimators of 4 and max depth 11 the F1 score of the model is 0.549\n",
      "At a number of estimators of 4 and max depth 12 the F1 score of the model is 0.541\n",
      "At a number of estimators of 4 and max depth 13 the F1 score of the model is 0.543\n",
      "At a number of estimators of 4 and max depth 14 the F1 score of the model is 0.535\n",
      "At a number of estimators of 4 and max depth 15 the F1 score of the model is 0.512\n",
      "At a number of estimators of 4 and max depth 16 the F1 score of the model is 0.501\n",
      "At a number of estimators of 4 and max depth 17 the F1 score of the model is 0.491\n",
      "At a number of estimators of 4 and max depth 18 the F1 score of the model is 0.502\n",
      "At a number of estimators of 4 and max depth 19 the F1 score of the model is 0.506\n",
      "At a number of estimators of 4 and max depth 20 the F1 score of the model is 0.472\n",
      "At a number of estimators of 5 and max depth 1 the F1 score of the model is 0.125\n",
      "At a number of estimators of 5 and max depth 2 the F1 score of the model is 0.129\n",
      "At a number of estimators of 5 and max depth 3 the F1 score of the model is 0.363\n",
      "At a number of estimators of 5 and max depth 4 the F1 score of the model is 0.496\n",
      "At a number of estimators of 5 and max depth 5 the F1 score of the model is 0.509\n",
      "At a number of estimators of 5 and max depth 6 the F1 score of the model is 0.525\n",
      "At a number of estimators of 5 and max depth 7 the F1 score of the model is 0.555\n",
      "At a number of estimators of 5 and max depth 8 the F1 score of the model is 0.549\n",
      "At a number of estimators of 5 and max depth 9 the F1 score of the model is 0.577\n",
      "At a number of estimators of 5 and max depth 10 the F1 score of the model is 0.57\n",
      "At a number of estimators of 5 and max depth 11 the F1 score of the model is 0.557\n",
      "At a number of estimators of 5 and max depth 12 the F1 score of the model is 0.572\n",
      "At a number of estimators of 5 and max depth 13 the F1 score of the model is 0.573\n",
      "At a number of estimators of 5 and max depth 14 the F1 score of the model is 0.562\n",
      "At a number of estimators of 5 and max depth 15 the F1 score of the model is 0.583\n",
      "At a number of estimators of 5 and max depth 16 the F1 score of the model is 0.549\n",
      "At a number of estimators of 5 and max depth 17 the F1 score of the model is 0.55\n",
      "At a number of estimators of 5 and max depth 18 the F1 score of the model is 0.564\n",
      "At a number of estimators of 5 and max depth 19 the F1 score of the model is 0.543\n",
      "At a number of estimators of 5 and max depth 20 the F1 score of the model is 0.56\n",
      "At a number of estimators of 6 and max depth 1 the F1 score of the model is 0.0\n",
      "At a number of estimators of 6 and max depth 2 the F1 score of the model is 0.207\n",
      "At a number of estimators of 6 and max depth 3 the F1 score of the model is 0.378\n"
     ]
    },
    {
     "name": "stdout",
     "output_type": "stream",
     "text": [
      "At a number of estimators of 6 and max depth 4 the F1 score of the model is 0.498\n",
      "At a number of estimators of 6 and max depth 5 the F1 score of the model is 0.471\n",
      "At a number of estimators of 6 and max depth 6 the F1 score of the model is 0.531\n",
      "At a number of estimators of 6 and max depth 7 the F1 score of the model is 0.56\n",
      "At a number of estimators of 6 and max depth 8 the F1 score of the model is 0.544\n",
      "At a number of estimators of 6 and max depth 9 the F1 score of the model is 0.581\n",
      "At a number of estimators of 6 and max depth 10 the F1 score of the model is 0.577\n",
      "At a number of estimators of 6 and max depth 11 the F1 score of the model is 0.554\n",
      "At a number of estimators of 6 and max depth 12 the F1 score of the model is 0.568\n",
      "At a number of estimators of 6 and max depth 13 the F1 score of the model is 0.582\n",
      "At a number of estimators of 6 and max depth 14 the F1 score of the model is 0.549\n",
      "At a number of estimators of 6 and max depth 15 the F1 score of the model is 0.549\n",
      "At a number of estimators of 6 and max depth 16 the F1 score of the model is 0.527\n",
      "At a number of estimators of 6 and max depth 17 the F1 score of the model is 0.551\n",
      "At a number of estimators of 6 and max depth 18 the F1 score of the model is 0.533\n",
      "At a number of estimators of 6 and max depth 19 the F1 score of the model is 0.535\n",
      "At a number of estimators of 6 and max depth 20 the F1 score of the model is 0.52\n",
      "At a number of estimators of 7 and max depth 1 the F1 score of the model is 0.0\n",
      "At a number of estimators of 7 and max depth 2 the F1 score of the model is 0.2\n",
      "At a number of estimators of 7 and max depth 3 the F1 score of the model is 0.38\n",
      "At a number of estimators of 7 and max depth 4 the F1 score of the model is 0.515\n",
      "At a number of estimators of 7 and max depth 5 the F1 score of the model is 0.49\n",
      "At a number of estimators of 7 and max depth 6 the F1 score of the model is 0.536\n",
      "At a number of estimators of 7 and max depth 7 the F1 score of the model is 0.571\n",
      "At a number of estimators of 7 and max depth 8 the F1 score of the model is 0.551\n",
      "At a number of estimators of 7 and max depth 9 the F1 score of the model is 0.57\n",
      "At a number of estimators of 7 and max depth 10 the F1 score of the model is 0.572\n",
      "At a number of estimators of 7 and max depth 11 the F1 score of the model is 0.565\n",
      "At a number of estimators of 7 and max depth 12 the F1 score of the model is 0.582\n",
      "At a number of estimators of 7 and max depth 13 the F1 score of the model is 0.589\n",
      "At a number of estimators of 7 and max depth 14 the F1 score of the model is 0.551\n",
      "At a number of estimators of 7 and max depth 15 the F1 score of the model is 0.591\n",
      "At a number of estimators of 7 and max depth 16 the F1 score of the model is 0.567\n",
      "At a number of estimators of 7 and max depth 17 the F1 score of the model is 0.562\n",
      "At a number of estimators of 7 and max depth 18 the F1 score of the model is 0.565\n",
      "At a number of estimators of 7 and max depth 19 the F1 score of the model is 0.571\n",
      "At a number of estimators of 7 and max depth 20 the F1 score of the model is 0.546\n",
      "At a number of estimators of 8 and max depth 1 the F1 score of the model is 0.0\n",
      "At a number of estimators of 8 and max depth 2 the F1 score of the model is 0.2\n",
      "At a number of estimators of 8 and max depth 3 the F1 score of the model is 0.248\n",
      "At a number of estimators of 8 and max depth 4 the F1 score of the model is 0.48\n",
      "At a number of estimators of 8 and max depth 5 the F1 score of the model is 0.485\n",
      "At a number of estimators of 8 and max depth 6 the F1 score of the model is 0.545\n",
      "At a number of estimators of 8 and max depth 7 the F1 score of the model is 0.561\n",
      "At a number of estimators of 8 and max depth 8 the F1 score of the model is 0.553\n",
      "At a number of estimators of 8 and max depth 9 the F1 score of the model is 0.582\n",
      "At a number of estimators of 8 and max depth 10 the F1 score of the model is 0.573\n",
      "At a number of estimators of 8 and max depth 11 the F1 score of the model is 0.576\n",
      "At a number of estimators of 8 and max depth 12 the F1 score of the model is 0.59\n",
      "At a number of estimators of 8 and max depth 13 the F1 score of the model is 0.583\n",
      "At a number of estimators of 8 and max depth 14 the F1 score of the model is 0.564\n",
      "At a number of estimators of 8 and max depth 15 the F1 score of the model is 0.569\n",
      "At a number of estimators of 8 and max depth 16 the F1 score of the model is 0.549\n",
      "At a number of estimators of 8 and max depth 17 the F1 score of the model is 0.556\n",
      "At a number of estimators of 8 and max depth 18 the F1 score of the model is 0.558\n",
      "At a number of estimators of 8 and max depth 19 the F1 score of the model is 0.548\n",
      "At a number of estimators of 8 and max depth 20 the F1 score of the model is 0.529\n",
      "At a number of estimators of 9 and max depth 1 the F1 score of the model is 0.0\n",
      "At a number of estimators of 9 and max depth 2 the F1 score of the model is 0.208\n",
      "At a number of estimators of 9 and max depth 3 the F1 score of the model is 0.251\n",
      "At a number of estimators of 9 and max depth 4 the F1 score of the model is 0.502\n",
      "At a number of estimators of 9 and max depth 5 the F1 score of the model is 0.484\n",
      "At a number of estimators of 9 and max depth 6 the F1 score of the model is 0.543\n",
      "At a number of estimators of 9 and max depth 7 the F1 score of the model is 0.557\n",
      "At a number of estimators of 9 and max depth 8 the F1 score of the model is 0.552\n",
      "At a number of estimators of 9 and max depth 9 the F1 score of the model is 0.574\n",
      "At a number of estimators of 9 and max depth 10 the F1 score of the model is 0.586\n",
      "At a number of estimators of 9 and max depth 11 the F1 score of the model is 0.559\n",
      "At a number of estimators of 9 and max depth 12 the F1 score of the model is 0.595\n",
      "At a number of estimators of 9 and max depth 13 the F1 score of the model is 0.596\n",
      "At a number of estimators of 9 and max depth 14 the F1 score of the model is 0.569\n",
      "At a number of estimators of 9 and max depth 15 the F1 score of the model is 0.591\n",
      "At a number of estimators of 9 and max depth 16 the F1 score of the model is 0.573\n",
      "At a number of estimators of 9 and max depth 17 the F1 score of the model is 0.58\n",
      "At a number of estimators of 9 and max depth 18 the F1 score of the model is 0.577\n",
      "At a number of estimators of 9 and max depth 19 the F1 score of the model is 0.592\n",
      "At a number of estimators of 9 and max depth 20 the F1 score of the model is 0.555\n",
      "At a number of estimators of 10 and max depth 1 the F1 score of the model is 0.0\n",
      "At a number of estimators of 10 and max depth 2 the F1 score of the model is 0.2\n",
      "At a number of estimators of 10 and max depth 3 the F1 score of the model is 0.251\n",
      "At a number of estimators of 10 and max depth 4 the F1 score of the model is 0.477\n",
      "At a number of estimators of 10 and max depth 5 the F1 score of the model is 0.473\n",
      "At a number of estimators of 10 and max depth 6 the F1 score of the model is 0.546\n",
      "At a number of estimators of 10 and max depth 7 the F1 score of the model is 0.541\n",
      "At a number of estimators of 10 and max depth 8 the F1 score of the model is 0.553\n",
      "At a number of estimators of 10 and max depth 9 the F1 score of the model is 0.58\n",
      "At a number of estimators of 10 and max depth 10 the F1 score of the model is 0.574\n",
      "At a number of estimators of 10 and max depth 11 the F1 score of the model is 0.568\n",
      "At a number of estimators of 10 and max depth 12 the F1 score of the model is 0.588\n",
      "At a number of estimators of 10 and max depth 13 the F1 score of the model is 0.585\n",
      "At a number of estimators of 10 and max depth 14 the F1 score of the model is 0.569\n",
      "At a number of estimators of 10 and max depth 15 the F1 score of the model is 0.587\n",
      "At a number of estimators of 10 and max depth 16 the F1 score of the model is 0.579\n",
      "At a number of estimators of 10 and max depth 17 the F1 score of the model is 0.575\n",
      "At a number of estimators of 10 and max depth 18 the F1 score of the model is 0.559\n",
      "At a number of estimators of 10 and max depth 19 the F1 score of the model is 0.574\n",
      "At a number of estimators of 10 and max depth 20 the F1 score of the model is 0.541\n",
      "At a number of estimators of 11 and max depth 1 the F1 score of the model is 0.0\n",
      "At a number of estimators of 11 and max depth 2 the F1 score of the model is 0.193\n",
      "At a number of estimators of 11 and max depth 3 the F1 score of the model is 0.244\n",
      "At a number of estimators of 11 and max depth 4 the F1 score of the model is 0.454\n"
     ]
    },
    {
     "name": "stdout",
     "output_type": "stream",
     "text": [
      "At a number of estimators of 11 and max depth 5 the F1 score of the model is 0.474\n",
      "At a number of estimators of 11 and max depth 6 the F1 score of the model is 0.546\n",
      "At a number of estimators of 11 and max depth 7 the F1 score of the model is 0.55\n",
      "At a number of estimators of 11 and max depth 8 the F1 score of the model is 0.548\n",
      "At a number of estimators of 11 and max depth 9 the F1 score of the model is 0.573\n",
      "At a number of estimators of 11 and max depth 10 the F1 score of the model is 0.568\n",
      "At a number of estimators of 11 and max depth 11 the F1 score of the model is 0.576\n",
      "At a number of estimators of 11 and max depth 12 the F1 score of the model is 0.587\n",
      "At a number of estimators of 11 and max depth 13 the F1 score of the model is 0.593\n",
      "At a number of estimators of 11 and max depth 14 the F1 score of the model is 0.578\n",
      "At a number of estimators of 11 and max depth 15 the F1 score of the model is 0.596\n",
      "At a number of estimators of 11 and max depth 16 the F1 score of the model is 0.59\n",
      "At a number of estimators of 11 and max depth 17 the F1 score of the model is 0.595\n",
      "At a number of estimators of 11 and max depth 18 the F1 score of the model is 0.58\n",
      "At a number of estimators of 11 and max depth 19 the F1 score of the model is 0.596\n",
      "At a number of estimators of 11 and max depth 20 the F1 score of the model is 0.57\n",
      "At a number of estimators of 12 and max depth 1 the F1 score of the model is 0.0\n",
      "At a number of estimators of 12 and max depth 2 the F1 score of the model is 0.2\n",
      "At a number of estimators of 12 and max depth 3 the F1 score of the model is 0.248\n",
      "At a number of estimators of 12 and max depth 4 the F1 score of the model is 0.427\n",
      "At a number of estimators of 12 and max depth 5 the F1 score of the model is 0.472\n",
      "At a number of estimators of 12 and max depth 6 the F1 score of the model is 0.553\n",
      "At a number of estimators of 12 and max depth 7 the F1 score of the model is 0.536\n",
      "At a number of estimators of 12 and max depth 8 the F1 score of the model is 0.557\n",
      "At a number of estimators of 12 and max depth 9 the F1 score of the model is 0.564\n",
      "At a number of estimators of 12 and max depth 10 the F1 score of the model is 0.574\n",
      "At a number of estimators of 12 and max depth 11 the F1 score of the model is 0.574\n",
      "At a number of estimators of 12 and max depth 12 the F1 score of the model is 0.591\n",
      "At a number of estimators of 12 and max depth 13 the F1 score of the model is 0.599\n",
      "At a number of estimators of 12 and max depth 14 the F1 score of the model is 0.568\n",
      "At a number of estimators of 12 and max depth 15 the F1 score of the model is 0.595\n",
      "At a number of estimators of 12 and max depth 16 the F1 score of the model is 0.571\n",
      "At a number of estimators of 12 and max depth 17 the F1 score of the model is 0.579\n",
      "At a number of estimators of 12 and max depth 18 the F1 score of the model is 0.559\n",
      "At a number of estimators of 12 and max depth 19 the F1 score of the model is 0.574\n",
      "At a number of estimators of 12 and max depth 20 the F1 score of the model is 0.547\n",
      "At a number of estimators of 13 and max depth 1 the F1 score of the model is 0.0\n",
      "At a number of estimators of 13 and max depth 2 the F1 score of the model is 0.2\n",
      "At a number of estimators of 13 and max depth 3 the F1 score of the model is 0.247\n",
      "At a number of estimators of 13 and max depth 4 the F1 score of the model is 0.409\n",
      "At a number of estimators of 13 and max depth 5 the F1 score of the model is 0.474\n",
      "At a number of estimators of 13 and max depth 6 the F1 score of the model is 0.542\n",
      "At a number of estimators of 13 and max depth 7 the F1 score of the model is 0.541\n",
      "At a number of estimators of 13 and max depth 8 the F1 score of the model is 0.562\n",
      "At a number of estimators of 13 and max depth 9 the F1 score of the model is 0.561\n",
      "At a number of estimators of 13 and max depth 10 the F1 score of the model is 0.571\n",
      "At a number of estimators of 13 and max depth 11 the F1 score of the model is 0.571\n",
      "At a number of estimators of 13 and max depth 12 the F1 score of the model is 0.596\n",
      "At a number of estimators of 13 and max depth 13 the F1 score of the model is 0.599\n",
      "At a number of estimators of 13 and max depth 14 the F1 score of the model is 0.573\n",
      "At a number of estimators of 13 and max depth 15 the F1 score of the model is 0.597\n",
      "At a number of estimators of 13 and max depth 16 the F1 score of the model is 0.582\n",
      "At a number of estimators of 13 and max depth 17 the F1 score of the model is 0.59\n",
      "At a number of estimators of 13 and max depth 18 the F1 score of the model is 0.575\n",
      "At a number of estimators of 13 and max depth 19 the F1 score of the model is 0.595\n",
      "At a number of estimators of 13 and max depth 20 the F1 score of the model is 0.574\n",
      "At a number of estimators of 14 and max depth 1 the F1 score of the model is 0.0\n",
      "At a number of estimators of 14 and max depth 2 the F1 score of the model is 0.2\n",
      "At a number of estimators of 14 and max depth 3 the F1 score of the model is 0.248\n",
      "At a number of estimators of 14 and max depth 4 the F1 score of the model is 0.408\n",
      "At a number of estimators of 14 and max depth 5 the F1 score of the model is 0.492\n",
      "At a number of estimators of 14 and max depth 6 the F1 score of the model is 0.555\n",
      "At a number of estimators of 14 and max depth 7 the F1 score of the model is 0.547\n",
      "At a number of estimators of 14 and max depth 8 the F1 score of the model is 0.559\n",
      "At a number of estimators of 14 and max depth 9 the F1 score of the model is 0.561\n",
      "At a number of estimators of 14 and max depth 10 the F1 score of the model is 0.575\n",
      "At a number of estimators of 14 and max depth 11 the F1 score of the model is 0.571\n",
      "At a number of estimators of 14 and max depth 12 the F1 score of the model is 0.593\n",
      "At a number of estimators of 14 and max depth 13 the F1 score of the model is 0.599\n",
      "At a number of estimators of 14 and max depth 14 the F1 score of the model is 0.568\n",
      "At a number of estimators of 14 and max depth 15 the F1 score of the model is 0.587\n",
      "At a number of estimators of 14 and max depth 16 the F1 score of the model is 0.577\n",
      "At a number of estimators of 14 and max depth 17 the F1 score of the model is 0.577\n",
      "At a number of estimators of 14 and max depth 18 the F1 score of the model is 0.561\n",
      "At a number of estimators of 14 and max depth 19 the F1 score of the model is 0.579\n",
      "At a number of estimators of 14 and max depth 20 the F1 score of the model is 0.56\n",
      "At a number of estimators of 15 and max depth 1 the F1 score of the model is 0.0\n",
      "At a number of estimators of 15 and max depth 2 the F1 score of the model is 0.2\n",
      "At a number of estimators of 15 and max depth 3 the F1 score of the model is 0.244\n",
      "At a number of estimators of 15 and max depth 4 the F1 score of the model is 0.395\n",
      "At a number of estimators of 15 and max depth 5 the F1 score of the model is 0.469\n",
      "At a number of estimators of 15 and max depth 6 the F1 score of the model is 0.549\n",
      "At a number of estimators of 15 and max depth 7 the F1 score of the model is 0.556\n",
      "At a number of estimators of 15 and max depth 8 the F1 score of the model is 0.551\n",
      "At a number of estimators of 15 and max depth 9 the F1 score of the model is 0.566\n",
      "At a number of estimators of 15 and max depth 10 the F1 score of the model is 0.582\n",
      "At a number of estimators of 15 and max depth 11 the F1 score of the model is 0.587\n",
      "At a number of estimators of 15 and max depth 12 the F1 score of the model is 0.591\n",
      "At a number of estimators of 15 and max depth 13 the F1 score of the model is 0.59\n",
      "At a number of estimators of 15 and max depth 14 the F1 score of the model is 0.575\n",
      "At a number of estimators of 15 and max depth 15 the F1 score of the model is 0.584\n",
      "At a number of estimators of 15 and max depth 16 the F1 score of the model is 0.594\n",
      "At a number of estimators of 15 and max depth 17 the F1 score of the model is 0.592\n",
      "At a number of estimators of 15 and max depth 18 the F1 score of the model is 0.576\n",
      "At a number of estimators of 15 and max depth 19 the F1 score of the model is 0.595\n",
      "At a number of estimators of 15 and max depth 20 the F1 score of the model is 0.557\n",
      "At a number of estimators of 16 and max depth 1 the F1 score of the model is 0.0\n",
      "At a number of estimators of 16 and max depth 2 the F1 score of the model is 0.185\n",
      "At a number of estimators of 16 and max depth 3 the F1 score of the model is 0.233\n",
      "At a number of estimators of 16 and max depth 4 the F1 score of the model is 0.394\n"
     ]
    },
    {
     "name": "stdout",
     "output_type": "stream",
     "text": [
      "At a number of estimators of 16 and max depth 5 the F1 score of the model is 0.501\n",
      "At a number of estimators of 16 and max depth 6 the F1 score of the model is 0.553\n",
      "At a number of estimators of 16 and max depth 7 the F1 score of the model is 0.551\n",
      "At a number of estimators of 16 and max depth 8 the F1 score of the model is 0.551\n",
      "At a number of estimators of 16 and max depth 9 the F1 score of the model is 0.567\n",
      "At a number of estimators of 16 and max depth 10 the F1 score of the model is 0.572\n",
      "At a number of estimators of 16 and max depth 11 the F1 score of the model is 0.589\n",
      "At a number of estimators of 16 and max depth 12 the F1 score of the model is 0.598\n",
      "At a number of estimators of 16 and max depth 13 the F1 score of the model is 0.584\n",
      "At a number of estimators of 16 and max depth 14 the F1 score of the model is 0.576\n",
      "At a number of estimators of 16 and max depth 15 the F1 score of the model is 0.587\n",
      "At a number of estimators of 16 and max depth 16 the F1 score of the model is 0.575\n",
      "At a number of estimators of 16 and max depth 17 the F1 score of the model is 0.578\n",
      "At a number of estimators of 16 and max depth 18 the F1 score of the model is 0.565\n",
      "At a number of estimators of 16 and max depth 19 the F1 score of the model is 0.58\n",
      "At a number of estimators of 16 and max depth 20 the F1 score of the model is 0.556\n",
      "At a number of estimators of 17 and max depth 1 the F1 score of the model is 0.0\n",
      "At a number of estimators of 17 and max depth 2 the F1 score of the model is 0.2\n",
      "At a number of estimators of 17 and max depth 3 the F1 score of the model is 0.23\n",
      "At a number of estimators of 17 and max depth 4 the F1 score of the model is 0.407\n",
      "At a number of estimators of 17 and max depth 5 the F1 score of the model is 0.508\n",
      "At a number of estimators of 17 and max depth 6 the F1 score of the model is 0.546\n",
      "At a number of estimators of 17 and max depth 7 the F1 score of the model is 0.547\n",
      "At a number of estimators of 17 and max depth 8 the F1 score of the model is 0.551\n",
      "At a number of estimators of 17 and max depth 9 the F1 score of the model is 0.565\n",
      "At a number of estimators of 17 and max depth 10 the F1 score of the model is 0.568\n",
      "At a number of estimators of 17 and max depth 11 the F1 score of the model is 0.578\n",
      "At a number of estimators of 17 and max depth 12 the F1 score of the model is 0.591\n",
      "At a number of estimators of 17 and max depth 13 the F1 score of the model is 0.579\n",
      "At a number of estimators of 17 and max depth 14 the F1 score of the model is 0.57\n",
      "At a number of estimators of 17 and max depth 15 the F1 score of the model is 0.592\n",
      "At a number of estimators of 17 and max depth 16 the F1 score of the model is 0.586\n",
      "At a number of estimators of 17 and max depth 17 the F1 score of the model is 0.592\n",
      "At a number of estimators of 17 and max depth 18 the F1 score of the model is 0.573\n",
      "At a number of estimators of 17 and max depth 19 the F1 score of the model is 0.583\n",
      "At a number of estimators of 17 and max depth 20 the F1 score of the model is 0.564\n",
      "At a number of estimators of 18 and max depth 1 the F1 score of the model is 0.0\n",
      "At a number of estimators of 18 and max depth 2 the F1 score of the model is 0.197\n",
      "At a number of estimators of 18 and max depth 3 the F1 score of the model is 0.237\n",
      "At a number of estimators of 18 and max depth 4 the F1 score of the model is 0.424\n",
      "At a number of estimators of 18 and max depth 5 the F1 score of the model is 0.487\n",
      "At a number of estimators of 18 and max depth 6 the F1 score of the model is 0.548\n",
      "At a number of estimators of 18 and max depth 7 the F1 score of the model is 0.55\n",
      "At a number of estimators of 18 and max depth 8 the F1 score of the model is 0.56\n",
      "At a number of estimators of 18 and max depth 9 the F1 score of the model is 0.575\n",
      "At a number of estimators of 18 and max depth 10 the F1 score of the model is 0.571\n",
      "At a number of estimators of 18 and max depth 11 the F1 score of the model is 0.594\n",
      "At a number of estimators of 18 and max depth 12 the F1 score of the model is 0.585\n",
      "At a number of estimators of 18 and max depth 13 the F1 score of the model is 0.582\n",
      "At a number of estimators of 18 and max depth 14 the F1 score of the model is 0.576\n",
      "At a number of estimators of 18 and max depth 15 the F1 score of the model is 0.587\n",
      "At a number of estimators of 18 and max depth 16 the F1 score of the model is 0.576\n",
      "At a number of estimators of 18 and max depth 17 the F1 score of the model is 0.576\n",
      "At a number of estimators of 18 and max depth 18 the F1 score of the model is 0.576\n",
      "At a number of estimators of 18 and max depth 19 the F1 score of the model is 0.575\n",
      "At a number of estimators of 18 and max depth 20 the F1 score of the model is 0.557\n",
      "At a number of estimators of 19 and max depth 1 the F1 score of the model is 0.0\n",
      "At a number of estimators of 19 and max depth 2 the F1 score of the model is 0.177\n",
      "At a number of estimators of 19 and max depth 3 the F1 score of the model is 0.233\n",
      "At a number of estimators of 19 and max depth 4 the F1 score of the model is 0.419\n",
      "At a number of estimators of 19 and max depth 5 the F1 score of the model is 0.503\n",
      "At a number of estimators of 19 and max depth 6 the F1 score of the model is 0.55\n",
      "At a number of estimators of 19 and max depth 7 the F1 score of the model is 0.543\n",
      "At a number of estimators of 19 and max depth 8 the F1 score of the model is 0.564\n",
      "At a number of estimators of 19 and max depth 9 the F1 score of the model is 0.564\n",
      "At a number of estimators of 19 and max depth 10 the F1 score of the model is 0.574\n",
      "At a number of estimators of 19 and max depth 11 the F1 score of the model is 0.588\n",
      "At a number of estimators of 19 and max depth 12 the F1 score of the model is 0.591\n",
      "At a number of estimators of 19 and max depth 13 the F1 score of the model is 0.586\n",
      "At a number of estimators of 19 and max depth 14 the F1 score of the model is 0.58\n",
      "At a number of estimators of 19 and max depth 15 the F1 score of the model is 0.582\n",
      "At a number of estimators of 19 and max depth 16 the F1 score of the model is 0.59\n",
      "At a number of estimators of 19 and max depth 17 the F1 score of the model is 0.588\n",
      "At a number of estimators of 19 and max depth 18 the F1 score of the model is 0.578\n",
      "At a number of estimators of 19 and max depth 19 the F1 score of the model is 0.585\n",
      "At a number of estimators of 19 and max depth 20 the F1 score of the model is 0.56\n",
      "At a number of estimators of 20 and max depth 1 the F1 score of the model is 0.0\n",
      "At a number of estimators of 20 and max depth 2 the F1 score of the model is 0.158\n",
      "At a number of estimators of 20 and max depth 3 the F1 score of the model is 0.24\n",
      "At a number of estimators of 20 and max depth 4 the F1 score of the model is 0.414\n",
      "At a number of estimators of 20 and max depth 5 the F1 score of the model is 0.504\n",
      "At a number of estimators of 20 and max depth 6 the F1 score of the model is 0.536\n",
      "At a number of estimators of 20 and max depth 7 the F1 score of the model is 0.541\n",
      "At a number of estimators of 20 and max depth 8 the F1 score of the model is 0.563\n",
      "At a number of estimators of 20 and max depth 9 the F1 score of the model is 0.575\n",
      "At a number of estimators of 20 and max depth 10 the F1 score of the model is 0.579\n",
      "At a number of estimators of 20 and max depth 11 the F1 score of the model is 0.58\n",
      "At a number of estimators of 20 and max depth 12 the F1 score of the model is 0.591\n",
      "At a number of estimators of 20 and max depth 13 the F1 score of the model is 0.581\n",
      "At a number of estimators of 20 and max depth 14 the F1 score of the model is 0.585\n",
      "At a number of estimators of 20 and max depth 15 the F1 score of the model is 0.579\n",
      "At a number of estimators of 20 and max depth 16 the F1 score of the model is 0.586\n",
      "At a number of estimators of 20 and max depth 17 the F1 score of the model is 0.583\n",
      "At a number of estimators of 20 and max depth 18 the F1 score of the model is 0.58\n",
      "At a number of estimators of 20 and max depth 19 the F1 score of the model is 0.577\n",
      "At a number of estimators of 20 and max depth 20 the F1 score of the model is 0.559\n",
      "\n",
      "The F1 score of the best model is 0.599 with a number of estimators of 14 and max depth 13\n"
     ]
    }
   ],
   "source": [
    "# For the Decision Tree Classification Model the parameters that should be tuned are n_estimators and max_depth\n",
    "# Initialize loop variables\n",
    "best_result = 0\n",
    "best_est = 0\n",
    "best_depth = 0\n",
    "\n",
    "# For number of estimators and max depth each between 1 and 20, calculate the optimal value for each parameter and evaluate model for greatest F1 score\n",
    "# I am choosing to use F1 score as the preferred tuning metric because:\n",
    "# a) We have a target of 0.59 or greater \n",
    "# b) It is a better metric than accuracy when the data has imbalanced classes\n",
    "for est in range(1, 21):\n",
    "    for depth in range(1, 21):\n",
    "        model = RandomForestClassifier(random_state=12345, n_estimators=est, max_depth=depth) # Create a model with the given parameters\n",
    "        model.fit(features_train, target_train) # Train the model\n",
    "        predictions = model.predict(features_valid) # Get the model's predictions\n",
    "        result = f1_score(target_valid,predictions) # Calculate the F1 score\n",
    "        if result > best_result:\n",
    "            best_result = result\n",
    "            best_est = est\n",
    "            best_depth = depth\n",
    "    \n",
    "    # Print model F1 score at each depth\n",
    "        print(\"At a number of estimators of\", est, \"and max depth\", depth, \"the F1 score of the model is\", round(result,3))\n",
    "\n",
    "# Print the F1 score of the model and which number of estimators produced the greatest F1 score\n",
    "print()\n",
    "print(\"The F1 score of the best model is\", round(best_result,3), \"with a number of estimators of\", best_est, \"and max depth\", best_depth)"
   ]
  },
  {
   "cell_type": "markdown",
   "metadata": {},
   "source": [
    "#### Model Performance Metrics"
   ]
  },
  {
   "cell_type": "code",
   "execution_count": 13,
   "metadata": {},
   "outputs": [
    {
     "name": "stdout",
     "output_type": "stream",
     "text": [
      "Confusion Matrix\n",
      "[[1528   54]\n",
      " [ 216  202]]\n",
      "\n",
      "With 14 estimators and a max depth of 13, the accuracy of the model is 0.865\n",
      "The Recall Score is 0.483\n",
      "The Precision Score is 0.789\n",
      "The F1 Score is 0.599\n",
      "The AUC-ROC Score is 0.836\n"
     ]
    }
   ],
   "source": [
    "# Use Random Forest Model for classification with 14 estimators and max depth 13 (from above results)\n",
    "model = RandomForestClassifier(random_state=12345, n_estimators=14, max_depth=13)\n",
    "\n",
    "# Fit Model to Traing Dataset\n",
    "model.fit(features_train, target_train)\n",
    "\n",
    "# Use Model to Predict Target Values on Validation Set\n",
    "predicted_valid = model.predict(features_valid)\n",
    "\n",
    "# Print Confusion Matrix\n",
    "print('Confusion Matrix')\n",
    "print(confusion_matrix(target_valid, predicted_valid))\n",
    "\n",
    "# Get Accuracy Score \n",
    "accuracy_valid = accuracy_score(target_valid, predicted_valid)\n",
    "\n",
    "# Print Model Accuracy \n",
    "print(\"\\nWith 14 estimators and a max depth of 13, the accuracy of the model is\", round(accuracy_valid, 3))\n",
    "\n",
    "# Print Recall Score\n",
    "print('The Recall Score is', round(recall_score(target_valid, predicted_valid), 3))\n",
    "\n",
    "# Print Precision Score \n",
    "print('The Precision Score is', round(precision_score(target_valid, predicted_valid), 3))\n",
    "\n",
    "# Print F1 Score \n",
    "print('The F1 Score is', round(f1_score(target_valid, predicted_valid), 3))\n",
    "\n",
    "# Calculate and Print AUC-ROC Score\n",
    "probabilities_valid = model.predict_proba(features_valid)\n",
    "probabilities_one_valid = probabilities_valid[:, 1]\n",
    "auc_roc = roc_auc_score(target_valid, probabilities_one_valid)\n",
    "print('The AUC-ROC Score is', round(auc_roc, 3))"
   ]
  },
  {
   "cell_type": "markdown",
   "metadata": {},
   "source": [
    "### Logistic Regression Model\n",
    "\n",
    "#### Training and Performance Metrics"
   ]
  },
  {
   "cell_type": "code",
   "execution_count": 14,
   "metadata": {},
   "outputs": [
    {
     "name": "stdout",
     "output_type": "stream",
     "text": [
      "Confusion Matrix\n",
      "[[1506   76]\n",
      " [ 319   99]]\n",
      "\n",
      "The Accuracy Score of the logistic regression model on the validation dataset is 0.802\n",
      "The Recall Score is 0.237\n",
      "The Precision Score is 0.566\n",
      "The F1 score is 0.334\n",
      "The AUC-ROC Score is 0.759\n"
     ]
    }
   ],
   "source": [
    "# Create a Logistic Regression Model\n",
    "model = LogisticRegression(random_state=12345, solver=\"liblinear\")\n",
    "\n",
    "# Fit the model to the traning dataset\n",
    "model.fit(features_train, target_train)\n",
    "\n",
    "# Score the model accuracy on the validation dataset\n",
    "# I am choosing to use F1 score as the preferred tuning metric because:\n",
    "# a) We have a target of 0.59 or greater \n",
    "# b) It is a better metric than accuracy when the data has imbalanced classes\n",
    "predicted_valid = model.predict(features_valid)\n",
    "score_valid = f1_score(target_valid, predicted_valid)\n",
    "\n",
    "# Print Confusion Matrix\n",
    "print('Confusion Matrix')\n",
    "print(confusion_matrix(target_valid, predicted_valid))\n",
    "\n",
    "# Print Accuracy Score\n",
    "print('\\nThe Accuracy Score of the logistic regression model on the validation dataset is', round(accuracy_score(target_valid, predicted_valid), 3))\n",
    "\n",
    "# Print Recall Score\n",
    "print('The Recall Score is', round(recall_score(target_valid, predicted_valid), 3))\n",
    "\n",
    "# Print Precision Score \n",
    "print('The Precision Score is', round(precision_score(target_valid, predicted_valid), 3))\n",
    "\n",
    "# Print the F1 scores of the model on the training and validation datasets\n",
    "print(\"The F1 score is\", round(score_valid, 3))\n",
    "\n",
    "# Calculate and Print AUC-ROC Score\n",
    "probabilities_valid = model.predict_proba(features_valid)\n",
    "probabilities_one_valid = probabilities_valid[:, 1]\n",
    "auc_roc = roc_auc_score(target_valid, probabilities_one_valid)\n",
    "print('The AUC-ROC Score is', round(auc_roc, 3))"
   ]
  },
  {
   "cell_type": "markdown",
   "metadata": {},
   "source": [
    "## Address Class Imbalance in the Data\n",
    "\n",
    "Class imbalance in the dataset can be handled in several ways:\n",
    "\n",
    "- Class Weight Adjustment — In order to indicate that some observations are more important than others, we can assign a weight to the respective class by using the parameter class_weight='balanced' in our classification models. The algorithm will calculate how many times the class \"0\" occurs more often than the class \"1\". We’ll denote this number as N (an unknown number of times). Because of this, rare class will have a higher weight.\n",
    "- Resampling\n",
    "    - Upsampling — Determine the class with fewer observations - the rare class. Duplicate the rarer class observations several times. Create a new training sample based on the data obtained. The most important tasks are repeated several times to make them easier to remember for the model.\n",
    "    - Downsampling — Determine the class with more observations - the majority class. We can randomly drop a portion of majority class observations to remove noise for the model to more easily find rare observations.\n",
    "\n",
    "### Class Weight Adjustment\n",
    "\n",
    "This step will be performed in Section 7 by including the parameter class_weight='balanced' in each classification model.\n",
    "\n",
    "### Resampling (Upsampling and Downsampling)\n",
    "\n",
    "There may exist a variable among both the features and target that is overrepresented or underrepresented in the data. This is problematic and may cause the model to not appropriately consider those variables when being trained. To check how this should be applied to the data, I will take a closer look at the features and target individually for any patterns or observations."
   ]
  },
  {
   "cell_type": "code",
   "execution_count": 15,
   "metadata": {
    "scrolled": true
   },
   "outputs": [
    {
     "data": {
      "text/plain": [
       "array([[<AxesSubplot:title={'center':'RowNumber'}>,\n",
       "        <AxesSubplot:title={'center':'CustomerId'}>,\n",
       "        <AxesSubplot:title={'center':'CreditScore'}>],\n",
       "       [<AxesSubplot:title={'center':'Age'}>,\n",
       "        <AxesSubplot:title={'center':'Tenure'}>,\n",
       "        <AxesSubplot:title={'center':'Balance'}>],\n",
       "       [<AxesSubplot:title={'center':'NumOfProducts'}>,\n",
       "        <AxesSubplot:title={'center':'HasCrCard'}>,\n",
       "        <AxesSubplot:title={'center':'IsActiveMember'}>],\n",
       "       [<AxesSubplot:title={'center':'EstimatedSalary'}>,\n",
       "        <AxesSubplot:title={'center':'Exited'}>, <AxesSubplot:>]],\n",
       "      dtype=object)"
      ]
     },
     "execution_count": 15,
     "metadata": {},
     "output_type": "execute_result"
    },
    {
     "data": {
      "image/png": "[encoded data removed]",
      "text/plain": [
       "<Figure size 1000x800 with 12 Axes>"
      ]
     },
     "metadata": {},
     "output_type": "display_data"
    }
   ],
   "source": [
    "# Checking for underrepresented or overrepresented features that may need to be upsampled or downsampled, respectively\n",
    "# Quick histogram of each variable for an overview, from the original dataframe for clarity\n",
    "churn.hist(figsize=(10, 8))"
   ]
  },
  {
   "cell_type": "code",
   "execution_count": 16,
   "metadata": {},
   "outputs": [
    {
     "name": "stdout",
     "output_type": "stream",
     "text": [
      "Percentage of customers that left the bank: 20.369999999999997\n",
      "\n",
      "37    478\n",
      "38    477\n",
      "35    474\n",
      "36    456\n",
      "34    447\n",
      "     ... \n",
      "92      2\n",
      "88      1\n",
      "82      1\n",
      "85      1\n",
      "83      1\n",
      "Name: Age, Length: 70, dtype: int64\n",
      "\n",
      "Median age: 37.0\n",
      "Mean age: 38.92\n",
      "Percentage of customers above age 55: 8.0\n",
      "\n",
      "0.00         3617\n",
      "105473.74       2\n",
      "130170.82       2\n",
      "72594.00        1\n",
      "139723.90       1\n",
      "             ... \n",
      "130306.49       1\n",
      "92895.56        1\n",
      "132005.77       1\n",
      "166287.85       1\n",
      "104001.38       1\n",
      "Name: Balance, Length: 6382, dtype: int64\n",
      "\n",
      "Percentage of customers with zero balances: 36.17\n"
     ]
    },
    {
     "data": {
      "text/plain": [
       "Text(0.5, 0, 'Age')"
      ]
     },
     "execution_count": 16,
     "metadata": {},
     "output_type": "execute_result"
    },
    {
     "data": {
      "image/png": "[encoded data removed]",
      "text/plain": [
       "<Figure size 1000x800 with 1 Axes>"
      ]
     },
     "metadata": {},
     "output_type": "display_data"
    }
   ],
   "source": [
    "# Checking the class balance of Exited (target)\n",
    "print(\"Percentage of customers that left the bank:\", churn[churn['Exited'] == 1].shape[0] / len(churn) * 100)\n",
    "print()\n",
    "# Checking characteristics of the Age and Balance features for class imbalance\n",
    "print(churn['Age'].value_counts())\n",
    "print()\n",
    "print(\"Median age:\", churn['Age'].median())\n",
    "print(\"Mean age:\", churn['Age'].mean().round(2))\n",
    "print(\"Percentage of customers above age 55:\", churn[churn['Age'] > 55].shape[0] / len(churn) * 100)\n",
    "print()\n",
    "print(churn['Balance'].value_counts())\n",
    "print()\n",
    "print(\"Percentage of customers with zero balances:\", churn[churn['Balance'] == 0].shape[0] / len(churn) * 100)\n",
    "\n",
    "\n",
    "# More detailed histogram of Age feature from original data\n",
    "churn['Age'].hist(figsize=(10, 8), bins=20)\n",
    "plt.title('Distribution of Customer Ages in the Dataset')\n",
    "plt.ylabel('Frequency')\n",
    "plt.xlabel('Age')"
   ]
  },
  {
   "cell_type": "markdown",
   "metadata": {},
   "source": [
    "Based on the analysis above, the features with the most class imbalance are Age and Balance. To address each, I would:\n",
    "- Upsample data for individuals above age 55 due to underrepresentation (only 8% of customers are above age 55)\n",
    "- Downsample those with Balances of $0.00 due to overrepresentation (36.17% of customers have a zero balance)\n",
    "\n",
    "However, it is easier to perform the upsampling more generally, based on the target imbalance:\n",
    "- 20.37% of customers in the dataset left the bank, making this an underrepresented class\n",
    "\n",
    "I will perform upsampling based on the target. The data corresponding to those who exited the bank will be multiplied by 10 and randomly shuffled back into the dataset."
   ]
  },
  {
   "cell_type": "code",
   "execution_count": 17,
   "metadata": {},
   "outputs": [],
   "source": [
    "# Create function for upsampling\n",
    "# Function will return an upsampled feature and target traning set to train the model on \n",
    "# Upsample function will multiply positive class observations by 10 and then shuffle the results to create a new training set\n",
    "def upsample(features, target, repeat):\n",
    "    features_zeros = features[target == 0]\n",
    "    features_ones = features[target == 1]\n",
    "    target_zeros = target[target == 0]\n",
    "    target_ones = target[target == 1]\n",
    "\n",
    "    features_upsampled = pd.concat([features_zeros] + [features_ones] * repeat)\n",
    "    target_upsampled = pd.concat([target_zeros] + [target_ones] * repeat)\n",
    "\n",
    "    features_upsampled, target_upsampled = shuffle(\n",
    "        features_upsampled, target_upsampled, random_state=12345\n",
    "    )\n",
    "\n",
    "    return features_upsampled, target_upsampled\n",
    "\n",
    "# Return upsampled traning sets\n",
    "features_upsampled, target_upsampled = upsample(features_train, target_train, 10)"
   ]
  },
  {
   "cell_type": "markdown",
   "metadata": {},
   "source": [
    "I have now created adjusted datasets to more accurately reflect the bank's customers. These new datasets will be used along with the parameter class_weight='balanced' in each algorithm.\n",
    "\n",
    "## Model Training (Accounting for Class Imbalance)\n",
    "\n",
    "I will revisit the same 3 algorithms as above but using the adjusted (upsampled) datasets and class_weight parameter:\n",
    "- Decision Tree Classifier\n",
    "- Random Forest Classifier\n",
    "- Logistic Regression\n",
    "\n",
    "### Decision Tree Classifier Model\n",
    "\n",
    "#### Training and Tuning"
   ]
  },
  {
   "cell_type": "code",
   "execution_count": 18,
   "metadata": {},
   "outputs": [
    {
     "name": "stdout",
     "output_type": "stream",
     "text": [
      "At a depth of 1 the F1 score of the model is 0.499\n",
      "At a depth of 2 the F1 score of the model is 0.541\n",
      "At a depth of 3 the F1 score of the model is 0.541\n",
      "At a depth of 4 the F1 score of the model is 0.528\n",
      "At a depth of 5 the F1 score of the model is 0.596\n",
      "At a depth of 6 the F1 score of the model is 0.561\n",
      "At a depth of 7 the F1 score of the model is 0.556\n",
      "At a depth of 8 the F1 score of the model is 0.539\n",
      "At a depth of 9 the F1 score of the model is 0.532\n",
      "At a depth of 10 the F1 score of the model is 0.517\n",
      "At a depth of 11 the F1 score of the model is 0.527\n",
      "At a depth of 12 the F1 score of the model is 0.512\n",
      "At a depth of 13 the F1 score of the model is 0.506\n",
      "At a depth of 14 the F1 score of the model is 0.497\n",
      "At a depth of 15 the F1 score of the model is 0.487\n",
      "At a depth of 16 the F1 score of the model is 0.485\n",
      "At a depth of 17 the F1 score of the model is 0.47\n",
      "At a depth of 18 the F1 score of the model is 0.489\n",
      "At a depth of 19 the F1 score of the model is 0.465\n",
      "At a depth of 20 the F1 score of the model is 0.468\n",
      "\n",
      "The F1 score of the best model is 0.596 at a depth of 5\n"
     ]
    }
   ],
   "source": [
    "# For the Decision Tree Classification Model the parameter that should be tuned is max_depth\n",
    "# Initialize loop variables\n",
    "best_result = 0\n",
    "best_depth = 0\n",
    "\n",
    "# For tree depth from 1 to 20, calculate the optimal tree depth and evaluate model for greatest F1 score\n",
    "# I am choosing to use F1 score as the preferred tuning metric because:\n",
    "# a) We have a target of 0.59 or greater\n",
    "# b) It is a better metric than accuracy when the data has imbalanced classes\n",
    "for depth in range(1, 21):\n",
    "    model = DecisionTreeClassifier(random_state=12345, max_depth=depth, class_weight='balanced') # Create a model with the given depth\n",
    "    model.fit(features_upsampled, target_upsampled) # Train the model\n",
    "    predictions = model.predict(features_valid) # Get the model's predictions\n",
    "    result = f1_score(target_valid, predictions) # Calculate the F1 score\n",
    "    if result > best_result:\n",
    "        best_result = result\n",
    "        best_depth = depth\n",
    "    \n",
    "    # Print model accuracy at each depth\n",
    "    print(\"At a depth of\", depth, \"the F1 score of the model is\", round(result, 3))\n",
    "\n",
    "# Print the F1 score of the model and which depth produced the greatest F1 score \n",
    "print()\n",
    "print(\"The F1 score of the best model is\", round(best_result, 3), \"at a depth of\", best_depth)"
   ]
  },
  {
   "cell_type": "markdown",
   "metadata": {},
   "source": [
    "#### Model Performance Metrics"
   ]
  },
  {
   "cell_type": "code",
   "execution_count": 19,
   "metadata": {},
   "outputs": [
    {
     "name": "stdout",
     "output_type": "stream",
     "text": [
      "Confusion Matrix\n",
      "[[1341  241]\n",
      " [ 138  280]]\n",
      "\n",
      "With a max depth of 5, the accuracy of the model is 0.81\n",
      "The Recall Score is 0.67\n",
      "The Precision Score is 0.537\n",
      "The F1 Score is 0.596\n",
      "The AUC-ROC Score is 0.831\n"
     ]
    }
   ],
   "source": [
    "# Use Decision Tree Model for classification with depth of 5 (from above results)\n",
    "model = DecisionTreeClassifier(random_state=12345, max_depth=5, class_weight='balanced')\n",
    "\n",
    "# Fit Model to Traing Dataset\n",
    "model.fit(features_upsampled, target_upsampled)\n",
    "\n",
    "# Use Model to Predict Target Values on Validation Set\n",
    "predicted_valid = model.predict(features_valid)\n",
    "\n",
    "# Print Confusion Matrix\n",
    "print('Confusion Matrix')\n",
    "print(confusion_matrix(target_valid, predicted_valid))\n",
    "\n",
    "# Get Accuracy Score \n",
    "accuracy_valid = accuracy_score(target_valid, predicted_valid)\n",
    "\n",
    "# Print Model Accuracy \n",
    "print(\"\\nWith a max depth of 5, the accuracy of the model is\", round(accuracy_valid, 3))\n",
    "\n",
    "# Print Recall Score\n",
    "print('The Recall Score is', round(recall_score(target_valid, predicted_valid), 3))\n",
    "\n",
    "# Print Precision Score \n",
    "print('The Precision Score is', round(precision_score(target_valid, predicted_valid), 3))\n",
    "\n",
    "# Print F1 Score \n",
    "print('The F1 Score is', round(f1_score(target_valid, predicted_valid), 3))\n",
    "\n",
    "# Calculate and Print AUC-ROC Score\n",
    "probabilities_valid = model.predict_proba(features_valid)\n",
    "probabilities_one_valid = probabilities_valid[:, 1]\n",
    "auc_roc = roc_auc_score(target_valid, probabilities_one_valid)\n",
    "print('The AUC-ROC Score is', round(auc_roc, 3))"
   ]
  },
  {
   "cell_type": "markdown",
   "metadata": {},
   "source": [
    "### Random Forest Classification Model\n",
    "\n",
    "#### Training and Tuning"
   ]
  },
  {
   "cell_type": "code",
   "execution_count": 20,
   "metadata": {},
   "outputs": [
    {
     "name": "stdout",
     "output_type": "stream",
     "text": [
      "At a number of estimators of 1 and max depth 20 the F1 score of the model is 0.495\n",
      "At a number of estimators of 2 and max depth 20 the F1 score of the model is 0.494\n",
      "At a number of estimators of 3 and max depth 20 the F1 score of the model is 0.539\n",
      "At a number of estimators of 4 and max depth 20 the F1 score of the model is 0.55\n",
      "At a number of estimators of 5 and max depth 20 the F1 score of the model is 0.564\n",
      "At a number of estimators of 6 and max depth 20 the F1 score of the model is 0.545\n",
      "At a number of estimators of 7 and max depth 20 the F1 score of the model is 0.59\n",
      "At a number of estimators of 8 and max depth 20 the F1 score of the model is 0.577\n",
      "At a number of estimators of 9 and max depth 20 the F1 score of the model is 0.582\n",
      "At a number of estimators of 10 and max depth 20 the F1 score of the model is 0.571\n",
      "At a number of estimators of 11 and max depth 20 the F1 score of the model is 0.589\n",
      "At a number of estimators of 12 and max depth 20 the F1 score of the model is 0.587\n",
      "At a number of estimators of 13 and max depth 20 the F1 score of the model is 0.602\n",
      "At a number of estimators of 14 and max depth 20 the F1 score of the model is 0.6\n",
      "At a number of estimators of 15 and max depth 20 the F1 score of the model is 0.602\n",
      "At a number of estimators of 16 and max depth 20 the F1 score of the model is 0.602\n",
      "At a number of estimators of 17 and max depth 20 the F1 score of the model is 0.597\n",
      "At a number of estimators of 18 and max depth 20 the F1 score of the model is 0.592\n",
      "At a number of estimators of 19 and max depth 20 the F1 score of the model is 0.598\n",
      "At a number of estimators of 20 and max depth 20 the F1 score of the model is 0.589\n",
      "\n",
      "The F1 score of the best model is 0.619 with a number of estimators of 20 and max depth 10\n"
     ]
    }
   ],
   "source": [
    "# For the Random Forest Classification Model the parameter that should be tuned is n_estimators\n",
    "# Initialize loop variables\n",
    "best_result = 0\n",
    "best_est = 0\n",
    "best_depth = 0\n",
    "\n",
    "# For number of estimators and max depth each between 1 and 20, calculate the optimal value of each parameter and evaluate model for greatest F1 score\n",
    "# I am choosing to use F1 score as the preferred tuning metric because:\n",
    "# a) We have a target of 0.59 or greater \n",
    "# b) It is a better metric than accuracy when the data has imbalanced classes\n",
    "for est in range(1, 21):\n",
    "    for depth in range(1, 21):\n",
    "        model = RandomForestClassifier(random_state=12345, n_estimators=est, max_depth=depth, class_weight='balanced') # Create a model with the given parameters\n",
    "        model.fit(features_upsampled, target_upsampled) # Train the model\n",
    "        predictions = model.predict(features_valid) # Get the model's predictions\n",
    "        result = f1_score(target_valid,predictions) # Calculate the F1 score\n",
    "        if result > best_result:\n",
    "            best_result = result\n",
    "            best_est = est\n",
    "            best_depth = depth\n",
    "    \n",
    "    # Print model accuracy at each depth - note: sometimes this only displays 20 lines instead of all 400 combinations\n",
    "    print(\"At a number of estimators of\", est, \"and max depth\", depth, \"the F1 score of the model is\", round(result, 3))\n",
    "\n",
    "# Print the F1 score of the model and which number of estimators produced the greatest F1 score\n",
    "print()\n",
    "print(\"The F1 score of the best model is\", round(best_result, 3), \"with a number of estimators of\", best_est, \"and max depth\", best_depth)"
   ]
  },
  {
   "cell_type": "markdown",
   "metadata": {},
   "source": [
    "#### Model Performance Metrics"
   ]
  },
  {
   "cell_type": "code",
   "execution_count": 21,
   "metadata": {},
   "outputs": [
    {
     "name": "stdout",
     "output_type": "stream",
     "text": [
      "Confusion Matrix\n",
      "[[1359  223]\n",
      " [ 131  287]]\n",
      "\n",
      "With 20 estimators and max depth of 10, the accuracy of the model is 0.823\n",
      "The Recall Score is 0.687\n",
      "The Precision Score is 0.563\n",
      "The F1 Score is 0.619\n",
      "The AUC-ROC Score is 0.844\n"
     ]
    }
   ],
   "source": [
    "# Use Random Forest Model for classification with 20 estimators and max depth of 10 (from above results)\n",
    "model = RandomForestClassifier(random_state=12345, n_estimators=20, max_depth=10, class_weight='balanced')\n",
    "\n",
    "# Fit Model to Traing Dataset\n",
    "model.fit(features_upsampled, target_upsampled)\n",
    "\n",
    "# Use Model to Predict Target Values on Validation Set\n",
    "predicted_valid = model.predict(features_valid)\n",
    "\n",
    "# Print Confusion Matrix\n",
    "print('Confusion Matrix')\n",
    "print(confusion_matrix(target_valid, predicted_valid))\n",
    "\n",
    "# Get Accuracy Score \n",
    "accuracy_valid = accuracy_score(target_valid, predicted_valid)\n",
    "\n",
    "# Print Model Accuracy \n",
    "print(\"\\nWith 20 estimators and max depth of 10, the accuracy of the model is\", round(accuracy_valid, 3))\n",
    "\n",
    "# Print Recall Score\n",
    "print('The Recall Score is', round(recall_score(target_valid, predicted_valid), 3))\n",
    "\n",
    "# Print Precision Score \n",
    "print('The Precision Score is', round(precision_score(target_valid, predicted_valid), 3))\n",
    "\n",
    "# Print F1 Score \n",
    "print('The F1 Score is', round(f1_score(target_valid, predicted_valid), 3))\n",
    "\n",
    "# Calculate and Print AUC-ROC Score\n",
    "probabilities_valid = model.predict_proba(features_valid)\n",
    "probabilities_one_valid = probabilities_valid[:, 1]\n",
    "auc_roc = roc_auc_score(target_valid, probabilities_one_valid)\n",
    "print('The AUC-ROC Score is', round(auc_roc, 3))"
   ]
  },
  {
   "cell_type": "markdown",
   "metadata": {},
   "source": [
    "### Logistic Regression Model\n",
    "\n",
    "#### Training and Performance Metrics"
   ]
  },
  {
   "cell_type": "code",
   "execution_count": 22,
   "metadata": {},
   "outputs": [
    {
     "name": "stdout",
     "output_type": "stream",
     "text": [
      "Confusion Matrix\n",
      "[[1116  466]\n",
      " [ 132  286]]\n",
      "\n",
      "The Accuracy Score of the logistic regression model on the validation dataset is 0.701\n",
      "The Recall Score is 0.684\n",
      "The Precision Score is 0.38\n",
      "The F1 score is 0.489\n",
      "The AUC-ROC Score is 0.763\n"
     ]
    }
   ],
   "source": [
    "# Create a Logistic Regression Model\n",
    "model = LogisticRegression(random_state=12345, solver=\"liblinear\", class_weight='balanced')\n",
    "\n",
    "# Fit the model to the traning dataset\n",
    "model.fit(features_upsampled, target_upsampled)\n",
    "\n",
    "# Score the model accuracy on the validation data sets\n",
    "# I am choosing to use F1 score as the preferred tuning metric because:\n",
    "# a) We have a target of 0.59 or greater \n",
    "# b) It is a better metric than accuracy when the data has imbalanced classes\n",
    "predicted_valid = model.predict(features_valid)\n",
    "score_valid = f1_score(target_valid, predicted_valid)\n",
    "\n",
    "# Print Confusion Matrix\n",
    "print('Confusion Matrix')\n",
    "print(confusion_matrix(target_valid, predicted_valid))\n",
    "\n",
    "# Print Accuracy Score\n",
    "print('\\nThe Accuracy Score of the logistic regression model on the validation dataset is', round(accuracy_score(target_valid, predicted_valid), 3))\n",
    "\n",
    "# Print Recall Score\n",
    "print('The Recall Score is', round(recall_score(target_valid, predicted_valid), 3))\n",
    "\n",
    "# Print Precision Score \n",
    "print('The Precision Score is', round(precision_score(target_valid, predicted_valid), 3))\n",
    "\n",
    "# Print the F1 Score of the model on the validation dataset\n",
    "print(\"The F1 score is\", round(score_valid, 3))\n",
    "\n",
    "# Calculate and Print AUC-ROC Score\n",
    "probabilities_valid = model.predict_proba(features_valid)\n",
    "probabilities_one_valid = probabilities_valid[:, 1]\n",
    "auc_roc = roc_auc_score(target_valid, probabilities_one_valid)\n",
    "print('The AUC-ROC Score is', round(auc_roc, 3))"
   ]
  },
  {
   "cell_type": "markdown",
   "metadata": {},
   "source": [
    "## Comparing Model Performance (Algorithm and Class Imbalance)\n",
    "\n",
    "The two tables below describe how each classification model performed for the following metrics -\n",
    "\n",
    "- Accuracy - Ratio of the total number of correct predictions and the total number of predictions.\n",
    "- Recall - What proportion of actual positives were identified correctly?\n",
    "    - Example - \"for all the patients who actually have heart disease, recall tells us how many we correctly identified as having a heart disease\"\n",
    "- Precision - What proportion of positive identifications were actually correct?\n",
    "    - Example - \"measure of patients that we correctly identify as having a heart disease out of all the patients actually having it as predicted by the model\"\n",
    "- F1 Score - The F1 score combines precision and recall using their harmonic mean, and maximizing the F1 score implies simultaneously maximizing both precision and recall.\n",
    "    - In this analysis, the minimum allowable F1 score for a model is 0.59.\n",
    "- AUC-ROC - AUC-ROC score shows how well the classifier distinguishes positive and negative classes. A random model would have an AUC of 0.5.\n",
    "\n",
    "**Before** adjusting training data to account for class imbalance:\n",
    "\n",
    "| Model     | Parameter: *max_depth* | Parameter: *n_estimators* | Accuracy    | Recall    | Precision  | F1 Score   | AUC-ROC Score   |\n",
    "|:--------------:|:--------------:|:--------------:|:--------------:|:--------------:|:--------------:|:--------------:|:--------------:|\n",
    "| **Decision Tree Classifier** | 9 | N/A | 0.850 | 0.493  | 0.701  | 0.579 | 0.790 |\n",
    "| **Random Forest Classifier**  | 13  | 14 | 0.865  | 0.483  | 0.789  | **0.599**  | 0.836 |\n",
    "| **Logistic Regression**  | N/A | N/A | 0.802  | 0.237  | 0.566  | 0.334  | 0.759 |\n",
    "\n",
    "**After** adjusting training data to account for class imbalance:\n",
    "\n",
    "| Model     | Parameter: *max_depth* | Parameter: *n_estimators* | Accuracy    | Recall    | Precision  | F1 Score   | AUC-ROC Score   |\n",
    "|:--------------:|:--------------:|:--------------:|:--------------:|:--------------:|:--------------:|:--------------:|:--------------:|\n",
    "| **Decision Tree Classifier** | 5  | N/A | 0.810  | 0.670  | 0.537  | **0.596** | 0.831 |\n",
    "| **Random Forest Classifier**  | 10 | 20 | 0.823  | 0.687  | 0.563  | **0.619**  | 0.844|\n",
    "| **Logistic Regression**  | N/A | N/A | 0.701  | 0.684  | 0.380  | 0.489  | 0.763 |\n",
    "\n",
    "The Random Forest Classifier model, with and without accounting for class imbalance, appears to be the best performing model. It had the highest F1 Scores and AUC-ROC Scores among all the models tested. Along with the Decision Tree Classifier (accounting for class imbalance), it is the only model that meets or exceeds the minimum acceptable F1 score of 0.59. Overall, the highest F1 score (0.619) corresponds to the **Random Forest Classifier model (max_depth=10, n_estimators=20) with accounting for class imbalance by upsampling and class weight adjustment**. That will be my chosen model going forward to the testing phase.\n",
    "\n",
    "## Testing Random Forest Classifier Model with Test Dataset\n",
    "\n",
    "To recap, the best model, chosen based on performance metrics, includes:\n",
    "- Random Forest Classifier algorithm\n",
    "- Parameters \n",
    "    - *n_estimators*=20\n",
    "    - *max_depth*=10\n",
    "    - *class_weight*='balanced'\n",
    "- Model training using upsampled training dataset"
   ]
  },
  {
   "cell_type": "code",
   "execution_count": 23,
   "metadata": {},
   "outputs": [
    {
     "name": "stdout",
     "output_type": "stream",
     "text": [
      "Confusion Matrix\n",
      "[[1349  228]\n",
      " [ 130  293]]\n",
      "Confusion Matrix (Percentage)\n",
      "[[67.45 11.4 ]\n",
      " [ 6.5  14.65]]\n",
      "\n",
      "With 20 estimators and max depth of 10, the accuracy of the model is 0.821\n",
      "The Recall Score is 0.6926713947990544\n",
      "The Precision Score is 0.5623800383877159\n",
      "The F1 Score is 0.6207627118644067\n",
      "The AUC-ROC Score is 0.8536377686932874\n"
     ]
    }
   ],
   "source": [
    "# Create a Random Forest Classifier model with 20 estimators and a max depth of 10, accounting for class imbalance\n",
    "model = RandomForestClassifier(random_state=12345, n_estimators=20, max_depth=10, class_weight='balanced') \n",
    "\n",
    "# Train model with original dataset\n",
    "model.fit(features_upsampled, target_upsampled)\n",
    "\n",
    "# Get the model's predictions on test dataset\n",
    "predicted_test = model.predict(features_test) \n",
    "\n",
    "# Print Confusion Matrix\n",
    "print('Confusion Matrix')\n",
    "print(confusion_matrix(target_test, predicted_test))\n",
    "\n",
    "# Convert Confusion Matrix to percentages for discussion below\n",
    "confusion_matrix_percentages = confusion_matrix(target_test, predicted_test) / 2000 * 100\n",
    "print('Confusion Matrix (Percentage)')\n",
    "print(confusion_matrix_percentages)\n",
    "\n",
    "# Get Accuracy Score \n",
    "accuracy_test = accuracy_score(target_test, predicted_test)\n",
    "\n",
    "# Print Model Accuracy \n",
    "print(\"\\nWith 20 estimators and max depth of 10, the accuracy of the model is\", accuracy_test)\n",
    "\n",
    "# Print Recall Score\n",
    "print('The Recall Score is', recall_score(target_test, predicted_test))\n",
    "\n",
    "# Print Precision Score \n",
    "print('The Precision Score is', precision_score(target_test, predicted_test))\n",
    "\n",
    "# Print F1 Score \n",
    "print('The F1 Score is', f1_score(target_test, predicted_test))\n",
    "\n",
    "# Calculate and Print AUC-ROC Score\n",
    "probabilities_test = model.predict_proba(features_test)\n",
    "probabilities_one_test = probabilities_test[:, 1]\n",
    "auc_roc = roc_auc_score(target_test, probabilities_one_test)\n",
    "print('The AUC-ROC Score is', auc_roc)"
   ]
  },
  {
   "cell_type": "code",
   "execution_count": 24,
   "metadata": {},
   "outputs": [
    {
     "data": {
      "image/png": "[encoded data removed]",
      "text/plain": [
       "<Figure size 800x600 with 1 Axes>"
      ]
     },
     "metadata": {},
     "output_type": "display_data"
    }
   ],
   "source": [
    "# Calculate AUC-ROC score for plot legend\n",
    "probabilities_test = model.predict_proba(features_test)\n",
    "probabilities_one_test = probabilities_test[:, 1]\n",
    "auc_roc = roc_auc_score(target_test, probabilities_one_test)\n",
    "\n",
    "# Calculate FPR, TPR, and thresholds for ROC curve\n",
    "fpr, tpr, thresholds = roc_curve(target_test, probabilities_one_test)\n",
    "\n",
    "# Plotting ROC curve of final model\n",
    "plt.figure(figsize=(8, 6))\n",
    "plt.plot(fpr, tpr, color='blue', label=f'ROC Curve (AUC = {auc_roc:.3f})')\n",
    "plt.plot([0, 1], [0, 1], color='gray', linestyle='--')  # Random classifier line\n",
    "plt.title('Receiver Operating Characteristic (ROC) Curve')\n",
    "plt.xlabel('False Positive Rate (FPR)')\n",
    "plt.ylabel('True Positive Rate (TPR)')\n",
    "plt.legend(loc='lower right')\n",
    "plt.grid(True)\n",
    "plt.show()"
   ]
  },
  {
   "cell_type": "markdown",
   "metadata": {},
   "source": [
    "Confusion Matrix (count and percentage) of final model on Test dataset:\n",
    "\n",
    "|          | Didn't Exit   | Exited   |\n",
    "|:--------------:|:--------------:|:--------------:|\n",
    "| **Correct** | 1349 (67.45%)  |  228 (11.40%)   |\n",
    "| **Incorrect**  | 130 (6.50%)  |  293 (14.65%)    |\n",
    "\n",
    "\n",
    "Summary of performance metrics between Validation and Test datasets for final model:\n",
    "\n",
    "| Dataset Tested    | Accuracy    | Recall    | Precision  | F1 Score   | AUC-ROC Score   |\n",
    "|:--------------:|:--------------:|:--------------:|:--------------:|:--------------:|:--------------:|\n",
    "| **Validation** | 0.823  | 0.687  | 0.563  | 0.619 | 0.844 |\n",
    "| **Test**  | 0.821  | 0.693  | 0.562  | 0.621  | 0.854 |\n",
    "\n",
    "This model meets the threshold for acceptance (F1 score >= 0.59). \n",
    "\n",
    "Some observations when comparing model predictions for the Test versus Validation datasets:\n",
    "- There is a slight decrease in Accuracy and Precision\n",
    "- There is a slight increase in Recall, F1 Score, and AUC-ROC Score\n",
    "- Both datasets yielded F1 Scores exceeding our minimum acceptable value of 0.59.\n",
    "- An AUC-ROC Score between 0.8-0.9 can generally be interpreted as a 'very good' performing model.\n",
    "\n",
    "## Conclusion\n",
    "\n",
    "### Summary\n",
    "\n",
    "Beta Bank customers are slowly closing their accounts and leaving the bank. It has been discovered that it is cheaper to retain existing customers than to attract new ones. I work as an analyst for Beta Bank and have been tasked with predicting whether a customer will leave the bank soon in order to attempt to keep them.\n",
    "\n",
    "### Objective\n",
    "\n",
    "I was tasked with creating a model to accurately predict customers exiting the bank with a maxmimum possible F1 Score (minimum acceptable: 0.59).\n",
    "\n",
    "### Outcome and Findings\n",
    "\n",
    "I have created a model that will be able to identify customers at risk of ending their relationship with the bank with an accuracy of 82.1%. Further, the model produced an F1 Score of 0.621 during testing, meeting the requirements of the task. Finally, its AUC-ROC Score of 0.854 demonstrates that it can be generally described as a 'very good' model of the data.\n",
    "\n",
    "**Final Model:**\n",
    "> - Random Forest Classifier algorithm\n",
    "> - Parameters\n",
    ">    - n_estimators=20\n",
    ">    - max_depth=10\n",
    ">    - class_weight='balanced'\n",
    "> - Model training using upsampled training dataset\n",
    "\n",
    "Using this model with other customer data will allow us to direct promotions, marketing, outreach, and other strategies aimed at retaining these customers. This approach will be cheaper than attempting to attract new customers and will benefit Beta Bank's business greatly."
   ]
  }
 ],
 "metadata": {
  "ExecuteTimeLog": [
   {
    "duration": 13,
    "start_time": "2024-12-09T18:34:32.936Z"
   },
   {
    "duration": 2676,
    "start_time": "2024-12-09T18:34:41.101Z"
   },
   {
    "duration": 17,
    "start_time": "2024-12-09T18:35:39.041Z"
   },
   {
    "duration": 44,
    "start_time": "2024-12-09T18:40:50.531Z"
   },
   {
    "duration": 14,
    "start_time": "2024-12-09T18:42:00.324Z"
   },
   {
    "duration": 40,
    "start_time": "2024-12-09T18:42:02.648Z"
   },
   {
    "duration": 4,
    "start_time": "2024-12-09T18:56:16.085Z"
   },
   {
    "duration": 4,
    "start_time": "2024-12-09T18:59:06.123Z"
   },
   {
    "duration": 4,
    "start_time": "2024-12-09T18:59:07.126Z"
   },
   {
    "duration": 8,
    "start_time": "2024-12-09T18:59:08.485Z"
   },
   {
    "duration": 13,
    "start_time": "2024-12-09T19:00:27.882Z"
   },
   {
    "duration": 12,
    "start_time": "2024-12-09T19:09:04.709Z"
   },
   {
    "duration": 227,
    "start_time": "2024-12-09T19:12:22.617Z"
   },
   {
    "duration": 16,
    "start_time": "2024-12-09T19:12:29.445Z"
   },
   {
    "duration": 333,
    "start_time": "2024-12-09T19:13:00.545Z"
   },
   {
    "duration": 24,
    "start_time": "2024-12-09T19:13:17.956Z"
   },
   {
    "duration": 940,
    "start_time": "2024-12-09T19:15:56.991Z"
   },
   {
    "duration": 17,
    "start_time": "2024-12-09T19:15:57.933Z"
   },
   {
    "duration": 120,
    "start_time": "2024-12-09T19:15:57.952Z"
   },
   {
    "duration": 3,
    "start_time": "2024-12-09T19:15:58.075Z"
   },
   {
    "duration": 4,
    "start_time": "2024-12-09T19:15:58.080Z"
   },
   {
    "duration": 15,
    "start_time": "2024-12-09T19:15:58.086Z"
   },
   {
    "duration": 21,
    "start_time": "2024-12-09T19:15:58.123Z"
   },
   {
    "duration": 9,
    "start_time": "2024-12-09T19:22:30.723Z"
   },
   {
    "duration": 52,
    "start_time": "2024-12-09T19:28:38.473Z"
   },
   {
    "duration": 53,
    "start_time": "2024-12-09T19:28:46.640Z"
   },
   {
    "duration": 53,
    "start_time": "2024-12-09T19:29:22.313Z"
   },
   {
    "duration": 55,
    "start_time": "2024-12-09T19:29:26.724Z"
   },
   {
    "duration": 55,
    "start_time": "2024-12-09T19:29:49.322Z"
   },
   {
    "duration": 86,
    "start_time": "2024-12-09T19:29:59.032Z"
   },
   {
    "duration": 128,
    "start_time": "2024-12-09T19:30:04.711Z"
   },
   {
    "duration": 148,
    "start_time": "2024-12-09T19:30:16.066Z"
   },
   {
    "duration": 904,
    "start_time": "2024-12-09T19:32:42.397Z"
   },
   {
    "duration": 20,
    "start_time": "2024-12-09T19:32:43.304Z"
   },
   {
    "duration": 109,
    "start_time": "2024-12-09T19:32:43.326Z"
   },
   {
    "duration": 4,
    "start_time": "2024-12-09T19:32:43.437Z"
   },
   {
    "duration": 4,
    "start_time": "2024-12-09T19:32:43.443Z"
   },
   {
    "duration": 15,
    "start_time": "2024-12-09T19:32:43.448Z"
   },
   {
    "duration": 19,
    "start_time": "2024-12-09T19:32:43.465Z"
   },
   {
    "duration": 41,
    "start_time": "2024-12-09T19:32:43.486Z"
   },
   {
    "duration": 158,
    "start_time": "2024-12-09T19:32:43.529Z"
   },
   {
    "duration": 150,
    "start_time": "2024-12-09T19:32:54.197Z"
   },
   {
    "duration": 32,
    "start_time": "2024-12-09T19:33:59.309Z"
   },
   {
    "duration": 32,
    "start_time": "2024-12-09T19:34:18.381Z"
   },
   {
    "duration": 156,
    "start_time": "2024-12-09T19:34:33.619Z"
   },
   {
    "duration": 31,
    "start_time": "2024-12-10T15:02:23.333Z"
   },
   {
    "duration": 34,
    "start_time": "2024-12-10T15:02:30.604Z"
   },
   {
    "duration": 33,
    "start_time": "2024-12-10T15:02:40.396Z"
   },
   {
    "duration": 373,
    "start_time": "2024-12-10T15:03:59.328Z"
   },
   {
    "duration": 145,
    "start_time": "2024-12-10T15:04:05.526Z"
   },
   {
    "duration": 146,
    "start_time": "2024-12-10T15:04:17.860Z"
   },
   {
    "duration": 364,
    "start_time": "2024-12-10T15:05:40.250Z"
   },
   {
    "duration": 146,
    "start_time": "2024-12-10T15:05:57.333Z"
   },
   {
    "duration": 5,
    "start_time": "2024-12-10T15:06:08.542Z"
   },
   {
    "duration": 145,
    "start_time": "2024-12-10T15:06:12.501Z"
   },
   {
    "duration": 57,
    "start_time": "2024-12-10T15:08:41.836Z"
   },
   {
    "duration": 26,
    "start_time": "2024-12-10T15:20:04.467Z"
   },
   {
    "duration": 236,
    "start_time": "2024-12-10T15:21:44.155Z"
   },
   {
    "duration": 57,
    "start_time": "2024-12-10T15:25:48.166Z"
   },
   {
    "duration": 849,
    "start_time": "2024-12-10T15:25:58.394Z"
   },
   {
    "duration": 15,
    "start_time": "2024-12-10T15:25:59.245Z"
   },
   {
    "duration": 94,
    "start_time": "2024-12-10T15:25:59.262Z"
   },
   {
    "duration": 3,
    "start_time": "2024-12-10T15:25:59.358Z"
   },
   {
    "duration": 4,
    "start_time": "2024-12-10T15:25:59.363Z"
   },
   {
    "duration": 14,
    "start_time": "2024-12-10T15:25:59.368Z"
   },
   {
    "duration": 41,
    "start_time": "2024-12-10T15:25:59.383Z"
   },
   {
    "duration": 8,
    "start_time": "2024-12-10T15:25:59.426Z"
   },
   {
    "duration": 158,
    "start_time": "2024-12-10T15:25:59.435Z"
   },
   {
    "duration": 35,
    "start_time": "2024-12-10T15:25:59.595Z"
   },
   {
    "duration": 376,
    "start_time": "2024-12-10T15:25:59.632Z"
   },
   {
    "duration": 63,
    "start_time": "2024-12-10T15:26:00.010Z"
   },
   {
    "duration": 52,
    "start_time": "2024-12-10T15:26:00.075Z"
   },
   {
    "duration": 26,
    "start_time": "2024-12-10T15:26:17.305Z"
   },
   {
    "duration": 737,
    "start_time": "2024-12-10T15:53:02.187Z"
   },
   {
    "duration": 129,
    "start_time": "2024-12-10T15:54:54.261Z"
   },
   {
    "duration": 723,
    "start_time": "2024-12-10T15:54:59.804Z"
   },
   {
    "duration": 6,
    "start_time": "2024-12-10T16:40:47.624Z"
   },
   {
    "duration": 646,
    "start_time": "2024-12-10T17:06:31.652Z"
   },
   {
    "duration": 6,
    "start_time": "2024-12-10T18:33:31.215Z"
   },
   {
    "duration": 6,
    "start_time": "2024-12-10T18:35:03.268Z"
   },
   {
    "duration": 5,
    "start_time": "2024-12-10T18:35:12.327Z"
   },
   {
    "duration": 19,
    "start_time": "2024-12-10T18:40:35.922Z"
   },
   {
    "duration": 264,
    "start_time": "2024-12-10T18:44:51.890Z"
   },
   {
    "duration": 258,
    "start_time": "2024-12-10T18:45:56.400Z"
   },
   {
    "duration": 272,
    "start_time": "2024-12-10T18:47:52.953Z"
   },
   {
    "duration": 31,
    "start_time": "2024-12-10T18:49:00.674Z"
   },
   {
    "duration": 275,
    "start_time": "2024-12-10T18:49:10.474Z"
   },
   {
    "duration": 24,
    "start_time": "2024-12-10T18:49:15.407Z"
   },
   {
    "duration": 24,
    "start_time": "2024-12-10T18:49:26.385Z"
   },
   {
    "duration": 364,
    "start_time": "2024-12-10T18:49:30.531Z"
   },
   {
    "duration": 70,
    "start_time": "2024-12-10T18:50:14.522Z"
   },
   {
    "duration": 374,
    "start_time": "2024-12-10T18:52:53.764Z"
   },
   {
    "duration": 28,
    "start_time": "2024-12-10T18:53:56.622Z"
   },
   {
    "duration": 8,
    "start_time": "2024-12-10T18:58:10.901Z"
   },
   {
    "duration": 4,
    "start_time": "2024-12-10T18:58:33.226Z"
   },
   {
    "duration": 3,
    "start_time": "2024-12-10T18:58:51.559Z"
   },
   {
    "duration": 832,
    "start_time": "2024-12-10T19:04:03.796Z"
   },
   {
    "duration": 15,
    "start_time": "2024-12-10T19:04:04.630Z"
   },
   {
    "duration": 95,
    "start_time": "2024-12-10T19:04:04.647Z"
   },
   {
    "duration": 3,
    "start_time": "2024-12-10T19:04:04.744Z"
   },
   {
    "duration": 5,
    "start_time": "2024-12-10T19:04:04.749Z"
   },
   {
    "duration": 17,
    "start_time": "2024-12-10T19:04:04.756Z"
   },
   {
    "duration": 18,
    "start_time": "2024-12-10T19:04:04.775Z"
   },
   {
    "duration": 8,
    "start_time": "2024-12-10T19:04:04.823Z"
   },
   {
    "duration": 158,
    "start_time": "2024-12-10T19:04:04.833Z"
   },
   {
    "duration": 39,
    "start_time": "2024-12-10T19:04:04.994Z"
   },
   {
    "duration": 378,
    "start_time": "2024-12-10T19:04:05.034Z"
   },
   {
    "duration": 63,
    "start_time": "2024-12-10T19:04:05.413Z"
   },
   {
    "duration": 55,
    "start_time": "2024-12-10T19:04:05.477Z"
   },
   {
    "duration": 799,
    "start_time": "2024-12-10T19:04:05.533Z"
   },
   {
    "duration": 11,
    "start_time": "2024-12-10T19:04:06.334Z"
   },
   {
    "duration": 2,
    "start_time": "2024-12-10T19:04:06.346Z"
   },
   {
    "duration": 276,
    "start_time": "2024-12-10T19:04:06.350Z"
   },
   {
    "duration": 24,
    "start_time": "2024-12-10T19:04:06.627Z"
   },
   {
    "duration": 384,
    "start_time": "2024-12-10T19:04:06.652Z"
   },
   {
    "duration": 69,
    "start_time": "2024-12-10T19:04:07.037Z"
   },
   {
    "duration": 38,
    "start_time": "2024-12-10T19:04:07.108Z"
   },
   {
    "duration": 29,
    "start_time": "2024-12-10T19:08:52.202Z"
   },
   {
    "duration": 33,
    "start_time": "2024-12-10T19:09:59.286Z"
   },
   {
    "duration": 58,
    "start_time": "2024-12-10T19:30:20.137Z"
   },
   {
    "duration": 57,
    "start_time": "2024-12-10T19:30:31.353Z"
   },
   {
    "duration": 58,
    "start_time": "2024-12-10T19:30:41.094Z"
   },
   {
    "duration": 58,
    "start_time": "2024-12-10T19:30:50.108Z"
   },
   {
    "duration": 59,
    "start_time": "2024-12-10T19:31:44.045Z"
   },
   {
    "duration": 892,
    "start_time": "2024-12-10T19:32:09.506Z"
   },
   {
    "duration": 16,
    "start_time": "2024-12-10T19:32:10.402Z"
   },
   {
    "duration": 82,
    "start_time": "2024-12-10T19:32:10.420Z"
   },
   {
    "duration": 3,
    "start_time": "2024-12-10T19:32:10.505Z"
   },
   {
    "duration": 16,
    "start_time": "2024-12-10T19:32:10.510Z"
   },
   {
    "duration": 13,
    "start_time": "2024-12-10T19:32:10.528Z"
   },
   {
    "duration": 17,
    "start_time": "2024-12-10T19:32:10.543Z"
   },
   {
    "duration": 9,
    "start_time": "2024-12-10T19:32:10.561Z"
   },
   {
    "duration": 170,
    "start_time": "2024-12-10T19:32:10.571Z"
   },
   {
    "duration": 33,
    "start_time": "2024-12-10T19:32:10.743Z"
   },
   {
    "duration": 386,
    "start_time": "2024-12-10T19:32:10.777Z"
   },
   {
    "duration": 69,
    "start_time": "2024-12-10T19:32:11.165Z"
   },
   {
    "duration": 26,
    "start_time": "2024-12-10T19:32:11.236Z"
   },
   {
    "duration": 832,
    "start_time": "2024-12-10T19:32:11.264Z"
   },
   {
    "duration": 11,
    "start_time": "2024-12-10T19:32:12.098Z"
   },
   {
    "duration": 2,
    "start_time": "2024-12-10T19:32:12.110Z"
   },
   {
    "duration": 273,
    "start_time": "2024-12-10T19:32:12.114Z"
   },
   {
    "duration": 23,
    "start_time": "2024-12-10T19:32:12.389Z"
   },
   {
    "duration": 377,
    "start_time": "2024-12-10T19:32:12.424Z"
   },
   {
    "duration": 73,
    "start_time": "2024-12-10T19:32:12.802Z"
   },
   {
    "duration": 53,
    "start_time": "2024-12-10T19:32:12.876Z"
   },
   {
    "duration": 124,
    "start_time": "2024-12-10T19:32:12.932Z"
   },
   {
    "duration": 1206,
    "start_time": "2024-12-10T19:32:27.189Z"
   },
   {
    "duration": 280,
    "start_time": "2024-12-10T19:32:32.676Z"
   },
   {
    "duration": 2623,
    "start_time": "2024-12-10T19:32:38.053Z"
   },
   {
    "duration": 7090,
    "start_time": "2024-12-10T19:32:48.810Z"
   },
   {
    "duration": 2776,
    "start_time": "2024-12-10T19:33:15.644Z"
   },
   {
    "duration": 363,
    "start_time": "2024-12-10T19:33:20.341Z"
   },
   {
    "duration": 26,
    "start_time": "2024-12-10T19:33:38.814Z"
   },
   {
    "duration": 637,
    "start_time": "2024-12-10T19:34:02.614Z"
   },
   {
    "duration": 146,
    "start_time": "2024-12-10T19:34:06.890Z"
   },
   {
    "duration": 2591,
    "start_time": "2024-12-10T19:34:14.893Z"
   },
   {
    "duration": 363,
    "start_time": "2024-12-10T19:34:27.141Z"
   },
   {
    "duration": 71,
    "start_time": "2024-12-11T02:22:43.184Z"
   },
   {
    "duration": 879,
    "start_time": "2024-12-11T02:23:09.126Z"
   },
   {
    "duration": 17,
    "start_time": "2024-12-11T02:23:10.007Z"
   },
   {
    "duration": 87,
    "start_time": "2024-12-11T02:23:10.026Z"
   },
   {
    "duration": 3,
    "start_time": "2024-12-11T02:23:10.125Z"
   },
   {
    "duration": 4,
    "start_time": "2024-12-11T02:23:10.130Z"
   },
   {
    "duration": 13,
    "start_time": "2024-12-11T02:23:10.136Z"
   },
   {
    "duration": 18,
    "start_time": "2024-12-11T02:23:10.150Z"
   },
   {
    "duration": 10,
    "start_time": "2024-12-11T02:23:10.170Z"
   },
   {
    "duration": 197,
    "start_time": "2024-12-11T02:23:10.181Z"
   },
   {
    "duration": 32,
    "start_time": "2024-12-11T02:23:10.380Z"
   },
   {
    "duration": 69,
    "start_time": "2024-12-11T02:23:10.424Z"
   },
   {
    "duration": 73,
    "start_time": "2024-12-11T02:23:10.495Z"
   },
   {
    "duration": 61,
    "start_time": "2024-12-11T02:23:10.570Z"
   },
   {
    "duration": 812,
    "start_time": "2024-12-11T02:23:10.632Z"
   },
   {
    "duration": 12,
    "start_time": "2024-12-11T02:23:11.446Z"
   },
   {
    "duration": 2,
    "start_time": "2024-12-11T02:23:11.460Z"
   },
   {
    "duration": 286,
    "start_time": "2024-12-11T02:23:11.463Z"
   },
   {
    "duration": 24,
    "start_time": "2024-12-11T02:23:11.751Z"
   },
   {
    "duration": 388,
    "start_time": "2024-12-11T02:23:11.777Z"
   },
   {
    "duration": 77,
    "start_time": "2024-12-11T02:23:12.167Z"
   },
   {
    "duration": 78,
    "start_time": "2024-12-11T02:23:12.246Z"
   },
   {
    "duration": 134,
    "start_time": "2024-12-11T02:23:12.326Z"
   },
   {
    "duration": 69,
    "start_time": "2024-12-11T02:23:57.163Z"
   },
   {
    "duration": 70,
    "start_time": "2024-12-11T02:24:57.844Z"
   },
   {
    "duration": 81,
    "start_time": "2024-12-11T02:25:22.133Z"
   },
   {
    "duration": 66,
    "start_time": "2024-12-11T02:25:31.448Z"
   },
   {
    "duration": 72,
    "start_time": "2024-12-11T02:25:55.771Z"
   },
   {
    "duration": 2248,
    "start_time": "2024-12-11T02:26:41.928Z"
   },
   {
    "duration": 2244,
    "start_time": "2024-12-11T02:27:00.287Z"
   },
   {
    "duration": 17207,
    "start_time": "2024-12-11T02:27:22.321Z"
   },
   {
    "duration": 419,
    "start_time": "2024-12-11T02:28:27.482Z"
   },
   {
    "duration": 31,
    "start_time": "2024-12-11T02:28:34.581Z"
   },
   {
    "duration": 20473,
    "start_time": "2024-12-11T02:28:38.599Z"
   },
   {
    "duration": 60,
    "start_time": "2024-12-11T02:29:29.285Z"
   },
   {
    "duration": 83,
    "start_time": "2024-12-11T02:30:03.181Z"
   },
   {
    "duration": 27,
    "start_time": "2024-12-11T02:30:34.635Z"
   },
   {
    "duration": 33,
    "start_time": "2024-12-11T02:31:05.913Z"
   },
   {
    "duration": 28,
    "start_time": "2024-12-11T02:31:17.793Z"
   },
   {
    "duration": 934,
    "start_time": "2024-12-11T02:31:44.076Z"
   },
   {
    "duration": 26513,
    "start_time": "2024-12-11T02:33:30.365Z"
   },
   {
    "duration": 20550,
    "start_time": "2024-12-11T02:33:58.861Z"
   },
   {
    "duration": 117,
    "start_time": "2024-12-11T02:36:33.769Z"
   },
   {
    "duration": 721,
    "start_time": "2024-12-11T02:52:31.320Z"
   },
   {
    "duration": 8,
    "start_time": "2024-12-11T02:53:33.725Z"
   },
   {
    "duration": 7,
    "start_time": "2024-12-11T02:53:48.017Z"
   },
   {
    "duration": 30,
    "start_time": "2024-12-11T02:55:18.545Z"
   },
   {
    "duration": 7,
    "start_time": "2024-12-11T02:55:40.682Z"
   },
   {
    "duration": 912,
    "start_time": "2024-12-11T02:57:52.305Z"
   },
   {
    "duration": 15,
    "start_time": "2024-12-11T02:57:53.219Z"
   },
   {
    "duration": 102,
    "start_time": "2024-12-11T02:57:53.236Z"
   },
   {
    "duration": 4,
    "start_time": "2024-12-11T02:57:53.340Z"
   },
   {
    "duration": 4,
    "start_time": "2024-12-11T02:57:53.347Z"
   },
   {
    "duration": 14,
    "start_time": "2024-12-11T02:57:53.353Z"
   },
   {
    "duration": 16,
    "start_time": "2024-12-11T02:57:53.369Z"
   },
   {
    "duration": 9,
    "start_time": "2024-12-11T02:57:53.424Z"
   },
   {
    "duration": 455,
    "start_time": "2024-12-11T02:57:53.434Z"
   },
   {
    "duration": 45,
    "start_time": "2024-12-11T02:57:53.891Z"
   },
   {
    "duration": 21313,
    "start_time": "2024-12-11T02:57:53.938Z"
   },
   {
    "duration": 96,
    "start_time": "2024-12-11T02:58:15.253Z"
   },
   {
    "duration": 81,
    "start_time": "2024-12-11T02:58:15.351Z"
   },
   {
    "duration": 788,
    "start_time": "2024-12-11T02:58:15.436Z"
   },
   {
    "duration": 7,
    "start_time": "2024-12-11T02:58:16.227Z"
   },
   {
    "duration": 19,
    "start_time": "2024-12-11T02:58:16.236Z"
   },
   {
    "duration": 3,
    "start_time": "2024-12-11T02:58:16.257Z"
   },
   {
    "duration": 790,
    "start_time": "2024-12-11T02:58:16.261Z"
   },
   {
    "duration": 25,
    "start_time": "2024-12-11T02:58:17.053Z"
   },
   {
    "duration": 20626,
    "start_time": "2024-12-11T02:58:17.080Z"
   },
   {
    "duration": 124,
    "start_time": "2024-12-11T02:58:37.708Z"
   },
   {
    "duration": 102,
    "start_time": "2024-12-11T02:58:37.834Z"
   },
   {
    "duration": 209,
    "start_time": "2024-12-11T02:58:37.938Z"
   },
   {
    "duration": 8,
    "start_time": "2024-12-11T02:58:59.148Z"
   },
   {
    "duration": 7,
    "start_time": "2024-12-11T02:59:19.004Z"
   },
   {
    "duration": 9,
    "start_time": "2024-12-11T02:59:32.218Z"
   },
   {
    "duration": 138,
    "start_time": "2024-12-11T03:00:13.303Z"
   },
   {
    "duration": 897,
    "start_time": "2024-12-11T03:00:36.544Z"
   },
   {
    "duration": 148,
    "start_time": "2024-12-11T03:01:20.025Z"
   },
   {
    "duration": 178,
    "start_time": "2024-12-11T03:02:12.220Z"
   },
   {
    "duration": 150,
    "start_time": "2024-12-11T03:02:23.888Z"
   },
   {
    "duration": 699,
    "start_time": "2024-12-11T03:04:46.681Z"
   },
   {
    "duration": 63,
    "start_time": "2024-12-11T03:04:56.013Z"
   },
   {
    "duration": 76,
    "start_time": "2024-12-11T03:05:02.380Z"
   },
   {
    "duration": 63,
    "start_time": "2024-12-11T03:05:35.314Z"
   },
   {
    "duration": 6,
    "start_time": "2024-12-11T03:07:34.874Z"
   },
   {
    "duration": 7,
    "start_time": "2024-12-11T03:07:54.252Z"
   },
   {
    "duration": 4,
    "start_time": "2024-12-11T03:08:02.445Z"
   },
   {
    "duration": 5,
    "start_time": "2024-12-11T03:08:11.381Z"
   },
   {
    "duration": 880,
    "start_time": "2024-12-11T03:08:15.629Z"
   },
   {
    "duration": 19,
    "start_time": "2024-12-11T03:08:16.511Z"
   },
   {
    "duration": 101,
    "start_time": "2024-12-11T03:08:16.534Z"
   },
   {
    "duration": 4,
    "start_time": "2024-12-11T03:08:16.638Z"
   },
   {
    "duration": 6,
    "start_time": "2024-12-11T03:08:16.644Z"
   },
   {
    "duration": 15,
    "start_time": "2024-12-11T03:08:16.652Z"
   },
   {
    "duration": 55,
    "start_time": "2024-12-11T03:08:16.669Z"
   },
   {
    "duration": 11,
    "start_time": "2024-12-11T03:08:16.726Z"
   },
   {
    "duration": 468,
    "start_time": "2024-12-11T03:08:16.739Z"
   },
   {
    "duration": 47,
    "start_time": "2024-12-11T03:08:17.208Z"
   },
   {
    "duration": 21029,
    "start_time": "2024-12-11T03:08:17.257Z"
   },
   {
    "duration": 102,
    "start_time": "2024-12-11T03:08:38.289Z"
   },
   {
    "duration": 58,
    "start_time": "2024-12-11T03:08:38.393Z"
   },
   {
    "duration": 755,
    "start_time": "2024-12-11T03:08:38.525Z"
   },
   {
    "duration": 4,
    "start_time": "2024-12-11T03:08:39.282Z"
   },
   {
    "duration": 0,
    "start_time": "2024-12-11T03:08:39.288Z"
   },
   {
    "duration": 0,
    "start_time": "2024-12-11T03:08:39.289Z"
   },
   {
    "duration": 0,
    "start_time": "2024-12-11T03:08:39.290Z"
   },
   {
    "duration": 0,
    "start_time": "2024-12-11T03:08:39.292Z"
   },
   {
    "duration": 0,
    "start_time": "2024-12-11T03:08:39.293Z"
   },
   {
    "duration": 0,
    "start_time": "2024-12-11T03:08:39.294Z"
   },
   {
    "duration": 1,
    "start_time": "2024-12-11T03:08:39.297Z"
   },
   {
    "duration": 0,
    "start_time": "2024-12-11T03:08:39.299Z"
   },
   {
    "duration": 5,
    "start_time": "2024-12-11T03:09:00.910Z"
   },
   {
    "duration": 6,
    "start_time": "2024-12-11T03:09:07.649Z"
   },
   {
    "duration": 4,
    "start_time": "2024-12-11T03:09:11.705Z"
   },
   {
    "duration": 5,
    "start_time": "2024-12-11T03:09:17.676Z"
   },
   {
    "duration": 4,
    "start_time": "2024-12-11T03:10:23.214Z"
   },
   {
    "duration": 5,
    "start_time": "2024-12-11T03:10:28.785Z"
   },
   {
    "duration": 4,
    "start_time": "2024-12-11T03:10:41.847Z"
   },
   {
    "duration": 5,
    "start_time": "2024-12-11T03:10:53.925Z"
   },
   {
    "duration": 320,
    "start_time": "2024-12-11T03:11:06.488Z"
   },
   {
    "duration": 21,
    "start_time": "2024-12-11T03:11:10.938Z"
   },
   {
    "duration": 149,
    "start_time": "2024-12-11T03:11:29.677Z"
   },
   {
    "duration": 154,
    "start_time": "2024-12-11T03:12:20.818Z"
   },
   {
    "duration": 140,
    "start_time": "2024-12-11T03:12:34.340Z"
   },
   {
    "duration": 145,
    "start_time": "2024-12-11T03:13:29.788Z"
   },
   {
    "duration": 139,
    "start_time": "2024-12-11T03:14:32.796Z"
   },
   {
    "duration": 146,
    "start_time": "2024-12-11T03:14:44.499Z"
   },
   {
    "duration": 602,
    "start_time": "2024-12-11T03:15:14.377Z"
   },
   {
    "duration": 197,
    "start_time": "2024-12-11T03:15:35.301Z"
   },
   {
    "duration": 145,
    "start_time": "2024-12-11T03:16:25.808Z"
   },
   {
    "duration": 147,
    "start_time": "2024-12-11T03:16:44.449Z"
   },
   {
    "duration": 762,
    "start_time": "2024-12-11T03:23:11.525Z"
   },
   {
    "duration": 795,
    "start_time": "2024-12-11T03:23:26.985Z"
   },
   {
    "duration": 989,
    "start_time": "2024-12-11T03:23:40.369Z"
   },
   {
    "duration": 16,
    "start_time": "2024-12-11T03:28:30.969Z"
   },
   {
    "duration": 925,
    "start_time": "2024-12-11T03:29:21.051Z"
   },
   {
    "duration": 17,
    "start_time": "2024-12-11T03:29:21.979Z"
   },
   {
    "duration": 104,
    "start_time": "2024-12-11T03:29:21.997Z"
   },
   {
    "duration": 3,
    "start_time": "2024-12-11T03:29:22.103Z"
   },
   {
    "duration": 16,
    "start_time": "2024-12-11T03:29:22.109Z"
   },
   {
    "duration": 15,
    "start_time": "2024-12-11T03:29:22.127Z"
   },
   {
    "duration": 26,
    "start_time": "2024-12-11T03:29:22.144Z"
   },
   {
    "duration": 9,
    "start_time": "2024-12-11T03:29:22.173Z"
   },
   {
    "duration": 453,
    "start_time": "2024-12-11T03:29:22.186Z"
   },
   {
    "duration": 31,
    "start_time": "2024-12-11T03:29:22.641Z"
   },
   {
    "duration": 20395,
    "start_time": "2024-12-11T03:29:22.674Z"
   },
   {
    "duration": 90,
    "start_time": "2024-12-11T03:29:43.071Z"
   },
   {
    "duration": 66,
    "start_time": "2024-12-11T03:29:43.163Z"
   },
   {
    "duration": 913,
    "start_time": "2024-12-11T03:29:43.232Z"
   },
   {
    "duration": 139,
    "start_time": "2024-12-11T03:29:44.147Z"
   },
   {
    "duration": 11,
    "start_time": "2024-12-11T03:29:44.288Z"
   },
   {
    "duration": 765,
    "start_time": "2024-12-11T03:29:44.301Z"
   },
   {
    "duration": 35,
    "start_time": "2024-12-11T03:29:45.068Z"
   },
   {
    "duration": 38672,
    "start_time": "2024-12-11T03:29:45.105Z"
   },
   {
    "duration": 217,
    "start_time": "2024-12-11T03:30:23.779Z"
   },
   {
    "duration": 49,
    "start_time": "2024-12-11T03:30:23.997Z"
   },
   {
    "duration": 247,
    "start_time": "2024-12-11T03:30:24.048Z"
   },
   {
    "duration": 42,
    "start_time": "2024-12-11T03:32:37.711Z"
   },
   {
    "duration": 100,
    "start_time": "2024-12-11T03:32:42.471Z"
   },
   {
    "duration": 731,
    "start_time": "2024-12-11T03:33:19.404Z"
   },
   {
    "duration": 40,
    "start_time": "2024-12-11T03:33:23.744Z"
   },
   {
    "duration": 103,
    "start_time": "2024-12-11T03:33:45.531Z"
   },
   {
    "duration": 42,
    "start_time": "2024-12-11T03:33:59.712Z"
   },
   {
    "duration": 57,
    "start_time": "2024-12-11T03:34:31.198Z"
   },
   {
    "duration": 37,
    "start_time": "2024-12-11T03:34:43.453Z"
   },
   {
    "duration": 36,
    "start_time": "2024-12-11T03:37:25.302Z"
   },
   {
    "duration": 100,
    "start_time": "2024-12-11T03:39:15.045Z"
   },
   {
    "duration": 100,
    "start_time": "2024-12-11T03:40:12.751Z"
   },
   {
    "duration": 235,
    "start_time": "2024-12-11T03:55:56.484Z"
   },
   {
    "duration": 30,
    "start_time": "2024-12-11T03:56:07.527Z"
   },
   {
    "duration": 132,
    "start_time": "2024-12-11T03:56:20.627Z"
   },
   {
    "duration": 130,
    "start_time": "2024-12-11T03:56:32.301Z"
   },
   {
    "duration": 134,
    "start_time": "2024-12-11T03:57:49.916Z"
   },
   {
    "duration": 134,
    "start_time": "2024-12-11T03:57:55.439Z"
   },
   {
    "duration": 130,
    "start_time": "2024-12-11T03:59:00.467Z"
   },
   {
    "duration": 131,
    "start_time": "2024-12-11T03:59:12.172Z"
   },
   {
    "duration": 134,
    "start_time": "2024-12-11T04:00:38.013Z"
   },
   {
    "duration": 747,
    "start_time": "2024-12-11T04:11:10.523Z"
   },
   {
    "duration": 37,
    "start_time": "2024-12-11T04:12:30.065Z"
   },
   {
    "duration": 27,
    "start_time": "2024-12-11T04:17:35.625Z"
   },
   {
    "duration": 157,
    "start_time": "2024-12-11T04:35:43.736Z"
   },
   {
    "duration": 5,
    "start_time": "2024-12-11T04:38:45.984Z"
   },
   {
    "duration": 100,
    "start_time": "2024-12-11T04:39:10.259Z"
   },
   {
    "duration": 7,
    "start_time": "2024-12-11T04:39:26.505Z"
   },
   {
    "duration": 100,
    "start_time": "2024-12-11T04:39:47.251Z"
   },
   {
    "duration": 100,
    "start_time": "2024-12-11T04:40:21.305Z"
   },
   {
    "duration": 183,
    "start_time": "2024-12-11T04:40:58.580Z"
   },
   {
    "duration": 42,
    "start_time": "2024-12-11T04:41:23.846Z"
   },
   {
    "duration": 39,
    "start_time": "2024-12-11T04:41:30.501Z"
   },
   {
    "duration": 40,
    "start_time": "2024-12-11T04:41:33.212Z"
   },
   {
    "duration": 101,
    "start_time": "2024-12-11T04:41:42.335Z"
   },
   {
    "duration": 40,
    "start_time": "2024-12-11T04:42:17.588Z"
   },
   {
    "duration": 6,
    "start_time": "2024-12-11T04:48:05.616Z"
   },
   {
    "duration": 6,
    "start_time": "2024-12-11T04:48:11.603Z"
   },
   {
    "duration": 5,
    "start_time": "2024-12-11T04:48:21.249Z"
   },
   {
    "duration": 33,
    "start_time": "2024-12-11T04:48:34.312Z"
   },
   {
    "duration": 83,
    "start_time": "2024-12-11T04:50:01.898Z"
   },
   {
    "duration": 8,
    "start_time": "2024-12-11T04:50:42.261Z"
   },
   {
    "duration": 27,
    "start_time": "2024-12-11T04:50:46.949Z"
   },
   {
    "duration": 7,
    "start_time": "2024-12-11T04:52:29.181Z"
   },
   {
    "duration": 156,
    "start_time": "2024-12-11T04:52:33.683Z"
   },
   {
    "duration": 160,
    "start_time": "2024-12-11T04:52:54.059Z"
   },
   {
    "duration": 161,
    "start_time": "2024-12-11T04:53:01.516Z"
   },
   {
    "duration": 35,
    "start_time": "2024-12-11T04:54:56.969Z"
   },
   {
    "duration": 23,
    "start_time": "2024-12-11T04:55:44.920Z"
   },
   {
    "duration": 37,
    "start_time": "2024-12-11T04:56:06.513Z"
   },
   {
    "duration": 36,
    "start_time": "2024-12-11T04:57:27.568Z"
   },
   {
    "duration": 37,
    "start_time": "2024-12-11T04:57:33.332Z"
   },
   {
    "duration": 25,
    "start_time": "2024-12-11T04:58:00.263Z"
   },
   {
    "duration": 102,
    "start_time": "2024-12-11T16:08:28.052Z"
   },
   {
    "duration": 110,
    "start_time": "2024-12-11T16:08:51.858Z"
   },
   {
    "duration": 102,
    "start_time": "2024-12-11T16:09:05.822Z"
   },
   {
    "duration": 908,
    "start_time": "2024-12-11T16:32:05.517Z"
   },
   {
    "duration": 15,
    "start_time": "2024-12-11T16:32:06.427Z"
   },
   {
    "duration": 99,
    "start_time": "2024-12-11T16:32:06.444Z"
   },
   {
    "duration": 3,
    "start_time": "2024-12-11T16:32:06.546Z"
   },
   {
    "duration": 5,
    "start_time": "2024-12-11T16:32:06.551Z"
   },
   {
    "duration": 14,
    "start_time": "2024-12-11T16:32:06.559Z"
   },
   {
    "duration": 54,
    "start_time": "2024-12-11T16:32:06.574Z"
   },
   {
    "duration": 8,
    "start_time": "2024-12-11T16:32:06.630Z"
   },
   {
    "duration": 431,
    "start_time": "2024-12-11T16:32:06.640Z"
   },
   {
    "duration": 31,
    "start_time": "2024-12-11T16:32:07.074Z"
   },
   {
    "duration": 20502,
    "start_time": "2024-12-11T16:32:07.107Z"
   },
   {
    "duration": 84,
    "start_time": "2024-12-11T16:32:27.611Z"
   },
   {
    "duration": 40,
    "start_time": "2024-12-11T16:32:27.696Z"
   },
   {
    "duration": 911,
    "start_time": "2024-12-11T16:32:27.738Z"
   },
   {
    "duration": 164,
    "start_time": "2024-12-11T16:32:28.651Z"
   },
   {
    "duration": 16,
    "start_time": "2024-12-11T16:32:28.817Z"
   },
   {
    "duration": 757,
    "start_time": "2024-12-11T16:32:28.835Z"
   },
   {
    "duration": 47,
    "start_time": "2024-12-11T16:32:29.594Z"
   },
   {
    "duration": 38672,
    "start_time": "2024-12-11T16:32:29.643Z"
   },
   {
    "duration": 100,
    "start_time": "2024-12-11T16:33:08.317Z"
   },
   {
    "duration": 34,
    "start_time": "2024-12-11T16:33:08.423Z"
   },
   {
    "duration": 241,
    "start_time": "2024-12-11T16:33:08.459Z"
   },
   {
    "duration": 137,
    "start_time": "2024-12-11T16:33:08.701Z"
   },
   {
    "duration": 38557,
    "start_time": "2024-12-11T16:44:32.685Z"
   },
   {
    "duration": 911,
    "start_time": "2024-12-11T17:28:07.918Z"
   },
   {
    "duration": 572,
    "start_time": "2024-12-11T17:28:09.701Z"
   },
   {
    "duration": 60,
    "start_time": "2024-12-11T17:28:13.268Z"
   },
   {
    "duration": 24,
    "start_time": "2024-12-11T17:28:26.470Z"
   },
   {
    "duration": 43,
    "start_time": "2024-12-11T17:28:27.888Z"
   },
   {
    "duration": 23,
    "start_time": "2024-12-11T18:39:04.705Z"
   },
   {
    "duration": 42,
    "start_time": "2024-12-11T18:39:08.391Z"
   },
   {
    "duration": 6,
    "start_time": "2024-12-11T18:42:56.050Z"
   },
   {
    "duration": 926,
    "start_time": "2024-12-11T18:43:04.344Z"
   },
   {
    "duration": 15,
    "start_time": "2024-12-11T18:43:05.273Z"
   },
   {
    "duration": 106,
    "start_time": "2024-12-11T18:43:05.290Z"
   },
   {
    "duration": 6,
    "start_time": "2024-12-11T18:43:05.398Z"
   },
   {
    "duration": 4,
    "start_time": "2024-12-11T18:43:05.424Z"
   },
   {
    "duration": 4,
    "start_time": "2024-12-11T18:43:05.430Z"
   },
   {
    "duration": 13,
    "start_time": "2024-12-11T18:43:05.435Z"
   },
   {
    "duration": 18,
    "start_time": "2024-12-11T18:43:05.450Z"
   },
   {
    "duration": 9,
    "start_time": "2024-12-11T18:43:05.471Z"
   },
   {
    "duration": 472,
    "start_time": "2024-12-11T18:43:05.481Z"
   },
   {
    "duration": 32,
    "start_time": "2024-12-11T18:43:05.954Z"
   },
   {
    "duration": 20422,
    "start_time": "2024-12-11T18:43:05.987Z"
   },
   {
    "duration": 88,
    "start_time": "2024-12-11T18:43:26.411Z"
   },
   {
    "duration": 34,
    "start_time": "2024-12-11T18:43:26.502Z"
   },
   {
    "duration": 899,
    "start_time": "2024-12-11T18:43:26.538Z"
   },
   {
    "duration": 172,
    "start_time": "2024-12-11T18:43:27.439Z"
   },
   {
    "duration": 20,
    "start_time": "2024-12-11T18:43:27.613Z"
   },
   {
    "duration": 778,
    "start_time": "2024-12-11T18:43:27.634Z"
   },
   {
    "duration": 44,
    "start_time": "2024-12-11T18:43:28.414Z"
   },
   {
    "duration": 38725,
    "start_time": "2024-12-11T18:43:28.460Z"
   },
   {
    "duration": 111,
    "start_time": "2024-12-11T18:44:07.187Z"
   },
   {
    "duration": 46,
    "start_time": "2024-12-11T18:44:07.299Z"
   },
   {
    "duration": 233,
    "start_time": "2024-12-11T18:44:07.347Z"
   },
   {
    "duration": 139,
    "start_time": "2024-12-11T18:44:07.582Z"
   },
   {
    "duration": 95,
    "start_time": "2024-12-11T18:49:07.793Z"
   },
   {
    "duration": 96,
    "start_time": "2024-12-11T18:50:23.308Z"
   },
   {
    "duration": 216,
    "start_time": "2024-12-11T18:51:50.722Z"
   },
   {
    "duration": 210,
    "start_time": "2024-12-11T18:52:20.216Z"
   },
   {
    "duration": 219,
    "start_time": "2024-12-11T18:53:40.205Z"
   },
   {
    "duration": 880,
    "start_time": "2024-12-11T19:00:36.411Z"
   },
   {
    "duration": 17,
    "start_time": "2024-12-11T19:00:37.293Z"
   },
   {
    "duration": 90,
    "start_time": "2024-12-11T19:00:37.312Z"
   },
   {
    "duration": 5,
    "start_time": "2024-12-11T19:00:37.405Z"
   },
   {
    "duration": 4,
    "start_time": "2024-12-11T19:00:37.424Z"
   },
   {
    "duration": 5,
    "start_time": "2024-12-11T19:00:37.429Z"
   },
   {
    "duration": 15,
    "start_time": "2024-12-11T19:00:37.435Z"
   },
   {
    "duration": 19,
    "start_time": "2024-12-11T19:00:37.451Z"
   },
   {
    "duration": 9,
    "start_time": "2024-12-11T19:00:37.471Z"
   },
   {
    "duration": 482,
    "start_time": "2024-12-11T19:00:37.482Z"
   },
   {
    "duration": 31,
    "start_time": "2024-12-11T19:00:37.966Z"
   },
   {
    "duration": 20340,
    "start_time": "2024-12-11T19:00:37.998Z"
   },
   {
    "duration": 104,
    "start_time": "2024-12-11T19:00:58.340Z"
   },
   {
    "duration": 78,
    "start_time": "2024-12-11T19:00:58.446Z"
   },
   {
    "duration": 865,
    "start_time": "2024-12-11T19:00:58.527Z"
   },
   {
    "duration": 164,
    "start_time": "2024-12-11T19:00:59.394Z"
   },
   {
    "duration": 10,
    "start_time": "2024-12-11T19:00:59.560Z"
   },
   {
    "duration": 755,
    "start_time": "2024-12-11T19:00:59.571Z"
   },
   {
    "duration": 36,
    "start_time": "2024-12-11T19:01:00.328Z"
   },
   {
    "duration": 38837,
    "start_time": "2024-12-11T19:01:00.366Z"
   },
   {
    "duration": 225,
    "start_time": "2024-12-11T19:01:39.205Z"
   },
   {
    "duration": 36,
    "start_time": "2024-12-11T19:01:39.432Z"
   },
   {
    "duration": 359,
    "start_time": "2024-12-11T19:01:39.469Z"
   },
   {
    "duration": 140,
    "start_time": "2024-12-11T19:01:39.830Z"
   },
   {
    "duration": 8,
    "start_time": "2024-12-11T19:59:52.252Z"
   }
  ],
  "kernelspec": {
   "display_name": "Python 3 (ipykernel)",
   "language": "python",
   "name": "python3"
  },
  "language_info": {
   "codemirror_mode": {
    "name": "ipython",
    "version": 3
   },
   "file_extension": ".py",
   "mimetype": "text/x-python",
   "name": "python",
   "nbconvert_exporter": "python",
   "pygments_lexer": "ipython3",
   "version": "3.9.19"
  },
  "toc": {
   "base_numbering": 1,
   "nav_menu": {},
   "number_sections": true,
   "sideBar": true,
   "skip_h1_title": true,
   "title_cell": "Table of Contents",
   "title_sidebar": "Contents",
   "toc_cell": false,
   "toc_position": {},
   "toc_section_display": true,
   "toc_window_display": false
  }
 },
 "nbformat": 4,
 "nbformat_minor": 2
}
