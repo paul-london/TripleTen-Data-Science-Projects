{
 "cells": [
  {
   "cell_type": "markdown",
   "id": "c0c34549",
   "metadata": {},
   "source": [
    "Hello Paul!\n",
    "\n",
    "I’m happy to review your project today.\n",
    "I will mark your mistakes and give you some hints how it is possible to fix them. We are getting ready for real job, where your team leader/senior colleague will do exactly the same. Don't worry and study with pleasure! \n",
    "\n",
    "Below you will find my comments - **please do not move, modify or delete them**.\n",
    "\n",
    "You can find my comments in green, yellow or red boxes like this:\n",
    "\n",
    "<div class=\"alert alert-block alert-success\">\n",
    "<b>Reviewer's comment</b> <a class=\"tocSkip\"></a>\n",
    "\n",
    "Success. Everything is done succesfully.\n",
    "</div>\n",
    "\n",
    "<div class=\"alert alert-block alert-warning\">\n",
    "<b>Reviewer's comment</b> <a class=\"tocSkip\"></a>\n",
    "\n",
    "Remarks. Some recommendations.\n",
    "</div>\n",
    "\n",
    "<div class=\"alert alert-block alert-danger\">\n",
    "\n",
    "<b>Reviewer's comment</b> <a class=\"tocSkip\"></a>\n",
    "\n",
    "Needs fixing. The block requires some corrections. Work can't be accepted with the red comments.\n",
    "</div>\n",
    "\n",
    "You can answer me by using this:\n",
    "\n",
    "<div class=\"alert alert-block alert-info\">\n",
    "<b>Student answer.</b> <a class=\"tocSkip\"></a>\n",
    "\n",
    "Text here.\n",
    "</div>\n"
   ]
  },
  {
   "cell_type": "markdown",
   "id": "03d66cc7",
   "metadata": {},
   "source": [
    "# Sprint 2 Project: Exploratory Data Analysis"
   ]
  },
  {
   "cell_type": "code",
   "execution_count": null,
   "id": "fbf1adab",
   "metadata": {},
   "outputs": [],
   "source": [
    "# Import all methods\n",
    "import pandas as pd\n",
    "import matplotlib.pyplot as plt\n",
    "import numpy as np"
   ]
  },
  {
   "cell_type": "code",
   "execution_count": null,
   "id": "ad36396d",
   "metadata": {},
   "outputs": [],
   "source": [
    "# Import all CSV files (all have ; separators)\n",
    "orders = pd.read_csv('/datasets/instacart_orders.csv', sep=';')\n",
    "products = pd.read_csv('/datasets/products.csv', sep=';')\n",
    "departments = pd.read_csv('/datasets/departments.csv', sep=';')\n",
    "aisles = pd.read_csv('/datasets/aisles.csv', sep=';')\n",
    "order_products = pd.read_csv('/datasets/order_products.csv', sep=';')"
   ]
  },
  {
   "cell_type": "code",
   "execution_count": null,
   "id": "ad6a1efa",
   "metadata": {},
   "outputs": [
    {
     "name": "stdout",
     "output_type": "stream",
     "text": [
      "<class 'pandas.core.frame.DataFrame'>\n",
      "RangeIndex: 478967 entries, 0 to 478966\n",
      "Data columns (total 6 columns):\n",
      " #   Column                  Non-Null Count   Dtype  \n",
      "---  ------                  --------------   -----  \n",
      " 0   order_id                478967 non-null  int64  \n",
      " 1   user_id                 478967 non-null  int64  \n",
      " 2   order_number            478967 non-null  int64  \n",
      " 3   order_dow               478967 non-null  int64  \n",
      " 4   order_hour_of_day       478967 non-null  int64  \n",
      " 5   days_since_prior_order  450148 non-null  float64\n",
      "dtypes: float64(1), int64(5)\n",
      "memory usage: 21.9 MB\n",
      "<class 'pandas.core.frame.DataFrame'>\n",
      "RangeIndex: 49694 entries, 0 to 49693\n",
      "Data columns (total 4 columns):\n",
      " #   Column         Non-Null Count  Dtype \n",
      "---  ------         --------------  ----- \n",
      " 0   product_id     49694 non-null  int64 \n",
      " 1   product_name   48436 non-null  object\n",
      " 2   aisle_id       49694 non-null  int64 \n",
      " 3   department_id  49694 non-null  int64 \n",
      "dtypes: int64(3), object(1)\n",
      "memory usage: 1.5+ MB\n",
      "<class 'pandas.core.frame.DataFrame'>\n",
      "RangeIndex: 21 entries, 0 to 20\n",
      "Data columns (total 2 columns):\n",
      " #   Column         Non-Null Count  Dtype \n",
      "---  ------         --------------  ----- \n",
      " 0   department_id  21 non-null     int64 \n",
      " 1   department     21 non-null     object\n",
      "dtypes: int64(1), object(1)\n",
      "memory usage: 464.0+ bytes\n",
      "<class 'pandas.core.frame.DataFrame'>\n",
      "RangeIndex: 134 entries, 0 to 133\n",
      "Data columns (total 2 columns):\n",
      " #   Column    Non-Null Count  Dtype \n",
      "---  ------    --------------  ----- \n",
      " 0   aisle_id  134 non-null    int64 \n",
      " 1   aisle     134 non-null    object\n",
      "dtypes: int64(1), object(1)\n",
      "memory usage: 2.2+ KB\n",
      "<class 'pandas.core.frame.DataFrame'>\n",
      "RangeIndex: 4545007 entries, 0 to 4545006\n",
      "Data columns (total 4 columns):\n",
      " #   Column             Non-Null Count    Dtype  \n",
      "---  ------             --------------    -----  \n",
      " 0   order_id           4545007 non-null  int64  \n",
      " 1   product_id         4545007 non-null  int64  \n",
      " 2   add_to_cart_order  4544171 non-null  float64\n",
      " 3   reordered          4545007 non-null  int64  \n",
      "dtypes: float64(1), int64(3)\n",
      "memory usage: 138.7 MB\n"
     ]
    }
   ],
   "source": [
    "# Get basic info about each dataframe\n",
    "orders.info()\n",
    "products.info()\n",
    "departments.info()\n",
    "aisles.info()\n",
    "order_products.info(show_counts=True) # Very large dataset: including show_counts=True"
   ]
  },
  {
   "cell_type": "code",
   "execution_count": null,
   "id": "5130e05e",
   "metadata": {},
   "outputs": [
    {
     "name": "stdout",
     "output_type": "stream",
     "text": [
      "Orders:\n",
      "order_id                      0\n",
      "user_id                       0\n",
      "order_number                  0\n",
      "order_dow                     0\n",
      "order_hour_of_day             0\n",
      "days_since_prior_order    28819\n",
      "dtype: int64\n",
      "\n",
      "Products:\n",
      "product_id          0\n",
      "product_name     1258\n",
      "aisle_id            0\n",
      "department_id       0\n",
      "dtype: int64\n",
      "\n",
      "Departments:\n",
      "department_id    0\n",
      "department       0\n",
      "dtype: int64\n",
      "\n",
      "Aisles:\n",
      "aisle_id    0\n",
      "aisle       0\n",
      "dtype: int64\n",
      "\n",
      "Order Products:\n",
      "order_id               0\n",
      "product_id             0\n",
      "add_to_cart_order    836\n",
      "reordered              0\n",
      "dtype: int64\n"
     ]
    }
   ],
   "source": [
    "# Checking for missing values\n",
    "print('Orders:') # Printing all missing value sums in a way that's easy to read for all 5 data frames\n",
    "print(orders.isna().sum())\n",
    "print()\n",
    "print('Products:')\n",
    "print(products.isna().sum())\n",
    "print()\n",
    "print('Departments:')\n",
    "print(departments.isna().sum())\n",
    "print()\n",
    "print('Aisles:')\n",
    "print(aisles.isna().sum())\n",
    "print()\n",
    "print('Order Products:')\n",
    "print(order_products.isna().sum())"
   ]
  },
  {
   "cell_type": "markdown",
   "id": "348f0be9",
   "metadata": {},
   "source": [
    "<div class=\"alert alert-block alert-success\">\n",
    "<b>Reviewer's comment</b> <a class=\"tocSkip\"></a>\n",
    "\n",
    "Nice initial review!\n",
    "</div>"
   ]
  },
  {
   "cell_type": "markdown",
   "id": "07357848-dc64-4156-9cc3-01ff4365226d",
   "metadata": {},
   "source": [
    "## Find and remove duplicate values (and describe why you make your choices)"
   ]
  },
  {
   "cell_type": "markdown",
   "id": "f179f0a9",
   "metadata": {},
   "source": [
    "### `orders` data frame"
   ]
  },
  {
   "cell_type": "code",
   "execution_count": null,
   "id": "b99297a5-405a-463d-8535-9adc3da4ad74",
   "metadata": {},
   "outputs": [
    {
     "data": {
      "text/html": [
       "<div>\n",
       "<style scoped>\n",
       "    .dataframe tbody tr th:only-of-type {\n",
       "        vertical-align: middle;\n",
       "    }\n",
       "\n",
       "    .dataframe tbody tr th {\n",
       "        vertical-align: top;\n",
       "    }\n",
       "\n",
       "    .dataframe thead th {\n",
       "        text-align: right;\n",
       "    }\n",
       "</style>\n",
       "<table border=\"1\" class=\"dataframe\">\n",
       "  <thead>\n",
       "    <tr style=\"text-align: right;\">\n",
       "      <th></th>\n",
       "      <th>order_id</th>\n",
       "      <th>user_id</th>\n",
       "      <th>order_number</th>\n",
       "      <th>order_dow</th>\n",
       "      <th>order_hour_of_day</th>\n",
       "      <th>days_since_prior_order</th>\n",
       "    </tr>\n",
       "  </thead>\n",
       "  <tbody>\n",
       "    <tr>\n",
       "      <th>145574</th>\n",
       "      <td>794638</td>\n",
       "      <td>50898</td>\n",
       "      <td>24</td>\n",
       "      <td>3</td>\n",
       "      <td>2</td>\n",
       "      <td>2.0</td>\n",
       "    </tr>\n",
       "    <tr>\n",
       "      <th>223105</th>\n",
       "      <td>2160484</td>\n",
       "      <td>107525</td>\n",
       "      <td>16</td>\n",
       "      <td>3</td>\n",
       "      <td>2</td>\n",
       "      <td>30.0</td>\n",
       "    </tr>\n",
       "    <tr>\n",
       "      <th>230807</th>\n",
       "      <td>1918001</td>\n",
       "      <td>188546</td>\n",
       "      <td>14</td>\n",
       "      <td>3</td>\n",
       "      <td>2</td>\n",
       "      <td>16.0</td>\n",
       "    </tr>\n",
       "    <tr>\n",
       "      <th>266232</th>\n",
       "      <td>1782114</td>\n",
       "      <td>106752</td>\n",
       "      <td>1</td>\n",
       "      <td>3</td>\n",
       "      <td>2</td>\n",
       "      <td>NaN</td>\n",
       "    </tr>\n",
       "    <tr>\n",
       "      <th>273805</th>\n",
       "      <td>1112182</td>\n",
       "      <td>202304</td>\n",
       "      <td>84</td>\n",
       "      <td>3</td>\n",
       "      <td>2</td>\n",
       "      <td>6.0</td>\n",
       "    </tr>\n",
       "    <tr>\n",
       "      <th>284038</th>\n",
       "      <td>2845099</td>\n",
       "      <td>31189</td>\n",
       "      <td>11</td>\n",
       "      <td>3</td>\n",
       "      <td>2</td>\n",
       "      <td>7.0</td>\n",
       "    </tr>\n",
       "    <tr>\n",
       "      <th>311713</th>\n",
       "      <td>1021560</td>\n",
       "      <td>53767</td>\n",
       "      <td>3</td>\n",
       "      <td>3</td>\n",
       "      <td>2</td>\n",
       "      <td>9.0</td>\n",
       "    </tr>\n",
       "    <tr>\n",
       "      <th>321100</th>\n",
       "      <td>408114</td>\n",
       "      <td>68324</td>\n",
       "      <td>4</td>\n",
       "      <td>3</td>\n",
       "      <td>2</td>\n",
       "      <td>18.0</td>\n",
       "    </tr>\n",
       "    <tr>\n",
       "      <th>323900</th>\n",
       "      <td>1919531</td>\n",
       "      <td>191501</td>\n",
       "      <td>32</td>\n",
       "      <td>3</td>\n",
       "      <td>2</td>\n",
       "      <td>7.0</td>\n",
       "    </tr>\n",
       "    <tr>\n",
       "      <th>345917</th>\n",
       "      <td>2232988</td>\n",
       "      <td>82565</td>\n",
       "      <td>1</td>\n",
       "      <td>3</td>\n",
       "      <td>2</td>\n",
       "      <td>NaN</td>\n",
       "    </tr>\n",
       "    <tr>\n",
       "      <th>371905</th>\n",
       "      <td>391768</td>\n",
       "      <td>57671</td>\n",
       "      <td>19</td>\n",
       "      <td>3</td>\n",
       "      <td>2</td>\n",
       "      <td>10.0</td>\n",
       "    </tr>\n",
       "    <tr>\n",
       "      <th>394347</th>\n",
       "      <td>467134</td>\n",
       "      <td>63189</td>\n",
       "      <td>21</td>\n",
       "      <td>3</td>\n",
       "      <td>2</td>\n",
       "      <td>2.0</td>\n",
       "    </tr>\n",
       "    <tr>\n",
       "      <th>411408</th>\n",
       "      <td>1286742</td>\n",
       "      <td>183220</td>\n",
       "      <td>48</td>\n",
       "      <td>3</td>\n",
       "      <td>2</td>\n",
       "      <td>4.0</td>\n",
       "    </tr>\n",
       "    <tr>\n",
       "      <th>415163</th>\n",
       "      <td>2282673</td>\n",
       "      <td>86751</td>\n",
       "      <td>49</td>\n",
       "      <td>3</td>\n",
       "      <td>2</td>\n",
       "      <td>2.0</td>\n",
       "    </tr>\n",
       "    <tr>\n",
       "      <th>441599</th>\n",
       "      <td>2125197</td>\n",
       "      <td>14050</td>\n",
       "      <td>48</td>\n",
       "      <td>3</td>\n",
       "      <td>2</td>\n",
       "      <td>3.0</td>\n",
       "    </tr>\n",
       "  </tbody>\n",
       "</table>\n",
       "</div>"
      ],
      "text/plain": [
       "        order_id  user_id  order_number  order_dow  order_hour_of_day  \\\n",
       "145574    794638    50898            24          3                  2   \n",
       "223105   2160484   107525            16          3                  2   \n",
       "230807   1918001   188546            14          3                  2   \n",
       "266232   1782114   106752             1          3                  2   \n",
       "273805   1112182   202304            84          3                  2   \n",
       "284038   2845099    31189            11          3                  2   \n",
       "311713   1021560    53767             3          3                  2   \n",
       "321100    408114    68324             4          3                  2   \n",
       "323900   1919531   191501            32          3                  2   \n",
       "345917   2232988    82565             1          3                  2   \n",
       "371905    391768    57671            19          3                  2   \n",
       "394347    467134    63189            21          3                  2   \n",
       "411408   1286742   183220            48          3                  2   \n",
       "415163   2282673    86751            49          3                  2   \n",
       "441599   2125197    14050            48          3                  2   \n",
       "\n",
       "        days_since_prior_order  \n",
       "145574                     2.0  \n",
       "223105                    30.0  \n",
       "230807                    16.0  \n",
       "266232                     NaN  \n",
       "273805                     6.0  \n",
       "284038                     7.0  \n",
       "311713                     9.0  \n",
       "321100                    18.0  \n",
       "323900                     7.0  \n",
       "345917                     NaN  \n",
       "371905                    10.0  \n",
       "394347                     2.0  \n",
       "411408                     4.0  \n",
       "415163                     2.0  \n",
       "441599                     3.0  "
      ]
     },
     "execution_count": 5,
     "metadata": {},
     "output_type": "execute_result"
    }
   ],
   "source": [
    "# Check for duplicated orders\n",
    "\n",
    "duplicate_orders = orders[orders['order_id'].duplicated()] # Creating a new df of duplicated order ID's from original df\n",
    "duplicate_orders # Print new df"
   ]
  },
  {
   "cell_type": "code",
   "execution_count": null,
   "id": "0d44de5d",
   "metadata": {},
   "outputs": [
    {
     "name": "stdout",
     "output_type": "stream",
     "text": [
      "        order_id  user_id  order_number  order_dow  order_hour_of_day  \\\n",
      "4838     2766110   162084            41          3                  2   \n",
      "5156     2190225   138285            18          3                  2   \n",
      "15506     553049    58599            13          3                  2   \n",
      "18420     382357   120200            19          3                  2   \n",
      "24691     690242    77357             2          3                  2   \n",
      "...          ...      ...           ...        ...                ...   \n",
      "457013   3384021    14881             6          3                  2   \n",
      "458816    910166   164782            18          3                  2   \n",
      "459635   1680532   106435             6          3                  2   \n",
      "468324    222962    54979            59          3                  2   \n",
      "477526   2592344    46860            38          3                  2   \n",
      "\n",
      "        days_since_prior_order  \n",
      "4838                      16.0  \n",
      "5156                      11.0  \n",
      "15506                      7.0  \n",
      "18420                     11.0  \n",
      "24691                      9.0  \n",
      "...                        ...  \n",
      "457013                    30.0  \n",
      "458816                     4.0  \n",
      "459635                    21.0  \n",
      "468324                     3.0  \n",
      "477526                     3.0  \n",
      "\n",
      "[121 rows x 6 columns]\n",
      "[2766110 2190225  553049  382357  690242 1378085 2846262  353088 1918001\n",
      " 1725788 1453300 2851380 1399416 1761462 2027608  592699 2800415 1554296\n",
      " 2429224 1542137 3226444  794638 2061573 2218116  851025 2908154 1353704\n",
      "  408114 2438538 3155527 2767450 2845099 2547119  449909 1112182 3149961\n",
      " 3389820 2677202 2025848 2725375 2665629  404972  738145  350018 1135733\n",
      " 1496645 1782114 2125197  284770 2160484 1525566  908991 1121635 1958044\n",
      " 1021560 1395560  819551  238782  467134  577527  593561 1919531 2282673\n",
      " 1211189 1099720 2625221 1219044  401662 1645769  596062  632042  736983\n",
      " 2425457 1286742  272079 2893503 1833869 2232988  264348  494201  898850\n",
      " 2291746 2593771 2602339  391768  332561 1477271 1983940 1090993  774488\n",
      " 2934579 3286161 3275652  248760  522496  508008  781491 1725841 1171914\n",
      " 2132617     191 3384021  910166 1680532  222962 2592344]\n"
     ]
    }
   ],
   "source": [
    "# Check for all orders placed Wednesday at 2:00 AM\n",
    "# Assuming Wednesday is day 3 (Sunday = day 0)\n",
    "orders_wed_2am = orders[(orders['order_dow'] == 3) & (orders['order_hour_of_day'] == 2)] # Creating a new df where the only rows are those with order_dow = 3 and order_hour_of_day = 2\n",
    "print(orders_wed_2am) #Wed 2AM orders full dataframe\n",
    "print(orders_wed_2am['order_id'].unique()) # Wed 2:00 AM order ID's only, in list format"
   ]
  },
  {
   "cell_type": "code",
   "execution_count": null,
   "id": "480563c7",
   "metadata": {},
   "outputs": [],
   "source": [
    "# Remove duplicate orders\n",
    "orders = orders.drop_duplicates(subset='order_id') # Removing rows with duplicate order ID's, but not duplicates of other information that may be shared between non-duplicate orders"
   ]
  },
  {
   "cell_type": "code",
   "execution_count": null,
   "id": "0b2396a2",
   "metadata": {},
   "outputs": [
    {
     "data": {
      "text/plain": [
       "0"
      ]
     },
     "execution_count": 8,
     "metadata": {},
     "output_type": "execute_result"
    }
   ],
   "source": [
    "# Double check for duplicate rows\n",
    "orders.duplicated().sum() # Checking result with sum: 0 means no duplicates"
   ]
  },
  {
   "cell_type": "code",
   "execution_count": null,
   "id": "f6113ef1",
   "metadata": {},
   "outputs": [
    {
     "data": {
      "text/plain": [
       "0"
      ]
     },
     "execution_count": 9,
     "metadata": {},
     "output_type": "execute_result"
    }
   ],
   "source": [
    "# Double check for duplicate order IDs only\n",
    "orders['order_id'].duplicated().sum() # Checking result with sum: 0 means no duplicates"
   ]
  },
  {
   "cell_type": "markdown",
   "id": "5e8905ae",
   "metadata": {},
   "source": [
    "Summary: The orders data frame contained some duplicate Order ID's that has to be removed, and no longer contains any duplicate orders. There were 121 orders placed on a Wednesday at 2:00 AM."
   ]
  },
  {
   "cell_type": "markdown",
   "id": "45e6bc46",
   "metadata": {},
   "source": [
    "### `products` data frame"
   ]
  },
  {
   "cell_type": "code",
   "execution_count": null,
   "id": "5f526b5b-8175-46fa-a0fd-441767d50e64",
   "metadata": {},
   "outputs": [
    {
     "data": {
      "text/plain": [
       "0"
      ]
     },
     "execution_count": 10,
     "metadata": {},
     "output_type": "execute_result"
    }
   ],
   "source": [
    "# Check for fully duplicate rows\n",
    "products.duplicated().sum() # Checking result with sum: 0 means no duplicates"
   ]
  },
  {
   "cell_type": "code",
   "execution_count": null,
   "id": "88daa4f4",
   "metadata": {},
   "outputs": [
    {
     "data": {
      "text/plain": [
       "0"
      ]
     },
     "execution_count": 11,
     "metadata": {},
     "output_type": "execute_result"
    }
   ],
   "source": [
    "# Check for just duplicate product IDs\n",
    "products['product_id'].duplicated().sum() # Checking result with sum: 0 means no duplicates"
   ]
  },
  {
   "cell_type": "code",
   "execution_count": null,
   "id": "c773f0bf",
   "metadata": {},
   "outputs": [
    {
     "data": {
      "text/plain": [
       "13923                                       curry powder\n",
       "45304                           taters shredded potatoes\n",
       "24426     snacks string cheese natural mozzarella cheese\n",
       "4443                       clotted cream- english luxury\n",
       "20326         organic all natural blueberry mini waffles\n",
       "10308        low sodium condensed cream of mushroom soup\n",
       "15858                     world harbor marinade sriracha\n",
       "12763                 perfectly protein vanilla chai tea\n",
       "3448                      moisturizing shampoo unscented\n",
       "4843     gotta have vanilla organic frozen nonfat yogurt\n",
       "Name: product_name, dtype: object"
      ]
     },
     "execution_count": 12,
     "metadata": {},
     "output_type": "execute_result"
    }
   ],
   "source": [
    "# Check for just duplicate product names (convert names to lowercase to compare better)\n",
    "products['product_name'] = products['product_name'].str.lower() # Converting all product names to all lowercase\n",
    "products['product_name'].sample(10) # Checking that a random 10 products are lowercase, showing the conversion worked"
   ]
  },
  {
   "cell_type": "code",
   "execution_count": null,
   "id": "01efd02e",
   "metadata": {},
   "outputs": [
    {
     "data": {
      "text/plain": [
       "0"
      ]
     },
     "execution_count": 13,
     "metadata": {},
     "output_type": "execute_result"
    }
   ],
   "source": [
    "# Check for duplicate product names that aren't missing\n",
    "products['product_id'].duplicated().sum() # Checking result with sum: 0 means no duplicates"
   ]
  },
  {
   "cell_type": "markdown",
   "id": "9da8d293",
   "metadata": {},
   "source": [
    "Summary: The products data frame contains no duplicates."
   ]
  },
  {
   "cell_type": "markdown",
   "id": "60f30db1",
   "metadata": {},
   "source": [
    "### `departments` data frame"
   ]
  },
  {
   "cell_type": "code",
   "execution_count": null,
   "id": "fb410ad4-0fbf-4b80-bb09-23fdea79afe3",
   "metadata": {},
   "outputs": [
    {
     "data": {
      "text/plain": [
       "0"
      ]
     },
     "execution_count": 14,
     "metadata": {},
     "output_type": "execute_result"
    }
   ],
   "source": [
    "# Check for fully duplicate rows\n",
    "departments.duplicated().sum() # Checking result with sum: 0 means no duplicates"
   ]
  },
  {
   "cell_type": "code",
   "execution_count": null,
   "id": "332b12bb",
   "metadata": {},
   "outputs": [],
   "source": []
  },
  {
   "cell_type": "markdown",
   "id": "bd30d78e",
   "metadata": {},
   "source": [
    "Summary: The departments data frame contains no duplicates."
   ]
  },
  {
   "cell_type": "markdown",
   "id": "889349c1",
   "metadata": {},
   "source": [
    "### `aisles` data frame"
   ]
  },
  {
   "cell_type": "code",
   "execution_count": null,
   "id": "9da89fb9-4679-40f5-ad0d-c34df753a3f8",
   "metadata": {},
   "outputs": [
    {
     "data": {
      "text/plain": [
       "0"
      ]
     },
     "execution_count": 15,
     "metadata": {},
     "output_type": "execute_result"
    }
   ],
   "source": [
    "# Check for fully duplicate rows\n",
    "aisles.duplicated().sum() # Checking result with sum: 0 means no duplicates"
   ]
  },
  {
   "cell_type": "code",
   "execution_count": null,
   "id": "da7c2822",
   "metadata": {},
   "outputs": [],
   "source": []
  },
  {
   "cell_type": "markdown",
   "id": "ac63826f",
   "metadata": {},
   "source": [
    "Summary: The aisles data frame contains no duplicates."
   ]
  },
  {
   "cell_type": "markdown",
   "id": "274cd06a",
   "metadata": {},
   "source": [
    "### `order_products` data frame"
   ]
  },
  {
   "cell_type": "code",
   "execution_count": null,
   "id": "52326689-84a8-4b8f-a881-7c68780f62c9",
   "metadata": {},
   "outputs": [
    {
     "data": {
      "text/plain": [
       "0"
      ]
     },
     "execution_count": 16,
     "metadata": {},
     "output_type": "execute_result"
    }
   ],
   "source": [
    "# Check for fullly duplicate rows\n",
    "order_products.duplicated().sum() # Checking result with sum: 0 means no duplicates"
   ]
  },
  {
   "cell_type": "code",
   "execution_count": null,
   "id": "7b861391",
   "metadata": {},
   "outputs": [
    {
     "data": {
      "text/html": [
       "<div>\n",
       "<style scoped>\n",
       "    .dataframe tbody tr th:only-of-type {\n",
       "        vertical-align: middle;\n",
       "    }\n",
       "\n",
       "    .dataframe tbody tr th {\n",
       "        vertical-align: top;\n",
       "    }\n",
       "\n",
       "    .dataframe thead th {\n",
       "        text-align: right;\n",
       "    }\n",
       "</style>\n",
       "<table border=\"1\" class=\"dataframe\">\n",
       "  <thead>\n",
       "    <tr style=\"text-align: right;\">\n",
       "      <th></th>\n",
       "      <th>order_id</th>\n",
       "      <th>product_id</th>\n",
       "      <th>add_to_cart_order</th>\n",
       "      <th>reordered</th>\n",
       "    </tr>\n",
       "  </thead>\n",
       "  <tbody>\n",
       "  </tbody>\n",
       "</table>\n",
       "</div>"
      ],
      "text/plain": [
       "Empty DataFrame\n",
       "Columns: [order_id, product_id, add_to_cart_order, reordered]\n",
       "Index: []"
      ]
     },
     "execution_count": 17,
     "metadata": {},
     "output_type": "execute_result"
    }
   ],
   "source": [
    "# Double check for any other tricky duplicates\n",
    "order_products[order_products.duplicated()]"
   ]
  },
  {
   "cell_type": "markdown",
   "id": "0b890492",
   "metadata": {},
   "source": [
    "Summary: The order_products data frame contains no duplicates."
   ]
  },
  {
   "cell_type": "markdown",
   "id": "1e46de76",
   "metadata": {},
   "source": [
    "## Find and remove missing values\n"
   ]
  },
  {
   "cell_type": "markdown",
   "id": "c0aebd78",
   "metadata": {},
   "source": [
    "### `products` data frame"
   ]
  },
  {
   "cell_type": "code",
   "execution_count": null,
   "id": "e96167bc",
   "metadata": {},
   "outputs": [
    {
     "data": {
      "text/plain": [
       "array([100])"
      ]
     },
     "execution_count": 18,
     "metadata": {},
     "output_type": "execute_result"
    }
   ],
   "source": [
    "# Are all of the missing product names associated with aisle ID 100?\n",
    "missing_products = products[products['product_name'].isna()]\n",
    "missing_products['aisle_id'].unique()"
   ]
  },
  {
   "cell_type": "markdown",
   "id": "d53792e6",
   "metadata": {},
   "source": [
    "Yes, all missing product names are associated with Aisle ID 100."
   ]
  },
  {
   "cell_type": "code",
   "execution_count": null,
   "id": "8fd0a541",
   "metadata": {},
   "outputs": [
    {
     "data": {
      "text/plain": [
       "array([21])"
      ]
     },
     "execution_count": 19,
     "metadata": {},
     "output_type": "execute_result"
    }
   ],
   "source": [
    "# Are all of the missing product names associated with department ID 21?\n",
    "missing_products = products[products['product_name'].isna()]\n",
    "missing_products['department_id'].unique()"
   ]
  },
  {
   "cell_type": "markdown",
   "id": "c3ee853c",
   "metadata": {},
   "source": [
    "Yes, all missing product names are associated with Department ID 21."
   ]
  },
  {
   "cell_type": "code",
   "execution_count": null,
   "id": "325c3464",
   "metadata": {},
   "outputs": [
    {
     "name": "stdout",
     "output_type": "stream",
     "text": [
      "missing\n",
      "missing\n"
     ]
    }
   ],
   "source": [
    "# What is this aisle and department?\n",
    "# Checking departments data frame value at index 20 (corresponding to department ID 21) to return department name\n",
    "print(departments.loc[20, 'department'])\n",
    "# Checking aisles data frame value at index 99 (corresponding to aisle ID 100) to return aisle name\n",
    "print(aisles.loc[99, 'aisle'])"
   ]
  },
  {
   "cell_type": "markdown",
   "id": "fdb6decc",
   "metadata": {},
   "source": [
    "Department ID 21 and Aisle ID 100 are both labeled as 'Missing' in their corresponding data frames."
   ]
  },
  {
   "cell_type": "code",
   "execution_count": null,
   "id": "6b295120",
   "metadata": {},
   "outputs": [],
   "source": [
    "# Fill missing product names with 'Unknown'\n",
    "# Missing product names can't be replaced in a general way, so we will mark them as 'Unknown' for now\n",
    "# They may end up having to be excluded from analysis if the product names are important later on\n",
    "products['product_name'] = products['product_name'].fillna('Unknown') "
   ]
  },
  {
   "cell_type": "markdown",
   "id": "fc70e5ad",
   "metadata": {},
   "source": [
    "I have replaced missing product names with 'Unknown'. These are real products but we don't have their names currently."
   ]
  },
  {
   "cell_type": "markdown",
   "id": "7eb45c86",
   "metadata": {},
   "source": [
    "### `orders` data frame"
   ]
  },
  {
   "cell_type": "code",
   "execution_count": null,
   "id": "166e5a86",
   "metadata": {},
   "outputs": [
    {
     "name": "stdout",
     "output_type": "stream",
     "text": [
      "order_id                  1\n",
      "user_id                   1\n",
      "order_number              1\n",
      "order_dow                 1\n",
      "order_hour_of_day         1\n",
      "days_since_prior_order    2\n",
      "dtype: int64\n",
      "\n",
      "[0.0, 1.0, 2.0, 3.0, 4.0, 5.0, 6.0, 7.0, 8.0, 9.0, 10.0, 11.0, 12.0, 13.0, 14.0, 15.0, 16.0, 17.0, 18.0, 19.0, 20.0, 21.0, 22.0, 23.0, 24.0, 25.0, 26.0, 27.0, 29.0, 30.0, nan, 28.0]\n"
     ]
    }
   ],
   "source": [
    "# Are there any missing values where it's not a customer's first order?\n",
    "# We can assume that a missing value for days_since_prior_order means it's the customer's first order\n",
    "print(orders.isna().nunique()) # Checking how many different missing values the days_since_prior_order column has\n",
    "print()\n",
    "print(sorted(orders['days_since_prior_order'].unique())) # Listing unique values of days_since_prior_order column"
   ]
  },
  {
   "cell_type": "markdown",
   "id": "4e23d089",
   "metadata": {},
   "source": [
    "A blank value in the Days Since Prior Order column means it's the customer's first order. However, a value of 0.0 in this column may just mean it hasn't yet been a full day since the customer last ordered, since this data does not include decimals of days that have passed since ordering, therefore any period before 1 day would display as 0.0 days. On that note, we should convert this data column to the integer data type for clarity."
   ]
  },
  {
   "cell_type": "code",
   "execution_count": null,
   "id": "a7a3fa9b",
   "metadata": {},
   "outputs": [
    {
     "data": {
      "text/plain": [
       "order_id                    int64\n",
       "user_id                     int64\n",
       "order_number                int64\n",
       "order_dow                   int64\n",
       "order_hour_of_day           int64\n",
       "days_since_prior_order    float64\n",
       "dtype: object"
      ]
     },
     "execution_count": 23,
     "metadata": {},
     "output_type": "execute_result"
    }
   ],
   "source": [
    "# Converting days_since_prior_order from float64 to int64 for clarity\n",
    "orders['days_since_prior_order'] = orders['days_since_prior_order'].astype(int, errors='ignore')\n",
    "# Verifying the change to data type\n",
    "orders.dtypes"
   ]
  },
  {
   "cell_type": "markdown",
   "id": "69dc9ca4",
   "metadata": {},
   "source": [
    "### `order_products` data frame"
   ]
  },
  {
   "cell_type": "code",
   "execution_count": null,
   "id": "9a78e5ee",
   "metadata": {},
   "outputs": [
    {
     "name": "stdout",
     "output_type": "stream",
     "text": [
      "1.0\n",
      "64.0\n"
     ]
    }
   ],
   "source": [
    "# What are the min and max values in this column?\n",
    "print(order_products['add_to_cart_order'].min())\n",
    "print(order_products['add_to_cart_order'].max())"
   ]
  },
  {
   "cell_type": "markdown",
   "id": "cfadbc58",
   "metadata": {},
   "source": [
    "In the Add to Cart Order column of the Order Products data frame, the minimum value is 1.0 and the maximum value is 64.0."
   ]
  },
  {
   "cell_type": "code",
   "execution_count": null,
   "id": "ab9d0c2b",
   "metadata": {},
   "outputs": [
    {
     "data": {
      "text/html": [
       "<div>\n",
       "<style scoped>\n",
       "    .dataframe tbody tr th:only-of-type {\n",
       "        vertical-align: middle;\n",
       "    }\n",
       "\n",
       "    .dataframe tbody tr th {\n",
       "        vertical-align: top;\n",
       "    }\n",
       "\n",
       "    .dataframe thead th {\n",
       "        text-align: right;\n",
       "    }\n",
       "</style>\n",
       "<table border=\"1\" class=\"dataframe\">\n",
       "  <thead>\n",
       "    <tr style=\"text-align: right;\">\n",
       "      <th></th>\n",
       "      <th>order_id</th>\n",
       "      <th>product_id</th>\n",
       "      <th>add_to_cart_order</th>\n",
       "      <th>reordered</th>\n",
       "    </tr>\n",
       "  </thead>\n",
       "  <tbody>\n",
       "    <tr>\n",
       "      <th>737</th>\n",
       "      <td>2449164</td>\n",
       "      <td>5068</td>\n",
       "      <td>NaN</td>\n",
       "      <td>0</td>\n",
       "    </tr>\n",
       "    <tr>\n",
       "      <th>9926</th>\n",
       "      <td>1968313</td>\n",
       "      <td>43867</td>\n",
       "      <td>NaN</td>\n",
       "      <td>0</td>\n",
       "    </tr>\n",
       "    <tr>\n",
       "      <th>14394</th>\n",
       "      <td>2926893</td>\n",
       "      <td>11688</td>\n",
       "      <td>NaN</td>\n",
       "      <td>0</td>\n",
       "    </tr>\n",
       "    <tr>\n",
       "      <th>16418</th>\n",
       "      <td>1717990</td>\n",
       "      <td>4142</td>\n",
       "      <td>NaN</td>\n",
       "      <td>0</td>\n",
       "    </tr>\n",
       "    <tr>\n",
       "      <th>30114</th>\n",
       "      <td>1959075</td>\n",
       "      <td>42828</td>\n",
       "      <td>NaN</td>\n",
       "      <td>1</td>\n",
       "    </tr>\n",
       "    <tr>\n",
       "      <th>...</th>\n",
       "      <td>...</td>\n",
       "      <td>...</td>\n",
       "      <td>...</td>\n",
       "      <td>...</td>\n",
       "    </tr>\n",
       "    <tr>\n",
       "      <th>4505662</th>\n",
       "      <td>1800005</td>\n",
       "      <td>7411</td>\n",
       "      <td>NaN</td>\n",
       "      <td>0</td>\n",
       "    </tr>\n",
       "    <tr>\n",
       "      <th>4511400</th>\n",
       "      <td>1633337</td>\n",
       "      <td>260</td>\n",
       "      <td>NaN</td>\n",
       "      <td>0</td>\n",
       "    </tr>\n",
       "    <tr>\n",
       "      <th>4517562</th>\n",
       "      <td>404157</td>\n",
       "      <td>9517</td>\n",
       "      <td>NaN</td>\n",
       "      <td>0</td>\n",
       "    </tr>\n",
       "    <tr>\n",
       "      <th>4534112</th>\n",
       "      <td>1673227</td>\n",
       "      <td>17835</td>\n",
       "      <td>NaN</td>\n",
       "      <td>0</td>\n",
       "    </tr>\n",
       "    <tr>\n",
       "      <th>4535739</th>\n",
       "      <td>1832957</td>\n",
       "      <td>17949</td>\n",
       "      <td>NaN</td>\n",
       "      <td>1</td>\n",
       "    </tr>\n",
       "  </tbody>\n",
       "</table>\n",
       "<p>836 rows × 4 columns</p>\n",
       "</div>"
      ],
      "text/plain": [
       "         order_id  product_id  add_to_cart_order  reordered\n",
       "737       2449164        5068                NaN          0\n",
       "9926      1968313       43867                NaN          0\n",
       "14394     2926893       11688                NaN          0\n",
       "16418     1717990        4142                NaN          0\n",
       "30114     1959075       42828                NaN          1\n",
       "...           ...         ...                ...        ...\n",
       "4505662   1800005        7411                NaN          0\n",
       "4511400   1633337         260                NaN          0\n",
       "4517562    404157        9517                NaN          0\n",
       "4534112   1673227       17835                NaN          0\n",
       "4535739   1832957       17949                NaN          1\n",
       "\n",
       "[836 rows x 4 columns]"
      ]
     },
     "execution_count": 25,
     "metadata": {},
     "output_type": "execute_result"
    }
   ],
   "source": [
    "# Save all order IDs with at least one missing value in 'add_to_cart_order'\n",
    "# Create a new data frame with all data for order ID's with missing value in 'add_to_cart_order'\n",
    "order_products_missing = order_products[order_products['add_to_cart_order'].isna()]\n",
    "order_products_missing"
   ]
  },
  {
   "cell_type": "code",
   "execution_count": null,
   "id": "54c31695",
   "metadata": {},
   "outputs": [
    {
     "data": {
      "text/plain": [
       "737        2449164\n",
       "9926       1968313\n",
       "14394      2926893\n",
       "16418      1717990\n",
       "30114      1959075\n",
       "            ...   \n",
       "2437093       9310\n",
       "2438301    2170451\n",
       "3275635    2979697\n",
       "3282194    1625713\n",
       "3357079    1529171\n",
       "Name: order_id, Length: 70, dtype: int64"
      ]
     },
     "execution_count": 26,
     "metadata": {},
     "output_type": "execute_result"
    }
   ],
   "source": [
    "# Do all of these orders contain more than 64.0 products?\n",
    "# Update new data frame to drop duplicate order IDs\n",
    "order_products_missing_unique = order_products_missing['order_id'].drop_duplicates()\n",
    "order_products_missing_unique"
   ]
  },
  {
   "cell_type": "markdown",
   "id": "663cb5a8",
   "metadata": {},
   "source": [
    "There are 836 total Order ID's among those with missing values in the Add to Cart Order column, but only 70 unique Order ID's present. Therefore, these orders likely have more than 64 products and the correct number of products is not being correctly displayed by the data in that column. However, it is impossible for *ALL* 70 of these orders to contain more than 64 products, because 836 / 70 = 11.9 which is below 65."
   ]
  },
  {
   "cell_type": "code",
   "execution_count": null,
   "id": "7a987d08",
   "metadata": {},
   "outputs": [
    {
     "data": {
      "text/plain": [
       "order_id             int64\n",
       "product_id           int64\n",
       "add_to_cart_order    int64\n",
       "reordered            int64\n",
       "dtype: object"
      ]
     },
     "execution_count": 27,
     "metadata": {},
     "output_type": "execute_result"
    }
   ],
   "source": [
    "# Replace missing values with 999 and convert column to integer type\n",
    "order_products['add_to_cart_order'] = order_products['add_to_cart_order'].fillna('999')\n",
    "order_products['add_to_cart_order'] = order_products['add_to_cart_order'].astype('int', errors='ignore')\n",
    "# Verifying the change to data type\n",
    "order_products.dtypes"
   ]
  },
  {
   "cell_type": "markdown",
   "id": "d8f312db",
   "metadata": {},
   "source": [
    "<div class=\"alert alert-block alert-success\">\n",
    "<b>Reviewer's comment</b> <a class=\"tocSkip\"></a>\n",
    "\n",
    "Great preprocessing!\n",
    "</div>"
   ]
  },
  {
   "cell_type": "markdown",
   "id": "fea4bcc7",
   "metadata": {},
   "source": []
  },
  {
   "cell_type": "markdown",
   "id": "turkish-kidney",
   "metadata": {},
   "source": [
    "# [A] Easy (must complete all to pass)"
   ]
  },
  {
   "cell_type": "markdown",
   "id": "short-capability",
   "metadata": {},
   "source": [
    "### [A1] Verify that the `'order_hour_of_day'` and `'order_dow'` values in the `orders` tables are sensible (i.e. `'order_hour_of_day'` ranges from 0 to 23 and `'order_dow'` ranges from 0 to 6)"
   ]
  },
  {
   "cell_type": "code",
   "execution_count": null,
   "id": "growing-fruit",
   "metadata": {},
   "outputs": [
    {
     "name": "stdout",
     "output_type": "stream",
     "text": [
      "Hour of Day Values = [0, 1, 2, 3, 4, 5, 6, 7, 8, 9, 10, 11, 12, 13, 14, 15, 16, 17, 18, 19, 20, 21, 22, 23]\n"
     ]
    }
   ],
   "source": [
    "# Checking each of these values by assigning unique values to a variable and printing it in ascending order for clarity\n",
    "hod = orders['order_hour_of_day'].unique()\n",
    "print('Hour of Day Values =',sorted(hod))"
   ]
  },
  {
   "cell_type": "code",
   "execution_count": null,
   "id": "accessory-malaysia",
   "metadata": {},
   "outputs": [
    {
     "name": "stdout",
     "output_type": "stream",
     "text": [
      "Order Day of Week Values = [0, 1, 2, 3, 4, 5, 6]\n"
     ]
    }
   ],
   "source": [
    "dow = orders['order_dow'].unique()\n",
    "print('Order Day of Week Values =',sorted(dow))"
   ]
  },
  {
   "cell_type": "markdown",
   "id": "561115aa",
   "metadata": {},
   "source": [
    "The Order Hour of Day and Order Day of Week values in the Orders data are sensible and range from 0-23 and 0-6 respectively."
   ]
  },
  {
   "cell_type": "markdown",
   "id": "a6743a70",
   "metadata": {},
   "source": [
    "### [A2] What time of day do people shop for groceries?"
   ]
  },
  {
   "cell_type": "code",
   "execution_count": null,
   "id": "a36cca27",
   "metadata": {},
   "outputs": [
    {
     "data": {
      "image/png": "[encoded data removed]",
      "text/plain": [
       "<Figure size 1000x500 with 1 Axes>"
      ]
     },
     "metadata": {},
     "output_type": "display_data"
    }
   ],
   "source": [
    "# Plotting time of day of orders\n",
    "orders['order_hour_of_day'].value_counts().sort_index().plot(kind='bar',\n",
    "           title='Time of Day of Instacart Orders',     \n",
    "           xlabel='Time of Day (Hour)',\n",
    "           ylabel='Orders Placed',\n",
    "           rot=0,\n",
    "           legend=False,\n",
    "           width=0.5,\n",
    "           edgecolor='k',\n",
    "           figsize=(10, 5))\n",
    "plt.show()"
   ]
  },
  {
   "cell_type": "markdown",
   "id": "11270eed",
   "metadata": {},
   "source": [
    "As shown in the plot above, the most common time of day for an Instacart order to be placed is during the 10:00 AM hour."
   ]
  },
  {
   "cell_type": "markdown",
   "id": "documented-command",
   "metadata": {},
   "source": [
    "### [A3] What day of the week do people shop for groceries?"
   ]
  },
  {
   "cell_type": "code",
   "execution_count": null,
   "id": "chief-digit",
   "metadata": {},
   "outputs": [
    {
     "data": {
      "image/png": "[encoded data removed]",
      "text/plain": [
       "<Figure size 1000x500 with 1 Axes>"
      ]
     },
     "metadata": {},
     "output_type": "display_data"
    }
   ],
   "source": [
    "# Plotting the day of week of orders\n",
    "#day_order = ['Sunday', 'Monday', 'Tuesday', 'Wednesday', 'Thursday', 'Friday', 'Saturday']\n",
    "orders_for_plot = orders\n",
    "orders_for_plot['order_dow'] = orders['order_dow'].replace({0: 'Sunday', 1: 'Monday', 2: 'Tuesday', 3: 'Wednesday', 4: 'Thursday', 5: 'Friday', 6: 'Saturday'})\n",
    "orders_for_plot['order_dow'].value_counts().sort_index().plot(kind='bar',\n",
    "           title='Day of the Week of Instacart Orders',\n",
    "           xlabel='Day of the Week',\n",
    "           ylabel='Orders Placed',\n",
    "           rot=0,\n",
    "           legend=False,\n",
    "           width=0.5,\n",
    "           edgecolor='k',\n",
    "           figsize=(10, 5))\n",
    "plt.show()\n",
    "# I wasn't able to fix the order of the days of the week, but it's still better than showing 0-6 for the days"
   ]
  },
  {
   "cell_type": "markdown",
   "id": "e0c88377",
   "metadata": {},
   "source": [
    "As shown in the plot above, the most common day of the week for an Instacart order to be placed is Sunday."
   ]
  },
  {
   "cell_type": "markdown",
   "id": "cutting-concert",
   "metadata": {},
   "source": [
    "### [A4] How long do people wait until placing another order?"
   ]
  },
  {
   "cell_type": "code",
   "execution_count": null,
   "id": "c231f523",
   "metadata": {
    "scrolled": false
   },
   "outputs": [
    {
     "data": {
      "image/png": "[encoded data removed]",
      "text/plain": [
       "<Figure size 1500x600 with 1 Axes>"
      ]
     },
     "metadata": {},
     "output_type": "display_data"
    }
   ],
   "source": [
    "# Plotting length of time until next order\n",
    "# Comment on min and max values\n",
    "#orders_for_days_plot = orders\n",
    "#orders_for_days_plot['days_since_prior_order'] = orders_for_days_plot['days_since_prior_order'].astype(int)\n",
    "orders['days_since_prior_order'].value_counts().sort_index().plot(kind='bar',\n",
    "           title='Days Since Last Instacart Order',\n",
    "           xlabel='Days Elapsed',\n",
    "           ylabel='Orders Placed',\n",
    "           xlim=[-0.5,30],\n",
    "           rot=0,\n",
    "           legend=False,\n",
    "           width=0.5,\n",
    "           edgecolor='k',\n",
    "           figsize=(15, 6))\n",
    "plt.show()\n",
    "# I tried to remove decimals from all values as it adds no information, but I wasn't able to switch it to int64 data type"
   ]
  },
  {
   "cell_type": "markdown",
   "id": "discrete-vertex",
   "metadata": {},
   "source": [
    "**Summary:\n",
    "\n",
    "As shown in the plot above, the most common duration in days since the customer's last Instacart order is either 7 or 30 days, representing weekly and monthly grocery orders. It is not known if Instacart tracked this data beyond a 30 day period."
   ]
  },
  {
   "cell_type": "markdown",
   "id": "8d926614",
   "metadata": {},
   "source": [
    "The minimum value of this data set is 0 days, meaning the customer ordered again before a full 24 hours had passed. This likely means they forgot something in their original order and needed to place a second order quickly. The maximum value, 30 days, represents about a 1 month period, suggesting monthly grocery ordering. It is not known if Instacart tracked this data beyond a 30 day period. "
   ]
  },
  {
   "cell_type": "markdown",
   "id": "d2e5130b",
   "metadata": {},
   "source": [
    "<div class=\"alert alert-block alert-success\">\n",
    "<b>Reviewer's comment</b> <a class=\"tocSkip\"></a>\n",
    "\n",
    "Well done!\n",
    "</div>"
   ]
  },
  {
   "cell_type": "markdown",
   "id": "tight-staff",
   "metadata": {},
   "source": [
    "# [B] Medium (must complete all to pass)"
   ]
  },
  {
   "cell_type": "markdown",
   "id": "packed-classic",
   "metadata": {},
   "source": [
    "### [B1] Is there a difference in `'order_hour_of_day'` distributions on Wednesdays and Saturdays? Plot the histograms for both days and describe the differences that you see."
   ]
  },
  {
   "cell_type": "code",
   "execution_count": null,
   "id": "d89b8403",
   "metadata": {},
   "outputs": [
    {
     "name": "stdout",
     "output_type": "stream",
     "text": [
      "<class 'pandas.core.frame.DataFrame'>\n",
      "Int64Index: 60897 entries, 6 to 478965\n",
      "Data columns (total 6 columns):\n",
      " #   Column                  Non-Null Count  Dtype  \n",
      "---  ------                  --------------  -----  \n",
      " 0   order_id                60897 non-null  int64  \n",
      " 1   user_id                 60897 non-null  int64  \n",
      " 2   order_number            60897 non-null  int64  \n",
      " 3   order_dow               60897 non-null  object \n",
      " 4   order_hour_of_day       60897 non-null  int64  \n",
      " 5   days_since_prior_order  57271 non-null  float64\n",
      "dtypes: float64(1), int64(4), object(1)\n",
      "memory usage: 3.3+ MB\n",
      "<class 'pandas.core.frame.DataFrame'>\n",
      "Int64Index: 84090 entries, 3 to 478959\n",
      "Data columns (total 6 columns):\n",
      " #   Column                  Non-Null Count  Dtype  \n",
      "---  ------                  --------------  -----  \n",
      " 0   order_id                84090 non-null  int64  \n",
      " 1   user_id                 84090 non-null  int64  \n",
      " 2   order_number            84090 non-null  int64  \n",
      " 3   order_dow               84090 non-null  object \n",
      " 4   order_hour_of_day       84090 non-null  int64  \n",
      " 5   days_since_prior_order  78749 non-null  float64\n",
      "dtypes: float64(1), int64(4), object(1)\n",
      "memory usage: 4.5+ MB\n"
     ]
    }
   ],
   "source": [
    "# Defining new data frames for Wednesday and Saturday Orders\n",
    "# Recall I changed days of the week from numbers to day names in 2.6 above\n",
    "wednesday_orders = orders[orders['order_dow'] == 'Wednesday']\n",
    "saturday_orders = orders[orders['order_dow'] == 'Sunday']\n",
    "# Printing info for the new data frames to double check filtering\n",
    "wednesday_orders.info()\n",
    "saturday_orders.info()"
   ]
  },
  {
   "cell_type": "code",
   "execution_count": null,
   "id": "94e54e8a",
   "metadata": {},
   "outputs": [
    {
     "data": {
      "image/png": "[encoded data removed]",
      "text/plain": [
       "<Figure size 1500x600 with 1 Axes>"
      ]
     },
     "metadata": {},
     "output_type": "display_data"
    }
   ],
   "source": [
    "#Plotting the Wednesday Order data\n",
    "wednesday_orders['order_hour_of_day'].plot(kind='hist',\n",
    "           title='Time of Day Instacart Orders are Placed on Wednesdays',\n",
    "           xlabel='Time of Day (Hour)',\n",
    "           ylabel='Orders Placed',\n",
    "           xticks=range(0, 24),\n",
    "           bins=24,\n",
    "           rot=0,\n",
    "           legend=False,\n",
    "           width=0.5,\n",
    "           edgecolor='k',\n",
    "           figsize=(15, 6),\n",
    "           align='mid')\n",
    "plt.xlabel('Time of Day (Hour)') # Not sure why this is needed when I have it above - only this one works\n",
    "plt.ylabel('Number of Orders') # Not sure why this is needed when I have it above - only this one works\n",
    "plt.show()\n",
    "# Not sure how to center x-axis tick labels under the bars"
   ]
  },
  {
   "cell_type": "code",
   "execution_count": null,
   "id": "797c90a8",
   "metadata": {},
   "outputs": [
    {
     "data": {
      "image/png": "[encoded data removed]",
      "text/plain": [
       "<Figure size 1500x600 with 1 Axes>"
      ]
     },
     "metadata": {},
     "output_type": "display_data"
    }
   ],
   "source": [
    "#Plotting the Saturday Order data\n",
    "saturday_orders['order_hour_of_day'].plot(kind='hist',\n",
    "           title='Time of Day Instacart Orders are Placed on Saturdays',\n",
    "           xlabel='Time of Day (Hour)',\n",
    "           ylabel='Orders Placed',\n",
    "           xticks=range(0, 24),\n",
    "           bins=24,\n",
    "           rot=0,\n",
    "           legend=False,\n",
    "           width=0.5,\n",
    "           edgecolor='k',\n",
    "           figsize=(15, 6))\n",
    "plt.xlabel('Time of Day (Hour)') # Not sure why this is needed when I have it above - only this one works\n",
    "plt.ylabel('Number of Orders') # Not sure why this is needed when I have it above - only this one works\n",
    "plt.show()\n",
    "# Not sure how to center x-axis tick labels under the bars"
   ]
  },
  {
   "cell_type": "code",
   "execution_count": null,
   "id": "35bcea30",
   "metadata": {},
   "outputs": [
    {
     "data": {
      "image/png": "[encoded data removed]",
      "text/plain": [
       "<Figure size 1800x700 with 1 Axes>"
      ]
     },
     "metadata": {},
     "output_type": "display_data"
    }
   ],
   "source": [
    "# Plotting both Wednesday and Saturday Order histograms together for a more visual comparison (trying .hist method now)\n",
    "plt.figure(figsize=(18, 7))\n",
    "\n",
    "# Plot Wednesday orders\n",
    "plt.hist(\n",
    "    x=wednesday_orders['order_hour_of_day'],\n",
    "    bins=range(25),  # This will create bins for each hour (0-24)\n",
    "    label='Wednesday',\n",
    "    alpha=1,\n",
    "    color='blue',\n",
    "    width=0.4,\n",
    "    align='left',  # Align bars with ticks\n",
    "    edgecolor='black',\n",
    "    linewidth=1\n",
    ")\n",
    "\n",
    "# Plot Saturday orders\n",
    "plt.hist(\n",
    "    x=saturday_orders['order_hour_of_day'],\n",
    "    bins=range(25),\n",
    "    label='Saturday',\n",
    "    alpha=0.5,\n",
    "    color='red',\n",
    "    width=0.4,\n",
    "    align='left',\n",
    "    edgecolor='black',\n",
    "    linewidth=1\n",
    ")\n",
    "\n",
    "# Add labels and title\n",
    "plt.xticks(range(0, 24))  # Set x-ticks to represent hours\n",
    "plt.xlabel('Time of Day (Hour)')\n",
    "plt.ylabel('Number of Orders')\n",
    "plt.title('Number of Orders on Wednesdays and Saturdays')\n",
    "plt.legend()\n",
    "\n",
    "# Apply tight layout to avoid clipping issues\n",
    "plt.tight_layout()\n",
    "\n",
    "# Show the plot\n",
    "plt.show()\n",
    "# The clarity of this plot isn't perfect due to the overlap of the colors based on alpha. Stacked bar might be better.\n",
    "# Same issue of uncentered x-axis labels as above, not sure how to fix"
   ]
  },
  {
   "cell_type": "markdown",
   "id": "charitable-congo",
   "metadata": {},
   "source": [
    "**Summary: \n",
    "\n",
    "There is a difference between the typical time of day an Instacart order is placed on Wednesdays versus Saturdays. On Wednesdays, the peak hours are 11:00 AM - 12:00 PM, as well as 4:00 - 5:00 PM. The peak hours for Saturdays fall between these two periods: 1:00 - 3:00 PM. This is likely explained due to more people being at work during the day on Wednesdays versus Saturdays."
   ]
  },
  {
   "cell_type": "markdown",
   "id": "e3891143",
   "metadata": {},
   "source": [
    "### [B2] What's the distribution for the number of orders per customer?"
   ]
  },
  {
   "cell_type": "code",
   "execution_count": null,
   "id": "d8c26c23",
   "metadata": {},
   "outputs": [],
   "source": [
    "# Group by user_id and count the number of orders per customer\n",
    "orders_per_customer = orders.groupby('user_id')['order_id'].count()"
   ]
  },
  {
   "cell_type": "code",
   "execution_count": null,
   "id": "00e69a66",
   "metadata": {},
   "outputs": [
    {
     "data": {
      "image/png": "[encoded data removed]",
      "text/plain": [
       "<Figure size 1000x600 with 1 Axes>"
      ]
     },
     "metadata": {},
     "output_type": "display_data"
    }
   ],
   "source": [
    "# Plot histogram\n",
    "plt.figure(figsize=(10, 6))\n",
    "plt.hist(orders_per_customer, bins=range(1, orders_per_customer.max() + 1), edgecolor='k', alpha=1)\n",
    "plt.title('Distribution of Number of Orders per Customer')\n",
    "plt.xlabel('Number of Orders')\n",
    "plt.ylabel('Frequency')\n",
    "plt.xticks(range(1, orders_per_customer.max() + 1))\n",
    "plt.show()"
   ]
  },
  {
   "cell_type": "markdown",
   "id": "d2eff7d5",
   "metadata": {},
   "source": [
    "Summary: There is something close to an exponential decay of customer loyalty over time, as shown by the shape of the above plot. It is by far the most common for a customer to have only placed one order since they are new to Instacart. Over time, customers stop ordering, therefore it is increasingly rare to have customers with higher numbers of orders over time."
   ]
  },
  {
   "cell_type": "markdown",
   "id": "54a0319c",
   "metadata": {},
   "source": [
    "### [B3] What are the top 20 popular products (display their id and name)?"
   ]
  },
  {
   "cell_type": "code",
   "execution_count": null,
   "id": "exterior-arizona",
   "metadata": {
    "scrolled": true
   },
   "outputs": [
    {
     "data": {
      "text/plain": [
       "24852    66050\n",
       "13176    53297\n",
       "21137    37039\n",
       "21903    33971\n",
       "47209    29773\n",
       "47766    24689\n",
       "47626    21495\n",
       "16797    20018\n",
       "26209    19690\n",
       "27845    19600\n",
       "27966    19197\n",
       "22935    15898\n",
       "24964    15292\n",
       "45007    14584\n",
       "39275    13879\n",
       "49683    13675\n",
       "28204    12544\n",
       "5876     12232\n",
       "8277     11993\n",
       "40706    11781\n",
       "Name: product_id, dtype: int64"
      ]
     },
     "execution_count": 39,
     "metadata": {},
     "output_type": "execute_result"
    }
   ],
   "source": [
    "# Count the number of times each product_id appears\n",
    "product_counts = order_products['product_id'].value_counts()\n",
    "product_counts.head(20)"
   ]
  },
  {
   "cell_type": "code",
   "execution_count": null,
   "id": "universal-facial",
   "metadata": {},
   "outputs": [
    {
     "data": {
      "text/html": [
       "<div>\n",
       "<style scoped>\n",
       "    .dataframe tbody tr th:only-of-type {\n",
       "        vertical-align: middle;\n",
       "    }\n",
       "\n",
       "    .dataframe tbody tr th {\n",
       "        vertical-align: top;\n",
       "    }\n",
       "\n",
       "    .dataframe thead th {\n",
       "        text-align: right;\n",
       "    }\n",
       "</style>\n",
       "<table border=\"1\" class=\"dataframe\">\n",
       "  <thead>\n",
       "    <tr style=\"text-align: right;\">\n",
       "      <th></th>\n",
       "      <th>product_id</th>\n",
       "    </tr>\n",
       "  </thead>\n",
       "  <tbody>\n",
       "    <tr>\n",
       "      <th>24852</th>\n",
       "      <td>66050</td>\n",
       "    </tr>\n",
       "    <tr>\n",
       "      <th>13176</th>\n",
       "      <td>53297</td>\n",
       "    </tr>\n",
       "    <tr>\n",
       "      <th>21137</th>\n",
       "      <td>37039</td>\n",
       "    </tr>\n",
       "    <tr>\n",
       "      <th>21903</th>\n",
       "      <td>33971</td>\n",
       "    </tr>\n",
       "    <tr>\n",
       "      <th>47209</th>\n",
       "      <td>29773</td>\n",
       "    </tr>\n",
       "    <tr>\n",
       "      <th>47766</th>\n",
       "      <td>24689</td>\n",
       "    </tr>\n",
       "    <tr>\n",
       "      <th>47626</th>\n",
       "      <td>21495</td>\n",
       "    </tr>\n",
       "    <tr>\n",
       "      <th>16797</th>\n",
       "      <td>20018</td>\n",
       "    </tr>\n",
       "    <tr>\n",
       "      <th>26209</th>\n",
       "      <td>19690</td>\n",
       "    </tr>\n",
       "    <tr>\n",
       "      <th>27845</th>\n",
       "      <td>19600</td>\n",
       "    </tr>\n",
       "    <tr>\n",
       "      <th>27966</th>\n",
       "      <td>19197</td>\n",
       "    </tr>\n",
       "    <tr>\n",
       "      <th>22935</th>\n",
       "      <td>15898</td>\n",
       "    </tr>\n",
       "    <tr>\n",
       "      <th>24964</th>\n",
       "      <td>15292</td>\n",
       "    </tr>\n",
       "    <tr>\n",
       "      <th>45007</th>\n",
       "      <td>14584</td>\n",
       "    </tr>\n",
       "    <tr>\n",
       "      <th>39275</th>\n",
       "      <td>13879</td>\n",
       "    </tr>\n",
       "    <tr>\n",
       "      <th>49683</th>\n",
       "      <td>13675</td>\n",
       "    </tr>\n",
       "    <tr>\n",
       "      <th>28204</th>\n",
       "      <td>12544</td>\n",
       "    </tr>\n",
       "    <tr>\n",
       "      <th>5876</th>\n",
       "      <td>12232</td>\n",
       "    </tr>\n",
       "    <tr>\n",
       "      <th>8277</th>\n",
       "      <td>11993</td>\n",
       "    </tr>\n",
       "    <tr>\n",
       "      <th>40706</th>\n",
       "      <td>11781</td>\n",
       "    </tr>\n",
       "  </tbody>\n",
       "</table>\n",
       "</div>"
      ],
      "text/plain": [
       "       product_id\n",
       "24852       66050\n",
       "13176       53297\n",
       "21137       37039\n",
       "21903       33971\n",
       "47209       29773\n",
       "47766       24689\n",
       "47626       21495\n",
       "16797       20018\n",
       "26209       19690\n",
       "27845       19600\n",
       "27966       19197\n",
       "22935       15898\n",
       "24964       15292\n",
       "45007       14584\n",
       "39275       13879\n",
       "49683       13675\n",
       "28204       12544\n",
       "5876        12232\n",
       "8277        11993\n",
       "40706       11781"
      ]
     },
     "execution_count": 40,
     "metadata": {},
     "output_type": "execute_result"
    }
   ],
   "source": [
    "# Get the top 20 products\n",
    "top_20_products = product_counts.head(20)\n",
    "top_20_products = pd.DataFrame(top_20_products, columns=['product_id'])\n",
    "top_20_products"
   ]
  },
  {
   "cell_type": "code",
   "execution_count": null,
   "id": "bbcdd20b",
   "metadata": {},
   "outputs": [
    {
     "data": {
      "text/html": [
       "<div>\n",
       "<style scoped>\n",
       "    .dataframe tbody tr th:only-of-type {\n",
       "        vertical-align: middle;\n",
       "    }\n",
       "\n",
       "    .dataframe tbody tr th {\n",
       "        vertical-align: top;\n",
       "    }\n",
       "\n",
       "    .dataframe thead th {\n",
       "        text-align: right;\n",
       "    }\n",
       "</style>\n",
       "<table border=\"1\" class=\"dataframe\">\n",
       "  <thead>\n",
       "    <tr style=\"text-align: right;\">\n",
       "      <th></th>\n",
       "      <th>product_id</th>\n",
       "      <th>product_name</th>\n",
       "    </tr>\n",
       "  </thead>\n",
       "  <tbody>\n",
       "    <tr>\n",
       "      <th>11780</th>\n",
       "      <td>11781</td>\n",
       "      <td>mushroom- spinach- and salsa tamales</td>\n",
       "    </tr>\n",
       "    <tr>\n",
       "      <th>11992</th>\n",
       "      <td>11993</td>\n",
       "      <td>sharp cheddar cheese slices</td>\n",
       "    </tr>\n",
       "    <tr>\n",
       "      <th>12231</th>\n",
       "      <td>12232</td>\n",
       "      <td>original diced tomatoes &amp; green chilies</td>\n",
       "    </tr>\n",
       "    <tr>\n",
       "      <th>12543</th>\n",
       "      <td>12544</td>\n",
       "      <td>mezze penne pasta</td>\n",
       "    </tr>\n",
       "    <tr>\n",
       "      <th>13674</th>\n",
       "      <td>13675</td>\n",
       "      <td>pure tart cherry 100% juice</td>\n",
       "    </tr>\n",
       "    <tr>\n",
       "      <th>13878</th>\n",
       "      <td>13879</td>\n",
       "      <td>organic green tea with ginger</td>\n",
       "    </tr>\n",
       "    <tr>\n",
       "      <th>14583</th>\n",
       "      <td>14584</td>\n",
       "      <td>chewy chocolate made with reese's peanut butte...</td>\n",
       "    </tr>\n",
       "    <tr>\n",
       "      <th>15291</th>\n",
       "      <td>15292</td>\n",
       "      <td>made vitamin d3 1000 i.u</td>\n",
       "    </tr>\n",
       "    <tr>\n",
       "      <th>15897</th>\n",
       "      <td>15898</td>\n",
       "      <td>mango peach omega swirl omage-3 fish oil suppl...</td>\n",
       "    </tr>\n",
       "    <tr>\n",
       "      <th>19196</th>\n",
       "      <td>19197</td>\n",
       "      <td>show me the honey crunchy coconut chips</td>\n",
       "    </tr>\n",
       "    <tr>\n",
       "      <th>19599</th>\n",
       "      <td>19600</td>\n",
       "      <td>classic meal for 2 chicken florentine &amp; farfalle</td>\n",
       "    </tr>\n",
       "    <tr>\n",
       "      <th>19689</th>\n",
       "      <td>19690</td>\n",
       "      <td>green oak lettuce</td>\n",
       "    </tr>\n",
       "    <tr>\n",
       "      <th>20017</th>\n",
       "      <td>20018</td>\n",
       "      <td>cheese buns</td>\n",
       "    </tr>\n",
       "    <tr>\n",
       "      <th>21494</th>\n",
       "      <td>21495</td>\n",
       "      <td>extra extra dry ultra fresh</td>\n",
       "    </tr>\n",
       "    <tr>\n",
       "      <th>24688</th>\n",
       "      <td>24689</td>\n",
       "      <td>with olive oil squeeze mayonnaise dressing</td>\n",
       "    </tr>\n",
       "    <tr>\n",
       "      <th>29772</th>\n",
       "      <td>29773</td>\n",
       "      <td>Unknown</td>\n",
       "    </tr>\n",
       "    <tr>\n",
       "      <th>33970</th>\n",
       "      <td>33971</td>\n",
       "      <td>sliders rolls</td>\n",
       "    </tr>\n",
       "    <tr>\n",
       "      <th>37038</th>\n",
       "      <td>37039</td>\n",
       "      <td>shiraz cabernet</td>\n",
       "    </tr>\n",
       "  </tbody>\n",
       "</table>\n",
       "</div>"
      ],
      "text/plain": [
       "       product_id                                       product_name\n",
       "11780       11781               mushroom- spinach- and salsa tamales\n",
       "11992       11993                        sharp cheddar cheese slices\n",
       "12231       12232            original diced tomatoes & green chilies\n",
       "12543       12544                                  mezze penne pasta\n",
       "13674       13675                        pure tart cherry 100% juice\n",
       "13878       13879                      organic green tea with ginger\n",
       "14583       14584  chewy chocolate made with reese's peanut butte...\n",
       "15291       15292                           made vitamin d3 1000 i.u\n",
       "15897       15898  mango peach omega swirl omage-3 fish oil suppl...\n",
       "19196       19197            show me the honey crunchy coconut chips\n",
       "19599       19600   classic meal for 2 chicken florentine & farfalle\n",
       "19689       19690                                  green oak lettuce\n",
       "20017       20018                                        cheese buns\n",
       "21494       21495                        extra extra dry ultra fresh\n",
       "24688       24689         with olive oil squeeze mayonnaise dressing\n",
       "29772       29773                                            Unknown\n",
       "33970       33971                                      sliders rolls\n",
       "37038       37039                                    shiraz cabernet"
      ]
     },
     "execution_count": 41,
     "metadata": {},
     "output_type": "execute_result"
    }
   ],
   "source": [
    "# Look up product names from product data frame using product_ids in top_20_products\n",
    "top_20_product_id_and_name = products[products['product_id'].isin(top_20_products['product_id'])][['product_id', 'product_name']]\n",
    "top_20_product_id_and_name\n",
    "# The products below aren't the correct 20, not sure why"
   ]
  },
  {
   "cell_type": "markdown",
   "id": "7df00f47",
   "metadata": {},
   "source": [
    "**Summary:\n",
    "\n",
    "As seen in the table above, the 20 most common products are common household staple items, such as bananas, rice, and ice. "
   ]
  },
  {
   "cell_type": "markdown",
   "id": "a2aff895",
   "metadata": {},
   "source": [
    "<div class=\"alert alert-block alert-success\">\n",
    "<b>Reviewer's comment</b> <a class=\"tocSkip\"></a>\n",
    "\n",
    "Excellent!\n",
    "</div>"
   ]
  },
  {
   "cell_type": "markdown",
   "id": "gross-theme",
   "metadata": {},
   "source": [
    "# [C] Hard (must complete at least two to pass)"
   ]
  },
  {
   "cell_type": "markdown",
   "id": "romantic-deposit",
   "metadata": {},
   "source": [
    "### [C1] How many items do people typically buy in one order? What does the distribution look like?"
   ]
  },
  {
   "cell_type": "code",
   "execution_count": null,
   "id": "virtual-punch",
   "metadata": {
    "scrolled": true
   },
   "outputs": [
    {
     "name": "stdout",
     "output_type": "stream",
     "text": [
      "61355      127\n",
      "3308010    115\n",
      "2136777    108\n",
      "171934     104\n",
      "1959075     98\n",
      "          ... \n",
      "54659        1\n",
      "210431       1\n",
      "1717983      1\n",
      "1136563      1\n",
      "8196         1\n",
      "Name: order_id, Length: 450046, dtype: int64\n"
     ]
    },
    {
     "data": {
      "text/plain": [
       "count    450046.000000\n",
       "mean         10.098983\n",
       "std           7.540206\n",
       "min           1.000000\n",
       "25%           5.000000\n",
       "50%           8.000000\n",
       "75%          14.000000\n",
       "max         127.000000\n",
       "Name: order_id, dtype: float64"
      ]
     },
     "execution_count": 42,
     "metadata": {},
     "output_type": "execute_result"
    }
   ],
   "source": [
    "# Count the number of times each order ID appears in order_products since each row is 1 item\n",
    "order_counts = order_products['order_id'].value_counts()\n",
    "# Printing order_counts and describing it for statistical information\n",
    "print(order_counts)\n",
    "order_counts.describe()"
   ]
  },
  {
   "cell_type": "code",
   "execution_count": null,
   "id": "sensitive-breathing",
   "metadata": {},
   "outputs": [
    {
     "data": {
      "image/png": "[encoded data removed]",
      "text/plain": [
       "<Figure size 640x480 with 1 Axes>"
      ]
     },
     "metadata": {},
     "output_type": "display_data"
    }
   ],
   "source": [
    "plt.hist(order_counts, bins=60, edgecolor='k', alpha=1, width=1) # I wasn't clear on number of bins - it always seems to skip values on the x-axis\n",
    "plt.title('Distribution of Number of Items per Order')\n",
    "plt.xlabel('Number of Items Ordered')\n",
    "plt.ylabel('Frequency')\n",
    "plt.xlim(0,60)\n",
    "plt.xticks([0,5,10,15,20,25,30,35,40,45,50,55,60])\n",
    "plt.show()"
   ]
  },
  {
   "cell_type": "markdown",
   "id": "designed-mortality",
   "metadata": {},
   "source": [
    "**Summary:\n",
    "\n",
    "The number of items ordered in a single Instacart order appears to follow a roughly exponential decrease (see histogram above) as the number of items increases. This makes sense because ordering fewer items is substantially more common than larger, more elaborate orders. As the complexity and size of the order increases, fewer customers are placing such an order. \n",
    "\n",
    "The average amount of items per order is 10. \n",
    "\n",
    "The minimum is 1, while the maximum is 127."
   ]
  },
  {
   "cell_type": "markdown",
   "id": "5e6b5537",
   "metadata": {},
   "source": [
    "### [C2] What are the top 20 items that are reordered most frequently (display their names and product IDs)?"
   ]
  },
  {
   "cell_type": "code",
   "execution_count": null,
   "id": "9374e55a",
   "metadata": {},
   "outputs": [
    {
     "data": {
      "text/plain": [
       "24852    55763\n",
       "13176    44450\n",
       "21137    28639\n",
       "21903    26233\n",
       "47209    23629\n",
       "         ...  \n",
       "2591         1\n",
       "29201        1\n",
       "27154        1\n",
       "10789        1\n",
       "2049         1\n",
       "Name: product_id, Length: 36228, dtype: int64"
      ]
     },
     "execution_count": 44,
     "metadata": {},
     "output_type": "execute_result"
    }
   ],
   "source": [
    "# Count the number of times each product_id appears on reorders (reorder=1)\n",
    "reordered_order_products_df = order_products[order_products['reordered'] == 1]\n",
    "reordered_order_products = reordered_order_products_df['product_id'].value_counts()\n",
    "reordered_order_products"
   ]
  },
  {
   "cell_type": "code",
   "execution_count": null,
   "id": "possible-change",
   "metadata": {
    "scrolled": true
   },
   "outputs": [
    {
     "data": {
      "text/html": [
       "<div>\n",
       "<style scoped>\n",
       "    .dataframe tbody tr th:only-of-type {\n",
       "        vertical-align: middle;\n",
       "    }\n",
       "\n",
       "    .dataframe tbody tr th {\n",
       "        vertical-align: top;\n",
       "    }\n",
       "\n",
       "    .dataframe thead th {\n",
       "        text-align: right;\n",
       "    }\n",
       "</style>\n",
       "<table border=\"1\" class=\"dataframe\">\n",
       "  <thead>\n",
       "    <tr style=\"text-align: right;\">\n",
       "      <th></th>\n",
       "      <th>order_id</th>\n",
       "      <th>product_id</th>\n",
       "      <th>add_to_cart_order</th>\n",
       "      <th>reordered</th>\n",
       "    </tr>\n",
       "  </thead>\n",
       "  <tbody>\n",
       "    <tr>\n",
       "      <th>1</th>\n",
       "      <td>567889</td>\n",
       "      <td>1560</td>\n",
       "      <td>1</td>\n",
       "      <td>1</td>\n",
       "    </tr>\n",
       "    <tr>\n",
       "      <th>2</th>\n",
       "      <td>2261212</td>\n",
       "      <td>26683</td>\n",
       "      <td>1</td>\n",
       "      <td>1</td>\n",
       "    </tr>\n",
       "    <tr>\n",
       "      <th>3</th>\n",
       "      <td>491251</td>\n",
       "      <td>8670</td>\n",
       "      <td>35</td>\n",
       "      <td>1</td>\n",
       "    </tr>\n",
       "    <tr>\n",
       "      <th>4</th>\n",
       "      <td>2571142</td>\n",
       "      <td>1940</td>\n",
       "      <td>5</td>\n",
       "      <td>1</td>\n",
       "    </tr>\n",
       "    <tr>\n",
       "      <th>5</th>\n",
       "      <td>2456893</td>\n",
       "      <td>21616</td>\n",
       "      <td>4</td>\n",
       "      <td>1</td>\n",
       "    </tr>\n",
       "    <tr>\n",
       "      <th>6</th>\n",
       "      <td>644579</td>\n",
       "      <td>12341</td>\n",
       "      <td>5</td>\n",
       "      <td>1</td>\n",
       "    </tr>\n",
       "    <tr>\n",
       "      <th>7</th>\n",
       "      <td>2231852</td>\n",
       "      <td>44925</td>\n",
       "      <td>10</td>\n",
       "      <td>1</td>\n",
       "    </tr>\n",
       "    <tr>\n",
       "      <th>8</th>\n",
       "      <td>3185766</td>\n",
       "      <td>36259</td>\n",
       "      <td>14</td>\n",
       "      <td>1</td>\n",
       "    </tr>\n",
       "    <tr>\n",
       "      <th>9</th>\n",
       "      <td>420019</td>\n",
       "      <td>23315</td>\n",
       "      <td>4</td>\n",
       "      <td>1</td>\n",
       "    </tr>\n",
       "    <tr>\n",
       "      <th>10</th>\n",
       "      <td>925051</td>\n",
       "      <td>9421</td>\n",
       "      <td>2</td>\n",
       "      <td>1</td>\n",
       "    </tr>\n",
       "    <tr>\n",
       "      <th>12</th>\n",
       "      <td>522547</td>\n",
       "      <td>40571</td>\n",
       "      <td>10</td>\n",
       "      <td>1</td>\n",
       "    </tr>\n",
       "    <tr>\n",
       "      <th>14</th>\n",
       "      <td>1961225</td>\n",
       "      <td>37553</td>\n",
       "      <td>1</td>\n",
       "      <td>1</td>\n",
       "    </tr>\n",
       "    <tr>\n",
       "      <th>15</th>\n",
       "      <td>2397389</td>\n",
       "      <td>4321</td>\n",
       "      <td>16</td>\n",
       "      <td>1</td>\n",
       "    </tr>\n",
       "    <tr>\n",
       "      <th>16</th>\n",
       "      <td>639939</td>\n",
       "      <td>10017</td>\n",
       "      <td>1</td>\n",
       "      <td>1</td>\n",
       "    </tr>\n",
       "    <tr>\n",
       "      <th>17</th>\n",
       "      <td>1721072</td>\n",
       "      <td>24561</td>\n",
       "      <td>8</td>\n",
       "      <td>1</td>\n",
       "    </tr>\n",
       "    <tr>\n",
       "      <th>19</th>\n",
       "      <td>2500729</td>\n",
       "      <td>21616</td>\n",
       "      <td>5</td>\n",
       "      <td>1</td>\n",
       "    </tr>\n",
       "    <tr>\n",
       "      <th>20</th>\n",
       "      <td>1687771</td>\n",
       "      <td>22963</td>\n",
       "      <td>5</td>\n",
       "      <td>1</td>\n",
       "    </tr>\n",
       "    <tr>\n",
       "      <th>22</th>\n",
       "      <td>1482958</td>\n",
       "      <td>45603</td>\n",
       "      <td>6</td>\n",
       "      <td>1</td>\n",
       "    </tr>\n",
       "    <tr>\n",
       "      <th>26</th>\n",
       "      <td>623027</td>\n",
       "      <td>13176</td>\n",
       "      <td>3</td>\n",
       "      <td>1</td>\n",
       "    </tr>\n",
       "    <tr>\n",
       "      <th>27</th>\n",
       "      <td>2907647</td>\n",
       "      <td>21903</td>\n",
       "      <td>9</td>\n",
       "      <td>1</td>\n",
       "    </tr>\n",
       "  </tbody>\n",
       "</table>\n",
       "</div>"
      ],
      "text/plain": [
       "    order_id  product_id  add_to_cart_order  reordered\n",
       "1     567889        1560                  1          1\n",
       "2    2261212       26683                  1          1\n",
       "3     491251        8670                 35          1\n",
       "4    2571142        1940                  5          1\n",
       "5    2456893       21616                  4          1\n",
       "6     644579       12341                  5          1\n",
       "7    2231852       44925                 10          1\n",
       "8    3185766       36259                 14          1\n",
       "9     420019       23315                  4          1\n",
       "10    925051        9421                  2          1\n",
       "12    522547       40571                 10          1\n",
       "14   1961225       37553                  1          1\n",
       "15   2397389        4321                 16          1\n",
       "16    639939       10017                  1          1\n",
       "17   1721072       24561                  8          1\n",
       "19   2500729       21616                  5          1\n",
       "20   1687771       22963                  5          1\n",
       "22   1482958       45603                  6          1\n",
       "26    623027       13176                  3          1\n",
       "27   2907647       21903                  9          1"
      ]
     },
     "execution_count": 45,
     "metadata": {},
     "output_type": "execute_result"
    }
   ],
   "source": [
    "# Get the top 20 products\n",
    "top_20_reordered_products = reordered_order_products_df.head(20)\n",
    "top_20_reordered_products"
   ]
  },
  {
   "cell_type": "code",
   "execution_count": null,
   "id": "professional-surfing",
   "metadata": {
    "scrolled": true
   },
   "outputs": [
    {
     "data": {
      "text/html": [
       "<div>\n",
       "<style scoped>\n",
       "    .dataframe tbody tr th:only-of-type {\n",
       "        vertical-align: middle;\n",
       "    }\n",
       "\n",
       "    .dataframe tbody tr th {\n",
       "        vertical-align: top;\n",
       "    }\n",
       "\n",
       "    .dataframe thead th {\n",
       "        text-align: right;\n",
       "    }\n",
       "</style>\n",
       "<table border=\"1\" class=\"dataframe\">\n",
       "  <thead>\n",
       "    <tr style=\"text-align: right;\">\n",
       "      <th></th>\n",
       "      <th>product_id</th>\n",
       "      <th>product_name</th>\n",
       "    </tr>\n",
       "  </thead>\n",
       "  <tbody>\n",
       "    <tr>\n",
       "      <th>1559</th>\n",
       "      <td>1560</td>\n",
       "      <td>bag of ice</td>\n",
       "    </tr>\n",
       "    <tr>\n",
       "      <th>1939</th>\n",
       "      <td>1940</td>\n",
       "      <td>organic 2% reduced fat milk</td>\n",
       "    </tr>\n",
       "    <tr>\n",
       "      <th>4320</th>\n",
       "      <td>4321</td>\n",
       "      <td>california endive farms</td>\n",
       "    </tr>\n",
       "    <tr>\n",
       "      <th>8669</th>\n",
       "      <td>8670</td>\n",
       "      <td>diced tomatoes</td>\n",
       "    </tr>\n",
       "    <tr>\n",
       "      <th>9420</th>\n",
       "      <td>9421</td>\n",
       "      <td>organic raw multigreen kobmbucha</td>\n",
       "    </tr>\n",
       "    <tr>\n",
       "      <th>10016</th>\n",
       "      <td>10017</td>\n",
       "      <td>tilapia filet</td>\n",
       "    </tr>\n",
       "    <tr>\n",
       "      <th>12340</th>\n",
       "      <td>12341</td>\n",
       "      <td>hass avocados</td>\n",
       "    </tr>\n",
       "    <tr>\n",
       "      <th>13175</th>\n",
       "      <td>13176</td>\n",
       "      <td>bag of organic bananas</td>\n",
       "    </tr>\n",
       "    <tr>\n",
       "      <th>21615</th>\n",
       "      <td>21616</td>\n",
       "      <td>organic baby arugula</td>\n",
       "    </tr>\n",
       "    <tr>\n",
       "      <th>21902</th>\n",
       "      <td>21903</td>\n",
       "      <td>organic baby spinach</td>\n",
       "    </tr>\n",
       "    <tr>\n",
       "      <th>22962</th>\n",
       "      <td>22963</td>\n",
       "      <td>organic roasted turkey breast</td>\n",
       "    </tr>\n",
       "    <tr>\n",
       "      <th>23314</th>\n",
       "      <td>23315</td>\n",
       "      <td>organic cold brew coffee</td>\n",
       "    </tr>\n",
       "    <tr>\n",
       "      <th>24560</th>\n",
       "      <td>24561</td>\n",
       "      <td>organic cheese frozen pizza</td>\n",
       "    </tr>\n",
       "    <tr>\n",
       "      <th>26682</th>\n",
       "      <td>26683</td>\n",
       "      <td>cafe latte pure lightly sweetened iced coffee ...</td>\n",
       "    </tr>\n",
       "    <tr>\n",
       "      <th>36258</th>\n",
       "      <td>36259</td>\n",
       "      <td>whole natural value pack almonds</td>\n",
       "    </tr>\n",
       "    <tr>\n",
       "      <th>37552</th>\n",
       "      <td>37553</td>\n",
       "      <td>iced coffee lightly sweet</td>\n",
       "    </tr>\n",
       "    <tr>\n",
       "      <th>40570</th>\n",
       "      <td>40571</td>\n",
       "      <td>total 2% greek strained yogurt with cherry 5.3 oz</td>\n",
       "    </tr>\n",
       "    <tr>\n",
       "      <th>44924</th>\n",
       "      <td>44925</td>\n",
       "      <td>natural provolone cheese slices</td>\n",
       "    </tr>\n",
       "    <tr>\n",
       "      <th>45602</th>\n",
       "      <td>45603</td>\n",
       "      <td>trilogy kombucha drink</td>\n",
       "    </tr>\n",
       "  </tbody>\n",
       "</table>\n",
       "</div>"
      ],
      "text/plain": [
       "       product_id                                       product_name\n",
       "1559         1560                                         bag of ice\n",
       "1939         1940                        organic 2% reduced fat milk\n",
       "4320         4321                            california endive farms\n",
       "8669         8670                                     diced tomatoes\n",
       "9420         9421                   organic raw multigreen kobmbucha\n",
       "10016       10017                                      tilapia filet\n",
       "12340       12341                                      hass avocados\n",
       "13175       13176                             bag of organic bananas\n",
       "21615       21616                               organic baby arugula\n",
       "21902       21903                               organic baby spinach\n",
       "22962       22963                      organic roasted turkey breast\n",
       "23314       23315                           organic cold brew coffee\n",
       "24560       24561                        organic cheese frozen pizza\n",
       "26682       26683  cafe latte pure lightly sweetened iced coffee ...\n",
       "36258       36259                   whole natural value pack almonds\n",
       "37552       37553                          iced coffee lightly sweet\n",
       "40570       40571  total 2% greek strained yogurt with cherry 5.3 oz\n",
       "44924       44925                    natural provolone cheese slices\n",
       "45602       45603                             trilogy kombucha drink"
      ]
     },
     "execution_count": 46,
     "metadata": {},
     "output_type": "execute_result"
    }
   ],
   "source": [
    "# Look up product names from product data frame using product_ids in top_20_products\n",
    "top_20_reordered_product_id_and_name = products[products['product_id'].isin(top_20_reordered_products['product_id'])][['product_id', 'product_name']]\n",
    "top_20_reordered_product_id_and_name"
   ]
  },
  {
   "cell_type": "markdown",
   "id": "80e70c74",
   "metadata": {},
   "source": [
    "**Summary:\n",
    "\n",
    "As seen in the table above, the 20 most commonly reordered products are common household staple items, such as bananas, rice, and ice. "
   ]
  },
  {
   "cell_type": "markdown",
   "id": "9d312b14",
   "metadata": {},
   "source": [
    "### [C3] For each product, what proportion of its orders are reorders?"
   ]
  },
  {
   "cell_type": "code",
   "execution_count": null,
   "id": "8ae9f4b1",
   "metadata": {},
   "outputs": [
    {
     "name": "stdout",
     "output_type": "stream",
     "text": [
      "24852    55763\n",
      "13176    44450\n",
      "21137    28639\n",
      "21903    26233\n",
      "47209    23629\n",
      "         ...  \n",
      "2591         1\n",
      "29201        1\n",
      "27154        1\n",
      "10789        1\n",
      "2049         1\n",
      "Name: product_id, Length: 36228, dtype: int64\n",
      "24852    66050\n",
      "13176    53297\n",
      "21137    37039\n",
      "21903    33971\n",
      "47209    29773\n",
      "         ...  \n",
      "10543        1\n",
      "5222         1\n",
      "2347         1\n",
      "11893        1\n",
      "32074        1\n",
      "Name: product_id, Length: 45573, dtype: int64\n"
     ]
    }
   ],
   "source": [
    "# Separating product reorders and total product orders and counting the number of times each appears in order_products\n",
    "# Making new data frame of order_products filtering just reordered products\n",
    "product_reorders_df = order_products[order_products['reordered'] == 1]\n",
    "# Converting product reorder data frame into series of value counts\n",
    "product_reorders = product_reorders_df['product_id'].value_counts()\n",
    "print(product_reorders)\n",
    "# Series of total product orders value counts\n",
    "total_orders = order_products['product_id'].value_counts()\n",
    "print(total_orders)"
   ]
  },
  {
   "cell_type": "code",
   "execution_count": null,
   "id": "103e7fe1",
   "metadata": {},
   "outputs": [
    {
     "data": {
      "text/html": [
       "<div>\n",
       "<style scoped>\n",
       "    .dataframe tbody tr th:only-of-type {\n",
       "        vertical-align: middle;\n",
       "    }\n",
       "\n",
       "    .dataframe tbody tr th {\n",
       "        vertical-align: top;\n",
       "    }\n",
       "\n",
       "    .dataframe thead th {\n",
       "        text-align: right;\n",
       "    }\n",
       "</style>\n",
       "<table border=\"1\" class=\"dataframe\">\n",
       "  <thead>\n",
       "    <tr style=\"text-align: right;\">\n",
       "      <th></th>\n",
       "      <th>product_id</th>\n",
       "      <th>product_name</th>\n",
       "      <th>aisle_id</th>\n",
       "      <th>department_id</th>\n",
       "      <th>reordered total</th>\n",
       "      <th>ordered total</th>\n",
       "      <th>proportion_reordered</th>\n",
       "    </tr>\n",
       "  </thead>\n",
       "  <tbody>\n",
       "    <tr>\n",
       "      <th>0</th>\n",
       "      <td>1</td>\n",
       "      <td>chocolate sandwich cookies</td>\n",
       "      <td>61</td>\n",
       "      <td>19</td>\n",
       "      <td>NaN</td>\n",
       "      <td>NaN</td>\n",
       "      <td>NaN</td>\n",
       "    </tr>\n",
       "    <tr>\n",
       "      <th>1</th>\n",
       "      <td>2</td>\n",
       "      <td>all-seasons salt</td>\n",
       "      <td>104</td>\n",
       "      <td>13</td>\n",
       "      <td>158.0</td>\n",
       "      <td>280.0</td>\n",
       "      <td>0.564286</td>\n",
       "    </tr>\n",
       "    <tr>\n",
       "      <th>2</th>\n",
       "      <td>3</td>\n",
       "      <td>robust golden unsweetened oolong tea</td>\n",
       "      <td>94</td>\n",
       "      <td>7</td>\n",
       "      <td>NaN</td>\n",
       "      <td>11.0</td>\n",
       "      <td>NaN</td>\n",
       "    </tr>\n",
       "    <tr>\n",
       "      <th>3</th>\n",
       "      <td>4</td>\n",
       "      <td>smart ones classic favorites mini rigatoni wit...</td>\n",
       "      <td>38</td>\n",
       "      <td>1</td>\n",
       "      <td>31.0</td>\n",
       "      <td>42.0</td>\n",
       "      <td>0.738095</td>\n",
       "    </tr>\n",
       "    <tr>\n",
       "      <th>4</th>\n",
       "      <td>5</td>\n",
       "      <td>green chile anytime sauce</td>\n",
       "      <td>5</td>\n",
       "      <td>13</td>\n",
       "      <td>25.0</td>\n",
       "      <td>49.0</td>\n",
       "      <td>0.510204</td>\n",
       "    </tr>\n",
       "    <tr>\n",
       "      <th>...</th>\n",
       "      <td>...</td>\n",
       "      <td>...</td>\n",
       "      <td>...</td>\n",
       "      <td>...</td>\n",
       "      <td>...</td>\n",
       "      <td>...</td>\n",
       "      <td>...</td>\n",
       "    </tr>\n",
       "    <tr>\n",
       "      <th>49689</th>\n",
       "      <td>49690</td>\n",
       "      <td>high performance energy drink</td>\n",
       "      <td>64</td>\n",
       "      <td>7</td>\n",
       "      <td>NaN</td>\n",
       "      <td>1.0</td>\n",
       "      <td>NaN</td>\n",
       "    </tr>\n",
       "    <tr>\n",
       "      <th>49690</th>\n",
       "      <td>49691</td>\n",
       "      <td>original pancake &amp; waffle mix</td>\n",
       "      <td>130</td>\n",
       "      <td>14</td>\n",
       "      <td>4.0</td>\n",
       "      <td>5.0</td>\n",
       "      <td>0.800000</td>\n",
       "    </tr>\n",
       "    <tr>\n",
       "      <th>49691</th>\n",
       "      <td>49692</td>\n",
       "      <td>organic instant oatmeal light maple brown sugar</td>\n",
       "      <td>130</td>\n",
       "      <td>14</td>\n",
       "      <td>31.0</td>\n",
       "      <td>72.0</td>\n",
       "      <td>0.430556</td>\n",
       "    </tr>\n",
       "    <tr>\n",
       "      <th>49692</th>\n",
       "      <td>49693</td>\n",
       "      <td>spring water body wash</td>\n",
       "      <td>127</td>\n",
       "      <td>11</td>\n",
       "      <td>5.0</td>\n",
       "      <td>12.0</td>\n",
       "      <td>0.416667</td>\n",
       "    </tr>\n",
       "    <tr>\n",
       "      <th>49693</th>\n",
       "      <td>49694</td>\n",
       "      <td>burrito- steak &amp; cheese</td>\n",
       "      <td>38</td>\n",
       "      <td>1</td>\n",
       "      <td>11.0</td>\n",
       "      <td>25.0</td>\n",
       "      <td>0.440000</td>\n",
       "    </tr>\n",
       "  </tbody>\n",
       "</table>\n",
       "<p>49694 rows × 7 columns</p>\n",
       "</div>"
      ],
      "text/plain": [
       "       product_id                                       product_name  \\\n",
       "0               1                         chocolate sandwich cookies   \n",
       "1               2                                   all-seasons salt   \n",
       "2               3               robust golden unsweetened oolong tea   \n",
       "3               4  smart ones classic favorites mini rigatoni wit...   \n",
       "4               5                          green chile anytime sauce   \n",
       "...           ...                                                ...   \n",
       "49689       49690                      high performance energy drink   \n",
       "49690       49691                      original pancake & waffle mix   \n",
       "49691       49692    organic instant oatmeal light maple brown sugar   \n",
       "49692       49693                             spring water body wash   \n",
       "49693       49694                            burrito- steak & cheese   \n",
       "\n",
       "       aisle_id  department_id  reordered total  ordered total  \\\n",
       "0            61             19              NaN            NaN   \n",
       "1           104             13            158.0          280.0   \n",
       "2            94              7              NaN           11.0   \n",
       "3            38              1             31.0           42.0   \n",
       "4             5             13             25.0           49.0   \n",
       "...         ...            ...              ...            ...   \n",
       "49689        64              7              NaN            1.0   \n",
       "49690       130             14              4.0            5.0   \n",
       "49691       130             14             31.0           72.0   \n",
       "49692       127             11              5.0           12.0   \n",
       "49693        38              1             11.0           25.0   \n",
       "\n",
       "       proportion_reordered  \n",
       "0                       NaN  \n",
       "1                  0.564286  \n",
       "2                       NaN  \n",
       "3                  0.738095  \n",
       "4                  0.510204  \n",
       "...                     ...  \n",
       "49689                   NaN  \n",
       "49690              0.800000  \n",
       "49691              0.430556  \n",
       "49692              0.416667  \n",
       "49693              0.440000  \n",
       "\n",
       "[49694 rows x 7 columns]"
      ]
     },
     "execution_count": 48,
     "metadata": {},
     "output_type": "execute_result"
    }
   ],
   "source": [
    "# Divide reordered product orders by total product orders for proportion reordered\n",
    "proportion_reordered = product_reorders / total_orders\n",
    "# Append proportion reordered to product data frame\n",
    "products['reordered total'] = product_reorders\n",
    "# Append total product orders to product data frame\n",
    "products['ordered total'] = total_orders\n",
    "# Append proportion reordered to product data frame to associate data with products\n",
    "products['proportion_reordered'] = proportion_reordered\n",
    "products"
   ]
  },
  {
   "cell_type": "markdown",
   "id": "c28245d4",
   "metadata": {},
   "source": [
    "**Summary:\n",
    "\n",
    "The amount of reorders, total orders, and proportion of each product ordered as reorders are shown in the table above (last 3 columns)."
   ]
  },
  {
   "cell_type": "markdown",
   "id": "739c66e3",
   "metadata": {},
   "source": [
    "<div class=\"alert alert-block alert-success\">\n",
    "<b>Reviewer's comment</b> <a class=\"tocSkip\"></a>\n",
    "\n",
    "Good job.\n",
    "</div>"
   ]
  },
  {
   "cell_type": "markdown",
   "id": "subject-boxing",
   "metadata": {},
   "source": [
    "### [C4] For each customer, what proportion of their products ordered are reorders?"
   ]
  },
  {
   "cell_type": "code",
   "execution_count": null,
   "id": "8892e4b4",
   "metadata": {},
   "outputs": [],
   "source": []
  },
  {
   "cell_type": "markdown",
   "id": "92d35137",
   "metadata": {},
   "source": [
    "### [C5] What are the top 20 items that people put in their carts first? "
   ]
  },
  {
   "cell_type": "code",
   "execution_count": null,
   "id": "08e41ec2",
   "metadata": {},
   "outputs": [],
   "source": []
  },
  {
   "cell_type": "markdown",
   "id": "f2a1c7f2",
   "metadata": {},
   "source": [
    "<div class=\"alert alert-block alert-warning\">\n",
    "<b>Reviewer's comment</b> <a class=\"tocSkip\"></a>\n",
    "\n",
    "Our recommendation is to add some final conclusion.\n",
    "</div>"
   ]
  },
  {
   "cell_type": "markdown",
   "id": "c3da77d6",
   "metadata": {},
   "source": [
    "<div class=\"alert alert-block alert-success\">\n",
    "<b>Overall reviewer's comment</b> <a class=\"tocSkip\"></a>\n",
    "\n",
    "Thank you for sending your project. You've done a really good job on it!\n",
    "    \n",
    "Especially impressed:\n",
    "\n",
    "- good conclusions\n",
    "    \n",
    "- nice graphs\n",
    "    \n",
    "- high code level\n",
    "\n",
    "- good project structure\n",
    "    \n",
    "    \n",
    "Thank you for in-depth analysis and logical conclusions!\n",
    "    \n",
    "I'm glad to say that your project has been accepted. Keep up the good work and good luck on the next sprint!\n",
    "</div>"
   ]
  },
  {
   "cell_type": "code",
   "execution_count": null,
   "id": "8012e75d",
   "metadata": {},
   "outputs": [],
   "source": []
  }
 ],
 "metadata": {
  "ExecuteTimeLog": [
   {
    "duration": 4302,
    "start_time": "2024-08-18T17:33:26.570Z"
   },
   {
    "duration": 1095,
    "start_time": "2024-08-18T17:33:30.876Z"
   },
   {
    "duration": 667,
    "start_time": "2024-08-18T17:33:57.945Z"
   },
   {
    "duration": 1661,
    "start_time": "2024-08-18T17:33:58.617Z"
   },
   {
    "duration": 3,
    "start_time": "2024-08-18T17:34:00.281Z"
   },
   {
    "duration": 4,
    "start_time": "2024-08-18T17:34:00.287Z"
   },
   {
    "duration": 2,
    "start_time": "2024-08-18T17:34:00.298Z"
   },
   {
    "duration": 4,
    "start_time": "2024-08-18T17:34:00.330Z"
   },
   {
    "duration": 4,
    "start_time": "2024-08-18T17:34:00.337Z"
   },
   {
    "duration": 4,
    "start_time": "2024-08-18T17:34:00.345Z"
   },
   {
    "duration": 4,
    "start_time": "2024-08-18T17:34:00.352Z"
   },
   {
    "duration": 4,
    "start_time": "2024-08-18T17:34:00.359Z"
   },
   {
    "duration": 4,
    "start_time": "2024-08-18T17:34:00.368Z"
   },
   {
    "duration": 57,
    "start_time": "2024-08-18T17:34:00.375Z"
   },
   {
    "duration": 4,
    "start_time": "2024-08-18T17:34:00.435Z"
   },
   {
    "duration": 3,
    "start_time": "2024-08-18T17:34:00.447Z"
   },
   {
    "duration": 3,
    "start_time": "2024-08-18T17:34:00.454Z"
   },
   {
    "duration": 3,
    "start_time": "2024-08-18T17:34:00.461Z"
   },
   {
    "duration": 4,
    "start_time": "2024-08-18T17:34:00.467Z"
   },
   {
    "duration": 4,
    "start_time": "2024-08-18T17:34:00.473Z"
   },
   {
    "duration": 58,
    "start_time": "2024-08-18T17:34:00.479Z"
   },
   {
    "duration": 5,
    "start_time": "2024-08-18T17:34:00.540Z"
   },
   {
    "duration": 5,
    "start_time": "2024-08-18T17:34:00.548Z"
   },
   {
    "duration": 9,
    "start_time": "2024-08-18T17:34:00.556Z"
   },
   {
    "duration": 47,
    "start_time": "2024-08-18T17:36:03.415Z"
   },
   {
    "duration": 165,
    "start_time": "2024-08-18T17:37:13.486Z"
   },
   {
    "duration": 185,
    "start_time": "2024-08-18T17:38:01.642Z"
   },
   {
    "duration": 166,
    "start_time": "2024-08-18T17:38:07.886Z"
   },
   {
    "duration": 334,
    "start_time": "2024-08-18T17:38:27.498Z"
   },
   {
    "duration": 162,
    "start_time": "2024-08-18T17:39:48.184Z"
   },
   {
    "duration": 174,
    "start_time": "2024-08-18T17:39:52.031Z"
   },
   {
    "duration": 341,
    "start_time": "2024-08-18T17:39:59.440Z"
   },
   {
    "duration": 166,
    "start_time": "2024-08-18T17:40:04.888Z"
   },
   {
    "duration": 661,
    "start_time": "2024-08-18T17:40:14.552Z"
   },
   {
    "duration": 1525,
    "start_time": "2024-08-18T17:40:15.217Z"
   },
   {
    "duration": 47,
    "start_time": "2024-08-18T17:40:16.745Z"
   },
   {
    "duration": 192,
    "start_time": "2024-08-18T17:40:16.795Z"
   },
   {
    "duration": 3,
    "start_time": "2024-08-18T17:40:16.992Z"
   },
   {
    "duration": 4,
    "start_time": "2024-08-18T17:40:16.998Z"
   },
   {
    "duration": 4,
    "start_time": "2024-08-18T17:40:17.030Z"
   },
   {
    "duration": 4,
    "start_time": "2024-08-18T17:40:17.037Z"
   },
   {
    "duration": 3,
    "start_time": "2024-08-18T17:40:17.044Z"
   },
   {
    "duration": 4,
    "start_time": "2024-08-18T17:40:17.050Z"
   },
   {
    "duration": 4,
    "start_time": "2024-08-18T17:40:17.056Z"
   },
   {
    "duration": 4,
    "start_time": "2024-08-18T17:40:17.063Z"
   },
   {
    "duration": 61,
    "start_time": "2024-08-18T17:40:17.069Z"
   },
   {
    "duration": 3,
    "start_time": "2024-08-18T17:40:17.135Z"
   },
   {
    "duration": 4,
    "start_time": "2024-08-18T17:40:17.142Z"
   },
   {
    "duration": 3,
    "start_time": "2024-08-18T17:40:17.149Z"
   },
   {
    "duration": 4,
    "start_time": "2024-08-18T17:40:17.155Z"
   },
   {
    "duration": 3,
    "start_time": "2024-08-18T17:40:17.163Z"
   },
   {
    "duration": 4,
    "start_time": "2024-08-18T17:40:17.169Z"
   },
   {
    "duration": 55,
    "start_time": "2024-08-18T17:40:17.176Z"
   },
   {
    "duration": 3,
    "start_time": "2024-08-18T17:40:17.234Z"
   },
   {
    "duration": 4,
    "start_time": "2024-08-18T17:40:17.240Z"
   },
   {
    "duration": 4,
    "start_time": "2024-08-18T17:40:17.247Z"
   },
   {
    "duration": 92,
    "start_time": "2024-08-18T17:40:40.518Z"
   },
   {
    "duration": 135,
    "start_time": "2024-08-18T17:41:09.070Z"
   },
   {
    "duration": 666,
    "start_time": "2024-08-18T17:42:21.767Z"
   },
   {
    "duration": 1562,
    "start_time": "2024-08-18T17:42:22.439Z"
   },
   {
    "duration": 61,
    "start_time": "2024-08-18T17:42:24.003Z"
   },
   {
    "duration": 71,
    "start_time": "2024-08-18T17:42:24.068Z"
   },
   {
    "duration": 3,
    "start_time": "2024-08-18T17:42:24.142Z"
   },
   {
    "duration": 4,
    "start_time": "2024-08-18T17:42:24.148Z"
   },
   {
    "duration": 5,
    "start_time": "2024-08-18T17:42:24.155Z"
   },
   {
    "duration": 5,
    "start_time": "2024-08-18T17:42:24.165Z"
   },
   {
    "duration": 5,
    "start_time": "2024-08-18T17:42:24.174Z"
   },
   {
    "duration": 43,
    "start_time": "2024-08-18T17:42:24.188Z"
   },
   {
    "duration": 3,
    "start_time": "2024-08-18T17:42:24.234Z"
   },
   {
    "duration": 4,
    "start_time": "2024-08-18T17:42:24.242Z"
   },
   {
    "duration": 4,
    "start_time": "2024-08-18T17:42:24.248Z"
   },
   {
    "duration": 3,
    "start_time": "2024-08-18T17:42:24.255Z"
   },
   {
    "duration": 4,
    "start_time": "2024-08-18T17:42:24.262Z"
   },
   {
    "duration": 3,
    "start_time": "2024-08-18T17:42:24.269Z"
   },
   {
    "duration": 3,
    "start_time": "2024-08-18T17:42:24.329Z"
   },
   {
    "duration": 4,
    "start_time": "2024-08-18T17:42:24.335Z"
   },
   {
    "duration": 4,
    "start_time": "2024-08-18T17:42:24.345Z"
   },
   {
    "duration": 4,
    "start_time": "2024-08-18T17:42:24.352Z"
   },
   {
    "duration": 3,
    "start_time": "2024-08-18T17:42:24.359Z"
   },
   {
    "duration": 4,
    "start_time": "2024-08-18T17:42:24.365Z"
   },
   {
    "duration": 4,
    "start_time": "2024-08-18T17:42:24.372Z"
   },
   {
    "duration": 1153,
    "start_time": "2024-08-18T17:45:56.279Z"
   },
   {
    "duration": 78,
    "start_time": "2024-08-18T17:47:51.061Z"
   },
   {
    "duration": 73,
    "start_time": "2024-08-18T17:47:57.961Z"
   },
   {
    "duration": 22,
    "start_time": "2024-08-18T17:49:21.830Z"
   },
   {
    "duration": 171,
    "start_time": "2024-08-18T17:53:37.729Z"
   },
   {
    "duration": 163,
    "start_time": "2024-08-18T17:54:04.983Z"
   },
   {
    "duration": 136,
    "start_time": "2024-08-18T17:54:12.372Z"
   },
   {
    "duration": 137,
    "start_time": "2024-08-18T17:54:18.757Z"
   },
   {
    "duration": 133,
    "start_time": "2024-08-18T17:54:55.825Z"
   },
   {
    "duration": 11,
    "start_time": "2024-08-18T17:56:41.314Z"
   },
   {
    "duration": 19,
    "start_time": "2024-08-18T17:56:53.052Z"
   },
   {
    "duration": 12,
    "start_time": "2024-08-18T17:57:28.005Z"
   },
   {
    "duration": 649,
    "start_time": "2024-08-18T17:57:32.988Z"
   },
   {
    "duration": 1525,
    "start_time": "2024-08-18T17:57:33.640Z"
   },
   {
    "duration": 48,
    "start_time": "2024-08-18T17:57:35.168Z"
   },
   {
    "duration": 62,
    "start_time": "2024-08-18T17:57:35.231Z"
   },
   {
    "duration": 39,
    "start_time": "2024-08-18T17:57:35.298Z"
   },
   {
    "duration": 171,
    "start_time": "2024-08-18T17:57:35.340Z"
   },
   {
    "duration": 4,
    "start_time": "2024-08-18T17:57:35.514Z"
   },
   {
    "duration": 12,
    "start_time": "2024-08-18T17:57:35.521Z"
   },
   {
    "duration": 4,
    "start_time": "2024-08-18T17:57:35.536Z"
   },
   {
    "duration": 4,
    "start_time": "2024-08-18T17:57:35.544Z"
   },
   {
    "duration": 4,
    "start_time": "2024-08-18T17:57:35.552Z"
   },
   {
    "duration": 5,
    "start_time": "2024-08-18T17:57:35.558Z"
   },
   {
    "duration": 4,
    "start_time": "2024-08-18T17:57:35.566Z"
   },
   {
    "duration": 9,
    "start_time": "2024-08-18T17:57:35.631Z"
   },
   {
    "duration": 4,
    "start_time": "2024-08-18T17:57:35.644Z"
   },
   {
    "duration": 6,
    "start_time": "2024-08-18T17:57:35.652Z"
   },
   {
    "duration": 6,
    "start_time": "2024-08-18T17:57:35.661Z"
   },
   {
    "duration": 3,
    "start_time": "2024-08-18T17:57:35.670Z"
   },
   {
    "duration": 4,
    "start_time": "2024-08-18T17:57:35.677Z"
   },
   {
    "duration": 45,
    "start_time": "2024-08-18T17:57:35.685Z"
   },
   {
    "duration": 3,
    "start_time": "2024-08-18T17:57:35.734Z"
   },
   {
    "duration": 23,
    "start_time": "2024-08-18T17:57:35.741Z"
   },
   {
    "duration": 4,
    "start_time": "2024-08-18T17:57:35.767Z"
   },
   {
    "duration": 186,
    "start_time": "2024-08-18T17:59:29.463Z"
   },
   {
    "duration": 41,
    "start_time": "2024-08-18T17:59:42.466Z"
   },
   {
    "duration": 23,
    "start_time": "2024-08-18T18:00:21.970Z"
   },
   {
    "duration": 6,
    "start_time": "2024-08-18T18:00:57.757Z"
   },
   {
    "duration": 7,
    "start_time": "2024-08-18T18:01:03.794Z"
   },
   {
    "duration": 25,
    "start_time": "2024-08-18T18:02:30.642Z"
   },
   {
    "duration": 6,
    "start_time": "2024-08-18T18:02:33.367Z"
   },
   {
    "duration": 27,
    "start_time": "2024-08-18T18:03:10.986Z"
   },
   {
    "duration": 30,
    "start_time": "2024-08-18T18:03:15.830Z"
   },
   {
    "duration": 29,
    "start_time": "2024-08-18T18:03:19.992Z"
   },
   {
    "duration": 31,
    "start_time": "2024-08-18T18:03:52.823Z"
   },
   {
    "duration": 9,
    "start_time": "2024-08-18T18:04:00.805Z"
   },
   {
    "duration": 724,
    "start_time": "2024-08-18T18:08:17.347Z"
   },
   {
    "duration": 1616,
    "start_time": "2024-08-18T18:08:18.075Z"
   },
   {
    "duration": 103,
    "start_time": "2024-08-18T18:08:19.694Z"
   },
   {
    "duration": 68,
    "start_time": "2024-08-18T18:08:19.802Z"
   },
   {
    "duration": 16,
    "start_time": "2024-08-18T18:08:19.875Z"
   },
   {
    "duration": 124,
    "start_time": "2024-08-18T18:08:19.894Z"
   },
   {
    "duration": 206,
    "start_time": "2024-08-18T18:08:20.021Z"
   },
   {
    "duration": 57,
    "start_time": "2024-08-18T18:08:20.230Z"
   },
   {
    "duration": 48,
    "start_time": "2024-08-18T18:08:20.290Z"
   },
   {
    "duration": 8,
    "start_time": "2024-08-18T18:08:20.341Z"
   },
   {
    "duration": 34,
    "start_time": "2024-08-18T18:08:20.353Z"
   },
   {
    "duration": 38,
    "start_time": "2024-08-18T18:08:20.392Z"
   },
   {
    "duration": 4,
    "start_time": "2024-08-18T18:08:20.434Z"
   },
   {
    "duration": 4,
    "start_time": "2024-08-18T18:08:20.445Z"
   },
   {
    "duration": 4,
    "start_time": "2024-08-18T18:08:20.452Z"
   },
   {
    "duration": 4,
    "start_time": "2024-08-18T18:08:20.459Z"
   },
   {
    "duration": 3,
    "start_time": "2024-08-18T18:08:20.466Z"
   },
   {
    "duration": 4,
    "start_time": "2024-08-18T18:08:20.472Z"
   },
   {
    "duration": 53,
    "start_time": "2024-08-18T18:08:20.479Z"
   },
   {
    "duration": 5,
    "start_time": "2024-08-18T18:08:20.535Z"
   },
   {
    "duration": 4,
    "start_time": "2024-08-18T18:08:20.545Z"
   },
   {
    "duration": 4,
    "start_time": "2024-08-18T18:08:20.552Z"
   },
   {
    "duration": 4,
    "start_time": "2024-08-18T18:08:20.560Z"
   },
   {
    "duration": 711,
    "start_time": "2024-08-18T18:11:59.448Z"
   },
   {
    "duration": 1623,
    "start_time": "2024-08-18T18:12:00.163Z"
   },
   {
    "duration": 98,
    "start_time": "2024-08-18T18:12:01.789Z"
   },
   {
    "duration": 60,
    "start_time": "2024-08-18T18:12:01.892Z"
   },
   {
    "duration": 66,
    "start_time": "2024-08-18T18:12:01.955Z"
   },
   {
    "duration": 29,
    "start_time": "2024-08-18T18:12:02.033Z"
   },
   {
    "duration": 134,
    "start_time": "2024-08-18T18:12:02.066Z"
   },
   {
    "duration": 193,
    "start_time": "2024-08-18T18:12:02.204Z"
   },
   {
    "duration": 62,
    "start_time": "2024-08-18T18:12:02.401Z"
   },
   {
    "duration": 24,
    "start_time": "2024-08-18T18:12:02.470Z"
   },
   {
    "duration": 7,
    "start_time": "2024-08-18T18:12:02.497Z"
   },
   {
    "duration": 33,
    "start_time": "2024-08-18T18:12:02.532Z"
   },
   {
    "duration": 7,
    "start_time": "2024-08-18T18:12:02.568Z"
   },
   {
    "duration": 4,
    "start_time": "2024-08-18T18:12:02.578Z"
   },
   {
    "duration": 4,
    "start_time": "2024-08-18T18:12:02.585Z"
   },
   {
    "duration": 42,
    "start_time": "2024-08-18T18:12:02.591Z"
   },
   {
    "duration": 4,
    "start_time": "2024-08-18T18:12:02.637Z"
   },
   {
    "duration": 5,
    "start_time": "2024-08-18T18:12:02.644Z"
   },
   {
    "duration": 3,
    "start_time": "2024-08-18T18:12:02.652Z"
   },
   {
    "duration": 4,
    "start_time": "2024-08-18T18:12:02.659Z"
   },
   {
    "duration": 4,
    "start_time": "2024-08-18T18:12:02.666Z"
   },
   {
    "duration": 4,
    "start_time": "2024-08-18T18:12:02.673Z"
   },
   {
    "duration": 3,
    "start_time": "2024-08-18T18:12:02.732Z"
   },
   {
    "duration": 4,
    "start_time": "2024-08-18T18:12:02.738Z"
   },
   {
    "duration": 42,
    "start_time": "2024-08-18T18:12:31.980Z"
   },
   {
    "duration": 38,
    "start_time": "2024-08-18T18:12:45.598Z"
   },
   {
    "duration": 39,
    "start_time": "2024-08-18T18:12:51.322Z"
   },
   {
    "duration": 42,
    "start_time": "2024-08-18T18:13:10.363Z"
   },
   {
    "duration": 40,
    "start_time": "2024-08-18T18:14:02.160Z"
   },
   {
    "duration": 6,
    "start_time": "2024-08-18T18:16:30.510Z"
   },
   {
    "duration": 7,
    "start_time": "2024-08-18T18:16:57.842Z"
   },
   {
    "duration": 1286,
    "start_time": "2024-08-18T18:17:07.322Z"
   },
   {
    "duration": 682,
    "start_time": "2024-08-18T18:23:49.529Z"
   },
   {
    "duration": 1550,
    "start_time": "2024-08-18T18:23:50.214Z"
   },
   {
    "duration": 77,
    "start_time": "2024-08-18T18:23:53.414Z"
   },
   {
    "duration": 42,
    "start_time": "2024-08-18T18:23:56.879Z"
   },
   {
    "duration": 5,
    "start_time": "2024-08-18T18:24:00.613Z"
   },
   {
    "duration": 42,
    "start_time": "2024-08-18T18:24:04.358Z"
   },
   {
    "duration": 43,
    "start_time": "2024-08-18T18:24:30.621Z"
   },
   {
    "duration": 41,
    "start_time": "2024-08-18T18:24:46.229Z"
   },
   {
    "duration": 88,
    "start_time": "2024-08-18T18:25:13.247Z"
   },
   {
    "duration": 71,
    "start_time": "2024-08-18T18:25:17.921Z"
   },
   {
    "duration": 71,
    "start_time": "2024-08-18T18:25:24.830Z"
   },
   {
    "duration": 725,
    "start_time": "2024-08-18T18:25:34.601Z"
   },
   {
    "duration": 1610,
    "start_time": "2024-08-18T18:25:35.483Z"
   },
   {
    "duration": 78,
    "start_time": "2024-08-18T18:25:38.877Z"
   },
   {
    "duration": 44,
    "start_time": "2024-08-18T18:25:41.433Z"
   },
   {
    "duration": 84,
    "start_time": "2024-08-18T18:25:45.004Z"
   },
   {
    "duration": 520,
    "start_time": "2024-08-18T18:31:25.552Z"
   },
   {
    "duration": 689,
    "start_time": "2024-08-18T18:31:55.770Z"
   },
   {
    "duration": 685,
    "start_time": "2024-08-18T18:33:16.096Z"
   },
   {
    "duration": 91,
    "start_time": "2024-08-18T18:33:22.949Z"
   },
   {
    "duration": 88,
    "start_time": "2024-08-18T18:33:30.343Z"
   },
   {
    "duration": 54,
    "start_time": "2024-08-18T18:34:20.106Z"
   },
   {
    "duration": 636,
    "start_time": "2024-08-18T18:35:07.293Z"
   },
   {
    "duration": 1540,
    "start_time": "2024-08-18T18:35:07.932Z"
   },
   {
    "duration": 83,
    "start_time": "2024-08-18T18:35:09.475Z"
   },
   {
    "duration": 42,
    "start_time": "2024-08-18T18:35:09.562Z"
   },
   {
    "duration": 906,
    "start_time": "2024-08-18T18:35:09.607Z"
   },
   {
    "duration": 94,
    "start_time": "2024-08-18T18:35:10.516Z"
   },
   {
    "duration": 68,
    "start_time": "2024-08-18T18:35:10.613Z"
   },
   {
    "duration": 65,
    "start_time": "2024-08-18T18:35:10.684Z"
   },
   {
    "duration": 14,
    "start_time": "2024-08-18T18:35:10.753Z"
   },
   {
    "duration": 120,
    "start_time": "2024-08-18T18:35:10.773Z"
   },
   {
    "duration": 207,
    "start_time": "2024-08-18T18:35:10.895Z"
   },
   {
    "duration": 57,
    "start_time": "2024-08-18T18:35:11.105Z"
   },
   {
    "duration": 23,
    "start_time": "2024-08-18T18:35:11.165Z"
   },
   {
    "duration": 7,
    "start_time": "2024-08-18T18:35:11.191Z"
   },
   {
    "duration": 56,
    "start_time": "2024-08-18T18:35:11.201Z"
   },
   {
    "duration": 7,
    "start_time": "2024-08-18T18:35:11.260Z"
   },
   {
    "duration": 6,
    "start_time": "2024-08-18T18:35:11.270Z"
   },
   {
    "duration": 51,
    "start_time": "2024-08-18T18:35:11.279Z"
   },
   {
    "duration": 1313,
    "start_time": "2024-08-18T18:35:11.333Z"
   },
   {
    "duration": 4,
    "start_time": "2024-08-18T18:35:12.650Z"
   },
   {
    "duration": 3,
    "start_time": "2024-08-18T18:35:12.657Z"
   },
   {
    "duration": 4,
    "start_time": "2024-08-18T18:35:12.663Z"
   },
   {
    "duration": 4,
    "start_time": "2024-08-18T18:35:12.670Z"
   },
   {
    "duration": 4,
    "start_time": "2024-08-18T18:35:12.676Z"
   },
   {
    "duration": 49,
    "start_time": "2024-08-18T18:35:12.683Z"
   },
   {
    "duration": 7,
    "start_time": "2024-08-18T18:35:12.735Z"
   },
   {
    "duration": 4,
    "start_time": "2024-08-18T18:35:12.745Z"
   },
   {
    "duration": 3,
    "start_time": "2024-08-18T18:35:12.756Z"
   },
   {
    "duration": 4,
    "start_time": "2024-08-18T18:35:12.762Z"
   },
   {
    "duration": 647,
    "start_time": "2024-08-18T18:41:07.441Z"
   },
   {
    "duration": 9,
    "start_time": "2024-08-18T18:41:21.586Z"
   },
   {
    "duration": 9,
    "start_time": "2024-08-18T18:41:25.070Z"
   },
   {
    "duration": 9,
    "start_time": "2024-08-18T18:41:29.508Z"
   },
   {
    "duration": 8,
    "start_time": "2024-08-18T18:41:51.130Z"
   },
   {
    "duration": 682,
    "start_time": "2024-08-18T18:42:30.933Z"
   },
   {
    "duration": 1564,
    "start_time": "2024-08-18T18:42:31.619Z"
   },
   {
    "duration": 89,
    "start_time": "2024-08-18T18:42:33.186Z"
   },
   {
    "duration": 54,
    "start_time": "2024-08-18T18:42:33.278Z"
   },
   {
    "duration": 1435,
    "start_time": "2024-08-18T18:42:33.337Z"
   },
   {
    "duration": 0,
    "start_time": "2024-08-18T18:42:34.777Z"
   },
   {
    "duration": 0,
    "start_time": "2024-08-18T18:42:34.778Z"
   },
   {
    "duration": 0,
    "start_time": "2024-08-18T18:42:34.781Z"
   },
   {
    "duration": 0,
    "start_time": "2024-08-18T18:42:34.783Z"
   },
   {
    "duration": 0,
    "start_time": "2024-08-18T18:42:34.786Z"
   },
   {
    "duration": 0,
    "start_time": "2024-08-18T18:42:34.788Z"
   },
   {
    "duration": 0,
    "start_time": "2024-08-18T18:42:34.790Z"
   },
   {
    "duration": 0,
    "start_time": "2024-08-18T18:42:34.793Z"
   },
   {
    "duration": 0,
    "start_time": "2024-08-18T18:42:34.794Z"
   },
   {
    "duration": 0,
    "start_time": "2024-08-18T18:42:34.797Z"
   },
   {
    "duration": 0,
    "start_time": "2024-08-18T18:42:34.832Z"
   },
   {
    "duration": 0,
    "start_time": "2024-08-18T18:42:34.834Z"
   },
   {
    "duration": 0,
    "start_time": "2024-08-18T18:42:34.836Z"
   },
   {
    "duration": 0,
    "start_time": "2024-08-18T18:42:34.839Z"
   },
   {
    "duration": 0,
    "start_time": "2024-08-18T18:42:34.841Z"
   },
   {
    "duration": 0,
    "start_time": "2024-08-18T18:42:34.843Z"
   },
   {
    "duration": 0,
    "start_time": "2024-08-18T18:42:34.845Z"
   },
   {
    "duration": 0,
    "start_time": "2024-08-18T18:42:34.847Z"
   },
   {
    "duration": 0,
    "start_time": "2024-08-18T18:42:34.849Z"
   },
   {
    "duration": 0,
    "start_time": "2024-08-18T18:42:34.852Z"
   },
   {
    "duration": 0,
    "start_time": "2024-08-18T18:42:34.855Z"
   },
   {
    "duration": 1,
    "start_time": "2024-08-18T18:42:34.856Z"
   },
   {
    "duration": 0,
    "start_time": "2024-08-18T18:42:34.859Z"
   },
   {
    "duration": 0,
    "start_time": "2024-08-18T18:42:34.861Z"
   },
   {
    "duration": 678,
    "start_time": "2024-08-18T18:42:57.605Z"
   },
   {
    "duration": 1561,
    "start_time": "2024-08-18T18:42:58.286Z"
   },
   {
    "duration": 86,
    "start_time": "2024-08-18T18:42:59.850Z"
   },
   {
    "duration": 43,
    "start_time": "2024-08-18T18:42:59.940Z"
   },
   {
    "duration": 1466,
    "start_time": "2024-08-18T18:42:59.986Z"
   },
   {
    "duration": 0,
    "start_time": "2024-08-18T18:43:01.456Z"
   },
   {
    "duration": 0,
    "start_time": "2024-08-18T18:43:01.458Z"
   },
   {
    "duration": 0,
    "start_time": "2024-08-18T18:43:01.460Z"
   },
   {
    "duration": 0,
    "start_time": "2024-08-18T18:43:01.462Z"
   },
   {
    "duration": 0,
    "start_time": "2024-08-18T18:43:01.464Z"
   },
   {
    "duration": 0,
    "start_time": "2024-08-18T18:43:01.466Z"
   },
   {
    "duration": 0,
    "start_time": "2024-08-18T18:43:01.467Z"
   },
   {
    "duration": 0,
    "start_time": "2024-08-18T18:43:01.469Z"
   },
   {
    "duration": 0,
    "start_time": "2024-08-18T18:43:01.471Z"
   },
   {
    "duration": 0,
    "start_time": "2024-08-18T18:43:01.473Z"
   },
   {
    "duration": 0,
    "start_time": "2024-08-18T18:43:01.474Z"
   },
   {
    "duration": 0,
    "start_time": "2024-08-18T18:43:01.476Z"
   },
   {
    "duration": 0,
    "start_time": "2024-08-18T18:43:01.478Z"
   },
   {
    "duration": 0,
    "start_time": "2024-08-18T18:43:01.479Z"
   },
   {
    "duration": 0,
    "start_time": "2024-08-18T18:43:01.483Z"
   },
   {
    "duration": 0,
    "start_time": "2024-08-18T18:43:01.533Z"
   },
   {
    "duration": 0,
    "start_time": "2024-08-18T18:43:01.536Z"
   },
   {
    "duration": 0,
    "start_time": "2024-08-18T18:43:01.537Z"
   },
   {
    "duration": 0,
    "start_time": "2024-08-18T18:43:01.539Z"
   },
   {
    "duration": 0,
    "start_time": "2024-08-18T18:43:01.543Z"
   },
   {
    "duration": 0,
    "start_time": "2024-08-18T18:43:01.544Z"
   },
   {
    "duration": 0,
    "start_time": "2024-08-18T18:43:01.547Z"
   },
   {
    "duration": 0,
    "start_time": "2024-08-18T18:43:01.549Z"
   },
   {
    "duration": 0,
    "start_time": "2024-08-18T18:43:01.551Z"
   },
   {
    "duration": 12,
    "start_time": "2024-08-18T18:43:02.938Z"
   },
   {
    "duration": 10,
    "start_time": "2024-08-18T18:43:09.491Z"
   },
   {
    "duration": 10,
    "start_time": "2024-08-18T18:44:12.285Z"
   },
   {
    "duration": 22,
    "start_time": "2024-08-18T18:45:39.329Z"
   },
   {
    "duration": 26,
    "start_time": "2024-08-18T18:46:06.441Z"
   },
   {
    "duration": 22,
    "start_time": "2024-08-18T18:46:21.126Z"
   },
   {
    "duration": 22,
    "start_time": "2024-08-18T18:46:48.989Z"
   },
   {
    "duration": 524,
    "start_time": "2024-08-18T18:47:26.341Z"
   },
   {
    "duration": 124,
    "start_time": "2024-08-18T18:47:46.287Z"
   },
   {
    "duration": 6,
    "start_time": "2024-08-18T18:47:50.341Z"
   },
   {
    "duration": 5,
    "start_time": "2024-08-18T18:49:01.432Z"
   },
   {
    "duration": 4,
    "start_time": "2024-08-18T18:49:21.205Z"
   },
   {
    "duration": 103,
    "start_time": "2024-08-18T18:50:53.531Z"
   },
   {
    "duration": 5,
    "start_time": "2024-08-18T18:50:57.699Z"
   },
   {
    "duration": 12,
    "start_time": "2024-08-18T18:51:49.337Z"
   },
   {
    "duration": 11,
    "start_time": "2024-08-18T18:57:10.940Z"
   },
   {
    "duration": 19,
    "start_time": "2024-08-18T18:57:19.923Z"
   },
   {
    "duration": 43,
    "start_time": "2024-08-18T18:57:23.390Z"
   },
   {
    "duration": 28,
    "start_time": "2024-08-18T18:57:40.550Z"
   },
   {
    "duration": 42,
    "start_time": "2024-08-18T18:57:44.598Z"
   },
   {
    "duration": 876,
    "start_time": "2024-08-18T18:58:08.274Z"
   },
   {
    "duration": 1775,
    "start_time": "2024-08-18T18:58:09.155Z"
   },
   {
    "duration": 77,
    "start_time": "2024-08-18T18:58:10.936Z"
   },
   {
    "duration": 68,
    "start_time": "2024-08-18T18:58:11.018Z"
   },
   {
    "duration": 1675,
    "start_time": "2024-08-18T18:58:11.095Z"
   },
   {
    "duration": 0,
    "start_time": "2024-08-18T18:58:12.775Z"
   },
   {
    "duration": 0,
    "start_time": "2024-08-18T18:58:12.782Z"
   },
   {
    "duration": 0,
    "start_time": "2024-08-18T18:58:12.785Z"
   },
   {
    "duration": 0,
    "start_time": "2024-08-18T18:58:12.787Z"
   },
   {
    "duration": 0,
    "start_time": "2024-08-18T18:58:12.788Z"
   },
   {
    "duration": 0,
    "start_time": "2024-08-18T18:58:12.793Z"
   },
   {
    "duration": 0,
    "start_time": "2024-08-18T18:58:12.795Z"
   },
   {
    "duration": 0,
    "start_time": "2024-08-18T18:58:12.798Z"
   },
   {
    "duration": 0,
    "start_time": "2024-08-18T18:58:12.800Z"
   },
   {
    "duration": 0,
    "start_time": "2024-08-18T18:58:12.803Z"
   },
   {
    "duration": 0,
    "start_time": "2024-08-18T18:58:12.806Z"
   },
   {
    "duration": 0,
    "start_time": "2024-08-18T18:58:12.807Z"
   },
   {
    "duration": 0,
    "start_time": "2024-08-18T18:58:12.808Z"
   },
   {
    "duration": 0,
    "start_time": "2024-08-18T18:58:12.831Z"
   },
   {
    "duration": 0,
    "start_time": "2024-08-18T18:58:12.838Z"
   },
   {
    "duration": 0,
    "start_time": "2024-08-18T18:58:12.841Z"
   },
   {
    "duration": 0,
    "start_time": "2024-08-18T18:58:12.844Z"
   },
   {
    "duration": 0,
    "start_time": "2024-08-18T18:58:12.852Z"
   },
   {
    "duration": 0,
    "start_time": "2024-08-18T18:58:12.854Z"
   },
   {
    "duration": 0,
    "start_time": "2024-08-18T18:58:12.856Z"
   },
   {
    "duration": 0,
    "start_time": "2024-08-18T18:58:12.858Z"
   },
   {
    "duration": 0,
    "start_time": "2024-08-18T18:58:12.860Z"
   },
   {
    "duration": 56,
    "start_time": "2024-08-18T18:58:13.700Z"
   },
   {
    "duration": 28,
    "start_time": "2024-08-18T18:58:17.509Z"
   },
   {
    "duration": 21,
    "start_time": "2024-08-18T18:58:49.696Z"
   },
   {
    "duration": 44,
    "start_time": "2024-08-18T18:58:52.337Z"
   },
   {
    "duration": 47,
    "start_time": "2024-08-18T18:59:34.628Z"
   },
   {
    "duration": 698,
    "start_time": "2024-08-18T19:05:32.337Z"
   },
   {
    "duration": 1530,
    "start_time": "2024-08-18T19:05:33.039Z"
   },
   {
    "duration": 88,
    "start_time": "2024-08-18T19:05:34.572Z"
   },
   {
    "duration": 42,
    "start_time": "2024-08-18T19:05:34.666Z"
   },
   {
    "duration": 68,
    "start_time": "2024-08-18T19:05:34.711Z"
   },
   {
    "duration": 20,
    "start_time": "2024-08-18T19:05:34.783Z"
   },
   {
    "duration": 113,
    "start_time": "2024-08-18T19:05:34.806Z"
   },
   {
    "duration": 174,
    "start_time": "2024-08-18T19:05:34.921Z"
   },
   {
    "duration": 57,
    "start_time": "2024-08-18T19:05:35.098Z"
   },
   {
    "duration": 22,
    "start_time": "2024-08-18T19:05:35.160Z"
   },
   {
    "duration": 7,
    "start_time": "2024-08-18T19:05:35.185Z"
   },
   {
    "duration": 60,
    "start_time": "2024-08-18T19:05:35.195Z"
   },
   {
    "duration": 7,
    "start_time": "2024-08-18T19:05:35.258Z"
   },
   {
    "duration": 8,
    "start_time": "2024-08-18T19:05:35.268Z"
   },
   {
    "duration": 7,
    "start_time": "2024-08-18T19:05:35.279Z"
   },
   {
    "duration": 1518,
    "start_time": "2024-08-18T19:05:35.330Z"
   },
   {
    "duration": 4,
    "start_time": "2024-08-18T19:05:36.852Z"
   },
   {
    "duration": 14,
    "start_time": "2024-08-18T19:05:36.859Z"
   },
   {
    "duration": 14,
    "start_time": "2024-08-18T19:05:36.877Z"
   },
   {
    "duration": 41,
    "start_time": "2024-08-18T19:05:36.893Z"
   },
   {
    "duration": 12,
    "start_time": "2024-08-18T19:05:36.938Z"
   },
   {
    "duration": 95,
    "start_time": "2024-08-18T19:05:36.953Z"
   },
   {
    "duration": 1239,
    "start_time": "2024-08-18T19:05:37.052Z"
   },
   {
    "duration": 1,
    "start_time": "2024-08-18T19:05:38.293Z"
   },
   {
    "duration": 0,
    "start_time": "2024-08-18T19:05:38.296Z"
   },
   {
    "duration": 0,
    "start_time": "2024-08-18T19:05:38.297Z"
   },
   {
    "duration": 0,
    "start_time": "2024-08-18T19:05:38.299Z"
   },
   {
    "duration": 78,
    "start_time": "2024-08-18T19:05:57.355Z"
   },
   {
    "duration": 1120,
    "start_time": "2024-08-18T19:06:04.423Z"
   },
   {
    "duration": 29,
    "start_time": "2024-08-18T19:07:27.022Z"
   },
   {
    "duration": 57,
    "start_time": "2024-08-18T19:07:39.356Z"
   },
   {
    "duration": 28,
    "start_time": "2024-08-18T19:09:04.389Z"
   },
   {
    "duration": 10,
    "start_time": "2024-08-18T19:10:14.153Z"
   },
   {
    "duration": 7,
    "start_time": "2024-08-18T19:10:19.424Z"
   },
   {
    "duration": 6,
    "start_time": "2024-08-18T19:11:25.219Z"
   },
   {
    "duration": 109,
    "start_time": "2024-08-18T19:13:28.070Z"
   },
   {
    "duration": 107,
    "start_time": "2024-08-18T19:13:32.986Z"
   },
   {
    "duration": 129,
    "start_time": "2024-08-18T19:13:51.934Z"
   },
   {
    "duration": 102,
    "start_time": "2024-08-18T19:14:11.374Z"
   },
   {
    "duration": 119,
    "start_time": "2024-08-18T19:14:14.611Z"
   },
   {
    "duration": 552,
    "start_time": "2024-08-18T19:14:36.413Z"
   },
   {
    "duration": 575,
    "start_time": "2024-08-18T19:14:47.450Z"
   },
   {
    "duration": 554,
    "start_time": "2024-08-18T19:14:55.242Z"
   },
   {
    "duration": 701,
    "start_time": "2024-08-18T19:15:01.129Z"
   },
   {
    "duration": 1594,
    "start_time": "2024-08-18T19:15:01.834Z"
   },
   {
    "duration": 77,
    "start_time": "2024-08-18T19:15:03.431Z"
   },
   {
    "duration": 58,
    "start_time": "2024-08-18T19:15:03.511Z"
   },
   {
    "duration": 66,
    "start_time": "2024-08-18T19:15:03.574Z"
   },
   {
    "duration": 25,
    "start_time": "2024-08-18T19:15:03.644Z"
   },
   {
    "duration": 107,
    "start_time": "2024-08-18T19:15:03.672Z"
   },
   {
    "duration": 172,
    "start_time": "2024-08-18T19:15:03.783Z"
   },
   {
    "duration": 46,
    "start_time": "2024-08-18T19:15:03.958Z"
   },
   {
    "duration": 44,
    "start_time": "2024-08-18T19:15:04.007Z"
   },
   {
    "duration": 7,
    "start_time": "2024-08-18T19:15:04.057Z"
   },
   {
    "duration": 31,
    "start_time": "2024-08-18T19:15:04.067Z"
   },
   {
    "duration": 7,
    "start_time": "2024-08-18T19:15:04.131Z"
   },
   {
    "duration": 6,
    "start_time": "2024-08-18T19:15:04.145Z"
   },
   {
    "duration": 8,
    "start_time": "2024-08-18T19:15:04.154Z"
   },
   {
    "duration": 1342,
    "start_time": "2024-08-18T19:15:04.166Z"
   },
   {
    "duration": 4,
    "start_time": "2024-08-18T19:15:05.510Z"
   },
   {
    "duration": 11,
    "start_time": "2024-08-18T19:15:05.532Z"
   },
   {
    "duration": 11,
    "start_time": "2024-08-18T19:15:05.546Z"
   },
   {
    "duration": 5,
    "start_time": "2024-08-18T19:15:05.560Z"
   },
   {
    "duration": 9,
    "start_time": "2024-08-18T19:15:05.568Z"
   },
   {
    "duration": 105,
    "start_time": "2024-08-18T19:15:05.579Z"
   },
   {
    "duration": 1453,
    "start_time": "2024-08-18T19:15:05.688Z"
   },
   {
    "duration": 0,
    "start_time": "2024-08-18T19:15:07.144Z"
   },
   {
    "duration": 0,
    "start_time": "2024-08-18T19:15:07.147Z"
   },
   {
    "duration": 0,
    "start_time": "2024-08-18T19:15:07.149Z"
   },
   {
    "duration": 0,
    "start_time": "2024-08-18T19:15:07.151Z"
   },
   {
    "duration": 94,
    "start_time": "2024-08-18T19:15:23.683Z"
   },
   {
    "duration": 94,
    "start_time": "2024-08-18T19:15:27.382Z"
   },
   {
    "duration": 93,
    "start_time": "2024-08-18T19:16:20.005Z"
   },
   {
    "duration": 563,
    "start_time": "2024-08-18T19:17:03.119Z"
   },
   {
    "duration": 591,
    "start_time": "2024-08-18T19:17:12.265Z"
   },
   {
    "duration": 502,
    "start_time": "2024-08-18T19:17:39.563Z"
   },
   {
    "duration": 495,
    "start_time": "2024-08-18T19:18:00.070Z"
   },
   {
    "duration": 506,
    "start_time": "2024-08-18T19:18:13.977Z"
   },
   {
    "duration": 6,
    "start_time": "2024-08-18T19:18:29.113Z"
   },
   {
    "duration": 843,
    "start_time": "2024-08-18T19:18:49.753Z"
   },
   {
    "duration": 64,
    "start_time": "2024-08-18T19:19:06.675Z"
   },
   {
    "duration": 45,
    "start_time": "2024-08-18T19:19:11.270Z"
   },
   {
    "duration": 48,
    "start_time": "2024-08-18T19:19:48.910Z"
   },
   {
    "duration": 10,
    "start_time": "2024-08-18T19:20:18.579Z"
   },
   {
    "duration": 656,
    "start_time": "2024-08-18T19:20:28.562Z"
   },
   {
    "duration": 1555,
    "start_time": "2024-08-18T19:20:29.221Z"
   },
   {
    "duration": 92,
    "start_time": "2024-08-18T19:20:30.779Z"
   },
   {
    "duration": 41,
    "start_time": "2024-08-18T19:20:30.876Z"
   },
   {
    "duration": 61,
    "start_time": "2024-08-18T19:20:30.933Z"
   },
   {
    "duration": 49,
    "start_time": "2024-08-18T19:20:30.998Z"
   },
   {
    "duration": 131,
    "start_time": "2024-08-18T19:20:31.052Z"
   },
   {
    "duration": 209,
    "start_time": "2024-08-18T19:20:31.186Z"
   },
   {
    "duration": 68,
    "start_time": "2024-08-18T19:20:31.399Z"
   },
   {
    "duration": 29,
    "start_time": "2024-08-18T19:20:31.474Z"
   },
   {
    "duration": 27,
    "start_time": "2024-08-18T19:20:31.508Z"
   },
   {
    "duration": 39,
    "start_time": "2024-08-18T19:20:31.538Z"
   },
   {
    "duration": 8,
    "start_time": "2024-08-18T19:20:31.580Z"
   },
   {
    "duration": 41,
    "start_time": "2024-08-18T19:20:31.590Z"
   },
   {
    "duration": 10,
    "start_time": "2024-08-18T19:20:31.634Z"
   },
   {
    "duration": 1441,
    "start_time": "2024-08-18T19:20:31.647Z"
   },
   {
    "duration": 7,
    "start_time": "2024-08-18T19:20:33.091Z"
   },
   {
    "duration": 32,
    "start_time": "2024-08-18T19:20:33.102Z"
   },
   {
    "duration": 14,
    "start_time": "2024-08-18T19:20:33.139Z"
   },
   {
    "duration": 10,
    "start_time": "2024-08-18T19:20:33.161Z"
   },
   {
    "duration": 13,
    "start_time": "2024-08-18T19:20:33.174Z"
   },
   {
    "duration": 98,
    "start_time": "2024-08-18T19:20:33.191Z"
   },
   {
    "duration": 18,
    "start_time": "2024-08-18T19:20:33.296Z"
   },
   {
    "duration": 62,
    "start_time": "2024-08-18T19:20:33.319Z"
   },
   {
    "duration": 53,
    "start_time": "2024-08-18T19:20:33.385Z"
   },
   {
    "duration": 8,
    "start_time": "2024-08-18T19:20:33.444Z"
   },
   {
    "duration": 917,
    "start_time": "2024-08-18T19:20:33.457Z"
   },
   {
    "duration": 6,
    "start_time": "2024-08-18T19:21:13.400Z"
   },
   {
    "duration": 7,
    "start_time": "2024-08-18T19:21:19.680Z"
   },
   {
    "duration": 7,
    "start_time": "2024-08-18T19:21:25.694Z"
   },
   {
    "duration": 770,
    "start_time": "2024-08-18T19:22:03.298Z"
   },
   {
    "duration": 1002,
    "start_time": "2024-08-18T19:22:29.509Z"
   },
   {
    "duration": 73,
    "start_time": "2024-08-18T19:22:43.278Z"
   },
   {
    "duration": 673,
    "start_time": "2024-08-18T19:22:53.305Z"
   },
   {
    "duration": 1524,
    "start_time": "2024-08-18T19:22:53.982Z"
   },
   {
    "duration": 87,
    "start_time": "2024-08-18T19:22:55.508Z"
   },
   {
    "duration": 55,
    "start_time": "2024-08-18T19:22:55.599Z"
   },
   {
    "duration": 52,
    "start_time": "2024-08-18T19:22:55.657Z"
   },
   {
    "duration": 31,
    "start_time": "2024-08-18T19:22:55.712Z"
   },
   {
    "duration": 120,
    "start_time": "2024-08-18T19:22:55.746Z"
   },
   {
    "duration": 172,
    "start_time": "2024-08-18T19:22:55.868Z"
   },
   {
    "duration": 46,
    "start_time": "2024-08-18T19:22:56.043Z"
   },
   {
    "duration": 47,
    "start_time": "2024-08-18T19:22:56.095Z"
   },
   {
    "duration": 6,
    "start_time": "2024-08-18T19:22:56.145Z"
   },
   {
    "duration": 32,
    "start_time": "2024-08-18T19:22:56.156Z"
   },
   {
    "duration": 41,
    "start_time": "2024-08-18T19:22:56.191Z"
   },
   {
    "duration": 8,
    "start_time": "2024-08-18T19:22:56.234Z"
   },
   {
    "duration": 8,
    "start_time": "2024-08-18T19:22:56.245Z"
   },
   {
    "duration": 1316,
    "start_time": "2024-08-18T19:22:56.256Z"
   },
   {
    "duration": 7,
    "start_time": "2024-08-18T19:22:57.575Z"
   },
   {
    "duration": 11,
    "start_time": "2024-08-18T19:22:57.585Z"
   },
   {
    "duration": 36,
    "start_time": "2024-08-18T19:22:57.599Z"
   },
   {
    "duration": 5,
    "start_time": "2024-08-18T19:22:57.638Z"
   },
   {
    "duration": 10,
    "start_time": "2024-08-18T19:22:57.646Z"
   },
   {
    "duration": 84,
    "start_time": "2024-08-18T19:22:57.659Z"
   },
   {
    "duration": 11,
    "start_time": "2024-08-18T19:22:57.746Z"
   },
   {
    "duration": 70,
    "start_time": "2024-08-18T19:22:57.760Z"
   },
   {
    "duration": 28,
    "start_time": "2024-08-18T19:22:57.833Z"
   },
   {
    "duration": 7,
    "start_time": "2024-08-18T19:22:57.864Z"
   },
   {
    "duration": 871,
    "start_time": "2024-08-18T19:22:57.873Z"
   },
   {
    "duration": 690,
    "start_time": "2024-08-18T19:23:41.461Z"
   },
   {
    "duration": 1629,
    "start_time": "2024-08-18T19:23:42.155Z"
   },
   {
    "duration": 87,
    "start_time": "2024-08-18T19:23:43.787Z"
   },
   {
    "duration": 58,
    "start_time": "2024-08-18T19:23:43.878Z"
   },
   {
    "duration": 57,
    "start_time": "2024-08-18T19:23:43.939Z"
   },
   {
    "duration": 38,
    "start_time": "2024-08-18T19:23:43.999Z"
   },
   {
    "duration": 101,
    "start_time": "2024-08-18T19:23:44.040Z"
   },
   {
    "duration": 171,
    "start_time": "2024-08-18T19:23:44.144Z"
   },
   {
    "duration": 59,
    "start_time": "2024-08-18T19:23:44.318Z"
   },
   {
    "duration": 22,
    "start_time": "2024-08-18T19:23:44.384Z"
   },
   {
    "duration": 23,
    "start_time": "2024-08-18T19:23:44.409Z"
   },
   {
    "duration": 32,
    "start_time": "2024-08-18T19:23:44.438Z"
   },
   {
    "duration": 7,
    "start_time": "2024-08-18T19:23:44.473Z"
   },
   {
    "duration": 48,
    "start_time": "2024-08-18T19:23:44.483Z"
   },
   {
    "duration": 8,
    "start_time": "2024-08-18T19:23:44.534Z"
   },
   {
    "duration": 1309,
    "start_time": "2024-08-18T19:23:44.546Z"
   },
   {
    "duration": 4,
    "start_time": "2024-08-18T19:23:45.858Z"
   },
   {
    "duration": 12,
    "start_time": "2024-08-18T19:23:45.865Z"
   },
   {
    "duration": 12,
    "start_time": "2024-08-18T19:23:45.879Z"
   },
   {
    "duration": 39,
    "start_time": "2024-08-18T19:23:45.894Z"
   },
   {
    "duration": 9,
    "start_time": "2024-08-18T19:23:45.936Z"
   },
   {
    "duration": 49,
    "start_time": "2024-08-18T19:23:45.947Z"
   },
   {
    "duration": 13,
    "start_time": "2024-08-18T19:23:46.030Z"
   },
   {
    "duration": 51,
    "start_time": "2024-08-18T19:23:46.047Z"
   },
   {
    "duration": 2296,
    "start_time": "2024-08-18T19:23:57.636Z"
   },
   {
    "duration": 22,
    "start_time": "2024-08-18T19:24:34.143Z"
   },
   {
    "duration": 7,
    "start_time": "2024-08-18T19:24:55.296Z"
   },
   {
    "duration": 11,
    "start_time": "2024-08-18T19:25:23.869Z"
   },
   {
    "duration": 20,
    "start_time": "2024-08-18T19:25:30.851Z"
   },
   {
    "duration": 21,
    "start_time": "2024-08-18T19:25:35.083Z"
   },
   {
    "duration": 6,
    "start_time": "2024-08-18T19:25:56.071Z"
   },
   {
    "duration": 21,
    "start_time": "2024-08-18T19:27:46.146Z"
   },
   {
    "duration": 19,
    "start_time": "2024-08-18T19:27:50.351Z"
   },
   {
    "duration": 642,
    "start_time": "2024-08-18T19:28:00.567Z"
   },
   {
    "duration": 1591,
    "start_time": "2024-08-18T19:28:01.213Z"
   },
   {
    "duration": 91,
    "start_time": "2024-08-18T19:28:02.807Z"
   },
   {
    "duration": 56,
    "start_time": "2024-08-18T19:28:02.901Z"
   },
   {
    "duration": 49,
    "start_time": "2024-08-18T19:28:02.962Z"
   },
   {
    "duration": 14,
    "start_time": "2024-08-18T19:28:03.031Z"
   },
   {
    "duration": 107,
    "start_time": "2024-08-18T19:28:03.049Z"
   },
   {
    "duration": 169,
    "start_time": "2024-08-18T19:28:03.159Z"
   },
   {
    "duration": 46,
    "start_time": "2024-08-18T19:28:03.331Z"
   },
   {
    "duration": 23,
    "start_time": "2024-08-18T19:28:03.380Z"
   },
   {
    "duration": 8,
    "start_time": "2024-08-18T19:28:03.430Z"
   },
   {
    "duration": 32,
    "start_time": "2024-08-18T19:28:03.441Z"
   },
   {
    "duration": 7,
    "start_time": "2024-08-18T19:28:03.476Z"
   },
   {
    "duration": 45,
    "start_time": "2024-08-18T19:28:03.489Z"
   },
   {
    "duration": 8,
    "start_time": "2024-08-18T19:28:03.537Z"
   },
   {
    "duration": 1329,
    "start_time": "2024-08-18T19:28:03.547Z"
   },
   {
    "duration": 3,
    "start_time": "2024-08-18T19:28:04.879Z"
   },
   {
    "duration": 10,
    "start_time": "2024-08-18T19:28:04.885Z"
   },
   {
    "duration": 39,
    "start_time": "2024-08-18T19:28:04.899Z"
   },
   {
    "duration": 5,
    "start_time": "2024-08-18T19:28:04.940Z"
   },
   {
    "duration": 11,
    "start_time": "2024-08-18T19:28:04.948Z"
   },
   {
    "duration": 84,
    "start_time": "2024-08-18T19:28:04.962Z"
   },
   {
    "duration": 10,
    "start_time": "2024-08-18T19:28:05.049Z"
   },
   {
    "duration": 73,
    "start_time": "2024-08-18T19:28:05.062Z"
   },
   {
    "duration": 29,
    "start_time": "2024-08-18T19:28:06.931Z"
   },
   {
    "duration": 22,
    "start_time": "2024-08-18T19:28:13.228Z"
   },
   {
    "duration": 14,
    "start_time": "2024-08-18T19:28:33.194Z"
   },
   {
    "duration": 14,
    "start_time": "2024-08-18T19:30:06.013Z"
   },
   {
    "duration": 15,
    "start_time": "2024-08-18T19:30:17.594Z"
   },
   {
    "duration": 976,
    "start_time": "2024-08-18T19:30:40.514Z"
   },
   {
    "duration": 75,
    "start_time": "2024-08-18T19:31:31.846Z"
   },
   {
    "duration": 20,
    "start_time": "2024-08-18T19:31:56.227Z"
   },
   {
    "duration": 10,
    "start_time": "2024-08-18T19:31:57.956Z"
   },
   {
    "duration": 832,
    "start_time": "2024-08-18T19:34:59.191Z"
   },
   {
    "duration": 9,
    "start_time": "2024-08-18T19:35:49.363Z"
   },
   {
    "duration": 22,
    "start_time": "2024-08-18T19:36:05.793Z"
   },
   {
    "duration": 8,
    "start_time": "2024-08-18T19:36:45.508Z"
   },
   {
    "duration": 6,
    "start_time": "2024-08-18T19:36:52.397Z"
   },
   {
    "duration": 8,
    "start_time": "2024-08-18T19:37:00.285Z"
   },
   {
    "duration": 8,
    "start_time": "2024-08-18T19:37:16.710Z"
   },
   {
    "duration": 25,
    "start_time": "2024-08-18T19:37:20.244Z"
   },
   {
    "duration": 9,
    "start_time": "2024-08-18T19:37:32.000Z"
   },
   {
    "duration": 14,
    "start_time": "2024-08-18T19:38:05.091Z"
   },
   {
    "duration": 8,
    "start_time": "2024-08-18T19:41:52.867Z"
   },
   {
    "duration": 7,
    "start_time": "2024-08-18T19:41:54.975Z"
   },
   {
    "duration": 6,
    "start_time": "2024-08-18T19:42:18.808Z"
   },
   {
    "duration": 13,
    "start_time": "2024-08-18T19:42:23.699Z"
   },
   {
    "duration": 9,
    "start_time": "2024-08-18T19:42:26.675Z"
   },
   {
    "duration": 9,
    "start_time": "2024-08-18T19:42:43.530Z"
   },
   {
    "duration": 10,
    "start_time": "2024-08-18T19:43:07.330Z"
   },
   {
    "duration": 7,
    "start_time": "2024-08-18T19:43:57.932Z"
   },
   {
    "duration": 10,
    "start_time": "2024-08-18T19:44:02.976Z"
   },
   {
    "duration": 13,
    "start_time": "2024-08-18T19:44:05.115Z"
   },
   {
    "duration": 9,
    "start_time": "2024-08-18T19:44:18.846Z"
   },
   {
    "duration": 668,
    "start_time": "2024-08-18T19:45:16.188Z"
   },
   {
    "duration": 29,
    "start_time": "2024-08-18T19:45:48.928Z"
   },
   {
    "duration": 35,
    "start_time": "2024-08-18T19:47:04.351Z"
   },
   {
    "duration": 29,
    "start_time": "2024-08-18T19:47:13.011Z"
   },
   {
    "duration": 28,
    "start_time": "2024-08-18T19:48:23.008Z"
   },
   {
    "duration": 46,
    "start_time": "2024-08-18T19:50:23.264Z"
   },
   {
    "duration": 30,
    "start_time": "2024-08-18T19:51:08.800Z"
   },
   {
    "duration": 47,
    "start_time": "2024-08-18T19:51:38.017Z"
   },
   {
    "duration": 8,
    "start_time": "2024-08-18T19:52:30.737Z"
   },
   {
    "duration": 6,
    "start_time": "2024-08-18T19:53:12.755Z"
   },
   {
    "duration": 8,
    "start_time": "2024-08-18T19:53:17.064Z"
   },
   {
    "duration": 52,
    "start_time": "2024-08-18T19:53:22.914Z"
   },
   {
    "duration": 48,
    "start_time": "2024-08-18T19:53:58.031Z"
   },
   {
    "duration": 8,
    "start_time": "2024-08-18T19:54:54.949Z"
   },
   {
    "duration": 33,
    "start_time": "2024-08-18T19:55:40.591Z"
   },
   {
    "duration": 36,
    "start_time": "2024-08-18T19:55:52.519Z"
   },
   {
    "duration": 35,
    "start_time": "2024-08-18T19:55:59.664Z"
   },
   {
    "duration": 49,
    "start_time": "2024-08-18T19:56:46.113Z"
   },
   {
    "duration": 129,
    "start_time": "2024-08-18T19:56:59.687Z"
   },
   {
    "duration": 57,
    "start_time": "2024-08-18T19:57:15.088Z"
   },
   {
    "duration": 35,
    "start_time": "2024-08-18T19:57:22.727Z"
   },
   {
    "duration": 7,
    "start_time": "2024-08-18T19:57:51.603Z"
   },
   {
    "duration": 29,
    "start_time": "2024-08-18T19:58:05.953Z"
   },
   {
    "duration": 29,
    "start_time": "2024-08-18T20:00:37.045Z"
   },
   {
    "duration": 23,
    "start_time": "2024-08-18T20:00:41.297Z"
   },
   {
    "duration": 9,
    "start_time": "2024-08-18T20:04:36.049Z"
   },
   {
    "duration": 235,
    "start_time": "2024-08-18T20:04:58.813Z"
   },
   {
    "duration": 1866,
    "start_time": "2024-08-18T20:05:13.770Z"
   },
   {
    "duration": 986,
    "start_time": "2024-08-18T20:05:28.619Z"
   },
   {
    "duration": 675,
    "start_time": "2024-08-18T20:05:49.014Z"
   },
   {
    "duration": 11,
    "start_time": "2024-08-18T20:06:18.834Z"
   },
   {
    "duration": 812,
    "start_time": "2024-08-18T20:06:30.673Z"
   },
   {
    "duration": 639,
    "start_time": "2024-08-18T20:07:19.770Z"
   },
   {
    "duration": 600,
    "start_time": "2024-08-18T20:08:37.254Z"
   },
   {
    "duration": 627,
    "start_time": "2024-08-18T20:09:04.656Z"
   },
   {
    "duration": 2327,
    "start_time": "2024-08-18T20:09:28.499Z"
   },
   {
    "duration": 658,
    "start_time": "2024-08-18T20:10:07.302Z"
   },
   {
    "duration": 1597,
    "start_time": "2024-08-18T20:10:07.964Z"
   },
   {
    "duration": 93,
    "start_time": "2024-08-18T20:10:09.564Z"
   },
   {
    "duration": 42,
    "start_time": "2024-08-18T20:10:09.660Z"
   },
   {
    "duration": 73,
    "start_time": "2024-08-18T20:10:09.708Z"
   },
   {
    "duration": 17,
    "start_time": "2024-08-18T20:10:09.784Z"
   },
   {
    "duration": 134,
    "start_time": "2024-08-18T20:10:09.806Z"
   },
   {
    "duration": 187,
    "start_time": "2024-08-18T20:10:09.943Z"
   },
   {
    "duration": 58,
    "start_time": "2024-08-18T20:10:10.134Z"
   },
   {
    "duration": 46,
    "start_time": "2024-08-18T20:10:10.195Z"
   },
   {
    "duration": 8,
    "start_time": "2024-08-18T20:10:10.244Z"
   },
   {
    "duration": 42,
    "start_time": "2024-08-18T20:10:10.256Z"
   },
   {
    "duration": 32,
    "start_time": "2024-08-18T20:10:10.302Z"
   },
   {
    "duration": 7,
    "start_time": "2024-08-18T20:10:10.340Z"
   },
   {
    "duration": 8,
    "start_time": "2024-08-18T20:10:10.350Z"
   },
   {
    "duration": 1401,
    "start_time": "2024-08-18T20:10:10.361Z"
   },
   {
    "duration": 11,
    "start_time": "2024-08-18T20:10:11.765Z"
   },
   {
    "duration": 14,
    "start_time": "2024-08-18T20:10:11.785Z"
   },
   {
    "duration": 10,
    "start_time": "2024-08-18T20:10:11.804Z"
   },
   {
    "duration": 6,
    "start_time": "2024-08-18T20:10:11.831Z"
   },
   {
    "duration": 10,
    "start_time": "2024-08-18T20:10:11.840Z"
   },
   {
    "duration": 87,
    "start_time": "2024-08-18T20:10:11.854Z"
   },
   {
    "duration": 11,
    "start_time": "2024-08-18T20:10:11.945Z"
   },
   {
    "duration": 84,
    "start_time": "2024-08-18T20:10:11.959Z"
   },
   {
    "duration": 33,
    "start_time": "2024-08-18T20:10:12.058Z"
   },
   {
    "duration": 10,
    "start_time": "2024-08-18T20:10:12.094Z"
   },
   {
    "duration": 991,
    "start_time": "2024-08-18T20:10:12.107Z"
   },
   {
    "duration": 10,
    "start_time": "2024-08-18T20:10:13.101Z"
   },
   {
    "duration": 22,
    "start_time": "2024-08-18T20:10:13.114Z"
   },
   {
    "duration": 735,
    "start_time": "2024-08-18T20:11:53.148Z"
   },
   {
    "duration": 2024,
    "start_time": "2024-08-18T20:11:53.887Z"
   },
   {
    "duration": 101,
    "start_time": "2024-08-18T20:11:55.915Z"
   },
   {
    "duration": 50,
    "start_time": "2024-08-18T20:11:56.021Z"
   },
   {
    "duration": 77,
    "start_time": "2024-08-18T20:11:56.075Z"
   },
   {
    "duration": 17,
    "start_time": "2024-08-18T20:11:56.156Z"
   },
   {
    "duration": 129,
    "start_time": "2024-08-18T20:11:56.177Z"
   },
   {
    "duration": 188,
    "start_time": "2024-08-18T20:11:56.310Z"
   },
   {
    "duration": 68,
    "start_time": "2024-08-18T20:11:56.501Z"
   },
   {
    "duration": 29,
    "start_time": "2024-08-18T20:11:56.577Z"
   },
   {
    "duration": 19,
    "start_time": "2024-08-18T20:11:56.612Z"
   },
   {
    "duration": 37,
    "start_time": "2024-08-18T20:11:56.635Z"
   },
   {
    "duration": 13,
    "start_time": "2024-08-18T20:11:56.676Z"
   },
   {
    "duration": 10,
    "start_time": "2024-08-18T20:11:56.693Z"
   },
   {
    "duration": 11,
    "start_time": "2024-08-18T20:11:56.733Z"
   },
   {
    "duration": 1462,
    "start_time": "2024-08-18T20:11:56.748Z"
   },
   {
    "duration": 7,
    "start_time": "2024-08-18T20:11:58.217Z"
   },
   {
    "duration": 15,
    "start_time": "2024-08-18T20:11:58.231Z"
   },
   {
    "duration": 15,
    "start_time": "2024-08-18T20:11:58.249Z"
   },
   {
    "duration": 17,
    "start_time": "2024-08-18T20:11:58.267Z"
   },
   {
    "duration": 12,
    "start_time": "2024-08-18T20:11:58.288Z"
   },
   {
    "duration": 61,
    "start_time": "2024-08-18T20:11:58.331Z"
   },
   {
    "duration": 11,
    "start_time": "2024-08-18T20:11:58.395Z"
   },
   {
    "duration": 70,
    "start_time": "2024-08-18T20:11:58.433Z"
   },
   {
    "duration": 43,
    "start_time": "2024-08-18T20:11:58.510Z"
   },
   {
    "duration": 10,
    "start_time": "2024-08-18T20:11:58.556Z"
   },
   {
    "duration": 1142,
    "start_time": "2024-08-18T20:11:58.570Z"
   },
   {
    "duration": 11,
    "start_time": "2024-08-18T20:11:59.733Z"
   },
   {
    "duration": 10,
    "start_time": "2024-08-18T20:11:59.747Z"
   },
   {
    "duration": 334,
    "start_time": "2024-08-18T20:18:07.600Z"
   },
   {
    "duration": 31,
    "start_time": "2024-08-18T20:18:22.201Z"
   },
   {
    "duration": 687,
    "start_time": "2024-08-18T20:18:30.794Z"
   },
   {
    "duration": 1801,
    "start_time": "2024-08-18T20:18:31.486Z"
   },
   {
    "duration": 84,
    "start_time": "2024-08-18T20:18:33.290Z"
   },
   {
    "duration": 59,
    "start_time": "2024-08-18T20:18:33.377Z"
   },
   {
    "duration": 57,
    "start_time": "2024-08-18T20:18:33.441Z"
   },
   {
    "duration": 31,
    "start_time": "2024-08-18T20:18:33.501Z"
   },
   {
    "duration": 136,
    "start_time": "2024-08-18T20:18:33.534Z"
   },
   {
    "duration": 179,
    "start_time": "2024-08-18T20:18:33.673Z"
   },
   {
    "duration": 47,
    "start_time": "2024-08-18T20:18:33.858Z"
   },
   {
    "duration": 50,
    "start_time": "2024-08-18T20:18:33.908Z"
   },
   {
    "duration": 7,
    "start_time": "2024-08-18T20:18:33.961Z"
   },
   {
    "duration": 64,
    "start_time": "2024-08-18T20:18:33.971Z"
   },
   {
    "duration": 10,
    "start_time": "2024-08-18T20:18:34.037Z"
   },
   {
    "duration": 10,
    "start_time": "2024-08-18T20:18:34.053Z"
   },
   {
    "duration": 8,
    "start_time": "2024-08-18T20:18:34.067Z"
   },
   {
    "duration": 1391,
    "start_time": "2024-08-18T20:18:34.078Z"
   },
   {
    "duration": 5,
    "start_time": "2024-08-18T20:18:35.472Z"
   },
   {
    "duration": 11,
    "start_time": "2024-08-18T20:18:35.481Z"
   },
   {
    "duration": 38,
    "start_time": "2024-08-18T20:18:35.498Z"
   },
   {
    "duration": 6,
    "start_time": "2024-08-18T20:18:35.539Z"
   },
   {
    "duration": 9,
    "start_time": "2024-08-18T20:18:35.548Z"
   },
   {
    "duration": 89,
    "start_time": "2024-08-18T20:18:35.560Z"
   },
   {
    "duration": 18,
    "start_time": "2024-08-18T20:18:35.652Z"
   },
   {
    "duration": 64,
    "start_time": "2024-08-18T20:18:35.675Z"
   },
   {
    "duration": 35,
    "start_time": "2024-08-18T20:18:35.743Z"
   },
   {
    "duration": 9,
    "start_time": "2024-08-18T20:18:35.782Z"
   },
   {
    "duration": 870,
    "start_time": "2024-08-18T20:18:35.795Z"
   },
   {
    "duration": 9,
    "start_time": "2024-08-18T20:18:36.668Z"
   },
   {
    "duration": 9,
    "start_time": "2024-08-18T20:18:36.680Z"
   },
   {
    "duration": 600,
    "start_time": "2024-08-18T20:18:36.692Z"
   },
   {
    "duration": 35,
    "start_time": "2024-08-18T20:18:37.298Z"
   },
   {
    "duration": 865,
    "start_time": "2024-08-18T20:18:49.926Z"
   },
   {
    "duration": 11,
    "start_time": "2024-08-18T20:19:14.334Z"
   },
   {
    "duration": 2287,
    "start_time": "2024-08-18T20:19:18.743Z"
   },
   {
    "duration": 1024,
    "start_time": "2024-08-18T20:19:32.192Z"
   },
   {
    "duration": 442,
    "start_time": "2024-08-18T20:20:04.712Z"
   },
   {
    "duration": 418,
    "start_time": "2024-08-18T20:20:45.320Z"
   },
   {
    "duration": 430,
    "start_time": "2024-08-18T20:21:18.838Z"
   },
   {
    "duration": 319,
    "start_time": "2024-08-18T20:22:48.147Z"
   },
   {
    "duration": 340,
    "start_time": "2024-08-18T20:22:51.588Z"
   },
   {
    "duration": 327,
    "start_time": "2024-08-18T20:22:55.913Z"
   },
   {
    "duration": 303,
    "start_time": "2024-08-18T20:23:04.417Z"
   },
   {
    "duration": 238,
    "start_time": "2024-08-18T20:23:09.220Z"
   },
   {
    "duration": 265,
    "start_time": "2024-08-18T20:23:15.340Z"
   },
   {
    "duration": 448,
    "start_time": "2024-08-18T20:23:21.819Z"
   },
   {
    "duration": 315,
    "start_time": "2024-08-18T20:23:27.270Z"
   },
   {
    "duration": 318,
    "start_time": "2024-08-18T20:23:32.356Z"
   },
   {
    "duration": 270,
    "start_time": "2024-08-18T20:23:44.707Z"
   },
   {
    "duration": 269,
    "start_time": "2024-08-18T20:24:44.207Z"
   },
   {
    "duration": 439,
    "start_time": "2024-08-18T20:24:49.518Z"
   },
   {
    "duration": 266,
    "start_time": "2024-08-18T20:25:39.181Z"
   },
   {
    "duration": 273,
    "start_time": "2024-08-18T20:25:49.047Z"
   },
   {
    "duration": 247,
    "start_time": "2024-08-18T20:26:17.071Z"
   },
   {
    "duration": 259,
    "start_time": "2024-08-18T20:26:22.534Z"
   },
   {
    "duration": 246,
    "start_time": "2024-08-18T20:26:26.889Z"
   },
   {
    "duration": 246,
    "start_time": "2024-08-18T20:26:30.965Z"
   },
   {
    "duration": 246,
    "start_time": "2024-08-18T20:26:46.963Z"
   },
   {
    "duration": 261,
    "start_time": "2024-08-18T20:27:37.720Z"
   },
   {
    "duration": 268,
    "start_time": "2024-08-18T20:27:48.343Z"
   },
   {
    "duration": 257,
    "start_time": "2024-08-18T20:27:52.740Z"
   },
   {
    "duration": 259,
    "start_time": "2024-08-18T20:29:40.620Z"
   },
   {
    "duration": 247,
    "start_time": "2024-08-18T20:29:46.761Z"
   },
   {
    "duration": 312,
    "start_time": "2024-08-18T20:32:32.567Z"
   },
   {
    "duration": 292,
    "start_time": "2024-08-18T20:32:40.929Z"
   },
   {
    "duration": 382,
    "start_time": "2024-08-18T20:32:46.365Z"
   },
   {
    "duration": 275,
    "start_time": "2024-08-18T20:33:00.800Z"
   },
   {
    "duration": 279,
    "start_time": "2024-08-18T20:33:09.811Z"
   },
   {
    "duration": 275,
    "start_time": "2024-08-18T20:33:19.975Z"
   },
   {
    "duration": 279,
    "start_time": "2024-08-18T20:33:23.455Z"
   },
   {
    "duration": 273,
    "start_time": "2024-08-19T00:17:47.133Z"
   },
   {
    "duration": 270,
    "start_time": "2024-08-19T00:17:51.547Z"
   },
   {
    "duration": 281,
    "start_time": "2024-08-19T00:17:56.633Z"
   },
   {
    "duration": 276,
    "start_time": "2024-08-19T01:29:24.867Z"
   },
   {
    "duration": 657,
    "start_time": "2024-08-19T01:29:57.151Z"
   },
   {
    "duration": 1546,
    "start_time": "2024-08-19T01:29:57.812Z"
   },
   {
    "duration": 100,
    "start_time": "2024-08-19T01:29:59.361Z"
   },
   {
    "duration": 42,
    "start_time": "2024-08-19T01:29:59.463Z"
   },
   {
    "duration": 51,
    "start_time": "2024-08-19T01:29:59.530Z"
   },
   {
    "duration": 15,
    "start_time": "2024-08-19T01:29:59.583Z"
   },
   {
    "duration": 114,
    "start_time": "2024-08-19T01:29:59.601Z"
   },
   {
    "duration": 167,
    "start_time": "2024-08-19T01:29:59.718Z"
   },
   {
    "duration": 58,
    "start_time": "2024-08-19T01:29:59.888Z"
   },
   {
    "duration": 23,
    "start_time": "2024-08-19T01:29:59.948Z"
   },
   {
    "duration": 7,
    "start_time": "2024-08-19T01:29:59.976Z"
   },
   {
    "duration": 63,
    "start_time": "2024-08-19T01:29:59.986Z"
   },
   {
    "duration": 7,
    "start_time": "2024-08-19T01:30:00.052Z"
   },
   {
    "duration": 6,
    "start_time": "2024-08-19T01:30:00.066Z"
   },
   {
    "duration": 8,
    "start_time": "2024-08-19T01:30:00.074Z"
   },
   {
    "duration": 1347,
    "start_time": "2024-08-19T01:30:00.085Z"
   },
   {
    "duration": 6,
    "start_time": "2024-08-19T01:30:01.436Z"
   },
   {
    "duration": 10,
    "start_time": "2024-08-19T01:30:01.446Z"
   },
   {
    "duration": 11,
    "start_time": "2024-08-19T01:30:01.459Z"
   },
   {
    "duration": 6,
    "start_time": "2024-08-19T01:30:01.473Z"
   },
   {
    "duration": 49,
    "start_time": "2024-08-19T01:30:01.482Z"
   },
   {
    "duration": 55,
    "start_time": "2024-08-19T01:30:01.535Z"
   },
   {
    "duration": 39,
    "start_time": "2024-08-19T01:30:01.592Z"
   },
   {
    "duration": 48,
    "start_time": "2024-08-19T01:30:01.634Z"
   },
   {
    "duration": 52,
    "start_time": "2024-08-19T01:30:01.685Z"
   },
   {
    "duration": 9,
    "start_time": "2024-08-19T01:30:01.740Z"
   },
   {
    "duration": 869,
    "start_time": "2024-08-19T01:30:01.752Z"
   },
   {
    "duration": 13,
    "start_time": "2024-08-19T01:30:02.624Z"
   },
   {
    "duration": 9,
    "start_time": "2024-08-19T01:30:02.640Z"
   },
   {
    "duration": 331,
    "start_time": "2024-08-19T01:30:02.652Z"
   },
   {
    "duration": 273,
    "start_time": "2024-08-19T01:30:02.985Z"
   },
   {
    "duration": 290,
    "start_time": "2024-08-19T01:30:03.261Z"
   },
   {
    "duration": 352,
    "start_time": "2024-08-19T01:30:25.753Z"
   },
   {
    "duration": 11,
    "start_time": "2024-08-19T01:30:30.048Z"
   },
   {
    "duration": 9,
    "start_time": "2024-08-19T01:31:41.600Z"
   },
   {
    "duration": 9,
    "start_time": "2024-08-19T01:31:54.306Z"
   },
   {
    "duration": 10,
    "start_time": "2024-08-19T01:32:10.934Z"
   },
   {
    "duration": 644,
    "start_time": "2024-08-19T01:32:17.377Z"
   },
   {
    "duration": 1553,
    "start_time": "2024-08-19T01:32:18.026Z"
   },
   {
    "duration": 89,
    "start_time": "2024-08-19T01:32:19.582Z"
   },
   {
    "duration": 41,
    "start_time": "2024-08-19T01:32:19.674Z"
   },
   {
    "duration": 52,
    "start_time": "2024-08-19T01:32:19.730Z"
   },
   {
    "duration": 16,
    "start_time": "2024-08-19T01:32:19.785Z"
   },
   {
    "duration": 106,
    "start_time": "2024-08-19T01:32:19.832Z"
   },
   {
    "duration": 166,
    "start_time": "2024-08-19T01:32:19.941Z"
   },
   {
    "duration": 58,
    "start_time": "2024-08-19T01:32:20.109Z"
   },
   {
    "duration": 22,
    "start_time": "2024-08-19T01:32:20.170Z"
   },
   {
    "duration": 7,
    "start_time": "2024-08-19T01:32:20.195Z"
   },
   {
    "duration": 56,
    "start_time": "2024-08-19T01:32:20.205Z"
   },
   {
    "duration": 8,
    "start_time": "2024-08-19T01:32:20.263Z"
   },
   {
    "duration": 7,
    "start_time": "2024-08-19T01:32:20.278Z"
   },
   {
    "duration": 49,
    "start_time": "2024-08-19T01:32:20.288Z"
   },
   {
    "duration": 1304,
    "start_time": "2024-08-19T01:32:20.340Z"
   },
   {
    "duration": 3,
    "start_time": "2024-08-19T01:32:21.647Z"
   },
   {
    "duration": 13,
    "start_time": "2024-08-19T01:32:21.653Z"
   },
   {
    "duration": 11,
    "start_time": "2024-08-19T01:32:21.669Z"
   },
   {
    "duration": 5,
    "start_time": "2024-08-19T01:32:21.683Z"
   },
   {
    "duration": 54,
    "start_time": "2024-08-19T01:32:21.690Z"
   },
   {
    "duration": 62,
    "start_time": "2024-08-19T01:32:21.747Z"
   },
   {
    "duration": 22,
    "start_time": "2024-08-19T01:32:21.815Z"
   },
   {
    "duration": 47,
    "start_time": "2024-08-19T01:32:21.839Z"
   },
   {
    "duration": 63,
    "start_time": "2024-08-19T01:32:21.889Z"
   },
   {
    "duration": 9,
    "start_time": "2024-08-19T01:32:21.955Z"
   },
   {
    "duration": 875,
    "start_time": "2024-08-19T01:32:21.967Z"
   },
   {
    "duration": 8,
    "start_time": "2024-08-19T01:32:22.845Z"
   },
   {
    "duration": 8,
    "start_time": "2024-08-19T01:32:22.856Z"
   },
   {
    "duration": 329,
    "start_time": "2024-08-19T01:32:22.867Z"
   },
   {
    "duration": 273,
    "start_time": "2024-08-19T01:32:23.199Z"
   },
   {
    "duration": 305,
    "start_time": "2024-08-19T01:32:23.475Z"
   },
   {
    "duration": 10,
    "start_time": "2024-08-19T01:34:09.232Z"
   },
   {
    "duration": 10,
    "start_time": "2024-08-19T01:34:31.258Z"
   },
   {
    "duration": 48,
    "start_time": "2024-08-19T01:35:35.666Z"
   },
   {
    "duration": 10,
    "start_time": "2024-08-19T01:37:13.132Z"
   },
   {
    "duration": 13,
    "start_time": "2024-08-19T01:38:42.533Z"
   },
   {
    "duration": 11,
    "start_time": "2024-08-19T01:38:47.699Z"
   },
   {
    "duration": 17,
    "start_time": "2024-08-19T01:38:58.606Z"
   },
   {
    "duration": 683,
    "start_time": "2024-08-19T01:39:08.011Z"
   },
   {
    "duration": 1575,
    "start_time": "2024-08-19T01:39:08.698Z"
   },
   {
    "duration": 88,
    "start_time": "2024-08-19T01:39:10.275Z"
   },
   {
    "duration": 42,
    "start_time": "2024-08-19T01:39:10.365Z"
   },
   {
    "duration": 51,
    "start_time": "2024-08-19T01:39:10.430Z"
   },
   {
    "duration": 14,
    "start_time": "2024-08-19T01:39:10.485Z"
   },
   {
    "duration": 91,
    "start_time": "2024-08-19T01:39:10.530Z"
   },
   {
    "duration": 166,
    "start_time": "2024-08-19T01:39:10.630Z"
   },
   {
    "duration": 55,
    "start_time": "2024-08-19T01:39:10.799Z"
   },
   {
    "duration": 23,
    "start_time": "2024-08-19T01:39:10.856Z"
   },
   {
    "duration": 6,
    "start_time": "2024-08-19T01:39:10.882Z"
   },
   {
    "duration": 61,
    "start_time": "2024-08-19T01:39:10.891Z"
   },
   {
    "duration": 7,
    "start_time": "2024-08-19T01:39:10.956Z"
   },
   {
    "duration": 6,
    "start_time": "2024-08-19T01:39:10.970Z"
   },
   {
    "duration": 7,
    "start_time": "2024-08-19T01:39:10.980Z"
   },
   {
    "duration": 1335,
    "start_time": "2024-08-19T01:39:11.032Z"
   },
   {
    "duration": 4,
    "start_time": "2024-08-19T01:39:12.371Z"
   },
   {
    "duration": 16,
    "start_time": "2024-08-19T01:39:12.379Z"
   },
   {
    "duration": 36,
    "start_time": "2024-08-19T01:39:12.398Z"
   },
   {
    "duration": 7,
    "start_time": "2024-08-19T01:39:12.437Z"
   },
   {
    "duration": 9,
    "start_time": "2024-08-19T01:39:12.447Z"
   },
   {
    "duration": 81,
    "start_time": "2024-08-19T01:39:12.459Z"
   },
   {
    "duration": 10,
    "start_time": "2024-08-19T01:39:12.543Z"
   },
   {
    "duration": 49,
    "start_time": "2024-08-19T01:39:12.555Z"
   },
   {
    "duration": 30,
    "start_time": "2024-08-19T01:39:12.633Z"
   },
   {
    "duration": 8,
    "start_time": "2024-08-19T01:39:12.666Z"
   },
   {
    "duration": 872,
    "start_time": "2024-08-19T01:39:12.678Z"
   },
   {
    "duration": 8,
    "start_time": "2024-08-19T01:39:13.553Z"
   },
   {
    "duration": 9,
    "start_time": "2024-08-19T01:39:13.565Z"
   },
   {
    "duration": 329,
    "start_time": "2024-08-19T01:39:13.577Z"
   },
   {
    "duration": 264,
    "start_time": "2024-08-19T01:39:13.910Z"
   },
   {
    "duration": 299,
    "start_time": "2024-08-19T01:39:14.177Z"
   },
   {
    "duration": 268,
    "start_time": "2024-08-19T01:39:29.970Z"
   },
   {
    "duration": 292,
    "start_time": "2024-08-19T01:39:38.449Z"
   },
   {
    "duration": 282,
    "start_time": "2024-08-19T01:39:42.900Z"
   },
   {
    "duration": 11,
    "start_time": "2024-08-19T01:43:58.769Z"
   },
   {
    "duration": 69,
    "start_time": "2024-08-19T01:44:06.992Z"
   },
   {
    "duration": 350,
    "start_time": "2024-08-19T01:47:26.020Z"
   },
   {
    "duration": 21,
    "start_time": "2024-08-19T01:47:58.274Z"
   },
   {
    "duration": 22,
    "start_time": "2024-08-19T01:48:01.556Z"
   },
   {
    "duration": 239,
    "start_time": "2024-08-19T01:48:06.306Z"
   },
   {
    "duration": 199,
    "start_time": "2024-08-19T01:48:11.113Z"
   },
   {
    "duration": 64,
    "start_time": "2024-08-19T01:48:39.081Z"
   },
   {
    "duration": 48,
    "start_time": "2024-08-19T01:48:47.229Z"
   },
   {
    "duration": 48,
    "start_time": "2024-08-19T01:48:57.257Z"
   },
   {
    "duration": 671,
    "start_time": "2024-08-19T01:49:12.816Z"
   },
   {
    "duration": 1547,
    "start_time": "2024-08-19T01:49:13.490Z"
   },
   {
    "duration": 76,
    "start_time": "2024-08-19T01:49:15.039Z"
   },
   {
    "duration": 44,
    "start_time": "2024-08-19T01:49:15.131Z"
   },
   {
    "duration": 71,
    "start_time": "2024-08-19T01:49:15.178Z"
   },
   {
    "duration": 15,
    "start_time": "2024-08-19T01:49:15.251Z"
   },
   {
    "duration": 114,
    "start_time": "2024-08-19T01:49:15.269Z"
   },
   {
    "duration": 167,
    "start_time": "2024-08-19T01:49:15.386Z"
   },
   {
    "duration": 48,
    "start_time": "2024-08-19T01:49:15.556Z"
   },
   {
    "duration": 24,
    "start_time": "2024-08-19T01:49:15.630Z"
   },
   {
    "duration": 7,
    "start_time": "2024-08-19T01:49:15.657Z"
   },
   {
    "duration": 31,
    "start_time": "2024-08-19T01:49:15.667Z"
   },
   {
    "duration": 36,
    "start_time": "2024-08-19T01:49:15.700Z"
   },
   {
    "duration": 8,
    "start_time": "2024-08-19T01:49:15.739Z"
   },
   {
    "duration": 8,
    "start_time": "2024-08-19T01:49:15.750Z"
   },
   {
    "duration": 1337,
    "start_time": "2024-08-19T01:49:15.761Z"
   },
   {
    "duration": 4,
    "start_time": "2024-08-19T01:49:17.101Z"
   },
   {
    "duration": 27,
    "start_time": "2024-08-19T01:49:17.111Z"
   },
   {
    "duration": 12,
    "start_time": "2024-08-19T01:49:17.141Z"
   },
   {
    "duration": 5,
    "start_time": "2024-08-19T01:49:17.156Z"
   },
   {
    "duration": 9,
    "start_time": "2024-08-19T01:49:17.165Z"
   },
   {
    "duration": 92,
    "start_time": "2024-08-19T01:49:17.176Z"
   },
   {
    "duration": 10,
    "start_time": "2024-08-19T01:49:17.271Z"
   },
   {
    "duration": 82,
    "start_time": "2024-08-19T01:49:17.284Z"
   },
   {
    "duration": 29,
    "start_time": "2024-08-19T01:49:17.369Z"
   },
   {
    "duration": 31,
    "start_time": "2024-08-19T01:49:17.401Z"
   },
   {
    "duration": 865,
    "start_time": "2024-08-19T01:49:17.438Z"
   },
   {
    "duration": 19,
    "start_time": "2024-08-19T01:49:18.311Z"
   },
   {
    "duration": 8,
    "start_time": "2024-08-19T01:49:18.333Z"
   },
   {
    "duration": 324,
    "start_time": "2024-08-19T01:49:18.344Z"
   },
   {
    "duration": 270,
    "start_time": "2024-08-19T01:49:18.671Z"
   },
   {
    "duration": 302,
    "start_time": "2024-08-19T01:49:18.945Z"
   },
   {
    "duration": 269,
    "start_time": "2024-08-19T01:52:37.570Z"
   },
   {
    "duration": 266,
    "start_time": "2024-08-19T01:52:46.016Z"
   },
   {
    "duration": 268,
    "start_time": "2024-08-19T01:52:53.365Z"
   },
   {
    "duration": 270,
    "start_time": "2024-08-19T01:52:56.023Z"
   },
   {
    "duration": 3147,
    "start_time": "2024-08-19T01:53:24.383Z"
   },
   {
    "duration": 8,
    "start_time": "2024-08-19T01:53:56.467Z"
   },
   {
    "duration": 6,
    "start_time": "2024-08-19T01:54:03.641Z"
   },
   {
    "duration": 1824,
    "start_time": "2024-08-19T01:54:07.535Z"
   },
   {
    "duration": 685,
    "start_time": "2024-08-19T01:56:35.552Z"
   },
   {
    "duration": 1699,
    "start_time": "2024-08-19T01:56:36.241Z"
   },
   {
    "duration": 93,
    "start_time": "2024-08-19T01:56:37.944Z"
   },
   {
    "duration": 42,
    "start_time": "2024-08-19T01:56:38.039Z"
   },
   {
    "duration": 73,
    "start_time": "2024-08-19T01:56:38.087Z"
   },
   {
    "duration": 14,
    "start_time": "2024-08-19T01:56:38.163Z"
   },
   {
    "duration": 120,
    "start_time": "2024-08-19T01:56:38.182Z"
   },
   {
    "duration": 177,
    "start_time": "2024-08-19T01:56:38.304Z"
   },
   {
    "duration": 59,
    "start_time": "2024-08-19T01:56:38.484Z"
   },
   {
    "duration": 22,
    "start_time": "2024-08-19T01:56:38.545Z"
   },
   {
    "duration": 7,
    "start_time": "2024-08-19T01:56:38.570Z"
   },
   {
    "duration": 62,
    "start_time": "2024-08-19T01:56:38.580Z"
   },
   {
    "duration": 7,
    "start_time": "2024-08-19T01:56:38.647Z"
   },
   {
    "duration": 6,
    "start_time": "2024-08-19T01:56:38.660Z"
   },
   {
    "duration": 7,
    "start_time": "2024-08-19T01:56:38.670Z"
   },
   {
    "duration": 1355,
    "start_time": "2024-08-19T01:56:38.680Z"
   },
   {
    "duration": 4,
    "start_time": "2024-08-19T01:56:40.039Z"
   },
   {
    "duration": 12,
    "start_time": "2024-08-19T01:56:40.046Z"
   },
   {
    "duration": 11,
    "start_time": "2024-08-19T01:56:40.063Z"
   },
   {
    "duration": 5,
    "start_time": "2024-08-19T01:56:40.078Z"
   },
   {
    "duration": 11,
    "start_time": "2024-08-19T01:56:40.130Z"
   },
   {
    "duration": 55,
    "start_time": "2024-08-19T01:56:40.145Z"
   },
   {
    "duration": 33,
    "start_time": "2024-08-19T01:56:40.204Z"
   },
   {
    "duration": 49,
    "start_time": "2024-08-19T01:56:40.240Z"
   },
   {
    "duration": 61,
    "start_time": "2024-08-19T01:56:40.292Z"
   },
   {
    "duration": 8,
    "start_time": "2024-08-19T01:56:40.356Z"
   },
   {
    "duration": 859,
    "start_time": "2024-08-19T01:56:40.366Z"
   },
   {
    "duration": 8,
    "start_time": "2024-08-19T01:56:41.230Z"
   },
   {
    "duration": 8,
    "start_time": "2024-08-19T01:56:41.241Z"
   },
   {
    "duration": 674,
    "start_time": "2024-08-19T01:57:25.250Z"
   },
   {
    "duration": 1654,
    "start_time": "2024-08-19T01:57:25.931Z"
   },
   {
    "duration": 89,
    "start_time": "2024-08-19T01:57:27.588Z"
   },
   {
    "duration": 54,
    "start_time": "2024-08-19T01:57:27.680Z"
   },
   {
    "duration": 51,
    "start_time": "2024-08-19T01:57:27.739Z"
   },
   {
    "duration": 39,
    "start_time": "2024-08-19T01:57:27.793Z"
   },
   {
    "duration": 103,
    "start_time": "2024-08-19T01:57:27.835Z"
   },
   {
    "duration": 169,
    "start_time": "2024-08-19T01:57:27.941Z"
   },
   {
    "duration": 57,
    "start_time": "2024-08-19T01:57:28.114Z"
   },
   {
    "duration": 22,
    "start_time": "2024-08-19T01:57:28.174Z"
   },
   {
    "duration": 31,
    "start_time": "2024-08-19T01:57:28.200Z"
   },
   {
    "duration": 34,
    "start_time": "2024-08-19T01:57:28.234Z"
   },
   {
    "duration": 7,
    "start_time": "2024-08-19T01:57:28.271Z"
   },
   {
    "duration": 46,
    "start_time": "2024-08-19T01:57:28.286Z"
   },
   {
    "duration": 8,
    "start_time": "2024-08-19T01:57:28.335Z"
   },
   {
    "duration": 1324,
    "start_time": "2024-08-19T01:57:28.346Z"
   },
   {
    "duration": 3,
    "start_time": "2024-08-19T01:57:29.673Z"
   },
   {
    "duration": 11,
    "start_time": "2024-08-19T01:57:29.679Z"
   },
   {
    "duration": 39,
    "start_time": "2024-08-19T01:57:29.693Z"
   },
   {
    "duration": 5,
    "start_time": "2024-08-19T01:57:29.735Z"
   },
   {
    "duration": 10,
    "start_time": "2024-08-19T01:57:29.743Z"
   },
   {
    "duration": 81,
    "start_time": "2024-08-19T01:57:29.755Z"
   },
   {
    "duration": 12,
    "start_time": "2024-08-19T01:57:29.839Z"
   },
   {
    "duration": 48,
    "start_time": "2024-08-19T01:57:29.854Z"
   },
   {
    "duration": 30,
    "start_time": "2024-08-19T01:57:29.931Z"
   },
   {
    "duration": 8,
    "start_time": "2024-08-19T01:57:29.964Z"
   },
   {
    "duration": 859,
    "start_time": "2024-08-19T01:57:29.976Z"
   },
   {
    "duration": 9,
    "start_time": "2024-08-19T01:57:30.838Z"
   },
   {
    "duration": 8,
    "start_time": "2024-08-19T01:57:30.850Z"
   },
   {
    "duration": 318,
    "start_time": "2024-08-19T01:59:27.276Z"
   },
   {
    "duration": 667,
    "start_time": "2024-08-19T01:59:39.168Z"
   },
   {
    "duration": 1722,
    "start_time": "2024-08-19T01:59:39.838Z"
   },
   {
    "duration": 92,
    "start_time": "2024-08-19T01:59:41.562Z"
   },
   {
    "duration": 43,
    "start_time": "2024-08-19T01:59:41.656Z"
   },
   {
    "duration": 79,
    "start_time": "2024-08-19T01:59:41.704Z"
   },
   {
    "duration": 18,
    "start_time": "2024-08-19T01:59:41.786Z"
   },
   {
    "duration": 141,
    "start_time": "2024-08-19T01:59:41.807Z"
   },
   {
    "duration": 190,
    "start_time": "2024-08-19T01:59:41.951Z"
   },
   {
    "duration": 46,
    "start_time": "2024-08-19T01:59:42.143Z"
   },
   {
    "duration": 56,
    "start_time": "2024-08-19T01:59:42.192Z"
   },
   {
    "duration": 6,
    "start_time": "2024-08-19T01:59:42.251Z"
   },
   {
    "duration": 36,
    "start_time": "2024-08-19T01:59:42.261Z"
   },
   {
    "duration": 35,
    "start_time": "2024-08-19T01:59:42.299Z"
   },
   {
    "duration": 7,
    "start_time": "2024-08-19T01:59:42.342Z"
   },
   {
    "duration": 7,
    "start_time": "2024-08-19T01:59:42.352Z"
   },
   {
    "duration": 1342,
    "start_time": "2024-08-19T01:59:42.362Z"
   },
   {
    "duration": 3,
    "start_time": "2024-08-19T01:59:43.708Z"
   },
   {
    "duration": 24,
    "start_time": "2024-08-19T01:59:43.714Z"
   },
   {
    "duration": 10,
    "start_time": "2024-08-19T01:59:43.741Z"
   },
   {
    "duration": 5,
    "start_time": "2024-08-19T01:59:43.754Z"
   },
   {
    "duration": 9,
    "start_time": "2024-08-19T01:59:43.762Z"
   },
   {
    "duration": 94,
    "start_time": "2024-08-19T01:59:43.774Z"
   },
   {
    "duration": 10,
    "start_time": "2024-08-19T01:59:43.871Z"
   },
   {
    "duration": 78,
    "start_time": "2024-08-19T01:59:43.885Z"
   },
   {
    "duration": 30,
    "start_time": "2024-08-19T01:59:43.967Z"
   },
   {
    "duration": 34,
    "start_time": "2024-08-19T01:59:43.999Z"
   },
   {
    "duration": 855,
    "start_time": "2024-08-19T01:59:44.037Z"
   },
   {
    "duration": 8,
    "start_time": "2024-08-19T01:59:44.895Z"
   },
   {
    "duration": 25,
    "start_time": "2024-08-19T01:59:44.905Z"
   },
   {
    "duration": 366,
    "start_time": "2024-08-19T01:59:44.933Z"
   },
   {
    "duration": 270,
    "start_time": "2024-08-19T01:59:45.301Z"
   },
   {
    "duration": 295,
    "start_time": "2024-08-19T01:59:45.574Z"
   },
   {
    "duration": 332,
    "start_time": "2024-08-19T02:00:06.935Z"
   },
   {
    "duration": 334,
    "start_time": "2024-08-19T02:00:37.423Z"
   },
   {
    "duration": 357,
    "start_time": "2024-08-19T02:01:32.587Z"
   },
   {
    "duration": 352,
    "start_time": "2024-08-19T02:02:04.128Z"
   },
   {
    "duration": 349,
    "start_time": "2024-08-19T02:02:20.181Z"
   },
   {
    "duration": 6,
    "start_time": "2024-08-19T02:04:33.133Z"
   },
   {
    "duration": 7,
    "start_time": "2024-08-19T02:04:39.092Z"
   },
   {
    "duration": 238,
    "start_time": "2024-08-19T02:04:47.054Z"
   },
   {
    "duration": 229,
    "start_time": "2024-08-19T02:04:56.214Z"
   },
   {
    "duration": 287,
    "start_time": "2024-08-19T02:05:00.031Z"
   },
   {
    "duration": 233,
    "start_time": "2024-08-19T02:05:04.789Z"
   },
   {
    "duration": 1590,
    "start_time": "2024-08-19T02:06:23.259Z"
   },
   {
    "duration": 343,
    "start_time": "2024-08-19T02:06:37.836Z"
   },
   {
    "duration": 235,
    "start_time": "2024-08-19T02:06:52.779Z"
   },
   {
    "duration": 7,
    "start_time": "2024-08-19T02:07:11.076Z"
   },
   {
    "duration": 424,
    "start_time": "2024-08-19T02:07:16.176Z"
   },
   {
    "duration": 7,
    "start_time": "2024-08-19T02:07:22.818Z"
   },
   {
    "duration": 360,
    "start_time": "2024-08-19T02:08:32.157Z"
   },
   {
    "duration": 349,
    "start_time": "2024-08-19T02:08:38.332Z"
   },
   {
    "duration": 368,
    "start_time": "2024-08-19T02:09:11.876Z"
   },
   {
    "duration": 345,
    "start_time": "2024-08-19T02:10:03.563Z"
   },
   {
    "duration": 483,
    "start_time": "2024-08-19T02:10:07.521Z"
   },
   {
    "duration": 242,
    "start_time": "2024-08-19T02:10:20.529Z"
   },
   {
    "duration": 339,
    "start_time": "2024-08-19T02:10:30.797Z"
   },
   {
    "duration": 793,
    "start_time": "2024-08-19T02:12:43.827Z"
   },
   {
    "duration": 159,
    "start_time": "2024-08-19T02:14:51.282Z"
   },
   {
    "duration": 1017,
    "start_time": "2024-08-19T02:15:59.699Z"
   },
   {
    "duration": 119,
    "start_time": "2024-08-19T02:16:15.372Z"
   },
   {
    "duration": 148,
    "start_time": "2024-08-19T02:16:28.422Z"
   },
   {
    "duration": 151,
    "start_time": "2024-08-19T02:16:50.019Z"
   },
   {
    "duration": 6,
    "start_time": "2024-08-19T02:18:30.774Z"
   },
   {
    "duration": 7,
    "start_time": "2024-08-19T02:18:54.116Z"
   },
   {
    "duration": 645,
    "start_time": "2024-08-19T02:19:27.300Z"
   },
   {
    "duration": 1535,
    "start_time": "2024-08-19T02:19:27.948Z"
   },
   {
    "duration": 89,
    "start_time": "2024-08-19T02:19:29.486Z"
   },
   {
    "duration": 52,
    "start_time": "2024-08-19T02:19:29.578Z"
   },
   {
    "duration": 50,
    "start_time": "2024-08-19T02:19:29.635Z"
   },
   {
    "duration": 15,
    "start_time": "2024-08-19T02:19:29.688Z"
   },
   {
    "duration": 90,
    "start_time": "2024-08-19T02:19:29.729Z"
   },
   {
    "duration": 169,
    "start_time": "2024-08-19T02:19:29.832Z"
   },
   {
    "duration": 63,
    "start_time": "2024-08-19T02:19:30.005Z"
   },
   {
    "duration": 22,
    "start_time": "2024-08-19T02:19:30.071Z"
   },
   {
    "duration": 8,
    "start_time": "2024-08-19T02:19:30.095Z"
   },
   {
    "duration": 32,
    "start_time": "2024-08-19T02:19:30.132Z"
   },
   {
    "duration": 7,
    "start_time": "2024-08-19T02:19:30.166Z"
   },
   {
    "duration": 7,
    "start_time": "2024-08-19T02:19:30.179Z"
   },
   {
    "duration": 44,
    "start_time": "2024-08-19T02:19:30.190Z"
   },
   {
    "duration": 1329,
    "start_time": "2024-08-19T02:19:30.237Z"
   },
   {
    "duration": 4,
    "start_time": "2024-08-19T02:19:31.568Z"
   },
   {
    "duration": 13,
    "start_time": "2024-08-19T02:19:31.575Z"
   },
   {
    "duration": 41,
    "start_time": "2024-08-19T02:19:31.590Z"
   },
   {
    "duration": 5,
    "start_time": "2024-08-19T02:19:31.634Z"
   },
   {
    "duration": 9,
    "start_time": "2024-08-19T02:19:31.643Z"
   },
   {
    "duration": 81,
    "start_time": "2024-08-19T02:19:31.655Z"
   },
   {
    "duration": 11,
    "start_time": "2024-08-19T02:19:31.739Z"
   },
   {
    "duration": 82,
    "start_time": "2024-08-19T02:19:31.756Z"
   },
   {
    "duration": 29,
    "start_time": "2024-08-19T02:19:31.841Z"
   },
   {
    "duration": 9,
    "start_time": "2024-08-19T02:19:31.872Z"
   },
   {
    "duration": 893,
    "start_time": "2024-08-19T02:19:31.884Z"
   },
   {
    "duration": 8,
    "start_time": "2024-08-19T02:19:32.780Z"
   },
   {
    "duration": 9,
    "start_time": "2024-08-19T02:19:32.790Z"
   },
   {
    "duration": 400,
    "start_time": "2024-08-19T02:19:32.802Z"
   },
   {
    "duration": 7,
    "start_time": "2024-08-19T02:19:33.206Z"
   },
   {
    "duration": 0,
    "start_time": "2024-08-19T02:19:33.231Z"
   },
   {
    "duration": 7,
    "start_time": "2024-08-19T02:20:35.255Z"
   },
   {
    "duration": 6,
    "start_time": "2024-08-19T02:20:39.977Z"
   },
   {
    "duration": 1276,
    "start_time": "2024-08-19T02:22:19.463Z"
   },
   {
    "duration": 7,
    "start_time": "2024-08-19T02:23:09.400Z"
   },
   {
    "duration": 324,
    "start_time": "2024-08-19T02:25:42.317Z"
   },
   {
    "duration": 1623,
    "start_time": "2024-08-19T02:25:58.552Z"
   },
   {
    "duration": 7,
    "start_time": "2024-08-19T02:26:28.500Z"
   },
   {
    "duration": 7,
    "start_time": "2024-08-19T02:26:33.687Z"
   },
   {
    "duration": 7,
    "start_time": "2024-08-19T02:26:38.311Z"
   },
   {
    "duration": 800,
    "start_time": "2024-08-19T02:26:47.779Z"
   },
   {
    "duration": 379,
    "start_time": "2024-08-19T02:26:56.899Z"
   },
   {
    "duration": 8,
    "start_time": "2024-08-19T02:28:26.954Z"
   },
   {
    "duration": 1275,
    "start_time": "2024-08-19T02:28:34.771Z"
   },
   {
    "duration": 633,
    "start_time": "2024-08-19T02:29:20.079Z"
   },
   {
    "duration": 456,
    "start_time": "2024-08-19T02:29:35.541Z"
   },
   {
    "duration": 478,
    "start_time": "2024-08-19T02:30:08.123Z"
   },
   {
    "duration": 486,
    "start_time": "2024-08-19T02:30:32.776Z"
   },
   {
    "duration": 502,
    "start_time": "2024-08-19T02:30:40.107Z"
   },
   {
    "duration": 378,
    "start_time": "2024-08-19T02:30:55.455Z"
   },
   {
    "duration": 373,
    "start_time": "2024-08-19T02:31:30.898Z"
   },
   {
    "duration": 281,
    "start_time": "2024-08-19T02:31:59.711Z"
   },
   {
    "duration": 672,
    "start_time": "2024-08-19T02:32:08.108Z"
   },
   {
    "duration": 1551,
    "start_time": "2024-08-19T02:32:08.784Z"
   },
   {
    "duration": 76,
    "start_time": "2024-08-19T02:32:10.338Z"
   },
   {
    "duration": 45,
    "start_time": "2024-08-19T02:32:10.430Z"
   },
   {
    "duration": 66,
    "start_time": "2024-08-19T02:32:10.479Z"
   },
   {
    "duration": 16,
    "start_time": "2024-08-19T02:32:10.548Z"
   },
   {
    "duration": 122,
    "start_time": "2024-08-19T02:32:10.566Z"
   },
   {
    "duration": 166,
    "start_time": "2024-08-19T02:32:10.691Z"
   },
   {
    "duration": 46,
    "start_time": "2024-08-19T02:32:10.859Z"
   },
   {
    "duration": 23,
    "start_time": "2024-08-19T02:32:10.932Z"
   },
   {
    "duration": 7,
    "start_time": "2024-08-19T02:32:10.959Z"
   },
   {
    "duration": 30,
    "start_time": "2024-08-19T02:32:10.969Z"
   },
   {
    "duration": 8,
    "start_time": "2024-08-19T02:32:11.031Z"
   },
   {
    "duration": 7,
    "start_time": "2024-08-19T02:32:11.042Z"
   },
   {
    "duration": 7,
    "start_time": "2024-08-19T02:32:11.053Z"
   },
   {
    "duration": 1360,
    "start_time": "2024-08-19T02:32:11.063Z"
   },
   {
    "duration": 1311,
    "start_time": "2024-08-19T02:32:12.430Z"
   },
   {
    "duration": 10,
    "start_time": "2024-08-19T02:32:13.744Z"
   },
   {
    "duration": 12,
    "start_time": "2024-08-19T02:32:13.757Z"
   },
   {
    "duration": 5,
    "start_time": "2024-08-19T02:32:13.772Z"
   },
   {
    "duration": 8,
    "start_time": "2024-08-19T02:32:13.780Z"
   },
   {
    "duration": 47,
    "start_time": "2024-08-19T02:32:13.832Z"
   },
   {
    "duration": 10,
    "start_time": "2024-08-19T02:32:13.882Z"
   },
   {
    "duration": 75,
    "start_time": "2024-08-19T02:32:13.895Z"
   },
   {
    "duration": 21,
    "start_time": "2024-08-19T02:32:13.973Z"
   },
   {
    "duration": 39,
    "start_time": "2024-08-19T02:32:13.996Z"
   },
   {
    "duration": 920,
    "start_time": "2024-08-19T02:32:14.038Z"
   },
   {
    "duration": 8,
    "start_time": "2024-08-19T02:32:14.964Z"
   },
   {
    "duration": 8,
    "start_time": "2024-08-19T02:32:14.975Z"
   },
   {
    "duration": 398,
    "start_time": "2024-08-19T02:32:14.985Z"
   },
   {
    "duration": 244,
    "start_time": "2024-08-19T02:32:15.386Z"
   },
   {
    "duration": 300,
    "start_time": "2024-08-19T02:32:15.633Z"
   },
   {
    "duration": 317,
    "start_time": "2024-08-19T02:32:28.894Z"
   },
   {
    "duration": 1754,
    "start_time": "2024-08-19T02:34:47.676Z"
   },
   {
    "duration": 386,
    "start_time": "2024-08-19T02:35:07.654Z"
   },
   {
    "duration": 438,
    "start_time": "2024-08-19T02:35:40.085Z"
   },
   {
    "duration": 364,
    "start_time": "2024-08-19T02:35:47.026Z"
   },
   {
    "duration": 350,
    "start_time": "2024-08-19T02:35:52.375Z"
   },
   {
    "duration": 350,
    "start_time": "2024-08-19T02:35:57.026Z"
   },
   {
    "duration": 364,
    "start_time": "2024-08-19T02:36:01.939Z"
   },
   {
    "duration": 341,
    "start_time": "2024-08-19T02:36:06.017Z"
   },
   {
    "duration": 353,
    "start_time": "2024-08-19T02:36:10.930Z"
   },
   {
    "duration": 355,
    "start_time": "2024-08-19T02:36:20.470Z"
   },
   {
    "duration": 338,
    "start_time": "2024-08-19T02:36:28.737Z"
   },
   {
    "duration": 392,
    "start_time": "2024-08-19T02:36:52.130Z"
   },
   {
    "duration": 381,
    "start_time": "2024-08-19T02:37:13.725Z"
   },
   {
    "duration": 489,
    "start_time": "2024-08-19T02:37:23.268Z"
   },
   {
    "duration": 374,
    "start_time": "2024-08-19T02:40:24.436Z"
   },
   {
    "duration": 384,
    "start_time": "2024-08-19T02:41:22.992Z"
   },
   {
    "duration": 382,
    "start_time": "2024-08-19T02:41:30.616Z"
   },
   {
    "duration": 418,
    "start_time": "2024-08-19T02:42:30.795Z"
   },
   {
    "duration": 6,
    "start_time": "2024-08-19T02:42:43.650Z"
   },
   {
    "duration": 382,
    "start_time": "2024-08-19T02:42:46.014Z"
   },
   {
    "duration": 229,
    "start_time": "2024-08-19T02:43:08.170Z"
   },
   {
    "duration": 211,
    "start_time": "2024-08-19T02:43:14.758Z"
   },
   {
    "duration": 223,
    "start_time": "2024-08-19T02:43:20.810Z"
   },
   {
    "duration": 1247,
    "start_time": "2024-08-19T02:44:13.125Z"
   },
   {
    "duration": 97,
    "start_time": "2024-08-19T02:44:43.700Z"
   },
   {
    "duration": 699,
    "start_time": "2024-08-19T02:44:49.317Z"
   },
   {
    "duration": 1556,
    "start_time": "2024-08-19T02:44:50.019Z"
   },
   {
    "duration": 84,
    "start_time": "2024-08-19T02:44:51.578Z"
   },
   {
    "duration": 42,
    "start_time": "2024-08-19T02:44:51.666Z"
   },
   {
    "duration": 66,
    "start_time": "2024-08-19T02:44:51.731Z"
   },
   {
    "duration": 37,
    "start_time": "2024-08-19T02:44:51.801Z"
   },
   {
    "duration": 111,
    "start_time": "2024-08-19T02:44:51.841Z"
   },
   {
    "duration": 178,
    "start_time": "2024-08-19T02:44:51.954Z"
   },
   {
    "duration": 48,
    "start_time": "2024-08-19T02:44:52.136Z"
   },
   {
    "duration": 50,
    "start_time": "2024-08-19T02:44:52.192Z"
   },
   {
    "duration": 8,
    "start_time": "2024-08-19T02:44:52.245Z"
   },
   {
    "duration": 31,
    "start_time": "2024-08-19T02:44:52.256Z"
   },
   {
    "duration": 42,
    "start_time": "2024-08-19T02:44:52.289Z"
   },
   {
    "duration": 11,
    "start_time": "2024-08-19T02:44:52.334Z"
   },
   {
    "duration": 7,
    "start_time": "2024-08-19T02:44:52.350Z"
   },
   {
    "duration": 1316,
    "start_time": "2024-08-19T02:44:52.360Z"
   },
   {
    "duration": 1300,
    "start_time": "2024-08-19T02:44:53.680Z"
   },
   {
    "duration": 10,
    "start_time": "2024-08-19T02:44:54.983Z"
   },
   {
    "duration": 35,
    "start_time": "2024-08-19T02:44:54.996Z"
   },
   {
    "duration": 8,
    "start_time": "2024-08-19T02:44:55.035Z"
   },
   {
    "duration": 11,
    "start_time": "2024-08-19T02:44:55.046Z"
   },
   {
    "duration": 86,
    "start_time": "2024-08-19T02:44:55.061Z"
   },
   {
    "duration": 10,
    "start_time": "2024-08-19T02:44:55.150Z"
   },
   {
    "duration": 70,
    "start_time": "2024-08-19T02:44:55.163Z"
   },
   {
    "duration": 20,
    "start_time": "2024-08-19T02:44:55.236Z"
   },
   {
    "duration": 8,
    "start_time": "2024-08-19T02:44:55.259Z"
   },
   {
    "duration": 867,
    "start_time": "2024-08-19T02:44:55.270Z"
   },
   {
    "duration": 8,
    "start_time": "2024-08-19T02:44:56.145Z"
   },
   {
    "duration": 10,
    "start_time": "2024-08-19T02:44:56.156Z"
   },
   {
    "duration": 398,
    "start_time": "2024-08-19T02:44:56.169Z"
   },
   {
    "duration": 319,
    "start_time": "2024-08-19T02:44:56.570Z"
   },
   {
    "duration": 1445,
    "start_time": "2024-08-19T02:44:56.893Z"
   },
   {
    "duration": 23,
    "start_time": "2024-08-19T02:45:48.101Z"
   },
   {
    "duration": 28,
    "start_time": "2024-08-19T02:46:06.904Z"
   },
   {
    "duration": 96,
    "start_time": "2024-08-19T02:46:10.246Z"
   },
   {
    "duration": 473,
    "start_time": "2024-08-19T02:46:35.198Z"
   },
   {
    "duration": 383,
    "start_time": "2024-08-19T02:46:43.373Z"
   },
   {
    "duration": 397,
    "start_time": "2024-08-19T02:46:47.339Z"
   },
   {
    "duration": 417,
    "start_time": "2024-08-19T02:47:00.257Z"
   },
   {
    "duration": 2124,
    "start_time": "2024-08-19T02:47:41.211Z"
   },
   {
    "duration": 344,
    "start_time": "2024-08-19T02:47:48.856Z"
   },
   {
    "duration": 441,
    "start_time": "2024-08-19T02:56:39.982Z"
   },
   {
    "duration": 430,
    "start_time": "2024-08-19T02:56:52.947Z"
   },
   {
    "duration": 7,
    "start_time": "2024-08-19T03:00:55.617Z"
   },
   {
    "duration": 8,
    "start_time": "2024-08-19T03:01:01.315Z"
   },
   {
    "duration": 363,
    "start_time": "2024-08-19T03:01:05.037Z"
   },
   {
    "duration": 357,
    "start_time": "2024-08-19T03:01:21.594Z"
   },
   {
    "duration": 423,
    "start_time": "2024-08-19T03:01:35.223Z"
   },
   {
    "duration": 26,
    "start_time": "2024-08-19T03:02:56.230Z"
   },
   {
    "duration": 78,
    "start_time": "2024-08-19T03:03:00.499Z"
   },
   {
    "duration": 257,
    "start_time": "2024-08-19T03:03:01.479Z"
   },
   {
    "duration": 8,
    "start_time": "2024-08-19T03:03:26.291Z"
   },
   {
    "duration": 6,
    "start_time": "2024-08-19T03:03:32.421Z"
   },
   {
    "duration": 261,
    "start_time": "2024-08-19T03:04:00.797Z"
   },
   {
    "duration": 287,
    "start_time": "2024-08-19T03:05:02.327Z"
   },
   {
    "duration": 390,
    "start_time": "2024-08-19T03:05:48.775Z"
   },
   {
    "duration": 384,
    "start_time": "2024-08-19T03:06:07.432Z"
   },
   {
    "duration": 383,
    "start_time": "2024-08-19T03:06:21.720Z"
   },
   {
    "duration": 426,
    "start_time": "2024-08-19T03:07:08.767Z"
   },
   {
    "duration": 368,
    "start_time": "2024-08-19T03:07:20.372Z"
   },
   {
    "duration": 392,
    "start_time": "2024-08-22T00:09:34.971Z"
   },
   {
    "duration": 421,
    "start_time": "2024-08-22T00:09:58.340Z"
   },
   {
    "duration": 388,
    "start_time": "2024-08-22T00:10:22.236Z"
   },
   {
    "duration": 511,
    "start_time": "2024-08-22T00:10:39.271Z"
   },
   {
    "duration": 433,
    "start_time": "2024-08-22T00:12:19.278Z"
   },
   {
    "duration": 265,
    "start_time": "2024-08-22T00:12:37.057Z"
   },
   {
    "duration": 11,
    "start_time": "2024-08-22T00:14:02.331Z"
   },
   {
    "duration": 170,
    "start_time": "2024-08-22T00:14:14.005Z"
   },
   {
    "duration": 34,
    "start_time": "2024-08-22T00:14:26.546Z"
   },
   {
    "duration": 6,
    "start_time": "2024-08-22T00:15:02.670Z"
   },
   {
    "duration": 366,
    "start_time": "2024-08-22T00:15:06.402Z"
   },
   {
    "duration": 381,
    "start_time": "2024-08-22T00:16:43.308Z"
   },
   {
    "duration": 360,
    "start_time": "2024-08-22T00:16:52.824Z"
   },
   {
    "duration": 367,
    "start_time": "2024-08-22T00:17:02.777Z"
   },
   {
    "duration": 360,
    "start_time": "2024-08-22T00:18:31.811Z"
   },
   {
    "duration": 366,
    "start_time": "2024-08-22T00:18:35.811Z"
   },
   {
    "duration": 687,
    "start_time": "2024-08-22T00:19:14.439Z"
   },
   {
    "duration": 1548,
    "start_time": "2024-08-22T00:19:15.129Z"
   },
   {
    "duration": 87,
    "start_time": "2024-08-22T00:19:16.680Z"
   },
   {
    "duration": 41,
    "start_time": "2024-08-22T00:19:16.771Z"
   },
   {
    "duration": 52,
    "start_time": "2024-08-22T00:19:16.831Z"
   },
   {
    "duration": 15,
    "start_time": "2024-08-22T00:19:16.886Z"
   },
   {
    "duration": 98,
    "start_time": "2024-08-22T00:19:16.932Z"
   },
   {
    "duration": 169,
    "start_time": "2024-08-22T00:19:17.033Z"
   },
   {
    "duration": 62,
    "start_time": "2024-08-22T00:19:17.205Z"
   },
   {
    "duration": 22,
    "start_time": "2024-08-22T00:19:17.270Z"
   },
   {
    "duration": 7,
    "start_time": "2024-08-22T00:19:17.295Z"
   },
   {
    "duration": 56,
    "start_time": "2024-08-22T00:19:17.304Z"
   },
   {
    "duration": 7,
    "start_time": "2024-08-22T00:19:17.363Z"
   },
   {
    "duration": 7,
    "start_time": "2024-08-22T00:19:17.377Z"
   },
   {
    "duration": 46,
    "start_time": "2024-08-22T00:19:17.386Z"
   },
   {
    "duration": 1339,
    "start_time": "2024-08-22T00:19:17.436Z"
   },
   {
    "duration": 1324,
    "start_time": "2024-08-22T00:19:18.778Z"
   },
   {
    "duration": 27,
    "start_time": "2024-08-22T00:19:20.105Z"
   },
   {
    "duration": 10,
    "start_time": "2024-08-22T00:19:20.135Z"
   },
   {
    "duration": 5,
    "start_time": "2024-08-22T00:19:20.149Z"
   },
   {
    "duration": 8,
    "start_time": "2024-08-22T00:19:20.157Z"
   },
   {
    "duration": 84,
    "start_time": "2024-08-22T00:19:20.168Z"
   },
   {
    "duration": 11,
    "start_time": "2024-08-22T00:19:20.255Z"
   },
   {
    "duration": 77,
    "start_time": "2024-08-22T00:19:20.270Z"
   },
   {
    "duration": 19,
    "start_time": "2024-08-22T00:19:20.350Z"
   },
   {
    "duration": 11,
    "start_time": "2024-08-22T00:19:20.371Z"
   },
   {
    "duration": 884,
    "start_time": "2024-08-22T00:19:20.386Z"
   },
   {
    "duration": 10,
    "start_time": "2024-08-22T00:19:21.273Z"
   },
   {
    "duration": 10,
    "start_time": "2024-08-22T00:19:21.286Z"
   },
   {
    "duration": 406,
    "start_time": "2024-08-22T00:19:21.298Z"
   },
   {
    "duration": 353,
    "start_time": "2024-08-22T00:19:21.707Z"
   },
   {
    "duration": 440,
    "start_time": "2024-08-22T00:19:22.063Z"
   },
   {
    "duration": 83,
    "start_time": "2024-08-22T00:19:22.506Z"
   },
   {
    "duration": 391,
    "start_time": "2024-08-22T00:19:22.592Z"
   },
   {
    "duration": 377,
    "start_time": "2024-08-22T00:19:22.986Z"
   },
   {
    "duration": 356,
    "start_time": "2024-08-22T00:19:23.366Z"
   },
   {
    "duration": 0,
    "start_time": "2024-08-22T00:19:23.731Z"
   },
   {
    "duration": 0,
    "start_time": "2024-08-22T00:19:23.734Z"
   },
   {
    "duration": 0,
    "start_time": "2024-08-22T00:19:23.738Z"
   },
   {
    "duration": 62,
    "start_time": "2024-08-22T00:19:43.163Z"
   },
   {
    "duration": 520,
    "start_time": "2024-08-22T00:19:45.373Z"
   },
   {
    "duration": 571,
    "start_time": "2024-08-22T00:20:30.009Z"
   },
   {
    "duration": 397,
    "start_time": "2024-08-22T00:20:35.393Z"
   },
   {
    "duration": 522,
    "start_time": "2024-08-22T00:20:45.508Z"
   },
   {
    "duration": 648,
    "start_time": "2024-08-22T00:27:15.130Z"
   },
   {
    "duration": 130,
    "start_time": "2024-08-22T00:27:26.704Z"
   },
   {
    "duration": 84,
    "start_time": "2024-08-22T00:27:33.299Z"
   },
   {
    "duration": 82,
    "start_time": "2024-08-22T00:28:23.093Z"
   },
   {
    "duration": 83,
    "start_time": "2024-08-22T00:28:27.315Z"
   },
   {
    "duration": 88,
    "start_time": "2024-08-22T00:28:51.671Z"
   },
   {
    "duration": 84,
    "start_time": "2024-08-22T00:29:00.188Z"
   },
   {
    "duration": 653,
    "start_time": "2024-08-22T00:29:09.170Z"
   },
   {
    "duration": 1544,
    "start_time": "2024-08-22T00:29:09.826Z"
   },
   {
    "duration": 92,
    "start_time": "2024-08-22T00:29:11.372Z"
   },
   {
    "duration": 44,
    "start_time": "2024-08-22T00:29:11.467Z"
   },
   {
    "duration": 62,
    "start_time": "2024-08-22T00:29:11.515Z"
   },
   {
    "duration": 15,
    "start_time": "2024-08-22T00:29:11.580Z"
   },
   {
    "duration": 118,
    "start_time": "2024-08-22T00:29:11.598Z"
   },
   {
    "duration": 198,
    "start_time": "2024-08-22T00:29:11.719Z"
   },
   {
    "duration": 54,
    "start_time": "2024-08-22T00:29:11.920Z"
   },
   {
    "duration": 25,
    "start_time": "2024-08-22T00:29:11.977Z"
   },
   {
    "duration": 37,
    "start_time": "2024-08-22T00:29:12.005Z"
   },
   {
    "duration": 33,
    "start_time": "2024-08-22T00:29:12.045Z"
   },
   {
    "duration": 7,
    "start_time": "2024-08-22T00:29:12.081Z"
   },
   {
    "duration": 7,
    "start_time": "2024-08-22T00:29:12.096Z"
   },
   {
    "duration": 13,
    "start_time": "2024-08-22T00:29:12.133Z"
   },
   {
    "duration": 1346,
    "start_time": "2024-08-22T00:29:12.150Z"
   },
   {
    "duration": 1319,
    "start_time": "2024-08-22T00:29:13.500Z"
   },
   {
    "duration": 10,
    "start_time": "2024-08-22T00:29:14.830Z"
   },
   {
    "duration": 11,
    "start_time": "2024-08-22T00:29:14.843Z"
   },
   {
    "duration": 5,
    "start_time": "2024-08-22T00:29:14.858Z"
   },
   {
    "duration": 10,
    "start_time": "2024-08-22T00:29:14.865Z"
   },
   {
    "duration": 88,
    "start_time": "2024-08-22T00:29:14.877Z"
   },
   {
    "duration": 11,
    "start_time": "2024-08-22T00:29:14.968Z"
   },
   {
    "duration": 85,
    "start_time": "2024-08-22T00:29:14.981Z"
   },
   {
    "duration": 19,
    "start_time": "2024-08-22T00:29:15.068Z"
   },
   {
    "duration": 39,
    "start_time": "2024-08-22T00:29:15.091Z"
   },
   {
    "duration": 860,
    "start_time": "2024-08-22T00:29:15.134Z"
   },
   {
    "duration": 9,
    "start_time": "2024-08-22T00:29:15.997Z"
   },
   {
    "duration": 24,
    "start_time": "2024-08-22T00:29:16.009Z"
   },
   {
    "duration": 400,
    "start_time": "2024-08-22T00:29:16.035Z"
   },
   {
    "duration": 325,
    "start_time": "2024-08-22T00:29:16.439Z"
   },
   {
    "duration": 443,
    "start_time": "2024-08-22T00:29:16.767Z"
   },
   {
    "duration": 93,
    "start_time": "2024-08-22T00:29:17.213Z"
   },
   {
    "duration": 372,
    "start_time": "2024-08-22T00:29:17.309Z"
   },
   {
    "duration": 390,
    "start_time": "2024-08-22T00:29:17.684Z"
   },
   {
    "duration": 73,
    "start_time": "2024-08-22T00:29:18.077Z"
   },
   {
    "duration": 380,
    "start_time": "2024-08-22T00:29:18.154Z"
   },
   {
    "duration": 428,
    "start_time": "2024-08-22T00:29:18.538Z"
   },
   {
    "duration": 0,
    "start_time": "2024-08-22T00:29:18.968Z"
   },
   {
    "duration": 87,
    "start_time": "2024-08-22T00:30:12.556Z"
   },
   {
    "duration": 83,
    "start_time": "2024-08-22T00:30:16.525Z"
   },
   {
    "duration": 84,
    "start_time": "2024-08-22T00:30:20.826Z"
   },
   {
    "duration": 124,
    "start_time": "2024-08-22T00:30:41.718Z"
   },
   {
    "duration": 90,
    "start_time": "2024-08-22T00:31:11.776Z"
   },
   {
    "duration": 85,
    "start_time": "2024-08-22T00:32:35.192Z"
   },
   {
    "duration": 82,
    "start_time": "2024-08-22T00:33:57.243Z"
   },
   {
    "duration": 82,
    "start_time": "2024-08-22T00:34:15.927Z"
   },
   {
    "duration": 95,
    "start_time": "2024-08-22T00:34:19.378Z"
   },
   {
    "duration": 665,
    "start_time": "2024-08-22T00:34:53.962Z"
   },
   {
    "duration": 1567,
    "start_time": "2024-08-22T00:34:54.631Z"
   },
   {
    "duration": 89,
    "start_time": "2024-08-22T00:34:56.201Z"
   },
   {
    "duration": 52,
    "start_time": "2024-08-22T00:34:56.294Z"
   },
   {
    "duration": 50,
    "start_time": "2024-08-22T00:34:56.349Z"
   },
   {
    "duration": 35,
    "start_time": "2024-08-22T00:34:56.402Z"
   },
   {
    "duration": 123,
    "start_time": "2024-08-22T00:34:56.440Z"
   },
   {
    "duration": 207,
    "start_time": "2024-08-22T00:34:56.566Z"
   },
   {
    "duration": 56,
    "start_time": "2024-08-22T00:34:56.776Z"
   },
   {
    "duration": 26,
    "start_time": "2024-08-22T00:34:56.840Z"
   },
   {
    "duration": 8,
    "start_time": "2024-08-22T00:34:56.870Z"
   },
   {
    "duration": 76,
    "start_time": "2024-08-22T00:34:56.883Z"
   },
   {
    "duration": 9,
    "start_time": "2024-08-22T00:34:56.962Z"
   },
   {
    "duration": 10,
    "start_time": "2024-08-22T00:34:56.974Z"
   },
   {
    "duration": 44,
    "start_time": "2024-08-22T00:34:56.987Z"
   },
   {
    "duration": 1333,
    "start_time": "2024-08-22T00:34:57.036Z"
   },
   {
    "duration": 1343,
    "start_time": "2024-08-22T00:34:58.372Z"
   },
   {
    "duration": 18,
    "start_time": "2024-08-22T00:34:59.718Z"
   },
   {
    "duration": 10,
    "start_time": "2024-08-22T00:34:59.739Z"
   },
   {
    "duration": 6,
    "start_time": "2024-08-22T00:34:59.752Z"
   },
   {
    "duration": 10,
    "start_time": "2024-08-22T00:34:59.762Z"
   },
   {
    "duration": 95,
    "start_time": "2024-08-22T00:34:59.775Z"
   },
   {
    "duration": 11,
    "start_time": "2024-08-22T00:34:59.873Z"
   },
   {
    "duration": 77,
    "start_time": "2024-08-22T00:34:59.887Z"
   },
   {
    "duration": 19,
    "start_time": "2024-08-22T00:34:59.967Z"
   },
   {
    "duration": 9,
    "start_time": "2024-08-22T00:34:59.989Z"
   },
   {
    "duration": 844,
    "start_time": "2024-08-22T00:35:00.031Z"
   },
   {
    "duration": 8,
    "start_time": "2024-08-22T00:35:00.883Z"
   },
   {
    "duration": 9,
    "start_time": "2024-08-22T00:35:00.894Z"
   },
   {
    "duration": 379,
    "start_time": "2024-08-22T00:35:00.932Z"
   },
   {
    "duration": 325,
    "start_time": "2024-08-22T00:35:01.314Z"
   },
   {
    "duration": 465,
    "start_time": "2024-08-22T00:35:01.642Z"
   },
   {
    "duration": 90,
    "start_time": "2024-08-22T00:35:02.110Z"
   },
   {
    "duration": 406,
    "start_time": "2024-08-22T00:35:02.204Z"
   },
   {
    "duration": 383,
    "start_time": "2024-08-22T00:35:02.613Z"
   },
   {
    "duration": 76,
    "start_time": "2024-08-22T00:35:02.999Z"
   },
   {
    "duration": 384,
    "start_time": "2024-08-22T00:35:03.078Z"
   },
   {
    "duration": 433,
    "start_time": "2024-08-22T00:35:03.465Z"
   },
   {
    "duration": 0,
    "start_time": "2024-08-22T00:35:03.900Z"
   },
   {
    "duration": 79,
    "start_time": "2024-08-22T00:35:30.969Z"
   },
   {
    "duration": 97,
    "start_time": "2024-08-22T00:35:42.334Z"
   },
   {
    "duration": 79,
    "start_time": "2024-08-22T00:36:12.843Z"
   },
   {
    "duration": 124,
    "start_time": "2024-08-22T00:37:00.653Z"
   },
   {
    "duration": 91,
    "start_time": "2024-08-22T00:38:42.189Z"
   },
   {
    "duration": 721,
    "start_time": "2024-08-22T00:38:51.857Z"
   },
   {
    "duration": 1550,
    "start_time": "2024-08-22T00:38:52.582Z"
   },
   {
    "duration": 91,
    "start_time": "2024-08-22T00:38:54.139Z"
   },
   {
    "duration": 43,
    "start_time": "2024-08-22T00:38:54.235Z"
   },
   {
    "duration": 78,
    "start_time": "2024-08-22T00:38:54.281Z"
   },
   {
    "duration": 16,
    "start_time": "2024-08-22T00:38:54.362Z"
   },
   {
    "duration": 126,
    "start_time": "2024-08-22T00:38:54.381Z"
   },
   {
    "duration": 189,
    "start_time": "2024-08-22T00:38:54.509Z"
   },
   {
    "duration": 51,
    "start_time": "2024-08-22T00:38:54.701Z"
   },
   {
    "duration": 22,
    "start_time": "2024-08-22T00:38:54.755Z"
   },
   {
    "duration": 7,
    "start_time": "2024-08-22T00:38:54.780Z"
   },
   {
    "duration": 64,
    "start_time": "2024-08-22T00:38:54.789Z"
   },
   {
    "duration": 8,
    "start_time": "2024-08-22T00:38:54.859Z"
   },
   {
    "duration": 7,
    "start_time": "2024-08-22T00:38:54.870Z"
   },
   {
    "duration": 7,
    "start_time": "2024-08-22T00:38:54.880Z"
   },
   {
    "duration": 1339,
    "start_time": "2024-08-22T00:38:54.890Z"
   },
   {
    "duration": 1302,
    "start_time": "2024-08-22T00:38:56.232Z"
   },
   {
    "duration": 10,
    "start_time": "2024-08-22T00:38:57.537Z"
   },
   {
    "duration": 11,
    "start_time": "2024-08-22T00:38:57.550Z"
   },
   {
    "duration": 6,
    "start_time": "2024-08-22T00:38:57.563Z"
   },
   {
    "duration": 9,
    "start_time": "2024-08-22T00:38:57.572Z"
   },
   {
    "duration": 47,
    "start_time": "2024-08-22T00:38:57.630Z"
   },
   {
    "duration": 11,
    "start_time": "2024-08-22T00:38:57.680Z"
   },
   {
    "duration": 78,
    "start_time": "2024-08-22T00:38:57.694Z"
   },
   {
    "duration": 19,
    "start_time": "2024-08-22T00:38:57.775Z"
   },
   {
    "duration": 38,
    "start_time": "2024-08-22T00:38:57.797Z"
   },
   {
    "duration": 865,
    "start_time": "2024-08-22T00:38:57.838Z"
   },
   {
    "duration": 8,
    "start_time": "2024-08-22T00:38:58.705Z"
   },
   {
    "duration": 10,
    "start_time": "2024-08-22T00:38:58.732Z"
   },
   {
    "duration": 409,
    "start_time": "2024-08-22T00:38:58.745Z"
   },
   {
    "duration": 326,
    "start_time": "2024-08-22T00:38:59.157Z"
   },
   {
    "duration": 434,
    "start_time": "2024-08-22T00:38:59.486Z"
   },
   {
    "duration": 100,
    "start_time": "2024-08-22T00:38:59.930Z"
   },
   {
    "duration": 389,
    "start_time": "2024-08-22T00:39:00.033Z"
   },
   {
    "duration": 370,
    "start_time": "2024-08-22T00:39:00.431Z"
   },
   {
    "duration": 79,
    "start_time": "2024-08-22T00:39:00.803Z"
   },
   {
    "duration": 395,
    "start_time": "2024-08-22T00:39:00.885Z"
   },
   {
    "duration": 427,
    "start_time": "2024-08-22T00:39:01.283Z"
   },
   {
    "duration": 0,
    "start_time": "2024-08-22T00:39:01.712Z"
   },
   {
    "duration": 86,
    "start_time": "2024-08-22T00:39:34.519Z"
   },
   {
    "duration": 92,
    "start_time": "2024-08-22T00:41:49.043Z"
   },
   {
    "duration": 1110,
    "start_time": "2024-08-22T00:44:55.349Z"
   },
   {
    "duration": 88,
    "start_time": "2024-08-22T00:45:04.820Z"
   },
   {
    "duration": 99,
    "start_time": "2024-08-22T00:45:21.231Z"
   },
   {
    "duration": 96,
    "start_time": "2024-08-22T00:45:27.391Z"
   },
   {
    "duration": 100,
    "start_time": "2024-08-22T00:46:42.546Z"
   },
   {
    "duration": 122,
    "start_time": "2024-08-22T00:48:56.565Z"
   },
   {
    "duration": 297,
    "start_time": "2024-08-22T00:49:39.047Z"
   },
   {
    "duration": 97,
    "start_time": "2024-08-22T00:50:28.320Z"
   },
   {
    "duration": 636,
    "start_time": "2024-08-22T00:51:43.987Z"
   },
   {
    "duration": 1558,
    "start_time": "2024-08-22T00:51:44.630Z"
   },
   {
    "duration": 85,
    "start_time": "2024-08-22T00:51:46.191Z"
   },
   {
    "duration": 54,
    "start_time": "2024-08-22T00:51:46.279Z"
   },
   {
    "duration": 52,
    "start_time": "2024-08-22T00:51:46.338Z"
   },
   {
    "duration": 37,
    "start_time": "2024-08-22T00:51:46.393Z"
   },
   {
    "duration": 100,
    "start_time": "2024-08-22T00:51:46.433Z"
   },
   {
    "duration": 169,
    "start_time": "2024-08-22T00:51:46.536Z"
   },
   {
    "duration": 58,
    "start_time": "2024-08-22T00:51:46.708Z"
   },
   {
    "duration": 24,
    "start_time": "2024-08-22T00:51:46.768Z"
   },
   {
    "duration": 7,
    "start_time": "2024-08-22T00:51:46.795Z"
   },
   {
    "duration": 59,
    "start_time": "2024-08-22T00:51:46.805Z"
   },
   {
    "duration": 9,
    "start_time": "2024-08-22T00:51:46.867Z"
   },
   {
    "duration": 7,
    "start_time": "2024-08-22T00:51:46.884Z"
   },
   {
    "duration": 42,
    "start_time": "2024-08-22T00:51:46.894Z"
   },
   {
    "duration": 1348,
    "start_time": "2024-08-22T00:51:46.939Z"
   },
   {
    "duration": 1313,
    "start_time": "2024-08-22T00:51:48.290Z"
   },
   {
    "duration": 10,
    "start_time": "2024-08-22T00:51:49.606Z"
   },
   {
    "duration": 11,
    "start_time": "2024-08-22T00:51:49.631Z"
   },
   {
    "duration": 5,
    "start_time": "2024-08-22T00:51:49.646Z"
   },
   {
    "duration": 9,
    "start_time": "2024-08-22T00:51:49.654Z"
   },
   {
    "duration": 92,
    "start_time": "2024-08-22T00:51:49.666Z"
   },
   {
    "duration": 10,
    "start_time": "2024-08-22T00:51:49.761Z"
   },
   {
    "duration": 71,
    "start_time": "2024-08-22T00:51:49.774Z"
   },
   {
    "duration": 19,
    "start_time": "2024-08-22T00:51:49.848Z"
   },
   {
    "duration": 8,
    "start_time": "2024-08-22T00:51:49.870Z"
   },
   {
    "duration": 857,
    "start_time": "2024-08-22T00:51:49.881Z"
   },
   {
    "duration": 8,
    "start_time": "2024-08-22T00:51:50.740Z"
   },
   {
    "duration": 8,
    "start_time": "2024-08-22T00:51:50.751Z"
   },
   {
    "duration": 396,
    "start_time": "2024-08-22T00:51:50.761Z"
   },
   {
    "duration": 334,
    "start_time": "2024-08-22T00:51:51.160Z"
   },
   {
    "duration": 439,
    "start_time": "2024-08-22T00:51:51.497Z"
   },
   {
    "duration": 126,
    "start_time": "2024-08-22T00:51:51.940Z"
   },
   {
    "duration": 404,
    "start_time": "2024-08-22T00:51:52.069Z"
   },
   {
    "duration": 382,
    "start_time": "2024-08-22T00:51:52.475Z"
   },
   {
    "duration": 73,
    "start_time": "2024-08-22T00:51:52.860Z"
   },
   {
    "duration": 381,
    "start_time": "2024-08-22T00:51:52.936Z"
   },
   {
    "duration": 429,
    "start_time": "2024-08-22T00:51:53.320Z"
   },
   {
    "duration": 0,
    "start_time": "2024-08-22T00:51:53.752Z"
   },
   {
    "duration": 118,
    "start_time": "2024-08-22T00:53:42.869Z"
   },
   {
    "duration": 115,
    "start_time": "2024-08-22T00:53:51.621Z"
   },
   {
    "duration": 125,
    "start_time": "2024-08-22T00:55:29.170Z"
   },
   {
    "duration": 368,
    "start_time": "2024-08-22T00:56:15.336Z"
   },
   {
    "duration": 467,
    "start_time": "2024-08-22T00:56:26.153Z"
   },
   {
    "duration": 515,
    "start_time": "2024-08-22T00:57:09.853Z"
   },
   {
    "duration": 393,
    "start_time": "2024-08-22T01:00:14.843Z"
   },
   {
    "duration": 405,
    "start_time": "2024-08-22T01:00:22.668Z"
   },
   {
    "duration": 389,
    "start_time": "2024-08-22T01:01:35.847Z"
   },
   {
    "duration": 464,
    "start_time": "2024-08-22T01:01:44.004Z"
   },
   {
    "duration": 401,
    "start_time": "2024-08-22T01:01:49.296Z"
   },
   {
    "duration": 406,
    "start_time": "2024-08-22T01:02:13.482Z"
   },
   {
    "duration": 486,
    "start_time": "2024-08-22T01:02:18.783Z"
   },
   {
    "duration": 350,
    "start_time": "2024-08-22T01:02:23.065Z"
   },
   {
    "duration": 404,
    "start_time": "2024-08-22T01:02:27.596Z"
   },
   {
    "duration": 1763,
    "start_time": "2024-08-22T01:02:41.918Z"
   },
   {
    "duration": 709,
    "start_time": "2024-08-22T01:04:05.655Z"
   },
   {
    "duration": 1697,
    "start_time": "2024-08-22T01:04:06.368Z"
   },
   {
    "duration": 92,
    "start_time": "2024-08-22T01:04:08.068Z"
   },
   {
    "duration": 48,
    "start_time": "2024-08-22T01:04:08.164Z"
   },
   {
    "duration": 69,
    "start_time": "2024-08-22T01:04:08.217Z"
   },
   {
    "duration": 15,
    "start_time": "2024-08-22T01:04:08.289Z"
   },
   {
    "duration": 106,
    "start_time": "2024-08-22T01:04:08.332Z"
   },
   {
    "duration": 192,
    "start_time": "2024-08-22T01:04:08.441Z"
   },
   {
    "duration": 53,
    "start_time": "2024-08-22T01:04:08.635Z"
   },
   {
    "duration": 50,
    "start_time": "2024-08-22T01:04:08.690Z"
   },
   {
    "duration": 8,
    "start_time": "2024-08-22T01:04:08.743Z"
   },
   {
    "duration": 40,
    "start_time": "2024-08-22T01:04:08.757Z"
   },
   {
    "duration": 32,
    "start_time": "2024-08-22T01:04:08.801Z"
   },
   {
    "duration": 13,
    "start_time": "2024-08-22T01:04:08.843Z"
   },
   {
    "duration": 8,
    "start_time": "2024-08-22T01:04:08.859Z"
   },
   {
    "duration": 1468,
    "start_time": "2024-08-22T01:04:08.870Z"
   },
   {
    "duration": 1414,
    "start_time": "2024-08-22T01:04:10.341Z"
   },
   {
    "duration": 13,
    "start_time": "2024-08-22T01:04:11.758Z"
   },
   {
    "duration": 15,
    "start_time": "2024-08-22T01:04:11.775Z"
   },
   {
    "duration": 6,
    "start_time": "2024-08-22T01:04:11.794Z"
   },
   {
    "duration": 37,
    "start_time": "2024-08-22T01:04:11.803Z"
   },
   {
    "duration": 109,
    "start_time": "2024-08-22T01:04:11.844Z"
   },
   {
    "duration": 11,
    "start_time": "2024-08-22T01:04:11.956Z"
   },
   {
    "duration": 106,
    "start_time": "2024-08-22T01:04:11.971Z"
   },
   {
    "duration": 74,
    "start_time": "2024-08-22T01:04:12.084Z"
   },
   {
    "duration": 12,
    "start_time": "2024-08-22T01:04:12.161Z"
   },
   {
    "duration": 913,
    "start_time": "2024-08-22T01:04:12.179Z"
   },
   {
    "duration": 8,
    "start_time": "2024-08-22T01:04:13.095Z"
   },
   {
    "duration": 33,
    "start_time": "2024-08-22T01:04:13.107Z"
   },
   {
    "duration": 409,
    "start_time": "2024-08-22T01:04:13.143Z"
   },
   {
    "duration": 340,
    "start_time": "2024-08-22T01:04:13.555Z"
   },
   {
    "duration": 449,
    "start_time": "2024-08-22T01:04:13.898Z"
   },
   {
    "duration": 146,
    "start_time": "2024-08-22T01:04:14.350Z"
   },
   {
    "duration": 2052,
    "start_time": "2024-08-22T01:04:14.499Z"
   },
   {
    "duration": 0,
    "start_time": "2024-08-22T01:04:16.556Z"
   },
   {
    "duration": 0,
    "start_time": "2024-08-22T01:04:16.561Z"
   },
   {
    "duration": 0,
    "start_time": "2024-08-22T01:04:16.563Z"
   },
   {
    "duration": 0,
    "start_time": "2024-08-22T01:04:16.565Z"
   },
   {
    "duration": 0,
    "start_time": "2024-08-22T01:04:16.566Z"
   },
   {
    "duration": 498,
    "start_time": "2024-08-22T01:04:31.785Z"
   },
   {
    "duration": 367,
    "start_time": "2024-08-22T01:04:36.973Z"
   },
   {
    "duration": 53,
    "start_time": "2024-08-22T01:04:45.627Z"
   },
   {
    "duration": 378,
    "start_time": "2024-08-22T01:04:48.445Z"
   },
   {
    "duration": 691,
    "start_time": "2024-08-22T01:05:22.403Z"
   },
   {
    "duration": 548,
    "start_time": "2024-08-22T01:06:00.207Z"
   },
   {
    "duration": 693,
    "start_time": "2024-08-22T01:07:28.905Z"
   },
   {
    "duration": 1606,
    "start_time": "2024-08-22T01:07:29.602Z"
   },
   {
    "duration": 88,
    "start_time": "2024-08-22T01:07:31.210Z"
   },
   {
    "duration": 62,
    "start_time": "2024-08-22T01:07:31.303Z"
   },
   {
    "duration": 72,
    "start_time": "2024-08-22T01:07:31.368Z"
   },
   {
    "duration": 18,
    "start_time": "2024-08-22T01:07:31.443Z"
   },
   {
    "duration": 130,
    "start_time": "2024-08-22T01:07:31.465Z"
   },
   {
    "duration": 207,
    "start_time": "2024-08-22T01:07:31.597Z"
   },
   {
    "duration": 73,
    "start_time": "2024-08-22T01:07:31.807Z"
   },
   {
    "duration": 46,
    "start_time": "2024-08-22T01:07:31.887Z"
   },
   {
    "duration": 7,
    "start_time": "2024-08-22T01:07:31.936Z"
   },
   {
    "duration": 32,
    "start_time": "2024-08-22T01:07:31.946Z"
   },
   {
    "duration": 8,
    "start_time": "2024-08-22T01:07:31.981Z"
   },
   {
    "duration": 52,
    "start_time": "2024-08-22T01:07:31.992Z"
   },
   {
    "duration": 7,
    "start_time": "2024-08-22T01:07:32.048Z"
   },
   {
    "duration": 1441,
    "start_time": "2024-08-22T01:07:32.061Z"
   },
   {
    "duration": 1402,
    "start_time": "2024-08-22T01:07:33.507Z"
   },
   {
    "duration": 19,
    "start_time": "2024-08-22T01:07:34.915Z"
   },
   {
    "duration": 13,
    "start_time": "2024-08-22T01:07:34.941Z"
   },
   {
    "duration": 6,
    "start_time": "2024-08-22T01:07:34.957Z"
   },
   {
    "duration": 13,
    "start_time": "2024-08-22T01:07:34.966Z"
   },
   {
    "duration": 88,
    "start_time": "2024-08-22T01:07:34.981Z"
   },
   {
    "duration": 11,
    "start_time": "2024-08-22T01:07:35.071Z"
   },
   {
    "duration": 84,
    "start_time": "2024-08-22T01:07:35.085Z"
   },
   {
    "duration": 24,
    "start_time": "2024-08-22T01:07:35.173Z"
   },
   {
    "duration": 36,
    "start_time": "2024-08-22T01:07:35.200Z"
   },
   {
    "duration": 889,
    "start_time": "2024-08-22T01:07:35.239Z"
   },
   {
    "duration": 10,
    "start_time": "2024-08-22T01:07:36.140Z"
   },
   {
    "duration": 9,
    "start_time": "2024-08-22T01:07:36.153Z"
   },
   {
    "duration": 428,
    "start_time": "2024-08-22T01:07:36.166Z"
   },
   {
    "duration": 336,
    "start_time": "2024-08-22T01:07:36.597Z"
   },
   {
    "duration": 449,
    "start_time": "2024-08-22T01:07:36.936Z"
   },
   {
    "duration": 160,
    "start_time": "2024-08-22T01:07:37.391Z"
   },
   {
    "duration": 1915,
    "start_time": "2024-08-22T01:07:37.554Z"
   },
   {
    "duration": 0,
    "start_time": "2024-08-22T01:07:39.473Z"
   },
   {
    "duration": 0,
    "start_time": "2024-08-22T01:07:39.475Z"
   },
   {
    "duration": 0,
    "start_time": "2024-08-22T01:07:39.477Z"
   },
   {
    "duration": 0,
    "start_time": "2024-08-22T01:07:39.479Z"
   },
   {
    "duration": 0,
    "start_time": "2024-08-22T01:07:39.481Z"
   },
   {
    "duration": 389,
    "start_time": "2024-08-22T01:08:33.948Z"
   },
   {
    "duration": 694,
    "start_time": "2024-08-22T01:09:22.179Z"
   },
   {
    "duration": 1690,
    "start_time": "2024-08-22T01:09:22.877Z"
   },
   {
    "duration": 91,
    "start_time": "2024-08-22T01:09:24.570Z"
   },
   {
    "duration": 47,
    "start_time": "2024-08-22T01:09:24.667Z"
   },
   {
    "duration": 56,
    "start_time": "2024-08-22T01:09:24.729Z"
   },
   {
    "duration": 17,
    "start_time": "2024-08-22T01:09:24.789Z"
   },
   {
    "duration": 114,
    "start_time": "2024-08-22T01:09:24.832Z"
   },
   {
    "duration": 183,
    "start_time": "2024-08-22T01:09:24.949Z"
   },
   {
    "duration": 57,
    "start_time": "2024-08-22T01:09:25.135Z"
   },
   {
    "duration": 50,
    "start_time": "2024-08-22T01:09:25.199Z"
   },
   {
    "duration": 9,
    "start_time": "2024-08-22T01:09:25.253Z"
   },
   {
    "duration": 65,
    "start_time": "2024-08-22T01:09:25.265Z"
   },
   {
    "duration": 7,
    "start_time": "2024-08-22T01:09:25.333Z"
   },
   {
    "duration": 8,
    "start_time": "2024-08-22T01:09:25.343Z"
   },
   {
    "duration": 8,
    "start_time": "2024-08-22T01:09:25.354Z"
   },
   {
    "duration": 1439,
    "start_time": "2024-08-22T01:09:25.365Z"
   },
   {
    "duration": 1391,
    "start_time": "2024-08-22T01:09:26.809Z"
   },
   {
    "duration": 28,
    "start_time": "2024-08-22T01:09:28.203Z"
   },
   {
    "duration": 13,
    "start_time": "2024-08-22T01:09:28.234Z"
   },
   {
    "duration": 5,
    "start_time": "2024-08-22T01:09:28.252Z"
   },
   {
    "duration": 10,
    "start_time": "2024-08-22T01:09:28.260Z"
   },
   {
    "duration": 87,
    "start_time": "2024-08-22T01:09:28.273Z"
   },
   {
    "duration": 12,
    "start_time": "2024-08-22T01:09:28.363Z"
   },
   {
    "duration": 78,
    "start_time": "2024-08-22T01:09:28.377Z"
   },
   {
    "duration": 22,
    "start_time": "2024-08-22T01:09:28.459Z"
   },
   {
    "duration": 10,
    "start_time": "2024-08-22T01:09:28.484Z"
   },
   {
    "duration": 933,
    "start_time": "2024-08-22T01:09:28.499Z"
   },
   {
    "duration": 10,
    "start_time": "2024-08-22T01:09:29.439Z"
   },
   {
    "duration": 9,
    "start_time": "2024-08-22T01:09:29.455Z"
   },
   {
    "duration": 427,
    "start_time": "2024-08-22T01:09:29.467Z"
   },
   {
    "duration": 471,
    "start_time": "2024-08-22T01:09:29.898Z"
   },
   {
    "duration": 619,
    "start_time": "2024-08-22T01:09:30.374Z"
   },
   {
    "duration": 195,
    "start_time": "2024-08-22T01:09:30.997Z"
   },
   {
    "duration": 546,
    "start_time": "2024-08-22T01:09:31.195Z"
   },
   {
    "duration": 546,
    "start_time": "2024-08-22T01:09:31.745Z"
   },
   {
    "duration": 95,
    "start_time": "2024-08-22T01:09:32.297Z"
   },
   {
    "duration": 496,
    "start_time": "2024-08-22T01:09:32.396Z"
   },
   {
    "duration": 477,
    "start_time": "2024-08-22T01:09:32.896Z"
   },
   {
    "duration": 0,
    "start_time": "2024-08-22T01:09:33.376Z"
   },
   {
    "duration": 410,
    "start_time": "2024-08-22T01:09:41.180Z"
   },
   {
    "duration": 406,
    "start_time": "2024-08-22T01:11:04.524Z"
   },
   {
    "duration": 392,
    "start_time": "2024-08-22T01:11:34.600Z"
   },
   {
    "duration": 410,
    "start_time": "2024-08-22T01:12:00.839Z"
   },
   {
    "duration": 408,
    "start_time": "2024-08-22T01:12:07.030Z"
   },
   {
    "duration": 315,
    "start_time": "2024-08-22T01:12:39.143Z"
   },
   {
    "duration": 426,
    "start_time": "2024-08-22T01:12:45.654Z"
   },
   {
    "duration": 408,
    "start_time": "2024-08-22T01:16:19.541Z"
   },
   {
    "duration": 383,
    "start_time": "2024-08-22T01:16:28.502Z"
   },
   {
    "duration": 384,
    "start_time": "2024-08-22T01:16:34.415Z"
   },
   {
    "duration": 1532,
    "start_time": "2024-08-22T01:16:50.916Z"
   },
   {
    "duration": 358,
    "start_time": "2024-08-22T01:16:58.792Z"
   },
   {
    "duration": 387,
    "start_time": "2024-08-22T01:17:04.625Z"
   },
   {
    "duration": 371,
    "start_time": "2024-08-22T01:17:40.724Z"
   },
   {
    "duration": 389,
    "start_time": "2024-08-22T01:17:44.416Z"
   },
   {
    "duration": 392,
    "start_time": "2024-08-22T01:18:11.597Z"
   },
   {
    "duration": 389,
    "start_time": "2024-08-22T01:18:23.627Z"
   },
   {
    "duration": 4,
    "start_time": "2024-08-22T01:22:10.306Z"
   },
   {
    "duration": 1329,
    "start_time": "2024-08-22T01:22:55.431Z"
   },
   {
    "duration": 863,
    "start_time": "2024-08-22T01:23:13.160Z"
   },
   {
    "duration": 84,
    "start_time": "2024-08-22T01:23:26.043Z"
   },
   {
    "duration": 23,
    "start_time": "2024-08-22T01:23:44.773Z"
   },
   {
    "duration": 24,
    "start_time": "2024-08-22T01:23:58.990Z"
   },
   {
    "duration": 76,
    "start_time": "2024-08-22T01:26:25.647Z"
   },
   {
    "duration": 77,
    "start_time": "2024-08-22T01:27:23.402Z"
   },
   {
    "duration": 243,
    "start_time": "2024-08-22T01:27:47.738Z"
   },
   {
    "duration": 252,
    "start_time": "2024-08-22T01:28:00.651Z"
   },
   {
    "duration": 248,
    "start_time": "2024-08-22T01:28:15.546Z"
   },
   {
    "duration": 246,
    "start_time": "2024-08-22T01:28:23.661Z"
   },
   {
    "duration": 246,
    "start_time": "2024-08-22T01:28:28.013Z"
   },
   {
    "duration": 246,
    "start_time": "2024-08-22T01:28:57.290Z"
   },
   {
    "duration": 256,
    "start_time": "2024-08-22T01:29:02.781Z"
   },
   {
    "duration": 249,
    "start_time": "2024-08-22T01:29:06.606Z"
   },
   {
    "duration": 248,
    "start_time": "2024-08-22T01:29:12.856Z"
   },
   {
    "duration": 487,
    "start_time": "2024-08-22T01:30:32.237Z"
   },
   {
    "duration": 292,
    "start_time": "2024-08-22T01:30:37.016Z"
   },
   {
    "duration": 279,
    "start_time": "2024-08-22T01:30:42.234Z"
   },
   {
    "duration": 298,
    "start_time": "2024-08-22T01:31:08.167Z"
   },
   {
    "duration": 280,
    "start_time": "2024-08-22T01:31:22.307Z"
   },
   {
    "duration": 274,
    "start_time": "2024-08-22T01:31:26.866Z"
   },
   {
    "duration": 326,
    "start_time": "2024-08-22T01:31:56.566Z"
   },
   {
    "duration": 330,
    "start_time": "2024-08-22T01:32:02.183Z"
   },
   {
    "duration": 312,
    "start_time": "2024-08-22T01:32:05.894Z"
   },
   {
    "duration": 309,
    "start_time": "2024-08-22T01:32:09.795Z"
   },
   {
    "duration": 340,
    "start_time": "2024-08-22T01:32:11.736Z"
   },
   {
    "duration": 306,
    "start_time": "2024-08-22T01:32:17.720Z"
   },
   {
    "duration": 316,
    "start_time": "2024-08-22T01:32:22.956Z"
   },
   {
    "duration": 581,
    "start_time": "2024-08-22T01:32:48.619Z"
   },
   {
    "duration": 325,
    "start_time": "2024-08-22T01:32:58.434Z"
   },
   {
    "duration": 1164,
    "start_time": "2024-08-22T01:33:12.601Z"
   },
   {
    "duration": 419,
    "start_time": "2024-08-22T01:33:18.638Z"
   },
   {
    "duration": 408,
    "start_time": "2024-08-22T01:33:34.924Z"
   },
   {
    "duration": 404,
    "start_time": "2024-08-22T01:33:38.419Z"
   },
   {
    "duration": 403,
    "start_time": "2024-08-22T01:33:44.186Z"
   },
   {
    "duration": 415,
    "start_time": "2024-08-22T01:33:48.689Z"
   },
   {
    "duration": 398,
    "start_time": "2024-08-22T01:33:53.217Z"
   },
   {
    "duration": 401,
    "start_time": "2024-08-22T01:33:56.855Z"
   },
   {
    "duration": 410,
    "start_time": "2024-08-22T01:34:00.776Z"
   },
   {
    "duration": 407,
    "start_time": "2024-08-22T01:34:04.547Z"
   },
   {
    "duration": 593,
    "start_time": "2024-08-22T01:34:09.916Z"
   },
   {
    "duration": 424,
    "start_time": "2024-08-22T01:35:13.739Z"
   },
   {
    "duration": 434,
    "start_time": "2024-08-22T01:35:45.292Z"
   },
   {
    "duration": 448,
    "start_time": "2024-08-22T01:35:55.637Z"
   },
   {
    "duration": 422,
    "start_time": "2024-08-22T01:36:14.410Z"
   },
   {
    "duration": 431,
    "start_time": "2024-08-22T01:36:52.702Z"
   },
   {
    "duration": 415,
    "start_time": "2024-08-22T01:36:57.617Z"
   },
   {
    "duration": 414,
    "start_time": "2024-08-22T01:37:02.337Z"
   },
   {
    "duration": 414,
    "start_time": "2024-08-22T01:37:06.323Z"
   },
   {
    "duration": 407,
    "start_time": "2024-08-22T01:37:29.879Z"
   },
   {
    "duration": 408,
    "start_time": "2024-08-22T01:37:53.981Z"
   },
   {
    "duration": 411,
    "start_time": "2024-08-22T01:38:04.267Z"
   },
   {
    "duration": 790,
    "start_time": "2024-08-22T01:38:12.004Z"
   },
   {
    "duration": 404,
    "start_time": "2024-08-22T01:38:20.467Z"
   },
   {
    "duration": 405,
    "start_time": "2024-08-22T01:38:23.268Z"
   },
   {
    "duration": 419,
    "start_time": "2024-08-22T01:38:27.016Z"
   },
   {
    "duration": 416,
    "start_time": "2024-08-22T01:40:04.573Z"
   },
   {
    "duration": 403,
    "start_time": "2024-08-22T01:40:09.373Z"
   },
   {
    "duration": 408,
    "start_time": "2024-08-22T01:40:40.910Z"
   },
   {
    "duration": 426,
    "start_time": "2024-08-22T01:40:54.062Z"
   },
   {
    "duration": 405,
    "start_time": "2024-08-22T01:41:05.769Z"
   },
   {
    "duration": 420,
    "start_time": "2024-08-22T01:41:12.946Z"
   },
   {
    "duration": 415,
    "start_time": "2024-08-22T01:41:37.358Z"
   },
   {
    "duration": 620,
    "start_time": "2024-08-22T01:41:51.564Z"
   },
   {
    "duration": 412,
    "start_time": "2024-08-22T01:41:58.656Z"
   },
   {
    "duration": 403,
    "start_time": "2024-08-22T01:42:07.573Z"
   },
   {
    "duration": 407,
    "start_time": "2024-08-22T01:42:18.505Z"
   },
   {
    "duration": 849,
    "start_time": "2024-08-22T01:46:07.081Z"
   },
   {
    "duration": 464,
    "start_time": "2024-08-22T01:46:19.610Z"
   },
   {
    "duration": 510,
    "start_time": "2024-08-22T01:46:23.992Z"
   },
   {
    "duration": 512,
    "start_time": "2024-08-22T01:46:29.097Z"
   },
   {
    "duration": 538,
    "start_time": "2024-08-22T01:46:34.948Z"
   },
   {
    "duration": 592,
    "start_time": "2024-08-22T01:46:41.567Z"
   },
   {
    "duration": 502,
    "start_time": "2024-08-22T01:46:45.582Z"
   },
   {
    "duration": 795,
    "start_time": "2024-08-22T01:46:48.673Z"
   },
   {
    "duration": 596,
    "start_time": "2024-08-22T01:46:54.471Z"
   },
   {
    "duration": 552,
    "start_time": "2024-08-22T01:47:00.141Z"
   },
   {
    "duration": 447,
    "start_time": "2024-08-22T01:47:48.540Z"
   },
   {
    "duration": 609,
    "start_time": "2024-08-22T01:47:53.595Z"
   },
   {
    "duration": 549,
    "start_time": "2024-08-22T01:47:58.305Z"
   },
   {
    "duration": 557,
    "start_time": "2024-08-22T01:48:03.237Z"
   },
   {
    "duration": 162,
    "start_time": "2024-08-22T01:49:03.420Z"
   },
   {
    "duration": 5,
    "start_time": "2024-08-22T01:49:06.272Z"
   },
   {
    "duration": 161,
    "start_time": "2024-08-22T01:49:11.596Z"
   },
   {
    "duration": 3,
    "start_time": "2024-08-22T01:49:13.459Z"
   },
   {
    "duration": 740,
    "start_time": "2024-08-22T01:49:18.935Z"
   },
   {
    "duration": 1595,
    "start_time": "2024-08-22T01:49:19.679Z"
   },
   {
    "duration": 104,
    "start_time": "2024-08-22T01:49:21.277Z"
   },
   {
    "duration": 57,
    "start_time": "2024-08-22T01:49:21.385Z"
   },
   {
    "duration": 61,
    "start_time": "2024-08-22T01:49:21.447Z"
   },
   {
    "duration": 32,
    "start_time": "2024-08-22T01:49:21.512Z"
   },
   {
    "duration": 127,
    "start_time": "2024-08-22T01:49:21.548Z"
   },
   {
    "duration": 205,
    "start_time": "2024-08-22T01:49:21.678Z"
   },
   {
    "duration": 64,
    "start_time": "2024-08-22T01:49:21.887Z"
   },
   {
    "duration": 25,
    "start_time": "2024-08-22T01:49:21.955Z"
   },
   {
    "duration": 7,
    "start_time": "2024-08-22T01:49:21.983Z"
   },
   {
    "duration": 64,
    "start_time": "2024-08-22T01:49:21.994Z"
   },
   {
    "duration": 9,
    "start_time": "2024-08-22T01:49:22.062Z"
   },
   {
    "duration": 7,
    "start_time": "2024-08-22T01:49:22.081Z"
   },
   {
    "duration": 45,
    "start_time": "2024-08-22T01:49:22.092Z"
   },
   {
    "duration": 1421,
    "start_time": "2024-08-22T01:49:22.141Z"
   },
   {
    "duration": 1403,
    "start_time": "2024-08-22T01:49:23.565Z"
   },
   {
    "duration": 12,
    "start_time": "2024-08-22T01:49:24.971Z"
   },
   {
    "duration": 13,
    "start_time": "2024-08-22T01:49:24.987Z"
   },
   {
    "duration": 7,
    "start_time": "2024-08-22T01:49:25.031Z"
   },
   {
    "duration": 12,
    "start_time": "2024-08-22T01:49:25.043Z"
   },
   {
    "duration": 84,
    "start_time": "2024-08-22T01:49:25.058Z"
   },
   {
    "duration": 12,
    "start_time": "2024-08-22T01:49:25.145Z"
   },
   {
    "duration": 73,
    "start_time": "2024-08-22T01:49:25.160Z"
   },
   {
    "duration": 21,
    "start_time": "2024-08-22T01:49:25.237Z"
   },
   {
    "duration": 11,
    "start_time": "2024-08-22T01:49:25.261Z"
   },
   {
    "duration": 901,
    "start_time": "2024-08-22T01:49:25.275Z"
   },
   {
    "duration": 9,
    "start_time": "2024-08-22T01:49:26.180Z"
   },
   {
    "duration": 14,
    "start_time": "2024-08-22T01:49:26.192Z"
   },
   {
    "duration": 403,
    "start_time": "2024-08-22T01:49:26.235Z"
   },
   {
    "duration": 391,
    "start_time": "2024-08-22T01:49:26.642Z"
   },
   {
    "duration": 444,
    "start_time": "2024-08-22T01:49:27.036Z"
   },
   {
    "duration": 120,
    "start_time": "2024-08-22T01:49:27.484Z"
   },
   {
    "duration": 425,
    "start_time": "2024-08-22T01:49:27.607Z"
   },
   {
    "duration": 421,
    "start_time": "2024-08-22T01:49:28.036Z"
   },
   {
    "duration": 664,
    "start_time": "2024-08-22T01:49:28.460Z"
   },
   {
    "duration": 79,
    "start_time": "2024-08-22T01:49:29.128Z"
   },
   {
    "duration": 393,
    "start_time": "2024-08-22T01:49:29.210Z"
   },
   {
    "duration": 171,
    "start_time": "2024-08-22T01:49:29.607Z"
   },
   {
    "duration": 4,
    "start_time": "2024-08-22T01:49:29.781Z"
   },
   {
    "duration": 167,
    "start_time": "2024-08-22T01:52:03.936Z"
   },
   {
    "duration": 7,
    "start_time": "2024-08-22T01:52:20.468Z"
   },
   {
    "duration": 1313,
    "start_time": "2024-08-22T01:52:45.388Z"
   },
   {
    "duration": 169,
    "start_time": "2024-08-22T01:52:54.293Z"
   },
   {
    "duration": 334,
    "start_time": "2024-08-22T01:53:19.230Z"
   },
   {
    "duration": 79,
    "start_time": "2024-08-22T01:53:24.243Z"
   },
   {
    "duration": 99,
    "start_time": "2024-08-22T01:53:35.838Z"
   },
   {
    "duration": 23,
    "start_time": "2024-08-22T01:54:06.470Z"
   },
   {
    "duration": 106,
    "start_time": "2024-08-22T01:55:16.763Z"
   },
   {
    "duration": 99,
    "start_time": "2024-08-22T01:55:51.093Z"
   },
   {
    "duration": 28,
    "start_time": "2024-08-22T01:56:17.210Z"
   },
   {
    "duration": 23,
    "start_time": "2024-08-22T01:56:28.694Z"
   },
   {
    "duration": 737,
    "start_time": "2024-08-22T01:56:34.717Z"
   },
   {
    "duration": 1618,
    "start_time": "2024-08-22T01:56:35.459Z"
   },
   {
    "duration": 92,
    "start_time": "2024-08-22T01:56:37.080Z"
   },
   {
    "duration": 59,
    "start_time": "2024-08-22T01:56:37.175Z"
   },
   {
    "duration": 59,
    "start_time": "2024-08-22T01:56:37.240Z"
   },
   {
    "duration": 39,
    "start_time": "2024-08-22T01:56:37.303Z"
   },
   {
    "duration": 118,
    "start_time": "2024-08-22T01:56:37.348Z"
   },
   {
    "duration": 185,
    "start_time": "2024-08-22T01:56:37.469Z"
   },
   {
    "duration": 48,
    "start_time": "2024-08-22T01:56:37.657Z"
   },
   {
    "duration": 46,
    "start_time": "2024-08-22T01:56:37.708Z"
   },
   {
    "duration": 9,
    "start_time": "2024-08-22T01:56:37.757Z"
   },
   {
    "duration": 64,
    "start_time": "2024-08-22T01:56:37.769Z"
   },
   {
    "duration": 8,
    "start_time": "2024-08-22T01:56:37.836Z"
   },
   {
    "duration": 7,
    "start_time": "2024-08-22T01:56:37.852Z"
   },
   {
    "duration": 8,
    "start_time": "2024-08-22T01:56:37.863Z"
   },
   {
    "duration": 1415,
    "start_time": "2024-08-22T01:56:37.874Z"
   },
   {
    "duration": 1405,
    "start_time": "2024-08-22T01:56:39.292Z"
   },
   {
    "duration": 16,
    "start_time": "2024-08-22T01:56:40.700Z"
   },
   {
    "duration": 14,
    "start_time": "2024-08-22T01:56:40.732Z"
   },
   {
    "duration": 6,
    "start_time": "2024-08-22T01:56:40.750Z"
   },
   {
    "duration": 12,
    "start_time": "2024-08-22T01:56:40.759Z"
   },
   {
    "duration": 92,
    "start_time": "2024-08-22T01:56:40.775Z"
   },
   {
    "duration": 12,
    "start_time": "2024-08-22T01:56:40.870Z"
   },
   {
    "duration": 84,
    "start_time": "2024-08-22T01:56:40.885Z"
   },
   {
    "duration": 20,
    "start_time": "2024-08-22T01:56:40.975Z"
   },
   {
    "duration": 35,
    "start_time": "2024-08-22T01:56:40.998Z"
   },
   {
    "duration": 911,
    "start_time": "2024-08-22T01:56:41.037Z"
   },
   {
    "duration": 9,
    "start_time": "2024-08-22T01:56:41.953Z"
   },
   {
    "duration": 9,
    "start_time": "2024-08-22T01:56:41.965Z"
   },
   {
    "duration": 451,
    "start_time": "2024-08-22T01:56:41.977Z"
   },
   {
    "duration": 340,
    "start_time": "2024-08-22T01:56:42.431Z"
   },
   {
    "duration": 482,
    "start_time": "2024-08-22T01:56:42.778Z"
   },
   {
    "duration": 119,
    "start_time": "2024-08-22T01:56:43.264Z"
   },
   {
    "duration": 417,
    "start_time": "2024-08-22T01:56:43.386Z"
   },
   {
    "duration": 459,
    "start_time": "2024-08-22T01:56:43.807Z"
   },
   {
    "duration": 529,
    "start_time": "2024-08-22T01:56:44.269Z"
   },
   {
    "duration": 93,
    "start_time": "2024-08-22T01:56:44.801Z"
   },
   {
    "duration": 426,
    "start_time": "2024-08-22T01:56:44.897Z"
   },
   {
    "duration": 180,
    "start_time": "2024-08-22T01:56:45.329Z"
   },
   {
    "duration": 165,
    "start_time": "2024-08-22T01:56:45.515Z"
   },
   {
    "duration": 0,
    "start_time": "2024-08-22T01:56:45.683Z"
   },
   {
    "duration": 7,
    "start_time": "2024-08-22T01:56:56.405Z"
   },
   {
    "duration": 958,
    "start_time": "2024-08-22T01:57:21.495Z"
   },
   {
    "duration": 88,
    "start_time": "2024-08-22T01:59:14.690Z"
   },
   {
    "duration": 29,
    "start_time": "2024-08-22T01:59:21.410Z"
   },
   {
    "duration": 569,
    "start_time": "2024-08-22T01:59:38.105Z"
   },
   {
    "duration": 34,
    "start_time": "2024-08-22T01:59:41.667Z"
   },
   {
    "duration": 26,
    "start_time": "2024-08-22T02:00:09.431Z"
   },
   {
    "duration": 6,
    "start_time": "2024-08-22T02:00:18.602Z"
   },
   {
    "duration": 5,
    "start_time": "2024-08-22T02:00:28.915Z"
   },
   {
    "duration": 6,
    "start_time": "2024-08-22T02:00:45.112Z"
   },
   {
    "duration": 6,
    "start_time": "2024-08-22T02:00:49.911Z"
   },
   {
    "duration": 5,
    "start_time": "2024-08-22T02:00:53.412Z"
   },
   {
    "duration": 739,
    "start_time": "2024-08-22T02:01:43.072Z"
   },
   {
    "duration": 129,
    "start_time": "2024-08-22T02:02:44.130Z"
   },
   {
    "duration": 187,
    "start_time": "2024-08-22T02:02:57.942Z"
   },
   {
    "duration": 7,
    "start_time": "2024-08-22T02:02:59.467Z"
   },
   {
    "duration": 137,
    "start_time": "2024-08-22T02:03:01.260Z"
   },
   {
    "duration": 134,
    "start_time": "2024-08-22T02:03:31.879Z"
   },
   {
    "duration": 150,
    "start_time": "2024-08-22T02:04:11.267Z"
   },
   {
    "duration": 147,
    "start_time": "2024-08-22T02:04:17.164Z"
   },
   {
    "duration": 28,
    "start_time": "2024-08-22T02:04:27.708Z"
   },
   {
    "duration": 6,
    "start_time": "2024-08-22T02:04:32.526Z"
   },
   {
    "duration": 416,
    "start_time": "2024-08-22T02:05:34.086Z"
   },
   {
    "duration": 297,
    "start_time": "2024-08-22T02:05:44.203Z"
   },
   {
    "duration": 30,
    "start_time": "2024-08-22T02:05:50.520Z"
   },
   {
    "duration": 244,
    "start_time": "2024-08-22T02:07:26.550Z"
   },
   {
    "duration": 6,
    "start_time": "2024-08-22T02:09:21.220Z"
   },
   {
    "duration": 176,
    "start_time": "2024-08-22T02:09:35.303Z"
   },
   {
    "duration": 177,
    "start_time": "2024-08-22T02:10:00.667Z"
   },
   {
    "duration": 7,
    "start_time": "2024-08-22T02:10:01.858Z"
   },
   {
    "duration": 167,
    "start_time": "2024-08-22T02:10:04.119Z"
   },
   {
    "duration": 16,
    "start_time": "2024-08-22T02:10:30.795Z"
   },
   {
    "duration": 17,
    "start_time": "2024-08-22T02:12:06.024Z"
   },
   {
    "duration": 16,
    "start_time": "2024-08-22T02:12:21.399Z"
   },
   {
    "duration": 18,
    "start_time": "2024-08-22T02:12:47.290Z"
   },
   {
    "duration": 106,
    "start_time": "2024-08-22T02:14:12.392Z"
   },
   {
    "duration": 17,
    "start_time": "2024-08-22T02:14:17.202Z"
   },
   {
    "duration": 456,
    "start_time": "2024-08-22T02:17:17.453Z"
   },
   {
    "duration": 233,
    "start_time": "2024-08-22T02:20:02.293Z"
   },
   {
    "duration": 410,
    "start_time": "2024-08-22T02:20:11.671Z"
   },
   {
    "duration": 279,
    "start_time": "2024-08-22T02:20:27.291Z"
   },
   {
    "duration": 311,
    "start_time": "2024-08-22T02:20:48.805Z"
   },
   {
    "duration": 335,
    "start_time": "2024-08-22T02:21:19.246Z"
   },
   {
    "duration": 442,
    "start_time": "2024-08-22T02:21:47.862Z"
   },
   {
    "duration": 350,
    "start_time": "2024-08-22T02:21:56.790Z"
   },
   {
    "duration": 871,
    "start_time": "2024-08-22T02:22:15.491Z"
   },
   {
    "duration": 329,
    "start_time": "2024-08-22T02:22:21.336Z"
   },
   {
    "duration": 465,
    "start_time": "2024-08-22T02:22:25.213Z"
   },
   {
    "duration": 339,
    "start_time": "2024-08-22T02:22:47.405Z"
   },
   {
    "duration": 719,
    "start_time": "2024-08-22T02:22:55.979Z"
   },
   {
    "duration": 375,
    "start_time": "2024-08-22T02:22:59.772Z"
   },
   {
    "duration": 304,
    "start_time": "2024-08-22T02:23:34.222Z"
   },
   {
    "duration": 359,
    "start_time": "2024-08-22T02:23:59.082Z"
   },
   {
    "duration": 365,
    "start_time": "2024-08-22T02:24:19.569Z"
   },
   {
    "duration": 537,
    "start_time": "2024-08-22T02:24:26.031Z"
   },
   {
    "duration": 372,
    "start_time": "2024-08-22T02:24:29.450Z"
   },
   {
    "duration": 356,
    "start_time": "2024-08-22T02:24:32.612Z"
   },
   {
    "duration": 400,
    "start_time": "2024-08-22T02:26:10.708Z"
   },
   {
    "duration": 384,
    "start_time": "2024-08-22T02:26:27.032Z"
   },
   {
    "duration": 461,
    "start_time": "2024-08-22T02:26:42.687Z"
   },
   {
    "duration": 352,
    "start_time": "2024-08-22T02:26:52.672Z"
   },
   {
    "duration": 345,
    "start_time": "2024-08-22T02:26:58.012Z"
   },
   {
    "duration": 373,
    "start_time": "2024-08-22T02:27:00.746Z"
   },
   {
    "duration": 362,
    "start_time": "2024-08-22T02:27:05.781Z"
   },
   {
    "duration": 353,
    "start_time": "2024-08-22T02:27:09.089Z"
   },
   {
    "duration": 355,
    "start_time": "2024-08-22T02:27:25.315Z"
   },
   {
    "duration": 677,
    "start_time": "2024-08-22T02:27:39.587Z"
   },
   {
    "duration": 396,
    "start_time": "2024-08-22T02:27:58.538Z"
   },
   {
    "duration": 354,
    "start_time": "2024-08-22T02:28:05.282Z"
   },
   {
    "duration": 487,
    "start_time": "2024-08-22T02:29:42.923Z"
   },
   {
    "duration": 479,
    "start_time": "2024-08-22T02:30:00.187Z"
   },
   {
    "duration": 499,
    "start_time": "2024-08-22T02:30:10.731Z"
   },
   {
    "duration": 498,
    "start_time": "2024-08-22T02:30:16.143Z"
   },
   {
    "duration": 479,
    "start_time": "2024-08-22T02:31:02.952Z"
   },
   {
    "duration": 386,
    "start_time": "2024-08-22T02:34:58.258Z"
   },
   {
    "duration": 378,
    "start_time": "2024-08-22T02:35:09.260Z"
   },
   {
    "duration": 290,
    "start_time": "2024-08-22T02:37:57.578Z"
   },
   {
    "duration": 298,
    "start_time": "2024-08-22T02:38:12.748Z"
   },
   {
    "duration": 7,
    "start_time": "2024-08-22T02:38:46.312Z"
   },
   {
    "duration": 15,
    "start_time": "2024-08-22T02:40:00.650Z"
   },
   {
    "duration": 16,
    "start_time": "2024-08-22T02:42:04.037Z"
   },
   {
    "duration": 15,
    "start_time": "2024-08-22T02:42:09.170Z"
   },
   {
    "duration": 261,
    "start_time": "2024-08-22T02:45:17.953Z"
   },
   {
    "duration": 7,
    "start_time": "2024-08-22T02:45:23.581Z"
   },
   {
    "duration": 17,
    "start_time": "2024-08-22T02:45:26.928Z"
   },
   {
    "duration": 6,
    "start_time": "2024-08-22T02:50:40.118Z"
   },
   {
    "duration": 6,
    "start_time": "2024-08-22T02:50:48.096Z"
   },
   {
    "duration": 706,
    "start_time": "2024-08-22T02:51:13.624Z"
   },
   {
    "duration": 1552,
    "start_time": "2024-08-22T02:51:14.334Z"
   },
   {
    "duration": 82,
    "start_time": "2024-08-22T02:51:15.889Z"
   },
   {
    "duration": 56,
    "start_time": "2024-08-22T02:51:15.974Z"
   },
   {
    "duration": 53,
    "start_time": "2024-08-22T02:51:16.036Z"
   },
   {
    "duration": 41,
    "start_time": "2024-08-22T02:51:16.092Z"
   },
   {
    "duration": 110,
    "start_time": "2024-08-22T02:51:16.136Z"
   },
   {
    "duration": 174,
    "start_time": "2024-08-22T02:51:16.249Z"
   },
   {
    "duration": 48,
    "start_time": "2024-08-22T02:51:16.426Z"
   },
   {
    "duration": 23,
    "start_time": "2024-08-22T02:51:16.476Z"
   },
   {
    "duration": 7,
    "start_time": "2024-08-22T02:51:16.530Z"
   },
   {
    "duration": 31,
    "start_time": "2024-08-22T02:51:16.540Z"
   },
   {
    "duration": 8,
    "start_time": "2024-08-22T02:51:16.574Z"
   },
   {
    "duration": 47,
    "start_time": "2024-08-22T02:51:16.588Z"
   },
   {
    "duration": 7,
    "start_time": "2024-08-22T02:51:16.639Z"
   },
   {
    "duration": 1332,
    "start_time": "2024-08-22T02:51:16.649Z"
   },
   {
    "duration": 1325,
    "start_time": "2024-08-22T02:51:17.984Z"
   },
   {
    "duration": 20,
    "start_time": "2024-08-22T02:51:19.312Z"
   },
   {
    "duration": 11,
    "start_time": "2024-08-22T02:51:19.336Z"
   },
   {
    "duration": 6,
    "start_time": "2024-08-22T02:51:19.349Z"
   },
   {
    "duration": 9,
    "start_time": "2024-08-22T02:51:19.358Z"
   },
   {
    "duration": 92,
    "start_time": "2024-08-22T02:51:19.370Z"
   },
   {
    "duration": 10,
    "start_time": "2024-08-22T02:51:19.465Z"
   },
   {
    "duration": 72,
    "start_time": "2024-08-22T02:51:19.478Z"
   },
   {
    "duration": 19,
    "start_time": "2024-08-22T02:51:19.554Z"
   },
   {
    "duration": 8,
    "start_time": "2024-08-22T02:51:19.576Z"
   },
   {
    "duration": 871,
    "start_time": "2024-08-22T02:51:19.587Z"
   },
   {
    "duration": 8,
    "start_time": "2024-08-22T02:51:20.461Z"
   },
   {
    "duration": 7,
    "start_time": "2024-08-22T02:51:20.472Z"
   },
   {
    "duration": 398,
    "start_time": "2024-08-22T02:51:20.482Z"
   },
   {
    "duration": 320,
    "start_time": "2024-08-22T02:51:20.883Z"
   },
   {
    "duration": 431,
    "start_time": "2024-08-22T02:51:21.208Z"
   },
   {
    "duration": 125,
    "start_time": "2024-08-22T02:51:21.642Z"
   },
   {
    "duration": 426,
    "start_time": "2024-08-22T02:51:21.770Z"
   },
   {
    "duration": 437,
    "start_time": "2024-08-22T02:51:22.199Z"
   },
   {
    "duration": 550,
    "start_time": "2024-08-22T02:51:22.639Z"
   },
   {
    "duration": 78,
    "start_time": "2024-08-22T02:51:23.192Z"
   },
   {
    "duration": 402,
    "start_time": "2024-08-22T02:51:23.273Z"
   },
   {
    "duration": 168,
    "start_time": "2024-08-22T02:51:23.679Z"
   },
   {
    "duration": 8,
    "start_time": "2024-08-22T02:51:23.850Z"
   },
   {
    "duration": 16,
    "start_time": "2024-08-22T02:51:23.865Z"
   },
   {
    "duration": 486,
    "start_time": "2024-08-22T02:51:23.884Z"
   },
   {
    "duration": 426,
    "start_time": "2024-08-22T02:51:24.373Z"
   },
   {
    "duration": 331,
    "start_time": "2024-08-22T02:51:24.802Z"
   },
   {
    "duration": 9,
    "start_time": "2024-08-22T02:51:25.135Z"
   },
   {
    "duration": 16,
    "start_time": "2024-08-22T02:51:25.147Z"
   },
   {
    "duration": 7,
    "start_time": "2024-08-22T02:51:25.167Z"
   },
   {
    "duration": 6,
    "start_time": "2024-08-22T02:51:31.446Z"
   },
   {
    "duration": 134,
    "start_time": "2024-08-22T02:52:20.092Z"
   },
   {
    "duration": 2106,
    "start_time": "2024-08-22T03:08:43.288Z"
   },
   {
    "duration": 201,
    "start_time": "2024-08-22T03:09:18.414Z"
   },
   {
    "duration": 340,
    "start_time": "2024-08-22T03:09:54.813Z"
   },
   {
    "duration": 339,
    "start_time": "2024-08-22T03:10:19.523Z"
   },
   {
    "duration": 2157,
    "start_time": "2024-08-22T03:12:09.918Z"
   },
   {
    "duration": 260,
    "start_time": "2024-08-22T03:14:22.653Z"
   },
   {
    "duration": 521,
    "start_time": "2024-08-22T03:14:45.728Z"
   },
   {
    "duration": 279,
    "start_time": "2024-08-22T03:16:04.084Z"
   },
   {
    "duration": 287,
    "start_time": "2024-08-22T03:16:20.231Z"
   },
   {
    "duration": 194,
    "start_time": "2024-08-22T03:16:24.696Z"
   },
   {
    "duration": 279,
    "start_time": "2024-08-22T03:17:28.749Z"
   },
   {
    "duration": 278,
    "start_time": "2024-08-22T03:18:00.516Z"
   },
   {
    "duration": 169,
    "start_time": "2024-08-22T03:18:23.017Z"
   },
   {
    "duration": 158,
    "start_time": "2024-08-22T03:18:30.047Z"
   },
   {
    "duration": 150,
    "start_time": "2024-08-22T03:19:07.786Z"
   },
   {
    "duration": 647,
    "start_time": "2024-08-22T03:19:13.692Z"
   },
   {
    "duration": 1591,
    "start_time": "2024-08-22T03:19:14.343Z"
   },
   {
    "duration": 77,
    "start_time": "2024-08-22T03:19:15.937Z"
   },
   {
    "duration": 47,
    "start_time": "2024-08-22T03:19:16.030Z"
   },
   {
    "duration": 68,
    "start_time": "2024-08-22T03:19:16.083Z"
   },
   {
    "duration": 16,
    "start_time": "2024-08-22T03:19:16.154Z"
   },
   {
    "duration": 104,
    "start_time": "2024-08-22T03:19:16.173Z"
   },
   {
    "duration": 181,
    "start_time": "2024-08-22T03:19:16.280Z"
   },
   {
    "duration": 47,
    "start_time": "2024-08-22T03:19:16.463Z"
   },
   {
    "duration": 39,
    "start_time": "2024-08-22T03:19:16.512Z"
   },
   {
    "duration": 13,
    "start_time": "2024-08-22T03:19:16.554Z"
   },
   {
    "duration": 31,
    "start_time": "2024-08-22T03:19:16.569Z"
   },
   {
    "duration": 29,
    "start_time": "2024-08-22T03:19:16.603Z"
   },
   {
    "duration": 7,
    "start_time": "2024-08-22T03:19:16.642Z"
   },
   {
    "duration": 10,
    "start_time": "2024-08-22T03:19:16.653Z"
   },
   {
    "duration": 1332,
    "start_time": "2024-08-22T03:19:16.665Z"
   },
   {
    "duration": 1358,
    "start_time": "2024-08-22T03:19:18.001Z"
   },
   {
    "duration": 10,
    "start_time": "2024-08-22T03:19:19.364Z"
   },
   {
    "duration": 12,
    "start_time": "2024-08-22T03:19:19.377Z"
   },
   {
    "duration": 4,
    "start_time": "2024-08-22T03:19:19.394Z"
   },
   {
    "duration": 13,
    "start_time": "2024-08-22T03:19:19.433Z"
   },
   {
    "duration": 49,
    "start_time": "2024-08-22T03:19:19.449Z"
   },
   {
    "duration": 35,
    "start_time": "2024-08-22T03:19:19.501Z"
   },
   {
    "duration": 51,
    "start_time": "2024-08-22T03:19:19.538Z"
   },
   {
    "duration": 42,
    "start_time": "2024-08-22T03:19:19.593Z"
   },
   {
    "duration": 17,
    "start_time": "2024-08-22T03:19:19.636Z"
   },
   {
    "duration": 845,
    "start_time": "2024-08-22T03:19:19.655Z"
   },
   {
    "duration": 8,
    "start_time": "2024-08-22T03:19:20.503Z"
   },
   {
    "duration": 21,
    "start_time": "2024-08-22T03:19:20.513Z"
   },
   {
    "duration": 377,
    "start_time": "2024-08-22T03:19:20.536Z"
   },
   {
    "duration": 322,
    "start_time": "2024-08-22T03:19:20.916Z"
   },
   {
    "duration": 431,
    "start_time": "2024-08-22T03:19:21.241Z"
   },
   {
    "duration": 130,
    "start_time": "2024-08-22T03:19:21.674Z"
   },
   {
    "duration": 417,
    "start_time": "2024-08-22T03:19:21.809Z"
   },
   {
    "duration": 410,
    "start_time": "2024-08-22T03:19:22.229Z"
   },
   {
    "duration": 500,
    "start_time": "2024-08-22T03:19:22.645Z"
   },
   {
    "duration": 64,
    "start_time": "2024-08-22T03:19:23.147Z"
   },
   {
    "duration": 383,
    "start_time": "2024-08-22T03:19:23.213Z"
   },
   {
    "duration": 171,
    "start_time": "2024-08-22T03:19:23.599Z"
   },
   {
    "duration": 7,
    "start_time": "2024-08-22T03:19:23.773Z"
   },
   {
    "duration": 15,
    "start_time": "2024-08-22T03:19:23.788Z"
   },
   {
    "duration": 452,
    "start_time": "2024-08-22T03:19:23.830Z"
   },
   {
    "duration": 429,
    "start_time": "2024-08-22T03:19:24.286Z"
   },
   {
    "duration": 330,
    "start_time": "2024-08-22T03:19:24.718Z"
   },
   {
    "duration": 9,
    "start_time": "2024-08-22T03:19:25.051Z"
   },
   {
    "duration": 15,
    "start_time": "2024-08-22T03:19:25.064Z"
   },
   {
    "duration": 197,
    "start_time": "2024-08-22T03:19:25.082Z"
   },
   {
    "duration": 9,
    "start_time": "2024-08-22T03:19:25.282Z"
   },
   {
    "duration": 171,
    "start_time": "2024-08-22T03:19:51.133Z"
   },
   {
    "duration": 164,
    "start_time": "2024-08-22T03:19:57.092Z"
   },
   {
    "duration": 6,
    "start_time": "2024-08-22T03:20:09.463Z"
   },
   {
    "duration": 8,
    "start_time": "2024-08-22T03:20:19.737Z"
   },
   {
    "duration": 7,
    "start_time": "2024-08-22T03:20:25.429Z"
   },
   {
    "duration": 167,
    "start_time": "2024-08-22T03:20:31.106Z"
   },
   {
    "duration": 161,
    "start_time": "2024-08-22T03:20:40.886Z"
   },
   {
    "duration": 163,
    "start_time": "2024-08-22T03:20:44.487Z"
   },
   {
    "duration": 167,
    "start_time": "2024-08-22T03:21:56.955Z"
   },
   {
    "duration": 165,
    "start_time": "2024-08-22T03:22:06.119Z"
   },
   {
    "duration": 166,
    "start_time": "2024-08-22T03:22:14.975Z"
   },
   {
    "duration": 348,
    "start_time": "2024-08-22T03:22:50.523Z"
   },
   {
    "duration": 17,
    "start_time": "2024-08-22T03:22:59.758Z"
   },
   {
    "duration": 5,
    "start_time": "2024-08-22T03:24:45.709Z"
   },
   {
    "duration": 359,
    "start_time": "2024-08-22T03:24:53.560Z"
   },
   {
    "duration": 5,
    "start_time": "2024-08-22T03:25:10.306Z"
   },
   {
    "duration": 362,
    "start_time": "2024-08-22T03:25:13.385Z"
   },
   {
    "duration": 43,
    "start_time": "2024-08-22T03:26:09.782Z"
   },
   {
    "duration": 34,
    "start_time": "2024-08-22T03:26:22.481Z"
   },
   {
    "duration": 32,
    "start_time": "2024-08-22T03:26:33.778Z"
   },
   {
    "duration": 33,
    "start_time": "2024-08-22T03:28:37.509Z"
   },
   {
    "duration": 40,
    "start_time": "2024-08-22T03:28:50.870Z"
   },
   {
    "duration": 38,
    "start_time": "2024-08-22T03:29:26.703Z"
   },
   {
    "duration": 31,
    "start_time": "2024-08-22T03:29:51.200Z"
   },
   {
    "duration": 683,
    "start_time": "2024-08-22T03:30:12.836Z"
   },
   {
    "duration": 1574,
    "start_time": "2024-08-22T03:30:13.530Z"
   },
   {
    "duration": 84,
    "start_time": "2024-08-22T03:30:15.107Z"
   },
   {
    "duration": 62,
    "start_time": "2024-08-22T03:30:15.197Z"
   },
   {
    "duration": 51,
    "start_time": "2024-08-22T03:30:15.262Z"
   },
   {
    "duration": 26,
    "start_time": "2024-08-22T03:30:15.316Z"
   },
   {
    "duration": 105,
    "start_time": "2024-08-22T03:30:15.344Z"
   },
   {
    "duration": 159,
    "start_time": "2024-08-22T03:30:15.452Z"
   },
   {
    "duration": 58,
    "start_time": "2024-08-22T03:30:15.614Z"
   },
   {
    "duration": 23,
    "start_time": "2024-08-22T03:30:15.679Z"
   },
   {
    "duration": 27,
    "start_time": "2024-08-22T03:30:15.704Z"
   },
   {
    "duration": 31,
    "start_time": "2024-08-22T03:30:15.735Z"
   },
   {
    "duration": 8,
    "start_time": "2024-08-22T03:30:15.769Z"
   },
   {
    "duration": 7,
    "start_time": "2024-08-22T03:30:15.779Z"
   },
   {
    "duration": 47,
    "start_time": "2024-08-22T03:30:15.789Z"
   },
   {
    "duration": 1302,
    "start_time": "2024-08-22T03:30:15.839Z"
   },
   {
    "duration": 1301,
    "start_time": "2024-08-22T03:30:17.143Z"
   },
   {
    "duration": 10,
    "start_time": "2024-08-22T03:30:18.446Z"
   },
   {
    "duration": 9,
    "start_time": "2024-08-22T03:30:18.459Z"
   },
   {
    "duration": 6,
    "start_time": "2024-08-22T03:30:18.470Z"
   },
   {
    "duration": 8,
    "start_time": "2024-08-22T03:30:18.480Z"
   },
   {
    "duration": 89,
    "start_time": "2024-08-22T03:30:18.491Z"
   },
   {
    "duration": 10,
    "start_time": "2024-08-22T03:30:18.583Z"
   },
   {
    "duration": 78,
    "start_time": "2024-08-22T03:30:18.596Z"
   },
   {
    "duration": 19,
    "start_time": "2024-08-22T03:30:18.678Z"
   },
   {
    "duration": 32,
    "start_time": "2024-08-22T03:30:18.699Z"
   },
   {
    "duration": 856,
    "start_time": "2024-08-22T03:30:18.734Z"
   },
   {
    "duration": 7,
    "start_time": "2024-08-22T03:30:19.598Z"
   },
   {
    "duration": 27,
    "start_time": "2024-08-22T03:30:19.608Z"
   },
   {
    "duration": 384,
    "start_time": "2024-08-22T03:30:19.637Z"
   },
   {
    "duration": 328,
    "start_time": "2024-08-22T03:30:20.025Z"
   },
   {
    "duration": 436,
    "start_time": "2024-08-22T03:30:20.356Z"
   },
   {
    "duration": 117,
    "start_time": "2024-08-22T03:30:20.795Z"
   },
   {
    "duration": 396,
    "start_time": "2024-08-22T03:30:20.931Z"
   },
   {
    "duration": 409,
    "start_time": "2024-08-22T03:30:21.332Z"
   },
   {
    "duration": 556,
    "start_time": "2024-08-22T03:30:21.744Z"
   },
   {
    "duration": 87,
    "start_time": "2024-08-22T03:30:22.303Z"
   },
   {
    "duration": 399,
    "start_time": "2024-08-22T03:30:22.392Z"
   },
   {
    "duration": 171,
    "start_time": "2024-08-22T03:30:22.793Z"
   },
   {
    "duration": 7,
    "start_time": "2024-08-22T03:30:22.966Z"
   },
   {
    "duration": 15,
    "start_time": "2024-08-22T03:30:22.976Z"
   },
   {
    "duration": 501,
    "start_time": "2024-08-22T03:30:22.994Z"
   },
   {
    "duration": 423,
    "start_time": "2024-08-22T03:30:23.498Z"
   },
   {
    "duration": 331,
    "start_time": "2024-08-22T03:30:23.931Z"
   },
   {
    "duration": 7,
    "start_time": "2024-08-22T03:30:24.265Z"
   },
   {
    "duration": 16,
    "start_time": "2024-08-22T03:30:24.275Z"
   },
   {
    "duration": 384,
    "start_time": "2024-08-22T03:30:24.294Z"
   },
   {
    "duration": 31,
    "start_time": "2024-08-22T03:30:24.680Z"
   },
   {
    "duration": 31,
    "start_time": "2024-08-22T03:30:37.644Z"
   },
   {
    "duration": 33,
    "start_time": "2024-08-22T03:31:39.337Z"
   },
   {
    "duration": 27,
    "start_time": "2024-08-22T03:31:52.147Z"
   },
   {
    "duration": 834,
    "start_time": "2024-08-22T03:31:58.913Z"
   },
   {
    "duration": 26,
    "start_time": "2024-08-22T03:32:05.259Z"
   },
   {
    "duration": 28,
    "start_time": "2024-08-22T03:32:09.536Z"
   },
   {
    "duration": 28,
    "start_time": "2024-08-22T03:32:15.563Z"
   },
   {
    "duration": 41,
    "start_time": "2024-08-22T03:32:23.231Z"
   },
   {
    "duration": 33,
    "start_time": "2024-08-22T03:32:38.911Z"
   },
   {
    "duration": 792,
    "start_time": "2024-08-22T03:32:45.818Z"
   },
   {
    "duration": 32,
    "start_time": "2024-08-22T03:32:50.108Z"
   },
   {
    "duration": 37,
    "start_time": "2024-08-22T03:33:07.939Z"
   },
   {
    "duration": 38,
    "start_time": "2024-08-22T03:33:24.228Z"
   },
   {
    "duration": 39,
    "start_time": "2024-08-22T03:33:49.918Z"
   },
   {
    "duration": 27,
    "start_time": "2024-08-22T03:34:38.281Z"
   },
   {
    "duration": 35,
    "start_time": "2024-08-22T03:37:05.320Z"
   },
   {
    "duration": 34,
    "start_time": "2024-08-22T03:37:19.551Z"
   },
   {
    "duration": 671,
    "start_time": "2024-08-22T03:37:24.236Z"
   },
   {
    "duration": 1572,
    "start_time": "2024-08-22T03:37:24.912Z"
   },
   {
    "duration": 96,
    "start_time": "2024-08-22T03:37:26.486Z"
   },
   {
    "duration": 56,
    "start_time": "2024-08-22T03:37:26.587Z"
   },
   {
    "duration": 51,
    "start_time": "2024-08-22T03:37:26.646Z"
   },
   {
    "duration": 37,
    "start_time": "2024-08-22T03:37:26.700Z"
   },
   {
    "duration": 94,
    "start_time": "2024-08-22T03:37:26.739Z"
   },
   {
    "duration": 166,
    "start_time": "2024-08-22T03:37:26.835Z"
   },
   {
    "duration": 59,
    "start_time": "2024-08-22T03:37:27.003Z"
   },
   {
    "duration": 23,
    "start_time": "2024-08-22T03:37:27.064Z"
   },
   {
    "duration": 7,
    "start_time": "2024-08-22T03:37:27.090Z"
   },
   {
    "duration": 57,
    "start_time": "2024-08-22T03:37:27.099Z"
   },
   {
    "duration": 7,
    "start_time": "2024-08-22T03:37:27.159Z"
   },
   {
    "duration": 7,
    "start_time": "2024-08-22T03:37:27.173Z"
   },
   {
    "duration": 7,
    "start_time": "2024-08-22T03:37:27.183Z"
   },
   {
    "duration": 1347,
    "start_time": "2024-08-22T03:37:27.193Z"
   },
   {
    "duration": 1320,
    "start_time": "2024-08-22T03:37:28.543Z"
   },
   {
    "duration": 10,
    "start_time": "2024-08-22T03:37:29.869Z"
   },
   {
    "duration": 11,
    "start_time": "2024-08-22T03:37:29.882Z"
   },
   {
    "duration": 5,
    "start_time": "2024-08-22T03:37:29.896Z"
   },
   {
    "duration": 9,
    "start_time": "2024-08-22T03:37:29.932Z"
   },
   {
    "duration": 49,
    "start_time": "2024-08-22T03:37:29.944Z"
   },
   {
    "duration": 41,
    "start_time": "2024-08-22T03:37:29.996Z"
   },
   {
    "duration": 52,
    "start_time": "2024-08-22T03:37:30.042Z"
   },
   {
    "duration": 38,
    "start_time": "2024-08-22T03:37:30.097Z"
   },
   {
    "duration": 11,
    "start_time": "2024-08-22T03:37:30.138Z"
   },
   {
    "duration": 846,
    "start_time": "2024-08-22T03:37:30.153Z"
   },
   {
    "duration": 8,
    "start_time": "2024-08-22T03:37:31.002Z"
   },
   {
    "duration": 27,
    "start_time": "2024-08-22T03:37:31.012Z"
   },
   {
    "duration": 376,
    "start_time": "2024-08-22T03:37:31.041Z"
   },
   {
    "duration": 335,
    "start_time": "2024-08-22T03:37:31.420Z"
   },
   {
    "duration": 461,
    "start_time": "2024-08-22T03:37:31.759Z"
   },
   {
    "duration": 121,
    "start_time": "2024-08-22T03:37:32.223Z"
   },
   {
    "duration": 392,
    "start_time": "2024-08-22T03:37:32.347Z"
   },
   {
    "duration": 408,
    "start_time": "2024-08-22T03:37:32.742Z"
   },
   {
    "duration": 516,
    "start_time": "2024-08-22T03:37:33.152Z"
   },
   {
    "duration": 77,
    "start_time": "2024-08-22T03:37:33.672Z"
   },
   {
    "duration": 369,
    "start_time": "2024-08-22T03:37:33.751Z"
   },
   {
    "duration": 162,
    "start_time": "2024-08-22T03:37:34.130Z"
   },
   {
    "duration": 8,
    "start_time": "2024-08-22T03:37:34.295Z"
   },
   {
    "duration": 19,
    "start_time": "2024-08-22T03:37:34.333Z"
   },
   {
    "duration": 460,
    "start_time": "2024-08-22T03:37:34.354Z"
   },
   {
    "duration": 429,
    "start_time": "2024-08-22T03:37:34.818Z"
   },
   {
    "duration": 319,
    "start_time": "2024-08-22T03:37:35.255Z"
   },
   {
    "duration": 8,
    "start_time": "2024-08-22T03:37:35.577Z"
   },
   {
    "duration": 42,
    "start_time": "2024-08-22T03:37:35.588Z"
   },
   {
    "duration": 360,
    "start_time": "2024-08-22T03:37:35.638Z"
   },
   {
    "duration": 44,
    "start_time": "2024-08-22T03:37:36.001Z"
   },
   {
    "duration": 1105,
    "start_time": "2024-08-22T03:40:13.491Z"
   },
   {
    "duration": 184,
    "start_time": "2024-08-22T03:40:49.988Z"
   },
   {
    "duration": 175,
    "start_time": "2024-08-22T03:41:16.748Z"
   },
   {
    "duration": 36,
    "start_time": "2024-08-22T03:41:28.280Z"
   },
   {
    "duration": 9,
    "start_time": "2024-08-22T03:41:34.353Z"
   },
   {
    "duration": 197,
    "start_time": "2024-08-22T03:41:40.054Z"
   },
   {
    "duration": 7,
    "start_time": "2024-08-22T03:43:34.303Z"
   },
   {
    "duration": 5,
    "start_time": "2024-08-22T03:43:43.895Z"
   },
   {
    "duration": 1912,
    "start_time": "2024-08-22T03:43:47.892Z"
   },
   {
    "duration": 196,
    "start_time": "2024-08-22T03:44:24.821Z"
   },
   {
    "duration": 9,
    "start_time": "2024-08-22T03:44:32.454Z"
   },
   {
    "duration": 18,
    "start_time": "2024-08-22T03:44:51.514Z"
   },
   {
    "duration": 6,
    "start_time": "2024-08-22T03:47:10.665Z"
   },
   {
    "duration": 158,
    "start_time": "2024-08-22T03:47:27.868Z"
   },
   {
    "duration": 10,
    "start_time": "2024-08-22T03:47:30.243Z"
   },
   {
    "duration": 11,
    "start_time": "2024-08-22T03:47:32.726Z"
   },
   {
    "duration": 13,
    "start_time": "2024-08-22T03:47:53.470Z"
   },
   {
    "duration": 14,
    "start_time": "2024-08-22T03:49:09.774Z"
   },
   {
    "duration": 11,
    "start_time": "2024-08-22T03:51:18.392Z"
   },
   {
    "duration": 14,
    "start_time": "2024-08-22T03:51:27.435Z"
   },
   {
    "duration": 24,
    "start_time": "2024-08-22T03:51:35.729Z"
   },
   {
    "duration": 14,
    "start_time": "2024-08-22T03:51:48.683Z"
   },
   {
    "duration": 13,
    "start_time": "2024-08-22T03:51:57.991Z"
   },
   {
    "duration": 437,
    "start_time": "2024-08-22T03:53:18.795Z"
   },
   {
    "duration": 76,
    "start_time": "2024-08-22T03:53:24.344Z"
   },
   {
    "duration": 5,
    "start_time": "2024-08-22T03:53:38.653Z"
   },
   {
    "duration": 6,
    "start_time": "2024-08-22T03:53:40.626Z"
   },
   {
    "duration": 73,
    "start_time": "2024-08-22T03:53:50.511Z"
   },
   {
    "duration": 80,
    "start_time": "2024-08-22T03:53:56.389Z"
   },
   {
    "duration": 15,
    "start_time": "2024-08-22T03:54:02.735Z"
   },
   {
    "duration": 13,
    "start_time": "2024-08-22T03:54:47.889Z"
   },
   {
    "duration": 354,
    "start_time": "2024-08-22T03:56:43.749Z"
   },
   {
    "duration": 21,
    "start_time": "2024-08-22T03:57:42.996Z"
   },
   {
    "duration": 83,
    "start_time": "2024-08-22T03:58:00.746Z"
   },
   {
    "duration": 9,
    "start_time": "2024-08-22T03:58:08.135Z"
   },
   {
    "duration": 83,
    "start_time": "2024-08-22T03:58:35.121Z"
   },
   {
    "duration": 6,
    "start_time": "2024-08-22T03:59:25.033Z"
   },
   {
    "duration": 78,
    "start_time": "2024-08-22T03:59:37.552Z"
   },
   {
    "duration": 13,
    "start_time": "2024-08-22T04:00:00.326Z"
   },
   {
    "duration": 24,
    "start_time": "2024-08-22T04:01:15.957Z"
   },
   {
    "duration": 6,
    "start_time": "2024-08-22T04:01:41.976Z"
   },
   {
    "duration": 5,
    "start_time": "2024-08-22T04:02:37.759Z"
   },
   {
    "duration": 6,
    "start_time": "2024-08-22T04:02:44.731Z"
   },
   {
    "duration": 78,
    "start_time": "2024-08-22T04:03:33.129Z"
   },
   {
    "duration": 15,
    "start_time": "2024-08-22T04:03:41.378Z"
   },
   {
    "duration": 200,
    "start_time": "2024-08-22T04:04:10.977Z"
   },
   {
    "duration": 80,
    "start_time": "2024-08-22T04:04:17.863Z"
   },
   {
    "duration": 8,
    "start_time": "2024-08-22T04:04:19.422Z"
   },
   {
    "duration": 80,
    "start_time": "2024-08-22T04:04:24.041Z"
   },
   {
    "duration": 7,
    "start_time": "2024-08-22T04:04:25.337Z"
   },
   {
    "duration": 13,
    "start_time": "2024-08-22T04:04:27.535Z"
   },
   {
    "duration": 56,
    "start_time": "2024-08-22T04:06:09.969Z"
   },
   {
    "duration": 59,
    "start_time": "2024-08-22T04:06:31.716Z"
   },
   {
    "duration": 320,
    "start_time": "2024-08-22T04:06:38.024Z"
   },
   {
    "duration": 11,
    "start_time": "2024-08-22T04:06:46.008Z"
   },
   {
    "duration": 12,
    "start_time": "2024-08-22T04:07:01.264Z"
   },
   {
    "duration": 14,
    "start_time": "2024-08-22T04:07:07.213Z"
   },
   {
    "duration": 81,
    "start_time": "2024-08-22T04:07:14.584Z"
   },
   {
    "duration": 14,
    "start_time": "2024-08-22T04:07:17.533Z"
   },
   {
    "duration": 699,
    "start_time": "2024-08-22T04:07:56.724Z"
   },
   {
    "duration": 1541,
    "start_time": "2024-08-22T04:07:57.427Z"
   },
   {
    "duration": 86,
    "start_time": "2024-08-22T04:07:58.971Z"
   },
   {
    "duration": 41,
    "start_time": "2024-08-22T04:07:59.062Z"
   },
   {
    "duration": 73,
    "start_time": "2024-08-22T04:07:59.106Z"
   },
   {
    "duration": 16,
    "start_time": "2024-08-22T04:07:59.182Z"
   },
   {
    "duration": 123,
    "start_time": "2024-08-22T04:07:59.200Z"
   },
   {
    "duration": 167,
    "start_time": "2024-08-22T04:07:59.330Z"
   },
   {
    "duration": 55,
    "start_time": "2024-08-22T04:07:59.500Z"
   },
   {
    "duration": 22,
    "start_time": "2024-08-22T04:07:59.561Z"
   },
   {
    "duration": 7,
    "start_time": "2024-08-22T04:07:59.586Z"
   },
   {
    "duration": 55,
    "start_time": "2024-08-22T04:07:59.596Z"
   },
   {
    "duration": 7,
    "start_time": "2024-08-22T04:07:59.654Z"
   },
   {
    "duration": 6,
    "start_time": "2024-08-22T04:07:59.664Z"
   },
   {
    "duration": 7,
    "start_time": "2024-08-22T04:07:59.674Z"
   },
   {
    "duration": 1346,
    "start_time": "2024-08-22T04:07:59.685Z"
   },
   {
    "duration": 1355,
    "start_time": "2024-08-22T04:08:01.035Z"
   },
   {
    "duration": 11,
    "start_time": "2024-08-22T04:08:02.392Z"
   },
   {
    "duration": 34,
    "start_time": "2024-08-22T04:08:02.406Z"
   },
   {
    "duration": 8,
    "start_time": "2024-08-22T04:08:02.443Z"
   },
   {
    "duration": 8,
    "start_time": "2024-08-22T04:08:02.455Z"
   },
   {
    "duration": 76,
    "start_time": "2024-08-22T04:08:02.467Z"
   },
   {
    "duration": 9,
    "start_time": "2024-08-22T04:08:02.547Z"
   },
   {
    "duration": 73,
    "start_time": "2024-08-22T04:08:02.559Z"
   },
   {
    "duration": 23,
    "start_time": "2024-08-22T04:08:02.634Z"
   },
   {
    "duration": 9,
    "start_time": "2024-08-22T04:08:02.660Z"
   },
   {
    "duration": 879,
    "start_time": "2024-08-22T04:08:02.673Z"
   },
   {
    "duration": 8,
    "start_time": "2024-08-22T04:08:03.562Z"
   },
   {
    "duration": 8,
    "start_time": "2024-08-22T04:08:03.573Z"
   },
   {
    "duration": 392,
    "start_time": "2024-08-22T04:08:03.584Z"
   },
   {
    "duration": 318,
    "start_time": "2024-08-22T04:08:03.979Z"
   },
   {
    "duration": 453,
    "start_time": "2024-08-22T04:08:04.300Z"
   },
   {
    "duration": 124,
    "start_time": "2024-08-22T04:08:04.757Z"
   },
   {
    "duration": 392,
    "start_time": "2024-08-22T04:08:04.884Z"
   },
   {
    "duration": 423,
    "start_time": "2024-08-22T04:08:05.279Z"
   },
   {
    "duration": 520,
    "start_time": "2024-08-22T04:08:05.705Z"
   },
   {
    "duration": 66,
    "start_time": "2024-08-22T04:08:06.227Z"
   },
   {
    "duration": 404,
    "start_time": "2024-08-22T04:08:06.296Z"
   },
   {
    "duration": 173,
    "start_time": "2024-08-22T04:08:06.703Z"
   },
   {
    "duration": 11,
    "start_time": "2024-08-22T04:08:06.879Z"
   },
   {
    "duration": 15,
    "start_time": "2024-08-22T04:08:06.893Z"
   },
   {
    "duration": 468,
    "start_time": "2024-08-22T04:08:06.932Z"
   },
   {
    "duration": 432,
    "start_time": "2024-08-22T04:08:07.403Z"
   },
   {
    "duration": 258,
    "start_time": "2024-08-22T04:08:07.838Z"
   },
   {
    "duration": 11,
    "start_time": "2024-08-22T04:08:08.099Z"
   },
   {
    "duration": 27,
    "start_time": "2024-08-22T04:08:08.114Z"
   },
   {
    "duration": 366,
    "start_time": "2024-08-22T04:08:08.144Z"
   },
   {
    "duration": 50,
    "start_time": "2024-08-22T04:08:08.513Z"
   },
   {
    "duration": 162,
    "start_time": "2024-08-22T04:09:06.017Z"
   },
   {
    "duration": 13,
    "start_time": "2024-08-22T04:10:14.779Z"
   },
   {
    "duration": 13,
    "start_time": "2024-08-22T04:10:21.313Z"
   },
   {
    "duration": 11,
    "start_time": "2024-08-22T04:10:27.330Z"
   },
   {
    "duration": 14,
    "start_time": "2024-08-22T04:10:41.801Z"
   },
   {
    "duration": 349,
    "start_time": "2024-08-27T00:46:17.925Z"
   },
   {
    "duration": 723,
    "start_time": "2024-08-27T00:46:43.523Z"
   },
   {
    "duration": 83,
    "start_time": "2024-08-27T00:47:51.392Z"
   },
   {
    "duration": 84,
    "start_time": "2024-08-27T00:48:25.600Z"
   },
   {
    "duration": 680,
    "start_time": "2024-08-27T00:48:39.747Z"
   },
   {
    "duration": 1553,
    "start_time": "2024-08-27T00:48:40.432Z"
   },
   {
    "duration": 109,
    "start_time": "2024-08-27T00:48:41.987Z"
   },
   {
    "duration": 64,
    "start_time": "2024-08-27T00:48:42.099Z"
   },
   {
    "duration": 64,
    "start_time": "2024-08-27T00:48:42.168Z"
   },
   {
    "duration": 19,
    "start_time": "2024-08-27T00:48:42.235Z"
   },
   {
    "duration": 127,
    "start_time": "2024-08-27T00:48:42.257Z"
   },
   {
    "duration": 171,
    "start_time": "2024-08-27T00:48:42.388Z"
   },
   {
    "duration": 44,
    "start_time": "2024-08-27T00:48:42.562Z"
   },
   {
    "duration": 45,
    "start_time": "2024-08-27T00:48:42.609Z"
   },
   {
    "duration": 7,
    "start_time": "2024-08-27T00:48:42.657Z"
   },
   {
    "duration": 31,
    "start_time": "2024-08-27T00:48:42.667Z"
   },
   {
    "duration": 11,
    "start_time": "2024-08-27T00:48:42.731Z"
   },
   {
    "duration": 6,
    "start_time": "2024-08-27T00:48:42.749Z"
   },
   {
    "duration": 10,
    "start_time": "2024-08-27T00:48:42.758Z"
   },
   {
    "duration": 1338,
    "start_time": "2024-08-27T00:48:42.771Z"
   },
   {
    "duration": 1327,
    "start_time": "2024-08-27T00:48:44.112Z"
   },
   {
    "duration": 11,
    "start_time": "2024-08-27T00:48:45.442Z"
   },
   {
    "duration": 10,
    "start_time": "2024-08-27T00:48:45.456Z"
   },
   {
    "duration": 5,
    "start_time": "2024-08-27T00:48:45.469Z"
   },
   {
    "duration": 7,
    "start_time": "2024-08-27T00:48:45.478Z"
   },
   {
    "duration": 48,
    "start_time": "2024-08-27T00:48:45.532Z"
   },
   {
    "duration": 11,
    "start_time": "2024-08-27T00:48:45.583Z"
   },
   {
    "duration": 79,
    "start_time": "2024-08-27T00:48:45.596Z"
   },
   {
    "duration": 19,
    "start_time": "2024-08-27T00:48:45.678Z"
   },
   {
    "duration": 35,
    "start_time": "2024-08-27T00:48:45.699Z"
   },
   {
    "duration": 862,
    "start_time": "2024-08-27T00:48:45.738Z"
   },
   {
    "duration": 11,
    "start_time": "2024-08-27T00:48:46.604Z"
   },
   {
    "duration": 17,
    "start_time": "2024-08-27T00:48:46.621Z"
   },
   {
    "duration": 377,
    "start_time": "2024-08-27T00:48:46.641Z"
   },
   {
    "duration": 318,
    "start_time": "2024-08-27T00:48:47.021Z"
   },
   {
    "duration": 437,
    "start_time": "2024-08-27T00:48:47.342Z"
   },
   {
    "duration": 114,
    "start_time": "2024-08-27T00:48:47.782Z"
   },
   {
    "duration": 394,
    "start_time": "2024-08-27T00:48:47.899Z"
   },
   {
    "duration": 425,
    "start_time": "2024-08-27T00:48:48.296Z"
   },
   {
    "duration": 499,
    "start_time": "2024-08-27T00:48:48.731Z"
   },
   {
    "duration": 67,
    "start_time": "2024-08-27T00:48:49.233Z"
   },
   {
    "duration": 382,
    "start_time": "2024-08-27T00:48:49.303Z"
   },
   {
    "duration": 169,
    "start_time": "2024-08-27T00:48:49.688Z"
   },
   {
    "duration": 12,
    "start_time": "2024-08-27T00:48:49.860Z"
   },
   {
    "duration": 12,
    "start_time": "2024-08-27T00:48:49.880Z"
   },
   {
    "duration": 488,
    "start_time": "2024-08-27T00:48:49.895Z"
   },
   {
    "duration": 418,
    "start_time": "2024-08-27T00:48:50.387Z"
   },
   {
    "duration": 259,
    "start_time": "2024-08-27T00:48:50.808Z"
   },
   {
    "duration": 11,
    "start_time": "2024-08-27T00:48:51.070Z"
   },
   {
    "duration": 12,
    "start_time": "2024-08-27T00:48:51.085Z"
   },
   {
    "duration": 370,
    "start_time": "2024-08-27T00:48:51.101Z"
   },
   {
    "duration": 36,
    "start_time": "2024-08-27T00:48:51.474Z"
   },
   {
    "duration": 1138,
    "start_time": "2024-08-27T00:48:51.514Z"
   },
   {
    "duration": 2149,
    "start_time": "2024-08-27T06:37:03.408Z"
   },
   {
    "duration": 975,
    "start_time": "2024-08-27T06:37:05.560Z"
   },
   {
    "duration": 46,
    "start_time": "2024-08-27T06:37:06.537Z"
   },
   {
    "duration": 26,
    "start_time": "2024-08-27T06:37:06.585Z"
   },
   {
    "duration": 49,
    "start_time": "2024-08-27T06:37:06.614Z"
   },
   {
    "duration": 8,
    "start_time": "2024-08-27T06:37:06.665Z"
   },
   {
    "duration": 64,
    "start_time": "2024-08-27T06:37:06.676Z"
   },
   {
    "duration": 86,
    "start_time": "2024-08-27T06:37:06.742Z"
   },
   {
    "duration": 40,
    "start_time": "2024-08-27T06:37:06.830Z"
   },
   {
    "duration": 14,
    "start_time": "2024-08-27T06:37:06.872Z"
   },
   {
    "duration": 5,
    "start_time": "2024-08-27T06:37:06.887Z"
   },
   {
    "duration": 18,
    "start_time": "2024-08-27T06:37:06.893Z"
   },
   {
    "duration": 31,
    "start_time": "2024-08-27T06:37:06.912Z"
   },
   {
    "duration": 4,
    "start_time": "2024-08-27T06:37:06.948Z"
   },
   {
    "duration": 4,
    "start_time": "2024-08-27T06:37:06.954Z"
   },
   {
    "duration": 812,
    "start_time": "2024-08-27T06:37:06.960Z"
   },
   {
    "duration": 779,
    "start_time": "2024-08-27T06:37:07.774Z"
   },
   {
    "duration": 7,
    "start_time": "2024-08-27T06:37:08.554Z"
   },
   {
    "duration": 7,
    "start_time": "2024-08-27T06:37:08.563Z"
   },
   {
    "duration": 4,
    "start_time": "2024-08-27T06:37:08.571Z"
   },
   {
    "duration": 6,
    "start_time": "2024-08-27T06:37:08.576Z"
   },
   {
    "duration": 25,
    "start_time": "2024-08-27T06:37:08.584Z"
   },
   {
    "duration": 36,
    "start_time": "2024-08-27T06:37:08.610Z"
   },
   {
    "duration": 32,
    "start_time": "2024-08-27T06:37:08.648Z"
   },
   {
    "duration": 12,
    "start_time": "2024-08-27T06:37:08.681Z"
   },
   {
    "duration": 4,
    "start_time": "2024-08-27T06:37:08.696Z"
   },
   {
    "duration": 552,
    "start_time": "2024-08-27T06:37:08.702Z"
   },
   {
    "duration": 6,
    "start_time": "2024-08-27T06:37:09.256Z"
   },
   {
    "duration": 5,
    "start_time": "2024-08-27T06:37:09.264Z"
   },
   {
    "duration": 211,
    "start_time": "2024-08-27T06:37:09.271Z"
   },
   {
    "duration": 224,
    "start_time": "2024-08-27T06:37:09.484Z"
   },
   {
    "duration": 232,
    "start_time": "2024-08-27T06:37:09.711Z"
   },
   {
    "duration": 62,
    "start_time": "2024-08-27T06:37:09.946Z"
   },
   {
    "duration": 213,
    "start_time": "2024-08-27T06:37:10.010Z"
   },
   {
    "duration": 215,
    "start_time": "2024-08-27T06:37:10.225Z"
   },
   {
    "duration": 271,
    "start_time": "2024-08-27T06:37:10.442Z"
   },
   {
    "duration": 51,
    "start_time": "2024-08-27T06:37:10.715Z"
   },
   {
    "duration": 199,
    "start_time": "2024-08-27T06:37:10.767Z"
   },
   {
    "duration": 96,
    "start_time": "2024-08-27T06:37:10.968Z"
   },
   {
    "duration": 6,
    "start_time": "2024-08-27T06:37:11.066Z"
   },
   {
    "duration": 7,
    "start_time": "2024-08-27T06:37:11.076Z"
   },
   {
    "duration": 284,
    "start_time": "2024-08-27T06:37:11.085Z"
   },
   {
    "duration": 190,
    "start_time": "2024-08-27T06:37:11.372Z"
   },
   {
    "duration": 161,
    "start_time": "2024-08-27T06:37:11.564Z"
   },
   {
    "duration": 13,
    "start_time": "2024-08-27T06:37:11.727Z"
   },
   {
    "duration": 8,
    "start_time": "2024-08-27T06:37:11.742Z"
   },
   {
    "duration": 211,
    "start_time": "2024-08-27T06:37:11.752Z"
   },
   {
    "duration": 21,
    "start_time": "2024-08-27T06:37:11.965Z"
   },
   {
    "duration": 2123,
    "start_time": "2024-08-29T14:30:40.398Z"
   },
   {
    "duration": 1016,
    "start_time": "2024-08-29T14:30:42.524Z"
   },
   {
    "duration": 49,
    "start_time": "2024-08-29T14:30:43.542Z"
   },
   {
    "duration": 24,
    "start_time": "2024-08-29T14:30:43.594Z"
   },
   {
    "duration": 51,
    "start_time": "2024-08-29T14:30:43.620Z"
   },
   {
    "duration": 9,
    "start_time": "2024-08-29T14:30:43.673Z"
   },
   {
    "duration": 48,
    "start_time": "2024-08-29T14:30:43.683Z"
   },
   {
    "duration": 106,
    "start_time": "2024-08-29T14:30:43.732Z"
   },
   {
    "duration": 38,
    "start_time": "2024-08-29T14:30:43.840Z"
   },
   {
    "duration": 12,
    "start_time": "2024-08-29T14:30:43.883Z"
   },
   {
    "duration": 4,
    "start_time": "2024-08-29T14:30:43.897Z"
   },
   {
    "duration": 18,
    "start_time": "2024-08-29T14:30:43.902Z"
   },
   {
    "duration": 10,
    "start_time": "2024-08-29T14:30:43.921Z"
   },
   {
    "duration": 7,
    "start_time": "2024-08-29T14:30:43.933Z"
   },
   {
    "duration": 33,
    "start_time": "2024-08-29T14:30:43.941Z"
   },
   {
    "duration": 746,
    "start_time": "2024-08-29T14:30:43.976Z"
   },
   {
    "duration": 749,
    "start_time": "2024-08-29T14:30:44.724Z"
   },
   {
    "duration": 6,
    "start_time": "2024-08-29T14:30:45.475Z"
   },
   {
    "duration": 7,
    "start_time": "2024-08-29T14:30:45.482Z"
   },
   {
    "duration": 3,
    "start_time": "2024-08-29T14:30:45.491Z"
   },
   {
    "duration": 5,
    "start_time": "2024-08-29T14:30:45.496Z"
   },
   {
    "duration": 23,
    "start_time": "2024-08-29T14:30:45.502Z"
   },
   {
    "duration": 5,
    "start_time": "2024-08-29T14:30:45.527Z"
   },
   {
    "duration": 31,
    "start_time": "2024-08-29T14:30:45.570Z"
   },
   {
    "duration": 12,
    "start_time": "2024-08-29T14:30:45.602Z"
   },
   {
    "duration": 5,
    "start_time": "2024-08-29T14:30:45.615Z"
   },
   {
    "duration": 527,
    "start_time": "2024-08-29T14:30:45.622Z"
   },
   {
    "duration": 4,
    "start_time": "2024-08-29T14:30:46.153Z"
   },
   {
    "duration": 14,
    "start_time": "2024-08-29T14:30:46.159Z"
   },
   {
    "duration": 222,
    "start_time": "2024-08-29T14:30:46.174Z"
   },
   {
    "duration": 192,
    "start_time": "2024-08-29T14:30:46.398Z"
   },
   {
    "duration": 236,
    "start_time": "2024-08-29T14:30:46.592Z"
   },
   {
    "duration": 71,
    "start_time": "2024-08-29T14:30:46.830Z"
   },
   {
    "duration": 260,
    "start_time": "2024-08-29T14:30:46.904Z"
   },
   {
    "duration": 208,
    "start_time": "2024-08-29T14:30:47.180Z"
   },
   {
    "duration": 261,
    "start_time": "2024-08-29T14:30:47.390Z"
   },
   {
    "duration": 44,
    "start_time": "2024-08-29T14:30:47.653Z"
   },
   {
    "duration": 202,
    "start_time": "2024-08-29T14:30:47.698Z"
   },
   {
    "duration": 97,
    "start_time": "2024-08-29T14:30:47.902Z"
   },
   {
    "duration": 7,
    "start_time": "2024-08-29T14:30:48.001Z"
   },
   {
    "duration": 8,
    "start_time": "2024-08-29T14:30:48.010Z"
   },
   {
    "duration": 291,
    "start_time": "2024-08-29T14:30:48.019Z"
   },
   {
    "duration": 188,
    "start_time": "2024-08-29T14:30:48.312Z"
   },
   {
    "duration": 159,
    "start_time": "2024-08-29T14:30:48.502Z"
   },
   {
    "duration": 11,
    "start_time": "2024-08-29T14:30:48.662Z"
   },
   {
    "duration": 7,
    "start_time": "2024-08-29T14:30:48.676Z"
   },
   {
    "duration": 190,
    "start_time": "2024-08-29T14:30:48.685Z"
   },
   {
    "duration": 20,
    "start_time": "2024-08-29T14:30:48.877Z"
   }
  ],
  "kernelspec": {
   "display_name": "Python 3 (ipykernel)",
   "language": "python",
   "name": "python3"
  },
  "language_info": {
   "codemirror_mode": {
    "name": "ipython",
    "version": 3
   },
   "file_extension": ".py",
   "mimetype": "text/x-python",
   "name": "python",
   "nbconvert_exporter": "python",
   "pygments_lexer": "ipython3",
   "version": "3.9.19"
  },
  "toc": {
   "base_numbering": 1,
   "nav_menu": {},
   "number_sections": true,
   "sideBar": true,
   "skip_h1_title": true,
   "title_cell": "Table of Contents",
   "title_sidebar": "Contents",
   "toc_cell": false,
   "toc_position": {},
   "toc_section_display": true,
   "toc_window_display": false
  },
  "vscode": {
   "interpreter": {
    "hash": "01a7be9ec63e704a62cefc5fe7a4756944464ee731be31632bdf42a4cb4688cf"
   }
  }
 },
 "nbformat": 4,
 "nbformat_minor": 5
}
