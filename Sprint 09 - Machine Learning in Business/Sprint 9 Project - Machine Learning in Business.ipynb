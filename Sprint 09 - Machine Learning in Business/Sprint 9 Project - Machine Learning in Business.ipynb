{
 "cells": [
  {
   "cell_type": "markdown",
   "metadata": {},
   "source": [
    "# Sprint 9 Project: Machine Learning in Business\n",
    "\n",
    "## Introduction\n",
    "\n",
    "### Objective:\n",
    "I work for the OilyGiant mining company. My task is to find the best (most profitable) location for a new oil well. \n",
    "\n",
    "### Workflow:\n",
    "I have data for three geographical regions (A, B, and C) and will analyze it to determine the most profitable location as follows:\n",
    "- Access and prepare the data\n",
    "- Train and test a model for each region\n",
    "    - Split into training and validation set\n",
    "    - Train model and make predictions for validation set\n",
    "    - Determine model RMSE and average volume of oil reserves\n",
    "- Prepare profit calculation\n",
    "    - Calcualte volume of oil reserves sufficient for developing a new well without losses\n",
    "- Write a function to calculate profit based on model predictions\n",
    "    - Select wells with highest predicted values\n",
    "    - Determine target volume of oil reserves\n",
    "    - Suggest region for development and justify choice\n",
    "- Calculate risk and profit for each region\n",
    "    - Use Bootstrap technique to find distribution of profit\n",
    "    - Find average profit, 95% confidence interval, and risk of losses\n",
    "    - Suggest region for development and justify choice\n",
    "    \n",
    "### Conditions:\n",
    "- Only linear regression is suitable for model training\n",
    "- When exploring each region, a study of 500 points was conducted and the best 200 will selected for development\n",
    "- Budget for oil well development is 100 million USD\n",
    "- One barrel of raw oil produces 4.50 USD revenue\n",
    "- Only a risk tolerance of under 2.5% is acceptable\n",
    "- Details of oil well locations and features are not disclosed and are masked in the data\n",
    "    \n",
    "## Import Libraries and Prepare Data    \n",
    "    \n",
    "### Import Libraries"
   ]
  },
  {
   "cell_type": "code",
   "execution_count": 1,
   "metadata": {},
   "outputs": [],
   "source": [
    "# Import required libraries\n",
    "import pandas as pd\n",
    "import numpy as np\n",
    "import matplotlib.pyplot as plt\n",
    "\n",
    "from sklearn.model_selection import train_test_split\n",
    "from sklearn.linear_model import LinearRegression\n",
    "from sklearn.metrics import mean_squared_error"
   ]
  },
  {
   "cell_type": "markdown",
   "metadata": {},
   "source": [
    "### Access Data"
   ]
  },
  {
   "cell_type": "code",
   "execution_count": 2,
   "metadata": {},
   "outputs": [],
   "source": [
    "# Access the data and read into dataframes - converting region names from 0/1/2 to A/B/C for readability\n",
    "geo_data_A = pd.read_csv('/datasets/geo_data_0.csv')\n",
    "geo_data_B = pd.read_csv('/datasets/geo_data_1.csv')\n",
    "geo_data_C = pd.read_csv('/datasets/geo_data_2.csv')"
   ]
  },
  {
   "cell_type": "markdown",
   "metadata": {},
   "source": [
    "### Inspect Data"
   ]
  },
  {
   "cell_type": "code",
   "execution_count": 3,
   "metadata": {},
   "outputs": [
    {
     "name": "stdout",
     "output_type": "stream",
     "text": [
      "Info:\n",
      "<class 'pandas.core.frame.DataFrame'>\n",
      "RangeIndex: 100000 entries, 0 to 99999\n",
      "Data columns (total 5 columns):\n",
      " #   Column   Non-Null Count   Dtype  \n",
      "---  ------   --------------   -----  \n",
      " 0   id       100000 non-null  object \n",
      " 1   f0       100000 non-null  float64\n",
      " 2   f1       100000 non-null  float64\n",
      " 3   f2       100000 non-null  float64\n",
      " 4   product  100000 non-null  float64\n",
      "dtypes: float64(4), object(1)\n",
      "memory usage: 3.8+ MB\n",
      "\n",
      "<class 'pandas.core.frame.DataFrame'>\n",
      "RangeIndex: 100000 entries, 0 to 99999\n",
      "Data columns (total 5 columns):\n",
      " #   Column   Non-Null Count   Dtype  \n",
      "---  ------   --------------   -----  \n",
      " 0   id       100000 non-null  object \n",
      " 1   f0       100000 non-null  float64\n",
      " 2   f1       100000 non-null  float64\n",
      " 3   f2       100000 non-null  float64\n",
      " 4   product  100000 non-null  float64\n",
      "dtypes: float64(4), object(1)\n",
      "memory usage: 3.8+ MB\n",
      "\n",
      "<class 'pandas.core.frame.DataFrame'>\n",
      "RangeIndex: 100000 entries, 0 to 99999\n",
      "Data columns (total 5 columns):\n",
      " #   Column   Non-Null Count   Dtype  \n",
      "---  ------   --------------   -----  \n",
      " 0   id       100000 non-null  object \n",
      " 1   f0       100000 non-null  float64\n",
      " 2   f1       100000 non-null  float64\n",
      " 3   f2       100000 non-null  float64\n",
      " 4   product  100000 non-null  float64\n",
      "dtypes: float64(4), object(1)\n",
      "memory usage: 3.8+ MB\n",
      "\n",
      "Head:\n",
      "      id        f0        f1        f2     product\n",
      "0  txEyH  0.705745 -0.497823  1.221170  105.280062\n",
      "1  2acmU  1.334711 -0.340164  4.365080   73.037750\n",
      "2  409Wp  1.022732  0.151990  1.419926   85.265647\n",
      "3  iJLyR -0.032172  0.139033  2.978566  168.620776\n",
      "4  Xdl7t  1.988431  0.155413  4.751769  154.036647\n",
      "\n",
      "      id         f0         f1        f2     product\n",
      "0  kBEdx -15.001348  -8.276000 -0.005876    3.179103\n",
      "1  62mP7  14.272088  -3.475083  0.999183   26.953261\n",
      "2  vyE1P   6.263187  -5.948386  5.001160  134.766305\n",
      "3  KcrkZ -13.081196 -11.506057  4.999415  137.945408\n",
      "4  AHL4O  12.702195  -8.147433  5.004363  134.766305\n",
      "\n",
      "      id        f0        f1        f2     product\n",
      "0  fwXo0 -1.146987  0.963328 -0.828965   27.758673\n",
      "1  WJtFt  0.262778  0.269839 -2.530187   56.069697\n",
      "2  ovLUW  0.194587  0.289035 -5.586433   62.871910\n",
      "3  q6cA6  2.236060 -0.553760  0.930038  114.572842\n",
      "4  WPMUX -0.515993  1.716266  5.899011  149.600746\n",
      "\n",
      "Check for Missing Values\n",
      "id         0\n",
      "f0         0\n",
      "f1         0\n",
      "f2         0\n",
      "product    0\n",
      "dtype: int64\n",
      "id         0\n",
      "f0         0\n",
      "f1         0\n",
      "f2         0\n",
      "product    0\n",
      "dtype: int64\n",
      "id         0\n",
      "f0         0\n",
      "f1         0\n",
      "f2         0\n",
      "product    0\n",
      "dtype: int64\n",
      "\n",
      "Check for Duplicate Rows\n",
      "10\n",
      "4\n",
      "4\n",
      "\n",
      "          id        f0        f1         f2     product\n",
      "66136  74z30  1.084962 -0.312358   6.990771  127.643327\n",
      "64022  74z30  0.741456  0.459229   5.153109  140.771492\n",
      "51970  A5aEY -0.180335  0.935548  -2.094773   33.020205\n",
      "3389   A5aEY -0.039949  0.156872   0.209861   89.249364\n",
      "69163  AGS9W -0.933795  0.116194  -3.655896   19.230453\n",
      "42529  AGS9W  1.454747 -0.479651   0.683380  126.370504\n",
      "931    HZww2  0.755284  0.368511   1.863211   30.681774\n",
      "7530   HZww2  1.061194 -0.373969  10.430210  158.828695\n",
      "63593  QcMuo  0.635635 -0.473422   0.862670   64.578675\n",
      "1949   QcMuo  0.506563 -0.323775  -2.215583   75.496502\n",
      "75715  Tdehs  0.112079  0.430296   3.218993   60.964018\n",
      "21426  Tdehs  0.829407  0.298807  -0.049563   96.035308\n",
      "92341  TtcGQ  0.110711  1.022689   0.911381  101.318008\n",
      "60140  TtcGQ  0.569276 -0.104876   6.440215   85.350186\n",
      "89582  bsk9y  0.398908 -0.400253  10.122376  163.433078\n",
      "97785  bsk9y  0.378429  0.005837   0.160827  160.637302\n",
      "41724  bxg6G -0.823752  0.546319   3.630479   93.007798\n",
      "1364   bxg6G  0.411645  0.856830  -3.653440   73.604260\n",
      "16633  fiKDv  0.157341  1.028359   5.585586   95.817889\n",
      "90815  fiKDv  0.049883  0.841313   6.394613  137.346586\n",
      "          id         f0         f1        f2     product\n",
      "5849   5ltQ6  -3.435401 -12.296043  1.999796   57.085625\n",
      "84461  5ltQ6  18.213839   2.191999  3.993869  107.813044\n",
      "1305   LHZR0  11.170835  -1.945066  3.002872   80.859783\n",
      "41906  LHZR0  -8.989672  -4.286607  2.009139   57.085625\n",
      "2721   bfPNe  -9.494442  -5.463692  4.006042  110.992147\n",
      "82178  bfPNe  -6.202799  -4.820045  2.995107   84.038886\n",
      "47591  wt4Uk  -9.091098  -8.109279 -0.002314    3.179103\n",
      "82873  wt4Uk  10.259972  -9.376355  4.994297  134.766305\n",
      "          id        f0        f1        f2     product\n",
      "45404  KUPhW  0.231846 -1.698941  4.990775   11.716299\n",
      "55967  KUPhW  1.211150  3.176408  5.543540  132.831802\n",
      "11449  VF7Jo  2.122656 -0.858275  5.746001  181.716817\n",
      "49564  VF7Jo -0.883115  0.560537  0.723601  136.233420\n",
      "44378  Vcm5J -1.229484 -2.439204  1.222909  137.968290\n",
      "95090  Vcm5J  2.587702  1.986875  2.482245   92.327572\n",
      "28039  xCHr8  1.633027  0.368135 -2.378367    6.120525\n",
      "43233  xCHr8 -0.847066  2.101796  5.597130  184.388641\n"
     ]
    }
   ],
   "source": [
    "# Inspect each dataframe\n",
    "# Print info for each dataframe\n",
    "print('Info:')\n",
    "geo_data_A.info()\n",
    "print()\n",
    "geo_data_B.info()\n",
    "print()\n",
    "geo_data_C.info()\n",
    "print()\n",
    "\n",
    "# Print first 5 rows of each dataframe\n",
    "print('Head:')\n",
    "print(geo_data_A.head())\n",
    "print()\n",
    "print(geo_data_B.head())\n",
    "print()\n",
    "print(geo_data_C.head())\n",
    "print()\n",
    "\n",
    "# Check for missing values\n",
    "print('Check for Missing Values')\n",
    "print(geo_data_A.isna().sum())\n",
    "print(geo_data_B.isna().sum())\n",
    "print(geo_data_C.isna().sum())\n",
    "print()\n",
    "\n",
    "# Check for duplicate rows\n",
    "print('Check for Duplicate Rows')\n",
    "print(len(geo_data_A[geo_data_A['id'].duplicated(keep=False)]['id'].unique()))\n",
    "print(len(geo_data_B[geo_data_B['id'].duplicated(keep=False)]['id'].unique()))\n",
    "print(len(geo_data_C[geo_data_C['id'].duplicated(keep=False)]['id'].unique()))\n",
    "print()\n",
    "\n",
    "# Check full data for duplicates\n",
    "print(geo_data_A[geo_data_A['id'].duplicated(keep=False)].sort_values(by=['id']))\n",
    "print(geo_data_B[geo_data_B['id'].duplicated(keep=False)].sort_values(by=['id']))\n",
    "print(geo_data_C[geo_data_C['id'].duplicated(keep=False)].sort_values(by=['id']))"
   ]
  },
  {
   "cell_type": "markdown",
   "metadata": {},
   "source": [
    "### Summary of Data\n",
    "\n",
    "The data is split among three datasets, labeled 0, 1, and 2, each corresponding to a geographical region of interest. There are  100,000 rows of data in each, with no missing values. The headings are defined below:\n",
    "- id - unique oil well identifier\n",
    "- f0, f1, f2 - features of oil well locations\n",
    "- product - volume of reserves in the oil well (thousand barrels)\n",
    "\n",
    "The data types all appear correct:\n",
    "- id is an alphanumeric string corresponding to oil well locations, so object is appropriate\n",
    "- f0, f1, and f2 are unlabeled but significant features of oil well locations in a float format\n",
    "- product is volume of oil reserves as a float\n",
    "\n",
    "There are a few duplicated oil well ID's (10, 4, and 4, respectively) that should be removed entirely, since there is conflicting data between each duplicate and it is not possible to determine which of the two is correct.\n",
    "\n",
    "### Correcting Data"
   ]
  },
  {
   "cell_type": "code",
   "execution_count": 4,
   "metadata": {},
   "outputs": [
    {
     "name": "stdout",
     "output_type": "stream",
     "text": [
      "<class 'pandas.core.frame.DataFrame'>\n",
      "Int64Index: 99980 entries, 0 to 99999\n",
      "Data columns (total 5 columns):\n",
      " #   Column   Non-Null Count  Dtype  \n",
      "---  ------   --------------  -----  \n",
      " 0   id       99980 non-null  object \n",
      " 1   f0       99980 non-null  float64\n",
      " 2   f1       99980 non-null  float64\n",
      " 3   f2       99980 non-null  float64\n",
      " 4   product  99980 non-null  float64\n",
      "dtypes: float64(4), object(1)\n",
      "memory usage: 4.6+ MB\n",
      "<class 'pandas.core.frame.DataFrame'>\n",
      "Int64Index: 99992 entries, 0 to 99999\n",
      "Data columns (total 5 columns):\n",
      " #   Column   Non-Null Count  Dtype  \n",
      "---  ------   --------------  -----  \n",
      " 0   id       99992 non-null  object \n",
      " 1   f0       99992 non-null  float64\n",
      " 2   f1       99992 non-null  float64\n",
      " 3   f2       99992 non-null  float64\n",
      " 4   product  99992 non-null  float64\n",
      "dtypes: float64(4), object(1)\n",
      "memory usage: 4.6+ MB\n",
      "<class 'pandas.core.frame.DataFrame'>\n",
      "Int64Index: 99992 entries, 0 to 99999\n",
      "Data columns (total 5 columns):\n",
      " #   Column   Non-Null Count  Dtype  \n",
      "---  ------   --------------  -----  \n",
      " 0   id       99992 non-null  object \n",
      " 1   f0       99992 non-null  float64\n",
      " 2   f1       99992 non-null  float64\n",
      " 3   f2       99992 non-null  float64\n",
      " 4   product  99992 non-null  float64\n",
      "dtypes: float64(4), object(1)\n",
      "memory usage: 4.6+ MB\n"
     ]
    }
   ],
   "source": [
    "# Removing duplicate oil well IDs entirely\n",
    "geo_data_A.drop_duplicates(subset=['id'], keep=False, inplace=True)\n",
    "geo_data_B.drop_duplicates(subset=['id'], keep=False, inplace=True)\n",
    "geo_data_C.drop_duplicates(subset=['id'], keep=False, inplace=True)\n",
    "\n",
    "# Confirming removal of duplicates\n",
    "geo_data_A.info()\n",
    "geo_data_B.info()\n",
    "geo_data_C.info()"
   ]
  },
  {
   "cell_type": "markdown",
   "metadata": {},
   "source": [
    "## Model Training and Testing\n",
    "\n",
    "### Split Data into Training and Validation Sets, Features vs. Target"
   ]
  },
  {
   "cell_type": "code",
   "execution_count": 5,
   "metadata": {},
   "outputs": [],
   "source": [
    "# Splitting each dataframe into training and validation sets (75:25)\n",
    "\n",
    "geo_data_A_train, geo_data_A_valid = train_test_split(geo_data_A, test_size=0.25, random_state=12345)\n",
    "geo_data_B_train, geo_data_B_valid = train_test_split(geo_data_B, test_size=0.25, random_state=12345)\n",
    "geo_data_C_train, geo_data_C_valid = train_test_split(geo_data_C, test_size=0.25, random_state=12345)\n",
    "\n",
    "# Features are f0, f1, and f2. Target is product. ID is not relevant to the model.\n",
    "# Creating training sets\n",
    "\n",
    "geo_data_A_train_features = geo_data_A_train.drop(['id', 'product'], axis=1)\n",
    "geo_data_A_train_target = geo_data_A_train['product']\n",
    "\n",
    "geo_data_B_train_features = geo_data_B_train.drop(['id', 'product'], axis=1)\n",
    "geo_data_B_train_target = geo_data_B_train['product']\n",
    "\n",
    "geo_data_C_train_features = geo_data_C_train.drop(['id', 'product'], axis=1)\n",
    "geo_data_C_train_target = geo_data_C_train['product']\n",
    "\n",
    "# Doing the same for validation sets\n",
    "\n",
    "geo_data_A_valid_features = geo_data_A_valid.drop(['id', 'product'], axis=1)\n",
    "geo_data_A_valid_target = geo_data_A_valid['product']\n",
    "\n",
    "geo_data_B_valid_features = geo_data_B_valid.drop(['id', 'product'], axis=1)\n",
    "geo_data_B_valid_target = geo_data_B_valid['product']\n",
    "\n",
    "geo_data_C_valid_features = geo_data_C_valid.drop(['id', 'product'], axis=1)\n",
    "geo_data_C_valid_target = geo_data_C_valid['product']"
   ]
  },
  {
   "cell_type": "markdown",
   "metadata": {},
   "source": [
    "### Train Model\n",
    "\n",
    "For this project, I am using a Linear Regression model."
   ]
  },
  {
   "cell_type": "code",
   "execution_count": 6,
   "metadata": {},
   "outputs": [
    {
     "name": "stdout",
     "output_type": "stream",
     "text": [
      "Prediction for Region A: [ 62.28661337  70.42817752  87.34956247 ...  95.05743312  78.94454642\n",
      " 115.48299868]\n",
      "\n",
      "Prediction for Region B: [ 55.97173467  54.63363312  54.67483347 ... 110.00204638 137.90166257\n",
      "   0.51133538]\n",
      "\n",
      "Prediction for Region C: [ 42.98902811  95.46229171 109.40809048 ...  85.50757813 111.31955742\n",
      "  75.94431003]\n"
     ]
    }
   ],
   "source": [
    "# Training Linear Regression model using training datasets\n",
    "# Define the type of model\n",
    "modelA = LinearRegression()\n",
    "modelB = LinearRegression()\n",
    "modelC = LinearRegression()\n",
    "\n",
    "# Fit the model into each set of training features and target data\n",
    "modelA.fit(geo_data_A_train_features, geo_data_A_train_target)\n",
    "modelB.fit(geo_data_B_train_features, geo_data_B_train_target)\n",
    "modelC.fit(geo_data_C_train_features, geo_data_C_train_target)\n",
    "\n",
    "# Making predictions about each validation dataset\n",
    "predictions_valid_A = modelA.predict(geo_data_A_valid_features)\n",
    "predictions_valid_B = modelB.predict(geo_data_B_valid_features)\n",
    "predictions_valid_C = modelC.predict(geo_data_C_valid_features)\n",
    "\n",
    "# Print results\n",
    "print(f'Prediction for Region A: {predictions_valid_A}')\n",
    "print()\n",
    "print(f'Prediction for Region B: {predictions_valid_B}')\n",
    "print()\n",
    "print(f'Prediction for Region C: {predictions_valid_C}')"
   ]
  },
  {
   "cell_type": "markdown",
   "metadata": {},
   "source": [
    "### Average Predicted Oil Reserves and Model RMSE"
   ]
  },
  {
   "cell_type": "code",
   "execution_count": 7,
   "metadata": {},
   "outputs": [
    {
     "name": "stdout",
     "output_type": "stream",
     "text": [
      "Average predicted oil reserves in Region A: 92.42\n",
      "\n",
      "Average predicted oil reserves in Region B: 68.98\n",
      "\n",
      "Average predicted oil reserves in Region C: 95.12\n",
      "\n",
      "\n",
      "RMSE of model for Region A: 37.72\n",
      "\n",
      "RMSE of model for Region B: 0.89\n",
      "\n",
      "RMSE of model for Region C: 39.98\n"
     ]
    }
   ],
   "source": [
    "# Average predicted oil reserves will be the average of all values in predict0, predict1, and predict2\n",
    "print(f'Average predicted oil reserves in Region A: {predictions_valid_A.mean():.2f}')\n",
    "print()\n",
    "print(f'Average predicted oil reserves in Region B: {predictions_valid_B.mean():.2f}')\n",
    "print()\n",
    "print(f'Average predicted oil reserves in Region C: {predictions_valid_C.mean():.2f}')\n",
    "print()\n",
    "print()\n",
    "\n",
    "# RMSE is square root of MSE\n",
    "rmseA = mean_squared_error(geo_data_A_valid_target, predictions_valid_A) ** 0.5\n",
    "rmseB = mean_squared_error(geo_data_B_valid_target, predictions_valid_B) ** 0.5\n",
    "rmseC = mean_squared_error(geo_data_C_valid_target, predictions_valid_C) ** 0.5\n",
    "\n",
    "# Print RMSEs\n",
    "print(f'RMSE of model for Region A: {rmseA:.2f}')\n",
    "print()\n",
    "print(f'RMSE of model for Region B: {rmseB:.2f}')\n",
    "print()\n",
    "print(f'RMSE of model for Region C: {rmseC:.2f}')"
   ]
  },
  {
   "cell_type": "markdown",
   "metadata": {},
   "source": [
    "### Analysis of Model Predictions\n",
    "\n",
    "The model predicts lowest average oil reserves in Region B (x̄ = 68.98 thousand barrels), followed by Region A (x̄ = 92.42 thousand barrels), and Region C (x̄ = 95.12 thousand barrels). However, the root mean squared error (RMSE) of the model for Region B is also lowest (0.89), followed by Region A (37.72), and Region C (39.98). The results are summarized in the table below:\n",
    "\n",
    "| Region | Predicted Reserves (x1000 Barrels) | RMSE |\n",
    "|:----------:|:----------:|:----------:|\n",
    "| A  | 92.42  | 37.72 |\n",
    "| B  | 68.98  | 0.89 |\n",
    "| C  | 95.12  | 39.98 |\n",
    "\n",
    "While Region B is predicted to have the lowest oil reserves, its model also has the lowest RMSE. It would be premature to assume that any region is the most likely to be profitable from just this analysis, so further investigation is required."
   ]
  },
  {
   "cell_type": "markdown",
   "metadata": {},
   "source": [
    "## Profit Calculation\n",
    "\n",
    "### Preparing Variables"
   ]
  },
  {
   "cell_type": "code",
   "execution_count": 8,
   "metadata": {},
   "outputs": [],
   "source": [
    "# Defining variables for profit calculation\n",
    "# Create variable for budget\n",
    "budget_amount = 100000000\n",
    "\n",
    "# Create variable for well sample size\n",
    "well_sample_size = 200\n",
    "\n",
    "# Create variable for revenue per unit of product (1000 barrels of oil)\n",
    "revenue_per_unit = 4500"
   ]
  },
  {
   "cell_type": "markdown",
   "metadata": {},
   "source": [
    "Calculation for minimum average oil volume per well to break even on investment:\n",
    "\n",
    "*(Total Budget / Revenue Per Well) / Number of Wells = Minimum Average Volume Per Well*\n",
    "\n",
    "### Calculating Minimum Reserves to Avoid Losses"
   ]
  },
  {
   "cell_type": "code",
   "execution_count": 9,
   "metadata": {},
   "outputs": [
    {
     "name": "stdout",
     "output_type": "stream",
     "text": [
      "The minimum volume of oil each well would need to produce to break even is: 111.11\n",
      "On average, the volume of oil each well in Region A produces is: 92.50\n",
      "On average, the volume of oil each well in Region B produces is: 68.82\n",
      "On average, the volume of oil each well in Region C produces is: 95.00\n"
     ]
    }
   ],
   "source": [
    "# Calculate minimum volume per well  \n",
    "average_volume_per_well = (budget_amount / revenue_per_unit) / well_sample_size\n",
    "\n",
    "# Print result\n",
    "print(f'The minimum volume of oil each well would need to produce to break even is: {average_volume_per_well:.2f}')\n",
    "\n",
    "# Caculate the average oil volume per well for each region \n",
    "region_A_average = geo_data_A['product'].mean()\n",
    "region_B_average = geo_data_B['product'].mean()\n",
    "region_C_average = geo_data_C['product'].mean()\n",
    "\n",
    "# Print average volumes for each region\n",
    "print(f'On average, the volume of oil each well in Region A produces is: {region_A_average:.2f}')\n",
    "print(f'On average, the volume of oil each well in Region B produces is: {region_B_average:.2f}')\n",
    "print(f'On average, the volume of oil each well in Region C produces is: {region_C_average:.2f}')"
   ]
  },
  {
   "cell_type": "markdown",
   "metadata": {},
   "source": [
    "### Summary of Profitability\n",
    "\n",
    "Compared to the minimum break-even volume of 111.11, Regions A (92.50), B (68.82), and C (95.00), on average, produce a lot less oil. Investing at this point would not be profitable. I will have to do further analysis before determining the best region in which to invest.\n",
    "\n",
    "## Calculate Profit From Set of Selected Oil Wells & Model Predictions\n",
    "\n",
    "### Writing a Function to Calculate Profit"
   ]
  },
  {
   "cell_type": "code",
   "execution_count": 10,
   "metadata": {
    "scrolled": true
   },
   "outputs": [
    {
     "name": "stdout",
     "output_type": "stream",
     "text": [
      "Region A\n",
      "The total oil reserve size for Region A is 29191.17\n",
      "The average volume per the top 200 wells in Region A is 145.96\n",
      "The revenue for Region A is 131360260.57\n",
      "The profit for Region A is 31360260.57\n",
      "\n",
      "Region B\n",
      "The total oil reserve size for Region B is 27589.08\n",
      "The average volume per the top 200 wells in Region B is 137.95\n",
      "The revenue for Region B is 124150866.97\n",
      "The profit for Region B is 24150866.97\n",
      "\n",
      "Region C\n",
      "The total oil reserve size for Region C is 27702.1\n",
      "The average volume per the top 200 wells in Region C is 138.51\n",
      "The revenue for Region C is 124659457.92\n",
      "The profit for Region C is 24659457.92\n",
      "\n"
     ]
    },
    {
     "data": {
      "text/plain": [
       "24659457.92012264"
      ]
     },
     "execution_count": 10,
     "metadata": {},
     "output_type": "execute_result"
    }
   ],
   "source": [
    "# This version of function prints results but does not return profit (see below)\n",
    "def calculate_profit(target, probabilities, count, budget, revenue, region, printing=True):\n",
    "    # Convert target and probabilities into series\n",
    "    target_series = pd.Series(target)\n",
    "    predictions_series = pd.Series(probabilities)\n",
    "        \n",
    "    # Reset the index on the target\n",
    "    target_series = target_series.reset_index(drop=True)\n",
    "    predictions_series = predictions_series.reset_index(drop=True)\n",
    "    \n",
    "    # Sort the predictions by descending volume and select the indices of the top 200 oil producing wells\n",
    "    # These indices will be used to filter for the actual values of those top 200 wells so that we can calculate revenue\n",
    "    top_wells = predictions_series.sort_values(ascending=False).head(count).index\n",
    "    \n",
    "    # Get the total volume of oil from the top 200 wells \n",
    "    actual_volume = target_series.loc[top_wells].sum()\n",
    "    \n",
    "    # Get the average volume of oil from the top 200 wells \n",
    "    average_volume = target_series.loc[top_wells].mean()\n",
    "    \n",
    "    # Calcuate revenue\n",
    "    # Revenue is the volume of oil for top 200 wells multiplied by $4500\n",
    "    revenue_calc = actual_volume * revenue_per_unit\n",
    "    \n",
    "    # Profit is defined as the revenue minus our budget of $100 Million USD to purchase 200 wells in a region\n",
    "    profit = revenue_calc - budget\n",
    "    \n",
    "    # Print values if printing=True\n",
    "    if printing:\n",
    "        print(region)\n",
    "        print('The total oil reserve size for', region, 'is', round(actual_volume, 2))\n",
    "        print('The average volume per the top 200 wells in', region, 'is', round(average_volume, 2))\n",
    "        print('The revenue for', region, 'is', round(revenue_calc, 2))\n",
    "        print('The profit for', region, 'is', round(profit, 2))\n",
    "        print()\n",
    "    \n",
    "    return profit\n",
    "         \n",
    "# Call function to calculate revenue and profit per region and other metrics per region    \n",
    "calculate_profit(geo_data_A_valid_target, predictions_valid_A, well_sample_size, budget_amount, revenue_per_unit, 'Region A')\n",
    "calculate_profit(geo_data_B_valid_target, predictions_valid_B, well_sample_size, budget_amount, revenue_per_unit, 'Region B')\n",
    "calculate_profit(geo_data_C_valid_target, predictions_valid_C, well_sample_size, budget_amount, revenue_per_unit, 'Region C')"
   ]
  },
  {
   "cell_type": "markdown",
   "metadata": {},
   "source": [
    "### Summary of Profitability of Each Region\n",
    "\n",
    "In the previous step, I created a function to perform the following steps:\n",
    "1. Using the model's predicted volume for each oil well in region, I created a list of the top 200 wells in each region.\n",
    "2. Using the incidices of these 200 wells, I selected the actual volume of these wells from the target validation set.\n",
    "3. Using the actual volume of the top 200 wells in each region, I summed the volume of each well to get a total volume for the region.\n",
    "4. I then multiplied the total volume by 4500 which is the price per 1000 barrels (one unit of volume). This provides the revenue for the top 200 wells in each region.\n",
    "5. If we subtract our budget of 100 Million USD from each region's revenue, we will know the profit the region is expected to make us if we invest in the creation of 200 wells in that region.\n",
    "\n",
    "Overall, the region with the highest expected profit is Region C, providing a profit of 24,659,457.92. Findings are summarized in the table below:\n",
    "\n",
    "| Region | Total Oil Reserves (x1000 Barrels) | Average Oil Reserves per Well (x1000 Barrels) | Revenue (USD) | Profit (USD) |\n",
    "|:----------:|:----------:|:----------:|:----------:|:----------:|\n",
    "| A  | 27525.41 | 137.63 | 123,864,348.34  | 23,864,348.34 |\n",
    "| B  | 27137.65  | 135.69 | 122,119,420.42  | 22,119,420.42  |\n",
    "| C  | 27702.10  | 138.51 | 124,659,457.92  | 24,659,457.92  |  \n",
    "\n",
    "Additionally, recall that to break even, we needed an average volume of 111.11. When we pick the top 200 wells in each region, we see that the volume far exceeds 111.11. There is a chance now that we can be profitable, but we will need to calculate the risk of having losses in each region, which will be calculated in a later step.\n",
    "\n",
    "## Calculate Risks and Profit for Each Region\n",
    "\n",
    "### Using Bootstrap Technique to Find Distribution of Profit"
   ]
  },
  {
   "cell_type": "markdown",
   "metadata": {},
   "source": [
    "### Find Average Profit, 95\\% Confidence Interval & Risk of Losses\n",
    "\n",
    "Loss means negative profit, so risk of loss is the probability that the profit is negative, expressed as a percentage."
   ]
  },
  {
   "cell_type": "code",
   "execution_count": 42,
   "metadata": {
    "scrolled": true
   },
   "outputs": [
    {
     "name": "stdout",
     "output_type": "stream",
     "text": [
      "Region A\n",
      "The lower and upper bounds of the 95% confidence interval are [-368420.83, 9017043.58]\n",
      "The average profit of Region A is 4378754.96\n",
      "The risk of losses is 3.7 % - This is the probability that profit will be negative\n",
      "\n",
      "Region B\n",
      "The lower and upper bounds of the 95% confidence interval are [638552.54, 8471097.63]\n",
      "The average profit of Region B is 4589741.58\n",
      "The risk of losses is 1.2 % - This is the probability that profit will be negative\n",
      "\n",
      "Region C\n",
      "The lower and upper bounds of the 95% confidence interval are [-1936033.38, 8460845.15]\n",
      "The average profit of Region C is 3184010.0\n",
      "The risk of losses is 13.5 % - This is the probability that profit will be negative\n",
      "\n"
     ]
    },
    {
     "data": {
      "image/png": "[encoded data removed]",
      "text/plain": [
       "<Figure size 640x480 with 1 Axes>"
      ]
     },
     "metadata": {},
     "output_type": "display_data"
    },
    {
     "data": {
      "image/png": "[encoded data removed]",
      "text/plain": [
       "<Figure size 640x480 with 1 Axes>"
      ]
     },
     "metadata": {},
     "output_type": "display_data"
    },
    {
     "data": {
      "image/png": "[encoded data removed]",
      "text/plain": [
       "<Figure size 640x480 with 1 Axes>"
      ]
     },
     "metadata": {},
     "output_type": "display_data"
    },
    {
     "data": {
      "image/png": "[encoded data removed]",
      "text/plain": [
       "<Figure size 640x480 with 1 Axes>"
      ]
     },
     "metadata": {},
     "output_type": "display_data"
    }
   ],
   "source": [
    "# Create a function for bootstrapping for confidence intervals \n",
    "# Parameterswill be the same as for the profit function\n",
    "def calculate_profit_bootstrap(target, probabilities, count, budget, revenue, region):\n",
    "    \n",
    "    # Convert target and probabilities into series\n",
    "    target_series = pd.Series(target)\n",
    "    predictions_series = pd.Series(probabilities)\n",
    "    \n",
    "    # Reset the index on the target and predictions\n",
    "    target_series = target_series.reset_index(drop=True)\n",
    "    predictions_series = predictions_series.reset_index(drop=True)\n",
    "       \n",
    "    # Create a list to store profits of each region \n",
    "    values = []\n",
    "        \n",
    "    # We run the profit calculation 1000 times using a sample of 200 wells from each region\n",
    "    # This will allow us to determine the average profit of any n number of wells to calculate loss\n",
    "    for i in range(1000):\n",
    "        target_subsample = target_series.sample(n=500, replace=True)\n",
    "        probs_subsample = predictions_series[target_subsample.index]\n",
    "        # Append profit of each subsample to values list, with profit function printing disabled\n",
    "        values.append(calculate_profit(target_subsample, probs_subsample, count, budget, revenue, region, printing=False))\n",
    "    \n",
    "    # Convert values to a series\n",
    "    values = pd.Series(values)\n",
    "    \n",
    "    # Create a upper and lower bound to calculate 95% confidence interval (2.50% - 97.5%)\n",
    "    lower = round(values.quantile(0.025), 2)\n",
    "    upper = round(values.quantile(0.975), 2)\n",
    "    \n",
    "    # Calculate mean of sample\n",
    "    mean = values.mean()\n",
    "    \n",
    "    # We want to determine how many of the 1000 runs have negative profit to calculate risk of loss percentage\n",
    "    # unprofitable wells on average / 1000 runs of the function\n",
    "    risk_of_losses = (values < 0).mean() * 100   \n",
    "   \n",
    "    # Print metrics about the bootstrapping\n",
    "    print(region)\n",
    "    print('The lower and upper bounds of the 95% confidence interval are', list((lower, upper)))\n",
    "    print('The average profit of', region,'is', round(mean, 2))\n",
    "    print('The risk of losses is', round(risk_of_losses, 2),'% - This is the probability that profit will be negative')\n",
    "    print()\n",
    "    \n",
    "    # Return values divided by 10 to change units to USD millions\n",
    "    return values\n",
    "\n",
    "# Create empty lists to store profit values sorted by region in for plotting later\n",
    "region_A_values = []\n",
    "region_B_values = []\n",
    "region_C_values = []\n",
    "\n",
    "# Append profit values into empty lists per region\n",
    "region_A_values.append(calculate_profit_bootstrap(geo_data_A_valid_target, predictions_valid_A, well_sample_size, budget_amount, revenue_per_unit, 'Region A'))\n",
    "region_B_values.append(calculate_profit_bootstrap(geo_data_B_valid_target, predictions_valid_B, well_sample_size, budget_amount, revenue_per_unit, 'Region B'))\n",
    "region_C_values.append(calculate_profit_bootstrap(geo_data_C_valid_target, predictions_valid_C, well_sample_size, budget_amount, revenue_per_unit, 'Region C'))\n",
    "\n",
    "# Plot distributions of profit from sampling the top 200 wells in each region from results above \n",
    "# Region A\n",
    "plt.hist(region_A_values, bins=20)\n",
    "plt.title('Region A - Profit Distribution for Top 200 Wells from Random Sample of 500')\n",
    "plt.xlabel('Profit (Millions USD)')\n",
    "plt.ylabel('Count of Oil Wells')\n",
    "plt.xticks([-5000000, -4000000, -3000000, -2000000, -1000000, 0, 1000000, 2000000, 3000000, 4000000, 5000000, 6000000, 7000000, 8000000, 9000000, 10000000, 11000000, 12000000, 13000000], ['-5', '-4', '-3', '-2', '-1', '0', '1', '2', '3', '4', '5', '6', '7', '8', '9', '10', '11', '12', '13'])\n",
    "plt.show()\n",
    "\n",
    "# Region B\n",
    "plt.hist(region_B_values, bins=20)\n",
    "plt.title('Region B - Profit Distribution for Top 200 Wells from Random Sample of 500')\n",
    "plt.xlabel('Profit (Millions USD)')\n",
    "plt.ylabel('Count of Oil Wells')\n",
    "plt.xticks([-5000000, -4000000, -3000000, -2000000, -1000000, 0, 1000000, 2000000, 3000000, 4000000, 5000000, 6000000, 7000000, 8000000, 9000000, 10000000, 11000000, 12000000, 13000000], ['-5', '-4', '-3', '-2', '-1', '0', '1', '2', '3', '4', '5', '6', '7', '8', '9', '10', '11', '12', '13'])\n",
    "plt.show()\n",
    "\n",
    "# Region C\n",
    "plt.hist(region_C_values, bins=20)\n",
    "plt.title('Region C - Profit Distribution for Top 200 Wells from Random Sample of 500')\n",
    "plt.xlabel('Profit (Millions USD)')\n",
    "plt.ylabel('Count of Oil Wells')\n",
    "plt.xticks([-5000000, -4000000, -3000000, -2000000, -1000000, 0, 1000000, 2000000, 3000000, 4000000, 5000000, 6000000, 7000000, 8000000, 9000000, 10000000, 11000000, 12000000, 13000000], ['-5', '-4', '-3', '-2', '-1', '0', '1', '2', '3', '4', '5', '6', '7', '8', '9', '10', '11', '12', '13'])\n",
    "plt.show()\n",
    "\n",
    "# Create a boxplot of all 3 regions' profit distributions\n",
    "# Making sure all data is in list format for boxplot\n",
    "region_A_values = np.array(region_A_values)\n",
    "region_B_values = np.array(region_B_values)\n",
    "region_C_values = np.array(region_C_values)\n",
    "# Creating a list of lists to plot boxplot\n",
    "boxplot_data = [region_A_values, region_B_values, region_C_values]\n",
    "# Data had shape 1,1000 instead of 1000,1 so it needed to be flattened\n",
    "boxplot_data = [d.flatten() for d in boxplot_data]\n",
    "# Plot the boxplot   \n",
    "categories = ['A', 'B', 'C']\n",
    "plt.boxplot(boxplot_data, labels=categories, notch=True, patch_artist=True, showmeans=True)\n",
    "plt.title('Profit Distribution for Top 200 Wells Out of Random Sample of 500 Across Three Regions')\n",
    "plt.xlabel('Region')\n",
    "plt.ylabel('Profit (Millions USD)')\n",
    "plt.yticks([-6000000, -5000000, -4000000, -3000000, -2000000, -1000000, 0, 1000000, 2000000, 3000000, 4000000, 5000000, 6000000, 7000000, 8000000, 9000000, 10000000, 11000000, 12000000, 13000000], ['-6', '-5', '-4', '-3', '-2', '-1', '0', '1', '2', '3', '4', '5', '6', '7', '8', '9', '10', '11', '12', '13'])\n",
    "plt.show()"
   ]
  },
  {
   "cell_type": "markdown",
   "metadata": {},
   "source": [
    "As shown in the histograms above, the distributions for each region look to be normally distributed around the average profit for the region. In addition, the average profit for each region occurs with a variable number of oil wells. The average profits and numbers of wells look to be around the following representative estimates:\n",
    "\n",
    "- Region A - \\$4 Million from 120 wells\n",
    "- Region B - \\$5 Million from 120 wells\n",
    "- Region C - \\$3 Million from 130 wells\n",
    "\n",
    "*(Note: the exact results change each time the experiment is run)*\n",
    "\n",
    "## Findings and Conclusion\n",
    "\n",
    "### Findings\n",
    "\n",
    "Representative findings are summarized in the table below *(Note: the exact results change each time the experiment is run)*:\n",
    "\n",
    "| Region | Lower Bound (95% CI) (M USD) | Upper Bound (95% CI) (M USD)| Average Profit (M USD) | Risk of Losses (%) |\n",
    "|:----------:|:----------:|:----------:|:----------:|:----------:|\n",
    "| A  | -0.89 | 9.11 | 4.31 | 5.4 |\n",
    "| B  | 0.87 | 8.56 | 4.81 | 1.0 |\n",
    "| C  | -1.60 | 8.65 | 3.44  | 9.9  |  \n",
    "\n",
    "### Conclusion\n",
    "\n",
    "After my analysis, I suggest that OilyGiant mining company  develop new oil wells in **Region B**. \n",
    "\n",
    "This is due to strong results generated from using a bootstrapping technique. When we calculate profit for the top 200 wells from a random sample of 500 wells from each region, repeated 1000 times, we gain a more realistic understanding of what our profit or losses could be. By running the this experiment, we see that Region B not only has the highest average profit (\\$4.81M), it also has the highest chance of being profitable (only 1.00\\% risk of losses). \n",
    "\n",
    "Further, with a risk tolerance of only 2.5%, only Region B satisfies that requirement (1.0%). Region A (5.4%) and Region C (9.9%) have too great a risk of loss to be tolerated.\n",
    "\n",
    "Finally, when inspecting the 95% confidence intervals of all three regions, Region B often doesn't have a negative profit in its lower bound (2.5% confidence interval), whereas Regions A and C typically do.\n",
    "\n",
    "After running my analysis, **Region B** seems like both a safe and profitable selection for OilyGiant mining company to develop wells in."
   ]
  },
  {
   "cell_type": "code",
   "execution_count": null,
   "metadata": {},
   "outputs": [],
   "source": []
  }
 ],
 "metadata": {
  "ExecuteTimeLog": [
   {
    "duration": 1050,
    "start_time": "2025-01-15T18:15:09.271Z"
   },
   {
    "duration": 274,
    "start_time": "2025-01-15T18:15:10.326Z"
   },
   {
    "duration": 12,
    "start_time": "2025-01-15T18:24:27.680Z"
   },
   {
    "duration": 14,
    "start_time": "2025-01-15T18:59:07.200Z"
   },
   {
    "duration": 3,
    "start_time": "2025-01-15T18:59:19.257Z"
   },
   {
    "duration": 221,
    "start_time": "2025-01-15T18:59:20.826Z"
   },
   {
    "duration": 13,
    "start_time": "2025-01-15T18:59:22.207Z"
   },
   {
    "duration": 12,
    "start_time": "2025-01-15T18:59:32.160Z"
   },
   {
    "duration": 26,
    "start_time": "2025-01-15T18:59:59.678Z"
   },
   {
    "duration": 26,
    "start_time": "2025-01-15T19:00:34.998Z"
   },
   {
    "duration": 28,
    "start_time": "2025-01-15T19:00:45.035Z"
   },
   {
    "duration": 30,
    "start_time": "2025-01-15T19:00:59.009Z"
   },
   {
    "duration": 34,
    "start_time": "2025-01-15T19:11:57.495Z"
   },
   {
    "duration": 705,
    "start_time": "2025-01-15T19:17:38.929Z"
   },
   {
    "duration": 40,
    "start_time": "2025-01-15T19:18:02.475Z"
   },
   {
    "duration": 54,
    "start_time": "2025-01-15T19:22:04.114Z"
   },
   {
    "duration": 52,
    "start_time": "2025-01-15T19:22:10.866Z"
   },
   {
    "duration": 44,
    "start_time": "2025-01-15T19:22:16.654Z"
   },
   {
    "duration": 57,
    "start_time": "2025-01-15T19:22:46.925Z"
   },
   {
    "duration": 18,
    "start_time": "2025-01-15T19:23:26.248Z"
   },
   {
    "duration": 14,
    "start_time": "2025-01-15T19:23:30.801Z"
   },
   {
    "duration": 4,
    "start_time": "2025-01-15T19:24:14.664Z"
   },
   {
    "duration": 23,
    "start_time": "2025-01-15T19:24:21.470Z"
   },
   {
    "duration": 4,
    "start_time": "2025-01-15T19:24:30.730Z"
   },
   {
    "duration": 9,
    "start_time": "2025-01-15T19:24:36.887Z"
   },
   {
    "duration": 10,
    "start_time": "2025-01-15T19:24:41.876Z"
   },
   {
    "duration": 20,
    "start_time": "2025-01-15T19:25:37.187Z"
   },
   {
    "duration": 26,
    "start_time": "2025-01-15T19:25:51.525Z"
   },
   {
    "duration": 19,
    "start_time": "2025-01-15T19:26:31.255Z"
   },
   {
    "duration": 20,
    "start_time": "2025-01-15T19:26:40.539Z"
   },
   {
    "duration": 23,
    "start_time": "2025-01-15T19:26:43.646Z"
   },
   {
    "duration": 3,
    "start_time": "2025-01-15T19:28:11.370Z"
   },
   {
    "duration": 3,
    "start_time": "2025-01-15T19:28:31.789Z"
   },
   {
    "duration": 2,
    "start_time": "2025-01-15T19:29:55.712Z"
   },
   {
    "duration": 20,
    "start_time": "2025-01-15T19:31:22.799Z"
   },
   {
    "duration": 6,
    "start_time": "2025-01-15T19:31:54.353Z"
   },
   {
    "duration": 6,
    "start_time": "2025-01-15T19:32:35.118Z"
   },
   {
    "duration": 6,
    "start_time": "2025-01-15T19:33:28.028Z"
   },
   {
    "duration": 6,
    "start_time": "2025-01-15T19:33:32.198Z"
   },
   {
    "duration": 6,
    "start_time": "2025-01-15T19:40:53.931Z"
   },
   {
    "duration": 2086,
    "start_time": "2025-01-15T19:51:58.494Z"
   },
   {
    "duration": 90,
    "start_time": "2025-01-15T19:54:06.356Z"
   },
   {
    "duration": 82,
    "start_time": "2025-01-15T19:55:11.966Z"
   },
   {
    "duration": 90,
    "start_time": "2025-01-15T19:55:34.394Z"
   },
   {
    "duration": 79,
    "start_time": "2025-01-15T19:56:30.840Z"
   },
   {
    "duration": 5,
    "start_time": "2025-01-15T19:56:40.654Z"
   },
   {
    "duration": 77,
    "start_time": "2025-01-15T19:56:42.649Z"
   },
   {
    "duration": 94,
    "start_time": "2025-01-15T19:57:00.441Z"
   },
   {
    "duration": 126,
    "start_time": "2025-01-15T19:57:10.937Z"
   },
   {
    "duration": 124,
    "start_time": "2025-01-15T19:58:06.256Z"
   },
   {
    "duration": 91,
    "start_time": "2025-01-15T19:58:56.769Z"
   },
   {
    "duration": 85,
    "start_time": "2025-01-15T19:59:14.311Z"
   },
   {
    "duration": 124,
    "start_time": "2025-01-15T19:59:31.565Z"
   },
   {
    "duration": 81,
    "start_time": "2025-01-15T19:59:42.679Z"
   },
   {
    "duration": 80,
    "start_time": "2025-01-15T20:00:12.125Z"
   },
   {
    "duration": 85,
    "start_time": "2025-01-15T20:00:25.379Z"
   },
   {
    "duration": 252,
    "start_time": "2025-01-15T20:00:57.015Z"
   },
   {
    "duration": 88,
    "start_time": "2025-01-15T20:01:09.716Z"
   },
   {
    "duration": 89,
    "start_time": "2025-01-15T20:02:58.652Z"
   },
   {
    "duration": 94,
    "start_time": "2025-01-15T20:03:27.198Z"
   },
   {
    "duration": 84,
    "start_time": "2025-01-15T20:03:43.405Z"
   },
   {
    "duration": 98,
    "start_time": "2025-01-15T20:06:37.804Z"
   },
   {
    "duration": 133,
    "start_time": "2025-01-15T20:06:58.829Z"
   },
   {
    "duration": 105,
    "start_time": "2025-01-15T20:08:14.016Z"
   },
   {
    "duration": 57,
    "start_time": "2025-01-15T20:08:18.382Z"
   },
   {
    "duration": 93,
    "start_time": "2025-01-15T20:08:20.476Z"
   },
   {
    "duration": 6,
    "start_time": "2025-01-15T20:08:23.016Z"
   },
   {
    "duration": 112,
    "start_time": "2025-01-15T20:08:42.386Z"
   },
   {
    "duration": 103,
    "start_time": "2025-01-15T20:08:50.158Z"
   },
   {
    "duration": 124,
    "start_time": "2025-01-15T20:08:58.359Z"
   },
   {
    "duration": 929,
    "start_time": "2025-01-15T20:09:08.038Z"
   },
   {
    "duration": 265,
    "start_time": "2025-01-15T20:09:08.969Z"
   },
   {
    "duration": 127,
    "start_time": "2025-01-15T20:09:09.236Z"
   },
   {
    "duration": 156,
    "start_time": "2025-01-15T20:09:09.365Z"
   },
   {
    "duration": 51,
    "start_time": "2025-01-15T20:09:09.524Z"
   },
   {
    "duration": 47,
    "start_time": "2025-01-15T20:09:09.577Z"
   },
   {
    "duration": 92,
    "start_time": "2025-01-15T20:09:09.678Z"
   },
   {
    "duration": 320,
    "start_time": "2025-01-15T20:09:09.774Z"
   },
   {
    "duration": 138,
    "start_time": "2025-01-15T20:09:35.873Z"
   },
   {
    "duration": 136,
    "start_time": "2025-01-15T20:09:52.757Z"
   },
   {
    "duration": 123,
    "start_time": "2025-01-15T20:09:59.853Z"
   },
   {
    "duration": 127,
    "start_time": "2025-01-15T20:10:05.509Z"
   },
   {
    "duration": 254,
    "start_time": "2025-01-15T20:10:09.990Z"
   },
   {
    "duration": 113,
    "start_time": "2025-01-15T20:10:11.341Z"
   },
   {
    "duration": 119,
    "start_time": "2025-01-15T20:10:13.576Z"
   },
   {
    "duration": 137,
    "start_time": "2025-01-15T20:29:16.708Z"
   },
   {
    "duration": 107,
    "start_time": "2025-01-15T21:04:32.475Z"
   },
   {
    "duration": 89,
    "start_time": "2025-01-15T21:04:57.387Z"
   },
   {
    "duration": 188,
    "start_time": "2025-01-15T21:05:03.584Z"
   },
   {
    "duration": 47,
    "start_time": "2025-01-15T21:05:25.405Z"
   },
   {
    "duration": 2,
    "start_time": "2025-01-15T21:05:35.354Z"
   },
   {
    "duration": 216,
    "start_time": "2025-01-15T21:05:36.116Z"
   },
   {
    "duration": 99,
    "start_time": "2025-01-15T21:05:37.260Z"
   },
   {
    "duration": 46,
    "start_time": "2025-01-15T21:05:40.540Z"
   },
   {
    "duration": 15,
    "start_time": "2025-01-15T21:06:21.544Z"
   },
   {
    "duration": 15,
    "start_time": "2025-01-15T21:07:14.874Z"
   },
   {
    "duration": 51,
    "start_time": "2025-01-15T21:07:26.691Z"
   },
   {
    "duration": 61,
    "start_time": "2025-01-15T21:07:43.199Z"
   },
   {
    "duration": 59,
    "start_time": "2025-01-15T21:09:29.926Z"
   },
   {
    "duration": 47,
    "start_time": "2025-01-15T21:09:38.509Z"
   },
   {
    "duration": 20,
    "start_time": "2025-01-15T21:09:40.061Z"
   },
   {
    "duration": 6,
    "start_time": "2025-01-15T21:09:41.638Z"
   },
   {
    "duration": 13,
    "start_time": "2025-01-15T21:12:29.080Z"
   },
   {
    "duration": 3,
    "start_time": "2025-01-15T21:14:36.139Z"
   },
   {
    "duration": 4,
    "start_time": "2025-01-15T21:16:00.023Z"
   },
   {
    "duration": 13,
    "start_time": "2025-01-15T21:16:09.000Z"
   },
   {
    "duration": 3,
    "start_time": "2025-01-15T21:16:24.200Z"
   },
   {
    "duration": 3,
    "start_time": "2025-01-15T21:16:30.480Z"
   },
   {
    "duration": 3,
    "start_time": "2025-01-15T21:16:37.090Z"
   },
   {
    "duration": 5,
    "start_time": "2025-01-15T21:20:07.691Z"
   },
   {
    "duration": 879,
    "start_time": "2025-01-15T21:26:51.017Z"
   },
   {
    "duration": 226,
    "start_time": "2025-01-15T21:26:51.898Z"
   },
   {
    "duration": 317,
    "start_time": "2025-01-15T21:26:52.128Z"
   },
   {
    "duration": 0,
    "start_time": "2025-01-15T21:26:52.447Z"
   },
   {
    "duration": 0,
    "start_time": "2025-01-15T21:26:52.448Z"
   },
   {
    "duration": 0,
    "start_time": "2025-01-15T21:26:52.450Z"
   },
   {
    "duration": 0,
    "start_time": "2025-01-15T21:26:52.452Z"
   },
   {
    "duration": 0,
    "start_time": "2025-01-15T21:26:52.453Z"
   },
   {
    "duration": 0,
    "start_time": "2025-01-15T21:26:52.470Z"
   },
   {
    "duration": 873,
    "start_time": "2025-01-15T21:27:22.272Z"
   },
   {
    "duration": 214,
    "start_time": "2025-01-15T21:27:23.148Z"
   },
   {
    "duration": 109,
    "start_time": "2025-01-15T21:27:23.364Z"
   },
   {
    "duration": 67,
    "start_time": "2025-01-15T21:27:23.475Z"
   },
   {
    "duration": 297,
    "start_time": "2025-01-15T21:27:23.545Z"
   },
   {
    "duration": 0,
    "start_time": "2025-01-15T21:27:23.844Z"
   },
   {
    "duration": 0,
    "start_time": "2025-01-15T21:27:23.845Z"
   },
   {
    "duration": 0,
    "start_time": "2025-01-15T21:27:23.845Z"
   },
   {
    "duration": 0,
    "start_time": "2025-01-15T21:27:23.846Z"
   },
   {
    "duration": 893,
    "start_time": "2025-01-15T21:27:50.915Z"
   },
   {
    "duration": 230,
    "start_time": "2025-01-15T21:27:51.810Z"
   },
   {
    "duration": 104,
    "start_time": "2025-01-15T21:27:52.042Z"
   },
   {
    "duration": 70,
    "start_time": "2025-01-15T21:27:52.148Z"
   },
   {
    "duration": 50,
    "start_time": "2025-01-15T21:27:52.221Z"
   },
   {
    "duration": 23,
    "start_time": "2025-01-15T21:27:52.272Z"
   },
   {
    "duration": 419,
    "start_time": "2025-01-15T21:27:52.299Z"
   },
   {
    "duration": 0,
    "start_time": "2025-01-15T21:27:52.719Z"
   },
   {
    "duration": 0,
    "start_time": "2025-01-15T21:27:52.721Z"
   },
   {
    "duration": 884,
    "start_time": "2025-01-15T21:28:06.277Z"
   },
   {
    "duration": 231,
    "start_time": "2025-01-15T21:28:07.163Z"
   },
   {
    "duration": 117,
    "start_time": "2025-01-15T21:28:07.396Z"
   },
   {
    "duration": 71,
    "start_time": "2025-01-15T21:28:07.515Z"
   },
   {
    "duration": 44,
    "start_time": "2025-01-15T21:28:07.589Z"
   },
   {
    "duration": 39,
    "start_time": "2025-01-15T21:28:07.635Z"
   },
   {
    "duration": 9,
    "start_time": "2025-01-15T21:28:07.677Z"
   },
   {
    "duration": 5,
    "start_time": "2025-01-15T21:28:07.690Z"
   },
   {
    "duration": 73,
    "start_time": "2025-01-15T21:28:07.699Z"
   },
   {
    "duration": 905,
    "start_time": "2025-01-15T21:42:40.782Z"
   },
   {
    "duration": 225,
    "start_time": "2025-01-15T21:42:41.689Z"
   },
   {
    "duration": 104,
    "start_time": "2025-01-15T21:42:41.915Z"
   },
   {
    "duration": 69,
    "start_time": "2025-01-15T21:42:42.021Z"
   },
   {
    "duration": 53,
    "start_time": "2025-01-15T21:42:42.093Z"
   },
   {
    "duration": 38,
    "start_time": "2025-01-15T21:42:42.148Z"
   },
   {
    "duration": 6,
    "start_time": "2025-01-15T21:42:42.188Z"
   },
   {
    "duration": 2,
    "start_time": "2025-01-15T21:42:42.196Z"
   },
   {
    "duration": 71,
    "start_time": "2025-01-15T21:42:42.200Z"
   },
   {
    "duration": 334,
    "start_time": "2025-01-15T21:42:42.273Z"
   },
   {
    "duration": 15,
    "start_time": "2025-01-15T21:43:25.998Z"
   },
   {
    "duration": 165,
    "start_time": "2025-01-16T16:45:28.230Z"
   },
   {
    "duration": 21,
    "start_time": "2025-01-16T16:45:45.626Z"
   },
   {
    "duration": 2583,
    "start_time": "2025-01-16T16:46:06.643Z"
   },
   {
    "duration": 310,
    "start_time": "2025-01-16T16:46:09.228Z"
   },
   {
    "duration": 115,
    "start_time": "2025-01-16T16:46:09.540Z"
   },
   {
    "duration": 74,
    "start_time": "2025-01-16T16:46:09.657Z"
   },
   {
    "duration": 43,
    "start_time": "2025-01-16T16:46:09.733Z"
   },
   {
    "duration": 34,
    "start_time": "2025-01-16T16:46:09.778Z"
   },
   {
    "duration": 7,
    "start_time": "2025-01-16T16:46:09.814Z"
   },
   {
    "duration": 3,
    "start_time": "2025-01-16T16:46:09.823Z"
   },
   {
    "duration": 79,
    "start_time": "2025-01-16T16:46:09.828Z"
   },
   {
    "duration": 15,
    "start_time": "2025-01-16T16:46:09.909Z"
   },
   {
    "duration": 8414,
    "start_time": "2025-01-16T16:46:09.926Z"
   },
   {
    "duration": 8408,
    "start_time": "2025-01-16T16:47:27.407Z"
   },
   {
    "duration": 2328,
    "start_time": "2025-01-16T16:57:32.947Z"
   },
   {
    "duration": 2306,
    "start_time": "2025-01-16T16:57:58.532Z"
   },
   {
    "duration": 2327,
    "start_time": "2025-01-16T16:58:17.950Z"
   },
   {
    "duration": 866,
    "start_time": "2025-01-16T19:01:23.190Z"
   },
   {
    "duration": 226,
    "start_time": "2025-01-16T19:01:24.058Z"
   },
   {
    "duration": 119,
    "start_time": "2025-01-16T19:01:24.285Z"
   },
   {
    "duration": 64,
    "start_time": "2025-01-16T19:01:24.405Z"
   },
   {
    "duration": 57,
    "start_time": "2025-01-16T19:01:24.472Z"
   },
   {
    "duration": 23,
    "start_time": "2025-01-16T19:01:24.530Z"
   },
   {
    "duration": 53,
    "start_time": "2025-01-16T19:01:24.554Z"
   },
   {
    "duration": 2,
    "start_time": "2025-01-16T19:01:24.609Z"
   },
   {
    "duration": 5,
    "start_time": "2025-01-16T19:01:24.613Z"
   },
   {
    "duration": 86,
    "start_time": "2025-01-16T19:01:24.620Z"
   },
   {
    "duration": 8438,
    "start_time": "2025-01-16T19:01:24.707Z"
   },
   {
    "duration": 2291,
    "start_time": "2025-01-16T19:01:33.147Z"
   },
   {
    "duration": 2722,
    "start_time": "2025-01-16T19:13:56.250Z"
   },
   {
    "duration": 607,
    "start_time": "2025-01-16T19:13:58.974Z"
   },
   {
    "duration": 286,
    "start_time": "2025-01-16T19:14:05.649Z"
   },
   {
    "duration": 119,
    "start_time": "2025-01-16T19:14:07.162Z"
   },
   {
    "duration": 66,
    "start_time": "2025-01-16T19:14:09.317Z"
   },
   {
    "duration": 42,
    "start_time": "2025-01-16T19:14:16.124Z"
   },
   {
    "duration": 22,
    "start_time": "2025-01-16T19:14:17.156Z"
   },
   {
    "duration": 6,
    "start_time": "2025-01-16T19:14:18.344Z"
   },
   {
    "duration": 6,
    "start_time": "2025-01-16T19:18:44.282Z"
   },
   {
    "duration": 3,
    "start_time": "2025-01-16T19:18:46.401Z"
   },
   {
    "duration": 6,
    "start_time": "2025-01-16T19:18:47.385Z"
   },
   {
    "duration": 168,
    "start_time": "2025-01-16T19:33:48.430Z"
   },
   {
    "duration": 2620,
    "start_time": "2025-01-16T19:34:05.110Z"
   },
   {
    "duration": 297,
    "start_time": "2025-01-16T19:34:07.733Z"
   },
   {
    "duration": 104,
    "start_time": "2025-01-16T19:34:08.031Z"
   },
   {
    "duration": 68,
    "start_time": "2025-01-16T19:34:08.137Z"
   },
   {
    "duration": 41,
    "start_time": "2025-01-16T19:34:08.208Z"
   },
   {
    "duration": 229,
    "start_time": "2025-01-16T19:34:08.250Z"
   },
   {
    "duration": 0,
    "start_time": "2025-01-16T19:34:08.482Z"
   },
   {
    "duration": 0,
    "start_time": "2025-01-16T19:34:08.483Z"
   },
   {
    "duration": 0,
    "start_time": "2025-01-16T19:34:08.485Z"
   },
   {
    "duration": 0,
    "start_time": "2025-01-16T19:34:08.486Z"
   },
   {
    "duration": 0,
    "start_time": "2025-01-16T19:34:08.488Z"
   },
   {
    "duration": 0,
    "start_time": "2025-01-16T19:34:08.489Z"
   },
   {
    "duration": 21,
    "start_time": "2025-01-16T19:34:24.623Z"
   },
   {
    "duration": 6,
    "start_time": "2025-01-16T19:34:28.262Z"
   },
   {
    "duration": 16,
    "start_time": "2025-01-16T19:37:17.331Z"
   },
   {
    "duration": 3,
    "start_time": "2025-01-16T19:37:20.568Z"
   },
   {
    "duration": 5,
    "start_time": "2025-01-16T19:37:21.410Z"
   },
   {
    "duration": 15,
    "start_time": "2025-01-16T19:37:31.437Z"
   },
   {
    "duration": 8463,
    "start_time": "2025-01-16T19:38:51.801Z"
   },
   {
    "duration": 8440,
    "start_time": "2025-01-16T19:39:17.659Z"
   },
   {
    "duration": 13978,
    "start_time": "2025-01-16T19:43:33.859Z"
   },
   {
    "duration": 896,
    "start_time": "2025-01-16T19:44:40.483Z"
   },
   {
    "duration": 291,
    "start_time": "2025-01-16T19:44:41.381Z"
   },
   {
    "duration": 106,
    "start_time": "2025-01-16T19:44:41.674Z"
   },
   {
    "duration": 73,
    "start_time": "2025-01-16T19:44:41.782Z"
   },
   {
    "duration": 49,
    "start_time": "2025-01-16T19:44:41.858Z"
   },
   {
    "duration": 23,
    "start_time": "2025-01-16T19:44:41.909Z"
   },
   {
    "duration": 8,
    "start_time": "2025-01-16T19:44:41.935Z"
   },
   {
    "duration": 5,
    "start_time": "2025-01-16T19:44:42.005Z"
   },
   {
    "duration": 5,
    "start_time": "2025-01-16T19:44:42.013Z"
   },
   {
    "duration": 14209,
    "start_time": "2025-01-16T19:44:42.019Z"
   },
   {
    "duration": 0,
    "start_time": "2025-01-16T19:44:56.231Z"
   },
   {
    "duration": 0,
    "start_time": "2025-01-16T19:44:56.232Z"
   },
   {
    "duration": 33,
    "start_time": "2025-01-16T19:48:17.998Z"
   },
   {
    "duration": 352,
    "start_time": "2025-01-16T19:48:26.513Z"
   },
   {
    "duration": 887,
    "start_time": "2025-01-16T19:49:51.851Z"
   },
   {
    "duration": 221,
    "start_time": "2025-01-16T19:49:52.740Z"
   },
   {
    "duration": 102,
    "start_time": "2025-01-16T19:49:52.963Z"
   },
   {
    "duration": 71,
    "start_time": "2025-01-16T19:49:53.066Z"
   },
   {
    "duration": 44,
    "start_time": "2025-01-16T19:49:53.140Z"
   },
   {
    "duration": 36,
    "start_time": "2025-01-16T19:49:53.186Z"
   },
   {
    "duration": 7,
    "start_time": "2025-01-16T19:49:53.223Z"
   },
   {
    "duration": 3,
    "start_time": "2025-01-16T19:49:53.231Z"
   },
   {
    "duration": 72,
    "start_time": "2025-01-16T19:49:53.235Z"
   },
   {
    "duration": 14297,
    "start_time": "2025-01-16T19:49:53.309Z"
   },
   {
    "duration": 0,
    "start_time": "2025-01-16T19:50:07.608Z"
   },
   {
    "duration": 0,
    "start_time": "2025-01-16T19:50:07.609Z"
   },
   {
    "duration": 17,
    "start_time": "2025-01-16T19:51:26.790Z"
   },
   {
    "duration": 631,
    "start_time": "2025-01-16T19:51:30.477Z"
   },
   {
    "duration": 16,
    "start_time": "2025-01-16T19:52:39.764Z"
   },
   {
    "duration": 16,
    "start_time": "2025-01-16T19:54:37.292Z"
   },
   {
    "duration": 349,
    "start_time": "2025-01-16T19:54:48.117Z"
   },
   {
    "duration": 469,
    "start_time": "2025-01-16T19:55:46.260Z"
   },
   {
    "duration": 347,
    "start_time": "2025-01-16T19:56:27.039Z"
   },
   {
    "duration": 36,
    "start_time": "2025-01-16T19:57:14.919Z"
   },
   {
    "duration": 154,
    "start_time": "2025-01-16T19:57:56.546Z"
   },
   {
    "duration": 8,
    "start_time": "2025-01-16T21:02:00.801Z"
   },
   {
    "duration": 160,
    "start_time": "2025-01-16T23:46:22.291Z"
   },
   {
    "duration": 2632,
    "start_time": "2025-01-16T23:46:37.395Z"
   },
   {
    "duration": 304,
    "start_time": "2025-01-16T23:46:40.030Z"
   },
   {
    "duration": 108,
    "start_time": "2025-01-16T23:46:40.336Z"
   },
   {
    "duration": 75,
    "start_time": "2025-01-16T23:46:40.446Z"
   },
   {
    "duration": 44,
    "start_time": "2025-01-16T23:46:40.524Z"
   },
   {
    "duration": 46,
    "start_time": "2025-01-16T23:46:40.569Z"
   },
   {
    "duration": 7,
    "start_time": "2025-01-16T23:46:40.617Z"
   },
   {
    "duration": 4,
    "start_time": "2025-01-16T23:46:40.628Z"
   },
   {
    "duration": 77,
    "start_time": "2025-01-16T23:46:40.637Z"
   },
   {
    "duration": 14,
    "start_time": "2025-01-16T23:46:40.716Z"
   },
   {
    "duration": 9892,
    "start_time": "2025-01-16T23:46:40.732Z"
   },
   {
    "duration": 0,
    "start_time": "2025-01-16T23:46:50.626Z"
   },
   {
    "duration": 8819,
    "start_time": "2025-01-16T23:47:29.840Z"
   },
   {
    "duration": 8324,
    "start_time": "2025-01-16T23:53:47.133Z"
   },
   {
    "duration": 8244,
    "start_time": "2025-01-16T23:55:14.650Z"
   },
   {
    "duration": 15,
    "start_time": "2025-01-17T00:08:28.183Z"
   },
   {
    "duration": 16,
    "start_time": "2025-01-17T00:09:53.559Z"
   },
   {
    "duration": 7,
    "start_time": "2025-01-17T00:10:31.192Z"
   },
   {
    "duration": 6,
    "start_time": "2025-01-17T00:10:59.712Z"
   },
   {
    "duration": 6,
    "start_time": "2025-01-17T00:11:52.390Z"
   },
   {
    "duration": 264,
    "start_time": "2025-01-17T00:14:01.629Z"
   },
   {
    "duration": 869,
    "start_time": "2025-01-17T00:14:17.361Z"
   },
   {
    "duration": 215,
    "start_time": "2025-01-17T00:14:18.232Z"
   },
   {
    "duration": 110,
    "start_time": "2025-01-17T00:14:18.449Z"
   },
   {
    "duration": 75,
    "start_time": "2025-01-17T00:14:18.561Z"
   },
   {
    "duration": 43,
    "start_time": "2025-01-17T00:14:18.637Z"
   },
   {
    "duration": 35,
    "start_time": "2025-01-17T00:14:18.682Z"
   },
   {
    "duration": 6,
    "start_time": "2025-01-17T00:14:18.719Z"
   },
   {
    "duration": 2,
    "start_time": "2025-01-17T00:14:18.727Z"
   },
   {
    "duration": 5,
    "start_time": "2025-01-17T00:14:18.731Z"
   },
   {
    "duration": 87,
    "start_time": "2025-01-17T00:14:18.738Z"
   },
   {
    "duration": 8346,
    "start_time": "2025-01-17T00:14:18.827Z"
   },
   {
    "duration": 396,
    "start_time": "2025-01-17T00:14:27.175Z"
   },
   {
    "duration": 8354,
    "start_time": "2025-01-17T00:20:13.066Z"
   },
   {
    "duration": 883,
    "start_time": "2025-01-17T00:21:47.712Z"
   },
   {
    "duration": 213,
    "start_time": "2025-01-17T00:21:48.597Z"
   },
   {
    "duration": 100,
    "start_time": "2025-01-17T00:21:48.812Z"
   },
   {
    "duration": 66,
    "start_time": "2025-01-17T00:21:48.914Z"
   },
   {
    "duration": 59,
    "start_time": "2025-01-17T00:21:48.983Z"
   },
   {
    "duration": 25,
    "start_time": "2025-01-17T00:21:49.044Z"
   },
   {
    "duration": 46,
    "start_time": "2025-01-17T00:21:49.071Z"
   },
   {
    "duration": 3,
    "start_time": "2025-01-17T00:21:49.119Z"
   },
   {
    "duration": 5,
    "start_time": "2025-01-17T00:21:49.123Z"
   },
   {
    "duration": 92,
    "start_time": "2025-01-17T00:21:49.130Z"
   },
   {
    "duration": 8350,
    "start_time": "2025-01-17T00:21:49.224Z"
   },
   {
    "duration": 363,
    "start_time": "2025-01-17T00:21:57.575Z"
   },
   {
    "duration": 8325,
    "start_time": "2025-01-17T00:22:34.909Z"
   },
   {
    "duration": 171,
    "start_time": "2025-01-17T19:21:03.296Z"
   },
   {
    "duration": 2706,
    "start_time": "2025-01-17T19:21:09.216Z"
   },
   {
    "duration": 291,
    "start_time": "2025-01-17T19:21:11.924Z"
   },
   {
    "duration": 109,
    "start_time": "2025-01-17T19:21:12.217Z"
   },
   {
    "duration": 72,
    "start_time": "2025-01-17T19:21:12.329Z"
   },
   {
    "duration": 56,
    "start_time": "2025-01-17T19:21:12.403Z"
   },
   {
    "duration": 23,
    "start_time": "2025-01-17T19:21:12.461Z"
   },
   {
    "duration": 6,
    "start_time": "2025-01-17T19:21:12.485Z"
   },
   {
    "duration": 4,
    "start_time": "2025-01-17T19:21:12.542Z"
   },
   {
    "duration": 7,
    "start_time": "2025-01-17T19:21:12.551Z"
   },
   {
    "duration": 90,
    "start_time": "2025-01-17T19:21:12.562Z"
   },
   {
    "duration": 8451,
    "start_time": "2025-01-17T19:21:12.653Z"
   },
   {
    "duration": 384,
    "start_time": "2025-01-17T19:21:21.107Z"
   },
   {
    "duration": 175,
    "start_time": "2025-01-21T03:33:24.667Z"
   },
   {
    "duration": 2767,
    "start_time": "2025-01-21T03:33:32.004Z"
   },
   {
    "duration": 315,
    "start_time": "2025-01-21T03:33:34.773Z"
   },
   {
    "duration": 134,
    "start_time": "2025-01-21T03:33:35.089Z"
   },
   {
    "duration": 91,
    "start_time": "2025-01-21T03:33:35.226Z"
   },
   {
    "duration": 57,
    "start_time": "2025-01-21T03:33:35.318Z"
   },
   {
    "duration": 24,
    "start_time": "2025-01-21T03:33:35.377Z"
   },
   {
    "duration": 47,
    "start_time": "2025-01-21T03:33:35.403Z"
   },
   {
    "duration": 6,
    "start_time": "2025-01-21T03:33:35.452Z"
   },
   {
    "duration": 80,
    "start_time": "2025-01-21T03:33:35.466Z"
   },
   {
    "duration": 20,
    "start_time": "2025-01-21T03:33:35.549Z"
   },
   {
    "duration": 317,
    "start_time": "2025-01-21T03:33:35.571Z"
   },
   {
    "duration": 162,
    "start_time": "2025-01-21T03:34:04.017Z"
   },
   {
    "duration": 74,
    "start_time": "2025-01-21T03:34:56.327Z"
   },
   {
    "duration": 69,
    "start_time": "2025-01-21T03:36:39.114Z"
   },
   {
    "duration": 75,
    "start_time": "2025-01-21T03:37:45.672Z"
   },
   {
    "duration": 67,
    "start_time": "2025-01-21T03:38:56.832Z"
   },
   {
    "duration": 7138,
    "start_time": "2025-01-21T03:40:00.023Z"
   },
   {
    "duration": 19,
    "start_time": "2025-01-21T03:40:41.231Z"
   },
   {
    "duration": 68,
    "start_time": "2025-01-21T03:40:47.594Z"
   },
   {
    "duration": 63,
    "start_time": "2025-01-21T03:41:25.521Z"
   },
   {
    "duration": 66,
    "start_time": "2025-01-21T03:42:33.292Z"
   },
   {
    "duration": 66,
    "start_time": "2025-01-21T03:44:48.120Z"
   },
   {
    "duration": 17,
    "start_time": "2025-01-21T03:45:14.256Z"
   },
   {
    "duration": 18,
    "start_time": "2025-01-21T03:45:36.059Z"
   },
   {
    "duration": 67,
    "start_time": "2025-01-21T03:46:43.242Z"
   },
   {
    "duration": 67,
    "start_time": "2025-01-21T03:48:16.801Z"
   },
   {
    "duration": 64,
    "start_time": "2025-01-21T03:49:03.059Z"
   },
   {
    "duration": 66,
    "start_time": "2025-01-21T03:49:23.964Z"
   },
   {
    "duration": 64,
    "start_time": "2025-01-21T03:49:43.013Z"
   },
   {
    "duration": 18,
    "start_time": "2025-01-21T03:53:02.351Z"
   },
   {
    "duration": 71,
    "start_time": "2025-01-21T03:53:17.434Z"
   },
   {
    "duration": 67,
    "start_time": "2025-01-21T03:57:57.579Z"
   },
   {
    "duration": 19,
    "start_time": "2025-01-21T04:00:16.748Z"
   },
   {
    "duration": 878,
    "start_time": "2025-01-21T04:00:27.746Z"
   },
   {
    "duration": 240,
    "start_time": "2025-01-21T04:00:28.626Z"
   },
   {
    "duration": 102,
    "start_time": "2025-01-21T04:00:28.868Z"
   },
   {
    "duration": 76,
    "start_time": "2025-01-21T04:00:28.973Z"
   },
   {
    "duration": 48,
    "start_time": "2025-01-21T04:00:29.052Z"
   },
   {
    "duration": 44,
    "start_time": "2025-01-21T04:00:29.101Z"
   },
   {
    "duration": 7,
    "start_time": "2025-01-21T04:00:29.148Z"
   },
   {
    "duration": 2,
    "start_time": "2025-01-21T04:00:29.157Z"
   },
   {
    "duration": 382,
    "start_time": "2025-01-21T04:00:29.162Z"
   },
   {
    "duration": 0,
    "start_time": "2025-01-21T04:00:29.545Z"
   },
   {
    "duration": 0,
    "start_time": "2025-01-21T04:00:29.546Z"
   },
   {
    "duration": 5,
    "start_time": "2025-01-21T04:00:46.420Z"
   },
   {
    "duration": 18,
    "start_time": "2025-01-21T04:00:49.270Z"
   },
   {
    "duration": 169,
    "start_time": "2025-01-21T04:00:53.464Z"
   },
   {
    "duration": 36,
    "start_time": "2025-01-21T04:01:28.806Z"
   },
   {
    "duration": 68,
    "start_time": "2025-01-21T04:02:13.062Z"
   },
   {
    "duration": 3510,
    "start_time": "2025-01-21T04:05:04.783Z"
   },
   {
    "duration": 94,
    "start_time": "2025-01-21T04:06:20.717Z"
   },
   {
    "duration": 18,
    "start_time": "2025-01-21T04:06:46.017Z"
   },
   {
    "duration": 3568,
    "start_time": "2025-01-21T04:06:56.316Z"
   },
   {
    "duration": 3576,
    "start_time": "2025-01-21T04:08:07.735Z"
   },
   {
    "duration": 16,
    "start_time": "2025-01-21T04:08:14.311Z"
   },
   {
    "duration": 3103,
    "start_time": "2025-01-21T04:08:17.362Z"
   },
   {
    "duration": 3153,
    "start_time": "2025-01-21T04:09:31.776Z"
   },
   {
    "duration": 876,
    "start_time": "2025-01-21T04:09:53.632Z"
   },
   {
    "duration": 226,
    "start_time": "2025-01-21T04:09:54.511Z"
   },
   {
    "duration": 105,
    "start_time": "2025-01-21T04:09:54.739Z"
   },
   {
    "duration": 67,
    "start_time": "2025-01-21T04:09:54.847Z"
   },
   {
    "duration": 64,
    "start_time": "2025-01-21T04:09:54.916Z"
   },
   {
    "duration": 23,
    "start_time": "2025-01-21T04:09:54.982Z"
   },
   {
    "duration": 43,
    "start_time": "2025-01-21T04:09:55.006Z"
   },
   {
    "duration": 2,
    "start_time": "2025-01-21T04:09:55.051Z"
   },
   {
    "duration": 6,
    "start_time": "2025-01-21T04:09:55.055Z"
   },
   {
    "duration": 90,
    "start_time": "2025-01-21T04:09:55.064Z"
   },
   {
    "duration": 3179,
    "start_time": "2025-01-21T04:09:55.156Z"
   },
   {
    "duration": 3083,
    "start_time": "2025-01-21T04:20:06.054Z"
   },
   {
    "duration": 3143,
    "start_time": "2025-01-21T04:20:19.856Z"
   },
   {
    "duration": 2699,
    "start_time": "2025-01-21T04:24:30.171Z"
   },
   {
    "duration": 3340,
    "start_time": "2025-01-21T04:24:59.970Z"
   },
   {
    "duration": 13,
    "start_time": "2025-01-21T04:26:42.586Z"
   },
   {
    "duration": 15,
    "start_time": "2025-01-21T04:26:50.497Z"
   },
   {
    "duration": 2756,
    "start_time": "2025-01-21T04:26:58.989Z"
   },
   {
    "duration": 3537,
    "start_time": "2025-01-21T04:27:07.079Z"
   },
   {
    "duration": 15,
    "start_time": "2025-01-21T04:27:26.904Z"
   },
   {
    "duration": 17,
    "start_time": "2025-01-21T04:28:23.884Z"
   },
   {
    "duration": 3,
    "start_time": "2025-01-21T04:29:08.549Z"
   },
   {
    "duration": 16,
    "start_time": "2025-01-21T04:29:40.658Z"
   },
   {
    "duration": 4,
    "start_time": "2025-01-21T04:29:42.386Z"
   },
   {
    "duration": 2738,
    "start_time": "2025-01-21T04:29:44.457Z"
   },
   {
    "duration": 6,
    "start_time": "2025-01-21T04:30:29.112Z"
   },
   {
    "duration": 2832,
    "start_time": "2025-01-21T04:30:32.456Z"
   },
   {
    "duration": 16,
    "start_time": "2025-01-21T04:31:02.237Z"
   },
   {
    "duration": 3287,
    "start_time": "2025-01-21T04:31:46.746Z"
   },
   {
    "duration": 4,
    "start_time": "2025-01-21T04:31:52.814Z"
   },
   {
    "duration": 2901,
    "start_time": "2025-01-21T04:31:55.448Z"
   },
   {
    "duration": 3272,
    "start_time": "2025-01-21T04:32:02.779Z"
   },
   {
    "duration": 170,
    "start_time": "2025-01-31T01:52:26.678Z"
   },
   {
    "duration": 2575,
    "start_time": "2025-01-31T01:52:32.662Z"
   },
   {
    "duration": 307,
    "start_time": "2025-01-31T01:52:35.239Z"
   },
   {
    "duration": 98,
    "start_time": "2025-01-31T01:52:35.548Z"
   },
   {
    "duration": 67,
    "start_time": "2025-01-31T01:52:35.649Z"
   },
   {
    "duration": 42,
    "start_time": "2025-01-31T01:52:35.718Z"
   },
   {
    "duration": 47,
    "start_time": "2025-01-31T01:52:35.761Z"
   },
   {
    "duration": 6,
    "start_time": "2025-01-31T01:52:35.810Z"
   },
   {
    "duration": 3,
    "start_time": "2025-01-31T01:52:35.818Z"
   },
   {
    "duration": 6,
    "start_time": "2025-01-31T01:52:35.823Z"
   },
   {
    "duration": 390,
    "start_time": "2025-01-31T01:52:35.831Z"
   },
   {
    "duration": 0,
    "start_time": "2025-01-31T01:52:36.222Z"
   },
   {
    "duration": 0,
    "start_time": "2025-01-31T01:52:36.223Z"
   },
   {
    "duration": 0,
    "start_time": "2025-01-31T01:52:36.225Z"
   },
   {
    "duration": 19,
    "start_time": "2025-01-31T02:07:46.249Z"
   },
   {
    "duration": 3241,
    "start_time": "2025-01-31T02:08:41.713Z"
   },
   {
    "duration": 3249,
    "start_time": "2025-01-31T02:09:28.256Z"
   },
   {
    "duration": 944,
    "start_time": "2025-01-31T02:10:14.293Z"
   },
   {
    "duration": 215,
    "start_time": "2025-01-31T02:10:15.241Z"
   },
   {
    "duration": 102,
    "start_time": "2025-01-31T02:10:15.460Z"
   },
   {
    "duration": 76,
    "start_time": "2025-01-31T02:10:15.566Z"
   },
   {
    "duration": 41,
    "start_time": "2025-01-31T02:10:15.644Z"
   },
   {
    "duration": 46,
    "start_time": "2025-01-31T02:10:15.688Z"
   },
   {
    "duration": 67,
    "start_time": "2025-01-31T02:10:15.738Z"
   },
   {
    "duration": 5,
    "start_time": "2025-01-31T02:10:15.807Z"
   },
   {
    "duration": 9,
    "start_time": "2025-01-31T02:10:15.814Z"
   },
   {
    "duration": 25,
    "start_time": "2025-01-31T02:10:15.825Z"
   },
   {
    "duration": 3490,
    "start_time": "2025-01-31T02:10:15.905Z"
   },
   {
    "duration": 19,
    "start_time": "2025-01-31T02:13:51.255Z"
   },
   {
    "duration": 3441,
    "start_time": "2025-01-31T02:31:00.796Z"
   },
   {
    "duration": 3281,
    "start_time": "2025-01-31T02:35:46.451Z"
   },
   {
    "duration": 904,
    "start_time": "2025-01-31T02:38:49.374Z"
   },
   {
    "duration": 226,
    "start_time": "2025-01-31T02:38:50.281Z"
   },
   {
    "duration": 102,
    "start_time": "2025-01-31T02:38:50.509Z"
   },
   {
    "duration": 69,
    "start_time": "2025-01-31T02:38:50.615Z"
   },
   {
    "duration": 51,
    "start_time": "2025-01-31T02:38:50.687Z"
   },
   {
    "duration": 22,
    "start_time": "2025-01-31T02:38:50.740Z"
   },
   {
    "duration": 43,
    "start_time": "2025-01-31T02:38:50.764Z"
   },
   {
    "duration": 2,
    "start_time": "2025-01-31T02:38:50.809Z"
   },
   {
    "duration": 6,
    "start_time": "2025-01-31T02:38:50.812Z"
   },
   {
    "duration": 98,
    "start_time": "2025-01-31T02:38:50.820Z"
   },
   {
    "duration": 3290,
    "start_time": "2025-01-31T02:38:50.920Z"
   },
   {
    "duration": 827,
    "start_time": "2025-01-31T10:31:08.127Z"
   },
   {
    "duration": 297,
    "start_time": "2025-01-31T10:31:08.957Z"
   },
   {
    "duration": 104,
    "start_time": "2025-01-31T10:31:09.256Z"
   },
   {
    "duration": 64,
    "start_time": "2025-01-31T10:31:09.363Z"
   },
   {
    "duration": 51,
    "start_time": "2025-01-31T10:31:09.430Z"
   },
   {
    "duration": 21,
    "start_time": "2025-01-31T10:31:09.686Z"
   },
   {
    "duration": 6,
    "start_time": "2025-01-31T10:31:10.208Z"
   },
   {
    "duration": 2,
    "start_time": "2025-01-31T10:31:13.281Z"
   },
   {
    "duration": 5,
    "start_time": "2025-01-31T10:31:13.777Z"
   },
   {
    "duration": 20,
    "start_time": "2025-01-31T10:34:52.969Z"
   },
   {
    "duration": 829,
    "start_time": "2025-01-31T10:54:41.695Z"
   },
   {
    "duration": 220,
    "start_time": "2025-01-31T10:54:42.526Z"
   },
   {
    "duration": 105,
    "start_time": "2025-01-31T10:54:42.747Z"
   },
   {
    "duration": 65,
    "start_time": "2025-01-31T10:54:42.855Z"
   },
   {
    "duration": 62,
    "start_time": "2025-01-31T10:54:42.922Z"
   },
   {
    "duration": 23,
    "start_time": "2025-01-31T10:54:43.176Z"
   },
   {
    "duration": 6,
    "start_time": "2025-01-31T10:54:43.492Z"
   },
   {
    "duration": 3,
    "start_time": "2025-01-31T10:54:44.633Z"
   },
   {
    "duration": 5,
    "start_time": "2025-01-31T10:54:45.406Z"
   },
   {
    "duration": 17,
    "start_time": "2025-01-31T10:54:47.755Z"
   },
   {
    "duration": 1375,
    "start_time": "2025-01-31T10:55:00.386Z"
   },
   {
    "duration": 1306,
    "start_time": "2025-01-31T10:55:10.910Z"
   },
   {
    "duration": 1234,
    "start_time": "2025-01-31T10:55:17.618Z"
   },
   {
    "duration": 3112,
    "start_time": "2025-01-31T10:55:26.341Z"
   },
   {
    "duration": 176,
    "start_time": "2025-01-31T13:31:19.618Z"
   },
   {
    "duration": 2614,
    "start_time": "2025-01-31T13:31:26.817Z"
   },
   {
    "duration": 307,
    "start_time": "2025-01-31T13:31:29.433Z"
   },
   {
    "duration": 117,
    "start_time": "2025-01-31T13:31:29.743Z"
   },
   {
    "duration": 73,
    "start_time": "2025-01-31T13:31:29.862Z"
   },
   {
    "duration": 44,
    "start_time": "2025-01-31T13:31:29.938Z"
   },
   {
    "duration": 36,
    "start_time": "2025-01-31T13:31:29.985Z"
   },
   {
    "duration": 8,
    "start_time": "2025-01-31T13:31:30.025Z"
   },
   {
    "duration": 73,
    "start_time": "2025-01-31T13:31:30.038Z"
   },
   {
    "duration": 6,
    "start_time": "2025-01-31T13:31:30.116Z"
   },
   {
    "duration": 18,
    "start_time": "2025-01-31T13:31:30.124Z"
   },
   {
    "duration": 3154,
    "start_time": "2025-01-31T13:31:30.143Z"
   },
   {
    "duration": 2993,
    "start_time": "2025-01-31T13:32:41.566Z"
   },
   {
    "duration": 2725,
    "start_time": "2025-01-31T13:32:54.306Z"
   },
   {
    "duration": 2769,
    "start_time": "2025-01-31T13:33:53.649Z"
   },
   {
    "duration": 3106,
    "start_time": "2025-01-31T13:34:57.726Z"
   },
   {
    "duration": 3109,
    "start_time": "2025-01-31T13:40:17.487Z"
   },
   {
    "duration": 3202,
    "start_time": "2025-01-31T13:40:35.329Z"
   },
   {
    "duration": 3122,
    "start_time": "2025-01-31T13:40:57.940Z"
   },
   {
    "duration": 870,
    "start_time": "2025-01-31T13:41:22.814Z"
   },
   {
    "duration": 221,
    "start_time": "2025-01-31T13:41:23.687Z"
   },
   {
    "duration": 108,
    "start_time": "2025-01-31T13:41:23.910Z"
   },
   {
    "duration": 67,
    "start_time": "2025-01-31T13:41:24.020Z"
   },
   {
    "duration": 60,
    "start_time": "2025-01-31T13:41:24.090Z"
   },
   {
    "duration": 21,
    "start_time": "2025-01-31T13:41:24.152Z"
   },
   {
    "duration": 6,
    "start_time": "2025-01-31T13:41:24.208Z"
   },
   {
    "duration": 3,
    "start_time": "2025-01-31T13:41:24.215Z"
   },
   {
    "duration": 5,
    "start_time": "2025-01-31T13:41:24.219Z"
   },
   {
    "duration": 97,
    "start_time": "2025-01-31T13:41:24.226Z"
   },
   {
    "duration": 3181,
    "start_time": "2025-01-31T13:41:24.324Z"
   },
   {
    "duration": 3079,
    "start_time": "2025-01-31T13:43:24.201Z"
   },
   {
    "duration": 924,
    "start_time": "2025-01-31T13:44:09.847Z"
   },
   {
    "duration": 299,
    "start_time": "2025-01-31T13:44:10.773Z"
   },
   {
    "duration": 101,
    "start_time": "2025-01-31T13:44:11.074Z"
   },
   {
    "duration": 74,
    "start_time": "2025-01-31T13:44:11.177Z"
   },
   {
    "duration": 49,
    "start_time": "2025-01-31T13:44:11.253Z"
   },
   {
    "duration": 28,
    "start_time": "2025-01-31T13:44:11.303Z"
   },
   {
    "duration": 6,
    "start_time": "2025-01-31T13:44:11.333Z"
   },
   {
    "duration": 2,
    "start_time": "2025-01-31T13:44:11.341Z"
   },
   {
    "duration": 5,
    "start_time": "2025-01-31T13:44:11.410Z"
   },
   {
    "duration": 20,
    "start_time": "2025-01-31T13:44:11.418Z"
   },
   {
    "duration": 173,
    "start_time": "2025-01-31T13:44:30.444Z"
   },
   {
    "duration": 947,
    "start_time": "2025-01-31T13:44:35.239Z"
   },
   {
    "duration": 299,
    "start_time": "2025-01-31T13:44:36.190Z"
   },
   {
    "duration": 100,
    "start_time": "2025-01-31T13:44:36.492Z"
   },
   {
    "duration": 64,
    "start_time": "2025-01-31T13:44:36.594Z"
   },
   {
    "duration": 52,
    "start_time": "2025-01-31T13:44:36.661Z"
   },
   {
    "duration": 20,
    "start_time": "2025-01-31T13:44:36.715Z"
   },
   {
    "duration": 6,
    "start_time": "2025-01-31T13:44:36.737Z"
   },
   {
    "duration": 3,
    "start_time": "2025-01-31T13:44:36.744Z"
   },
   {
    "duration": 64,
    "start_time": "2025-01-31T13:44:36.748Z"
   },
   {
    "duration": 97,
    "start_time": "2025-01-31T13:44:36.814Z"
   },
   {
    "duration": 3192,
    "start_time": "2025-01-31T13:44:36.913Z"
   },
   {
    "duration": 3051,
    "start_time": "2025-01-31T13:46:19.750Z"
   },
   {
    "duration": 3090,
    "start_time": "2025-01-31T13:46:47.310Z"
   },
   {
    "duration": 3114,
    "start_time": "2025-01-31T13:48:31.789Z"
   },
   {
    "duration": 2847,
    "start_time": "2025-01-31T13:48:54.196Z"
   },
   {
    "duration": 3070,
    "start_time": "2025-01-31T13:49:39.065Z"
   },
   {
    "duration": 3166,
    "start_time": "2025-01-31T13:50:05.985Z"
   },
   {
    "duration": 3006,
    "start_time": "2025-01-31T13:52:11.980Z"
   },
   {
    "duration": 3057,
    "start_time": "2025-01-31T13:52:48.746Z"
   },
   {
    "duration": 919,
    "start_time": "2025-01-31T14:53:18.298Z"
   },
   {
    "duration": 232,
    "start_time": "2025-01-31T14:53:19.219Z"
   },
   {
    "duration": 106,
    "start_time": "2025-01-31T14:53:19.454Z"
   },
   {
    "duration": 74,
    "start_time": "2025-01-31T14:53:19.562Z"
   },
   {
    "duration": 55,
    "start_time": "2025-01-31T14:53:19.638Z"
   },
   {
    "duration": 46,
    "start_time": "2025-01-31T14:53:19.695Z"
   },
   {
    "duration": 9,
    "start_time": "2025-01-31T14:53:19.743Z"
   },
   {
    "duration": 56,
    "start_time": "2025-01-31T14:53:19.754Z"
   },
   {
    "duration": 17,
    "start_time": "2025-01-31T14:53:19.813Z"
   },
   {
    "duration": 73,
    "start_time": "2025-01-31T14:53:19.840Z"
   },
   {
    "duration": 3412,
    "start_time": "2025-01-31T14:53:19.915Z"
   },
   {
    "duration": 3239,
    "start_time": "2025-01-31T14:54:46.803Z"
   },
   {
    "duration": 3128,
    "start_time": "2025-01-31T14:55:21.087Z"
   },
   {
    "duration": 3232,
    "start_time": "2025-01-31T15:02:28.934Z"
   },
   {
    "duration": 3961,
    "start_time": "2025-01-31T15:03:53.621Z"
   },
   {
    "duration": 3645,
    "start_time": "2025-01-31T15:05:39.692Z"
   },
   {
    "duration": 3329,
    "start_time": "2025-01-31T15:06:24.605Z"
   },
   {
    "duration": 3265,
    "start_time": "2025-01-31T15:08:44.270Z"
   },
   {
    "duration": 3418,
    "start_time": "2025-01-31T15:10:14.727Z"
   },
   {
    "duration": 3259,
    "start_time": "2025-01-31T15:11:53.535Z"
   },
   {
    "duration": 3295,
    "start_time": "2025-01-31T15:14:41.769Z"
   },
   {
    "duration": 3246,
    "start_time": "2025-01-31T15:15:50.976Z"
   },
   {
    "duration": 925,
    "start_time": "2025-01-31T15:17:42.226Z"
   },
   {
    "duration": 228,
    "start_time": "2025-01-31T15:17:43.154Z"
   },
   {
    "duration": 108,
    "start_time": "2025-01-31T15:17:43.386Z"
   },
   {
    "duration": 69,
    "start_time": "2025-01-31T15:17:43.496Z"
   },
   {
    "duration": 59,
    "start_time": "2025-01-31T15:17:43.567Z"
   },
   {
    "duration": 21,
    "start_time": "2025-01-31T15:17:43.628Z"
   },
   {
    "duration": 59,
    "start_time": "2025-01-31T15:17:43.650Z"
   },
   {
    "duration": 3,
    "start_time": "2025-01-31T15:17:43.711Z"
   },
   {
    "duration": 7,
    "start_time": "2025-01-31T15:17:43.715Z"
   },
   {
    "duration": 100,
    "start_time": "2025-01-31T15:17:43.724Z"
   },
   {
    "duration": 4166,
    "start_time": "2025-01-31T15:17:43.826Z"
   },
   {
    "duration": 3503,
    "start_time": "2025-01-31T15:19:16.050Z"
   },
   {
    "duration": 3404,
    "start_time": "2025-01-31T15:20:12.938Z"
   },
   {
    "duration": 3337,
    "start_time": "2025-01-31T15:21:08.913Z"
   },
   {
    "duration": 3434,
    "start_time": "2025-01-31T15:21:30.395Z"
   },
   {
    "duration": 3463,
    "start_time": "2025-01-31T15:22:32.848Z"
   },
   {
    "duration": 13,
    "start_time": "2025-01-31T15:22:52.892Z"
   },
   {
    "duration": 12,
    "start_time": "2025-01-31T15:22:59.134Z"
   },
   {
    "duration": 11,
    "start_time": "2025-01-31T15:23:11.422Z"
   },
   {
    "duration": 14,
    "start_time": "2025-01-31T15:23:30.916Z"
   },
   {
    "duration": 12,
    "start_time": "2025-01-31T15:23:45.240Z"
   },
   {
    "duration": 3336,
    "start_time": "2025-01-31T15:24:13.505Z"
   },
   {
    "duration": 3361,
    "start_time": "2025-01-31T15:25:09.549Z"
   },
   {
    "duration": 3474,
    "start_time": "2025-01-31T15:26:39.273Z"
   },
   {
    "duration": 3310,
    "start_time": "2025-01-31T15:28:16.652Z"
   },
   {
    "duration": 3202,
    "start_time": "2025-01-31T15:28:31.096Z"
   },
   {
    "duration": 3251,
    "start_time": "2025-01-31T15:30:08.580Z"
   },
   {
    "duration": 3366,
    "start_time": "2025-01-31T15:31:27.899Z"
   },
   {
    "duration": 3483,
    "start_time": "2025-01-31T15:31:57.713Z"
   },
   {
    "duration": 3445,
    "start_time": "2025-01-31T15:32:46.384Z"
   },
   {
    "duration": 3364,
    "start_time": "2025-01-31T15:33:25.297Z"
   },
   {
    "duration": 3269,
    "start_time": "2025-01-31T15:33:38.385Z"
   },
   {
    "duration": 3440,
    "start_time": "2025-01-31T15:33:56.959Z"
   },
   {
    "duration": 3428,
    "start_time": "2025-01-31T15:35:05.797Z"
   },
   {
    "duration": 3386,
    "start_time": "2025-01-31T15:35:41.482Z"
   },
   {
    "duration": 3462,
    "start_time": "2025-01-31T15:36:06.955Z"
   },
   {
    "duration": 12,
    "start_time": "2025-01-31T15:36:33.698Z"
   },
   {
    "duration": 13,
    "start_time": "2025-01-31T15:36:35.514Z"
   },
   {
    "duration": 3470,
    "start_time": "2025-01-31T15:36:39.841Z"
   },
   {
    "duration": 3367,
    "start_time": "2025-01-31T15:36:58.218Z"
   },
   {
    "duration": 3462,
    "start_time": "2025-01-31T15:37:46.586Z"
   },
   {
    "duration": 3448,
    "start_time": "2025-01-31T15:38:20.163Z"
   }
  ],
  "kernelspec": {
   "display_name": "Python 3 (ipykernel)",
   "language": "python",
   "name": "python3"
  },
  "language_info": {
   "codemirror_mode": {
    "name": "ipython",
    "version": 3
   },
   "file_extension": ".py",
   "mimetype": "text/x-python",
   "name": "python",
   "nbconvert_exporter": "python",
   "pygments_lexer": "ipython3",
   "version": "3.9.19"
  },
  "toc": {
   "base_numbering": 1,
   "nav_menu": {},
   "number_sections": true,
   "sideBar": true,
   "skip_h1_title": true,
   "title_cell": "Table of Contents",
   "title_sidebar": "Contents",
   "toc_cell": false,
   "toc_position": {},
   "toc_section_display": true,
   "toc_window_display": false
  }
 },
 "nbformat": 4,
 "nbformat_minor": 2
}
