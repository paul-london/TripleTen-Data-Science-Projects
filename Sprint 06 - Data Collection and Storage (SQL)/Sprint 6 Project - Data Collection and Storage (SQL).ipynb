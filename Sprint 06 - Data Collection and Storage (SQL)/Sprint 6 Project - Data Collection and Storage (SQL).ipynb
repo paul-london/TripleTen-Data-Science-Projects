{
 "cells": [
  {
   "cell_type": "markdown",
   "metadata": {},
   "source": [
    "<div style=\"border:solid blue 2px; padding: 20px\">\n",
    "\n",
    " **Overall Summary of the Project**\n",
    "\n",
    "Dear Paul,\n",
    "\n",
    "Congratulations on completing your data analysis project for Zuber! Your notebook is well-organized and provides a comprehensive analysis of taxi ride patterns in Chicago. You've effectively structured your project with clear sections, detailed explanations, and appropriate visualizations. Your work demonstrates a strong understanding of data manipulation, visualization, and statistical hypothesis testing. Below is some feedback to help you refine your project according to the assessment criteria.\n",
    "\n",
    "---\n",
    "\n",
    "<div style=\"border-left: 7px solid green; padding: 10px;\">\n",
    "<b>✅ Strengths:</b>\n",
    "<ul>\n",
    "  <li><b>Data Loading and Preparation:</b> You efficiently loaded the datasets and performed necessary data cleaning, including handling company names with extra numbers. Your use of regular expressions to clean the data shows proficiency in data preprocessing.</li>\n",
    "  <li><b>Exploratory Data Analysis:</b> You conducted thorough EDA by analyzing the distribution of rides among taxi companies and identifying the top neighborhoods by drop-offs. Your visualizations effectively highlight key insights, such as the dominance of certain companies and neighborhoods.</li>\n",
    "  <li><b>Visualization Skills:</b> The bar charts and pie charts are well-designed, with appropriate labels and titles. Filtering companies with fewer than 200 rides to reduce visual clutter demonstrates good analytical judgment.</li>\n",
    "  <li><b>Hypothesis Formulation:</b> You clearly stated both the null and alternative hypotheses, which is essential for proper hypothesis testing.</li>\n",
    "  <li><b>Conclusion:</b> Your summary effectively ties together the findings from your analysis, providing valuable insights into taxi company performance, neighborhood popularity, and the impact of weather on ride durations.</li>\n",
    "</ul>\n",
    "</div>\n",
    "\n",
    "<div style=\"border-left: 7px solid gold; padding: 10px;\">\n",
    "<b>⚠️ Areas for Improvement:</b>\n",
    "<ul>\n",
    "  <li><b>Code Comments:</b> Including comments within your code cells to explain the purpose of each code block can enhance readability and help others understand your thought process.</li>\n",
    "  <li><b>Data Type Conversion:</b> While you mentioned that data types appear correct, explicitly verifying and documenting the data types of your columns can strengthen your data validation process.</li>\n",
    "  <li><b>Enhanced Visualizations:</b> Consider adding more descriptive titles or annotations to your graphs to provide additional context and make your visualizations more informative.</li>\n",
    "  <li><b>Formatting:</b> Ensure consistent formatting throughout your notebook, such as consistent use of headings and spacing, to improve overall readability.</li>\n",
    "</ul>\n",
    "</div>\n",
    "\n",
    "<div style=\"border-left: 7px solid red; padding: 10px;\">\n",
    "<b>⛔️ Critical Changes Required:</b>\n",
    "<ul>\n",
    "  <li><b>Incorrect Day in Hypothesis Testing:</b>\n",
    "    <ul>\n",
    "      <li><b>Issue:</b> The project specifies testing the hypothesis on <b>rainy Sundays</b>, but your analysis focuses on <b>rainy Saturdays</b>.</li>\n",
    "      <li><b>How to Fix:</b> Modify your dataset filtering to select rides that occurred on Sundays instead of Saturdays. Adjust your analysis accordingly to test the hypothesis for rainy Sundays.</li>\n",
    "      <li><b>Example:</b> Change your code to filter for Sunday rides:\n",
    "        <pre>\n",
    "# Modify this line to filter for Sundays (6 represents Sunday)\n",
    "loop_to_ohare['start_ts'] = pd.to_datetime(loop_to_ohare['start_ts'])\n",
    "loop_to_ohare['day_of_week'] = loop_to_ohare['start_ts'].dt.dayofweek\n",
    "sundays_df = loop_to_ohare[loop_to_ohare['day_of_week'] == 6]\n",
    "        </pre>\n",
    "      </li>\n",
    "    </ul>\n",
    "  </li>\n",
    "  <li><b>Hypothesis Alignment with Project Instructions:</b>\n",
    "    <ul>\n",
    "      <li><b>Issue:</b> The hypothesis should focus on whether the average ride duration changes on rainy Sundays, not Saturdays.</li>\n",
    "      <li><b>How to Fix:</b> Update your null and alternative hypotheses to reflect the correct day as per the project requirements.</li>\n",
    "      <li><b>Example:</b>\n",
    "        <ul>\n",
    "          <li><b>Null Hypothesis (H₀):</b> The average duration of rides from the Loop to O'Hare International Airport does not change on rainy Sundays.</li>\n",
    "          <li><b>Alternative Hypothesis (H₁):</b> The average duration of rides from the Loop to O'Hare International Airport changes on rainy Sundays.</li>\n",
    "        </ul>\n",
    "      </li>\n",
    "    </ul>\n",
    "  </li>\n",
    "</ul>\n",
    "</div>\n",
    "\n",
    "---\n",
    "\n",
    "**Conclusion**\n",
    "\n",
    "Your project demonstrates a solid understanding of data analysis techniques and provides valuable insights into the taxi industry in Chicago. By addressing the critical changes regarding the correct day for hypothesis testing, you will align your analysis with the project requirements and strengthen your findings. Enhancing code documentation and refining visualizations will further improve the clarity and impact of your work.\n",
    "\n",
    "**Next Steps**\n",
    "\n",
    "- **Adjust Hypothesis Testing:**\n",
    "  - Modify your data filtering to focus on rides that occurred on rainy Sundays.\n",
    "  - Update your hypotheses and re-run the statistical tests accordingly.\n",
    "  - Interpret the new results and discuss their implications.\n",
    "\n",
    "- **Enhance Code Documentation:**\n",
    "  - Add comments within your code cells to explain the purpose and functionality of each code block.\n",
    "  - This will make your code more readable and easier to follow.\n",
    "\n",
    "- **Refine Visualizations:**\n",
    "  - Add more context to your graphs with descriptive titles and annotations.\n",
    "  - Ensure that all labels are clear and that the visualizations effectively communicate your findings.\n",
    "\n",
    "- **Verify Data Types Explicitly:**\n",
    "  - Include code to check and, if necessary, convert data types to ensure consistency and correctness.\n",
    "\n",
    "If you have any questions or need further assistance, please feel free to reach out. We look forward to your updated submission!\n",
    "\n",
    "</div>\n",
    "\n",
    "**(Response)** Thanks for the feedback! I believe this project should have been accepted as is for the below reasons: \n",
    "\n",
    "- I provided a good amount of code documentation and am not entirely sure what else can be added, so if you could provide some examples that would be great.\n",
    "- I would say the same thing about formatting - what about it specifically isn't consistent? I'm using headings, subheadings, bullet lists, and so forth whenever possible to improve readability. \n",
    "- Also, there isn't really much more that can be added to label my graphs - my labels are very complete and contain all necessary details (dates, places, etc.) with proper sizing and readability.\n",
    "- Finally, the instructions say to use Saturdays for my hypothesis - I can make the change to Sunday still but that isn't what I was originally instructed to do. I double checked and all possible sets of instructions all say Saturday (within jupyterhub as well as at the start of the sprint).\n",
    "\n",
    "Please let me know how to proceed. Thanks for reviewing my project."
   ]
  },
  {
   "cell_type": "markdown",
   "metadata": {},
   "source": [
    "# Sprint 6: Data Collection and Storage (SQL)\n",
    "\n",
    "## Exploratory Data Analysis\n",
    "\n",
    "I work as an analyst for Zuber, a new ride-sharing company launching in Chicago. I want to understand passenger preferences and the impact of external factors on taxi ridership. Data has been parsed and retrieved from an online database available at https://practicum-content.s3.us-west-1.amazonaws.com/data-analyst-eng/moved_chicago_weather_2017.html along with initial exploratory data analysis. \n",
    "\n",
    "In the previous analysis, I calculated new values from existing data along with some insights about the two most popular taxi companies, Flash Cab and Taxi Affiliation Services. I prepared the data to test the hypothesis that the duration of rides from the Loop to O'Hare International Airport is affected by weather conditions. \n",
    "\n",
    "This is a continuation of the previous analysis of Chicago taxi rides, which will involve data visualization and statistical\n",
    "testing. The following is the resulting data which will be the starting point for this section:\n",
    "\n",
    "- moved_project_sql_result_01.csv:\n",
    "    - Taxi company names\n",
    "    - Number of rides each company completed between 11-15-2017 and 11-16-2017\n",
    "- moved_project_sql_result_04.csv:\n",
    "    - Chicago neighborhood where rider was dropped off\n",
    "    - Average number of rides ending in each Chicago neighborhood in 2017\n",
    "- moved_project_sql_result_07.csv:\n",
    "    - Starting timestamp of rides from Loop to O'Hare International Airport\n",
    "    - Weather conditions when the ride started\n",
    "    - Ride duration"
   ]
  },
  {
   "cell_type": "code",
   "execution_count": null,
   "metadata": {},
   "outputs": [],
   "source": [
    "# Import required libraries\n",
    "import pandas as pd\n",
    "import numpy as np\n",
    "from matplotlib import pyplot as plt\n",
    "from datetime import datetime\n",
    "from scipy import stats as st\n",
    "import seaborn as sns\n",
    "import re"
   ]
  },
  {
   "cell_type": "code",
   "execution_count": null,
   "metadata": {},
   "outputs": [],
   "source": [
    "# Import data as dataframes\n",
    "companies = pd.read_csv('moved_project_sql_result_01.csv')\n",
    "neighborhoods = pd.read_csv('moved_project_sql_result_04.csv')"
   ]
  },
  {
   "cell_type": "code",
   "execution_count": null,
   "metadata": {},
   "outputs": [],
   "source": [
    "# Overview of the two dataframes to check data formatting and structure\n",
    "companies.info()\n",
    "print(companies.head())\n",
    "print(companies.sample(5))\n",
    "print()\n",
    "neighborhoods.info()\n",
    "print(neighborhoods.head())\n",
    "print(neighborhoods.sample(5))"
   ]
  },
  {
   "cell_type": "markdown",
   "metadata": {},
   "source": [
    "The two dataframes appear to have no missing values (since both columns have the same amount of rows in each) and all the data types appear to be correct and don't need any changes for analysis. See below for explanation:\n",
    "\n",
    "- Company Name and Dropoff Location Name are objects. This is correct because these are names of companies and locations.\n",
    "- Trip Amount is an integer. This is correct because these are counted in whole numbers and not decimals.\n",
    "- Average Trips is a float. This is correct because an average number of trips may have a decimal.\n",
    "\n",
    "However, some of the company names have additional numbers at the start of their names, such as \"2809 - 95474 C & D Cab Co Inc.\" I will strip the numbers off the names for visual clarity during the analysis, being careful not to remove numbers that are actually part of the company's name, such as \"303 Taxi\" or \"5 Star Taxi.\""
   ]
  },
  {
   "cell_type": "code",
   "execution_count": null,
   "metadata": {},
   "outputs": [],
   "source": [
    "# Removing the extra numbers at the beginning of some company names, in the '4 digits - 5 digits' and '4 digits -' formats.\n",
    "companies['company_name'] = companies['company_name'].replace(r'\\d{4} - \\d{5}', '', regex=True)\n",
    "companies['company_name'] = companies['company_name'].replace(r'\\d{4} - ', '', regex=True)\n",
    "\n",
    "# Manually replacing a few leftovers after the above took care of most of them\n",
    "companies['company_name'] = companies['company_name'].replace('- Felman Corp, Manuel Alonso', 'Felman Corp, Manuel Alonso')\n",
    "\n",
    "# Checking for final replacement\n",
    "companies.head(60)"
   ]
  },
  {
   "cell_type": "markdown",
   "metadata": {},
   "source": [
    "### Taxi Companies vs. Number of Rides Performed"
   ]
  },
  {
   "cell_type": "code",
   "execution_count": null,
   "metadata": {},
   "outputs": [],
   "source": [
    "# Plotting taxi companies vs. number of rides as a bar chart\n",
    "companies.plot(x = 'company_name'\n",
    "                                       , y = 'trips_amount'\n",
    "                                       , title = 'Number of Taxi Rides by Company in Chicago on November 15-16, 2017'\n",
    "                                       , xlabel = 'Taxi Company'\n",
    "                                       , ylabel = 'Number of Rides'\n",
    "                                       , kind = 'bar'\n",
    "                                       , rot = 90\n",
    "                                       , figsize=(25,10)\n",
    "                                       )\n",
    "# Font size adjustment\n",
    "plt.rcParams.update({'font.size': 14})\n",
    "\n",
    "# Hide legend (not required here)\n",
    "plt.legend().remove()\n",
    "\n",
    "# Show bar chart\n",
    "plt.show()"
   ]
  },
  {
   "cell_type": "markdown",
   "metadata": {},
   "source": [
    "As shown in the plot above, there are a large amount of companies, many of which operated fewer than 200 rides. To reduce visual clutter on the graph, let's remake the plot filtering those companies out of the visualization."
   ]
  },
  {
   "cell_type": "code",
   "execution_count": null,
   "metadata": {},
   "outputs": [],
   "source": [
    "# Create filtered companies dataframe removing those with fewer than 200 rides performed\n",
    "companies_filtered = companies[companies['trips_amount'] > 200]\n",
    "\n",
    "# Plotting taxi companies vs. number of rides as a bar chart\n",
    "companies_filtered.plot(x = 'company_name'\n",
    "                                       , y = 'trips_amount'\n",
    "                                       , title = 'Number of Taxi Rides (>200) by Company in Chicago on November 15-16, 2017'\n",
    "                                       , xlabel = 'Taxi Company'\n",
    "                                       , ylabel = 'Number of Rides'\n",
    "                                       , kind = 'bar'\n",
    "                                       , rot = 90\n",
    "                                       , figsize=(25,10)\n",
    "                                       )\n",
    "# Font size adjustment\n",
    "plt.rcParams.update({'font.size': 14})\n",
    "\n",
    "# Hide legend (not required here)\n",
    "plt.legend().remove()\n",
    "\n",
    "# Show bar chart\n",
    "plt.show()"
   ]
  },
  {
   "cell_type": "code",
   "execution_count": null,
   "metadata": {},
   "outputs": [],
   "source": [
    "# Checking proportion of all rides fulfilled by Flash Cab, Taxi Affiliation Services, and their sum\n",
    "companies['proportion'] = companies['trips_amount'] / companies['trips_amount'].sum()\n",
    "fc_percent = companies.loc[0, 'proportion'] * 100\n",
    "tas_percent = companies.loc[1, 'proportion'] * 100\n",
    "sum_companies = fc_percent + tas_percent\n",
    "print(fc_percent, tas_percent, sum_companies)"
   ]
  },
  {
   "cell_type": "markdown",
   "metadata": {},
   "source": [
    "As shown in the above plot, Flash Cab is the dominant taxi company on November 15-16, 2017, providing nearly 20,000 rides in Chicago. This accounts for 14.2% of all rides in the dataset. They are followed by Taxi Affiliation Services, providing around 12,000 rides, or 8.3% of the total. Together, these two companies account for 22.6% of all Chicago taxi rides in this time period.\n",
    "\n",
    "Several competitors are providing around 10,000 rides, while many more companies provide lower amounts."
   ]
  },
  {
   "cell_type": "markdown",
   "metadata": {},
   "source": [
    "### Top 10 Chicago Neighborhoods by Ride Drop-Offs"
   ]
  },
  {
   "cell_type": "code",
   "execution_count": null,
   "metadata": {},
   "outputs": [],
   "source": [
    "# Identify top 10 neighborhoods in terms of drop-offs and save as a new dataframe\n",
    "neighborhoods_top10 = neighborhoods.sort_values(by='average_trips', ascending=False).head(10)\n",
    "neighborhoods_top10"
   ]
  },
  {
   "cell_type": "code",
   "execution_count": null,
   "metadata": {},
   "outputs": [],
   "source": [
    "# Calculate proportion of rides in the top 10 neighborhoods to set up for pie chart\n",
    "# Add this percentage as a new column in neighborhoods_top10 dataframe\n",
    "neighborhoods_top10['percent'] = neighborhoods_top10['average_trips'] / neighborhoods_top10['average_trips'].sum()\n",
    "neighborhoods_top10"
   ]
  },
  {
   "cell_type": "markdown",
   "metadata": {},
   "source": [
    "The top 10 Chicago neighborhoods in terms of drop-offs are:\n",
    "1. Loop\n",
    "2. River North\n",
    "3. Streeterville\n",
    "4. West Loop\n",
    "5. O'Hare\n",
    "6. Lake View\n",
    "7. Grant Park\n",
    "8. Museum Campus\n",
    "9. Gold Coast\n",
    "10. Sheffield & DePaul"
   ]
  },
  {
   "cell_type": "code",
   "execution_count": null,
   "metadata": {},
   "outputs": [],
   "source": [
    "# Create pie chart for average dropoff amount among the top 10 neighborhoods\n",
    "plt.pie(neighborhoods_top10['percent'], labels=neighborhoods_top10['dropoff_location_name'], autopct='%1.1f%%')\n",
    "\n",
    "# Add title\n",
    "plt.title('Taxi Dropoff Frequency among Top 10 Chicago Neighborhoods')\n",
    "\n",
    "# Ensure circular plot\n",
    "plt.axis('equal')\n",
    "\n",
    "# Font size adjustment\n",
    "plt.rcParams.update({'font.size': 10})\n",
    "\n",
    "# Hide legend (not required here)\n",
    "plt.legend().remove()\n",
    "\n",
    "# Show pie chart\n",
    "plt.show()"
   ]
  },
  {
   "cell_type": "code",
   "execution_count": null,
   "metadata": {},
   "outputs": [],
   "source": [
    "# Sum of top 3 most popular neighborhoods percentages among full dataset and top 10 neighborhoods only\n",
    "# Adding percent column to original dataframe and sorting\n",
    "neighborhoods['percent'] = neighborhoods['average_trips'] / neighborhoods['average_trips'].sum()\n",
    "neighborhoods.sort_values(by='average_trips', ascending=False)\n",
    "\n",
    "sum_neighborhoods = neighborhoods.iloc[0:3, 2].values.sum() * 100\n",
    "print(sum_neighborhoods)\n",
    "\n",
    "sum_neighborhoods_top10 = neighborhoods_top10.iloc[0:3, 2].values.sum() * 100\n",
    "print(sum_neighborhoods_top10)"
   ]
  },
  {
   "cell_type": "markdown",
   "metadata": {},
   "source": [
    "As shown in the pie chart above, the three most popular neighborhoods among the top 10 in Chicago to be dropped off by taxi are Loop, River North, and Streeterville, accounting for 62.2% of taxi dropoffs among this group. In terms of all Chicago neighborhoods, these 3 destinations account for 47.7% of all taxi dropoffs."
   ]
  },
  {
   "cell_type": "code",
   "execution_count": null,
   "metadata": {},
   "outputs": [],
   "source": [
    "# Import data as dataframe\n",
    "loop_to_ohare = pd.read_csv('moved_project_sql_result_07.csv')"
   ]
  },
  {
   "cell_type": "code",
   "execution_count": null,
   "metadata": {},
   "outputs": [],
   "source": [
    "# Overview of the dataframe to check data formatting and structure\n",
    "loop_to_ohare.info()\n",
    "print(loop_to_ohare.head())\n",
    "print(loop_to_ohare.sample(5))"
   ]
  },
  {
   "cell_type": "markdown",
   "metadata": {},
   "source": [
    "This dataframe is the result of previous SQL analysis and contains timestamps of Saturday taxi rides, weather condition rating (good or bad), and the duration in seconds of the trip. There are no missing values and all data types appear correct for my analysis:\n",
    "\n",
    "- Timestamp should be converted to datetime but I won't be using it in this analysis\n",
    "- Weather Conditions is an object since it is just a rating of 'good' or 'bad'\n",
    "- Trip Duration is a float because there can be decimals of seconds, but in this data set it could also be an integer since decimal seconds aren't recorded by the taxi companies\n",
    "\n",
    "### Testing the Hypothesis\n",
    "\n",
    "Our previously mentioned hypothesis to statistically test is \"The average duration of rides from the Loop to O'Hare International Airport changes on rainy Saturdays.\" The steps for this analysis are below."
   ]
  },
  {
   "cell_type": "code",
   "execution_count": null,
   "metadata": {},
   "outputs": [],
   "source": [
    "# Null Hypothesis: \"The average duration of rides from the Loop to O'Hare International Airport does not change on rainy Saturdays.\"\n",
    "# Alternative Hypothesis: \"The average duration of rides from the Loop to O'Hare International Airport changes on rainy Saturdays.\"\n",
    "\n",
    "# First, we have to divide the data into two populations based on the comparison in the hypotheses above\n",
    "# We will create separate lists of ride durations for Good and Bad weather conditions and compare them with a t-test below\n",
    "loop_to_ohare_good = loop_to_ohare[loop_to_ohare['weather_conditions'] == 'Good']['duration_seconds']\n",
    "loop_to_ohare_bad = loop_to_ohare[loop_to_ohare['weather_conditions'] == 'Bad']['duration_seconds']\n",
    "loop_to_ohare_good_avg = np.mean(loop_to_ohare_good) / 60\n",
    "loop_to_ohare_bad_avg = np.mean(loop_to_ohare_bad) / 60\n",
    "print(f'Average ride duration in good weather: {loop_to_ohare_good_avg:.1f} minutes.')\n",
    "print(f'Average ride duration in bad weather: {loop_to_ohare_bad_avg:.1f} minutes.')\n",
    "\n",
    "# Critical statistical significance level\n",
    "# If the p-value is less than alpha, we reject the hypothesis\n",
    "alpha = 0.05\n",
    "\n",
    "# In order to test the hypothesis that the means of the two statistical populations are equal based on samples taken from them, apply the independent t-test \n",
    "results = st.ttest_ind(loop_to_ohare_good, loop_to_ohare_bad)\n",
    "\n",
    "print('p-value: ', results.pvalue)\n",
    "\n",
    "if results.pvalue < alpha:\n",
    "    print(\"We reject the null hypothesis - The average duration of rides from the Loop to O'Hare International Airport changes on rainy Saturdays.\")\n",
    "else:\n",
    "    print(\"We can't reject the null hypothesis - The average duration of rides from the Loop to O'Hare International Airport does not change on rainy Saturdays.\") "
   ]
  },
  {
   "cell_type": "markdown",
   "metadata": {},
   "source": [
    "As demonstrated above, the average duration of taxi rides from the Loop to O'Hare International Airport in Chicago changes on rainy Saturdays in November 2017. \n",
    "\n",
    "For further analysis, one could assume the duration of these rides would specifically *increase* and perform a single-tailed t-test in that direction. This would double the statistical power of the test and would be a good next step since it is unlikely that rainy conditions would *decrease* a taxi ride's duration.\n",
    "\n",
    "# Conclusion"
   ]
  },
  {
   "cell_type": "markdown",
   "metadata": {},
   "source": [
    "From my analysis, I have demonstrated a few key takeaways regarding Chicago taxi rides on November 15-16, 2017:\n",
    "- **Taxi Companies**\n",
    "    - Flash Cab is the dominant taxi company with a 14.2% market share.\n",
    "    - Taxi Affiliation Services fulfilled the second most rides, with a, 8.3% share.\n",
    "    - About 10 other competitors are providing at least 5000 rides in this time period.\n",
    "    - There are a total of 64 taxi companies in the dataset.\n",
    "    \n",
    "- **Chicago Neighborhood Popularity**\n",
    "    - The top 3 destination neighborhoods are Loop, River North, and Streeterville.\n",
    "    - These 3 neighborhoods account for 47.7% of all Chicago dropoffs, and 62.2% among the top 10 neighborhoods.\n",
    "    \n",
    "- **Effect of Weather**\n",
    "    - For rides from Loop to O'Hare International Airport, weather rated 'bad' causes a statistically significant change in ride duration (α = 0.05).\n",
    "    - The average change in ride duration in 'bad' weather was an increase of over 7 minutes."
   ]
  }
 ],
 "metadata": {
  "ExecuteTimeLog": [
   {
    "duration": 319,
    "start_time": "2024-11-27T17:56:44.011Z"
   },
   {
    "duration": 521,
    "start_time": "2024-11-27T17:58:42.392Z"
   },
   {
    "duration": 2,
    "start_time": "2024-11-27T17:58:44.227Z"
   },
   {
    "duration": 57,
    "start_time": "2024-11-27T17:58:46.610Z"
   },
   {
    "duration": 14,
    "start_time": "2024-11-27T18:00:04.304Z"
   },
   {
    "duration": 2,
    "start_time": "2024-11-27T18:00:07.263Z"
   },
   {
    "duration": 64,
    "start_time": "2024-11-27T18:00:08.096Z"
   },
   {
    "duration": 62,
    "start_time": "2024-11-27T18:00:30.944Z"
   },
   {
    "duration": 2,
    "start_time": "2024-11-27T18:00:52.108Z"
   },
   {
    "duration": 58,
    "start_time": "2024-11-27T18:00:53.289Z"
   },
   {
    "duration": 9,
    "start_time": "2024-11-27T18:02:29.030Z"
   },
   {
    "duration": 11,
    "start_time": "2024-11-27T18:03:10.366Z"
   },
   {
    "duration": 8,
    "start_time": "2024-11-27T18:03:21.388Z"
   },
   {
    "duration": 5,
    "start_time": "2024-11-27T18:03:34.060Z"
   },
   {
    "duration": 14,
    "start_time": "2024-11-27T18:03:38.425Z"
   },
   {
    "duration": 5,
    "start_time": "2024-11-27T18:03:45.748Z"
   },
   {
    "duration": 15,
    "start_time": "2024-11-27T18:03:53.486Z"
   },
   {
    "duration": 16,
    "start_time": "2024-11-27T18:04:03.259Z"
   },
   {
    "duration": 7,
    "start_time": "2024-11-27T18:09:21.447Z"
   },
   {
    "duration": 7,
    "start_time": "2024-11-27T18:09:31.221Z"
   },
   {
    "duration": 7,
    "start_time": "2024-11-27T18:09:49.254Z"
   },
   {
    "duration": 6,
    "start_time": "2024-11-27T18:10:10.561Z"
   },
   {
    "duration": 2249,
    "start_time": "2024-11-27T18:13:12.751Z"
   },
   {
    "duration": 53,
    "start_time": "2024-11-27T18:17:32.625Z"
   },
   {
    "duration": 463,
    "start_time": "2024-11-27T18:17:43.267Z"
   },
   {
    "duration": 56,
    "start_time": "2024-11-27T18:20:56.008Z"
   },
   {
    "duration": 1247,
    "start_time": "2024-11-27T18:21:01.492Z"
   },
   {
    "duration": 1135,
    "start_time": "2024-11-27T18:21:09.843Z"
   },
   {
    "duration": 17,
    "start_time": "2024-11-27T18:22:07.582Z"
   },
   {
    "duration": 18,
    "start_time": "2024-11-27T18:22:17.836Z"
   },
   {
    "duration": 3,
    "start_time": "2024-11-27T18:28:08.251Z"
   },
   {
    "duration": 45,
    "start_time": "2024-11-27T18:30:07.817Z"
   },
   {
    "duration": 42,
    "start_time": "2024-11-27T18:30:36.944Z"
   },
   {
    "duration": 30,
    "start_time": "2024-11-27T18:31:13.000Z"
   },
   {
    "duration": 17,
    "start_time": "2024-11-27T18:32:06.235Z"
   },
   {
    "duration": 7,
    "start_time": "2024-11-27T18:32:17.226Z"
   },
   {
    "duration": 7,
    "start_time": "2024-11-27T18:33:16.079Z"
   },
   {
    "duration": 134,
    "start_time": "2024-11-27T18:33:42.216Z"
   },
   {
    "duration": 7,
    "start_time": "2024-11-27T18:37:55.088Z"
   },
   {
    "duration": 11,
    "start_time": "2024-11-27T18:38:17.377Z"
   },
   {
    "duration": 12,
    "start_time": "2024-11-27T18:38:30.803Z"
   },
   {
    "duration": 10,
    "start_time": "2024-11-27T18:38:34.931Z"
   },
   {
    "duration": 9,
    "start_time": "2024-11-27T18:38:37.377Z"
   },
   {
    "duration": 11,
    "start_time": "2024-11-27T18:39:47.471Z"
   },
   {
    "duration": 12,
    "start_time": "2024-11-27T18:42:14.014Z"
   },
   {
    "duration": 1124,
    "start_time": "2024-11-27T18:42:49.453Z"
   },
   {
    "duration": 1169,
    "start_time": "2024-11-27T18:44:07.689Z"
   },
   {
    "duration": 1438,
    "start_time": "2024-11-27T18:44:12.414Z"
   },
   {
    "duration": 1307,
    "start_time": "2024-11-27T18:44:24.191Z"
   },
   {
    "duration": 1351,
    "start_time": "2024-11-27T18:44:42.270Z"
   },
   {
    "duration": 1154,
    "start_time": "2024-11-27T18:44:59.173Z"
   },
   {
    "duration": 1311,
    "start_time": "2024-11-27T18:45:12.278Z"
   },
   {
    "duration": 1302,
    "start_time": "2024-11-27T18:45:30.725Z"
   },
   {
    "duration": 1210,
    "start_time": "2024-11-27T18:45:48.913Z"
   },
   {
    "duration": 1451,
    "start_time": "2024-11-27T18:46:00.824Z"
   },
   {
    "duration": 1136,
    "start_time": "2024-11-27T18:46:05.945Z"
   },
   {
    "duration": 1274,
    "start_time": "2024-11-27T18:46:30.678Z"
   },
   {
    "duration": 1258,
    "start_time": "2024-11-27T18:46:50.094Z"
   },
   {
    "duration": 13,
    "start_time": "2024-11-27T18:49:19.815Z"
   },
   {
    "duration": 1076,
    "start_time": "2024-11-27T18:49:38.314Z"
   },
   {
    "duration": 439,
    "start_time": "2024-11-27T18:49:43.520Z"
   },
   {
    "duration": 438,
    "start_time": "2024-11-27T18:49:56.605Z"
   },
   {
    "duration": 608,
    "start_time": "2024-11-27T18:50:05.136Z"
   },
   {
    "duration": 433,
    "start_time": "2024-11-27T18:50:09.624Z"
   },
   {
    "duration": 439,
    "start_time": "2024-11-27T18:50:26.934Z"
   },
   {
    "duration": 404,
    "start_time": "2024-11-27T18:50:33.239Z"
   },
   {
    "duration": 431,
    "start_time": "2024-11-27T18:50:38.958Z"
   },
   {
    "duration": 443,
    "start_time": "2024-11-27T18:51:13.587Z"
   },
   {
    "duration": 8,
    "start_time": "2024-11-27T18:55:09.099Z"
   },
   {
    "duration": 56,
    "start_time": "2024-11-27T18:56:53.523Z"
   },
   {
    "duration": 126,
    "start_time": "2024-11-27T18:57:59.170Z"
   },
   {
    "duration": 118,
    "start_time": "2024-11-27T18:58:05.626Z"
   },
   {
    "duration": 132,
    "start_time": "2024-11-27T18:58:47.979Z"
   },
   {
    "duration": 134,
    "start_time": "2024-11-27T18:59:06.751Z"
   },
   {
    "duration": 131,
    "start_time": "2024-11-27T18:59:12.360Z"
   },
   {
    "duration": 131,
    "start_time": "2024-11-27T18:59:17.906Z"
   },
   {
    "duration": 108,
    "start_time": "2024-11-27T18:59:38.387Z"
   },
   {
    "duration": 103,
    "start_time": "2024-11-27T18:59:42.131Z"
   },
   {
    "duration": 560,
    "start_time": "2024-11-27T18:59:46.018Z"
   },
   {
    "duration": 138,
    "start_time": "2024-11-27T19:00:00.423Z"
   },
   {
    "duration": 299,
    "start_time": "2024-11-27T19:00:59.433Z"
   },
   {
    "duration": 124,
    "start_time": "2024-11-27T19:01:22.204Z"
   },
   {
    "duration": 7,
    "start_time": "2024-11-27T19:01:45.593Z"
   },
   {
    "duration": 116,
    "start_time": "2024-11-27T19:01:54.197Z"
   },
   {
    "duration": 116,
    "start_time": "2024-11-27T19:02:11.870Z"
   },
   {
    "duration": 244,
    "start_time": "2024-11-27T19:02:43.457Z"
   },
   {
    "duration": 131,
    "start_time": "2024-11-27T19:03:05.038Z"
   },
   {
    "duration": 7,
    "start_time": "2024-11-27T19:03:52.172Z"
   },
   {
    "duration": 132,
    "start_time": "2024-11-27T19:03:54.589Z"
   },
   {
    "duration": 142,
    "start_time": "2024-11-27T19:04:02.958Z"
   },
   {
    "duration": 128,
    "start_time": "2024-11-27T19:04:14.069Z"
   },
   {
    "duration": 125,
    "start_time": "2024-11-27T19:04:18.349Z"
   },
   {
    "duration": 126,
    "start_time": "2024-11-27T19:04:23.539Z"
   },
   {
    "duration": 155,
    "start_time": "2024-11-27T19:04:27.852Z"
   },
   {
    "duration": 128,
    "start_time": "2024-11-27T19:04:32.101Z"
   },
   {
    "duration": 148,
    "start_time": "2024-11-27T19:04:35.702Z"
   },
   {
    "duration": 124,
    "start_time": "2024-11-27T19:04:39.382Z"
   },
   {
    "duration": 3,
    "start_time": "2024-11-27T19:05:35.962Z"
   },
   {
    "duration": 7,
    "start_time": "2024-11-27T19:05:47.181Z"
   },
   {
    "duration": 7,
    "start_time": "2024-11-27T19:12:06.398Z"
   },
   {
    "duration": 12,
    "start_time": "2024-11-27T19:12:47.009Z"
   },
   {
    "duration": 4,
    "start_time": "2024-11-27T19:18:43.224Z"
   },
   {
    "duration": 5,
    "start_time": "2024-11-27T19:18:55.886Z"
   },
   {
    "duration": 17,
    "start_time": "2024-11-27T19:19:04.823Z"
   },
   {
    "duration": 6,
    "start_time": "2024-11-27T19:19:56.601Z"
   },
   {
    "duration": 17,
    "start_time": "2024-11-27T19:42:06.398Z"
   },
   {
    "duration": 14,
    "start_time": "2024-11-27T19:42:46.196Z"
   },
   {
    "duration": 14,
    "start_time": "2024-11-27T19:42:57.419Z"
   },
   {
    "duration": 15,
    "start_time": "2024-11-27T19:43:33.878Z"
   },
   {
    "duration": 6,
    "start_time": "2024-11-27T19:43:50.183Z"
   },
   {
    "duration": 17,
    "start_time": "2024-11-27T19:46:33.338Z"
   },
   {
    "duration": 7,
    "start_time": "2024-11-27T19:46:44.331Z"
   },
   {
    "duration": 7,
    "start_time": "2024-11-27T19:47:17.267Z"
   },
   {
    "duration": 7,
    "start_time": "2024-11-27T19:47:23.625Z"
   },
   {
    "duration": 7,
    "start_time": "2024-11-27T19:47:26.928Z"
   },
   {
    "duration": 526,
    "start_time": "2024-12-02T16:57:00.267Z"
   },
   {
    "duration": 14,
    "start_time": "2024-12-02T16:57:07.584Z"
   },
   {
    "duration": 14,
    "start_time": "2024-12-02T16:57:25.496Z"
   },
   {
    "duration": 6,
    "start_time": "2024-12-02T16:57:29.402Z"
   },
   {
    "duration": 5,
    "start_time": "2024-12-02T16:57:31.536Z"
   },
   {
    "duration": 4,
    "start_time": "2024-12-02T16:57:37.261Z"
   },
   {
    "duration": 4,
    "start_time": "2024-12-02T16:57:48.705Z"
   },
   {
    "duration": 3,
    "start_time": "2024-12-02T16:58:41.783Z"
   },
   {
    "duration": 4,
    "start_time": "2024-12-02T16:58:56.337Z"
   },
   {
    "duration": 3,
    "start_time": "2024-12-02T16:59:33.006Z"
   },
   {
    "duration": 4,
    "start_time": "2024-12-02T16:59:37.911Z"
   },
   {
    "duration": 4,
    "start_time": "2024-12-02T17:01:13.078Z"
   },
   {
    "duration": 5,
    "start_time": "2024-12-02T17:01:33.547Z"
   },
   {
    "duration": 4,
    "start_time": "2024-12-02T17:05:17.276Z"
   },
   {
    "duration": 70,
    "start_time": "2024-12-02T17:05:29.006Z"
   },
   {
    "duration": 103,
    "start_time": "2024-12-02T17:05:48.345Z"
   },
   {
    "duration": 88,
    "start_time": "2024-12-02T17:06:20.377Z"
   },
   {
    "duration": 73,
    "start_time": "2024-12-02T17:06:26.111Z"
   },
   {
    "duration": 43,
    "start_time": "2024-12-02T17:06:33.521Z"
   },
   {
    "duration": 37,
    "start_time": "2024-12-02T17:06:45.709Z"
   },
   {
    "duration": 36,
    "start_time": "2024-12-02T17:06:49.749Z"
   },
   {
    "duration": 38,
    "start_time": "2024-12-02T17:07:04.595Z"
   },
   {
    "duration": 44,
    "start_time": "2024-12-02T17:07:56.727Z"
   },
   {
    "duration": 38,
    "start_time": "2024-12-02T17:08:38.675Z"
   },
   {
    "duration": 58,
    "start_time": "2024-12-02T17:08:51.526Z"
   },
   {
    "duration": 53,
    "start_time": "2024-12-02T17:09:36.270Z"
   },
   {
    "duration": 43,
    "start_time": "2024-12-02T17:09:56.008Z"
   },
   {
    "duration": 3,
    "start_time": "2024-12-02T17:09:59.116Z"
   },
   {
    "duration": 9,
    "start_time": "2024-12-02T17:10:08.156Z"
   },
   {
    "duration": 7,
    "start_time": "2024-12-02T17:10:11.118Z"
   },
   {
    "duration": 3,
    "start_time": "2024-12-02T17:10:13.340Z"
   },
   {
    "duration": 3,
    "start_time": "2024-12-02T17:10:17.143Z"
   },
   {
    "duration": 61,
    "start_time": "2024-12-02T17:11:27.870Z"
   },
   {
    "duration": 7,
    "start_time": "2024-12-02T17:12:13.367Z"
   },
   {
    "duration": 8,
    "start_time": "2024-12-02T17:12:51.372Z"
   },
   {
    "duration": 7,
    "start_time": "2024-12-02T17:13:27.071Z"
   },
   {
    "duration": 9,
    "start_time": "2024-12-02T17:14:39.393Z"
   },
   {
    "duration": 8,
    "start_time": "2024-12-02T17:14:52.290Z"
   },
   {
    "duration": 8,
    "start_time": "2024-12-02T17:15:18.392Z"
   },
   {
    "duration": 9,
    "start_time": "2024-12-02T17:15:22.064Z"
   },
   {
    "duration": 5,
    "start_time": "2024-12-02T17:15:32.993Z"
   },
   {
    "duration": 2637,
    "start_time": "2024-12-02T17:38:39.220Z"
   },
   {
    "duration": 603,
    "start_time": "2024-12-02T17:38:41.860Z"
   },
   {
    "duration": 0,
    "start_time": "2024-12-02T17:38:42.466Z"
   },
   {
    "duration": 0,
    "start_time": "2024-12-02T17:38:42.467Z"
   },
   {
    "duration": 0,
    "start_time": "2024-12-02T17:38:42.469Z"
   },
   {
    "duration": 0,
    "start_time": "2024-12-02T17:38:42.471Z"
   },
   {
    "duration": 1,
    "start_time": "2024-12-02T17:38:42.472Z"
   },
   {
    "duration": 0,
    "start_time": "2024-12-02T17:38:42.474Z"
   },
   {
    "duration": 0,
    "start_time": "2024-12-02T17:38:42.476Z"
   },
   {
    "duration": 0,
    "start_time": "2024-12-02T17:38:42.477Z"
   },
   {
    "duration": 0,
    "start_time": "2024-12-02T17:38:42.478Z"
   },
   {
    "duration": 0,
    "start_time": "2024-12-02T17:38:42.479Z"
   },
   {
    "duration": 0,
    "start_time": "2024-12-02T17:38:42.481Z"
   },
   {
    "duration": 0,
    "start_time": "2024-12-02T17:38:42.509Z"
   }
  ],
  "kernelspec": {
   "display_name": "Python 3 (ipykernel)",
   "language": "python",
   "name": "python3"
  },
  "language_info": {
   "codemirror_mode": {
    "name": "ipython",
    "version": 3
   },
   "file_extension": ".py",
   "mimetype": "text/x-python",
   "name": "python",
   "nbconvert_exporter": "python",
   "pygments_lexer": "ipython3",
   "version": "3.9.19"
  },
  "toc": {
   "base_numbering": 1,
   "nav_menu": {},
   "number_sections": true,
   "sideBar": true,
   "skip_h1_title": true,
   "title_cell": "Table of Contents",
   "title_sidebar": "Contents",
   "toc_cell": false,
   "toc_position": {},
   "toc_section_display": true,
   "toc_window_display": false
  }
 },
 "nbformat": 4,
 "nbformat_minor": 2
}
