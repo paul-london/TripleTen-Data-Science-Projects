{
 "cells": [
  {
   "cell_type": "markdown",
   "metadata": {},
   "source": [
    "**Review**\n",
    "\n",
    "Hello Paul!\n",
    "\n",
    "I'm happy to review your project today.\n",
    "  \n",
    "You can find my comments in colored markdown cells:\n",
    "  \n",
    "<div class=\"alert alert-success\">\n",
    "  If everything is done successfully.\n",
    "</div>\n",
    "  \n",
    "<div class=\"alert alert-warning\">\n",
    "  If I have some (optional) suggestions, or questions to think about, or general comments.\n",
    "</div>\n",
    "  \n",
    "<div class=\"alert alert-danger\">\n",
    "  If a section requires some corrections. Work can't be accepted with red comments.\n",
    "</div>\n",
    "  \n",
    "Please don't remove my comments, as it will make further review iterations much harder for me.\n",
    "  \n",
    "Feel free to reply to my comments or ask questions using the following template:\n",
    "  \n",
    "<div class=\"alert alert-info\">\n",
    "  Thank you so much for your feedbacks. I've split the cells into multiple so it's easier. Hopefully i got it right this time. Thank you!\n",
    "</div>\n",
    "  \n",
    "First of all, thank you for turning in the project! You did a great job overall, but there are some small problems that need to be fixed before the project will be accepted. Let me know if you have any questions!\n"
   ]
  },
  {
   "cell_type": "markdown",
   "metadata": {},
   "source": [
    "# Sprint 10 Project: Integrated Project 2\n",
    "\n",
    "## Overview\n",
    "\n",
    "### Objective\n",
    "For this project, I will create a machine learning model prototype for Zyfra, a company that develops efficiency solutions for heavy industry. The model will predict the amount of gold recovered from the processing of raw gold ore. More specifically, it will help to optimize production and eliminate unprofitable parameters.\n",
    "\n",
    "### Workflow\n",
    "For this project, I will:\n",
    "- Prepare the data for analysis and modeling\n",
    "- Perform data analysis across the different stages of gold purification\n",
    "- Develop and train a model to predict gold recovery\n",
    "\n",
    "## Import Libraries"
   ]
  },
  {
   "cell_type": "code",
   "execution_count": 1,
   "metadata": {},
   "outputs": [],
   "source": [
    "# Import libraries required for the project\n",
    "import pandas as pd\n",
    "import numpy as np\n",
    "import matplotlib.pyplot as plt\n",
    "\n",
    "# To Create Training & Validation Sets\n",
    "from sklearn.model_selection import train_test_split\n",
    "\n",
    "# To calculate MAE\n",
    "from sklearn.metrics import mean_absolute_error\n",
    "\n",
    "# Regression Models \n",
    "from sklearn.linear_model import LinearRegression\n",
    "from sklearn.tree import DecisionTreeRegressor\n",
    "from sklearn.ensemble import RandomForestRegressor\n",
    "\n",
    "# Cross Validation Score For Model Evaluation \n",
    "from sklearn.model_selection import cross_val_score\n",
    "\n",
    "# For make_scorer to use in cross validation \n",
    "from sklearn.metrics import make_scorer\n",
    "\n",
    "# DummyRegressor\n",
    "from sklearn.dummy import DummyRegressor \n",
    "\n",
    "# Show all columns when displaying dataframe\n",
    "pd.set_option('display.max_columns', None)\n",
    "\n",
    "# To disbale runtime warning during model training\n",
    "import warnings\n",
    "warnings.filterwarnings('ignore', category=RuntimeWarning)"
   ]
  },
  {
   "cell_type": "markdown",
   "metadata": {},
   "source": [
    "## Data Preparation\n",
    "\n",
    "### Read Data Files"
   ]
  },
  {
   "cell_type": "code",
   "execution_count": 2,
   "metadata": {},
   "outputs": [],
   "source": [
    "# Read CSVs for training and testing our model\n",
    "# Additionally, the full dataset was provided\n",
    "gold_recovery_train = pd.read_csv('/datasets/gold_recovery_train.csv')\n",
    "gold_recovery_test = pd.read_csv('/datasets/gold_recovery_test.csv')\n",
    "gold_recovery_full = pd.read_csv('/datasets/gold_recovery_full.csv')"
   ]
  },
  {
   "cell_type": "markdown",
   "metadata": {},
   "source": [
    "### Recovery Calculations\n",
    "\n",
    "The formula below is used to simulate the process of recovering gold from gold ore. In this case, the goal is to maximize the recovery coefficient (\"Recovery\" in the formula).\n",
    "\n",
    "![Recovery Formula](https://practicum-content.s3.us-west-1.amazonaws.com/resources/moved_Recovery_1576238822_1589899219.jpg)\n",
    "\n",
    "Where:\n",
    "- C — share of gold in the concentrate right after flotation (for finding the rougher concentrate recovery)/after purification (for finding the final concentrate recovery)\n",
    "    - This is represented in the dataset as `rougher.output.concentrate_au`\n",
    "- F — share of gold in the feed before flotation (for finding the rougher concentrate recovery)/in the concentrate right after flotation (for finding the final concentrate recovery)\n",
    "    - This is represented in the dataset as `rougher.input.feed_au`\n",
    "- T — share of gold in the rougher tails right after flotation (for finding the rougher concentrate recovery)/after purification (for finding the final concentrate recovery)\n",
    "    - This is represented in the dataset as `rougher.output.tail_au`\n",
    "    \n",
    "To calculate the recovery coefficient, I need to find the share of gold in the concentrate and tails.\n",
    "\n",
    "### Calculate Recovery"
   ]
  },
  {
   "cell_type": "code",
   "execution_count": 3,
   "metadata": {},
   "outputs": [],
   "source": [
    "# Create a function to calculate recovery\n",
    "def recovery(df, C, F, T):\n",
    "    recovery = 100 * ((df[C] * (df[F] - df[T])) / (df[F] * (df[C] - df[T])))\n",
    "    return recovery\n",
    "\n",
    "# Calculate the recovery for rows that don't have NaN in rougher.output.recovery\n",
    "calculated_recovery = recovery(gold_recovery_train.dropna(subset=['rougher.output.recovery']), 'rougher.output.concentrate_au', 'rougher.input.feed_au', 'rougher.output.tail_au')"
   ]
  },
  {
   "cell_type": "markdown",
   "metadata": {},
   "source": [
    "### Find MAE Between Calculated Recovery and Given Recovery (Training Dataset)"
   ]
  },
  {
   "cell_type": "code",
   "execution_count": 4,
   "metadata": {},
   "outputs": [
    {
     "name": "stdout",
     "output_type": "stream",
     "text": [
      "The Mean Absolute Error is 9.303415616264301e-15\n"
     ]
    }
   ],
   "source": [
    "# Create a list of the values in 'rougher.output.recovery' from the training set\n",
    "actual_recovery = gold_recovery_train['rougher.output.recovery'].dropna().to_list()\n",
    "\n",
    "# Using the actual recovery values and the calculated recovery values, calculate the MAE\n",
    "print(f\"The Mean Absolute Error is {mean_absolute_error(actual_recovery, calculated_recovery)}\")"
   ]
  },
  {
   "cell_type": "markdown",
   "metadata": {},
   "source": [
    "#### Findings\n",
    "\n",
    "Absolute Error is the amount of error in our measurements. It is the difference between the calculated value and true value. When using our recovery function to calculate the values for recovery, the difference between our prediction and the actual results is nearly 0. This means that our function for determining recovery is accurate in calculating `rougher.output.recovery`."
   ]
  },
  {
   "cell_type": "markdown",
   "metadata": {},
   "source": [
    "<div class=\"alert alert-block alert-success\">\n",
    "<b>Reviewer's comment V1</b> <a class=\"tocSkip\"></a>\n",
    "\n",
    "Good job!\n",
    "  \n",
    "</div>"
   ]
  },
  {
   "cell_type": "markdown",
   "metadata": {},
   "source": [
    "### Analysis of Features Not Available in Test Dataset"
   ]
  },
  {
   "cell_type": "code",
   "execution_count": 5,
   "metadata": {},
   "outputs": [
    {
     "name": "stdout",
     "output_type": "stream",
     "text": [
      "The number of features in the training set is 87\n",
      "The number of features in the test set is 53\n",
      "\n",
      "The column count difference between the training and test set is 34\n",
      "\n",
      "<class 'pandas.core.frame.DataFrame'>\n",
      "RangeIndex: 16860 entries, 0 to 16859\n",
      "Data columns (total 34 columns):\n",
      " #   Column                                              Non-Null Count  Dtype  \n",
      "---  ------                                              --------------  -----  \n",
      " 0   final.output.concentrate_ag                         16788 non-null  float64\n",
      " 1   final.output.concentrate_au                         16789 non-null  float64\n",
      " 2   final.output.concentrate_pb                         16788 non-null  float64\n",
      " 3   final.output.concentrate_sol                        16490 non-null  float64\n",
      " 4   final.output.recovery                               15339 non-null  float64\n",
      " 5   final.output.tail_ag                                16794 non-null  float64\n",
      " 6   final.output.tail_au                                16794 non-null  float64\n",
      " 7   final.output.tail_pb                                16677 non-null  float64\n",
      " 8   final.output.tail_sol                               16715 non-null  float64\n",
      " 9   primary_cleaner.output.concentrate_ag               16778 non-null  float64\n",
      " 10  primary_cleaner.output.concentrate_au               16778 non-null  float64\n",
      " 11  primary_cleaner.output.concentrate_pb               16502 non-null  float64\n",
      " 12  primary_cleaner.output.concentrate_sol              16224 non-null  float64\n",
      " 13  primary_cleaner.output.tail_ag                      16777 non-null  float64\n",
      " 14  primary_cleaner.output.tail_au                      16777 non-null  float64\n",
      " 15  primary_cleaner.output.tail_pb                      16761 non-null  float64\n",
      " 16  primary_cleaner.output.tail_sol                     16579 non-null  float64\n",
      " 17  rougher.calculation.au_pb_ratio                     15618 non-null  float64\n",
      " 18  rougher.calculation.floatbank10_sulfate_to_au_feed  16833 non-null  float64\n",
      " 19  rougher.calculation.floatbank11_sulfate_to_au_feed  16833 non-null  float64\n",
      " 20  rougher.calculation.sulfate_to_au_concentrate       16833 non-null  float64\n",
      " 21  rougher.output.concentrate_ag                       16778 non-null  float64\n",
      " 22  rougher.output.concentrate_au                       16778 non-null  float64\n",
      " 23  rougher.output.concentrate_pb                       16778 non-null  float64\n",
      " 24  rougher.output.concentrate_sol                      16698 non-null  float64\n",
      " 25  rougher.output.recovery                             14287 non-null  float64\n",
      " 26  rougher.output.tail_ag                              14610 non-null  float64\n",
      " 27  rougher.output.tail_au                              14611 non-null  float64\n",
      " 28  rougher.output.tail_pb                              16778 non-null  float64\n",
      " 29  rougher.output.tail_sol                             14611 non-null  float64\n",
      " 30  secondary_cleaner.output.tail_ag                    16776 non-null  float64\n",
      " 31  secondary_cleaner.output.tail_au                    16778 non-null  float64\n",
      " 32  secondary_cleaner.output.tail_pb                    16764 non-null  float64\n",
      " 33  secondary_cleaner.output.tail_sol                   14874 non-null  float64\n",
      "dtypes: float64(34)\n",
      "memory usage: 4.4 MB\n"
     ]
    }
   ],
   "source": [
    "# Get list of features in each dataset\n",
    "columns_in_train = list(gold_recovery_train.columns)\n",
    "columns_in_test = list(gold_recovery_test.columns)\n",
    "\n",
    "# Count the number of columns in the test and training set\n",
    "print('The number of features in the training set is', len(columns_in_train))\n",
    "print('The number of features in the test set is', len(columns_in_test))\n",
    "print()\n",
    "\n",
    "# Determine the difference in columns between the traning and the test set\n",
    "difference =  gold_recovery_train[gold_recovery_train.columns.difference(gold_recovery_test.columns)].columns\n",
    "print('The column count difference between the training and test set is', len(difference))\n",
    "print()\n",
    "\n",
    "# Listing the parameters and their data types\n",
    "gold_recovery_train[difference].info()"
   ]
  },
  {
   "cell_type": "markdown",
   "metadata": {},
   "source": [
    "<div class=\"alert alert-block alert-success\">\n",
    "<b>Reviewer's comment V1</b> <a class=\"tocSkip\"></a>\n",
    "\n",
    "Correct\n",
    "  \n",
    "</div>"
   ]
  },
  {
   "cell_type": "markdown",
   "metadata": {},
   "source": [
    "#### Findings\n",
    "\n",
    "There are 87 columns in the training set, however there are only 53 columns in the test set. The difference of 34 columns are the product parameters (output) and calculation characteristics (calculations) of each step in the process. These outputs are not features, but instead they are targets that I can use to train our model on predict given a set of inputs at each step of the process. Because the test set doesn't have targets, and I will want to compare our predictions our target predictions of the model on the test set to actual values, I will need to use the full dataset to add targets to the test data set.\n",
    "\n",
    "### Perform Data Preprocessing\n",
    "\n",
    "#### Training Dataset"
   ]
  },
  {
   "cell_type": "code",
   "execution_count": 6,
   "metadata": {},
   "outputs": [
    {
     "name": "stdout",
     "output_type": "stream",
     "text": [
      "Check for Missing Values\n",
      "date                                            0\n",
      "final.output.concentrate_ag                    72\n",
      "final.output.concentrate_pb                    72\n",
      "final.output.concentrate_sol                  370\n",
      "final.output.concentrate_au                    71\n",
      "                                             ... \n",
      "secondary_cleaner.state.floatbank5_a_level     85\n",
      "secondary_cleaner.state.floatbank5_b_air       85\n",
      "secondary_cleaner.state.floatbank5_b_level     84\n",
      "secondary_cleaner.state.floatbank6_a_air      103\n",
      "secondary_cleaner.state.floatbank6_a_level     85\n",
      "Length: 87, dtype: int64\n",
      "\n",
      "Check for Max Number of Missing Values\n",
      "2573\n",
      "\n",
      "Check for Duplicate Rows\n",
      "There are 0 duplicate rows\n",
      "\n",
      " Describe Dataframe\n",
      "\n",
      " Check Data Types\n",
      "<class 'pandas.core.frame.DataFrame'>\n",
      "RangeIndex: 16860 entries, 0 to 16859\n",
      "Data columns (total 87 columns):\n",
      " #   Column                                              Non-Null Count  Dtype  \n",
      "---  ------                                              --------------  -----  \n",
      " 0   date                                                16860 non-null  object \n",
      " 1   final.output.concentrate_ag                         16788 non-null  float64\n",
      " 2   final.output.concentrate_pb                         16788 non-null  float64\n",
      " 3   final.output.concentrate_sol                        16490 non-null  float64\n",
      " 4   final.output.concentrate_au                         16789 non-null  float64\n",
      " 5   final.output.recovery                               15339 non-null  float64\n",
      " 6   final.output.tail_ag                                16794 non-null  float64\n",
      " 7   final.output.tail_pb                                16677 non-null  float64\n",
      " 8   final.output.tail_sol                               16715 non-null  float64\n",
      " 9   final.output.tail_au                                16794 non-null  float64\n",
      " 10  primary_cleaner.input.sulfate                       15553 non-null  float64\n",
      " 11  primary_cleaner.input.depressant                    15598 non-null  float64\n",
      " 12  primary_cleaner.input.feed_size                     16860 non-null  float64\n",
      " 13  primary_cleaner.input.xanthate                      15875 non-null  float64\n",
      " 14  primary_cleaner.output.concentrate_ag               16778 non-null  float64\n",
      " 15  primary_cleaner.output.concentrate_pb               16502 non-null  float64\n",
      " 16  primary_cleaner.output.concentrate_sol              16224 non-null  float64\n",
      " 17  primary_cleaner.output.concentrate_au               16778 non-null  float64\n",
      " 18  primary_cleaner.output.tail_ag                      16777 non-null  float64\n",
      " 19  primary_cleaner.output.tail_pb                      16761 non-null  float64\n",
      " 20  primary_cleaner.output.tail_sol                     16579 non-null  float64\n",
      " 21  primary_cleaner.output.tail_au                      16777 non-null  float64\n",
      " 22  primary_cleaner.state.floatbank8_a_air              16820 non-null  float64\n",
      " 23  primary_cleaner.state.floatbank8_a_level            16827 non-null  float64\n",
      " 24  primary_cleaner.state.floatbank8_b_air              16820 non-null  float64\n",
      " 25  primary_cleaner.state.floatbank8_b_level            16833 non-null  float64\n",
      " 26  primary_cleaner.state.floatbank8_c_air              16822 non-null  float64\n",
      " 27  primary_cleaner.state.floatbank8_c_level            16833 non-null  float64\n",
      " 28  primary_cleaner.state.floatbank8_d_air              16821 non-null  float64\n",
      " 29  primary_cleaner.state.floatbank8_d_level            16833 non-null  float64\n",
      " 30  rougher.calculation.sulfate_to_au_concentrate       16833 non-null  float64\n",
      " 31  rougher.calculation.floatbank10_sulfate_to_au_feed  16833 non-null  float64\n",
      " 32  rougher.calculation.floatbank11_sulfate_to_au_feed  16833 non-null  float64\n",
      " 33  rougher.calculation.au_pb_ratio                     15618 non-null  float64\n",
      " 34  rougher.input.feed_ag                               16778 non-null  float64\n",
      " 35  rougher.input.feed_pb                               16632 non-null  float64\n",
      " 36  rougher.input.feed_rate                             16347 non-null  float64\n",
      " 37  rougher.input.feed_size                             16443 non-null  float64\n",
      " 38  rougher.input.feed_sol                              16568 non-null  float64\n",
      " 39  rougher.input.feed_au                               16777 non-null  float64\n",
      " 40  rougher.input.floatbank10_sulfate                   15816 non-null  float64\n",
      " 41  rougher.input.floatbank10_xanthate                  16514 non-null  float64\n",
      " 42  rougher.input.floatbank11_sulfate                   16237 non-null  float64\n",
      " 43  rougher.input.floatbank11_xanthate                  14956 non-null  float64\n",
      " 44  rougher.output.concentrate_ag                       16778 non-null  float64\n",
      " 45  rougher.output.concentrate_pb                       16778 non-null  float64\n",
      " 46  rougher.output.concentrate_sol                      16698 non-null  float64\n",
      " 47  rougher.output.concentrate_au                       16778 non-null  float64\n",
      " 48  rougher.output.recovery                             14287 non-null  float64\n",
      " 49  rougher.output.tail_ag                              14610 non-null  float64\n",
      " 50  rougher.output.tail_pb                              16778 non-null  float64\n",
      " 51  rougher.output.tail_sol                             14611 non-null  float64\n",
      " 52  rougher.output.tail_au                              14611 non-null  float64\n",
      " 53  rougher.state.floatbank10_a_air                     16807 non-null  float64\n",
      " 54  rougher.state.floatbank10_a_level                   16807 non-null  float64\n",
      " 55  rougher.state.floatbank10_b_air                     16807 non-null  float64\n",
      " 56  rougher.state.floatbank10_b_level                   16807 non-null  float64\n",
      " 57  rougher.state.floatbank10_c_air                     16807 non-null  float64\n",
      " 58  rougher.state.floatbank10_c_level                   16814 non-null  float64\n",
      " 59  rougher.state.floatbank10_d_air                     16802 non-null  float64\n",
      " 60  rougher.state.floatbank10_d_level                   16809 non-null  float64\n",
      " 61  rougher.state.floatbank10_e_air                     16257 non-null  float64\n",
      " 62  rougher.state.floatbank10_e_level                   16809 non-null  float64\n",
      " 63  rougher.state.floatbank10_f_air                     16802 non-null  float64\n",
      " 64  rougher.state.floatbank10_f_level                   16802 non-null  float64\n",
      " 65  secondary_cleaner.output.tail_ag                    16776 non-null  float64\n",
      " 66  secondary_cleaner.output.tail_pb                    16764 non-null  float64\n",
      " 67  secondary_cleaner.output.tail_sol                   14874 non-null  float64\n",
      " 68  secondary_cleaner.output.tail_au                    16778 non-null  float64\n",
      " 69  secondary_cleaner.state.floatbank2_a_air            16497 non-null  float64\n",
      " 70  secondary_cleaner.state.floatbank2_a_level          16751 non-null  float64\n",
      " 71  secondary_cleaner.state.floatbank2_b_air            16705 non-null  float64\n",
      " 72  secondary_cleaner.state.floatbank2_b_level          16748 non-null  float64\n",
      " 73  secondary_cleaner.state.floatbank3_a_air            16763 non-null  float64\n",
      " 74  secondary_cleaner.state.floatbank3_a_level          16747 non-null  float64\n",
      " 75  secondary_cleaner.state.floatbank3_b_air            16752 non-null  float64\n",
      " 76  secondary_cleaner.state.floatbank3_b_level          16750 non-null  float64\n",
      " 77  secondary_cleaner.state.floatbank4_a_air            16731 non-null  float64\n",
      " 78  secondary_cleaner.state.floatbank4_a_level          16747 non-null  float64\n",
      " 79  secondary_cleaner.state.floatbank4_b_air            16768 non-null  float64\n",
      " 80  secondary_cleaner.state.floatbank4_b_level          16767 non-null  float64\n",
      " 81  secondary_cleaner.state.floatbank5_a_air            16775 non-null  float64\n",
      " 82  secondary_cleaner.state.floatbank5_a_level          16775 non-null  float64\n",
      " 83  secondary_cleaner.state.floatbank5_b_air            16775 non-null  float64\n",
      " 84  secondary_cleaner.state.floatbank5_b_level          16776 non-null  float64\n",
      " 85  secondary_cleaner.state.floatbank6_a_air            16757 non-null  float64\n",
      " 86  secondary_cleaner.state.floatbank6_a_level          16775 non-null  float64\n",
      "dtypes: float64(86), object(1)\n",
      "memory usage: 11.2+ MB\n",
      "None\n"
     ]
    }
   ],
   "source": [
    "# Use print so I don't lose outputs\n",
    "\n",
    "# Check for missing values\n",
    "print('Check for Missing Values')\n",
    "print(gold_recovery_train.isna().sum())\n",
    "print()\n",
    "\n",
    "# Check field with the most missing values\n",
    "print('Check for Max Number of Missing Values')\n",
    "print(gold_recovery_train.isna().sum().max())\n",
    "print()\n",
    "\n",
    "# Check for duplicate rows\n",
    "print('Check for Duplicate Rows')\n",
    "print('There are', gold_recovery_train.duplicated().sum(), 'duplicate rows')\n",
    "\n",
    "# Check values for each column\n",
    "# Commented out because output is too long in cells\n",
    "print('\\n Describe Dataframe')\n",
    "#print(gold_recovery_train.describe())\n",
    "\n",
    "# Check data types\n",
    "print('\\n Check Data Types')\n",
    "print(gold_recovery_train.info())"
   ]
  },
  {
   "cell_type": "markdown",
   "metadata": {},
   "source": [
    "#### Findings\n",
    "\n",
    "- There are missing values in many of the columns within the dataset\n",
    "    - Because I am uncertain on how to replace these missing values, I am going to replace them with the previous value to avoid disruption to model training. There are about ~17k values in each column and at most there are 2.5k missing values.\n",
    "- Datatypes do not need to be changed\n",
    "    - Date will be dropped later on when I train the model, otherwise this would need to be cast to datetime.\n",
    "- There are no duplicate rows in the training set.\n",
    "\n",
    "\n",
    "#### Test Dataset"
   ]
  },
  {
   "cell_type": "code",
   "execution_count": 7,
   "metadata": {},
   "outputs": [
    {
     "name": "stdout",
     "output_type": "stream",
     "text": [
      "Check for Missing Values\n",
      "date                                            0\n",
      "primary_cleaner.input.sulfate                 302\n",
      "primary_cleaner.input.depressant              284\n",
      "primary_cleaner.input.feed_size                 0\n",
      "primary_cleaner.input.xanthate                166\n",
      "primary_cleaner.state.floatbank8_a_air         16\n",
      "primary_cleaner.state.floatbank8_a_level       16\n",
      "primary_cleaner.state.floatbank8_b_air         16\n",
      "primary_cleaner.state.floatbank8_b_level       16\n",
      "primary_cleaner.state.floatbank8_c_air         16\n",
      "primary_cleaner.state.floatbank8_c_level       16\n",
      "primary_cleaner.state.floatbank8_d_air         16\n",
      "primary_cleaner.state.floatbank8_d_level       16\n",
      "rougher.input.feed_ag                          16\n",
      "rougher.input.feed_pb                          16\n",
      "rougher.input.feed_rate                        40\n",
      "rougher.input.feed_size                        22\n",
      "rougher.input.feed_sol                         67\n",
      "rougher.input.feed_au                          16\n",
      "rougher.input.floatbank10_sulfate             257\n",
      "rougher.input.floatbank10_xanthate            123\n",
      "rougher.input.floatbank11_sulfate              55\n",
      "rougher.input.floatbank11_xanthate            353\n",
      "rougher.state.floatbank10_a_air                17\n",
      "rougher.state.floatbank10_a_level              16\n",
      "rougher.state.floatbank10_b_air                17\n",
      "rougher.state.floatbank10_b_level              16\n",
      "rougher.state.floatbank10_c_air                17\n",
      "rougher.state.floatbank10_c_level              16\n",
      "rougher.state.floatbank10_d_air                17\n",
      "rougher.state.floatbank10_d_level              16\n",
      "rougher.state.floatbank10_e_air                17\n",
      "rougher.state.floatbank10_e_level              16\n",
      "rougher.state.floatbank10_f_air                17\n",
      "rougher.state.floatbank10_f_level              16\n",
      "secondary_cleaner.state.floatbank2_a_air       20\n",
      "secondary_cleaner.state.floatbank2_a_level     16\n",
      "secondary_cleaner.state.floatbank2_b_air       23\n",
      "secondary_cleaner.state.floatbank2_b_level     16\n",
      "secondary_cleaner.state.floatbank3_a_air       34\n",
      "secondary_cleaner.state.floatbank3_a_level     16\n",
      "secondary_cleaner.state.floatbank3_b_air       16\n",
      "secondary_cleaner.state.floatbank3_b_level     16\n",
      "secondary_cleaner.state.floatbank4_a_air       16\n",
      "secondary_cleaner.state.floatbank4_a_level     16\n",
      "secondary_cleaner.state.floatbank4_b_air       16\n",
      "secondary_cleaner.state.floatbank4_b_level     16\n",
      "secondary_cleaner.state.floatbank5_a_air       16\n",
      "secondary_cleaner.state.floatbank5_a_level     16\n",
      "secondary_cleaner.state.floatbank5_b_air       16\n",
      "secondary_cleaner.state.floatbank5_b_level     16\n",
      "secondary_cleaner.state.floatbank6_a_air       16\n",
      "secondary_cleaner.state.floatbank6_a_level     16\n",
      "dtype: int64\n",
      "\n",
      "Check for Max Number of Missing Values\n",
      "353\n",
      "\n",
      "Check for Duplicate Rows\n",
      "There are 0 duplicate rows\n",
      "\n",
      " Describe Dataframe\n",
      "\n",
      " Check Data Types\n",
      "<class 'pandas.core.frame.DataFrame'>\n",
      "RangeIndex: 5856 entries, 0 to 5855\n",
      "Data columns (total 53 columns):\n",
      " #   Column                                      Non-Null Count  Dtype  \n",
      "---  ------                                      --------------  -----  \n",
      " 0   date                                        5856 non-null   object \n",
      " 1   primary_cleaner.input.sulfate               5554 non-null   float64\n",
      " 2   primary_cleaner.input.depressant            5572 non-null   float64\n",
      " 3   primary_cleaner.input.feed_size             5856 non-null   float64\n",
      " 4   primary_cleaner.input.xanthate              5690 non-null   float64\n",
      " 5   primary_cleaner.state.floatbank8_a_air      5840 non-null   float64\n",
      " 6   primary_cleaner.state.floatbank8_a_level    5840 non-null   float64\n",
      " 7   primary_cleaner.state.floatbank8_b_air      5840 non-null   float64\n",
      " 8   primary_cleaner.state.floatbank8_b_level    5840 non-null   float64\n",
      " 9   primary_cleaner.state.floatbank8_c_air      5840 non-null   float64\n",
      " 10  primary_cleaner.state.floatbank8_c_level    5840 non-null   float64\n",
      " 11  primary_cleaner.state.floatbank8_d_air      5840 non-null   float64\n",
      " 12  primary_cleaner.state.floatbank8_d_level    5840 non-null   float64\n",
      " 13  rougher.input.feed_ag                       5840 non-null   float64\n",
      " 14  rougher.input.feed_pb                       5840 non-null   float64\n",
      " 15  rougher.input.feed_rate                     5816 non-null   float64\n",
      " 16  rougher.input.feed_size                     5834 non-null   float64\n",
      " 17  rougher.input.feed_sol                      5789 non-null   float64\n",
      " 18  rougher.input.feed_au                       5840 non-null   float64\n",
      " 19  rougher.input.floatbank10_sulfate           5599 non-null   float64\n",
      " 20  rougher.input.floatbank10_xanthate          5733 non-null   float64\n",
      " 21  rougher.input.floatbank11_sulfate           5801 non-null   float64\n",
      " 22  rougher.input.floatbank11_xanthate          5503 non-null   float64\n",
      " 23  rougher.state.floatbank10_a_air             5839 non-null   float64\n",
      " 24  rougher.state.floatbank10_a_level           5840 non-null   float64\n",
      " 25  rougher.state.floatbank10_b_air             5839 non-null   float64\n",
      " 26  rougher.state.floatbank10_b_level           5840 non-null   float64\n",
      " 27  rougher.state.floatbank10_c_air             5839 non-null   float64\n",
      " 28  rougher.state.floatbank10_c_level           5840 non-null   float64\n",
      " 29  rougher.state.floatbank10_d_air             5839 non-null   float64\n",
      " 30  rougher.state.floatbank10_d_level           5840 non-null   float64\n",
      " 31  rougher.state.floatbank10_e_air             5839 non-null   float64\n",
      " 32  rougher.state.floatbank10_e_level           5840 non-null   float64\n",
      " 33  rougher.state.floatbank10_f_air             5839 non-null   float64\n",
      " 34  rougher.state.floatbank10_f_level           5840 non-null   float64\n",
      " 35  secondary_cleaner.state.floatbank2_a_air    5836 non-null   float64\n",
      " 36  secondary_cleaner.state.floatbank2_a_level  5840 non-null   float64\n",
      " 37  secondary_cleaner.state.floatbank2_b_air    5833 non-null   float64\n",
      " 38  secondary_cleaner.state.floatbank2_b_level  5840 non-null   float64\n",
      " 39  secondary_cleaner.state.floatbank3_a_air    5822 non-null   float64\n",
      " 40  secondary_cleaner.state.floatbank3_a_level  5840 non-null   float64\n",
      " 41  secondary_cleaner.state.floatbank3_b_air    5840 non-null   float64\n",
      " 42  secondary_cleaner.state.floatbank3_b_level  5840 non-null   float64\n",
      " 43  secondary_cleaner.state.floatbank4_a_air    5840 non-null   float64\n",
      " 44  secondary_cleaner.state.floatbank4_a_level  5840 non-null   float64\n",
      " 45  secondary_cleaner.state.floatbank4_b_air    5840 non-null   float64\n",
      " 46  secondary_cleaner.state.floatbank4_b_level  5840 non-null   float64\n",
      " 47  secondary_cleaner.state.floatbank5_a_air    5840 non-null   float64\n",
      " 48  secondary_cleaner.state.floatbank5_a_level  5840 non-null   float64\n",
      " 49  secondary_cleaner.state.floatbank5_b_air    5840 non-null   float64\n",
      " 50  secondary_cleaner.state.floatbank5_b_level  5840 non-null   float64\n",
      " 51  secondary_cleaner.state.floatbank6_a_air    5840 non-null   float64\n",
      " 52  secondary_cleaner.state.floatbank6_a_level  5840 non-null   float64\n",
      "dtypes: float64(52), object(1)\n",
      "memory usage: 2.4+ MB\n",
      "None\n"
     ]
    }
   ],
   "source": [
    "# Use print so I don't lose outputs\n",
    "\n",
    "# Check for missing values\n",
    "print('Check for Missing Values')\n",
    "print(gold_recovery_test.isna().sum())\n",
    "print()\n",
    "\n",
    "# Check field with the most missing values\n",
    "print('Check for Max Number of Missing Values')\n",
    "print(gold_recovery_test.isna().sum().max())\n",
    "print()\n",
    "\n",
    "# Check for duplicate rows\n",
    "print('Check for Duplicate Rows')\n",
    "print('There are', gold_recovery_test.duplicated().sum(), 'duplicate rows')\n",
    "\n",
    "# Check values for each column\n",
    "# Commented out because output is too long in cells\n",
    "print('\\n Describe Dataframe')\n",
    "#print(gold_recovery_test.describe())\n",
    "\n",
    "# Check data types\n",
    "print('\\n Check Data Types')\n",
    "print(gold_recovery_test.info())"
   ]
  },
  {
   "cell_type": "markdown",
   "metadata": {},
   "source": [
    "#### Findings\n",
    "\n",
    "- There are also missing values in many of the columns within the dataset.\n",
    "    - Similiar to the training dataset, I will replace any missing values with the previous value.\n",
    "- Datatypes do not need to be changed. Date will be dropped later on when I train the model.\n",
    "- There are no duplicate rows.\n",
    "\n",
    "NOTE - Before dropping rows in the test set, I will first add in the target values from the full dataset based on date since this value isn't missing and date seems to be a primary key.\n",
    "\n",
    "### Add Targets from Full Dataset to Test Dataset"
   ]
  },
  {
   "cell_type": "code",
   "execution_count": 8,
   "metadata": {},
   "outputs": [
    {
     "name": "stdout",
     "output_type": "stream",
     "text": [
      "(5856, 55)\n",
      "(5856, 55)\n"
     ]
    }
   ],
   "source": [
    "# Create dataframe of values that I need to add to the test dataframe\n",
    "gold_recovery_full_targets = gold_recovery_full[['date','rougher.output.recovery', 'final.output.recovery']]\n",
    "\n",
    "# Join targets from full dataset to test dataset on date\n",
    "gold_recovery_test = gold_recovery_test.merge(gold_recovery_full_targets, how ='inner', on = 'date')\n",
    "\n",
    "# Check shape to make sure I didn't lose any rows and columns were merged\n",
    "print(gold_recovery_test.shape)\n",
    "print(gold_recovery_test.shape)"
   ]
  },
  {
   "cell_type": "markdown",
   "metadata": {},
   "source": [
    "<div class=\"alert alert-block alert-success\">\n",
    "<b>Reviewer's comment V1</b> <a class=\"tocSkip\"></a>\n",
    "\n",
    "Well done!\n",
    "  \n",
    "</div>"
   ]
  },
  {
   "cell_type": "markdown",
   "metadata": {},
   "source": [
    "### Replace Missing Values in Both Datasets\n",
    "\n",
    "For ordered data such as what is given here, it is better to replace missing values with the previous value."
   ]
  },
  {
   "cell_type": "code",
   "execution_count": 9,
   "metadata": {},
   "outputs": [
    {
     "name": "stdout",
     "output_type": "stream",
     "text": [
      "Missing values in training data: 0\n",
      "Missing values in test data: 0\n",
      "\n",
      "Traning Set Shape: (16860, 87)\n",
      "Test Set Shape: (5856, 55)\n"
     ]
    }
   ],
   "source": [
    "# Drop rows in training and test set\n",
    "gold_recovery_train.fillna(method='ffill', inplace=True) \n",
    "gold_recovery_test.fillna(method='ffill', inplace=True) \n",
    "\n",
    "# Check for missing values in dataset after drop\n",
    "print('Missing values in training data:', gold_recovery_train.isna().sum().sum())\n",
    "print('Missing values in test data:', gold_recovery_test.isna().sum().sum())\n",
    "print()\n",
    "\n",
    "# Check shape of datasets after dropping rows with missing vales\n",
    "print('Traning Set Shape:', gold_recovery_train.shape)\n",
    "print('Test Set Shape:', gold_recovery_test.shape)"
   ]
  },
  {
   "cell_type": "markdown",
   "metadata": {},
   "source": [
    "<div class=\"alert alert-block alert-danger\">\n",
    "<b>Reviewer's comment V1</b> <a class=\"tocSkip\"></a>\n",
    "\n",
    "When you work with ML models it's almost always not a good idea to remove rows because of NaNs. When you remove a row becasue of NaN in one column, you loose information from other columns which can be usefull for model training. Thus, instead to drop NaNs it's better to fill them. So, please, do it.\n",
    "    \n",
    "Usually we use mean or median to fill NaNs in quantitative features. But when we have ordered data, there is a better way to fill NaNs. What is the closest value for the current one? The previous one. You can use this fact to fill NaNs in all the columns. Just read the documentation for the fillna() method and you will find a parameter which helps to fill the NaNs in such way.\n",
    "  \n",
    "</div>\n",
    "\n",
    "<div class=\"alert alert-info\">\n",
    "I made this correction above.\n",
    "</div>"
   ]
  },
  {
   "cell_type": "markdown",
   "metadata": {},
   "source": [
    "<div class=\"alert alert-block alert-success\">\n",
    "<b>Reviewer's comment V2</b> <a class=\"tocSkip\"></a>\n",
    "\n",
    "Correct. Good job!\n",
    "  \n",
    "</div>"
   ]
  },
  {
   "cell_type": "markdown",
   "metadata": {},
   "source": [
    "## Analyze the Data\n",
    "\n",
    "Here is the basic overview of the gold purification process:\n",
    "\n",
    "![Gold Purification Process](https://practicum-content.s3.us-west-1.amazonaws.com/resources/moved_ore_1591699963.jpg)\n",
    "\n",
    "### Analyze Concentration Change of Metals Based on Purification Stage\n",
    "\n",
    "Here, I will monitor the concentrations of metals (gold (Au), silver (Ag), and lead (Pb)) as the purification process progresses.\n",
    "\n",
    "As shown in the flowchart above, the rougher concentrate undergoes two stages of purification:\n",
    "- primary_cleaner - primary purification\n",
    "- secondary_cleaner - secondary purification\n",
    "\n",
    "After these purification stages, final concentrate and new tails are the result.\n",
    "\n",
    "From a data point of view, the stages are ordered as follows:\n",
    "\n",
    "- Metal concentration before feeding into first purification - \"Initial\":\n",
    "    - `rougher.output.concentrate_ag`\n",
    "    - `rougher.output.concentrate_pb`\n",
    "    - `rougher.output.concentrate_au`\n",
    "- Metal concentration after first purification stage (output of first stage and input into second stage) - \"Intermediate\":\n",
    "    - `primary_cleaner.output.concentrate_ag`\n",
    "    - `primary_cleaner.output.concentrate_pb`\n",
    "    - `primary_cleaner.output.concentrate_au`\n",
    "- Metal concentration after second purificaion strage (output of second purification) - \"Final\":\n",
    "    - `final.output.concentrate_ag`\n",
    "    - `final.output.concentrate_pb`\n",
    "    - `final.output.concentrate_au`"
   ]
  },
  {
   "cell_type": "code",
   "execution_count": 10,
   "metadata": {
    "scrolled": false
   },
   "outputs": [
    {
     "name": "stdout",
     "output_type": "stream",
     "text": [
      "Ag Concentration Change at Each Purification Step\n",
      "The mean Ag concentration before primary purification is 10.54\n",
      "The mean Ag concentration before secondary purification is 7.39\n",
      "The mean Ag concentration after secondary purification is 4.7\n"
     ]
    },
    {
     "data": {
      "image/png": "[encoded data removed]",
      "text/plain": [
       "<Figure size 640x480 with 1 Axes>"
      ]
     },
     "metadata": {},
     "output_type": "display_data"
    },
    {
     "name": "stdout",
     "output_type": "stream",
     "text": [
      "\n",
      "Au Concentration Change at Each Purification Step\n",
      "The mean Au concentration before primary purification is 17.34\n",
      "The mean Au concentration before secondary purification is 29.04\n",
      "The mean Au concentration after secondary purification is 39.32\n"
     ]
    },
    {
     "data": {
      "image/png": "[encoded data removed]",
      "text/plain": [
       "<Figure size 640x480 with 1 Axes>"
      ]
     },
     "metadata": {},
     "output_type": "display_data"
    },
    {
     "name": "stdout",
     "output_type": "stream",
     "text": [
      "\n",
      "Pb Concentration Change at Each Purification Step\n",
      "The mean Pb concentration before primary purification is 6.86\n",
      "The mean Pb concentration before secondary purification is 8.49\n",
      "The mean Pb concentration after secondary purification is 9.08\n"
     ]
    },
    {
     "data": {
      "image/png": "[encoded data removed]",
      "text/plain": [
       "<Figure size 640x480 with 1 Axes>"
      ]
     },
     "metadata": {},
     "output_type": "display_data"
    },
    {
     "name": "stdout",
     "output_type": "stream",
     "text": [
      "\n"
     ]
    }
   ],
   "source": [
    "# Get concentrations for each metal to plot in histogram to visualize distribution of concentrations after each step\n",
    "\n",
    "# Ag Concentation\n",
    "ag_concentrations = gold_recovery_train[['rougher.output.concentrate_ag', 'primary_cleaner.output.concentrate_ag','final.output.concentrate_ag']]\n",
    "\n",
    "# Au Concentation\n",
    "au_concentrations = gold_recovery_train[['rougher.output.concentrate_au', 'primary_cleaner.output.concentrate_au','final.output.concentrate_au']]\n",
    "\n",
    "# Pb Concentation\n",
    "pb_concentrations = gold_recovery_train[['rougher.output.concentrate_pb', 'primary_cleaner.output.concentrate_pb','final.output.concentrate_pb']]\n",
    "\n",
    "# Plot Ag Concentration Information and Histogram\n",
    "print('Ag Concentration Change at Each Purification Step')\n",
    "print('The mean Ag concentration before primary purification is', round(ag_concentrations['rougher.output.concentrate_ag'].mean(),2))\n",
    "print('The mean Ag concentration before secondary purification is', round(ag_concentrations['primary_cleaner.output.concentrate_ag'].mean(),2))\n",
    "print('The mean Ag concentration after secondary purification is', round(ag_concentrations['final.output.concentrate_ag'].mean(),2))\n",
    "\n",
    "plt.hist(ag_concentrations['rougher.output.concentrate_ag'], color='r', bins=30, alpha=0.5, label='Initial')\n",
    "plt.hist(ag_concentrations['primary_cleaner.output.concentrate_ag'], color='g', bins=30, alpha=0.5, label='Intermediate')\n",
    "plt.hist(ag_concentrations['final.output.concentrate_ag'], color='b', bins=30, alpha=0.5, label='Final')\n",
    "plt.title('Silver Concentration Throughout Different Stages of Gold Purification Process')\n",
    "plt.ylabel('Count')\n",
    "plt.xlabel('Concentration')\n",
    "plt.legend(loc='upper right', title='Purification Stage')\n",
    "plt.show()\n",
    "\n",
    "print()\n",
    "\n",
    "# Plot Au Concentration Information and Histogram\n",
    "print('Au Concentration Change at Each Purification Step')\n",
    "print('The mean Au concentration before primary purification is', round(au_concentrations['rougher.output.concentrate_au'].mean(),2))\n",
    "print('The mean Au concentration before secondary purification is', round(au_concentrations['primary_cleaner.output.concentrate_au'].mean(),2))\n",
    "print('The mean Au concentration after secondary purification is', round(au_concentrations['final.output.concentrate_au'].mean(),2))\n",
    "\n",
    "plt.hist(au_concentrations['rougher.output.concentrate_au'], color='r', bins=30, alpha=0.5, label='Initial')\n",
    "plt.hist(au_concentrations['primary_cleaner.output.concentrate_au'], color='g', bins=30, alpha=0.5, label='Intermediate')\n",
    "plt.hist(au_concentrations['final.output.concentrate_au'], color='b', bins=30, alpha=0.5, label='Final')\n",
    "plt.title('Gold Concentration Throughout Different Stages of Gold Purification Process')\n",
    "plt.ylabel('Count')\n",
    "plt.xlabel('Concentration')\n",
    "plt.legend(loc='upper left', title='Purification Stage')\n",
    "plt.show()\n",
    "\n",
    "print()\n",
    "\n",
    "# Plot Pb Concentration Information and Histogram\n",
    "print('Pb Concentration Change at Each Purification Step')\n",
    "print('The mean Pb concentration before primary purification is', round(pb_concentrations['rougher.output.concentrate_pb'].mean(),2))\n",
    "print('The mean Pb concentration before secondary purification is', round(pb_concentrations['primary_cleaner.output.concentrate_pb'].mean(),2))\n",
    "print('The mean Pb concentration after secondary purification is', round(pb_concentrations['final.output.concentrate_pb'].mean(),2))\n",
    "\n",
    "plt.hist(pb_concentrations['rougher.output.concentrate_pb'], color='r', bins=30, alpha=0.5, label='Initial')\n",
    "plt.hist(pb_concentrations['primary_cleaner.output.concentrate_pb'], color='g', bins=30, alpha=0.5, label='Intermediate')\n",
    "plt.hist(pb_concentrations['final.output.concentrate_pb'], color='b', bins=30, alpha=0.5, label='Final')\n",
    "plt.title('Lead Concentration Throughout Different Stages of Gold Purification Process')\n",
    "plt.ylabel('Count')\n",
    "plt.xlabel('Concentration')\n",
    "plt.legend(loc='upper right', title='Purification Stage')\n",
    "plt.show()\n",
    "\n",
    "print()"
   ]
  },
  {
   "cell_type": "markdown",
   "metadata": {},
   "source": [
    "<div class=\"alert alert-block alert-danger\">\n",
    "<b>Reviewer's comment V1</b> <a class=\"tocSkip\"></a>\n",
    "\n",
    "When you need to compare several distributions you need to plot them on the same graph with different colors. So, please plot 3 histograms for each metal on one graph. It total you should have 3 plots with 3 histograms on each plot.\n",
    "  \n",
    "</div>\n",
    "\n",
    "<div class=\"alert alert-info\">\n",
    "I made this correction above (1 histogram per metal showing how it changes throughout each stage).\n",
    "</div>"
   ]
  },
  {
   "cell_type": "markdown",
   "metadata": {},
   "source": [
    "<div class=\"alert alert-block alert-success\">\n",
    "<b>Reviewer's comment V2</b> <a class=\"tocSkip\"></a>\n",
    "\n",
    "Well done!\n",
    "  \n",
    "</div>"
   ]
  },
  {
   "cell_type": "markdown",
   "metadata": {},
   "source": [
    "#### Findings\n",
    "\n",
    "- During the process of gold extraction, at each stage I notice that:\n",
    "    - Silver (Ag) concentration increases after primary purification but decreases after secondary purification\n",
    "    - Gold (Au) concentration increases after each stage of the purification process\n",
    "    - Lead (Pb) concentration also increases after each stage of the purification process, but to a lesser degree than gold\n",
    "\n",
    "### Comparison of Particle Size Distribution\n",
    "\n",
    "It is a good idea to compare feed particle size distribution between training and test sets. If they vary significantly, the model will not be accurate.\n",
    "\n",
    "Feed size refers to feed particle size. The two fields related to this parameter in the dataset are:\n",
    "\n",
    "- `primary_cleaner.input.feed_size`\n",
    "- `rougher.input.feed_size`"
   ]
  },
  {
   "cell_type": "code",
   "execution_count": 11,
   "metadata": {},
   "outputs": [
    {
     "name": "stdout",
     "output_type": "stream",
     "text": [
      "Particle Size Distribution For Training Set\n",
      "The average particle size before the flotation step is 60.19\n",
      "The average particle size before the first step of purification input is 7.3\n"
     ]
    },
    {
     "data": {
      "image/png": "[encoded data removed]",
      "text/plain": [
       "<Figure size 640x480 with 1 Axes>"
      ]
     },
     "metadata": {},
     "output_type": "display_data"
    },
    {
     "name": "stdout",
     "output_type": "stream",
     "text": [
      "\n",
      "Particle Size Distribution For Test Set\n",
      "The average particle size before the flotation step is 55.9\n",
      "The average particle size before the first step of purification input is 7.26\n"
     ]
    },
    {
     "data": {
      "image/png": "[encoded data removed]",
      "text/plain": [
       "<Figure size 640x480 with 1 Axes>"
      ]
     },
     "metadata": {},
     "output_type": "display_data"
    }
   ],
   "source": [
    "# Get feed sizes between train and test set\n",
    "train_feed_size = gold_recovery_train[['primary_cleaner.input.feed_size','rougher.input.feed_size']]\n",
    "test_feed_size = gold_recovery_test[['primary_cleaner.input.feed_size','rougher.input.feed_size']]\n",
    "\n",
    "# Training\n",
    "# Plot Particle Size Distribution For Training Set\n",
    "print('Particle Size Distribution For Training Set')\n",
    "print('The average particle size before the flotation step is', round(train_feed_size['rougher.input.feed_size'].mean(),2))\n",
    "print('The average particle size before the first step of purification input is', round(train_feed_size['primary_cleaner.input.feed_size'].mean(),2))\n",
    "\n",
    "plt.hist(test_feed_size['rougher.input.feed_size'], color='r', bins=30, alpha=0.5, label='Test', density=True)\n",
    "plt.hist(train_feed_size['rougher.input.feed_size'], color='b', bins=30, alpha=0.5, label='Training', density=True)\n",
    "plt.title('Initial Feed Particle Size Between Two Datasets')\n",
    "plt.ylabel('Count')\n",
    "plt.xlabel('Particle Size')\n",
    "plt.legend(loc='upper right', title='Dataset')\n",
    "plt.show()\n",
    "\n",
    "# Test\n",
    "# Plot Particle Size Distribution For Test Set\n",
    "print()\n",
    "print('Particle Size Distribution For Test Set')\n",
    "print('The average particle size before the flotation step is', round(test_feed_size['rougher.input.feed_size'].mean(),2))\n",
    "print('The average particle size before the first step of purification input is', round(test_feed_size['primary_cleaner.input.feed_size'].mean(),2))\n",
    "\n",
    "plt.hist(test_feed_size['primary_cleaner.input.feed_size'], color='r', bins=30, alpha=0.5, label='Test', density=True)\n",
    "plt.hist(train_feed_size['primary_cleaner.input.feed_size'], color='b', bins=30, alpha=0.5, label='Training', density=True)\n",
    "plt.title('Intermediate (First Cleaner Input) Feed Particle Size Between Two Datasets')\n",
    "plt.ylabel('Count')\n",
    "plt.xlabel('Particle Size')\n",
    "plt.legend(loc='upper right', title='Dataset')\n",
    "plt.show()"
   ]
  },
  {
   "cell_type": "markdown",
   "metadata": {},
   "source": [
    "<div class=\"alert alert-block alert-danger\">\n",
    "<b>Reviewer's comment V1</b> <a class=\"tocSkip\"></a>\n",
    "\n",
    "1. When you need to compare several distributions you need to plot them on the same graph with different colors. So, please, plot two histograms for train and test data on the same plot. It total you should have 2 plots with 2 histograms on each plot.\n",
    "2. When you need to compare distributions with a different number of observations, you need to plot normalized histograms to avoid dependence on the number of observations.\n",
    "  \n",
    "</div>\n",
    "\n",
    "<div class=\"alert alert-info\">\n",
    "I made this correction above.\n",
    "</div>"
   ]
  },
  {
   "cell_type": "markdown",
   "metadata": {},
   "source": [
    "<div class=\"alert alert-block alert-success\">\n",
    "<b>Reviewer's comment V2</b> <a class=\"tocSkip\"></a>\n",
    "\n",
    "Correct\n",
    "  \n",
    "</div>"
   ]
  },
  {
   "cell_type": "markdown",
   "metadata": {},
   "source": [
    "#### Findings\n",
    "\n",
    "- There is little to no difference between particle size for `rougher.input.feed_size` or `primary_cleaner.input.feed_size`\n",
    "\n",
    "### Analyze Concentrations of All Substances at Different Stages\n",
    "\n",
    "Consider the total concentrations of all substances at different stages: raw feed, rougher concentrate, and final concentrate. Do you notice any abnormal values in the total distribution? If you do, is it worth removing such values from both samples? Describe the findings and eliminate anomalies."
   ]
  },
  {
   "cell_type": "code",
   "execution_count": 12,
   "metadata": {
    "scrolled": false
   },
   "outputs": [
    {
     "data": {
      "text/plain": [
       "Text(0.5, 0.98, 'Final Concentrate Total')"
      ]
     },
     "execution_count": 12,
     "metadata": {},
     "output_type": "execute_result"
    },
    {
     "data": {
      "image/png": "[encoded data removed]",
      "text/plain": [
       "<Figure size 800x800 with 1 Axes>"
      ]
     },
     "metadata": {},
     "output_type": "display_data"
    },
    {
     "data": {
      "image/png": "[encoded data removed]",
      "text/plain": [
       "<Figure size 800x800 with 1 Axes>"
      ]
     },
     "metadata": {},
     "output_type": "display_data"
    },
    {
     "data": {
      "image/png": "[encoded data removed]",
      "text/plain": [
       "<Figure size 800x800 with 1 Axes>"
      ]
     },
     "metadata": {},
     "output_type": "display_data"
    }
   ],
   "source": [
    "# Sum concentrations of metals at each stage and plot distributions\n",
    "\n",
    "# Calculate Raw Feed Totals\n",
    "# Using rougher.input.feed_\n",
    "gold_recovery_train['total_raw_feed'] = gold_recovery_train[['rougher.input.feed_ag','rougher.input.feed_au','rougher.input.feed_pb']].sum(axis=1)\n",
    "\n",
    "# Raw Feed Distribution \n",
    "fig, axis = plt.subplots(1,1,figsize=(8, 8))\n",
    "gold_recovery_train['total_raw_feed'].hist(ax=axis)\n",
    "fig.suptitle('Raw Feed Total', fontsize=15)\n",
    "\n",
    "\n",
    "\n",
    "# Calculate Rougher Concentrate Totals\n",
    "# Using rougher.input.feed_\n",
    "gold_recovery_train['total_rough_concentrate'] = gold_recovery_train[['rougher.output.concentrate_ag', 'rougher.output.concentrate_pb', 'rougher.output.concentrate_au']].sum(axis=1)\n",
    "\n",
    "# Raw Feed Distribution \n",
    "fig, axis = plt.subplots(1,1,figsize=(8, 8))\n",
    "gold_recovery_train['total_rough_concentrate'].hist(ax=axis)\n",
    "fig.suptitle('Rougher Concentrate Total', fontsize=15)\n",
    "\n",
    "\n",
    "\n",
    "# Calculate Final Concentrate Totals\n",
    "# Using rougher.input.feed_\n",
    "gold_recovery_train['total_final_concentrate'] = gold_recovery_train[['final.output.concentrate_ag', 'final.output.concentrate_pb', 'final.output.concentrate_au']].sum(axis=1)\n",
    "\n",
    "# Raw Feed Distribution \n",
    "fig, axis = plt.subplots(1,1,figsize=(8, 8))\n",
    "gold_recovery_train['total_final_concentrate'].hist(ax=axis)\n",
    "fig.suptitle('Final Concentrate Total', fontsize=15)"
   ]
  },
  {
   "cell_type": "markdown",
   "metadata": {},
   "source": [
    "<div class=\"alert alert-block alert-success\">\n",
    "<b>Reviewer's comment V1</b> <a class=\"tocSkip\"></a>\n",
    "\n",
    "Everything is correct. Well done!\n",
    "  \n",
    "</div>"
   ]
  },
  {
   "cell_type": "markdown",
   "metadata": {},
   "source": [
    "#### Describe Findings and Eliminate Anomalies\n",
    "\n",
    "From looking at the each of the total distributions in the histograms, it looks like the variance of the data decreases at each stage. For example, there is a much wider variance when looking at raw feed total compared to the final concentrate total. This might be because the gold extraction process generally produces a similiar final concentration no matter the composition of the raw feed. \n",
    "\n",
    "Outside of this, I don't see any anomalies to remove from the dataset.\n",
    "\n",
    "## Building the Model\n",
    "\n",
    "I need to build a model that predicts two values:\n",
    "\n",
    "- rougher concentrate recovery (`rougher.output.recovery`)\n",
    "- final concentrate recovery (`final.output.recovery`)\n",
    "\n",
    "Because I am trying to predict a value, and not a classification (0 or 1), I am going to test and evaluate several regression models on the training data before making a recomendation on what model type to works best for prediciting gold extraction concentrations.\n",
    "\n",
    "### Write a Function to Calculate Final sMAPE Value\n",
    "\n",
    "About sMAPE (Symmetric Mean Absolute Percentage Error):\n",
    "- Designed to account for the relative difference between predicted and actual values, considering their magnitudes in a balanced manner. \n",
    "- Unlike other error measures, sMAPE assigns equal weight to overestimations and underestimations.\n",
    "\n",
    "The resulting sMAPE values range from 0% to 100%, with lower values indicating higher accuracy. A sMAPE value of 0% signifies a perfect alignment between the forecasted and actual values, while a value of 100% implies no similarity between the two.\n",
    "\n",
    "The formula for calculating sMAPE is defined in the formula below, and the parameters are defined as:\n",
    "\n",
    "- y<sub>i</sub> - Value of target for the observation with the i index in the sample used to measure quality\n",
    "- ŷ<sub>i</sub> - Value of prediction for the observation with the i index, for example, in the test sample\n",
    "- N - Number of observations in the sample\n",
    "- Σ - Summation over all observations of the sample (i takes values from 1 to N).\n",
    "\n",
    "![sMAPE](https://practicum-content.s3.us-west-1.amazonaws.com/resources/moved_smape_1576238825_1589899257.jpg)\n",
    "\n",
    "Taking into account the gold purification process, I will apply sMAPE in the following way to determine the accuracy of the model:\n",
    "\n",
    "![Final sMAPE](https://practicum-content.s3.us-west-1.amazonaws.com/resources/moved__smape_1589899561.jpg)"
   ]
  },
  {
   "cell_type": "code",
   "execution_count": 13,
   "metadata": {},
   "outputs": [],
   "source": [
    "# Create function to calculate sMAPE\n",
    "def smape(true_value, predicted_value):\n",
    "    smape = np.nanmean(abs(predicted_value - true_value) / ((abs(true_value) + abs(predicted_value)) / 2)) * 100 \n",
    "    return smape\n",
    "\n",
    "# Create function to calculate final sMAPE\n",
    "def final_smape(true_value, predicted_value):\n",
    "    predicted_rough, predicted_final = predicted_value[:, 0], predicted_value[:, 1]\n",
    "    true_rough, true_final = true_value[:, 0], true_value[:, 1]\n",
    "    fsmape = (.25 * (smape(true_rough, predicted_rough))) + (.75 * (smape(true_final, predicted_final)))\n",
    "    return fsmape"
   ]
  },
  {
   "cell_type": "markdown",
   "metadata": {},
   "source": [
    "### Train Different Regression Models and Evalulate Using Cross-Validation\n",
    "\n",
    "#### Split Training and Test Datasets into Features and Target Datasets"
   ]
  },
  {
   "cell_type": "code",
   "execution_count": 14,
   "metadata": {},
   "outputs": [
    {
     "name": "stdout",
     "output_type": "stream",
     "text": [
      "Training Dataset\n",
      "(16801, 52)\n",
      "(16801, 2)\n",
      "\n",
      "Test Dataset\n",
      "(5853, 52)\n",
      "(5853, 2)\n"
     ]
    }
   ],
   "source": [
    "# Create target and feature datasets using training set\n",
    "# The variable difference from Section 3.3\n",
    "\n",
    "# Remove rows from test and train where the targets are 0 to avoid division by 0 warning in sMAPE calculation\n",
    "gold_recovery_train = gold_recovery_train[(gold_recovery_train['final.output.recovery'] > 0) | (gold_recovery_train['rougher.output.recovery'] > 0)]\n",
    "gold_recovery_test = gold_recovery_test[(gold_recovery_test['final.output.recovery'] > 0) | (gold_recovery_test['rougher.output.recovery'] > 0)]\n",
    "\n",
    "# Training ########################################\n",
    "\n",
    "# Filter the fields in the training dataset to those in the test set\n",
    "# Also drop date\n",
    "\n",
    "features_train = gold_recovery_train[gold_recovery_test.columns]\n",
    "#features_train = gold_recovery_train.drop(difference, axis = 1).reset_index(drop=True)\n",
    "features_train = features_train.drop(['date','rougher.output.recovery', 'final.output.recovery'], axis = 1).reset_index(drop=True)\n",
    "\n",
    "# Training Target\n",
    "target_train = gold_recovery_train[['rougher.output.recovery', 'final.output.recovery']].reset_index(drop=True)\n",
    "\n",
    "\n",
    "# Test ########################################\n",
    "\n",
    "# Create features_test and target_test\n",
    "# Test Features\n",
    "features_test = gold_recovery_test.drop(['date','rougher.output.recovery', 'final.output.recovery'], axis = 1).reset_index(drop=True)\n",
    "\n",
    "# Test Target\n",
    "target_test = gold_recovery_test[['rougher.output.recovery', 'final.output.recovery']].reset_index(drop=True)\n",
    "\n",
    "# Print Shape of Training & Test Data\n",
    "print('Training Dataset')\n",
    "print(features_train.shape)\n",
    "print(target_train.shape)\n",
    "print()\n",
    "print('Test Dataset')\n",
    "print(features_test.shape)\n",
    "print(target_test.shape)"
   ]
  },
  {
   "cell_type": "markdown",
   "metadata": {},
   "source": [
    "#### Cross-Validation Method for Training Models\n",
    "\n",
    "Before training the models, I want to add some context on how `cross_val_score` will be used in the training our regression models. `cross_val_score` is a function that generates a cross-validated accuracy score for each data point of our dataset. It splits the data set into multiple subsets of training and testing data, trains the model on each training subset, performs predictions on the testing subset, and outputs the prediction accuracy score for each subset. The process repeats depending on the number of cross-validation folds (cv) I have set.\n",
    "\n",
    "By default, `cross_val_score()` will use a default scoring function for whichever model that is specified. For example, if a RandomForestClassifer is the estimator, the default scoring function is the mean overall accuracy. For most regression models, it will return the R-squared value. If I want to use a different scoring function, a custom scorer can be created using the `make_scorer()` method, and specifying the scoring metric that you want to use. **For these models, I want to score on final_smape.** To do this, I can create a scorer for the final_smape function by calling `make_scorer()`. I set the scoring parameter in the `cross_val_score` function equal to the newly created `final_smape_scorer`."
   ]
  },
  {
   "cell_type": "code",
   "execution_count": 15,
   "metadata": {},
   "outputs": [],
   "source": [
    "# Create a scorer for the regression models \n",
    "final_smape_score = make_scorer(final_smape)"
   ]
  },
  {
   "cell_type": "markdown",
   "metadata": {},
   "source": [
    "#### Determine Baseline sMAPE of Training Dataset"
   ]
  },
  {
   "cell_type": "code",
   "execution_count": 16,
   "metadata": {},
   "outputs": [
    {
     "name": "stdout",
     "output_type": "stream",
     "text": [
      "Average sMAPE on Training Set Targets is\n",
      "14.2477639841856\n"
     ]
    }
   ],
   "source": [
    "# Create a baseline to compare the regression models to in terms of sMAPE\n",
    "target_train_copy = target_train.copy()\n",
    "\n",
    "# Determine the mean for each training target to compare the true training target values to \n",
    "target_train_copy['rougher.output.recovery'] = target_train['rougher.output.recovery'].mean()\n",
    "target_train_copy['final.output.recovery'] = target_train['final.output.recovery'].mean()\n",
    "\n",
    "# Run final_smape function on true target training values vs target train averages\n",
    "print('Average sMAPE on Training Set Targets is')\n",
    "print(final_smape(target_train.values, target_train_copy.values))"
   ]
  },
  {
   "cell_type": "markdown",
   "metadata": {},
   "source": [
    "#### Training LinearRegression Model"
   ]
  },
  {
   "cell_type": "code",
   "execution_count": 17,
   "metadata": {},
   "outputs": [
    {
     "name": "stdout",
     "output_type": "stream",
     "text": [
      "The Average sMAPE for a LinearRegression Model is: 16.061574271133217\n",
      "\n",
      "The sMAPE scores from each fold of cross-validation were\n",
      "[17.59011036 12.05853014 15.9366039  17.91656618 16.80606078]\n"
     ]
    }
   ],
   "source": [
    "# Initialize Linear Regression Model \n",
    "lr_model = LinearRegression().fit(features_train, target_train)\n",
    "\n",
    "# cv — number of blocks for cross-validation (by default, it's 3)\n",
    "lr_scores = cross_val_score(lr_model, features_train.values, target_train.values, cv=5, scoring=final_smape_score)\n",
    "\n",
    "# Print Average sMAPE\n",
    "print('The Average sMAPE for a LinearRegression Model is:', np.nanmean(lr_scores))\n",
    "\n",
    "# Print Scores From Cross Validation\n",
    "print()\n",
    "print('The sMAPE scores from each fold of cross-validation were')\n",
    "print(lr_scores)"
   ]
  },
  {
   "cell_type": "markdown",
   "metadata": {},
   "source": [
    "#### Training DecisionTreeRegressor Model"
   ]
  },
  {
   "cell_type": "code",
   "execution_count": 18,
   "metadata": {
    "scrolled": true
   },
   "outputs": [
    {
     "name": "stdout",
     "output_type": "stream",
     "text": [
      "\n",
      "With max_depth set to 1 - the Average Final sMAPE was 15.007613872882454\n",
      "sMAPE scores from subsets of cross-validation were [13.36112617 12.18278986 13.73530798 19.76053837 15.99830698]\n",
      "\n",
      "With max_depth set to 2 - the Average Final sMAPE was 14.660819055433223\n",
      "sMAPE scores from subsets of cross-validation were [13.94952977 11.88774409 14.33070469 18.35700397 14.77911275]\n",
      "\n",
      "With max_depth set to 3 - the Average Final sMAPE was 14.969344468661323\n",
      "sMAPE scores from subsets of cross-validation were [13.52370046 12.65856651 14.66419769 19.07046698 14.92979069]\n",
      "\n",
      "With max_depth set to 4 - the Average Final sMAPE was 14.819518325385474\n",
      "sMAPE scores from subsets of cross-validation were [13.11972597 12.41569378 15.6600817  18.32468133 14.57740885]\n",
      "\n",
      "With max_depth set to 5 - the Average Final sMAPE was 14.976443835207059\n",
      "sMAPE scores from subsets of cross-validation were [13.54747368 12.9350555  15.56656974 18.5401192  14.29300105]\n",
      "\n",
      "With max_depth set to 6 - the Average Final sMAPE was 14.586211677588391\n",
      "sMAPE scores from subsets of cross-validation were [13.18879796 12.10658746 16.44002759 17.47775068 13.71789469]\n",
      "\n",
      "With max_depth set to 7 - the Average Final sMAPE was 15.284970800117582\n",
      "sMAPE scores from subsets of cross-validation were [14.53672866 12.17032531 16.43137989 17.70641933 15.58000082]\n",
      "\n",
      "With max_depth set to 8 - the Average Final sMAPE was 16.586916667178098\n",
      "sMAPE scores from subsets of cross-validation were [16.95346784 12.82816268 18.61140975 19.40467819 15.13686488]\n",
      "\n",
      "With max_depth set to 9 - the Average Final sMAPE was 18.297830784194524\n",
      "sMAPE scores from subsets of cross-validation were [19.54239375 13.02270884 22.53001388 20.35718245 16.036855  ]\n",
      "\n",
      "With max_depth set to 10 - the Average Final sMAPE was 18.282174514746426\n",
      "sMAPE scores from subsets of cross-validation were [21.057565   13.59897612 21.01645941 19.46819626 16.26967578]\n"
     ]
    }
   ],
   "source": [
    "# Create a for loop to tune the DecisionTreeRegressor model \n",
    "# I want to optimize for max_depth to get the lowest Final sMAPE\n",
    "for depth in range(1, 11):\n",
    "# Initialize Decision Tree Regression Model \n",
    "    dtr_model = DecisionTreeRegressor(max_depth=depth, random_state=12345).fit(features_train, target_train)\n",
    "\n",
    "    # Perfrom cross validation with scoring\n",
    "    dtr_scores = cross_val_score(dtr_model, features_train.values, target_train.values, cv=5, scoring=final_smape_score)\n",
    "\n",
    "    # Print Scores From Cross Validation\n",
    "    print()\n",
    "    print('With max_depth set to', depth,'- the Average Final sMAPE was', np.nanmean(dtr_scores))\n",
    "    print('sMAPE scores from subsets of cross-validation were', dtr_scores)"
   ]
  },
  {
   "cell_type": "markdown",
   "metadata": {},
   "source": [
    "#### Training RandomForestRegressor Model"
   ]
  },
  {
   "cell_type": "code",
   "execution_count": 19,
   "metadata": {},
   "outputs": [
    {
     "name": "stdout",
     "output_type": "stream",
     "text": [
      "\n",
      "With n_estimator set to 1 - the Average Final sMAPE was 24.47499839695389\n",
      "sMAPE scores from subsets of cross-validation were [28.95214903 23.59647034 19.40381937 23.2165201  27.20603315]\n",
      "\n",
      "With n_estimator set to 2 - the Average Final sMAPE was 19.978069213343723\n",
      "sMAPE scores from subsets of cross-validation were [19.91806229 17.15983071 18.77967496 21.96439308 22.06838502]\n",
      "\n",
      "With n_estimator set to 3 - the Average Final sMAPE was 18.13166209997114\n",
      "sMAPE scores from subsets of cross-validation were [16.87971738 18.13183224 16.68952152 20.14630173 18.81093763]\n",
      "\n",
      "With n_estimator set to 4 - the Average Final sMAPE was 17.645084455682717\n",
      "sMAPE scores from subsets of cross-validation were [15.84583065 18.87279544 15.95801036 19.3371199  18.21166593]\n",
      "\n",
      "With n_estimator set to 5 - the Average Final sMAPE was 17.39854361588123\n",
      "sMAPE scores from subsets of cross-validation were [15.85435321 18.35715994 16.46936721 18.92805589 17.38378184]\n",
      "\n",
      "With n_estimator set to 6 - the Average Final sMAPE was 17.007265408443054\n",
      "sMAPE scores from subsets of cross-validation were [15.28847644 17.15992731 16.10274081 18.9980537  17.48712878]\n",
      "\n",
      "With n_estimator set to 7 - the Average Final sMAPE was 16.69755886521962\n",
      "sMAPE scores from subsets of cross-validation were [15.10257054 16.44727676 15.5539152  19.00099129 17.38304053]\n",
      "\n",
      "With n_estimator set to 8 - the Average Final sMAPE was 16.45071926362111\n",
      "sMAPE scores from subsets of cross-validation were [14.76071152 15.97687049 15.26967518 18.86392543 17.3824137 ]\n",
      "\n",
      "With n_estimator set to 9 - the Average Final sMAPE was 16.101646157310118\n",
      "sMAPE scores from subsets of cross-validation were [14.48866012 15.32528625 15.00806848 18.70382996 16.98238599]\n",
      "\n",
      "With n_estimator set to 10 - the Average Final sMAPE was 16.02897439376922\n",
      "sMAPE scores from subsets of cross-validation were [14.48074485 15.22670525 15.0949908  18.56566759 16.77676348]\n"
     ]
    }
   ],
   "source": [
    "# Create a for loop to tune the RandomForestRegressor model \n",
    "# I want to optimize for n_estimators to get the lowest Final sMAPE\n",
    "for est in range(1, 11):\n",
    "    # Initialize Random Forrest Regression Model \n",
    "    rfr_model = RandomForestRegressor(n_estimators=est, random_state= 12345).fit(features_train, target_train)\n",
    "\n",
    "    # Perfrom cross validation with scoring\n",
    "    rfr_scores = cross_val_score(rfr_model, features_train.values, target_train.values, cv=5, scoring=final_smape_score)\n",
    "\n",
    "    # Print average scores for each subset of cross validation using Decision Tree Regression Model \n",
    "    #print('The Average sMAPE for a RandomForestRegressor Model is:', np.nanmean(rfr_scores))\n",
    "\n",
    "    # Print Scores From Cross Validation\n",
    "    print()\n",
    "    print('With n_estimator set to', est,'- the Average Final sMAPE was', np.nanmean(rfr_scores))\n",
    "    print('sMAPE scores from subsets of cross-validation were', rfr_scores)"
   ]
  },
  {
   "cell_type": "markdown",
   "metadata": {},
   "source": [
    "### Compare Results of Models\n",
    "\n",
    "Here is the performance of each model after tuning to minimize the Final sMAPE -\n",
    "\n",
    "- Baseline Using Mean Target Values for sMAPE - 14.25.\n",
    "- LinearRegression - Average Final sMAPE of 16.06.\n",
    "- DecisionTreeRegressor - Average Final sMAPE of 14.58 With max_depth set to 6.\n",
    "- RandomForestRegressor - Average Final sMAPE of 16.03 With n_estimators set to 10.\n",
    "\n",
    "Given that the DecisionTreeRegressor Model (max_depth = 6) has the lowest average Final sMAPE, and this sMAPE is lower than the baseline, this is the model that I will use to predict target values with on our test dataset.\n",
    "\n",
    "### Use Best Model on Test Dataset\n",
    "\n",
    "#### Use DummyRegressor to Establish Baseline Prediction\n",
    "\n",
    "Before I evaluate the DecisionTreeRegressor model on the test data, I need to establish a baseline first so that I can determine if the model DecisionTreeRegressor is actually performing well.\n",
    "\n",
    "To do this, I will use a DummyRegressor model which is a model that makes predictions using simple rules while ignoring the input features. In this instance, I want the DummyRegressor strategy to predict the average of the test targets so I set the strategy parameter to 'mean'. A DummyRegressor is useful to provide a sanity check and to compare performance against actual Regressor models."
   ]
  },
  {
   "cell_type": "code",
   "execution_count": 20,
   "metadata": {},
   "outputs": [
    {
     "name": "stdout",
     "output_type": "stream",
     "text": [
      "The Average sMAPE for a DummyRegressor Model is: 12.937094935751276\n"
     ]
    }
   ],
   "source": [
    "# Get baseline sMAPE to compare chosen model to\n",
    "\n",
    "# Checking sMAPE for median value for all predictions\n",
    "# Fit model to traning data\n",
    "dummy_regressor = DummyRegressor(strategy='mean').fit(features_train, target_train)\n",
    "\n",
    "# Predict test target values\n",
    "target_predictions = dummy_regressor.predict(features_test)\n",
    "\n",
    "# Print sMAPE for DummyRegressor\n",
    "print('The Average sMAPE for a DummyRegressor Model is:', final_smape(target_test.values, target_predictions))"
   ]
  },
  {
   "cell_type": "markdown",
   "metadata": {},
   "source": [
    "#### Evaluate DecisionTreeRegressor Model Predictions Using Test Dataset"
   ]
  },
  {
   "cell_type": "code",
   "execution_count": 21,
   "metadata": {},
   "outputs": [
    {
     "name": "stdout",
     "output_type": "stream",
     "text": [
      "The Average sMAPE for a DecisionTreeRegressor Model is: 11.862555194223692\n"
     ]
    }
   ],
   "source": [
    "# Initialize Decision Tree Regression Model \n",
    "dtr_model = DecisionTreeRegressor(max_depth=6, random_state=12345).fit(features_train, target_train)\n",
    "\n",
    "# Use Model to Predict Target Values on Scaled Test Set\n",
    "predicted_test = dtr_model.predict(features_test)\n",
    "\n",
    "# Print sMAPE for DummyRegressor\n",
    "print('The Average sMAPE for a DecisionTreeRegressor Model is:', final_smape(target_test.values, predicted_test))"
   ]
  },
  {
   "cell_type": "markdown",
   "metadata": {},
   "source": [
    "<div class=\"alert alert-block alert-warning\">\n",
    "<b>Reviewer's comment V1</b> <a class=\"tocSkip\"></a>\n",
    "\n",
    "Great work! Everything is correct.\n",
    "    \n",
    "But you don't need to call method fit() if you use cross_val_score function because your model will be trained inside the cross_val_score function several times anyway. Thus, this additional training does nothing usefull and only wastes your time.\n",
    "    \n",
    "</div>\n",
    "\n",
    "<div class=\"alert alert-info\">\n",
    "Thanks - I will look into that more as I become more comfortable with some of these topics. For now I left it as is.\n",
    "</div>"
   ]
  },
  {
   "cell_type": "markdown",
   "metadata": {},
   "source": [
    "<div class=\"alert alert-block alert-success\">\n",
    "<b>Reviewer's comment V2</b> <a class=\"tocSkip\"></a>\n",
    "\n",
    "Okay, as you wish. Anyway, everything is correct now. Good job!\n",
    "  \n",
    "</div>"
   ]
  },
  {
   "cell_type": "markdown",
   "metadata": {},
   "source": [
    "## Conclusion\n",
    "\n",
    "Compared to the baseline results of the DummyRegressor model (12.94), the DecisionTreeRegressor produces a slightly better model performance in regards to Final sMAPE (11.86). Given these results, I would implement a DecisionTreeRegressor model with max_depth=6 for Zyfra to predict the amount of gold recovered from gold ore with the smallest mean average error between the true values and predicted values."
   ]
  },
  {
   "cell_type": "code",
   "execution_count": null,
   "metadata": {},
   "outputs": [],
   "source": []
  }
 ],
 "metadata": {
  "ExecuteTimeLog": [
   {
    "duration": 2599,
    "start_time": "2025-02-18T16:23:18.506Z"
   },
   {
    "duration": 613,
    "start_time": "2025-02-18T16:23:21.107Z"
   },
   {
    "duration": 490,
    "start_time": "2025-02-18T16:23:24.559Z"
   },
   {
    "duration": 5,
    "start_time": "2025-02-18T16:30:51.251Z"
   },
   {
    "duration": 280,
    "start_time": "2025-02-18T16:30:55.947Z"
   },
   {
    "duration": 15,
    "start_time": "2025-02-18T16:31:03.841Z"
   },
   {
    "duration": 8,
    "start_time": "2025-02-18T16:35:33.179Z"
   },
   {
    "duration": 3,
    "start_time": "2025-02-18T16:35:40.429Z"
   },
   {
    "duration": 492,
    "start_time": "2025-02-18T16:35:41.523Z"
   },
   {
    "duration": 9,
    "start_time": "2025-02-18T16:35:45.203Z"
   },
   {
    "duration": 6,
    "start_time": "2025-02-18T16:36:36.596Z"
   },
   {
    "duration": 75,
    "start_time": "2025-02-18T16:43:01.072Z"
   },
   {
    "duration": 10,
    "start_time": "2025-02-18T16:47:31.817Z"
   },
   {
    "duration": 16,
    "start_time": "2025-02-18T16:48:07.312Z"
   },
   {
    "duration": 773,
    "start_time": "2025-02-18T16:55:41.854Z"
   },
   {
    "duration": 418,
    "start_time": "2025-02-18T16:59:01.000Z"
   },
   {
    "duration": 422,
    "start_time": "2025-02-18T16:59:37.071Z"
   },
   {
    "duration": 23,
    "start_time": "2025-02-18T17:22:25.399Z"
   },
   {
    "duration": 91,
    "start_time": "2025-02-18T17:25:52.444Z"
   },
   {
    "duration": 4,
    "start_time": "2025-02-18T17:25:58.090Z"
   },
   {
    "duration": 2,
    "start_time": "2025-02-18T17:26:00.795Z"
   },
   {
    "duration": 6,
    "start_time": "2025-02-18T17:26:02.194Z"
   },
   {
    "duration": 306,
    "start_time": "2025-02-18T17:27:40.364Z"
   },
   {
    "duration": 14190,
    "start_time": "2025-02-18T17:27:43.275Z"
   },
   {
    "duration": 135736,
    "start_time": "2025-02-18T17:28:13.234Z"
   },
   {
    "duration": 5,
    "start_time": "2025-02-18T17:32:21.621Z"
   },
   {
    "duration": 278,
    "start_time": "2025-02-18T17:33:26.990Z"
   },
   {
    "duration": 129,
    "start_time": "2025-02-18T17:37:03.825Z"
   },
   {
    "duration": 885,
    "start_time": "2025-02-18T18:00:35.259Z"
   },
   {
    "duration": 513,
    "start_time": "2025-02-18T18:00:36.147Z"
   },
   {
    "duration": 14,
    "start_time": "2025-02-18T18:00:36.661Z"
   },
   {
    "duration": 5,
    "start_time": "2025-02-18T18:00:36.677Z"
   },
   {
    "duration": 59,
    "start_time": "2025-02-18T18:00:36.685Z"
   },
   {
    "duration": 89,
    "start_time": "2025-02-18T18:00:36.746Z"
   },
   {
    "duration": 43,
    "start_time": "2025-02-18T18:00:36.837Z"
   },
   {
    "duration": 10,
    "start_time": "2025-02-18T18:00:36.882Z"
   },
   {
    "duration": 14,
    "start_time": "2025-02-18T18:00:36.894Z"
   },
   {
    "duration": 823,
    "start_time": "2025-02-18T18:00:36.910Z"
   },
   {
    "duration": 424,
    "start_time": "2025-02-18T18:00:37.736Z"
   },
   {
    "duration": 390,
    "start_time": "2025-02-18T18:00:38.162Z"
   },
   {
    "duration": 4,
    "start_time": "2025-02-18T18:00:38.554Z"
   },
   {
    "duration": 15,
    "start_time": "2025-02-18T18:00:38.571Z"
   },
   {
    "duration": 2,
    "start_time": "2025-02-18T18:00:38.587Z"
   },
   {
    "duration": 6,
    "start_time": "2025-02-18T18:00:38.591Z"
   },
   {
    "duration": 392,
    "start_time": "2025-02-18T18:00:38.599Z"
   },
   {
    "duration": 14298,
    "start_time": "2025-02-18T18:00:38.993Z"
   },
   {
    "duration": 135987,
    "start_time": "2025-02-18T18:00:53.293Z"
   },
   {
    "duration": 7,
    "start_time": "2025-02-18T18:03:09.282Z"
   },
   {
    "duration": 136,
    "start_time": "2025-02-18T18:03:09.291Z"
   },
   {
    "duration": 903,
    "start_time": "2025-02-18T18:20:48.595Z"
   },
   {
    "duration": 482,
    "start_time": "2025-02-18T18:20:49.500Z"
   },
   {
    "duration": 11,
    "start_time": "2025-02-18T18:20:49.984Z"
   },
   {
    "duration": 6,
    "start_time": "2025-02-18T18:20:49.996Z"
   },
   {
    "duration": 77,
    "start_time": "2025-02-18T18:20:50.005Z"
   },
   {
    "duration": 75,
    "start_time": "2025-02-18T18:20:50.084Z"
   },
   {
    "duration": 29,
    "start_time": "2025-02-18T18:20:50.170Z"
   },
   {
    "duration": 11,
    "start_time": "2025-02-18T18:20:50.201Z"
   },
   {
    "duration": 17,
    "start_time": "2025-02-18T18:20:50.214Z"
   },
   {
    "duration": 828,
    "start_time": "2025-02-18T18:20:50.233Z"
   },
   {
    "duration": 438,
    "start_time": "2025-02-18T18:20:51.063Z"
   },
   {
    "duration": 410,
    "start_time": "2025-02-18T18:20:51.502Z"
   },
   {
    "duration": 4,
    "start_time": "2025-02-18T18:20:51.913Z"
   },
   {
    "duration": 14,
    "start_time": "2025-02-18T18:20:51.920Z"
   },
   {
    "duration": 2,
    "start_time": "2025-02-18T18:20:51.935Z"
   },
   {
    "duration": 5,
    "start_time": "2025-02-18T18:20:51.939Z"
   },
   {
    "duration": 436,
    "start_time": "2025-02-18T18:20:51.946Z"
   },
   {
    "duration": 14232,
    "start_time": "2025-02-18T18:20:52.384Z"
   },
   {
    "duration": 136377,
    "start_time": "2025-02-18T18:21:06.618Z"
   },
   {
    "duration": 5,
    "start_time": "2025-02-18T18:23:22.997Z"
   },
   {
    "duration": 133,
    "start_time": "2025-02-18T18:23:23.004Z"
   },
   {
    "duration": 2656,
    "start_time": "2025-02-19T15:22:40.909Z"
   },
   {
    "duration": 607,
    "start_time": "2025-02-19T15:22:43.567Z"
   },
   {
    "duration": 10,
    "start_time": "2025-02-19T15:22:44.176Z"
   },
   {
    "duration": 5,
    "start_time": "2025-02-19T15:22:44.188Z"
   },
   {
    "duration": 13,
    "start_time": "2025-02-19T15:22:44.195Z"
   },
   {
    "duration": 74,
    "start_time": "2025-02-19T15:22:44.230Z"
   },
   {
    "duration": 37,
    "start_time": "2025-02-19T15:22:44.306Z"
   },
   {
    "duration": 10,
    "start_time": "2025-02-19T15:22:44.345Z"
   },
   {
    "duration": 11,
    "start_time": "2025-02-19T15:22:44.356Z"
   },
   {
    "duration": 873,
    "start_time": "2025-02-19T15:22:44.370Z"
   },
   {
    "duration": 406,
    "start_time": "2025-02-19T15:22:45.245Z"
   },
   {
    "duration": 401,
    "start_time": "2025-02-19T15:22:45.653Z"
   },
   {
    "duration": 3,
    "start_time": "2025-02-19T15:22:46.056Z"
   },
   {
    "duration": 23,
    "start_time": "2025-02-19T15:22:46.063Z"
   },
   {
    "duration": 2,
    "start_time": "2025-02-19T15:22:46.089Z"
   },
   {
    "duration": 6,
    "start_time": "2025-02-19T15:22:46.093Z"
   },
   {
    "duration": 539,
    "start_time": "2025-02-19T15:22:46.102Z"
   },
   {
    "duration": 22489,
    "start_time": "2025-02-19T15:22:46.643Z"
   },
   {
    "duration": 231193,
    "start_time": "2025-02-19T15:23:09.134Z"
   },
   {
    "duration": 5,
    "start_time": "2025-02-19T15:27:00.331Z"
   },
   {
    "duration": 196,
    "start_time": "2025-02-19T15:27:00.338Z"
   },
   {
    "duration": 943,
    "start_time": "2025-02-19T15:27:00.537Z"
   },
   {
    "duration": 77,
    "start_time": "2025-02-19T15:28:41.148Z"
   },
   {
    "duration": 655,
    "start_time": "2025-02-19T15:29:35.154Z"
   },
   {
    "duration": 716,
    "start_time": "2025-02-19T15:29:51.495Z"
   },
   {
    "duration": 812,
    "start_time": "2025-02-19T15:30:14.948Z"
   },
   {
    "duration": 720,
    "start_time": "2025-02-19T15:30:27.674Z"
   },
   {
    "duration": 842,
    "start_time": "2025-02-19T15:31:15.642Z"
   },
   {
    "duration": 676,
    "start_time": "2025-02-19T15:31:46.164Z"
   },
   {
    "duration": 845,
    "start_time": "2025-02-19T15:32:20.519Z"
   },
   {
    "duration": 728,
    "start_time": "2025-02-19T15:32:39.698Z"
   },
   {
    "duration": 674,
    "start_time": "2025-02-19T15:34:17.591Z"
   },
   {
    "duration": 748,
    "start_time": "2025-02-19T15:34:29.348Z"
   },
   {
    "duration": 622,
    "start_time": "2025-02-19T15:35:25.057Z"
   },
   {
    "duration": 767,
    "start_time": "2025-02-19T15:35:34.859Z"
   },
   {
    "duration": 636,
    "start_time": "2025-02-19T15:35:41.101Z"
   },
   {
    "duration": 568,
    "start_time": "2025-02-19T15:43:01.032Z"
   },
   {
    "duration": 384,
    "start_time": "2025-02-19T15:43:20.157Z"
   },
   {
    "duration": 350,
    "start_time": "2025-02-19T15:43:30.326Z"
   },
   {
    "duration": 483,
    "start_time": "2025-02-19T15:43:35.644Z"
   },
   {
    "duration": 352,
    "start_time": "2025-02-19T15:43:44.700Z"
   },
   {
    "duration": 350,
    "start_time": "2025-02-19T15:43:50.606Z"
   },
   {
    "duration": 384,
    "start_time": "2025-02-19T15:43:56.320Z"
   },
   {
    "duration": 374,
    "start_time": "2025-02-19T15:44:47.388Z"
   },
   {
    "duration": 374,
    "start_time": "2025-02-19T15:45:17.741Z"
   },
   {
    "duration": 517,
    "start_time": "2025-02-19T15:45:26.864Z"
   },
   {
    "duration": 352,
    "start_time": "2025-02-19T15:45:53.607Z"
   },
   {
    "duration": 4,
    "start_time": "2025-02-19T15:47:23.415Z"
   },
   {
    "duration": 17,
    "start_time": "2025-02-19T15:47:24.799Z"
   },
   {
    "duration": 2,
    "start_time": "2025-02-19T15:47:27.221Z"
   },
   {
    "duration": 5,
    "start_time": "2025-02-19T15:47:28.137Z"
   },
   {
    "duration": 651,
    "start_time": "2025-02-19T15:47:30.081Z"
   },
   {
    "duration": 22393,
    "start_time": "2025-02-19T15:47:34.656Z"
   },
   {
    "duration": 231035,
    "start_time": "2025-02-19T15:48:11.791Z"
   },
   {
    "duration": 6,
    "start_time": "2025-02-19T15:53:10.759Z"
   },
   {
    "duration": 503,
    "start_time": "2025-02-19T15:53:13.306Z"
   },
   {
    "duration": 885,
    "start_time": "2025-02-19T15:56:34.325Z"
   },
   {
    "duration": 490,
    "start_time": "2025-02-19T15:56:35.212Z"
   },
   {
    "duration": 11,
    "start_time": "2025-02-19T15:56:35.703Z"
   },
   {
    "duration": 15,
    "start_time": "2025-02-19T15:56:35.716Z"
   },
   {
    "duration": 67,
    "start_time": "2025-02-19T15:56:35.735Z"
   },
   {
    "duration": 86,
    "start_time": "2025-02-19T15:56:35.804Z"
   },
   {
    "duration": 30,
    "start_time": "2025-02-19T15:56:35.892Z"
   },
   {
    "duration": 12,
    "start_time": "2025-02-19T15:56:35.932Z"
   },
   {
    "duration": 12,
    "start_time": "2025-02-19T15:56:35.946Z"
   },
   {
    "duration": 650,
    "start_time": "2025-02-19T15:56:35.961Z"
   },
   {
    "duration": 370,
    "start_time": "2025-02-19T15:56:36.612Z"
   },
   {
    "duration": 491,
    "start_time": "2025-02-19T15:56:36.984Z"
   },
   {
    "duration": 3,
    "start_time": "2025-02-19T15:56:37.477Z"
   },
   {
    "duration": 21,
    "start_time": "2025-02-19T15:56:37.483Z"
   },
   {
    "duration": 2,
    "start_time": "2025-02-19T15:56:37.506Z"
   },
   {
    "duration": 21,
    "start_time": "2025-02-19T15:56:37.510Z"
   },
   {
    "duration": 720,
    "start_time": "2025-02-19T15:56:37.533Z"
   },
   {
    "duration": 22534,
    "start_time": "2025-02-19T15:56:38.255Z"
   },
   {
    "duration": 231768,
    "start_time": "2025-02-19T15:57:00.791Z"
   },
   {
    "duration": 7,
    "start_time": "2025-02-19T16:00:52.562Z"
   },
   {
    "duration": 516,
    "start_time": "2025-02-19T16:00:52.571Z"
   }
  ],
  "kernelspec": {
   "display_name": "Python 3 (ipykernel)",
   "language": "python",
   "name": "python3"
  },
  "language_info": {
   "codemirror_mode": {
    "name": "ipython",
    "version": 3
   },
   "file_extension": ".py",
   "mimetype": "text/x-python",
   "name": "python",
   "nbconvert_exporter": "python",
   "pygments_lexer": "ipython3",
   "version": "3.9.19"
  },
  "toc": {
   "base_numbering": 1,
   "nav_menu": {},
   "number_sections": true,
   "sideBar": true,
   "skip_h1_title": true,
   "title_cell": "Table of Contents",
   "title_sidebar": "Contents",
   "toc_cell": false,
   "toc_position": {},
   "toc_section_display": true,
   "toc_window_display": false
  }
 },
 "nbformat": 4,
 "nbformat_minor": 2
}
