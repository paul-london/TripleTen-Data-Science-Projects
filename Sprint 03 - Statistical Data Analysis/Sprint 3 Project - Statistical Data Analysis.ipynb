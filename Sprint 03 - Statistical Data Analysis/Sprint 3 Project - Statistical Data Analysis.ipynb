{
 "cells": [
  {
   "cell_type": "markdown",
   "metadata": {},
   "source": [
    "<div style=\"border:solid green 2px; padding: 20px\"> <h1 style=\"color:green; margin-bottom:20px\">Reviewer's comment v1</h1>\n",
    "\n",
    "Hello Paul!\n",
    "\n",
    "I'm happy to review your project today  🙌\n",
    "\n",
    "You can find my comments under the heading **«Review»**. I will categorize my comments in green, blue or red boxes like this:\n",
    "\n",
    "<div class=\"alert alert-success\">\n",
    "    <b>Success:</b> if everything is done successfully\n",
    "</div>\n",
    "<div class=\"alert alert-warning\">\n",
    "    <b>Remarks:</b> if I can give some recommendations or ways to improve the project\n",
    "</div>\n",
    "<div class=\"alert alert-danger\">\n",
    "    <b>Needs fixing:</b> if the block requires some corrections. Work can't be accepted with the red comments\n",
    "</div>\n",
    "\n",
    "Please don't remove my comments. If you have any questions, don't hesitate to respond to my comments in a different section.\n",
    "<div class=\"alert alert-info\"> <b>Student comments: </div>    "
   ]
  },
  {
   "cell_type": "markdown",
   "metadata": {},
   "source": [
    "<div style=\"border:solid green 2px; padding: 20px\">\n",
    "<b>Reviewer's comment v1</b>\n",
    "    \n",
    "<b>Overall Feedback</b> \n",
    "    \n",
    "    \n",
    "Hello Paul,\n",
    "\n",
    "You’ve submitted another project—great work! Your commitment to pushing through the challenges of this program is admirable.\n",
    "\n",
    "After reviewing your submission, I’ve returned it with some feedback to help you make the necessary improvements. \n",
    "    \n",
    "You’ll find specific feedback in the notebook in the ‘Comments’ (`Reviewer's comment v1`) sections.\n",
    "    \n",
    "**What Was Great:**\n",
    "\n",
    "- You demonstrated a thorough approach to data loading, preparation, and cleaning, ensuring the data was in optimal shape for analysis.\n",
    "    \n",
    "**Areas to Improve:**\n",
    "\n",
    "- Double-check for missing values in the final table after calculating revenue, and assess how NaN values impact key dataset statistics. \n",
    "   \n",
    "Keep in mind that revisions are a normal and valuable part of the learning process. Use this feedback to refine your work and resubmit when you’re ready. I know you’re capable of great things, and I’m here to support you every step of the way. Keep going—you’re doing a great job! 🏄\n",
    "    \n",
    "And of course, if you have any questions along the way, remember that you can always reach out to your tutor for clarification.\n",
    "</div>"
   ]
  },
  {
   "cell_type": "markdown",
   "metadata": {},
   "source": [
    "# Sprint 3 Project: Statistical Data Analysis\n",
    "\n",
    "## Megaline Service Plan Analysis (2018) - Which one is a better plan?"
   ]
  },
  {
   "cell_type": "markdown",
   "metadata": {},
   "source": [
    "You work as an analyst for the telecom operator Megaline. The company offers its clients two prepaid plans, Surf and Ultimate. The commercial department wants to know which of the plans brings in more revenue in order to adjust the advertising budget.\n",
    "\n",
    "You are going to carry out a preliminary analysis of the plans based on a relatively small client selection. You'll have the data on 500 Megaline clients: who the clients are, where they're from, which plan they use, and the number of calls they made and text messages they sent in 2018. Your job is to analyze the clients' behavior and determine which prepaid plan brings in more revenue."
   ]
  },
  {
   "cell_type": "markdown",
   "metadata": {},
   "source": [
    "This analysis is being performed to assess which of the two Megaline plans, Surf or Ultimate, brings in more revenue for the company. The data being analyzed is from a subset of 500 Megaline clients in 2018 and includes their demographic information as well as call, messaging, and internet usage behavior."
   ]
  },
  {
   "cell_type": "markdown",
   "metadata": {},
   "source": [
    "<div class=\"alert alert-block alert-success\">\n",
    "<b>Reviewer's comment v1</b>\n",
    " \n",
    "Great job keeping the additional information about the project goal! Additionally, you could add a short description of the tasks you plan to perform and the available data. This information could be helpful for the notebook reader.\n",
    "\n"
   ]
  },
  {
   "cell_type": "markdown",
   "metadata": {},
   "source": [
    "## Initialization"
   ]
  },
  {
   "cell_type": "markdown",
   "metadata": {},
   "source": [
    "All required libraries are being loaded."
   ]
  },
  {
   "cell_type": "code",
   "execution_count": 1,
   "metadata": {},
   "outputs": [],
   "source": [
    "# Loading all the libraries\n",
    "import pandas as pd\n",
    "import numpy as np\n",
    "from scipy import stats as st\n",
    "from matplotlib import pyplot as plt\n",
    "import math"
   ]
  },
  {
   "cell_type": "markdown",
   "metadata": {},
   "source": [
    "## Load data"
   ]
  },
  {
   "cell_type": "markdown",
   "metadata": {},
   "source": [
    "All the previously mentioned data files are being loaded into their own tables. There are no unusual separators or formatting to worry about with these files, so no additional arguments are required."
   ]
  },
  {
   "cell_type": "code",
   "execution_count": 2,
   "metadata": {},
   "outputs": [],
   "source": [
    "# Load the data files into different DataFrames\n",
    "messages = pd.read_csv('/datasets/megaline_messages.csv')\n",
    "internet = pd.read_csv('/datasets/megaline_internet.csv')\n",
    "users = pd.read_csv('/datasets/megaline_users.csv')\n",
    "plans = pd.read_csv('/datasets/megaline_plans.csv')\n",
    "calls = pd.read_csv('/datasets/megaline_calls.csv')"
   ]
  },
  {
   "cell_type": "markdown",
   "metadata": {},
   "source": [
    "## Prepare the data"
   ]
  },
  {
   "cell_type": "markdown",
   "metadata": {},
   "source": [
    "Next, an overview of each of the datasets is presented below."
   ]
  },
  {
   "cell_type": "markdown",
   "metadata": {},
   "source": [
    "## Plans"
   ]
  },
  {
   "cell_type": "code",
   "execution_count": 3,
   "metadata": {},
   "outputs": [
    {
     "name": "stdout",
     "output_type": "stream",
     "text": [
      "<class 'pandas.core.frame.DataFrame'>\n",
      "RangeIndex: 2 entries, 0 to 1\n",
      "Data columns (total 8 columns):\n",
      " #   Column                 Non-Null Count  Dtype  \n",
      "---  ------                 --------------  -----  \n",
      " 0   messages_included      2 non-null      int64  \n",
      " 1   mb_per_month_included  2 non-null      int64  \n",
      " 2   minutes_included       2 non-null      int64  \n",
      " 3   usd_monthly_pay        2 non-null      int64  \n",
      " 4   usd_per_gb             2 non-null      int64  \n",
      " 5   usd_per_message        2 non-null      float64\n",
      " 6   usd_per_minute         2 non-null      float64\n",
      " 7   plan_name              2 non-null      object \n",
      "dtypes: float64(2), int64(5), object(1)\n",
      "memory usage: 256.0+ bytes\n"
     ]
    }
   ],
   "source": [
    "# Print the general/summary information about the plans' DataFrame\n",
    "plans.info()"
   ]
  },
  {
   "cell_type": "code",
   "execution_count": 4,
   "metadata": {},
   "outputs": [
    {
     "data": {
      "text/html": [
       "<div>\n",
       "<style scoped>\n",
       "    .dataframe tbody tr th:only-of-type {\n",
       "        vertical-align: middle;\n",
       "    }\n",
       "\n",
       "    .dataframe tbody tr th {\n",
       "        vertical-align: top;\n",
       "    }\n",
       "\n",
       "    .dataframe thead th {\n",
       "        text-align: right;\n",
       "    }\n",
       "</style>\n",
       "<table border=\"1\" class=\"dataframe\">\n",
       "  <thead>\n",
       "    <tr style=\"text-align: right;\">\n",
       "      <th></th>\n",
       "      <th>messages_included</th>\n",
       "      <th>mb_per_month_included</th>\n",
       "      <th>minutes_included</th>\n",
       "      <th>usd_monthly_pay</th>\n",
       "      <th>usd_per_gb</th>\n",
       "      <th>usd_per_message</th>\n",
       "      <th>usd_per_minute</th>\n",
       "      <th>plan_name</th>\n",
       "    </tr>\n",
       "  </thead>\n",
       "  <tbody>\n",
       "    <tr>\n",
       "      <th>1</th>\n",
       "      <td>1000</td>\n",
       "      <td>30720</td>\n",
       "      <td>3000</td>\n",
       "      <td>70</td>\n",
       "      <td>7</td>\n",
       "      <td>0.01</td>\n",
       "      <td>0.01</td>\n",
       "      <td>ultimate</td>\n",
       "    </tr>\n",
       "    <tr>\n",
       "      <th>0</th>\n",
       "      <td>50</td>\n",
       "      <td>15360</td>\n",
       "      <td>500</td>\n",
       "      <td>20</td>\n",
       "      <td>10</td>\n",
       "      <td>0.03</td>\n",
       "      <td>0.03</td>\n",
       "      <td>surf</td>\n",
       "    </tr>\n",
       "  </tbody>\n",
       "</table>\n",
       "</div>"
      ],
      "text/plain": [
       "   messages_included  mb_per_month_included  minutes_included  \\\n",
       "1               1000                  30720              3000   \n",
       "0                 50                  15360               500   \n",
       "\n",
       "   usd_monthly_pay  usd_per_gb  usd_per_message  usd_per_minute plan_name  \n",
       "1               70           7             0.01            0.01  ultimate  \n",
       "0               20          10             0.03            0.03      surf  "
      ]
     },
     "execution_count": 4,
     "metadata": {},
     "output_type": "execute_result"
    }
   ],
   "source": [
    "# Print a sample of data for plans\n",
    "plans.sample(2)"
   ]
  },
  {
   "cell_type": "markdown",
   "metadata": {},
   "source": [
    "This dataset describes the parameters of each of the two Megaline plans: Surf and Ultimate. It displays what services are included in the monthly cost, and the costs for any addtional services incurred beyond the scope of the base plan. It is very straightforward, complete, and accurate, and requires no changes or additions. Purely for readability, I would move the plan name to the far left of the table."
   ]
  },
  {
   "cell_type": "markdown",
   "metadata": {},
   "source": [
    "## 1.5 Fix data"
   ]
  },
  {
   "cell_type": "code",
   "execution_count": 5,
   "metadata": {},
   "outputs": [
    {
     "data": {
      "text/html": [
       "<div>\n",
       "<style scoped>\n",
       "    .dataframe tbody tr th:only-of-type {\n",
       "        vertical-align: middle;\n",
       "    }\n",
       "\n",
       "    .dataframe tbody tr th {\n",
       "        vertical-align: top;\n",
       "    }\n",
       "\n",
       "    .dataframe thead th {\n",
       "        text-align: right;\n",
       "    }\n",
       "</style>\n",
       "<table border=\"1\" class=\"dataframe\">\n",
       "  <thead>\n",
       "    <tr style=\"text-align: right;\">\n",
       "      <th></th>\n",
       "      <th>plan_name</th>\n",
       "      <th>messages_included</th>\n",
       "      <th>mb_per_month_included</th>\n",
       "      <th>minutes_included</th>\n",
       "      <th>usd_monthly_pay</th>\n",
       "      <th>usd_per_gb</th>\n",
       "      <th>usd_per_message</th>\n",
       "      <th>usd_per_minute</th>\n",
       "    </tr>\n",
       "  </thead>\n",
       "  <tbody>\n",
       "    <tr>\n",
       "      <th>0</th>\n",
       "      <td>surf</td>\n",
       "      <td>50</td>\n",
       "      <td>15360</td>\n",
       "      <td>500</td>\n",
       "      <td>20</td>\n",
       "      <td>10</td>\n",
       "      <td>0.03</td>\n",
       "      <td>0.03</td>\n",
       "    </tr>\n",
       "    <tr>\n",
       "      <th>1</th>\n",
       "      <td>ultimate</td>\n",
       "      <td>1000</td>\n",
       "      <td>30720</td>\n",
       "      <td>3000</td>\n",
       "      <td>70</td>\n",
       "      <td>7</td>\n",
       "      <td>0.01</td>\n",
       "      <td>0.01</td>\n",
       "    </tr>\n",
       "  </tbody>\n",
       "</table>\n",
       "</div>"
      ],
      "text/plain": [
       "  plan_name  messages_included  mb_per_month_included  minutes_included  \\\n",
       "0      surf                 50                  15360               500   \n",
       "1  ultimate               1000                  30720              3000   \n",
       "\n",
       "   usd_monthly_pay  usd_per_gb  usd_per_message  usd_per_minute  \n",
       "0               20          10             0.03            0.03  \n",
       "1               70           7             0.01            0.01  "
      ]
     },
     "execution_count": 5,
     "metadata": {},
     "output_type": "execute_result"
    }
   ],
   "source": [
    "# This data seems fine as is and no changes are required, but for readability the plan name could be moved to the far left\n",
    "plans = plans.iloc[:,[7,0,1,2,3,4,5,6]]\n",
    "plans.sample(2)"
   ]
  },
  {
   "cell_type": "markdown",
   "metadata": {},
   "source": [
    "## 1.6 Enrich data"
   ]
  },
  {
   "cell_type": "code",
   "execution_count": 6,
   "metadata": {},
   "outputs": [],
   "source": [
    "# This data seems fine as is and no additions are required"
   ]
  },
  {
   "cell_type": "markdown",
   "metadata": {},
   "source": [
    "## Users"
   ]
  },
  {
   "cell_type": "code",
   "execution_count": 7,
   "metadata": {},
   "outputs": [
    {
     "name": "stdout",
     "output_type": "stream",
     "text": [
      "<class 'pandas.core.frame.DataFrame'>\n",
      "RangeIndex: 500 entries, 0 to 499\n",
      "Data columns (total 8 columns):\n",
      " #   Column      Non-Null Count  Dtype \n",
      "---  ------      --------------  ----- \n",
      " 0   user_id     500 non-null    int64 \n",
      " 1   first_name  500 non-null    object\n",
      " 2   last_name   500 non-null    object\n",
      " 3   age         500 non-null    int64 \n",
      " 4   city        500 non-null    object\n",
      " 5   reg_date    500 non-null    object\n",
      " 6   plan        500 non-null    object\n",
      " 7   churn_date  34 non-null     object\n",
      "dtypes: int64(2), object(6)\n",
      "memory usage: 31.4+ KB\n"
     ]
    }
   ],
   "source": [
    "# Print the general/summary information about the users' DataFrame\n",
    "users.info()"
   ]
  },
  {
   "cell_type": "code",
   "execution_count": 8,
   "metadata": {},
   "outputs": [
    {
     "data": {
      "text/html": [
       "<div>\n",
       "<style scoped>\n",
       "    .dataframe tbody tr th:only-of-type {\n",
       "        vertical-align: middle;\n",
       "    }\n",
       "\n",
       "    .dataframe tbody tr th {\n",
       "        vertical-align: top;\n",
       "    }\n",
       "\n",
       "    .dataframe thead th {\n",
       "        text-align: right;\n",
       "    }\n",
       "</style>\n",
       "<table border=\"1\" class=\"dataframe\">\n",
       "  <thead>\n",
       "    <tr style=\"text-align: right;\">\n",
       "      <th></th>\n",
       "      <th>user_id</th>\n",
       "      <th>first_name</th>\n",
       "      <th>last_name</th>\n",
       "      <th>age</th>\n",
       "      <th>city</th>\n",
       "      <th>reg_date</th>\n",
       "      <th>plan</th>\n",
       "      <th>churn_date</th>\n",
       "    </tr>\n",
       "  </thead>\n",
       "  <tbody>\n",
       "    <tr>\n",
       "      <th>257</th>\n",
       "      <td>1257</td>\n",
       "      <td>Gabriel</td>\n",
       "      <td>O'donnell</td>\n",
       "      <td>61</td>\n",
       "      <td>New York-Newark-Jersey City, NY-NJ-PA MSA</td>\n",
       "      <td>2018-01-29</td>\n",
       "      <td>surf</td>\n",
       "      <td>NaN</td>\n",
       "    </tr>\n",
       "  </tbody>\n",
       "</table>\n",
       "</div>"
      ],
      "text/plain": [
       "     user_id first_name  last_name  age  \\\n",
       "257     1257    Gabriel  O'donnell   61   \n",
       "\n",
       "                                          city    reg_date  plan churn_date  \n",
       "257  New York-Newark-Jersey City, NY-NJ-PA MSA  2018-01-29  surf        NaN  "
      ]
     },
     "execution_count": 8,
     "metadata": {},
     "output_type": "execute_result"
    }
   ],
   "source": [
    "# Print a sample of data for users\n",
    "users.sample()"
   ]
  },
  {
   "cell_type": "markdown",
   "metadata": {},
   "source": [
    "Each of the 500 users has a complete set of demographic data along with their chosen Megaline plan. \n",
    "\n",
    "Churn date is missing for most of them, which indicates they are currently subscribed to one of the Megaline plans. There is no missing data otherwise. \n",
    "\n",
    "Each city is listed as either a single city, or a region of multiple cities and/or states, with the text \"MSA\" following the state abbreviations. This will not interfere with analysis."
   ]
  },
  {
   "cell_type": "markdown",
   "metadata": {},
   "source": [
    "### Fix Data"
   ]
  },
  {
   "cell_type": "code",
   "execution_count": 9,
   "metadata": {},
   "outputs": [
    {
     "name": "stdout",
     "output_type": "stream",
     "text": [
      "<class 'pandas.core.frame.DataFrame'>\n",
      "RangeIndex: 500 entries, 0 to 499\n",
      "Data columns (total 8 columns):\n",
      " #   Column      Non-Null Count  Dtype         \n",
      "---  ------      --------------  -----         \n",
      " 0   user_id     500 non-null    int64         \n",
      " 1   first_name  500 non-null    object        \n",
      " 2   last_name   500 non-null    object        \n",
      " 3   age         500 non-null    int64         \n",
      " 4   city        500 non-null    object        \n",
      " 5   reg_date    500 non-null    datetime64[ns]\n",
      " 6   plan        500 non-null    object        \n",
      " 7   churn_date  34 non-null     datetime64[ns]\n",
      "dtypes: datetime64[ns](2), int64(2), object(4)\n",
      "memory usage: 31.4+ KB\n"
     ]
    }
   ],
   "source": [
    "# Reg date and churn date should be of type datetime for easier access to this data later\n",
    "# Churn date has missing values for currently active plans, but this is fine since it doesn't apply to those users\n",
    "# Every city has the text \"MSA\" after it, which could be removed, but shouldn't affect analysis so we can leave it as is\n",
    "users['reg_date'] = pd.to_datetime(users['reg_date'], format='%Y-%m-%d')\n",
    "users['churn_date'] = pd.to_datetime(users['churn_date'], format='%Y-%m-%d')\n",
    "users.info()"
   ]
  },
  {
   "cell_type": "markdown",
   "metadata": {},
   "source": [
    "### Enrich Data"
   ]
  },
  {
   "cell_type": "code",
   "execution_count": 10,
   "metadata": {},
   "outputs": [],
   "source": [
    "# This data seems fine as is and no additions are required\n",
    "# If we needed to analyze the average lengths of subscriptions to plans, I would add a column for their subscription duration\n",
    "# This would be calculcated by reg_date - churn_date if churn_date isn't missing, or reg_date - today's date if it is"
   ]
  },
  {
   "cell_type": "markdown",
   "metadata": {},
   "source": [
    "## Calls"
   ]
  },
  {
   "cell_type": "code",
   "execution_count": 11,
   "metadata": {},
   "outputs": [
    {
     "name": "stdout",
     "output_type": "stream",
     "text": [
      "<class 'pandas.core.frame.DataFrame'>\n",
      "RangeIndex: 137735 entries, 0 to 137734\n",
      "Data columns (total 4 columns):\n",
      " #   Column     Non-Null Count   Dtype  \n",
      "---  ------     --------------   -----  \n",
      " 0   id         137735 non-null  object \n",
      " 1   user_id    137735 non-null  int64  \n",
      " 2   call_date  137735 non-null  object \n",
      " 3   duration   137735 non-null  float64\n",
      "dtypes: float64(1), int64(1), object(2)\n",
      "memory usage: 4.2+ MB\n"
     ]
    }
   ],
   "source": [
    "# Print the general/summary information about the calls' DataFrame\n",
    "calls.info()"
   ]
  },
  {
   "cell_type": "code",
   "execution_count": 12,
   "metadata": {},
   "outputs": [
    {
     "data": {
      "text/html": [
       "<div>\n",
       "<style scoped>\n",
       "    .dataframe tbody tr th:only-of-type {\n",
       "        vertical-align: middle;\n",
       "    }\n",
       "\n",
       "    .dataframe tbody tr th {\n",
       "        vertical-align: top;\n",
       "    }\n",
       "\n",
       "    .dataframe thead th {\n",
       "        text-align: right;\n",
       "    }\n",
       "</style>\n",
       "<table border=\"1\" class=\"dataframe\">\n",
       "  <thead>\n",
       "    <tr style=\"text-align: right;\">\n",
       "      <th></th>\n",
       "      <th>id</th>\n",
       "      <th>user_id</th>\n",
       "      <th>call_date</th>\n",
       "      <th>duration</th>\n",
       "    </tr>\n",
       "  </thead>\n",
       "  <tbody>\n",
       "    <tr>\n",
       "      <th>110835</th>\n",
       "      <td>1390_284</td>\n",
       "      <td>1390</td>\n",
       "      <td>2018-10-22</td>\n",
       "      <td>5.35</td>\n",
       "    </tr>\n",
       "  </tbody>\n",
       "</table>\n",
       "</div>"
      ],
      "text/plain": [
       "              id  user_id   call_date  duration\n",
       "110835  1390_284     1390  2018-10-22      5.35"
      ]
     },
     "execution_count": 12,
     "metadata": {},
     "output_type": "execute_result"
    }
   ],
   "source": [
    "# Print a sample of data for calls\n",
    "calls.sample()"
   ]
  },
  {
   "cell_type": "markdown",
   "metadata": {},
   "source": [
    "Calls made by the same user appear to have an additional call identifier number after their user ID, but there's no pattern to it other than it increases in value seemingly arbitrarily each call. The number of times a user ID appears will be a more reliable indicator for how many calls they made."
   ]
  },
  {
   "cell_type": "markdown",
   "metadata": {},
   "source": [
    " "
   ]
  },
  {
   "cell_type": "markdown",
   "metadata": {},
   "source": [
    "### Fix data"
   ]
  },
  {
   "cell_type": "code",
   "execution_count": 13,
   "metadata": {},
   "outputs": [
    {
     "name": "stdout",
     "output_type": "stream",
     "text": [
      "<class 'pandas.core.frame.DataFrame'>\n",
      "RangeIndex: 137735 entries, 0 to 137734\n",
      "Data columns (total 4 columns):\n",
      " #   Column     Non-Null Count   Dtype         \n",
      "---  ------     --------------   -----         \n",
      " 0   id         137735 non-null  object        \n",
      " 1   user_id    137735 non-null  int64         \n",
      " 2   call_date  137735 non-null  datetime64[ns]\n",
      " 3   duration   137735 non-null  float64       \n",
      "dtypes: datetime64[ns](1), float64(1), int64(1), object(1)\n",
      "memory usage: 4.2+ MB\n"
     ]
    }
   ],
   "source": [
    "# Date should be of type datetime\n",
    "calls['call_date'] = pd.to_datetime(calls['call_date'], format='%Y-%m-%d')\n",
    "calls.info()\n",
    "\n",
    "# The 'id' column includes each user_id plus a call identifier number after it - this column won't be helpful for analysis "
   ]
  },
  {
   "cell_type": "markdown",
   "metadata": {},
   "source": [
    "### Enrich data"
   ]
  },
  {
   "cell_type": "code",
   "execution_count": 14,
   "metadata": {},
   "outputs": [
    {
     "data": {
      "text/html": [
       "<div>\n",
       "<style scoped>\n",
       "    .dataframe tbody tr th:only-of-type {\n",
       "        vertical-align: middle;\n",
       "    }\n",
       "\n",
       "    .dataframe tbody tr th {\n",
       "        vertical-align: top;\n",
       "    }\n",
       "\n",
       "    .dataframe thead th {\n",
       "        text-align: right;\n",
       "    }\n",
       "</style>\n",
       "<table border=\"1\" class=\"dataframe\">\n",
       "  <thead>\n",
       "    <tr style=\"text-align: right;\">\n",
       "      <th></th>\n",
       "      <th>id</th>\n",
       "      <th>user_id</th>\n",
       "      <th>call_date</th>\n",
       "      <th>duration</th>\n",
       "      <th>duration_rounded</th>\n",
       "    </tr>\n",
       "  </thead>\n",
       "  <tbody>\n",
       "    <tr>\n",
       "      <th>75592</th>\n",
       "      <td>1268_96</td>\n",
       "      <td>1268</td>\n",
       "      <td>2018-05-22</td>\n",
       "      <td>11.43</td>\n",
       "      <td>12</td>\n",
       "    </tr>\n",
       "    <tr>\n",
       "      <th>82910</th>\n",
       "      <td>1299_568</td>\n",
       "      <td>1299</td>\n",
       "      <td>2018-12-17</td>\n",
       "      <td>9.09</td>\n",
       "      <td>10</td>\n",
       "    </tr>\n",
       "    <tr>\n",
       "      <th>26536</th>\n",
       "      <td>1100_93</td>\n",
       "      <td>1100</td>\n",
       "      <td>2018-08-26</td>\n",
       "      <td>3.39</td>\n",
       "      <td>4</td>\n",
       "    </tr>\n",
       "    <tr>\n",
       "      <th>70880</th>\n",
       "      <td>1252_267</td>\n",
       "      <td>1252</td>\n",
       "      <td>2018-12-07</td>\n",
       "      <td>11.77</td>\n",
       "      <td>12</td>\n",
       "    </tr>\n",
       "    <tr>\n",
       "      <th>34488</th>\n",
       "      <td>1130_8</td>\n",
       "      <td>1130</td>\n",
       "      <td>2018-12-08</td>\n",
       "      <td>7.35</td>\n",
       "      <td>8</td>\n",
       "    </tr>\n",
       "  </tbody>\n",
       "</table>\n",
       "</div>"
      ],
      "text/plain": [
       "             id  user_id  call_date  duration  duration_rounded\n",
       "75592   1268_96     1268 2018-05-22     11.43                12\n",
       "82910  1299_568     1299 2018-12-17      9.09                10\n",
       "26536   1100_93     1100 2018-08-26      3.39                 4\n",
       "70880  1252_267     1252 2018-12-07     11.77                12\n",
       "34488    1130_8     1130 2018-12-08      7.35                 8"
      ]
     },
     "execution_count": 14,
     "metadata": {},
     "output_type": "execute_result"
    }
   ],
   "source": [
    "# Call data should also have a column rounded up to the nearest minute, as an integer, since that's how it's billed\n",
    "calls['duration_rounded'] = calls['duration'].apply(np.ceil).astype(int)\n",
    "calls.sample(5)"
   ]
  },
  {
   "cell_type": "markdown",
   "metadata": {},
   "source": [
    "<div class=\"alert alert-warning\" role=\"alert\">\n",
    "<b>Reviewer's comment v1:</b>\n",
    "    \n",
    "- Well done!  Good that you did not forget about data rounding. Also, great choice of np.ceil () function.\n",
    "- This function by the way also works without `apply` which makes code shorter and faster.\n",
    "    \n",
    "```\n",
    "calls['duration'] = np.ceil(calls['duration'])\n",
    "```"
   ]
  },
  {
   "cell_type": "markdown",
   "metadata": {},
   "source": [
    "## Messages"
   ]
  },
  {
   "cell_type": "code",
   "execution_count": 15,
   "metadata": {},
   "outputs": [
    {
     "name": "stdout",
     "output_type": "stream",
     "text": [
      "<class 'pandas.core.frame.DataFrame'>\n",
      "RangeIndex: 76051 entries, 0 to 76050\n",
      "Data columns (total 3 columns):\n",
      " #   Column        Non-Null Count  Dtype \n",
      "---  ------        --------------  ----- \n",
      " 0   id            76051 non-null  object\n",
      " 1   user_id       76051 non-null  int64 \n",
      " 2   message_date  76051 non-null  object\n",
      "dtypes: int64(1), object(2)\n",
      "memory usage: 1.7+ MB\n"
     ]
    }
   ],
   "source": [
    "# Print the general/summary information about the messages' DataFrame\n",
    "messages.info()"
   ]
  },
  {
   "cell_type": "code",
   "execution_count": 16,
   "metadata": {},
   "outputs": [
    {
     "data": {
      "text/html": [
       "<div>\n",
       "<style scoped>\n",
       "    .dataframe tbody tr th:only-of-type {\n",
       "        vertical-align: middle;\n",
       "    }\n",
       "\n",
       "    .dataframe tbody tr th {\n",
       "        vertical-align: top;\n",
       "    }\n",
       "\n",
       "    .dataframe thead th {\n",
       "        text-align: right;\n",
       "    }\n",
       "</style>\n",
       "<table border=\"1\" class=\"dataframe\">\n",
       "  <thead>\n",
       "    <tr style=\"text-align: right;\">\n",
       "      <th></th>\n",
       "      <th>id</th>\n",
       "      <th>user_id</th>\n",
       "      <th>message_date</th>\n",
       "    </tr>\n",
       "  </thead>\n",
       "  <tbody>\n",
       "    <tr>\n",
       "      <th>71914</th>\n",
       "      <td>1467_246</td>\n",
       "      <td>1467</td>\n",
       "      <td>2018-09-04</td>\n",
       "    </tr>\n",
       "  </tbody>\n",
       "</table>\n",
       "</div>"
      ],
      "text/plain": [
       "             id  user_id message_date\n",
       "71914  1467_246     1467   2018-09-04"
      ]
     },
     "execution_count": 16,
     "metadata": {},
     "output_type": "execute_result"
    }
   ],
   "source": [
    "# Print a sample of data for messages\n",
    "messages.sample()"
   ]
  },
  {
   "cell_type": "markdown",
   "metadata": {},
   "source": [
    "Messages made by the same user appear to have an additional message identifier number after their user ID, but there's no pattern to it other than it increases in value seemingly arbitrarily each message. The number of times a user ID appears will be a more reliable indicator for how many messages they sent."
   ]
  },
  {
   "cell_type": "markdown",
   "metadata": {},
   "source": [
    " "
   ]
  },
  {
   "cell_type": "markdown",
   "metadata": {},
   "source": [
    "### Fix data"
   ]
  },
  {
   "cell_type": "code",
   "execution_count": 17,
   "metadata": {},
   "outputs": [
    {
     "name": "stdout",
     "output_type": "stream",
     "text": [
      "<class 'pandas.core.frame.DataFrame'>\n",
      "RangeIndex: 76051 entries, 0 to 76050\n",
      "Data columns (total 3 columns):\n",
      " #   Column        Non-Null Count  Dtype         \n",
      "---  ------        --------------  -----         \n",
      " 0   id            76051 non-null  object        \n",
      " 1   user_id       76051 non-null  int64         \n",
      " 2   message_date  76051 non-null  datetime64[ns]\n",
      "dtypes: datetime64[ns](1), int64(1), object(1)\n",
      "memory usage: 1.7+ MB\n"
     ]
    }
   ],
   "source": [
    "# Date should be of type datetime for easier access to this data later\n",
    "messages['message_date'] = pd.to_datetime(messages['message_date'], format='%Y-%m-%d')\n",
    "messages.info()"
   ]
  },
  {
   "cell_type": "markdown",
   "metadata": {},
   "source": [
    "### Enrich data"
   ]
  },
  {
   "cell_type": "code",
   "execution_count": 18,
   "metadata": {},
   "outputs": [],
   "source": [
    "# This data seems fine as is and no additions are required"
   ]
  },
  {
   "cell_type": "markdown",
   "metadata": {},
   "source": [
    "## Internet"
   ]
  },
  {
   "cell_type": "code",
   "execution_count": 19,
   "metadata": {},
   "outputs": [
    {
     "name": "stdout",
     "output_type": "stream",
     "text": [
      "<class 'pandas.core.frame.DataFrame'>\n",
      "RangeIndex: 104825 entries, 0 to 104824\n",
      "Data columns (total 4 columns):\n",
      " #   Column        Non-Null Count   Dtype  \n",
      "---  ------        --------------   -----  \n",
      " 0   id            104825 non-null  object \n",
      " 1   user_id       104825 non-null  int64  \n",
      " 2   session_date  104825 non-null  object \n",
      " 3   mb_used       104825 non-null  float64\n",
      "dtypes: float64(1), int64(1), object(2)\n",
      "memory usage: 3.2+ MB\n"
     ]
    }
   ],
   "source": [
    "# Print the general/summary information about the internet DataFrame\n",
    "internet.info()"
   ]
  },
  {
   "cell_type": "code",
   "execution_count": 20,
   "metadata": {},
   "outputs": [
    {
     "data": {
      "text/html": [
       "<div>\n",
       "<style scoped>\n",
       "    .dataframe tbody tr th:only-of-type {\n",
       "        vertical-align: middle;\n",
       "    }\n",
       "\n",
       "    .dataframe tbody tr th {\n",
       "        vertical-align: top;\n",
       "    }\n",
       "\n",
       "    .dataframe thead th {\n",
       "        text-align: right;\n",
       "    }\n",
       "</style>\n",
       "<table border=\"1\" class=\"dataframe\">\n",
       "  <thead>\n",
       "    <tr style=\"text-align: right;\">\n",
       "      <th></th>\n",
       "      <th>id</th>\n",
       "      <th>user_id</th>\n",
       "      <th>session_date</th>\n",
       "      <th>mb_used</th>\n",
       "    </tr>\n",
       "  </thead>\n",
       "  <tbody>\n",
       "    <tr>\n",
       "      <th>46300</th>\n",
       "      <td>1206_35</td>\n",
       "      <td>1206</td>\n",
       "      <td>2018-08-20</td>\n",
       "      <td>570.76</td>\n",
       "    </tr>\n",
       "  </tbody>\n",
       "</table>\n",
       "</div>"
      ],
      "text/plain": [
       "            id  user_id session_date  mb_used\n",
       "46300  1206_35     1206   2018-08-20   570.76"
      ]
     },
     "execution_count": 20,
     "metadata": {},
     "output_type": "execute_result"
    }
   ],
   "source": [
    "# Print a sample of data for the internet traffic\n",
    "internet.sample()"
   ]
  },
  {
   "cell_type": "markdown",
   "metadata": {},
   "source": [
    "Internet sessions by the same user appear to have an additional session identifier number after their user ID, but there's no pattern to it other than it increases in value seemingly arbitrarily each session. The number of times a user ID appears will be a more reliable indicator for how many sessions they used."
   ]
  },
  {
   "cell_type": "markdown",
   "metadata": {},
   "source": [
    " "
   ]
  },
  {
   "cell_type": "markdown",
   "metadata": {},
   "source": [
    "### Fix data"
   ]
  },
  {
   "cell_type": "code",
   "execution_count": 21,
   "metadata": {},
   "outputs": [
    {
     "name": "stdout",
     "output_type": "stream",
     "text": [
      "<class 'pandas.core.frame.DataFrame'>\n",
      "RangeIndex: 104825 entries, 0 to 104824\n",
      "Data columns (total 4 columns):\n",
      " #   Column        Non-Null Count   Dtype         \n",
      "---  ------        --------------   -----         \n",
      " 0   id            104825 non-null  object        \n",
      " 1   user_id       104825 non-null  int64         \n",
      " 2   session_date  104825 non-null  datetime64[ns]\n",
      " 3   mb_used       104825 non-null  float64       \n",
      "dtypes: datetime64[ns](1), float64(1), int64(1), object(1)\n",
      "memory usage: 3.2+ MB\n"
     ]
    }
   ],
   "source": [
    "# Session date should be of datetime type for easier access to this data later\n",
    "internet['session_date'] = pd.to_datetime(internet['session_date'], format='%Y-%m-%d')\n",
    "internet.info()"
   ]
  },
  {
   "cell_type": "markdown",
   "metadata": {},
   "source": [
    "### Enrich data"
   ]
  },
  {
   "cell_type": "code",
   "execution_count": 22,
   "metadata": {},
   "outputs": [],
   "source": [
    "# For completion sake, we could add a column for the MB used rounded up to the nearest GB since this is how it is billed\n",
    "# However, this column won't be used for directly calculating billable internet traffic, since the monthly total is what is rounded, not individual sessions\n",
    "# We will instead add this logic later on"
   ]
  },
  {
   "cell_type": "markdown",
   "metadata": {},
   "source": [
    "<div class=\"alert alert-danger\" role=\"alert\">\n",
    "<b>Reviewer's comment v1:</b>\n",
    "    \n",
    "Please note that for web traffic, individual web sessions are not rounded up. Instead, the total for the month is rounded up. If someone uses 1025 megabytes this month, they will be charged for 2 gigabytes.\n",
    "Can you please move this logic after data aggregation?"
   ]
  },
  {
   "cell_type": "markdown",
   "metadata": {},
   "source": [
    "I added this logic in the data aggregation step instead of here."
   ]
  },
  {
   "cell_type": "markdown",
   "metadata": {},
   "source": [
    "<div class=\"alert alert-warning\" role=\"alert\">\n",
    "<b>Reviewer's comment v1:</b>\n",
    "    \n",
    "One minor remark is that you need to divide by 1024 to get GB."
   ]
  },
  {
   "cell_type": "code",
   "execution_count": null,
   "metadata": {},
   "outputs": [],
   "source": [
    "This has been corrected."
   ]
  },
  {
   "cell_type": "markdown",
   "metadata": {},
   "source": [
    "## Study plan conditions"
   ]
  },
  {
   "cell_type": "markdown",
   "metadata": {},
   "source": [
    "Megaline plans consist of two parts: \n",
    "    - A flat monthly cost that includes a predetermined amount of call minutes, messages, and internet traffic each month\n",
    "    - An option to add additional minutes, messages, and/or internet usage (in GB) beyond the monthly allotment above\n",
    "This information is contained within the plans table below:"
   ]
  },
  {
   "cell_type": "code",
   "execution_count": 23,
   "metadata": {},
   "outputs": [
    {
     "data": {
      "text/html": [
       "<div>\n",
       "<style scoped>\n",
       "    .dataframe tbody tr th:only-of-type {\n",
       "        vertical-align: middle;\n",
       "    }\n",
       "\n",
       "    .dataframe tbody tr th {\n",
       "        vertical-align: top;\n",
       "    }\n",
       "\n",
       "    .dataframe thead th {\n",
       "        text-align: right;\n",
       "    }\n",
       "</style>\n",
       "<table border=\"1\" class=\"dataframe\">\n",
       "  <thead>\n",
       "    <tr style=\"text-align: right;\">\n",
       "      <th></th>\n",
       "      <th>plan_name</th>\n",
       "      <th>messages_included</th>\n",
       "      <th>mb_per_month_included</th>\n",
       "      <th>minutes_included</th>\n",
       "      <th>usd_monthly_pay</th>\n",
       "      <th>usd_per_gb</th>\n",
       "      <th>usd_per_message</th>\n",
       "      <th>usd_per_minute</th>\n",
       "    </tr>\n",
       "  </thead>\n",
       "  <tbody>\n",
       "    <tr>\n",
       "      <th>0</th>\n",
       "      <td>surf</td>\n",
       "      <td>50</td>\n",
       "      <td>15360</td>\n",
       "      <td>500</td>\n",
       "      <td>20</td>\n",
       "      <td>10</td>\n",
       "      <td>0.03</td>\n",
       "      <td>0.03</td>\n",
       "    </tr>\n",
       "    <tr>\n",
       "      <th>1</th>\n",
       "      <td>ultimate</td>\n",
       "      <td>1000</td>\n",
       "      <td>30720</td>\n",
       "      <td>3000</td>\n",
       "      <td>70</td>\n",
       "      <td>7</td>\n",
       "      <td>0.01</td>\n",
       "      <td>0.01</td>\n",
       "    </tr>\n",
       "  </tbody>\n",
       "</table>\n",
       "</div>"
      ],
      "text/plain": [
       "  plan_name  messages_included  mb_per_month_included  minutes_included  \\\n",
       "0      surf                 50                  15360               500   \n",
       "1  ultimate               1000                  30720              3000   \n",
       "\n",
       "   usd_monthly_pay  usd_per_gb  usd_per_message  usd_per_minute  \n",
       "0               20          10             0.03            0.03  \n",
       "1               70           7             0.01            0.01  "
      ]
     },
     "execution_count": 23,
     "metadata": {},
     "output_type": "execute_result"
    }
   ],
   "source": [
    "# Print out the plan conditions and make sure they are clear for you\n",
    "plans"
   ]
  },
  {
   "cell_type": "markdown",
   "metadata": {},
   "source": [
    "<div class=\"alert alert-success\">\n",
    "<b>Reviewer's comment v1:</b>\n",
    "    \n",
    "Everything is correct here. "
   ]
  },
  {
   "cell_type": "markdown",
   "metadata": {},
   "source": [
    "## 2.12 Aggregate data per user"
   ]
  },
  {
   "cell_type": "code",
   "execution_count": 24,
   "metadata": {},
   "outputs": [
    {
     "data": {
      "text/plain": [
       "call_date  user_id\n",
       "1          1077       42\n",
       "           1196       42\n",
       "           1362       42\n",
       "           1185       23\n",
       "           1042       18\n",
       "                      ..\n",
       "12         1104        4\n",
       "           1358        4\n",
       "           1323        3\n",
       "           1339        3\n",
       "           1452        3\n",
       "Name: user_id, Length: 2258, dtype: int64"
      ]
     },
     "execution_count": 24,
     "metadata": {},
     "output_type": "execute_result"
    }
   ],
   "source": [
    "# Calculate the number of calls made by each user per month. Save the result.\n",
    "# We first have to group user_ids by month to separate their calls per month\n",
    "# The call identifier is not a count of the calls made, therefore we should count the number of appearances of each user ID using value_counts\n",
    "call_number = calls.groupby(calls['call_date'].dt.month)['user_id'].value_counts()\n",
    "call_number"
   ]
  },
  {
   "cell_type": "code",
   "execution_count": 25,
   "metadata": {},
   "outputs": [
    {
     "data": {
      "text/plain": [
       "call_date  user_id\n",
       "1          1042       114\n",
       "           1077       290\n",
       "           1185       181\n",
       "           1196       287\n",
       "           1214        16\n",
       "                     ... \n",
       "12         1495       492\n",
       "           1496       294\n",
       "           1497       300\n",
       "           1498       339\n",
       "           1499       496\n",
       "Name: duration_rounded, Length: 2258, dtype: int64"
      ]
     },
     "execution_count": 25,
     "metadata": {},
     "output_type": "execute_result"
    }
   ],
   "source": [
    "# Calculate the amount of minutes spent by each user per month. Save the result.\n",
    "# We group by both the month (extracted from datetime) and user_id simultaneously\n",
    "# We use duration_rounded column since this is how Megaline bills - each call is rounded BEFORE being combined\n",
    "call_minutes = calls.groupby([calls['call_date'].dt.month, calls['user_id']])['duration_rounded'].sum()\n",
    "call_minutes"
   ]
  },
  {
   "cell_type": "markdown",
   "metadata": {},
   "source": [
    "<div class=\"alert alert-warning\" role=\"alert\">\n",
    "<b>Reviewer's comment v1:</b>\n",
    "    \n",
    "In `pivot_table` or `groupby` it is possible to pass multiple arguments, so here, you can create an aggregated table in one go like this:\n",
    "\n",
    "\n",
    "```\n",
    "# Group by and aggregate\n",
    "result = calls_df.groupby(['user_id', 'month']).agg({'duration': ['count', 'sum']}).reset_index()\n",
    "\n",
    "# Flatten the MultiIndex in columns\n",
    "result.columns = ['_'.join(col).strip() if type(col) is tuple else col for col in result.columns.values]\n",
    "result\n",
    "```"
   ]
  },
  {
   "cell_type": "code",
   "execution_count": 26,
   "metadata": {},
   "outputs": [
    {
     "data": {
      "text/plain": [
       "message_date  user_id\n",
       "1             1077       37\n",
       "              1196       23\n",
       "              1362       21\n",
       "              1214        2\n",
       "2             1077       67\n",
       "                         ..\n",
       "12            1182        2\n",
       "              1477        2\n",
       "              1263        1\n",
       "              1323        1\n",
       "              1377        1\n",
       "Name: user_id, Length: 1806, dtype: int64"
      ]
     },
     "execution_count": 26,
     "metadata": {},
     "output_type": "execute_result"
    }
   ],
   "source": [
    "# Calculate the number of messages sent by each user per month. Save the result.\n",
    "# Using groupby to separate data by month\n",
    "# Each appearance of a user_id represents one of their messages, so I use value_counts\n",
    "message_number = messages.groupby(messages['message_date'].dt.month)['user_id'].value_counts()\n",
    "message_number"
   ]
  },
  {
   "cell_type": "code",
   "execution_count": 27,
   "metadata": {},
   "outputs": [
    {
     "name": "stdout",
     "output_type": "stream",
     "text": [
      "session_date  user_id\n",
      "1             1042        2\n",
      "              1077       11\n",
      "              1185        7\n",
      "              1196        9\n",
      "              1214        2\n",
      "                         ..\n",
      "12            1495       25\n",
      "              1496       17\n",
      "              1497       12\n",
      "              1498       24\n",
      "              1499       23\n",
      "Name: mb_used, Length: 2277, dtype: int64\n"
     ]
    },
    {
     "data": {
      "text/plain": [
       "session_date  user_id\n",
       "1             1042        1854.93\n",
       "              1077       10635.64\n",
       "              1185        6812.77\n",
       "              1196        8908.61\n",
       "              1214        1315.35\n",
       "                           ...   \n",
       "12            1495       24097.40\n",
       "              1496       16438.99\n",
       "              1497       11106.55\n",
       "              1498       23137.69\n",
       "              1499       22059.21\n",
       "Name: mb_used, Length: 2277, dtype: float64"
      ]
     },
     "execution_count": 27,
     "metadata": {},
     "output_type": "execute_result"
    }
   ],
   "source": [
    "# Calculate the volume of internet traffic used by each user per month. Save the result.\n",
    "# Here, we need to sum all of a user's individual internet sessions for the month, THEN round up to the nearest GB for billing purposes\n",
    "# This is done later as 'rounded_gb' but I left this here for reference to what I did originally\n",
    "internet_traffic_gb = internet.groupby([internet['session_date'].dt.month, internet['user_id']])['mb_used'].sum()\n",
    "internet_traffic_gb = internet_traffic_gb / 1024 # 1024 MB = 1 GB\n",
    "internet_traffic_gb = internet_traffic_gb.apply(np.ceil).astype(int) # Round up to nearest value and cast as integer type\n",
    "print(internet_traffic_gb)\n",
    "# We also need the internet traffic in MB and unrounded for a later calculation, so we can add that here\n",
    "internet_traffic_mb = internet.groupby([internet['session_date'].dt.month, internet['user_id']])['mb_used'].sum()\n",
    "internet_traffic_mb"
   ]
  },
  {
   "cell_type": "code",
   "execution_count": 28,
   "metadata": {},
   "outputs": [
    {
     "name": "stdout",
     "output_type": "stream",
     "text": [
      "         month  call_number  call_minutes  message_number  internet_traffic_mb\n",
      "user_id                                                                       \n",
      "1042         1         18.0         114.0             NaN              1854.93\n",
      "1077         1         42.0         290.0            37.0             10635.64\n",
      "1185         1         23.0         181.0             NaN              6812.77\n",
      "1196         1         42.0         287.0            23.0              8908.61\n",
      "1214         1          5.0          16.0             2.0              1315.35\n",
      "<class 'pandas.core.frame.DataFrame'>\n",
      "Int64Index: 2293 entries, 1042 to 1499\n",
      "Data columns (total 5 columns):\n",
      " #   Column               Non-Null Count  Dtype  \n",
      "---  ------               --------------  -----  \n",
      " 0   month                2293 non-null   int64  \n",
      " 1   call_number          2258 non-null   float64\n",
      " 2   call_minutes         2258 non-null   float64\n",
      " 3   message_number       1806 non-null   float64\n",
      " 4   internet_traffic_mb  2277 non-null   float64\n",
      "dtypes: float64(4), int64(1)\n",
      "memory usage: 107.5 KB\n",
      "<class 'pandas.core.frame.DataFrame'>\n",
      "Int64Index: 2293 entries, 1042 to 1499\n",
      "Data columns (total 6 columns):\n",
      " #   Column               Non-Null Count  Dtype  \n",
      "---  ------               --------------  -----  \n",
      " 0   month                2293 non-null   int64  \n",
      " 1   call_number          2293 non-null   float64\n",
      " 2   call_minutes         2293 non-null   float64\n",
      " 3   message_number       2293 non-null   float64\n",
      " 4   internet_traffic_mb  2293 non-null   float64\n",
      " 5   rounded_gb           2293 non-null   int64  \n",
      "dtypes: float64(4), int64(2)\n",
      "memory usage: 125.4 KB\n",
      "         month  call_number  call_minutes  message_number  \\\n",
      "user_id                                                     \n",
      "1042         1         18.0         114.0             0.0   \n",
      "1077         1         42.0         290.0            37.0   \n",
      "1185         1         23.0         181.0             0.0   \n",
      "1196         1         42.0         287.0            23.0   \n",
      "1214         1          5.0          16.0             2.0   \n",
      "1362         1         42.0         292.0            21.0   \n",
      "1028         2          0.0           0.0            12.0   \n",
      "1042         2         37.0         254.0             0.0   \n",
      "1077         2        111.0         776.0            67.0   \n",
      "1099         2          7.0          39.0             3.0   \n",
      "\n",
      "         internet_traffic_mb  rounded_gb  \n",
      "user_id                                   \n",
      "1042                 1854.93           2  \n",
      "1077                10635.64          11  \n",
      "1185                 6812.77           7  \n",
      "1196                 8908.61           9  \n",
      "1214                 1315.35           2  \n",
      "1362                 7894.79           8  \n",
      "1028                12591.91          13  \n",
      "1042                 6801.48           7  \n",
      "1077                19926.55          20  \n",
      "1099                  599.78           1  \n"
     ]
    }
   ],
   "source": [
    "# Merge the data for calls, minutes, messages, internet based on user_id and month\n",
    "# We will add only unrounded MB internet traffic for later calculations - see below for rounded GB calculation\n",
    "aggregate_data = pd.concat([call_number, call_minutes, message_number, internet_traffic_mb], axis=1, ignore_index=True) # Concatenate by column\n",
    "aggregate_data.columns = ['call_number', 'call_minutes', 'message_number', 'internet_traffic_mb'] # Fixing column names\n",
    "# Extracting multiindex 0 (month) to its own column to make it simpler in the future, and renaming its column appropriately\n",
    "aggregate_data = aggregate_data.reset_index(level=0)\n",
    "aggregate_data = aggregate_data.rename(columns={'level_0': 'month'})\n",
    "print(aggregate_data.head())\n",
    "aggregate_data.info()\n",
    "# Replace missing values with 0 for more accurate mean calculations - total is 2293 so all columns have missing values\n",
    "aggregate_data['call_number'] = aggregate_data['call_number'].fillna(value=0)\n",
    "aggregate_data['call_minutes'] = aggregate_data['call_minutes'].fillna(value=0)\n",
    "aggregate_data['message_number'] = aggregate_data['message_number'].fillna(value=0)\n",
    "aggregate_data['internet_traffic_mb'] = aggregate_data['internet_traffic_mb'].fillna(value=0)\n",
    "# Adding rounded GB column so we can group it by month for monthly billing purposes - FROM ABOVE PREVIOUSLY\n",
    "aggregate_data['rounded_gb'] = aggregate_data['internet_traffic_mb'] / 1024 # 1024 MB = 1 GB\n",
    "aggregate_data['rounded_gb'] = aggregate_data['rounded_gb'].apply(np.ceil).astype(int) # Rounding up and making it integer type\n",
    "aggregate_data.info()\n",
    "aggregate_data.sample()\n",
    "print(aggregate_data.head(10))"
   ]
  },
  {
   "cell_type": "markdown",
   "metadata": {},
   "source": [
    "<div class=\"alert alert-success\" role=\"alert\">\n",
    "<b>Reviewer's comment v1:</b>\n",
    "\n",
    "Well done! "
   ]
  },
  {
   "cell_type": "code",
   "execution_count": 29,
   "metadata": {},
   "outputs": [
    {
     "name": "stdout",
     "output_type": "stream",
     "text": [
      "<class 'pandas.core.frame.DataFrame'>\n",
      "Int64Index: 2293 entries, 0 to 2292\n",
      "Data columns (total 16 columns):\n",
      " #   Column                 Non-Null Count  Dtype  \n",
      "---  ------                 --------------  -----  \n",
      " 0   user_id                2293 non-null   int64  \n",
      " 1   month                  2293 non-null   int64  \n",
      " 2   call_number            2293 non-null   float64\n",
      " 3   call_minutes           2293 non-null   float64\n",
      " 4   message_number         2293 non-null   float64\n",
      " 5   internet_traffic_mb    2293 non-null   float64\n",
      " 6   rounded_gb             2293 non-null   int64  \n",
      " 7   plan                   2293 non-null   object \n",
      " 8   plan_name              2293 non-null   object \n",
      " 9   messages_included      2293 non-null   int64  \n",
      " 10  mb_per_month_included  2293 non-null   int64  \n",
      " 11  minutes_included       2293 non-null   int64  \n",
      " 12  usd_monthly_pay        2293 non-null   int64  \n",
      " 13  usd_per_gb             2293 non-null   int64  \n",
      " 14  usd_per_message        2293 non-null   float64\n",
      " 15  usd_per_minute         2293 non-null   float64\n",
      "dtypes: float64(6), int64(8), object(2)\n",
      "memory usage: 304.5+ KB\n"
     ]
    }
   ],
   "source": [
    "# Add the plan information\n",
    "# Merge user plan details with aggregated usage data\n",
    "users_with_plans = users[['user_id', 'plan']]\n",
    "users_df_with_plan = users_with_plans.merge(plans, left_on='plan', right_on='plan_name', how='left')\n",
    "\n",
    "# Merge plan information to usage_data\n",
    "aggregate_data = aggregate_data.merge(users_df_with_plan, on='user_id', how='left')\n",
    "\n",
    "aggregate_data.info()"
   ]
  },
  {
   "cell_type": "markdown",
   "metadata": {},
   "source": [
    "<div class=\"alert alert-danger\">\n",
    "<b>Reviewer's comment v1:</b>\n",
    "\n",
    "When calculating the mean of a dataset, it is common to fill missing values (i.e. NaN) with 0. This is because the mean is calculated by summing up all of the values in a dataset and then dividing by the number of values. If there are missing values in the dataset, the sum will not include those values, and the mean will be calculated based on a smaller sample size. This can lead to a biased or misleading result."
   ]
  },
  {
   "cell_type": "markdown",
   "metadata": {},
   "source": [
    "I added this as part of the data aggregation step."
   ]
  },
  {
   "cell_type": "code",
   "execution_count": 30,
   "metadata": {},
   "outputs": [
    {
     "data": {
      "text/html": [
       "<div>\n",
       "<style scoped>\n",
       "    .dataframe tbody tr th:only-of-type {\n",
       "        vertical-align: middle;\n",
       "    }\n",
       "\n",
       "    .dataframe tbody tr th {\n",
       "        vertical-align: top;\n",
       "    }\n",
       "\n",
       "    .dataframe thead th {\n",
       "        text-align: right;\n",
       "    }\n",
       "</style>\n",
       "<table border=\"1\" class=\"dataframe\">\n",
       "  <thead>\n",
       "    <tr style=\"text-align: right;\">\n",
       "      <th></th>\n",
       "      <th>user_id</th>\n",
       "      <th>month</th>\n",
       "      <th>call_number</th>\n",
       "      <th>call_minutes</th>\n",
       "      <th>message_number</th>\n",
       "      <th>internet_traffic_mb</th>\n",
       "      <th>rounded_gb</th>\n",
       "      <th>plan</th>\n",
       "      <th>plan_name</th>\n",
       "      <th>messages_included</th>\n",
       "      <th>mb_per_month_included</th>\n",
       "      <th>minutes_included</th>\n",
       "      <th>usd_monthly_pay</th>\n",
       "      <th>usd_per_gb</th>\n",
       "      <th>usd_per_message</th>\n",
       "      <th>usd_per_minute</th>\n",
       "      <th>monthly_revenue</th>\n",
       "    </tr>\n",
       "  </thead>\n",
       "  <tbody>\n",
       "    <tr>\n",
       "      <th>0</th>\n",
       "      <td>1042</td>\n",
       "      <td>1</td>\n",
       "      <td>18.0</td>\n",
       "      <td>114.0</td>\n",
       "      <td>0.0</td>\n",
       "      <td>1854.93</td>\n",
       "      <td>2</td>\n",
       "      <td>surf</td>\n",
       "      <td>surf</td>\n",
       "      <td>50</td>\n",
       "      <td>15360</td>\n",
       "      <td>500</td>\n",
       "      <td>20</td>\n",
       "      <td>10</td>\n",
       "      <td>0.03</td>\n",
       "      <td>0.03</td>\n",
       "      <td>20.0</td>\n",
       "    </tr>\n",
       "    <tr>\n",
       "      <th>1</th>\n",
       "      <td>1077</td>\n",
       "      <td>1</td>\n",
       "      <td>42.0</td>\n",
       "      <td>290.0</td>\n",
       "      <td>37.0</td>\n",
       "      <td>10635.64</td>\n",
       "      <td>11</td>\n",
       "      <td>ultimate</td>\n",
       "      <td>ultimate</td>\n",
       "      <td>1000</td>\n",
       "      <td>30720</td>\n",
       "      <td>3000</td>\n",
       "      <td>70</td>\n",
       "      <td>7</td>\n",
       "      <td>0.01</td>\n",
       "      <td>0.01</td>\n",
       "      <td>70.0</td>\n",
       "    </tr>\n",
       "    <tr>\n",
       "      <th>2</th>\n",
       "      <td>1185</td>\n",
       "      <td>1</td>\n",
       "      <td>23.0</td>\n",
       "      <td>181.0</td>\n",
       "      <td>0.0</td>\n",
       "      <td>6812.77</td>\n",
       "      <td>7</td>\n",
       "      <td>ultimate</td>\n",
       "      <td>ultimate</td>\n",
       "      <td>1000</td>\n",
       "      <td>30720</td>\n",
       "      <td>3000</td>\n",
       "      <td>70</td>\n",
       "      <td>7</td>\n",
       "      <td>0.01</td>\n",
       "      <td>0.01</td>\n",
       "      <td>70.0</td>\n",
       "    </tr>\n",
       "    <tr>\n",
       "      <th>3</th>\n",
       "      <td>1196</td>\n",
       "      <td>1</td>\n",
       "      <td>42.0</td>\n",
       "      <td>287.0</td>\n",
       "      <td>23.0</td>\n",
       "      <td>8908.61</td>\n",
       "      <td>9</td>\n",
       "      <td>ultimate</td>\n",
       "      <td>ultimate</td>\n",
       "      <td>1000</td>\n",
       "      <td>30720</td>\n",
       "      <td>3000</td>\n",
       "      <td>70</td>\n",
       "      <td>7</td>\n",
       "      <td>0.01</td>\n",
       "      <td>0.01</td>\n",
       "      <td>70.0</td>\n",
       "    </tr>\n",
       "    <tr>\n",
       "      <th>4</th>\n",
       "      <td>1214</td>\n",
       "      <td>1</td>\n",
       "      <td>5.0</td>\n",
       "      <td>16.0</td>\n",
       "      <td>2.0</td>\n",
       "      <td>1315.35</td>\n",
       "      <td>2</td>\n",
       "      <td>ultimate</td>\n",
       "      <td>ultimate</td>\n",
       "      <td>1000</td>\n",
       "      <td>30720</td>\n",
       "      <td>3000</td>\n",
       "      <td>70</td>\n",
       "      <td>7</td>\n",
       "      <td>0.01</td>\n",
       "      <td>0.01</td>\n",
       "      <td>70.0</td>\n",
       "    </tr>\n",
       "    <tr>\n",
       "      <th>...</th>\n",
       "      <td>...</td>\n",
       "      <td>...</td>\n",
       "      <td>...</td>\n",
       "      <td>...</td>\n",
       "      <td>...</td>\n",
       "      <td>...</td>\n",
       "      <td>...</td>\n",
       "      <td>...</td>\n",
       "      <td>...</td>\n",
       "      <td>...</td>\n",
       "      <td>...</td>\n",
       "      <td>...</td>\n",
       "      <td>...</td>\n",
       "      <td>...</td>\n",
       "      <td>...</td>\n",
       "      <td>...</td>\n",
       "      <td>...</td>\n",
       "    </tr>\n",
       "    <tr>\n",
       "      <th>2288</th>\n",
       "      <td>1495</td>\n",
       "      <td>12</td>\n",
       "      <td>65.0</td>\n",
       "      <td>492.0</td>\n",
       "      <td>0.0</td>\n",
       "      <td>24097.40</td>\n",
       "      <td>24</td>\n",
       "      <td>surf</td>\n",
       "      <td>surf</td>\n",
       "      <td>50</td>\n",
       "      <td>15360</td>\n",
       "      <td>500</td>\n",
       "      <td>20</td>\n",
       "      <td>10</td>\n",
       "      <td>0.03</td>\n",
       "      <td>0.03</td>\n",
       "      <td>110.0</td>\n",
       "    </tr>\n",
       "    <tr>\n",
       "      <th>2289</th>\n",
       "      <td>1496</td>\n",
       "      <td>12</td>\n",
       "      <td>40.0</td>\n",
       "      <td>294.0</td>\n",
       "      <td>11.0</td>\n",
       "      <td>16438.99</td>\n",
       "      <td>17</td>\n",
       "      <td>surf</td>\n",
       "      <td>surf</td>\n",
       "      <td>50</td>\n",
       "      <td>15360</td>\n",
       "      <td>500</td>\n",
       "      <td>20</td>\n",
       "      <td>10</td>\n",
       "      <td>0.03</td>\n",
       "      <td>0.03</td>\n",
       "      <td>40.0</td>\n",
       "    </tr>\n",
       "    <tr>\n",
       "      <th>2290</th>\n",
       "      <td>1497</td>\n",
       "      <td>12</td>\n",
       "      <td>54.0</td>\n",
       "      <td>300.0</td>\n",
       "      <td>50.0</td>\n",
       "      <td>11106.55</td>\n",
       "      <td>11</td>\n",
       "      <td>ultimate</td>\n",
       "      <td>ultimate</td>\n",
       "      <td>1000</td>\n",
       "      <td>30720</td>\n",
       "      <td>3000</td>\n",
       "      <td>70</td>\n",
       "      <td>7</td>\n",
       "      <td>0.01</td>\n",
       "      <td>0.01</td>\n",
       "      <td>70.0</td>\n",
       "    </tr>\n",
       "    <tr>\n",
       "      <th>2291</th>\n",
       "      <td>1498</td>\n",
       "      <td>12</td>\n",
       "      <td>39.0</td>\n",
       "      <td>339.0</td>\n",
       "      <td>0.0</td>\n",
       "      <td>23137.69</td>\n",
       "      <td>23</td>\n",
       "      <td>surf</td>\n",
       "      <td>surf</td>\n",
       "      <td>50</td>\n",
       "      <td>15360</td>\n",
       "      <td>500</td>\n",
       "      <td>20</td>\n",
       "      <td>10</td>\n",
       "      <td>0.03</td>\n",
       "      <td>0.03</td>\n",
       "      <td>100.0</td>\n",
       "    </tr>\n",
       "    <tr>\n",
       "      <th>2292</th>\n",
       "      <td>1499</td>\n",
       "      <td>12</td>\n",
       "      <td>65.0</td>\n",
       "      <td>496.0</td>\n",
       "      <td>0.0</td>\n",
       "      <td>22059.21</td>\n",
       "      <td>22</td>\n",
       "      <td>surf</td>\n",
       "      <td>surf</td>\n",
       "      <td>50</td>\n",
       "      <td>15360</td>\n",
       "      <td>500</td>\n",
       "      <td>20</td>\n",
       "      <td>10</td>\n",
       "      <td>0.03</td>\n",
       "      <td>0.03</td>\n",
       "      <td>90.0</td>\n",
       "    </tr>\n",
       "  </tbody>\n",
       "</table>\n",
       "<p>2293 rows × 17 columns</p>\n",
       "</div>"
      ],
      "text/plain": [
       "      user_id  month  call_number  call_minutes  message_number  \\\n",
       "0        1042      1         18.0         114.0             0.0   \n",
       "1        1077      1         42.0         290.0            37.0   \n",
       "2        1185      1         23.0         181.0             0.0   \n",
       "3        1196      1         42.0         287.0            23.0   \n",
       "4        1214      1          5.0          16.0             2.0   \n",
       "...       ...    ...          ...           ...             ...   \n",
       "2288     1495     12         65.0         492.0             0.0   \n",
       "2289     1496     12         40.0         294.0            11.0   \n",
       "2290     1497     12         54.0         300.0            50.0   \n",
       "2291     1498     12         39.0         339.0             0.0   \n",
       "2292     1499     12         65.0         496.0             0.0   \n",
       "\n",
       "      internet_traffic_mb  rounded_gb      plan plan_name  messages_included  \\\n",
       "0                 1854.93           2      surf      surf                 50   \n",
       "1                10635.64          11  ultimate  ultimate               1000   \n",
       "2                 6812.77           7  ultimate  ultimate               1000   \n",
       "3                 8908.61           9  ultimate  ultimate               1000   \n",
       "4                 1315.35           2  ultimate  ultimate               1000   \n",
       "...                   ...         ...       ...       ...                ...   \n",
       "2288             24097.40          24      surf      surf                 50   \n",
       "2289             16438.99          17      surf      surf                 50   \n",
       "2290             11106.55          11  ultimate  ultimate               1000   \n",
       "2291             23137.69          23      surf      surf                 50   \n",
       "2292             22059.21          22      surf      surf                 50   \n",
       "\n",
       "      mb_per_month_included  minutes_included  usd_monthly_pay  usd_per_gb  \\\n",
       "0                     15360               500               20          10   \n",
       "1                     30720              3000               70           7   \n",
       "2                     30720              3000               70           7   \n",
       "3                     30720              3000               70           7   \n",
       "4                     30720              3000               70           7   \n",
       "...                     ...               ...              ...         ...   \n",
       "2288                  15360               500               20          10   \n",
       "2289                  15360               500               20          10   \n",
       "2290                  30720              3000               70           7   \n",
       "2291                  15360               500               20          10   \n",
       "2292                  15360               500               20          10   \n",
       "\n",
       "      usd_per_message  usd_per_minute  monthly_revenue  \n",
       "0                0.03            0.03             20.0  \n",
       "1                0.01            0.01             70.0  \n",
       "2                0.01            0.01             70.0  \n",
       "3                0.01            0.01             70.0  \n",
       "4                0.01            0.01             70.0  \n",
       "...               ...             ...              ...  \n",
       "2288             0.03            0.03            110.0  \n",
       "2289             0.03            0.03             40.0  \n",
       "2290             0.01            0.01             70.0  \n",
       "2291             0.03            0.03            100.0  \n",
       "2292             0.03            0.03             90.0  \n",
       "\n",
       "[2293 rows x 17 columns]"
      ]
     },
     "execution_count": 30,
     "metadata": {},
     "output_type": "execute_result"
    }
   ],
   "source": [
    "# Calculate the monthly revenue for each user\n",
    "# Revenue per user per month: monthly plan cost + (# minutes - included minutes) x plan minute cost + \n",
    "# (# messages - included messages) x plan msg cost + [rounded up to GB](MB - MB included) x plan GB cost\n",
    "def monthly_revenue_calculation(row):\n",
    "    monthly_charge = extra_minutes = extra_messages = extra_data = 0\n",
    "# Surf plan\n",
    "    if row['plan'] == 'surf':\n",
    "        monthly_charge = row['usd_monthly_pay']\n",
    "        if row['call_minutes'] > row['minutes_included']:\n",
    "            extra_minutes = (row['call_minutes'] - row['minutes_included']) * row['usd_per_minute']\n",
    "        if row['message_number'] > row['messages_included']:\n",
    "            extra_messages = (row['message_number'] - row['messages_included']) * row['usd_per_message']\n",
    "        # Extra internet use has to be calculated from MB due to plan terms, then we round up to the next GB\n",
    "        if row['internet_traffic_mb'] > 15360:\n",
    "            extra_data = math.ceil((row['internet_traffic_mb'] - row['mb_per_month_included']) / 1024) * row['usd_per_gb']\n",
    "# Ultimate plan\n",
    "    if row['plan'] == 'ultimate':\n",
    "        monthly_charge = row['usd_monthly_pay']\n",
    "        if row['call_minutes'] > row['minutes_included']:\n",
    "            extra_minutes = (row['call_minutes'] - row['minutes_included']) * row['usd_per_minute']\n",
    "        if row['message_number'] > row['messages_included']:\n",
    "            extra_messages = (row['message_number'] - row['messages_included']) * row['usd_per_message']\n",
    "        if row['internet_traffic_mb'] > 15360:\n",
    "            extra_data = math.ceil((row['internet_traffic_mb'] - row['mb_per_month_included']) / 1024) * row['usd_per_gb']\n",
    "    total_monthly_revenue = monthly_charge + extra_minutes + extra_messages + extra_data\n",
    "    return total_monthly_revenue\n",
    "aggregate_data['monthly_revenue'] = aggregate_data.apply(monthly_revenue_calculation, axis=1)\n",
    "aggregate_data.reset_index()\n",
    "aggregate_data"
   ]
  },
  {
   "cell_type": "markdown",
   "metadata": {},
   "source": [
    "<div class=\"alert alert-success\" role=\"alert\">\n",
    "<b>Reviewer's comment v1:</b>\n",
    "\n",
    "Everything is correct here.\n",
    "\n",
    "Btw it is also possible to make the calculation of revenue a bit different `np.where` - https://numpy.org/doc/stable/reference/generated/numpy.where.html\n",
    "    \n",
    "```\n",
    "np.where ('condition: if exceeding the package limit', 'multiply the difference by the price of additional services', '0')\n",
    "```\n",
    "\n",
    "    \n",
    "Great thing about python is that there are so many libraries and ready-to-use functions. For example, this task can also be solved using `.clip()` (a useful method in many tasks). You can read it here: https://www.pythonpool.com/numpy-clip/\n",
    "    "
   ]
  },
  {
   "cell_type": "markdown",
   "metadata": {},
   "source": [
    "## Study user behaviour"
   ]
  },
  {
   "cell_type": "markdown",
   "metadata": {},
   "source": [
    "Below, we will calculate some useful descriptive statistics for the aggregated and merged data, which reveals an overall picture captured by the data. "
   ]
  },
  {
   "cell_type": "markdown",
   "metadata": {},
   "source": [
    "### Calls"
   ]
  },
  {
   "cell_type": "code",
   "execution_count": 50,
   "metadata": {},
   "outputs": [
    {
     "data": {
      "image/png": "[encoded data removed]",
      "text/plain": [
       "<Figure size 1000x600 with 1 Axes>"
      ]
     },
     "metadata": {},
     "output_type": "display_data"
    },
    {
     "data": {
      "image/png": "[encoded data removed]",
      "text/plain": [
       "<Figure size 1000x600 with 1 Axes>"
      ]
     },
     "metadata": {},
     "output_type": "display_data"
    }
   ],
   "source": [
    "# Compare average duration of calls per each plan per each distinct month. Plot a bar plot to visualize it.\n",
    "# Making new dataframes for call duration and call number by users of each plan per month\n",
    "average_call_duration_surf = aggregate_data.query(\"plan == 'surf'\")[['month','call_minutes','call_number']]\n",
    "average_call_duration_ultimate = aggregate_data.query(\"plan == 'ultimate'\")[['month','call_minutes', 'call_number']]\n",
    "# Calculating average call duration by dividing total duration by number of calls\n",
    "average_call_duration_surf['call_minutes_avg'] = average_call_duration_surf['call_minutes'] / average_call_duration_surf['call_number']\n",
    "average_call_duration_ultimate['call_minutes_avg'] = average_call_duration_ultimate['call_minutes'] / average_call_duration_ultimate['call_number']\n",
    "# Grouping by month, taking mean, and plotting\n",
    "average_call_duration_surf.groupby('month')['call_minutes_avg'].mean().plot(kind='bar', \n",
    "                                                                            legend=False, \n",
    "                                                                            rot=0,\n",
    "                                                                            title='Average Call Duration Using Surf Plan in 2018',\n",
    "                                                                            figsize=[10,6],\n",
    "                                                                            xlabel='Month',\n",
    "                                                                            ylabel='Call Duration (Minutes)',\n",
    "                                                                            ylim=[0,10])\n",
    "plt.show()\n",
    "average_call_duration_ultimate.groupby('month')['call_minutes_avg'].mean().plot(kind='bar', \n",
    "                                                                                legend=False, \n",
    "                                                                                rot=0,\n",
    "                                                                                title='Average Call Duration Using Ultimate Plan in 2018',\n",
    "                                                                                figsize=[10,6],\n",
    "                                                                                xlabel='Month',\n",
    "                                                                                ylabel='Call Duration (Minutes)',\n",
    "                                                                                ylim=[0,10])\n",
    "plt.show()"
   ]
  },
  {
   "cell_type": "code",
   "execution_count": 32,
   "metadata": {},
   "outputs": [
    {
     "data": {
      "image/png": "[encoded data removed]",
      "text/plain": [
       "<Figure size 640x480 with 1 Axes>"
      ]
     },
     "metadata": {},
     "output_type": "display_data"
    }
   ],
   "source": [
    "# Compare the number of minutes users of each plan require each month. Plot a histogram.\n",
    "plt.hist(average_call_duration_surf.groupby('month')['call_minutes'].mean(), \n",
    "         bins=50, \n",
    "         edgecolor='k', \n",
    "         align='left', \n",
    "         histtype='barstacked', \n",
    "         color='blue', \n",
    "         alpha=0.5)\n",
    "plt.hist(average_call_duration_ultimate.groupby('month')['call_minutes'].mean(), \n",
    "         bins=50, \n",
    "         edgecolor='k', \n",
    "         align='left', \n",
    "         histtype='barstacked', \n",
    "         color='green', \n",
    "         alpha=0.5)\n",
    "plt.title('Number of Minutes Required per Month by Users of Each Plan')\n",
    "plt.xlabel('Minutes')\n",
    "plt.ylabel('Frequency')\n",
    "plt.legend(['Surf', 'Ultimate'])\n",
    "plt.show()\n",
    "# Not sure how to do this one"
   ]
  },
  {
   "cell_type": "code",
   "execution_count": 51,
   "metadata": {},
   "outputs": [
    {
     "name": "stdout",
     "output_type": "stream",
     "text": [
      "Surf Plan:\n",
      "Mean: 7.158129850659148. Variance: 1.2267282557007997.\n",
      "\n",
      "Ultimate Plan:\n",
      "Mean: 7.078557173137357. Variance: 0.9141908573365181.\n"
     ]
    }
   ],
   "source": [
    "# Calculate the mean and the variance of the monthly call duration\n",
    "mean_call_duration_surf = np.mean(average_call_duration_surf['call_minutes_avg'])\n",
    "variance_call_duration_surf = np.var(average_call_duration_surf['call_minutes_avg'])\n",
    "mean_call_duration_ultimate = np.mean(average_call_duration_ultimate['call_minutes_avg'])\n",
    "variance_call_duration_ultimate = np.var(average_call_duration_ultimate['call_minutes_avg'])\n",
    "print(\"Surf Plan:\")\n",
    "print(f\"Mean: {mean_call_duration_surf}. Variance: {variance_call_duration_surf}.\")\n",
    "print()\n",
    "print(\"Ultimate Plan:\")\n",
    "print(f\"Mean: {mean_call_duration_ultimate}. Variance: {variance_call_duration_ultimate}.\")"
   ]
  },
  {
   "cell_type": "code",
   "execution_count": 34,
   "metadata": {},
   "outputs": [
    {
     "data": {
      "image/png": "[encoded data removed]",
      "text/plain": [
       "<Figure size 640x480 with 1 Axes>"
      ]
     },
     "metadata": {},
     "output_type": "display_data"
    },
    {
     "data": {
      "image/png": "[encoded data removed]",
      "text/plain": [
       "<Figure size 640x480 with 1 Axes>"
      ]
     },
     "metadata": {},
     "output_type": "display_data"
    }
   ],
   "source": [
    "# Plot a boxplot to visualize the distribution of the monthly call duration\n",
    "average_call_duration_surf['call_minutes_avg'].plot(kind='box',\n",
    "                                                    vert=True,\n",
    "                                                    title='Distribution of Monthly Call Duration for Surf Plan',\n",
    "                                                    ylabel='Minutes',\n",
    "                                                    ylim=[-1,20])\n",
    "plt.show()\n",
    "average_call_duration_ultimate['call_minutes_avg'].plot(kind='box',\n",
    "                                                        vert=True,\n",
    "                                                        title='Distribution of Monthly Call Duration for Ultimate Plan',\n",
    "                                                        ylabel='Minutes',\n",
    "                                                        ylim=[-1,20])\n",
    "plt.show()\n",
    "# I would like both boxplots side by side on the same plot - unsure how\n",
    "# I wasn't able to change the x-axis label, only add another one"
   ]
  },
  {
   "cell_type": "markdown",
   "metadata": {},
   "source": [
    "Users behavior does not appear to be different between the Surf and Ultimate Plans. The mean and variance of average call duration appears to be very similar."
   ]
  },
  {
   "cell_type": "markdown",
   "metadata": {},
   "source": [
    "<div class=\"alert alert-warning\">\n",
    "<b>Reviewer's comment v1:</b>\n",
    "    \n",
    "To avoid repetitive code you could utilize functions. "
   ]
  },
  {
   "cell_type": "markdown",
   "metadata": {},
   "source": [
    "I need to practice doing that more :^)"
   ]
  },
  {
   "cell_type": "markdown",
   "metadata": {},
   "source": [
    " "
   ]
  },
  {
   "cell_type": "markdown",
   "metadata": {},
   "source": [
    "### Messages"
   ]
  },
  {
   "cell_type": "code",
   "execution_count": 88,
   "metadata": {},
   "outputs": [
    {
     "data": {
      "image/png": "[encoded data removed]",
      "text/plain": [
       "<Figure size 1000x600 with 1 Axes>"
      ]
     },
     "metadata": {},
     "output_type": "display_data"
    },
    {
     "data": {
      "image/png": "[encoded data removed]",
      "text/plain": [
       "<Figure size 1000x600 with 1 Axes>"
      ]
     },
     "metadata": {},
     "output_type": "display_data"
    }
   ],
   "source": [
    "# Compare the number of messages users of each plan tend to send each month\n",
    "# Making new dataframes for number of messages sent by users of each plan per month\n",
    "messages_surf = aggregate_data.query(\"plan == 'surf'\")[['month','message_number']]\n",
    "messages_ultimate = aggregate_data.query(\"plan == 'ultimate'\")[['month','message_number']]\n",
    "# Grouping message number by month, taking mean, and plotting\n",
    "messages_surf.groupby('month')['message_number'].mean().plot(kind='bar', \n",
    "                                                                            legend=False, \n",
    "                                                                            rot=0,\n",
    "                                                                            title='Average Number of Messages per Month Using Surf Plan in 2018',\n",
    "                                                                            figsize=[10,6],\n",
    "                                                                            xlabel='Month',\n",
    "                                                                            ylabel='Number of Messages',\n",
    "                                                                            ylim=[0,50])\n",
    "plt.show()\n",
    "messages_ultimate.groupby('month')['message_number'].mean().plot(kind='bar', \n",
    "                                                                                legend=False, \n",
    "                                                                                rot=0,\n",
    "                                                                                title='Average Number of Messages per Month Using Ultimate Plan in 2018',\n",
    "                                                                                figsize=[10,6],\n",
    "                                                                                xlabel='Month',\n",
    "                                                                                ylabel='Number of Messages',\n",
    "                                                                                ylim=[0,50])\n",
    "plt.show()"
   ]
  },
  {
   "cell_type": "code",
   "execution_count": 53,
   "metadata": {},
   "outputs": [
    {
     "name": "stdout",
     "output_type": "stream",
     "text": [
      "Surf Plan:\n",
      "Mean: 31.15956770502225. Variance: 1126.008231726662.\n",
      "\n",
      "Ultimate Plan:\n",
      "Mean: 37.55138888888889. Variance: 1207.0779147376545.\n"
     ]
    }
   ],
   "source": [
    "# Calculate the mean and the variance of the monthly message amount\n",
    "mean_messages_surf = np.mean(messages_surf['message_number'])\n",
    "variance_messages_surf = np.var(messages_surf['message_number'])\n",
    "mean_messages_ultimate = np.mean(messages_ultimate['message_number'])\n",
    "variance_messages_ultimate = np.var(messages_ultimate['message_number'])\n",
    "print(\"Surf Plan:\")\n",
    "print(f\"Mean: {mean_messages_surf}. Variance: {variance_messages_surf}.\")\n",
    "print()\n",
    "print(\"Ultimate Plan:\")\n",
    "print(f\"Mean: {mean_messages_ultimate}. Variance: {variance_messages_ultimate}.\")"
   ]
  },
  {
   "cell_type": "code",
   "execution_count": 37,
   "metadata": {},
   "outputs": [
    {
     "data": {
      "image/png": "[encoded data removed]",
      "text/plain": [
       "<Figure size 640x480 with 1 Axes>"
      ]
     },
     "metadata": {},
     "output_type": "display_data"
    },
    {
     "data": {
      "image/png": "[encoded data removed]",
      "text/plain": [
       "<Figure size 640x480 with 1 Axes>"
      ]
     },
     "metadata": {},
     "output_type": "display_data"
    }
   ],
   "source": [
    "# Plot a boxplot to visualize the distribution of the monthly message amount\n",
    "messages_surf['message_number'].plot(kind='box',\n",
    "                                                    vert=True,\n",
    "                                                    title='Distribution of Monthly Message Amount for Surf Plan',\n",
    "                                                    ylabel='Messages',\n",
    "                                                    ylim=[-10,275])\n",
    "plt.show()\n",
    "messages_ultimate['message_number'].plot(kind='box',\n",
    "                                                        vert=True,\n",
    "                                                        title='Distribution of Monthly Message Amount for Ultimate Plan',\n",
    "                                                        ylabel='Messages',\n",
    "                                                        ylim=[-10,275])\n",
    "plt.show()\n",
    "# I would like both boxplots side by side on the same plot - unsure how\n",
    "# I wasn't able to change the x-axis label, only add another one"
   ]
  },
  {
   "cell_type": "markdown",
   "metadata": {},
   "source": [
    "Users of the Ultimate Plan appear to send more messages on average."
   ]
  },
  {
   "cell_type": "markdown",
   "metadata": {},
   "source": [
    " "
   ]
  },
  {
   "cell_type": "markdown",
   "metadata": {},
   "source": [
    "### Internet"
   ]
  },
  {
   "cell_type": "code",
   "execution_count": 81,
   "metadata": {},
   "outputs": [
    {
     "data": {
      "image/png": "[encoded data removed]",
      "text/plain": [
       "<Figure size 1000x600 with 1 Axes>"
      ]
     },
     "metadata": {},
     "output_type": "display_data"
    },
    {
     "data": {
      "image/png": "[encoded data removed]",
      "text/plain": [
       "<Figure size 1000x600 with 1 Axes>"
      ]
     },
     "metadata": {},
     "output_type": "display_data"
    }
   ],
   "source": [
    "# Compare the amount of internet traffic consumed by users per plan\n",
    "# Making new dataframes for internet usage by users of each plan per month\n",
    "internet_surf = aggregate_data.query(\"plan == 'surf'\")[['month','rounded_gb']]\n",
    "internet_ultimate = aggregate_data.query(\"plan == 'ultimate'\")[['month','rounded_gb']]\n",
    "# Grouping message number by month, taking mean, and plotting\n",
    "internet_surf.groupby('month')['rounded_gb'].mean().plot(kind='bar', \n",
    "                                                                            legend=False, \n",
    "                                                                            rot=0,\n",
    "                                                                            title='Average Internet Traffic per Month Using Surf Plan in 2018',\n",
    "                                                                            figsize=[10,6],\n",
    "                                                                            xlabel='Month',\n",
    "                                                                            ylabel='Internet Usage (GB)',\n",
    "                                                                            ylim=[0,25])\n",
    "plt.show()\n",
    "internet_ultimate.groupby('month')['rounded_gb'].mean().plot(kind='bar', \n",
    "                                                                                legend=False, \n",
    "                                                                                rot=0,\n",
    "                                                                                title='Average Internet Traffic per Month Using Ultimate Plan in 2018',\n",
    "                                                                                figsize=[10,6],\n",
    "                                                                                xlabel='Month',\n",
    "                                                                                ylabel='Internet Usage (GB)',\n",
    "                                                                                ylim=[0,25])\n",
    "plt.show()"
   ]
  },
  {
   "cell_type": "code",
   "execution_count": 39,
   "metadata": {},
   "outputs": [
    {
     "name": "stdout",
     "output_type": "stream",
     "text": [
      "Surf Plan:\n",
      "Mean: 16.670692943420217. Variance: 61.54444942447023.\n",
      "\n",
      "Ultimate Plan:\n",
      "Mean: 17.306944444444444. Variance: 58.748840663580246.\n"
     ]
    }
   ],
   "source": [
    "# Calculate the mean and the variance of the monthly internet traffic\n",
    "mean_internet_surf = np.mean(internet_surf['rounded_gb'])\n",
    "variance_internet_surf = np.var(internet_surf['rounded_gb'])\n",
    "mean_internet_ultimate = np.mean(internet_ultimate['rounded_gb'])\n",
    "variance_internet_ultimate = np.var(internet_ultimate['rounded_gb'])\n",
    "print(\"Surf Plan:\")\n",
    "print(f\"Mean: {mean_internet_surf}. Variance: {variance_internet_surf}.\")\n",
    "print()\n",
    "print(\"Ultimate Plan:\")\n",
    "print(f\"Mean: {mean_internet_ultimate}. Variance: {variance_internet_ultimate}.\")"
   ]
  },
  {
   "cell_type": "code",
   "execution_count": 77,
   "metadata": {},
   "outputs": [
    {
     "data": {
      "image/png": "[encoded data removed]",
      "text/plain": [
       "<Figure size 640x480 with 1 Axes>"
      ]
     },
     "metadata": {},
     "output_type": "display_data"
    },
    {
     "data": {
      "image/png": "[encoded data removed]",
      "text/plain": [
       "<Figure size 640x480 with 1 Axes>"
      ]
     },
     "metadata": {},
     "output_type": "display_data"
    }
   ],
   "source": [
    "# Plot a boxplot to visualize the distribution of internet usage amount\n",
    "internet_surf['rounded_gb'].plot(kind='box',\n",
    "                                                    vert=True,\n",
    "                                                    title='Distribution of Monthly Internet Usage for Surf Plan',\n",
    "                                                    ylabel='Internet Usage (GB)',\n",
    "                                                    ylim=[-5,80])\n",
    "plt.show()\n",
    "internet_ultimate['rounded_gb'].plot(kind='box',\n",
    "                                                        vert=True,\n",
    "                                                        title='Distribution of Monthly Internet Usage for Ultimate Plan',\n",
    "                                                        ylabel='Internet Usage (GB)',\n",
    "                                                        ylim=[-5,80])\n",
    "plt.show()\n",
    "# I would like both boxplots side by side on the same plot - unsure how\n",
    "# I wasn't able to change the x-axis label, only add another one"
   ]
  },
  {
   "cell_type": "markdown",
   "metadata": {},
   "source": [
    "Internet usage appears very similar between the two plans."
   ]
  },
  {
   "cell_type": "markdown",
   "metadata": {},
   "source": [
    " "
   ]
  },
  {
   "cell_type": "markdown",
   "metadata": {},
   "source": [
    "## Revenue"
   ]
  },
  {
   "cell_type": "code",
   "execution_count": 41,
   "metadata": {},
   "outputs": [
    {
     "data": {
      "image/png": "[encoded data removed]",
      "text/plain": [
       "<Figure size 1000x600 with 1 Axes>"
      ]
     },
     "metadata": {},
     "output_type": "display_data"
    },
    {
     "data": {
      "image/png": "[encoded data removed]",
      "text/plain": [
       "<Figure size 1000x600 with 1 Axes>"
      ]
     },
     "metadata": {},
     "output_type": "display_data"
    }
   ],
   "source": [
    "# Compare the revenue for each plan\n",
    "# Making new dataframes for the revenue of each plan per month\n",
    "revenue_surf = aggregate_data.query(\"plan == 'surf'\")[['month','monthly_revenue']]\n",
    "revenue_ultimate = aggregate_data.query(\"plan == 'ultimate'\")[['month','monthly_revenue']]\n",
    "# Grouping message number by month, taking mean, and plotting\n",
    "revenue_surf.groupby('month')['monthly_revenue'].mean().plot(kind='bar', \n",
    "                                                                            legend=False, \n",
    "                                                                            rot=0,\n",
    "                                                                            title='Average Revenue per Month from Surf Plan in 2018',\n",
    "                                                                            figsize=[10,6],\n",
    "                                                                            xlabel='Month',\n",
    "                                                                            ylabel='Revenue (USD)',\n",
    "                                                                            ylim=[0,80])\n",
    "plt.show()\n",
    "revenue_ultimate.groupby('month')['monthly_revenue'].mean().plot(kind='bar', \n",
    "                                                                                legend=False, \n",
    "                                                                                rot=0,\n",
    "                                                                                title='Average Revenue per Month from Ultimate Plan in 2018',\n",
    "                                                                                figsize=[10,6],\n",
    "                                                                                xlabel='Month',\n",
    "                                                                                ylabel='Revenue (USD)',\n",
    "                                                                                )\n",
    "plt.show()"
   ]
  },
  {
   "cell_type": "code",
   "execution_count": 83,
   "metadata": {},
   "outputs": [
    {
     "data": {
      "image/png": "[encoded data removed]",
      "text/plain": [
       "<Figure size 640x480 with 1 Axes>"
      ]
     },
     "metadata": {},
     "output_type": "display_data"
    }
   ],
   "source": [
    "# Plot a histogram of revenue per user per plan\n",
    "plt.hist(revenue_surf['monthly_revenue'], \n",
    "         bins=20, \n",
    "         edgecolor='k', \n",
    "         align='left', \n",
    "         histtype='bar', \n",
    "         color='blue', \n",
    "         alpha=0.5,\n",
    "         width=10,\n",
    "         rwidth=1)\n",
    "plt.hist(revenue_ultimate['monthly_revenue'], \n",
    "         bins=20, \n",
    "         edgecolor='k', \n",
    "         align='left', \n",
    "         histtype='bar', \n",
    "         color='green', \n",
    "         alpha=0.5,\n",
    "         width=10,\n",
    "         rwidth=1)\n",
    "plt.title('Monthly Revenue per User of Each Plan in 2018')\n",
    "plt.xlabel('Revenue per User')\n",
    "plt.ylabel('Frequency')\n",
    "plt.legend(['Surf', 'Ultimate'])\n",
    "plt.show()\n",
    "# Not sure how to display this properly - Ultimate Plan shows negative revenues and spacing issues"
   ]
  },
  {
   "cell_type": "code",
   "execution_count": 43,
   "metadata": {},
   "outputs": [
    {
     "name": "stdout",
     "output_type": "stream",
     "text": [
      "Surf Plan:\n",
      "Mean: 60.70640813731723. Variance: 3065.8848438690247.\n",
      "\n",
      "Ultimate Plan:\n",
      "Mean: 35.65138888888889. Variance: 1791.1381925154321.\n"
     ]
    }
   ],
   "source": [
    "# Calculate the mean and the variance of the monthly revenue per plan\n",
    "mean_revenue_surf = np.mean(revenue_surf['monthly_revenue'])\n",
    "variance_revenue_surf = np.var(revenue_surf['monthly_revenue'])\n",
    "mean_revenue_ultimate = np.mean(revenue_ultimate['monthly_revenue'])\n",
    "variance_revenue_ultimate = np.var(revenue_ultimate['monthly_revenue'])\n",
    "print(\"Surf Plan:\")\n",
    "print(f\"Mean: {mean_revenue_surf}. Variance: {variance_revenue_surf}.\")\n",
    "print()\n",
    "print(\"Ultimate Plan:\")\n",
    "print(f\"Mean: {mean_revenue_ultimate}. Variance: {variance_revenue_ultimate}.\")"
   ]
  },
  {
   "cell_type": "code",
   "execution_count": 44,
   "metadata": {},
   "outputs": [
    {
     "data": {
      "image/png": "[encoded data removed]",
      "text/plain": [
       "<Figure size 640x480 with 1 Axes>"
      ]
     },
     "metadata": {},
     "output_type": "display_data"
    },
    {
     "data": {
      "image/png": "[encoded data removed]",
      "text/plain": [
       "<Figure size 640x480 with 1 Axes>"
      ]
     },
     "metadata": {},
     "output_type": "display_data"
    }
   ],
   "source": [
    "# Plot a boxplot to visualize the distribution of monthly revenue per plan\n",
    "revenue_surf['monthly_revenue'].plot(kind='box',\n",
    "                                                    vert=True,\n",
    "                                                    title='Distribution of Monthly Internet Usage for Surf Plan',\n",
    "                                                    ylabel='Internet Usage (GB)',\n",
    "                                                    ylim=[-50,625])\n",
    "plt.show()\n",
    "revenue_ultimate['monthly_revenue'].plot(kind='box',\n",
    "                                                        vert=True,\n",
    "                                                        title='Distribution of Monthly Internet Usage for Ultimate Plan',\n",
    "                                                        ylabel='Internet Usage (GB)',\n",
    "                                                        ylim=[-50,625])\n",
    "plt.show()\n",
    "# I would like both boxplots side by side on the same plot - unsure how\n",
    "# I wasn't able to change the x-axis label, only add another one"
   ]
  },
  {
   "cell_type": "markdown",
   "metadata": {},
   "source": [
    "It would appear that revenue is significantly higher from the Surf Plan than from the Ultimate Plan, however, there is a much higher variance among users of the Surf Plan, indicating more of these users are purchasing additional internet usage beyond what is included in their plan."
   ]
  },
  {
   "cell_type": "markdown",
   "metadata": {},
   "source": [
    "<div class=\"alert alert-success\">\n",
    "<b>Reviewer's comment v1:</b>\n",
    "    \n",
    "I will write overall thoughts about the data analysis section:\n",
    "- Very nice visualization of the data. It's great that you combined both plans in one graph for comparison and also used different graph types to check the available data.\n",
    "- If you have time and are willing to practice, you can display two charts (a histogram and a boxplot) using a two-column subplot.\n",
    "\n",
    "```\n",
    "    # Create one row with 2 columns\n",
    "\t  fig, axes = plt.subplots(1, 2, figsize=(16, 5))\n",
    "\n",
    "\t  # Create a histogram for the surf plan\n",
    "\t  sns.distplot(... ax=axes[0])\n",
    "\t  # Create a histogram for the second plan\n",
    "\t  sns.distplot(... ax=axes[0])\n",
    "\t\n",
    "\t  # Create a boxplot for both plans\n",
    "\t  sns.boxplot(... ax=axes[1])\n",
    "```"
   ]
  },
  {
   "cell_type": "markdown",
   "metadata": {},
   "source": [
    "## Test statistical hypotheses"
   ]
  },
  {
   "cell_type": "markdown",
   "metadata": {},
   "source": [
    "[Test the hypothesis that the average revenue from users of the Ultimate and Surf calling plans differs.]"
   ]
  },
  {
   "cell_type": "markdown",
   "metadata": {},
   "source": [
    "[Formulate the null and the alternative hypotheses, choose the statistical test, decide on the alpha value.]"
   ]
  },
  {
   "cell_type": "code",
   "execution_count": 45,
   "metadata": {},
   "outputs": [
    {
     "name": "stdout",
     "output_type": "stream",
     "text": [
      "p-value: 1.816970126494534e-26\n",
      "\n",
      "We can reject the null hypothesis: The data suggests that there is a statistically significant difference between revenue from the Surf and Ultimate Plans in 2018.\n"
     ]
    }
   ],
   "source": [
    "# Test the hypotheses\n",
    "# Null hypothesis = The average revenue from Surf and Ultimate Plans is equal.\n",
    "# Alternative hypothesis = The average revenue from Surf and Ultimate Plans differs.\n",
    "# Alpha = 0.05\n",
    "# We will use a two-tailed test since we are testing for \"difference,\" not \"higher/lower.\"\n",
    "# We are comparing two data sets, therefore we will use st.ttest_ind\n",
    "alpha_plans = 0.05\n",
    "result_plans = st.ttest_ind(revenue_surf['monthly_revenue'], revenue_ultimate['monthly_revenue'])\n",
    "print(f'p-value: {result_plans.pvalue}')\n",
    "print()\n",
    "if result_plans.pvalue < alpha_plans:\n",
    "    print('We can reject the null hypothesis: The data suggests that there is a statistically significant difference between revenue from the Surf and Ultimate Plans in 2018.')\n",
    "else:\n",
    "    print('We cannot reject the null hypothesis: The data suggests that there is not a statistically significant difference between revenue from the Surf and Ultimate Plans in 2018.')"
   ]
  },
  {
   "cell_type": "markdown",
   "metadata": {},
   "source": [
    "[Test the hypothesis that the average revenue from users in the NY-NJ area is different from that of the users from the other regions.]"
   ]
  },
  {
   "cell_type": "markdown",
   "metadata": {},
   "source": [
    "[Formulate the null and the alternative hypotheses, choose the statistical test, decide on the alpha value.]"
   ]
  },
  {
   "cell_type": "code",
   "execution_count": 46,
   "metadata": {},
   "outputs": [
    {
     "name": "stdout",
     "output_type": "stream",
     "text": [
      "<class 'pandas.core.frame.DataFrame'>\n",
      "Int64Index: 2293 entries, 0 to 2292\n",
      "Data columns (total 18 columns):\n",
      " #   Column                 Non-Null Count  Dtype  \n",
      "---  ------                 --------------  -----  \n",
      " 0   user_id                2293 non-null   int64  \n",
      " 1   month                  2293 non-null   int64  \n",
      " 2   call_number            2293 non-null   float64\n",
      " 3   call_minutes           2293 non-null   float64\n",
      " 4   message_number         2293 non-null   float64\n",
      " 5   internet_traffic_mb    2293 non-null   float64\n",
      " 6   rounded_gb             2293 non-null   int64  \n",
      " 7   plan                   2293 non-null   object \n",
      " 8   plan_name              2293 non-null   object \n",
      " 9   messages_included      2293 non-null   int64  \n",
      " 10  mb_per_month_included  2293 non-null   int64  \n",
      " 11  minutes_included       2293 non-null   int64  \n",
      " 12  usd_monthly_pay        2293 non-null   int64  \n",
      " 13  usd_per_gb             2293 non-null   int64  \n",
      " 14  usd_per_message        2293 non-null   float64\n",
      " 15  usd_per_minute         2293 non-null   float64\n",
      " 16  monthly_revenue        2293 non-null   float64\n",
      " 17  city                   2293 non-null   object \n",
      "dtypes: float64(7), int64(8), object(3)\n",
      "memory usage: 340.4+ KB\n",
      "<class 'pandas.core.frame.DataFrame'>\n",
      "Int64Index: 377 entries, 9 to 2291\n",
      "Data columns (total 18 columns):\n",
      " #   Column                 Non-Null Count  Dtype  \n",
      "---  ------                 --------------  -----  \n",
      " 0   user_id                377 non-null    int64  \n",
      " 1   month                  377 non-null    int64  \n",
      " 2   call_number            377 non-null    float64\n",
      " 3   call_minutes           377 non-null    float64\n",
      " 4   message_number         377 non-null    float64\n",
      " 5   internet_traffic_mb    377 non-null    float64\n",
      " 6   rounded_gb             377 non-null    int64  \n",
      " 7   plan                   377 non-null    object \n",
      " 8   plan_name              377 non-null    object \n",
      " 9   messages_included      377 non-null    int64  \n",
      " 10  mb_per_month_included  377 non-null    int64  \n",
      " 11  minutes_included       377 non-null    int64  \n",
      " 12  usd_monthly_pay        377 non-null    int64  \n",
      " 13  usd_per_gb             377 non-null    int64  \n",
      " 14  usd_per_message        377 non-null    float64\n",
      " 15  usd_per_minute         377 non-null    float64\n",
      " 16  monthly_revenue        377 non-null    float64\n",
      " 17  city                   377 non-null    object \n",
      "dtypes: float64(7), int64(8), object(3)\n",
      "memory usage: 56.0+ KB\n",
      "<class 'pandas.core.frame.DataFrame'>\n",
      "Int64Index: 1916 entries, 0 to 2292\n",
      "Data columns (total 18 columns):\n",
      " #   Column                 Non-Null Count  Dtype  \n",
      "---  ------                 --------------  -----  \n",
      " 0   user_id                1916 non-null   int64  \n",
      " 1   month                  1916 non-null   int64  \n",
      " 2   call_number            1916 non-null   float64\n",
      " 3   call_minutes           1916 non-null   float64\n",
      " 4   message_number         1916 non-null   float64\n",
      " 5   internet_traffic_mb    1916 non-null   float64\n",
      " 6   rounded_gb             1916 non-null   int64  \n",
      " 7   plan                   1916 non-null   object \n",
      " 8   plan_name              1916 non-null   object \n",
      " 9   messages_included      1916 non-null   int64  \n",
      " 10  mb_per_month_included  1916 non-null   int64  \n",
      " 11  minutes_included       1916 non-null   int64  \n",
      " 12  usd_monthly_pay        1916 non-null   int64  \n",
      " 13  usd_per_gb             1916 non-null   int64  \n",
      " 14  usd_per_message        1916 non-null   float64\n",
      " 15  usd_per_minute         1916 non-null   float64\n",
      " 16  monthly_revenue        1916 non-null   float64\n",
      " 17  city                   1916 non-null   object \n",
      "dtypes: float64(7), int64(8), object(3)\n",
      "memory usage: 284.4+ KB\n",
      "\n",
      "p-value: 0.29899013433117055\n",
      "\n",
      "We cannot reject the null hypothesis: The data suggests that there is not a statistically significant difference between revenue from users in the NY-NJ region and those in the rest of the US in 2018.\n"
     ]
    }
   ],
   "source": [
    "# Create dataframe with user ID and city\n",
    "users_with_city = users[['user_id', 'city']]\n",
    "\n",
    "# Merge user city information with aggregated usage data\n",
    "aggregate_data = aggregate_data.merge(users_with_city, on='user_id', how='left')\n",
    "\n",
    "# Check updated aggregate dataframe\n",
    "aggregate_data.info()\n",
    "\n",
    "# Query for only users residing in NY-NJ-PA region and check filtered dataframe\n",
    "aggregate_data_ny_nj = aggregate_data.query(\"city == 'New York-Newark-Jersey City, NY-NJ-PA MSA'\") \n",
    "aggregate_data_ny_nj.info()\n",
    "\n",
    "# Query for only users NOT residing in NY-NJ-PA region and check filtered dataframe\n",
    "aggregate_data_not_ny_nj = aggregate_data.query(\"city != 'New York-Newark-Jersey City, NY-NJ-PA MSA'\") \n",
    "aggregate_data_not_ny_nj.info()\n",
    "\n",
    "# Test the hypotheses\n",
    "# Null hypothesis = The average revenue from users in the NY-NJ region is equal to those in the rest of the US.\n",
    "# Alternative hypothesis = The average revenue from users in the NY-NJ region is different than from the rest of the US.\n",
    "# Alpha = 0.05\n",
    "# We will use a two-tailed test since we are testing for \"difference,\" not \"higher/lower.\"\n",
    "# We are comparing two data sets, therefore we will use st.ttest_ind\n",
    "alpha_region = 0.05\n",
    "result_region = st.ttest_ind(aggregate_data_ny_nj['monthly_revenue'], aggregate_data_not_ny_nj['monthly_revenue'])\n",
    "print()\n",
    "print(f'p-value: {result_region.pvalue}')\n",
    "print()\n",
    "if result_region.pvalue < alpha_region:\n",
    "    print('We can reject the null hypothesis: The data suggests that there is a statistically significant difference between revenue from users in the NY-NJ region and those in the rest of the US in 2018.')\n",
    "else:\n",
    "    print('We cannot reject the null hypothesis: The data suggests that there is not a statistically significant difference between revenue from users in the NY-NJ region and those in the rest of the US in 2018.')"
   ]
  },
  {
   "cell_type": "markdown",
   "metadata": {},
   "source": [
    "<div class=\"alert alert-success\">\n",
    "<b>Reviewer's comment v1:</b>\n",
    "    \n",
    "- Everything is correct here. Hypotheses have been formulated correctly. \n",
    "- Your conclusions based on the results are also correct.\n",
    "- You can also additionally compare the variances of the samples before testing hypotheses in order to understand with which equal_var parameter to use the ttest_ind test method (by default, True). Here you can manually calculate variances, or use Levene's statistic test (https://docs.scipy.org/doc/scipy/reference/generated/scipy.stats.levene.html) or Barlett's test (https: //docs.scipy .org / doc / scipy / reference / generated / scipy.stats.bartlett.html # scipy.stats.bartlett)\n",
    "    "
   ]
  },
  {
   "cell_type": "markdown",
   "metadata": {},
   "source": [
    "## General conclusion"
   ]
  },
  {
   "cell_type": "markdown",
   "metadata": {},
   "source": [
    "The data suggests that there is a statistically significant difference between revenue from the Surf and Ultimate Plans in 2018 (α = 5%). The average monthly revenue per user enrolled in the Surf Plan in 2018 was $60.71, while that of the Ultimate Plan was $35.65.\n",
    "\n",
    "The most likely explanation for this difference stems from the observation that there doesn't appear to be much of a difference in average call duration (x̄ = 7.16, 7.08), messaging count (x̄ = 31.16, 37.55), or internet usage (GB) (x̄ = 16.67, 17.31) behaviors between users of the two plans. Therefore, the Surf Plan has higher revenue because a larger share of usage is being billed at the higher rate (above the scope of the plan) whereas the Ultimate Plan is providing a discount for these included services.\n",
    "\n",
    "The overall recommendation of this report is that, barring any changes to the plan details themselves, the majority of the marketing budget should be directed towards promoting the Surf Plan. \n",
    "\n",
    "In the future, additional studies could be done to assess the popularity of the two plans with users. Of the data set used in this report, 67.8% of users are enrolled in the Surf Plan. It would be helpful to assess if this sample is representative of the total population of Megaline customers to ensure that any conclusions drawn apply to the entire United States customer base.\n",
    " \n",
    "Additionally, the data suggests that there is not a statistically significant difference between revenue from users in the NY-NJ region and those in the rest of the US in 2018 (α = 5%). Studies such as this are helpful to determine if any shifts in marketing strategy are required based on local market competition."
   ]
  },
  {
   "cell_type": "markdown",
   "metadata": {},
   "source": [
    "<div class=\"alert alert-success\" role=\"alert\">\n",
    "<b>Reviewer's comment v1:</b>\n",
    "    \n",
    "- Overall you conducted great research with correct interim findings, clean code and nice visualisation.\n",
    "- I also like your overall conclusions. It is very structured and provides insights about what you accomplished and recommendations to the business.\n",
    "    "
   ]
  },
  {
   "cell_type": "markdown",
   "metadata": {},
   "source": [
    "Updated statistical values/conclusions based on changing missing values to 0 above."
   ]
  }
 ],
 "metadata": {
  "ExecuteTimeLog": [
   {
    "duration": 828,
    "start_time": "2021-11-16T09:21:11.304Z"
   },
   {
    "duration": 893,
    "start_time": "2021-11-16T09:21:17.728Z"
   },
   {
    "duration": 1150,
    "start_time": "2021-11-16T09:21:29.568Z"
   },
   {
    "duration": 3,
    "start_time": "2021-11-16T09:24:14.495Z"
   },
   {
    "duration": 120,
    "start_time": "2021-11-16T09:24:46.630Z"
   },
   {
    "duration": 3,
    "start_time": "2021-11-16T09:28:27.882Z"
   },
   {
    "duration": 4,
    "start_time": "2021-11-16T09:29:54.281Z"
   },
   {
    "duration": 3,
    "start_time": "2021-11-16T09:30:45.936Z"
   },
   {
    "duration": 4,
    "start_time": "2021-11-16T09:31:06.300Z"
   },
   {
    "duration": 113,
    "start_time": "2021-11-16T09:31:37.208Z"
   },
   {
    "duration": 143,
    "start_time": "2021-11-16T09:31:48.656Z"
   },
   {
    "duration": 98,
    "start_time": "2021-11-16T09:31:55.678Z"
   },
   {
    "duration": 3,
    "start_time": "2021-11-16T09:32:08.535Z"
   },
   {
    "duration": 111,
    "start_time": "2021-11-16T09:32:10.120Z"
   },
   {
    "duration": 3,
    "start_time": "2021-11-16T09:32:15.732Z"
   },
   {
    "duration": 4,
    "start_time": "2021-11-16T09:32:29.423Z"
   },
   {
    "duration": 3,
    "start_time": "2021-11-16T10:03:03.074Z"
   },
   {
    "duration": 3,
    "start_time": "2021-11-16T10:10:01.288Z"
   },
   {
    "duration": 3,
    "start_time": "2021-11-16T10:10:46.923Z"
   },
   {
    "duration": 121,
    "start_time": "2021-11-16T10:37:46.494Z"
   },
   {
    "duration": 125,
    "start_time": "2021-11-16T10:38:20.632Z"
   },
   {
    "duration": 112,
    "start_time": "2021-11-16T10:46:53.001Z"
   },
   {
    "duration": 110,
    "start_time": "2021-11-16T10:48:25.775Z"
   },
   {
    "duration": 3,
    "start_time": "2021-11-16T10:50:18.720Z"
   },
   {
    "duration": 4,
    "start_time": "2021-11-16T10:50:37.649Z"
   },
   {
    "duration": 2,
    "start_time": "2021-11-16T10:50:51.884Z"
   },
   {
    "duration": 3,
    "start_time": "2021-11-16T10:51:56.237Z"
   },
   {
    "duration": 101,
    "start_time": "2021-11-16T10:53:13.791Z"
   },
   {
    "duration": 3,
    "start_time": "2021-11-16T10:55:59.186Z"
   },
   {
    "duration": 3,
    "start_time": "2021-11-16T10:56:10.751Z"
   },
   {
    "duration": 3,
    "start_time": "2021-11-16T10:56:49.038Z"
   },
   {
    "duration": 3,
    "start_time": "2021-11-16T10:56:49.174Z"
   },
   {
    "duration": 4,
    "start_time": "2021-11-16T10:56:49.414Z"
   },
   {
    "duration": 3,
    "start_time": "2021-11-16T10:56:49.680Z"
   },
   {
    "duration": 3,
    "start_time": "2021-11-16T10:56:50.370Z"
   },
   {
    "duration": 114,
    "start_time": "2021-11-16T10:59:34.518Z"
   },
   {
    "duration": 3,
    "start_time": "2021-11-16T11:01:41.201Z"
   },
   {
    "duration": 116,
    "start_time": "2021-11-16T11:01:48.754Z"
   },
   {
    "duration": 3,
    "start_time": "2021-11-16T11:02:16.685Z"
   },
   {
    "duration": 3,
    "start_time": "2021-11-16T11:02:19.479Z"
   },
   {
    "duration": 3,
    "start_time": "2021-11-16T11:02:47.067Z"
   },
   {
    "duration": 3,
    "start_time": "2021-11-16T11:02:49.353Z"
   },
   {
    "duration": 3,
    "start_time": "2021-11-16T11:03:07.835Z"
   },
   {
    "duration": 3,
    "start_time": "2021-11-16T11:03:07.953Z"
   },
   {
    "duration": 112,
    "start_time": "2021-11-16T11:07:52.072Z"
   },
   {
    "duration": 187,
    "start_time": "2021-11-16T11:09:23.468Z"
   },
   {
    "duration": 4,
    "start_time": "2021-11-16T11:10:01.455Z"
   },
   {
    "duration": 3,
    "start_time": "2021-11-16T11:10:05.069Z"
   },
   {
    "duration": 4,
    "start_time": "2021-11-16T11:10:13.376Z"
   },
   {
    "duration": 3,
    "start_time": "2021-11-16T11:10:14.434Z"
   },
   {
    "duration": 3,
    "start_time": "2021-11-16T11:10:22.853Z"
   },
   {
    "duration": 4,
    "start_time": "2021-11-16T11:27:29.279Z"
   },
   {
    "duration": 4,
    "start_time": "2021-11-16T11:29:08.919Z"
   },
   {
    "duration": 118,
    "start_time": "2021-11-16T11:29:46.703Z"
   },
   {
    "duration": 437,
    "start_time": "2021-11-16T11:36:02.181Z"
   },
   {
    "duration": 157,
    "start_time": "2021-11-16T11:36:14.388Z"
   },
   {
    "duration": 207,
    "start_time": "2021-11-16T11:47:15.898Z"
   },
   {
    "duration": 3,
    "start_time": "2021-11-16T11:53:52.092Z"
   },
   {
    "duration": 3,
    "start_time": "2021-11-16T11:53:52.236Z"
   },
   {
    "duration": 3,
    "start_time": "2021-11-16T11:59:12.005Z"
   },
   {
    "duration": 112,
    "start_time": "2021-11-16T12:00:33.446Z"
   },
   {
    "duration": 3,
    "start_time": "2021-11-16T12:02:14.453Z"
   },
   {
    "duration": 3,
    "start_time": "2021-11-16T12:02:39.512Z"
   },
   {
    "duration": 106,
    "start_time": "2021-11-16T12:03:03.460Z"
   },
   {
    "duration": 3,
    "start_time": "2021-11-17T20:37:21.139Z"
   },
   {
    "duration": 3,
    "start_time": "2021-11-17T20:37:22.229Z"
   },
   {
    "duration": 3,
    "start_time": "2021-11-17T20:38:38.806Z"
   },
   {
    "duration": 3,
    "start_time": "2021-11-17T20:38:41.958Z"
   },
   {
    "duration": 3,
    "start_time": "2021-11-17T20:43:46.551Z"
   },
   {
    "duration": 4,
    "start_time": "2021-11-17T20:58:21.835Z"
   },
   {
    "duration": 3,
    "start_time": "2021-11-17T20:59:21.872Z"
   },
   {
    "duration": 4,
    "start_time": "2021-11-17T20:59:45.352Z"
   },
   {
    "duration": 4,
    "start_time": "2021-11-17T20:59:49.646Z"
   },
   {
    "duration": 159,
    "start_time": "2021-11-17T21:02:26.949Z"
   },
   {
    "duration": 3,
    "start_time": "2021-11-17T21:03:53.461Z"
   },
   {
    "duration": 3,
    "start_time": "2021-11-17T21:03:53.694Z"
   },
   {
    "duration": 3,
    "start_time": "2021-11-17T21:05:28.145Z"
   },
   {
    "duration": 116,
    "start_time": "2021-11-17T21:05:57.787Z"
   },
   {
    "duration": 3,
    "start_time": "2021-11-17T21:06:37.993Z"
   },
   {
    "duration": 3,
    "start_time": "2021-11-17T21:06:38.261Z"
   },
   {
    "duration": 3,
    "start_time": "2021-11-17T21:11:54.358Z"
   },
   {
    "duration": 3,
    "start_time": "2021-11-17T21:12:43.846Z"
   },
   {
    "duration": 4,
    "start_time": "2021-11-17T21:13:08.773Z"
   },
   {
    "duration": 3,
    "start_time": "2021-11-17T21:14:44.441Z"
   },
   {
    "duration": 3,
    "start_time": "2021-11-17T21:15:42.059Z"
   },
   {
    "duration": 4,
    "start_time": "2021-11-17T21:15:51.995Z"
   },
   {
    "duration": 3,
    "start_time": "2021-11-17T21:15:53.923Z"
   },
   {
    "duration": 3,
    "start_time": "2021-11-17T21:15:55.282Z"
   },
   {
    "duration": 3,
    "start_time": "2021-11-17T21:16:28.492Z"
   },
   {
    "duration": 3,
    "start_time": "2021-11-17T21:16:32.603Z"
   },
   {
    "duration": 3,
    "start_time": "2021-11-17T21:17:06.941Z"
   },
   {
    "duration": 98,
    "start_time": "2021-11-17T21:18:05.733Z"
   },
   {
    "duration": 4,
    "start_time": "2021-11-17T21:21:35.255Z"
   },
   {
    "duration": 3,
    "start_time": "2021-11-17T21:21:37.804Z"
   },
   {
    "duration": 4,
    "start_time": "2021-11-17T21:23:06.071Z"
   },
   {
    "duration": 3,
    "start_time": "2021-11-17T21:23:24.799Z"
   },
   {
    "duration": 3,
    "start_time": "2021-11-17T21:23:32.591Z"
   },
   {
    "duration": 98,
    "start_time": "2021-11-17T21:28:31.559Z"
   },
   {
    "duration": 3,
    "start_time": "2021-11-17T21:28:45.448Z"
   },
   {
    "duration": 3,
    "start_time": "2021-11-17T21:29:17.303Z"
   },
   {
    "duration": 3,
    "start_time": "2021-11-17T21:29:29.617Z"
   },
   {
    "duration": 3,
    "start_time": "2021-11-17T21:29:32.681Z"
   },
   {
    "duration": 3,
    "start_time": "2021-11-17T21:36:11.474Z"
   },
   {
    "duration": 3,
    "start_time": "2021-11-17T21:36:14.791Z"
   },
   {
    "duration": 3,
    "start_time": "2021-11-17T21:36:53.943Z"
   },
   {
    "duration": 3,
    "start_time": "2021-11-17T21:36:56.165Z"
   },
   {
    "duration": 4,
    "start_time": "2021-11-17T21:37:16.590Z"
   },
   {
    "duration": 3,
    "start_time": "2021-11-17T21:37:22.702Z"
   },
   {
    "duration": 4,
    "start_time": "2021-11-17T21:38:03.479Z"
   },
   {
    "duration": 3,
    "start_time": "2021-11-17T21:38:08.601Z"
   },
   {
    "duration": 3,
    "start_time": "2021-11-17T21:38:12.928Z"
   },
   {
    "duration": 3,
    "start_time": "2021-11-17T21:38:48.896Z"
   },
   {
    "duration": 2,
    "start_time": "2021-11-17T21:38:49.171Z"
   },
   {
    "duration": 4,
    "start_time": "2021-11-17T21:39:57.889Z"
   },
   {
    "duration": 3,
    "start_time": "2021-11-17T21:39:58.057Z"
   },
   {
    "duration": 3,
    "start_time": "2021-11-17T21:41:20.108Z"
   },
   {
    "duration": 3,
    "start_time": "2021-11-17T21:41:20.629Z"
   },
   {
    "duration": 3,
    "start_time": "2021-11-17T21:42:49.136Z"
   },
   {
    "duration": 3,
    "start_time": "2021-11-17T21:43:15.137Z"
   },
   {
    "duration": 4,
    "start_time": "2021-11-17T21:43:16.766Z"
   },
   {
    "duration": 4,
    "start_time": "2021-11-17T21:43:31.711Z"
   },
   {
    "duration": 3,
    "start_time": "2021-11-17T21:43:36.312Z"
   },
   {
    "duration": 4,
    "start_time": "2021-11-17T21:45:08.825Z"
   },
   {
    "duration": 4,
    "start_time": "2021-11-17T21:45:10.119Z"
   },
   {
    "duration": 4,
    "start_time": "2021-11-17T21:45:13.748Z"
   },
   {
    "duration": 3,
    "start_time": "2021-11-17T21:45:22.219Z"
   },
   {
    "duration": 3,
    "start_time": "2021-11-17T21:45:33.412Z"
   },
   {
    "duration": 2,
    "start_time": "2021-11-17T21:46:01.885Z"
   },
   {
    "duration": 3,
    "start_time": "2021-11-17T21:46:03.628Z"
   },
   {
    "duration": 107,
    "start_time": "2021-11-17T21:47:32.512Z"
   },
   {
    "duration": 103,
    "start_time": "2021-11-17T21:50:36.243Z"
   },
   {
    "duration": 3,
    "start_time": "2021-11-18T06:28:31.440Z"
   },
   {
    "duration": 3,
    "start_time": "2021-11-18T06:29:00.168Z"
   },
   {
    "duration": 3,
    "start_time": "2021-11-18T06:31:27.008Z"
   },
   {
    "duration": 2,
    "start_time": "2021-11-18T06:35:34.288Z"
   },
   {
    "duration": 2,
    "start_time": "2021-11-18T06:38:04.527Z"
   },
   {
    "duration": 2510,
    "start_time": "2024-09-02T16:52:34.875Z"
   },
   {
    "duration": 251,
    "start_time": "2024-09-02T16:52:37.387Z"
   },
   {
    "duration": 41,
    "start_time": "2024-09-02T16:52:39.276Z"
   },
   {
    "duration": 11,
    "start_time": "2024-09-02T16:53:08.415Z"
   },
   {
    "duration": 2485,
    "start_time": "2024-09-07T19:40:42.382Z"
   },
   {
    "duration": 254,
    "start_time": "2024-09-07T19:40:44.870Z"
   },
   {
    "duration": 10,
    "start_time": "2024-09-07T19:40:45.125Z"
   },
   {
    "duration": 9,
    "start_time": "2024-09-07T19:40:45.138Z"
   },
   {
    "duration": 2,
    "start_time": "2024-09-07T19:40:45.148Z"
   },
   {
    "duration": 8,
    "start_time": "2024-09-07T19:40:45.152Z"
   },
   {
    "duration": 7,
    "start_time": "2024-09-07T19:40:45.162Z"
   },
   {
    "duration": 38,
    "start_time": "2024-09-07T19:40:45.171Z"
   },
   {
    "duration": 17,
    "start_time": "2024-09-07T19:40:45.210Z"
   },
   {
    "duration": 8,
    "start_time": "2024-09-07T19:40:45.231Z"
   },
   {
    "duration": 4,
    "start_time": "2024-09-07T19:40:45.241Z"
   },
   {
    "duration": 14,
    "start_time": "2024-09-07T19:40:45.246Z"
   },
   {
    "duration": 8,
    "start_time": "2024-09-07T19:40:45.262Z"
   },
   {
    "duration": 2,
    "start_time": "2024-09-07T19:40:45.273Z"
   },
   {
    "duration": 16,
    "start_time": "2024-09-07T19:40:45.308Z"
   },
   {
    "duration": 8,
    "start_time": "2024-09-07T19:40:45.325Z"
   },
   {
    "duration": 6,
    "start_time": "2024-09-07T19:40:45.335Z"
   },
   {
    "duration": 3,
    "start_time": "2024-09-07T19:40:45.343Z"
   },
   {
    "duration": 3,
    "start_time": "2024-09-07T19:40:45.347Z"
   },
   {
    "duration": 3,
    "start_time": "2024-09-07T19:40:45.351Z"
   },
   {
    "duration": 3,
    "start_time": "2024-09-07T19:40:45.356Z"
   },
   {
    "duration": 2,
    "start_time": "2024-09-07T19:40:45.361Z"
   },
   {
    "duration": 44,
    "start_time": "2024-09-07T19:40:45.365Z"
   },
   {
    "duration": 3,
    "start_time": "2024-09-07T19:40:45.411Z"
   },
   {
    "duration": 3,
    "start_time": "2024-09-07T19:40:45.415Z"
   },
   {
    "duration": 2,
    "start_time": "2024-09-07T19:40:45.420Z"
   },
   {
    "duration": 3,
    "start_time": "2024-09-07T19:40:45.424Z"
   },
   {
    "duration": 2,
    "start_time": "2024-09-07T19:40:45.430Z"
   },
   {
    "duration": 2,
    "start_time": "2024-09-07T19:40:45.434Z"
   },
   {
    "duration": 3,
    "start_time": "2024-09-07T19:40:45.438Z"
   },
   {
    "duration": 3,
    "start_time": "2024-09-07T19:40:45.442Z"
   },
   {
    "duration": 4,
    "start_time": "2024-09-07T19:40:45.446Z"
   },
   {
    "duration": 211,
    "start_time": "2024-09-07T19:54:55.092Z"
   },
   {
    "duration": 14,
    "start_time": "2024-09-07T19:55:24.478Z"
   },
   {
    "duration": 14,
    "start_time": "2024-09-07T19:55:33.282Z"
   },
   {
    "duration": 16,
    "start_time": "2024-09-07T19:57:24.782Z"
   },
   {
    "duration": 15,
    "start_time": "2024-09-07T19:58:04.870Z"
   },
   {
    "duration": 15,
    "start_time": "2024-09-07T19:58:42.123Z"
   },
   {
    "duration": 21,
    "start_time": "2024-09-07T19:59:51.912Z"
   },
   {
    "duration": 138,
    "start_time": "2024-09-07T20:00:00.994Z"
   },
   {
    "duration": 20,
    "start_time": "2024-09-07T20:00:04.584Z"
   },
   {
    "duration": 21,
    "start_time": "2024-09-07T20:00:41.906Z"
   },
   {
    "duration": 779,
    "start_time": "2024-09-07T20:00:58.332Z"
   },
   {
    "duration": 160,
    "start_time": "2024-09-07T20:00:59.114Z"
   },
   {
    "duration": 10,
    "start_time": "2024-09-07T20:00:59.275Z"
   },
   {
    "duration": 9,
    "start_time": "2024-09-07T20:00:59.287Z"
   },
   {
    "duration": 2,
    "start_time": "2024-09-07T20:00:59.308Z"
   },
   {
    "duration": 3,
    "start_time": "2024-09-07T20:00:59.311Z"
   },
   {
    "duration": 10,
    "start_time": "2024-09-07T20:00:59.316Z"
   },
   {
    "duration": 7,
    "start_time": "2024-09-07T20:00:59.328Z"
   },
   {
    "duration": 2,
    "start_time": "2024-09-07T20:00:59.337Z"
   },
   {
    "duration": 14,
    "start_time": "2024-09-07T20:00:59.341Z"
   },
   {
    "duration": 11,
    "start_time": "2024-09-07T20:00:59.357Z"
   },
   {
    "duration": 41,
    "start_time": "2024-09-07T20:00:59.370Z"
   },
   {
    "duration": 11,
    "start_time": "2024-09-07T20:00:59.414Z"
   },
   {
    "duration": 7,
    "start_time": "2024-09-07T20:00:59.428Z"
   },
   {
    "duration": 3,
    "start_time": "2024-09-07T20:00:59.436Z"
   },
   {
    "duration": 13,
    "start_time": "2024-09-07T20:00:59.441Z"
   },
   {
    "duration": 8,
    "start_time": "2024-09-07T20:00:59.455Z"
   },
   {
    "duration": 2,
    "start_time": "2024-09-07T20:00:59.465Z"
   },
   {
    "duration": 3,
    "start_time": "2024-09-07T20:00:59.469Z"
   },
   {
    "duration": 7,
    "start_time": "2024-09-07T20:00:59.510Z"
   },
   {
    "duration": 3,
    "start_time": "2024-09-07T20:00:59.518Z"
   },
   {
    "duration": 3,
    "start_time": "2024-09-07T20:00:59.522Z"
   },
   {
    "duration": 2,
    "start_time": "2024-09-07T20:00:59.527Z"
   },
   {
    "duration": 3,
    "start_time": "2024-09-07T20:00:59.531Z"
   },
   {
    "duration": 4,
    "start_time": "2024-09-07T20:00:59.535Z"
   },
   {
    "duration": 3,
    "start_time": "2024-09-07T20:00:59.540Z"
   },
   {
    "duration": 2,
    "start_time": "2024-09-07T20:00:59.545Z"
   },
   {
    "duration": 3,
    "start_time": "2024-09-07T20:00:59.549Z"
   },
   {
    "duration": 2,
    "start_time": "2024-09-07T20:00:59.554Z"
   },
   {
    "duration": 3,
    "start_time": "2024-09-07T20:00:59.558Z"
   },
   {
    "duration": 3,
    "start_time": "2024-09-07T20:00:59.608Z"
   },
   {
    "duration": 2,
    "start_time": "2024-09-07T20:00:59.613Z"
   },
   {
    "duration": 3,
    "start_time": "2024-09-07T20:00:59.617Z"
   },
   {
    "duration": 3,
    "start_time": "2024-09-07T20:00:59.621Z"
   },
   {
    "duration": 3,
    "start_time": "2024-09-07T20:00:59.625Z"
   },
   {
    "duration": 20,
    "start_time": "2024-09-07T20:01:13.002Z"
   },
   {
    "duration": 26,
    "start_time": "2024-09-07T20:01:20.035Z"
   },
   {
    "duration": 9,
    "start_time": "2024-09-07T20:01:32.206Z"
   },
   {
    "duration": 27,
    "start_time": "2024-09-07T20:01:35.256Z"
   },
   {
    "duration": 24,
    "start_time": "2024-09-07T20:01:46.452Z"
   },
   {
    "duration": 18,
    "start_time": "2024-09-07T20:01:58.237Z"
   },
   {
    "duration": 21,
    "start_time": "2024-09-07T20:02:06.641Z"
   },
   {
    "duration": 666,
    "start_time": "2024-09-07T20:02:43.453Z"
   },
   {
    "duration": 17,
    "start_time": "2024-09-07T20:02:56.901Z"
   },
   {
    "duration": 21,
    "start_time": "2024-09-07T20:03:36.542Z"
   },
   {
    "duration": 18,
    "start_time": "2024-09-07T20:04:19.373Z"
   },
   {
    "duration": 19,
    "start_time": "2024-09-07T20:04:43.659Z"
   },
   {
    "duration": 16,
    "start_time": "2024-09-07T20:04:56.958Z"
   },
   {
    "duration": 12,
    "start_time": "2024-09-07T20:06:07.611Z"
   },
   {
    "duration": 14,
    "start_time": "2024-09-07T20:06:20.929Z"
   },
   {
    "duration": 15,
    "start_time": "2024-09-07T20:06:29.445Z"
   },
   {
    "duration": 16,
    "start_time": "2024-09-07T20:06:42.342Z"
   },
   {
    "duration": 12,
    "start_time": "2024-09-07T20:06:45.522Z"
   },
   {
    "duration": 19,
    "start_time": "2024-09-07T20:06:55.529Z"
   },
   {
    "duration": 17,
    "start_time": "2024-09-07T20:07:06.932Z"
   },
   {
    "duration": 16,
    "start_time": "2024-09-07T20:07:12.424Z"
   },
   {
    "duration": 13,
    "start_time": "2024-09-07T20:07:18.176Z"
   },
   {
    "duration": 20,
    "start_time": "2024-09-07T20:07:27.562Z"
   },
   {
    "duration": 16,
    "start_time": "2024-09-07T20:07:33.436Z"
   },
   {
    "duration": 20,
    "start_time": "2024-09-07T20:07:38.696Z"
   },
   {
    "duration": 6,
    "start_time": "2024-09-07T20:12:19.872Z"
   },
   {
    "duration": 7,
    "start_time": "2024-09-07T20:12:31.342Z"
   },
   {
    "duration": 7,
    "start_time": "2024-09-07T20:12:34.096Z"
   },
   {
    "duration": 15,
    "start_time": "2024-09-07T20:16:02.760Z"
   },
   {
    "duration": 6,
    "start_time": "2024-09-07T20:16:06.888Z"
   },
   {
    "duration": 14,
    "start_time": "2024-09-07T20:16:56.750Z"
   },
   {
    "duration": 15,
    "start_time": "2024-09-07T20:17:04.662Z"
   },
   {
    "duration": 7,
    "start_time": "2024-09-07T20:17:18.620Z"
   },
   {
    "duration": 12,
    "start_time": "2024-09-07T20:19:02.542Z"
   },
   {
    "duration": 11,
    "start_time": "2024-09-07T20:19:21.600Z"
   },
   {
    "duration": 9,
    "start_time": "2024-09-07T20:21:10.121Z"
   },
   {
    "duration": 8,
    "start_time": "2024-09-07T20:21:38.972Z"
   },
   {
    "duration": 7,
    "start_time": "2024-09-07T20:23:54.064Z"
   },
   {
    "duration": 8,
    "start_time": "2024-09-07T20:25:39.583Z"
   },
   {
    "duration": 8,
    "start_time": "2024-09-07T20:25:57.743Z"
   },
   {
    "duration": 802,
    "start_time": "2024-09-07T20:26:13.211Z"
   },
   {
    "duration": 168,
    "start_time": "2024-09-07T20:26:14.015Z"
   },
   {
    "duration": 9,
    "start_time": "2024-09-07T20:26:14.186Z"
   },
   {
    "duration": 18,
    "start_time": "2024-09-07T20:26:14.198Z"
   },
   {
    "duration": 2,
    "start_time": "2024-09-07T20:26:14.219Z"
   },
   {
    "duration": 3,
    "start_time": "2024-09-07T20:26:14.223Z"
   },
   {
    "duration": 9,
    "start_time": "2024-09-07T20:26:14.228Z"
   },
   {
    "duration": 8,
    "start_time": "2024-09-07T20:26:14.238Z"
   },
   {
    "duration": 3,
    "start_time": "2024-09-07T20:26:14.248Z"
   },
   {
    "duration": 16,
    "start_time": "2024-09-07T20:26:14.255Z"
   },
   {
    "duration": 11,
    "start_time": "2024-09-07T20:26:14.309Z"
   },
   {
    "duration": 25,
    "start_time": "2024-09-07T20:26:14.322Z"
   },
   {
    "duration": 17,
    "start_time": "2024-09-07T20:26:14.349Z"
   },
   {
    "duration": 12,
    "start_time": "2024-09-07T20:26:14.372Z"
   },
   {
    "duration": 10,
    "start_time": "2024-09-07T20:26:14.410Z"
   },
   {
    "duration": 24,
    "start_time": "2024-09-07T20:26:14.422Z"
   },
   {
    "duration": 19,
    "start_time": "2024-09-07T20:26:14.448Z"
   },
   {
    "duration": 8,
    "start_time": "2024-09-07T20:26:14.468Z"
   },
   {
    "duration": 41,
    "start_time": "2024-09-07T20:26:14.478Z"
   },
   {
    "duration": 31,
    "start_time": "2024-09-07T20:26:14.520Z"
   },
   {
    "duration": 6,
    "start_time": "2024-09-07T20:26:14.553Z"
   },
   {
    "duration": 7,
    "start_time": "2024-09-07T20:26:14.561Z"
   },
   {
    "duration": 39,
    "start_time": "2024-09-07T20:26:14.570Z"
   },
   {
    "duration": 7,
    "start_time": "2024-09-07T20:26:14.611Z"
   },
   {
    "duration": 7,
    "start_time": "2024-09-07T20:26:14.620Z"
   },
   {
    "duration": 2,
    "start_time": "2024-09-07T20:26:14.629Z"
   },
   {
    "duration": 2,
    "start_time": "2024-09-07T20:26:14.633Z"
   },
   {
    "duration": 2,
    "start_time": "2024-09-07T20:26:14.638Z"
   },
   {
    "duration": 3,
    "start_time": "2024-09-07T20:26:14.642Z"
   },
   {
    "duration": 3,
    "start_time": "2024-09-07T20:26:14.647Z"
   },
   {
    "duration": 2,
    "start_time": "2024-09-07T20:26:14.652Z"
   },
   {
    "duration": 3,
    "start_time": "2024-09-07T20:26:14.656Z"
   },
   {
    "duration": 3,
    "start_time": "2024-09-07T20:26:14.660Z"
   },
   {
    "duration": 2,
    "start_time": "2024-09-07T20:26:14.709Z"
   },
   {
    "duration": 2,
    "start_time": "2024-09-07T20:26:14.713Z"
   },
   {
    "duration": 3,
    "start_time": "2024-09-07T20:26:14.717Z"
   },
   {
    "duration": 7,
    "start_time": "2024-09-07T20:26:48.815Z"
   },
   {
    "duration": 8,
    "start_time": "2024-09-07T20:27:04.579Z"
   },
   {
    "duration": 8,
    "start_time": "2024-09-07T20:27:10.953Z"
   },
   {
    "duration": 212,
    "start_time": "2024-09-07T20:33:03.876Z"
   },
   {
    "duration": 278,
    "start_time": "2024-09-07T20:33:41.338Z"
   },
   {
    "duration": 14,
    "start_time": "2024-09-07T20:34:38.041Z"
   },
   {
    "duration": 20,
    "start_time": "2024-09-07T20:35:34.576Z"
   },
   {
    "duration": 4,
    "start_time": "2024-09-07T20:36:40.554Z"
   },
   {
    "duration": 21,
    "start_time": "2024-09-07T20:36:49.990Z"
   },
   {
    "duration": 14,
    "start_time": "2024-09-07T20:37:14.321Z"
   },
   {
    "duration": 20,
    "start_time": "2024-09-07T20:37:34.672Z"
   },
   {
    "duration": 7,
    "start_time": "2024-09-07T20:39:54.832Z"
   },
   {
    "duration": 8,
    "start_time": "2024-09-07T20:40:19.947Z"
   },
   {
    "duration": 718,
    "start_time": "2024-09-07T20:40:54.297Z"
   },
   {
    "duration": 169,
    "start_time": "2024-09-07T20:40:55.018Z"
   },
   {
    "duration": 10,
    "start_time": "2024-09-07T20:40:55.189Z"
   },
   {
    "duration": 16,
    "start_time": "2024-09-07T20:40:55.200Z"
   },
   {
    "duration": 2,
    "start_time": "2024-09-07T20:40:55.218Z"
   },
   {
    "duration": 3,
    "start_time": "2024-09-07T20:40:55.222Z"
   },
   {
    "duration": 9,
    "start_time": "2024-09-07T20:40:55.226Z"
   },
   {
    "duration": 9,
    "start_time": "2024-09-07T20:40:55.236Z"
   },
   {
    "duration": 3,
    "start_time": "2024-09-07T20:40:55.246Z"
   },
   {
    "duration": 17,
    "start_time": "2024-09-07T20:40:55.251Z"
   },
   {
    "duration": 43,
    "start_time": "2024-09-07T20:40:55.271Z"
   },
   {
    "duration": 24,
    "start_time": "2024-09-07T20:40:55.316Z"
   },
   {
    "duration": 12,
    "start_time": "2024-09-07T20:40:55.342Z"
   },
   {
    "duration": 13,
    "start_time": "2024-09-07T20:40:55.358Z"
   },
   {
    "duration": 8,
    "start_time": "2024-09-07T20:40:55.372Z"
   },
   {
    "duration": 17,
    "start_time": "2024-09-07T20:40:55.409Z"
   },
   {
    "duration": 13,
    "start_time": "2024-09-07T20:40:55.428Z"
   },
   {
    "duration": 8,
    "start_time": "2024-09-07T20:40:55.443Z"
   },
   {
    "duration": 21,
    "start_time": "2024-09-07T20:40:55.453Z"
   },
   {
    "duration": 48,
    "start_time": "2024-09-07T20:40:55.476Z"
   },
   {
    "duration": 7,
    "start_time": "2024-09-07T20:40:55.526Z"
   },
   {
    "duration": 6,
    "start_time": "2024-09-07T20:40:55.534Z"
   },
   {
    "duration": 18,
    "start_time": "2024-09-07T20:40:55.542Z"
   },
   {
    "duration": 7,
    "start_time": "2024-09-07T20:40:55.561Z"
   },
   {
    "duration": 40,
    "start_time": "2024-09-07T20:40:55.570Z"
   },
   {
    "duration": 3,
    "start_time": "2024-09-07T20:40:55.611Z"
   },
   {
    "duration": 3,
    "start_time": "2024-09-07T20:40:55.615Z"
   },
   {
    "duration": 2,
    "start_time": "2024-09-07T20:40:55.620Z"
   },
   {
    "duration": 2,
    "start_time": "2024-09-07T20:40:55.624Z"
   },
   {
    "duration": 3,
    "start_time": "2024-09-07T20:40:55.628Z"
   },
   {
    "duration": 2,
    "start_time": "2024-09-07T20:40:55.632Z"
   },
   {
    "duration": 3,
    "start_time": "2024-09-07T20:40:55.636Z"
   },
   {
    "duration": 2,
    "start_time": "2024-09-07T20:40:55.640Z"
   },
   {
    "duration": 3,
    "start_time": "2024-09-07T20:40:55.644Z"
   },
   {
    "duration": 2,
    "start_time": "2024-09-07T20:40:55.649Z"
   },
   {
    "duration": 3,
    "start_time": "2024-09-07T20:40:55.652Z"
   },
   {
    "duration": 8,
    "start_time": "2024-09-07T20:41:03.012Z"
   },
   {
    "duration": 209,
    "start_time": "2024-09-07T20:42:32.531Z"
   },
   {
    "duration": 8,
    "start_time": "2024-09-07T20:43:31.491Z"
   },
   {
    "duration": 7,
    "start_time": "2024-09-07T20:44:09.329Z"
   },
   {
    "duration": 7,
    "start_time": "2024-09-07T20:46:00.848Z"
   },
   {
    "duration": 11,
    "start_time": "2024-09-07T20:46:17.027Z"
   },
   {
    "duration": 3,
    "start_time": "2024-09-07T20:50:19.089Z"
   },
   {
    "duration": 56,
    "start_time": "2024-09-07T20:50:39.673Z"
   },
   {
    "duration": 153,
    "start_time": "2024-09-07T20:51:15.241Z"
   },
   {
    "duration": 7,
    "start_time": "2024-09-07T20:52:18.877Z"
   },
   {
    "duration": 8,
    "start_time": "2024-09-07T20:52:34.087Z"
   },
   {
    "duration": 8,
    "start_time": "2024-09-07T20:56:54.909Z"
   },
   {
    "duration": 10,
    "start_time": "2024-09-07T20:58:45.801Z"
   },
   {
    "duration": 15,
    "start_time": "2024-09-07T20:59:04.998Z"
   },
   {
    "duration": 14,
    "start_time": "2024-09-07T20:59:08.208Z"
   },
   {
    "duration": 13,
    "start_time": "2024-09-07T20:59:11.642Z"
   },
   {
    "duration": 13,
    "start_time": "2024-09-07T21:00:23.086Z"
   },
   {
    "duration": 11,
    "start_time": "2024-09-07T21:00:34.364Z"
   },
   {
    "duration": 130,
    "start_time": "2024-09-07T21:00:39.247Z"
   },
   {
    "duration": 16,
    "start_time": "2024-09-07T21:00:46.522Z"
   },
   {
    "duration": 15,
    "start_time": "2024-09-07T21:01:00.140Z"
   },
   {
    "duration": 19,
    "start_time": "2024-09-07T21:01:13.226Z"
   },
   {
    "duration": 22,
    "start_time": "2024-09-07T21:02:31.643Z"
   },
   {
    "duration": 21,
    "start_time": "2024-09-07T21:02:39.692Z"
   },
   {
    "duration": 22,
    "start_time": "2024-09-07T21:03:36.169Z"
   },
   {
    "duration": 15,
    "start_time": "2024-09-07T21:05:48.230Z"
   },
   {
    "duration": 16,
    "start_time": "2024-09-07T21:07:29.983Z"
   },
   {
    "duration": 26,
    "start_time": "2024-09-07T21:12:22.855Z"
   },
   {
    "duration": 22,
    "start_time": "2024-09-07T21:13:06.084Z"
   },
   {
    "duration": 26,
    "start_time": "2024-09-07T21:13:58.803Z"
   },
   {
    "duration": 16,
    "start_time": "2024-09-07T21:14:39.705Z"
   },
   {
    "duration": 9,
    "start_time": "2024-09-07T21:14:43.696Z"
   },
   {
    "duration": 25,
    "start_time": "2024-09-07T21:14:51.358Z"
   },
   {
    "duration": 23,
    "start_time": "2024-09-07T21:15:24.408Z"
   },
   {
    "duration": 792,
    "start_time": "2024-09-07T21:15:37.512Z"
   },
   {
    "duration": 152,
    "start_time": "2024-09-07T21:15:38.309Z"
   },
   {
    "duration": 9,
    "start_time": "2024-09-07T21:15:38.463Z"
   },
   {
    "duration": 10,
    "start_time": "2024-09-07T21:15:38.475Z"
   },
   {
    "duration": 2,
    "start_time": "2024-09-07T21:15:38.486Z"
   },
   {
    "duration": 19,
    "start_time": "2024-09-07T21:15:38.490Z"
   },
   {
    "duration": 8,
    "start_time": "2024-09-07T21:15:38.511Z"
   },
   {
    "duration": 8,
    "start_time": "2024-09-07T21:15:38.520Z"
   },
   {
    "duration": 2,
    "start_time": "2024-09-07T21:15:38.530Z"
   },
   {
    "duration": 14,
    "start_time": "2024-09-07T21:15:38.536Z"
   },
   {
    "duration": 9,
    "start_time": "2024-09-07T21:15:38.552Z"
   },
   {
    "duration": 61,
    "start_time": "2024-09-07T21:15:38.562Z"
   },
   {
    "duration": 12,
    "start_time": "2024-09-07T21:15:38.625Z"
   },
   {
    "duration": 12,
    "start_time": "2024-09-07T21:15:38.639Z"
   },
   {
    "duration": 8,
    "start_time": "2024-09-07T21:15:38.652Z"
   },
   {
    "duration": 45,
    "start_time": "2024-09-07T21:15:38.663Z"
   },
   {
    "duration": 14,
    "start_time": "2024-09-07T21:15:38.711Z"
   },
   {
    "duration": 8,
    "start_time": "2024-09-07T21:15:38.727Z"
   },
   {
    "duration": 20,
    "start_time": "2024-09-07T21:15:38.737Z"
   },
   {
    "duration": 19,
    "start_time": "2024-09-07T21:15:38.759Z"
   },
   {
    "duration": 31,
    "start_time": "2024-09-07T21:15:38.780Z"
   },
   {
    "duration": 20,
    "start_time": "2024-09-07T21:15:38.813Z"
   },
   {
    "duration": 18,
    "start_time": "2024-09-07T21:15:38.835Z"
   },
   {
    "duration": 13,
    "start_time": "2024-09-07T21:15:38.854Z"
   },
   {
    "duration": 42,
    "start_time": "2024-09-07T21:15:38.869Z"
   },
   {
    "duration": 25,
    "start_time": "2024-09-07T21:15:38.913Z"
   },
   {
    "duration": 2,
    "start_time": "2024-09-07T21:15:38.939Z"
   },
   {
    "duration": 3,
    "start_time": "2024-09-07T21:15:38.945Z"
   },
   {
    "duration": 2,
    "start_time": "2024-09-07T21:15:38.950Z"
   },
   {
    "duration": 2,
    "start_time": "2024-09-07T21:15:38.954Z"
   },
   {
    "duration": 3,
    "start_time": "2024-09-07T21:15:38.957Z"
   },
   {
    "duration": 3,
    "start_time": "2024-09-07T21:15:38.962Z"
   },
   {
    "duration": 2,
    "start_time": "2024-09-07T21:15:38.968Z"
   },
   {
    "duration": 38,
    "start_time": "2024-09-07T21:15:38.972Z"
   },
   {
    "duration": 2,
    "start_time": "2024-09-07T21:15:39.013Z"
   },
   {
    "duration": 2,
    "start_time": "2024-09-07T21:15:39.017Z"
   },
   {
    "duration": 20,
    "start_time": "2024-09-07T21:17:24.141Z"
   },
   {
    "duration": 290,
    "start_time": "2024-09-07T21:17:34.860Z"
   },
   {
    "duration": 22,
    "start_time": "2024-09-07T21:17:42.356Z"
   },
   {
    "duration": 23,
    "start_time": "2024-09-07T21:17:46.894Z"
   },
   {
    "duration": 22,
    "start_time": "2024-09-07T21:17:54.913Z"
   },
   {
    "duration": 22,
    "start_time": "2024-09-07T21:18:02.967Z"
   },
   {
    "duration": 22,
    "start_time": "2024-09-07T21:18:08.849Z"
   },
   {
    "duration": 15,
    "start_time": "2024-09-07T21:22:26.046Z"
   },
   {
    "duration": 328,
    "start_time": "2024-09-07T21:24:00.950Z"
   },
   {
    "duration": 154,
    "start_time": "2024-09-07T21:25:43.387Z"
   },
   {
    "duration": 7,
    "start_time": "2024-09-07T21:29:58.421Z"
   },
   {
    "duration": 4,
    "start_time": "2024-09-07T21:30:03.504Z"
   },
   {
    "duration": 1310,
    "start_time": "2024-09-07T21:31:03.388Z"
   },
   {
    "duration": 1306,
    "start_time": "2024-09-07T21:31:37.434Z"
   },
   {
    "duration": 1317,
    "start_time": "2024-09-07T21:32:57.464Z"
   },
   {
    "duration": 324,
    "start_time": "2024-09-07T21:33:49.496Z"
   },
   {
    "duration": 6,
    "start_time": "2024-09-07T21:33:56.088Z"
   },
   {
    "duration": 42,
    "start_time": "2024-09-07T21:34:04.888Z"
   },
   {
    "duration": 99,
    "start_time": "2024-09-07T21:34:36.198Z"
   },
   {
    "duration": 43,
    "start_time": "2024-09-07T21:34:46.526Z"
   },
   {
    "duration": 46,
    "start_time": "2024-09-07T21:35:38.351Z"
   },
   {
    "duration": 22,
    "start_time": "2024-09-07T21:35:48.646Z"
   },
   {
    "duration": 43,
    "start_time": "2024-09-07T21:35:51.351Z"
   },
   {
    "duration": 792,
    "start_time": "2024-09-07T21:35:56.918Z"
   },
   {
    "duration": 162,
    "start_time": "2024-09-07T21:35:57.712Z"
   },
   {
    "duration": 11,
    "start_time": "2024-09-07T21:35:57.875Z"
   },
   {
    "duration": 10,
    "start_time": "2024-09-07T21:35:57.888Z"
   },
   {
    "duration": 10,
    "start_time": "2024-09-07T21:35:57.899Z"
   },
   {
    "duration": 1,
    "start_time": "2024-09-07T21:35:57.912Z"
   },
   {
    "duration": 8,
    "start_time": "2024-09-07T21:35:57.916Z"
   },
   {
    "duration": 7,
    "start_time": "2024-09-07T21:35:57.926Z"
   },
   {
    "duration": 2,
    "start_time": "2024-09-07T21:35:57.936Z"
   },
   {
    "duration": 15,
    "start_time": "2024-09-07T21:35:57.941Z"
   },
   {
    "duration": 9,
    "start_time": "2024-09-07T21:35:57.957Z"
   },
   {
    "duration": 61,
    "start_time": "2024-09-07T21:35:57.968Z"
   },
   {
    "duration": 12,
    "start_time": "2024-09-07T21:35:58.031Z"
   },
   {
    "duration": 14,
    "start_time": "2024-09-07T21:35:58.045Z"
   },
   {
    "duration": 8,
    "start_time": "2024-09-07T21:35:58.062Z"
   },
   {
    "duration": 42,
    "start_time": "2024-09-07T21:35:58.073Z"
   },
   {
    "duration": 14,
    "start_time": "2024-09-07T21:35:58.117Z"
   },
   {
    "duration": 9,
    "start_time": "2024-09-07T21:35:58.133Z"
   },
   {
    "duration": 21,
    "start_time": "2024-09-07T21:35:58.144Z"
   },
   {
    "duration": 58,
    "start_time": "2024-09-07T21:35:58.167Z"
   },
   {
    "duration": 6,
    "start_time": "2024-09-07T21:35:58.228Z"
   },
   {
    "duration": 24,
    "start_time": "2024-09-07T21:35:58.236Z"
   },
   {
    "duration": 19,
    "start_time": "2024-09-07T21:35:58.261Z"
   },
   {
    "duration": 34,
    "start_time": "2024-09-07T21:35:58.281Z"
   },
   {
    "duration": 15,
    "start_time": "2024-09-07T21:35:58.316Z"
   },
   {
    "duration": 22,
    "start_time": "2024-09-07T21:35:58.332Z"
   },
   {
    "duration": 659,
    "start_time": "2024-09-07T21:35:58.356Z"
   },
   {
    "duration": 0,
    "start_time": "2024-09-07T21:35:59.017Z"
   },
   {
    "duration": 0,
    "start_time": "2024-09-07T21:35:59.019Z"
   },
   {
    "duration": 0,
    "start_time": "2024-09-07T21:35:59.020Z"
   },
   {
    "duration": 0,
    "start_time": "2024-09-07T21:35:59.021Z"
   },
   {
    "duration": 0,
    "start_time": "2024-09-07T21:35:59.023Z"
   },
   {
    "duration": 0,
    "start_time": "2024-09-07T21:35:59.024Z"
   },
   {
    "duration": 0,
    "start_time": "2024-09-07T21:35:59.025Z"
   },
   {
    "duration": 0,
    "start_time": "2024-09-07T21:35:59.027Z"
   },
   {
    "duration": 0,
    "start_time": "2024-09-07T21:35:59.028Z"
   },
   {
    "duration": 42,
    "start_time": "2024-09-07T21:36:11.926Z"
   },
   {
    "duration": 43,
    "start_time": "2024-09-07T21:36:39.397Z"
   },
   {
    "duration": 46,
    "start_time": "2024-09-07T21:37:14.805Z"
   },
   {
    "duration": 28,
    "start_time": "2024-09-07T21:46:34.659Z"
   },
   {
    "duration": 30,
    "start_time": "2024-09-07T21:46:42.492Z"
   },
   {
    "duration": 409,
    "start_time": "2024-09-07T21:47:31.237Z"
   },
   {
    "duration": 28,
    "start_time": "2024-09-07T21:47:47.434Z"
   },
   {
    "duration": 30,
    "start_time": "2024-09-07T21:48:07.317Z"
   },
   {
    "duration": 26,
    "start_time": "2024-09-07T21:48:18.691Z"
   },
   {
    "duration": 219,
    "start_time": "2024-09-07T22:13:57.371Z"
   },
   {
    "duration": 21,
    "start_time": "2024-09-07T22:18:29.282Z"
   },
   {
    "duration": 21,
    "start_time": "2024-09-07T22:18:40.216Z"
   },
   {
    "duration": 16,
    "start_time": "2024-09-07T22:20:34.125Z"
   },
   {
    "duration": 24,
    "start_time": "2024-09-07T22:20:38.586Z"
   },
   {
    "duration": 18,
    "start_time": "2024-09-07T22:21:39.777Z"
   },
   {
    "duration": 792,
    "start_time": "2024-09-07T22:23:43.806Z"
   },
   {
    "duration": 163,
    "start_time": "2024-09-07T22:23:44.600Z"
   },
   {
    "duration": 11,
    "start_time": "2024-09-07T22:23:44.765Z"
   },
   {
    "duration": 11,
    "start_time": "2024-09-07T22:23:44.779Z"
   },
   {
    "duration": 3,
    "start_time": "2024-09-07T22:23:44.791Z"
   },
   {
    "duration": 2,
    "start_time": "2024-09-07T22:23:44.810Z"
   },
   {
    "duration": 13,
    "start_time": "2024-09-07T22:23:44.814Z"
   },
   {
    "duration": 10,
    "start_time": "2024-09-07T22:23:44.828Z"
   },
   {
    "duration": 3,
    "start_time": "2024-09-07T22:23:44.840Z"
   },
   {
    "duration": 16,
    "start_time": "2024-09-07T22:23:44.847Z"
   },
   {
    "duration": 46,
    "start_time": "2024-09-07T22:23:44.864Z"
   },
   {
    "duration": 26,
    "start_time": "2024-09-07T22:23:44.912Z"
   },
   {
    "duration": 13,
    "start_time": "2024-09-07T22:23:44.940Z"
   },
   {
    "duration": 12,
    "start_time": "2024-09-07T22:23:44.954Z"
   },
   {
    "duration": 6,
    "start_time": "2024-09-07T22:23:44.968Z"
   },
   {
    "duration": 43,
    "start_time": "2024-09-07T22:23:44.976Z"
   },
   {
    "duration": 16,
    "start_time": "2024-09-07T22:23:45.020Z"
   },
   {
    "duration": 8,
    "start_time": "2024-09-07T22:23:45.038Z"
   },
   {
    "duration": 21,
    "start_time": "2024-09-07T22:23:45.047Z"
   },
   {
    "duration": 44,
    "start_time": "2024-09-07T22:23:45.069Z"
   },
   {
    "duration": 6,
    "start_time": "2024-09-07T22:23:45.116Z"
   },
   {
    "duration": 20,
    "start_time": "2024-09-07T22:23:45.124Z"
   },
   {
    "duration": 16,
    "start_time": "2024-09-07T22:23:45.146Z"
   },
   {
    "duration": 13,
    "start_time": "2024-09-07T22:23:45.163Z"
   },
   {
    "duration": 260,
    "start_time": "2024-09-07T22:23:45.178Z"
   },
   {
    "duration": 0,
    "start_time": "2024-09-07T22:23:45.440Z"
   },
   {
    "duration": 0,
    "start_time": "2024-09-07T22:23:45.442Z"
   },
   {
    "duration": 0,
    "start_time": "2024-09-07T22:23:45.443Z"
   },
   {
    "duration": 0,
    "start_time": "2024-09-07T22:23:45.445Z"
   },
   {
    "duration": 0,
    "start_time": "2024-09-07T22:23:45.446Z"
   },
   {
    "duration": 0,
    "start_time": "2024-09-07T22:23:45.447Z"
   },
   {
    "duration": 0,
    "start_time": "2024-09-07T22:23:45.448Z"
   },
   {
    "duration": 0,
    "start_time": "2024-09-07T22:23:45.449Z"
   },
   {
    "duration": 0,
    "start_time": "2024-09-07T22:23:45.450Z"
   },
   {
    "duration": 0,
    "start_time": "2024-09-07T22:23:45.451Z"
   },
   {
    "duration": 0,
    "start_time": "2024-09-07T22:23:45.452Z"
   },
   {
    "duration": 22,
    "start_time": "2024-09-07T22:24:40.230Z"
   },
   {
    "duration": 24,
    "start_time": "2024-09-07T22:25:19.114Z"
   },
   {
    "duration": 24,
    "start_time": "2024-09-07T22:25:42.777Z"
   },
   {
    "duration": 77,
    "start_time": "2024-09-07T22:25:55.634Z"
   },
   {
    "duration": 14,
    "start_time": "2024-09-07T22:26:01.729Z"
   },
   {
    "duration": 227,
    "start_time": "2024-09-07T22:26:22.765Z"
   },
   {
    "duration": 16,
    "start_time": "2024-09-07T22:28:11.713Z"
   },
   {
    "duration": 16,
    "start_time": "2024-09-07T22:28:14.439Z"
   },
   {
    "duration": 50,
    "start_time": "2024-09-07T22:28:37.315Z"
   },
   {
    "duration": 734,
    "start_time": "2024-09-07T22:31:33.575Z"
   },
   {
    "duration": 187,
    "start_time": "2024-09-07T22:31:34.311Z"
   },
   {
    "duration": 9,
    "start_time": "2024-09-07T22:31:34.500Z"
   },
   {
    "duration": 10,
    "start_time": "2024-09-07T22:31:34.510Z"
   },
   {
    "duration": 2,
    "start_time": "2024-09-07T22:31:34.523Z"
   },
   {
    "duration": 2,
    "start_time": "2024-09-07T22:31:34.527Z"
   },
   {
    "duration": 9,
    "start_time": "2024-09-07T22:31:34.531Z"
   },
   {
    "duration": 8,
    "start_time": "2024-09-07T22:31:34.542Z"
   },
   {
    "duration": 2,
    "start_time": "2024-09-07T22:31:34.552Z"
   },
   {
    "duration": 53,
    "start_time": "2024-09-07T22:31:34.556Z"
   },
   {
    "duration": 8,
    "start_time": "2024-09-07T22:31:34.611Z"
   },
   {
    "duration": 24,
    "start_time": "2024-09-07T22:31:34.621Z"
   },
   {
    "duration": 12,
    "start_time": "2024-09-07T22:31:34.647Z"
   },
   {
    "duration": 15,
    "start_time": "2024-09-07T22:31:34.664Z"
   },
   {
    "duration": 35,
    "start_time": "2024-09-07T22:31:34.680Z"
   },
   {
    "duration": 25,
    "start_time": "2024-09-07T22:31:34.717Z"
   },
   {
    "duration": 25,
    "start_time": "2024-09-07T22:31:34.744Z"
   },
   {
    "duration": 12,
    "start_time": "2024-09-07T22:31:34.770Z"
   },
   {
    "duration": 41,
    "start_time": "2024-09-07T22:31:34.785Z"
   },
   {
    "duration": 21,
    "start_time": "2024-09-07T22:31:34.828Z"
   },
   {
    "duration": 7,
    "start_time": "2024-09-07T22:31:34.851Z"
   },
   {
    "duration": 21,
    "start_time": "2024-09-07T22:31:34.859Z"
   },
   {
    "duration": 48,
    "start_time": "2024-09-07T22:31:34.882Z"
   },
   {
    "duration": 17,
    "start_time": "2024-09-07T22:31:34.932Z"
   },
   {
    "duration": 34,
    "start_time": "2024-09-07T22:31:34.951Z"
   },
   {
    "duration": 29,
    "start_time": "2024-09-07T22:31:35.009Z"
   },
   {
    "duration": 17,
    "start_time": "2024-09-07T22:31:35.040Z"
   },
   {
    "duration": 545,
    "start_time": "2024-09-07T22:31:35.059Z"
   },
   {
    "duration": 0,
    "start_time": "2024-09-07T22:31:35.609Z"
   },
   {
    "duration": 0,
    "start_time": "2024-09-07T22:31:35.610Z"
   },
   {
    "duration": 0,
    "start_time": "2024-09-07T22:31:35.611Z"
   },
   {
    "duration": 0,
    "start_time": "2024-09-07T22:31:35.612Z"
   },
   {
    "duration": 0,
    "start_time": "2024-09-07T22:31:35.613Z"
   },
   {
    "duration": 0,
    "start_time": "2024-09-07T22:31:35.614Z"
   },
   {
    "duration": 0,
    "start_time": "2024-09-07T22:31:35.615Z"
   },
   {
    "duration": 0,
    "start_time": "2024-09-07T22:31:35.616Z"
   },
   {
    "duration": 759,
    "start_time": "2024-09-07T22:36:04.458Z"
   },
   {
    "duration": 165,
    "start_time": "2024-09-07T22:36:05.219Z"
   },
   {
    "duration": 10,
    "start_time": "2024-09-07T22:36:05.386Z"
   },
   {
    "duration": 17,
    "start_time": "2024-09-07T22:36:05.397Z"
   },
   {
    "duration": 2,
    "start_time": "2024-09-07T22:36:05.416Z"
   },
   {
    "duration": 2,
    "start_time": "2024-09-07T22:36:05.420Z"
   },
   {
    "duration": 7,
    "start_time": "2024-09-07T22:36:05.425Z"
   },
   {
    "duration": 7,
    "start_time": "2024-09-07T22:36:05.434Z"
   },
   {
    "duration": 2,
    "start_time": "2024-09-07T22:36:05.443Z"
   },
   {
    "duration": 14,
    "start_time": "2024-09-07T22:36:05.447Z"
   },
   {
    "duration": 8,
    "start_time": "2024-09-07T22:36:05.463Z"
   },
   {
    "duration": 24,
    "start_time": "2024-09-07T22:36:05.510Z"
   },
   {
    "duration": 12,
    "start_time": "2024-09-07T22:36:05.536Z"
   },
   {
    "duration": 11,
    "start_time": "2024-09-07T22:36:05.553Z"
   },
   {
    "duration": 8,
    "start_time": "2024-09-07T22:36:05.566Z"
   },
   {
    "duration": 45,
    "start_time": "2024-09-07T22:36:05.575Z"
   },
   {
    "duration": 13,
    "start_time": "2024-09-07T22:36:05.622Z"
   },
   {
    "duration": 8,
    "start_time": "2024-09-07T22:36:05.636Z"
   },
   {
    "duration": 20,
    "start_time": "2024-09-07T22:36:05.646Z"
   },
   {
    "duration": 49,
    "start_time": "2024-09-07T22:36:05.668Z"
   },
   {
    "duration": 7,
    "start_time": "2024-09-07T22:36:05.719Z"
   },
   {
    "duration": 21,
    "start_time": "2024-09-07T22:36:05.728Z"
   },
   {
    "duration": 19,
    "start_time": "2024-09-07T22:36:05.750Z"
   },
   {
    "duration": 40,
    "start_time": "2024-09-07T22:36:05.770Z"
   },
   {
    "duration": 24,
    "start_time": "2024-09-07T22:36:05.811Z"
   },
   {
    "duration": 27,
    "start_time": "2024-09-07T22:36:05.837Z"
   },
   {
    "duration": 12,
    "start_time": "2024-09-07T22:36:05.867Z"
   },
   {
    "duration": 498,
    "start_time": "2024-09-07T22:36:05.881Z"
   },
   {
    "duration": 0,
    "start_time": "2024-09-07T22:36:06.381Z"
   },
   {
    "duration": 0,
    "start_time": "2024-09-07T22:36:06.382Z"
   },
   {
    "duration": 0,
    "start_time": "2024-09-07T22:36:06.383Z"
   },
   {
    "duration": 0,
    "start_time": "2024-09-07T22:36:06.384Z"
   },
   {
    "duration": 0,
    "start_time": "2024-09-07T22:36:06.385Z"
   },
   {
    "duration": 0,
    "start_time": "2024-09-07T22:36:06.386Z"
   },
   {
    "duration": 0,
    "start_time": "2024-09-07T22:36:06.387Z"
   },
   {
    "duration": 0,
    "start_time": "2024-09-07T22:36:06.388Z"
   },
   {
    "duration": 64,
    "start_time": "2024-09-07T22:36:38.488Z"
   },
   {
    "duration": 70,
    "start_time": "2024-09-07T22:39:31.951Z"
   },
   {
    "duration": 77,
    "start_time": "2024-09-07T22:41:59.128Z"
   },
   {
    "duration": 26,
    "start_time": "2024-09-07T22:44:25.524Z"
   },
   {
    "duration": 84,
    "start_time": "2024-09-07T22:44:53.779Z"
   },
   {
    "duration": 317,
    "start_time": "2024-09-07T22:45:15.955Z"
   },
   {
    "duration": 796,
    "start_time": "2024-09-07T22:45:36.417Z"
   },
   {
    "duration": 172,
    "start_time": "2024-09-07T22:45:37.216Z"
   },
   {
    "duration": 9,
    "start_time": "2024-09-07T22:45:37.390Z"
   },
   {
    "duration": 13,
    "start_time": "2024-09-07T22:45:37.410Z"
   },
   {
    "duration": 2,
    "start_time": "2024-09-07T22:45:37.425Z"
   },
   {
    "duration": 2,
    "start_time": "2024-09-07T22:45:37.429Z"
   },
   {
    "duration": 8,
    "start_time": "2024-09-07T22:45:37.433Z"
   },
   {
    "duration": 9,
    "start_time": "2024-09-07T22:45:37.442Z"
   },
   {
    "duration": 2,
    "start_time": "2024-09-07T22:45:37.453Z"
   },
   {
    "duration": 50,
    "start_time": "2024-09-07T22:45:37.459Z"
   },
   {
    "duration": 9,
    "start_time": "2024-09-07T22:45:37.511Z"
   },
   {
    "duration": 24,
    "start_time": "2024-09-07T22:45:37.522Z"
   },
   {
    "duration": 12,
    "start_time": "2024-09-07T22:45:37.548Z"
   },
   {
    "duration": 12,
    "start_time": "2024-09-07T22:45:37.562Z"
   },
   {
    "duration": 35,
    "start_time": "2024-09-07T22:45:37.577Z"
   },
   {
    "duration": 19,
    "start_time": "2024-09-07T22:45:37.614Z"
   },
   {
    "duration": 12,
    "start_time": "2024-09-07T22:45:37.635Z"
   },
   {
    "duration": 8,
    "start_time": "2024-09-07T22:45:37.649Z"
   },
   {
    "duration": 21,
    "start_time": "2024-09-07T22:45:37.658Z"
   },
   {
    "duration": 49,
    "start_time": "2024-09-07T22:45:37.681Z"
   },
   {
    "duration": 12,
    "start_time": "2024-09-07T22:45:37.732Z"
   },
   {
    "duration": 20,
    "start_time": "2024-09-07T22:45:37.746Z"
   },
   {
    "duration": 18,
    "start_time": "2024-09-07T22:45:37.768Z"
   },
   {
    "duration": 33,
    "start_time": "2024-09-07T22:45:37.787Z"
   },
   {
    "duration": 24,
    "start_time": "2024-09-07T22:45:37.822Z"
   },
   {
    "duration": 27,
    "start_time": "2024-09-07T22:45:37.847Z"
   },
   {
    "duration": 39,
    "start_time": "2024-09-07T22:45:37.875Z"
   },
   {
    "duration": 78,
    "start_time": "2024-09-07T22:45:37.918Z"
   },
   {
    "duration": 437,
    "start_time": "2024-09-07T22:45:37.998Z"
   },
   {
    "duration": 0,
    "start_time": "2024-09-07T22:45:38.437Z"
   },
   {
    "duration": 0,
    "start_time": "2024-09-07T22:45:38.438Z"
   },
   {
    "duration": 1,
    "start_time": "2024-09-07T22:45:38.438Z"
   },
   {
    "duration": 0,
    "start_time": "2024-09-07T22:45:38.439Z"
   },
   {
    "duration": 0,
    "start_time": "2024-09-07T22:45:38.441Z"
   },
   {
    "duration": 0,
    "start_time": "2024-09-07T22:45:38.442Z"
   },
   {
    "duration": 0,
    "start_time": "2024-09-07T22:45:38.442Z"
   },
   {
    "duration": 23,
    "start_time": "2024-09-07T22:48:21.072Z"
   },
   {
    "duration": 19,
    "start_time": "2024-09-07T22:48:29.315Z"
   },
   {
    "duration": 18,
    "start_time": "2024-09-07T22:49:03.527Z"
   },
   {
    "duration": 738,
    "start_time": "2024-09-07T22:49:17.290Z"
   },
   {
    "duration": 164,
    "start_time": "2024-09-07T22:49:18.030Z"
   },
   {
    "duration": 10,
    "start_time": "2024-09-07T22:49:18.195Z"
   },
   {
    "duration": 10,
    "start_time": "2024-09-07T22:49:18.208Z"
   },
   {
    "duration": 3,
    "start_time": "2024-09-07T22:49:18.220Z"
   },
   {
    "duration": 3,
    "start_time": "2024-09-07T22:49:18.224Z"
   },
   {
    "duration": 9,
    "start_time": "2024-09-07T22:49:18.229Z"
   },
   {
    "duration": 8,
    "start_time": "2024-09-07T22:49:18.239Z"
   },
   {
    "duration": 2,
    "start_time": "2024-09-07T22:49:18.249Z"
   },
   {
    "duration": 14,
    "start_time": "2024-09-07T22:49:18.253Z"
   },
   {
    "duration": 44,
    "start_time": "2024-09-07T22:49:18.269Z"
   },
   {
    "duration": 24,
    "start_time": "2024-09-07T22:49:18.314Z"
   },
   {
    "duration": 12,
    "start_time": "2024-09-07T22:49:18.340Z"
   },
   {
    "duration": 12,
    "start_time": "2024-09-07T22:49:18.356Z"
   },
   {
    "duration": 7,
    "start_time": "2024-09-07T22:49:18.369Z"
   },
   {
    "duration": 45,
    "start_time": "2024-09-07T22:49:18.377Z"
   },
   {
    "duration": 13,
    "start_time": "2024-09-07T22:49:18.424Z"
   },
   {
    "duration": 8,
    "start_time": "2024-09-07T22:49:18.438Z"
   },
   {
    "duration": 21,
    "start_time": "2024-09-07T22:49:18.448Z"
   },
   {
    "duration": 49,
    "start_time": "2024-09-07T22:49:18.471Z"
   },
   {
    "duration": 7,
    "start_time": "2024-09-07T22:49:18.521Z"
   },
   {
    "duration": 20,
    "start_time": "2024-09-07T22:49:18.529Z"
   },
   {
    "duration": 18,
    "start_time": "2024-09-07T22:49:18.551Z"
   },
   {
    "duration": 40,
    "start_time": "2024-09-07T22:49:18.570Z"
   },
   {
    "duration": 24,
    "start_time": "2024-09-07T22:49:18.612Z"
   },
   {
    "duration": 27,
    "start_time": "2024-09-07T22:49:18.637Z"
   },
   {
    "duration": 18,
    "start_time": "2024-09-07T22:49:18.665Z"
   },
   {
    "duration": 97,
    "start_time": "2024-09-07T22:49:18.685Z"
   },
   {
    "duration": 428,
    "start_time": "2024-09-07T22:49:18.784Z"
   },
   {
    "duration": 0,
    "start_time": "2024-09-07T22:49:19.213Z"
   },
   {
    "duration": 0,
    "start_time": "2024-09-07T22:49:19.214Z"
   },
   {
    "duration": 0,
    "start_time": "2024-09-07T22:49:19.215Z"
   },
   {
    "duration": 0,
    "start_time": "2024-09-07T22:49:19.216Z"
   },
   {
    "duration": 0,
    "start_time": "2024-09-07T22:49:19.218Z"
   },
   {
    "duration": 0,
    "start_time": "2024-09-07T22:49:19.219Z"
   },
   {
    "duration": 0,
    "start_time": "2024-09-07T22:49:19.220Z"
   },
   {
    "duration": 22,
    "start_time": "2024-09-07T22:49:57.351Z"
   },
   {
    "duration": 21,
    "start_time": "2024-09-07T22:50:05.878Z"
   },
   {
    "duration": 23,
    "start_time": "2024-09-07T22:50:16.289Z"
   },
   {
    "duration": 21,
    "start_time": "2024-09-07T22:50:32.491Z"
   },
   {
    "duration": 33,
    "start_time": "2024-09-07T22:52:20.292Z"
   },
   {
    "duration": 88,
    "start_time": "2024-09-07T22:53:18.626Z"
   },
   {
    "duration": 27,
    "start_time": "2024-09-07T22:53:35.826Z"
   },
   {
    "duration": 784,
    "start_time": "2024-09-07T22:53:55.638Z"
   },
   {
    "duration": 164,
    "start_time": "2024-09-07T22:53:56.425Z"
   },
   {
    "duration": 9,
    "start_time": "2024-09-07T22:53:56.591Z"
   },
   {
    "duration": 14,
    "start_time": "2024-09-07T22:53:56.602Z"
   },
   {
    "duration": 3,
    "start_time": "2024-09-07T22:53:56.617Z"
   },
   {
    "duration": 3,
    "start_time": "2024-09-07T22:53:56.621Z"
   },
   {
    "duration": 8,
    "start_time": "2024-09-07T22:53:56.626Z"
   },
   {
    "duration": 8,
    "start_time": "2024-09-07T22:53:56.635Z"
   },
   {
    "duration": 2,
    "start_time": "2024-09-07T22:53:56.646Z"
   },
   {
    "duration": 16,
    "start_time": "2024-09-07T22:53:56.651Z"
   },
   {
    "duration": 43,
    "start_time": "2024-09-07T22:53:56.668Z"
   },
   {
    "duration": 23,
    "start_time": "2024-09-07T22:53:56.713Z"
   },
   {
    "duration": 12,
    "start_time": "2024-09-07T22:53:56.740Z"
   },
   {
    "duration": 12,
    "start_time": "2024-09-07T22:53:56.754Z"
   },
   {
    "duration": 6,
    "start_time": "2024-09-07T22:53:56.769Z"
   },
   {
    "duration": 40,
    "start_time": "2024-09-07T22:53:56.778Z"
   },
   {
    "duration": 13,
    "start_time": "2024-09-07T22:53:56.819Z"
   },
   {
    "duration": 8,
    "start_time": "2024-09-07T22:53:56.834Z"
   },
   {
    "duration": 21,
    "start_time": "2024-09-07T22:53:56.843Z"
   },
   {
    "duration": 44,
    "start_time": "2024-09-07T22:53:56.866Z"
   },
   {
    "duration": 7,
    "start_time": "2024-09-07T22:53:56.912Z"
   },
   {
    "duration": 20,
    "start_time": "2024-09-07T22:53:56.921Z"
   },
   {
    "duration": 17,
    "start_time": "2024-09-07T22:53:56.943Z"
   },
   {
    "duration": 14,
    "start_time": "2024-09-07T22:53:56.962Z"
   },
   {
    "duration": 24,
    "start_time": "2024-09-07T22:53:57.008Z"
   },
   {
    "duration": 27,
    "start_time": "2024-09-07T22:53:57.034Z"
   },
   {
    "duration": 16,
    "start_time": "2024-09-07T22:53:57.062Z"
   },
   {
    "duration": 114,
    "start_time": "2024-09-07T22:53:57.081Z"
   },
   {
    "duration": 432,
    "start_time": "2024-09-07T22:53:57.196Z"
   },
   {
    "duration": 0,
    "start_time": "2024-09-07T22:53:57.630Z"
   },
   {
    "duration": 0,
    "start_time": "2024-09-07T22:53:57.631Z"
   },
   {
    "duration": 0,
    "start_time": "2024-09-07T22:53:57.632Z"
   },
   {
    "duration": 0,
    "start_time": "2024-09-07T22:53:57.633Z"
   },
   {
    "duration": 0,
    "start_time": "2024-09-07T22:53:57.634Z"
   },
   {
    "duration": 0,
    "start_time": "2024-09-07T22:53:57.635Z"
   },
   {
    "duration": 0,
    "start_time": "2024-09-07T22:53:57.636Z"
   },
   {
    "duration": 27,
    "start_time": "2024-09-07T22:55:01.326Z"
   },
   {
    "duration": 89,
    "start_time": "2024-09-07T22:55:18.091Z"
   },
   {
    "duration": 26,
    "start_time": "2024-09-07T22:56:19.625Z"
   },
   {
    "duration": 25,
    "start_time": "2024-09-07T22:56:30.664Z"
   },
   {
    "duration": 25,
    "start_time": "2024-09-07T22:56:44.513Z"
   },
   {
    "duration": 31,
    "start_time": "2024-09-07T22:57:01.585Z"
   },
   {
    "duration": 33,
    "start_time": "2024-09-07T22:57:05.299Z"
   },
   {
    "duration": 25,
    "start_time": "2024-09-07T22:57:17.437Z"
   },
   {
    "duration": 25,
    "start_time": "2024-09-07T22:57:19.645Z"
   },
   {
    "duration": 24,
    "start_time": "2024-09-07T22:57:53.550Z"
   },
   {
    "duration": 755,
    "start_time": "2024-09-07T22:58:01.150Z"
   },
   {
    "duration": 156,
    "start_time": "2024-09-07T22:58:01.909Z"
   },
   {
    "duration": 9,
    "start_time": "2024-09-07T22:58:02.066Z"
   },
   {
    "duration": 9,
    "start_time": "2024-09-07T22:58:02.079Z"
   },
   {
    "duration": 2,
    "start_time": "2024-09-07T22:58:02.090Z"
   },
   {
    "duration": 2,
    "start_time": "2024-09-07T22:58:02.094Z"
   },
   {
    "duration": 8,
    "start_time": "2024-09-07T22:58:02.110Z"
   },
   {
    "duration": 8,
    "start_time": "2024-09-07T22:58:02.120Z"
   },
   {
    "duration": 3,
    "start_time": "2024-09-07T22:58:02.129Z"
   },
   {
    "duration": 14,
    "start_time": "2024-09-07T22:58:02.134Z"
   },
   {
    "duration": 8,
    "start_time": "2024-09-07T22:58:02.150Z"
   },
   {
    "duration": 65,
    "start_time": "2024-09-07T22:58:02.159Z"
   },
   {
    "duration": 14,
    "start_time": "2024-09-07T22:58:02.226Z"
   },
   {
    "duration": 12,
    "start_time": "2024-09-07T22:58:02.243Z"
   },
   {
    "duration": 8,
    "start_time": "2024-09-07T22:58:02.257Z"
   },
   {
    "duration": 42,
    "start_time": "2024-09-07T22:58:02.267Z"
   },
   {
    "duration": 17,
    "start_time": "2024-09-07T22:58:02.310Z"
   },
   {
    "duration": 8,
    "start_time": "2024-09-07T22:58:02.328Z"
   },
   {
    "duration": 20,
    "start_time": "2024-09-07T22:58:02.339Z"
   },
   {
    "duration": 19,
    "start_time": "2024-09-07T22:58:02.361Z"
   },
   {
    "duration": 7,
    "start_time": "2024-09-07T22:58:02.409Z"
   },
   {
    "duration": 21,
    "start_time": "2024-09-07T22:58:02.417Z"
   },
   {
    "duration": 17,
    "start_time": "2024-09-07T22:58:02.439Z"
   },
   {
    "duration": 13,
    "start_time": "2024-09-07T22:58:02.458Z"
   },
   {
    "duration": 48,
    "start_time": "2024-09-07T22:58:02.472Z"
   },
   {
    "duration": 26,
    "start_time": "2024-09-07T22:58:02.521Z"
   },
   {
    "duration": 15,
    "start_time": "2024-09-07T22:58:02.548Z"
   },
   {
    "duration": 108,
    "start_time": "2024-09-07T22:58:02.564Z"
   },
   {
    "duration": 403,
    "start_time": "2024-09-07T22:58:02.674Z"
   },
   {
    "duration": 0,
    "start_time": "2024-09-07T22:58:03.079Z"
   },
   {
    "duration": 0,
    "start_time": "2024-09-07T22:58:03.080Z"
   },
   {
    "duration": 0,
    "start_time": "2024-09-07T22:58:03.081Z"
   },
   {
    "duration": 0,
    "start_time": "2024-09-07T22:58:03.082Z"
   },
   {
    "duration": 0,
    "start_time": "2024-09-07T22:58:03.083Z"
   },
   {
    "duration": 0,
    "start_time": "2024-09-07T22:58:03.085Z"
   },
   {
    "duration": 0,
    "start_time": "2024-09-07T22:58:03.086Z"
   },
   {
    "duration": 26,
    "start_time": "2024-09-07T22:58:28.499Z"
   },
   {
    "duration": 279,
    "start_time": "2024-09-07T22:58:35.146Z"
   },
   {
    "duration": 27,
    "start_time": "2024-09-07T22:58:38.756Z"
   },
   {
    "duration": 25,
    "start_time": "2024-09-07T22:59:49.224Z"
   },
   {
    "duration": 26,
    "start_time": "2024-09-07T23:02:22.042Z"
   },
   {
    "duration": 27,
    "start_time": "2024-09-07T23:02:27.309Z"
   },
   {
    "duration": 24,
    "start_time": "2024-09-07T23:03:17.998Z"
   },
   {
    "duration": 16,
    "start_time": "2024-09-07T23:03:25.778Z"
   },
   {
    "duration": 78,
    "start_time": "2024-09-07T23:03:31.141Z"
   },
   {
    "duration": 25,
    "start_time": "2024-09-07T23:03:53.857Z"
   },
   {
    "duration": 26,
    "start_time": "2024-09-07T23:04:03.682Z"
   },
   {
    "duration": 105,
    "start_time": "2024-09-07T23:05:21.162Z"
   },
   {
    "duration": 24,
    "start_time": "2024-09-07T23:05:36.970Z"
   },
   {
    "duration": 27,
    "start_time": "2024-09-07T23:05:44.611Z"
   },
   {
    "duration": 25,
    "start_time": "2024-09-07T23:06:22.046Z"
   },
   {
    "duration": 27,
    "start_time": "2024-09-07T23:06:47.724Z"
   },
   {
    "duration": 32,
    "start_time": "2024-09-07T23:07:57.056Z"
   },
   {
    "duration": 24,
    "start_time": "2024-09-07T23:08:39.883Z"
   },
   {
    "duration": 534,
    "start_time": "2024-09-07T23:10:59.524Z"
   },
   {
    "duration": 59,
    "start_time": "2024-09-07T23:11:19.197Z"
   },
   {
    "duration": 59,
    "start_time": "2024-09-07T23:11:26.667Z"
   },
   {
    "duration": 34,
    "start_time": "2024-09-07T23:11:37.846Z"
   },
   {
    "duration": 24,
    "start_time": "2024-09-07T23:11:42.282Z"
   },
   {
    "duration": 722,
    "start_time": "2024-09-07T23:11:51.787Z"
   },
   {
    "duration": 162,
    "start_time": "2024-09-07T23:11:52.511Z"
   },
   {
    "duration": 10,
    "start_time": "2024-09-07T23:11:52.674Z"
   },
   {
    "duration": 9,
    "start_time": "2024-09-07T23:11:52.686Z"
   },
   {
    "duration": 13,
    "start_time": "2024-09-07T23:11:52.696Z"
   },
   {
    "duration": 2,
    "start_time": "2024-09-07T23:11:52.710Z"
   },
   {
    "duration": 9,
    "start_time": "2024-09-07T23:11:52.714Z"
   },
   {
    "duration": 8,
    "start_time": "2024-09-07T23:11:52.724Z"
   },
   {
    "duration": 3,
    "start_time": "2024-09-07T23:11:52.733Z"
   },
   {
    "duration": 15,
    "start_time": "2024-09-07T23:11:52.739Z"
   },
   {
    "duration": 8,
    "start_time": "2024-09-07T23:11:52.756Z"
   },
   {
    "duration": 63,
    "start_time": "2024-09-07T23:11:52.767Z"
   },
   {
    "duration": 13,
    "start_time": "2024-09-07T23:11:52.831Z"
   },
   {
    "duration": 11,
    "start_time": "2024-09-07T23:11:52.845Z"
   },
   {
    "duration": 7,
    "start_time": "2024-09-07T23:11:52.858Z"
   },
   {
    "duration": 44,
    "start_time": "2024-09-07T23:11:52.866Z"
   },
   {
    "duration": 14,
    "start_time": "2024-09-07T23:11:52.912Z"
   },
   {
    "duration": 10,
    "start_time": "2024-09-07T23:11:52.927Z"
   },
   {
    "duration": 20,
    "start_time": "2024-09-07T23:11:52.939Z"
   },
   {
    "duration": 20,
    "start_time": "2024-09-07T23:11:52.962Z"
   },
   {
    "duration": 33,
    "start_time": "2024-09-07T23:11:52.983Z"
   },
   {
    "duration": 22,
    "start_time": "2024-09-07T23:11:53.018Z"
   },
   {
    "duration": 16,
    "start_time": "2024-09-07T23:11:53.042Z"
   },
   {
    "duration": 13,
    "start_time": "2024-09-07T23:11:53.060Z"
   },
   {
    "duration": 53,
    "start_time": "2024-09-07T23:11:53.075Z"
   },
   {
    "duration": 26,
    "start_time": "2024-09-07T23:11:53.130Z"
   },
   {
    "duration": 15,
    "start_time": "2024-09-07T23:11:53.158Z"
   },
   {
    "duration": 107,
    "start_time": "2024-09-07T23:11:53.176Z"
   },
   {
    "duration": 413,
    "start_time": "2024-09-07T23:11:53.285Z"
   },
   {
    "duration": 0,
    "start_time": "2024-09-07T23:11:53.700Z"
   },
   {
    "duration": 0,
    "start_time": "2024-09-07T23:11:53.702Z"
   },
   {
    "duration": 0,
    "start_time": "2024-09-07T23:11:53.708Z"
   },
   {
    "duration": 0,
    "start_time": "2024-09-07T23:11:53.709Z"
   },
   {
    "duration": 0,
    "start_time": "2024-09-07T23:11:53.711Z"
   },
   {
    "duration": 0,
    "start_time": "2024-09-07T23:11:53.712Z"
   },
   {
    "duration": 0,
    "start_time": "2024-09-07T23:11:53.713Z"
   },
   {
    "duration": 29,
    "start_time": "2024-09-07T23:12:12.595Z"
   },
   {
    "duration": 20,
    "start_time": "2024-09-07T23:15:47.020Z"
   },
   {
    "duration": 397,
    "start_time": "2024-09-07T23:16:28.207Z"
   },
   {
    "duration": 119,
    "start_time": "2024-09-07T23:16:50.417Z"
   },
   {
    "duration": 127,
    "start_time": "2024-09-07T23:17:18.071Z"
   },
   {
    "duration": 126,
    "start_time": "2024-09-07T23:17:26.326Z"
   },
   {
    "duration": 119,
    "start_time": "2024-09-07T23:18:16.538Z"
   },
   {
    "duration": 454,
    "start_time": "2024-09-07T23:18:25.139Z"
   },
   {
    "duration": 16,
    "start_time": "2024-09-07T23:18:29.395Z"
   },
   {
    "duration": 738,
    "start_time": "2024-09-07T23:19:14.361Z"
   },
   {
    "duration": 157,
    "start_time": "2024-09-07T23:19:15.102Z"
   },
   {
    "duration": 10,
    "start_time": "2024-09-07T23:19:15.262Z"
   },
   {
    "duration": 10,
    "start_time": "2024-09-07T23:19:15.274Z"
   },
   {
    "duration": 2,
    "start_time": "2024-09-07T23:19:15.286Z"
   },
   {
    "duration": 20,
    "start_time": "2024-09-07T23:19:15.290Z"
   },
   {
    "duration": 9,
    "start_time": "2024-09-07T23:19:15.311Z"
   },
   {
    "duration": 9,
    "start_time": "2024-09-07T23:19:15.321Z"
   },
   {
    "duration": 2,
    "start_time": "2024-09-07T23:19:15.331Z"
   },
   {
    "duration": 15,
    "start_time": "2024-09-07T23:19:15.335Z"
   },
   {
    "duration": 8,
    "start_time": "2024-09-07T23:19:15.352Z"
   },
   {
    "duration": 59,
    "start_time": "2024-09-07T23:19:15.362Z"
   },
   {
    "duration": 13,
    "start_time": "2024-09-07T23:19:15.424Z"
   },
   {
    "duration": 13,
    "start_time": "2024-09-07T23:19:15.441Z"
   },
   {
    "duration": 7,
    "start_time": "2024-09-07T23:19:15.455Z"
   },
   {
    "duration": 45,
    "start_time": "2024-09-07T23:19:15.464Z"
   },
   {
    "duration": 14,
    "start_time": "2024-09-07T23:19:15.510Z"
   },
   {
    "duration": 7,
    "start_time": "2024-09-07T23:19:15.526Z"
   },
   {
    "duration": 21,
    "start_time": "2024-09-07T23:19:15.534Z"
   },
   {
    "duration": 20,
    "start_time": "2024-09-07T23:19:15.557Z"
   },
   {
    "duration": 35,
    "start_time": "2024-09-07T23:19:15.578Z"
   },
   {
    "duration": 21,
    "start_time": "2024-09-07T23:19:15.615Z"
   },
   {
    "duration": 17,
    "start_time": "2024-09-07T23:19:15.638Z"
   },
   {
    "duration": 13,
    "start_time": "2024-09-07T23:19:15.657Z"
   },
   {
    "duration": 52,
    "start_time": "2024-09-07T23:19:15.672Z"
   },
   {
    "duration": 29,
    "start_time": "2024-09-07T23:19:15.726Z"
   },
   {
    "duration": 14,
    "start_time": "2024-09-07T23:19:15.757Z"
   },
   {
    "duration": 98,
    "start_time": "2024-09-07T23:19:15.774Z"
   },
   {
    "duration": 417,
    "start_time": "2024-09-07T23:19:15.873Z"
   },
   {
    "duration": 0,
    "start_time": "2024-09-07T23:19:16.292Z"
   },
   {
    "duration": 0,
    "start_time": "2024-09-07T23:19:16.294Z"
   },
   {
    "duration": 0,
    "start_time": "2024-09-07T23:19:16.295Z"
   },
   {
    "duration": 0,
    "start_time": "2024-09-07T23:19:16.308Z"
   },
   {
    "duration": 0,
    "start_time": "2024-09-07T23:19:16.309Z"
   },
   {
    "duration": 0,
    "start_time": "2024-09-07T23:19:16.311Z"
   },
   {
    "duration": 0,
    "start_time": "2024-09-07T23:19:16.312Z"
   },
   {
    "duration": 23,
    "start_time": "2024-09-07T23:19:23.977Z"
   },
   {
    "duration": 275,
    "start_time": "2024-09-07T23:20:08.004Z"
   },
   {
    "duration": 43,
    "start_time": "2024-09-07T23:20:18.295Z"
   },
   {
    "duration": 23,
    "start_time": "2024-09-07T23:20:45.947Z"
   },
   {
    "duration": 11,
    "start_time": "2024-09-07T23:21:00.520Z"
   },
   {
    "duration": 17135,
    "start_time": "2024-09-07T23:21:10.913Z"
   },
   {
    "duration": 536,
    "start_time": "2024-09-07T23:21:33.145Z"
   },
   {
    "duration": 223,
    "start_time": "2024-09-07T23:23:20.557Z"
   },
   {
    "duration": 220,
    "start_time": "2024-09-07T23:23:37.753Z"
   },
   {
    "duration": 233,
    "start_time": "2024-09-07T23:23:44.878Z"
   },
   {
    "duration": 217,
    "start_time": "2024-09-07T23:23:50.050Z"
   },
   {
    "duration": 271,
    "start_time": "2024-09-07T23:26:23.244Z"
   },
   {
    "duration": 276,
    "start_time": "2024-09-07T23:26:30.403Z"
   },
   {
    "duration": 285,
    "start_time": "2024-09-07T23:26:38.033Z"
   },
   {
    "duration": 358,
    "start_time": "2024-09-07T23:26:43.301Z"
   },
   {
    "duration": 268,
    "start_time": "2024-09-07T23:26:45.200Z"
   },
   {
    "duration": 253,
    "start_time": "2024-09-07T23:27:19.843Z"
   },
   {
    "duration": 279,
    "start_time": "2024-09-07T23:27:38.159Z"
   },
   {
    "duration": 266,
    "start_time": "2024-09-07T23:28:05.013Z"
   },
   {
    "duration": 269,
    "start_time": "2024-09-07T23:28:39.235Z"
   },
   {
    "duration": 260,
    "start_time": "2024-09-07T23:28:58.652Z"
   },
   {
    "duration": 156,
    "start_time": "2024-09-07T23:30:15.169Z"
   },
   {
    "duration": 253,
    "start_time": "2024-09-07T23:30:36.358Z"
   },
   {
    "duration": 763,
    "start_time": "2024-09-07T23:31:01.438Z"
   },
   {
    "duration": 165,
    "start_time": "2024-09-07T23:31:02.204Z"
   },
   {
    "duration": 10,
    "start_time": "2024-09-07T23:31:02.371Z"
   },
   {
    "duration": 9,
    "start_time": "2024-09-07T23:31:02.383Z"
   },
   {
    "duration": 2,
    "start_time": "2024-09-07T23:31:02.408Z"
   },
   {
    "duration": 4,
    "start_time": "2024-09-07T23:31:02.412Z"
   },
   {
    "duration": 9,
    "start_time": "2024-09-07T23:31:02.417Z"
   },
   {
    "duration": 8,
    "start_time": "2024-09-07T23:31:02.427Z"
   },
   {
    "duration": 2,
    "start_time": "2024-09-07T23:31:02.437Z"
   },
   {
    "duration": 15,
    "start_time": "2024-09-07T23:31:02.441Z"
   },
   {
    "duration": 8,
    "start_time": "2024-09-07T23:31:02.458Z"
   },
   {
    "duration": 64,
    "start_time": "2024-09-07T23:31:02.467Z"
   },
   {
    "duration": 13,
    "start_time": "2024-09-07T23:31:02.533Z"
   },
   {
    "duration": 12,
    "start_time": "2024-09-07T23:31:02.547Z"
   },
   {
    "duration": 7,
    "start_time": "2024-09-07T23:31:02.561Z"
   },
   {
    "duration": 40,
    "start_time": "2024-09-07T23:31:02.569Z"
   },
   {
    "duration": 13,
    "start_time": "2024-09-07T23:31:02.611Z"
   },
   {
    "duration": 8,
    "start_time": "2024-09-07T23:31:02.625Z"
   },
   {
    "duration": 20,
    "start_time": "2024-09-07T23:31:02.635Z"
   },
   {
    "duration": 20,
    "start_time": "2024-09-07T23:31:02.656Z"
   },
   {
    "duration": 7,
    "start_time": "2024-09-07T23:31:02.709Z"
   },
   {
    "duration": 21,
    "start_time": "2024-09-07T23:31:02.719Z"
   },
   {
    "duration": 17,
    "start_time": "2024-09-07T23:31:02.742Z"
   },
   {
    "duration": 13,
    "start_time": "2024-09-07T23:31:02.761Z"
   },
   {
    "duration": 53,
    "start_time": "2024-09-07T23:31:02.775Z"
   },
   {
    "duration": 30,
    "start_time": "2024-09-07T23:31:02.830Z"
   },
   {
    "duration": 14,
    "start_time": "2024-09-07T23:31:02.862Z"
   },
   {
    "duration": 97,
    "start_time": "2024-09-07T23:31:02.880Z"
   },
   {
    "duration": 184,
    "start_time": "2024-09-07T23:31:02.979Z"
   },
   {
    "duration": 3,
    "start_time": "2024-09-07T23:31:03.165Z"
   },
   {
    "duration": 2,
    "start_time": "2024-09-07T23:31:03.170Z"
   },
   {
    "duration": 2,
    "start_time": "2024-09-07T23:31:03.174Z"
   },
   {
    "duration": 2,
    "start_time": "2024-09-07T23:31:03.178Z"
   },
   {
    "duration": 3,
    "start_time": "2024-09-07T23:31:03.182Z"
   },
   {
    "duration": 2,
    "start_time": "2024-09-07T23:31:03.209Z"
   },
   {
    "duration": 3,
    "start_time": "2024-09-07T23:31:03.213Z"
   },
   {
    "duration": 4316,
    "start_time": "2024-09-07T23:31:30.465Z"
   },
   {
    "duration": 155,
    "start_time": "2024-09-07T23:31:51.972Z"
   },
   {
    "duration": 168,
    "start_time": "2024-09-07T23:34:25.306Z"
   },
   {
    "duration": 163,
    "start_time": "2024-09-07T23:34:36.489Z"
   },
   {
    "duration": 6,
    "start_time": "2024-09-07T23:34:55.594Z"
   },
   {
    "duration": 6,
    "start_time": "2024-09-07T23:35:22.575Z"
   },
   {
    "duration": 5,
    "start_time": "2024-09-07T23:35:32.942Z"
   },
   {
    "duration": 5,
    "start_time": "2024-09-07T23:36:02.749Z"
   },
   {
    "duration": 6,
    "start_time": "2024-09-07T23:36:12.549Z"
   },
   {
    "duration": 6,
    "start_time": "2024-09-07T23:36:38.811Z"
   },
   {
    "duration": 740,
    "start_time": "2024-09-07T23:36:50.275Z"
   },
   {
    "duration": 163,
    "start_time": "2024-09-07T23:36:51.017Z"
   },
   {
    "duration": 9,
    "start_time": "2024-09-07T23:36:51.182Z"
   },
   {
    "duration": 15,
    "start_time": "2024-09-07T23:36:51.195Z"
   },
   {
    "duration": 3,
    "start_time": "2024-09-07T23:36:51.211Z"
   },
   {
    "duration": 2,
    "start_time": "2024-09-07T23:36:51.216Z"
   },
   {
    "duration": 8,
    "start_time": "2024-09-07T23:36:51.219Z"
   },
   {
    "duration": 8,
    "start_time": "2024-09-07T23:36:51.228Z"
   },
   {
    "duration": 2,
    "start_time": "2024-09-07T23:36:51.237Z"
   },
   {
    "duration": 14,
    "start_time": "2024-09-07T23:36:51.243Z"
   },
   {
    "duration": 9,
    "start_time": "2024-09-07T23:36:51.258Z"
   },
   {
    "duration": 64,
    "start_time": "2024-09-07T23:36:51.268Z"
   },
   {
    "duration": 13,
    "start_time": "2024-09-07T23:36:51.334Z"
   },
   {
    "duration": 11,
    "start_time": "2024-09-07T23:36:51.348Z"
   },
   {
    "duration": 12,
    "start_time": "2024-09-07T23:36:51.361Z"
   },
   {
    "duration": 42,
    "start_time": "2024-09-07T23:36:51.375Z"
   },
   {
    "duration": 13,
    "start_time": "2024-09-07T23:36:51.418Z"
   },
   {
    "duration": 8,
    "start_time": "2024-09-07T23:36:51.433Z"
   },
   {
    "duration": 21,
    "start_time": "2024-09-07T23:36:51.443Z"
   },
   {
    "duration": 20,
    "start_time": "2024-09-07T23:36:51.466Z"
   },
   {
    "duration": 7,
    "start_time": "2024-09-07T23:36:51.510Z"
   },
   {
    "duration": 23,
    "start_time": "2024-09-07T23:36:51.518Z"
   },
   {
    "duration": 18,
    "start_time": "2024-09-07T23:36:51.543Z"
   },
   {
    "duration": 14,
    "start_time": "2024-09-07T23:36:51.563Z"
   },
   {
    "duration": 53,
    "start_time": "2024-09-07T23:36:51.578Z"
   },
   {
    "duration": 29,
    "start_time": "2024-09-07T23:36:51.633Z"
   },
   {
    "duration": 15,
    "start_time": "2024-09-07T23:36:51.664Z"
   },
   {
    "duration": 102,
    "start_time": "2024-09-07T23:36:51.683Z"
   },
   {
    "duration": 6,
    "start_time": "2024-09-07T23:36:51.787Z"
   },
   {
    "duration": 0,
    "start_time": "2024-09-07T23:36:51.809Z"
   },
   {
    "duration": 0,
    "start_time": "2024-09-07T23:36:51.811Z"
   },
   {
    "duration": 0,
    "start_time": "2024-09-07T23:36:51.812Z"
   },
   {
    "duration": 0,
    "start_time": "2024-09-07T23:36:51.814Z"
   },
   {
    "duration": 0,
    "start_time": "2024-09-07T23:36:51.815Z"
   },
   {
    "duration": 0,
    "start_time": "2024-09-07T23:36:51.817Z"
   },
   {
    "duration": 0,
    "start_time": "2024-09-07T23:36:51.818Z"
   },
   {
    "duration": 151,
    "start_time": "2024-09-07T23:37:35.242Z"
   },
   {
    "duration": 142,
    "start_time": "2024-09-07T23:37:45.623Z"
   },
   {
    "duration": 194,
    "start_time": "2024-09-07T23:37:57.989Z"
   },
   {
    "duration": 138,
    "start_time": "2024-09-07T23:38:01.674Z"
   },
   {
    "duration": 146,
    "start_time": "2024-09-07T23:38:08.913Z"
   },
   {
    "duration": 360,
    "start_time": "2024-09-07T23:38:29.425Z"
   },
   {
    "duration": 347,
    "start_time": "2024-09-07T23:38:44.724Z"
   },
   {
    "duration": 168,
    "start_time": "2024-09-07T23:40:08.119Z"
   },
   {
    "duration": 161,
    "start_time": "2024-09-07T23:40:22.499Z"
   },
   {
    "duration": 285,
    "start_time": "2024-09-07T23:40:52.030Z"
   },
   {
    "duration": 289,
    "start_time": "2024-09-07T23:41:14.870Z"
   },
   {
    "duration": 290,
    "start_time": "2024-09-07T23:41:19.723Z"
   },
   {
    "duration": 293,
    "start_time": "2024-09-07T23:41:41.826Z"
   },
   {
    "duration": 4558,
    "start_time": "2024-09-07T23:43:13.495Z"
   },
   {
    "duration": 449,
    "start_time": "2024-09-07T23:43:27.287Z"
   },
   {
    "duration": 4,
    "start_time": "2024-09-07T23:46:20.184Z"
   },
   {
    "duration": 416,
    "start_time": "2024-09-07T23:46:30.609Z"
   },
   {
    "duration": 45,
    "start_time": "2024-09-07T23:46:58.276Z"
   },
   {
    "duration": 4,
    "start_time": "2024-09-07T23:47:27.529Z"
   },
   {
    "duration": 4,
    "start_time": "2024-09-07T23:48:02.904Z"
   },
   {
    "duration": 15,
    "start_time": "2024-09-07T23:48:15.054Z"
   },
   {
    "duration": 4,
    "start_time": "2024-09-07T23:48:19.277Z"
   },
   {
    "duration": 5,
    "start_time": "2024-09-07T23:49:00.377Z"
   },
   {
    "duration": 5,
    "start_time": "2024-09-07T23:49:12.971Z"
   },
   {
    "duration": 5,
    "start_time": "2024-09-07T23:49:19.175Z"
   },
   {
    "duration": 16,
    "start_time": "2024-09-07T23:51:17.516Z"
   },
   {
    "duration": 13,
    "start_time": "2024-09-07T23:51:37.989Z"
   },
   {
    "duration": 84,
    "start_time": "2024-09-07T23:52:02.801Z"
   },
   {
    "duration": 158,
    "start_time": "2024-09-07T23:52:23.717Z"
   },
   {
    "duration": 283,
    "start_time": "2024-09-08T00:34:14.449Z"
   },
   {
    "duration": 304,
    "start_time": "2024-09-08T00:34:27.149Z"
   },
   {
    "duration": 18,
    "start_time": "2024-09-08T14:29:42.165Z"
   },
   {
    "duration": 836,
    "start_time": "2024-09-08T14:29:57.173Z"
   },
   {
    "duration": 241,
    "start_time": "2024-09-08T14:31:47.762Z"
   },
   {
    "duration": 142,
    "start_time": "2024-09-08T14:31:57.690Z"
   },
   {
    "duration": 126,
    "start_time": "2024-09-08T14:32:32.314Z"
   },
   {
    "duration": 342,
    "start_time": "2024-09-08T14:33:41.791Z"
   },
   {
    "duration": 190,
    "start_time": "2024-09-08T14:34:16.040Z"
   },
   {
    "duration": 360,
    "start_time": "2024-09-08T14:34:21.912Z"
   },
   {
    "duration": 217,
    "start_time": "2024-09-08T14:35:42.735Z"
   },
   {
    "duration": 188,
    "start_time": "2024-09-08T14:36:23.085Z"
   },
   {
    "duration": 748,
    "start_time": "2024-09-08T14:36:30.553Z"
   },
   {
    "duration": 162,
    "start_time": "2024-09-08T14:36:31.305Z"
   },
   {
    "duration": 9,
    "start_time": "2024-09-08T14:36:31.469Z"
   },
   {
    "duration": 11,
    "start_time": "2024-09-08T14:36:31.479Z"
   },
   {
    "duration": 2,
    "start_time": "2024-09-08T14:36:31.493Z"
   },
   {
    "duration": 14,
    "start_time": "2024-09-08T14:36:31.496Z"
   },
   {
    "duration": 9,
    "start_time": "2024-09-08T14:36:31.511Z"
   },
   {
    "duration": 8,
    "start_time": "2024-09-08T14:36:31.522Z"
   },
   {
    "duration": 2,
    "start_time": "2024-09-08T14:36:31.532Z"
   },
   {
    "duration": 15,
    "start_time": "2024-09-08T14:36:31.536Z"
   },
   {
    "duration": 10,
    "start_time": "2024-09-08T14:36:31.553Z"
   },
   {
    "duration": 56,
    "start_time": "2024-09-08T14:36:31.566Z"
   },
   {
    "duration": 12,
    "start_time": "2024-09-08T14:36:31.623Z"
   },
   {
    "duration": 11,
    "start_time": "2024-09-08T14:36:31.640Z"
   },
   {
    "duration": 7,
    "start_time": "2024-09-08T14:36:31.653Z"
   },
   {
    "duration": 17,
    "start_time": "2024-09-08T14:36:31.661Z"
   },
   {
    "duration": 14,
    "start_time": "2024-09-08T14:36:31.710Z"
   },
   {
    "duration": 10,
    "start_time": "2024-09-08T14:36:31.725Z"
   },
   {
    "duration": 22,
    "start_time": "2024-09-08T14:36:31.736Z"
   },
   {
    "duration": 49,
    "start_time": "2024-09-08T14:36:31.760Z"
   },
   {
    "duration": 7,
    "start_time": "2024-09-08T14:36:31.811Z"
   },
   {
    "duration": 23,
    "start_time": "2024-09-08T14:36:31.819Z"
   },
   {
    "duration": 18,
    "start_time": "2024-09-08T14:36:31.843Z"
   },
   {
    "duration": 13,
    "start_time": "2024-09-08T14:36:31.862Z"
   },
   {
    "duration": 53,
    "start_time": "2024-09-08T14:36:31.876Z"
   },
   {
    "duration": 30,
    "start_time": "2024-09-08T14:36:31.930Z"
   },
   {
    "duration": 15,
    "start_time": "2024-09-08T14:36:31.962Z"
   },
   {
    "duration": 102,
    "start_time": "2024-09-08T14:36:31.979Z"
   },
   {
    "duration": 305,
    "start_time": "2024-09-08T14:36:32.083Z"
   },
   {
    "duration": 898,
    "start_time": "2024-09-08T14:36:32.390Z"
   },
   {
    "duration": 0,
    "start_time": "2024-09-08T14:36:33.290Z"
   },
   {
    "duration": 0,
    "start_time": "2024-09-08T14:36:33.291Z"
   },
   {
    "duration": 0,
    "start_time": "2024-09-08T14:36:33.292Z"
   },
   {
    "duration": 0,
    "start_time": "2024-09-08T14:36:33.293Z"
   },
   {
    "duration": 0,
    "start_time": "2024-09-08T14:36:33.294Z"
   },
   {
    "duration": 0,
    "start_time": "2024-09-08T14:36:33.295Z"
   },
   {
    "duration": 406,
    "start_time": "2024-09-08T14:41:22.793Z"
   },
   {
    "duration": 154,
    "start_time": "2024-09-08T14:42:20.176Z"
   },
   {
    "duration": 10,
    "start_time": "2024-09-08T14:43:17.404Z"
   },
   {
    "duration": 151,
    "start_time": "2024-09-08T14:45:28.344Z"
   },
   {
    "duration": 155,
    "start_time": "2024-09-08T14:45:38.086Z"
   },
   {
    "duration": 99,
    "start_time": "2024-09-08T14:45:43.748Z"
   },
   {
    "duration": 99,
    "start_time": "2024-09-08T14:45:51.421Z"
   },
   {
    "duration": 100,
    "start_time": "2024-09-08T14:45:54.210Z"
   },
   {
    "duration": 130,
    "start_time": "2024-09-08T14:46:07.572Z"
   },
   {
    "duration": 126,
    "start_time": "2024-09-08T14:46:15.807Z"
   },
   {
    "duration": 180,
    "start_time": "2024-09-08T14:46:32.068Z"
   },
   {
    "duration": 420,
    "start_time": "2024-09-08T14:46:37.670Z"
   },
   {
    "duration": 185,
    "start_time": "2024-09-08T14:46:57.335Z"
   },
   {
    "duration": 179,
    "start_time": "2024-09-08T14:47:03.146Z"
   },
   {
    "duration": 127,
    "start_time": "2024-09-08T14:47:08.173Z"
   },
   {
    "duration": 175,
    "start_time": "2024-09-08T14:47:30.498Z"
   },
   {
    "duration": 130,
    "start_time": "2024-09-08T14:47:53.293Z"
   },
   {
    "duration": 133,
    "start_time": "2024-09-08T14:48:03.754Z"
   },
   {
    "duration": 140,
    "start_time": "2024-09-08T14:48:37.728Z"
   },
   {
    "duration": 133,
    "start_time": "2024-09-08T14:49:01.377Z"
   },
   {
    "duration": 135,
    "start_time": "2024-09-08T14:49:04.192Z"
   },
   {
    "duration": 133,
    "start_time": "2024-09-08T14:49:08.482Z"
   },
   {
    "duration": 132,
    "start_time": "2024-09-08T14:49:13.214Z"
   },
   {
    "duration": 262,
    "start_time": "2024-09-08T14:49:16.533Z"
   },
   {
    "duration": 133,
    "start_time": "2024-09-08T14:49:19.507Z"
   },
   {
    "duration": 135,
    "start_time": "2024-09-08T14:49:31.664Z"
   },
   {
    "duration": 150,
    "start_time": "2024-09-08T14:49:37.131Z"
   },
   {
    "duration": 133,
    "start_time": "2024-09-08T14:49:43.454Z"
   },
   {
    "duration": 245,
    "start_time": "2024-09-08T14:49:58.087Z"
   },
   {
    "duration": 135,
    "start_time": "2024-09-08T14:50:01.045Z"
   },
   {
    "duration": 181,
    "start_time": "2024-09-08T14:50:45.635Z"
   },
   {
    "duration": 133,
    "start_time": "2024-09-08T14:51:04.859Z"
   },
   {
    "duration": 134,
    "start_time": "2024-09-08T14:51:19.264Z"
   },
   {
    "duration": 150,
    "start_time": "2024-09-08T14:52:02.146Z"
   },
   {
    "duration": 15,
    "start_time": "2024-09-08T14:52:27.140Z"
   },
   {
    "duration": 726,
    "start_time": "2024-09-08T14:52:32.575Z"
   },
   {
    "duration": 161,
    "start_time": "2024-09-08T14:52:33.303Z"
   },
   {
    "duration": 9,
    "start_time": "2024-09-08T14:52:33.466Z"
   },
   {
    "duration": 9,
    "start_time": "2024-09-08T14:52:33.477Z"
   },
   {
    "duration": 2,
    "start_time": "2024-09-08T14:52:33.489Z"
   },
   {
    "duration": 18,
    "start_time": "2024-09-08T14:52:33.492Z"
   },
   {
    "duration": 8,
    "start_time": "2024-09-08T14:52:33.512Z"
   },
   {
    "duration": 8,
    "start_time": "2024-09-08T14:52:33.521Z"
   },
   {
    "duration": 2,
    "start_time": "2024-09-08T14:52:33.531Z"
   },
   {
    "duration": 14,
    "start_time": "2024-09-08T14:52:33.535Z"
   },
   {
    "duration": 9,
    "start_time": "2024-09-08T14:52:33.551Z"
   },
   {
    "duration": 62,
    "start_time": "2024-09-08T14:52:33.562Z"
   },
   {
    "duration": 12,
    "start_time": "2024-09-08T14:52:33.626Z"
   },
   {
    "duration": 12,
    "start_time": "2024-09-08T14:52:33.641Z"
   },
   {
    "duration": 7,
    "start_time": "2024-09-08T14:52:33.654Z"
   },
   {
    "duration": 17,
    "start_time": "2024-09-08T14:52:33.662Z"
   },
   {
    "duration": 14,
    "start_time": "2024-09-08T14:52:33.708Z"
   },
   {
    "duration": 8,
    "start_time": "2024-09-08T14:52:33.724Z"
   },
   {
    "duration": 20,
    "start_time": "2024-09-08T14:52:33.735Z"
   },
   {
    "duration": 20,
    "start_time": "2024-09-08T14:52:33.757Z"
   },
   {
    "duration": 36,
    "start_time": "2024-09-08T14:52:33.778Z"
   },
   {
    "duration": 22,
    "start_time": "2024-09-08T14:52:33.815Z"
   },
   {
    "duration": 18,
    "start_time": "2024-09-08T14:52:33.838Z"
   },
   {
    "duration": 13,
    "start_time": "2024-09-08T14:52:33.857Z"
   },
   {
    "duration": 50,
    "start_time": "2024-09-08T14:52:33.872Z"
   },
   {
    "duration": 29,
    "start_time": "2024-09-08T14:52:33.924Z"
   },
   {
    "duration": 16,
    "start_time": "2024-09-08T14:52:33.955Z"
   },
   {
    "duration": 102,
    "start_time": "2024-09-08T14:52:33.973Z"
   },
   {
    "duration": 302,
    "start_time": "2024-09-08T14:52:34.077Z"
   },
   {
    "duration": 268,
    "start_time": "2024-09-08T14:52:34.380Z"
   },
   {
    "duration": 0,
    "start_time": "2024-09-08T14:52:34.650Z"
   },
   {
    "duration": 0,
    "start_time": "2024-09-08T14:52:34.651Z"
   },
   {
    "duration": 0,
    "start_time": "2024-09-08T14:52:34.653Z"
   },
   {
    "duration": 0,
    "start_time": "2024-09-08T14:52:34.654Z"
   },
   {
    "duration": 0,
    "start_time": "2024-09-08T14:52:34.656Z"
   },
   {
    "duration": 0,
    "start_time": "2024-09-08T14:52:34.658Z"
   },
   {
    "duration": 147,
    "start_time": "2024-09-08T14:52:45.155Z"
   },
   {
    "duration": 200,
    "start_time": "2024-09-08T14:52:57.674Z"
   },
   {
    "duration": 185,
    "start_time": "2024-09-08T14:53:11.538Z"
   },
   {
    "duration": 127,
    "start_time": "2024-09-08T14:53:32.080Z"
   },
   {
    "duration": 129,
    "start_time": "2024-09-08T14:53:46.061Z"
   },
   {
    "duration": 204,
    "start_time": "2024-09-08T14:53:59.739Z"
   },
   {
    "duration": 140,
    "start_time": "2024-09-08T14:55:09.387Z"
   },
   {
    "duration": 151,
    "start_time": "2024-09-08T14:55:18.706Z"
   },
   {
    "duration": 490,
    "start_time": "2024-09-08T14:55:31.729Z"
   },
   {
    "duration": 156,
    "start_time": "2024-09-08T14:55:47.746Z"
   },
   {
    "duration": 162,
    "start_time": "2024-09-08T14:56:25.740Z"
   },
   {
    "duration": 163,
    "start_time": "2024-09-08T14:56:36.249Z"
   },
   {
    "duration": 393,
    "start_time": "2024-09-08T14:56:47.016Z"
   },
   {
    "duration": 233,
    "start_time": "2024-09-08T14:56:55.345Z"
   },
   {
    "duration": 311,
    "start_time": "2024-09-08T14:57:17.459Z"
   },
   {
    "duration": 233,
    "start_time": "2024-09-08T14:59:23.267Z"
   },
   {
    "duration": 231,
    "start_time": "2024-09-08T14:59:36.110Z"
   },
   {
    "duration": 282,
    "start_time": "2024-09-08T15:04:00.300Z"
   },
   {
    "duration": 619,
    "start_time": "2024-09-08T15:04:07.643Z"
   },
   {
    "duration": 274,
    "start_time": "2024-09-08T15:04:15.079Z"
   },
   {
    "duration": 286,
    "start_time": "2024-09-08T15:04:43.823Z"
   },
   {
    "duration": 275,
    "start_time": "2024-09-08T15:05:02.901Z"
   },
   {
    "duration": 6,
    "start_time": "2024-09-08T15:07:08.617Z"
   },
   {
    "duration": 278,
    "start_time": "2024-09-08T15:07:10.651Z"
   },
   {
    "duration": 164,
    "start_time": "2024-09-08T15:07:36.505Z"
   },
   {
    "duration": 184,
    "start_time": "2024-09-08T15:07:57.283Z"
   },
   {
    "duration": 170,
    "start_time": "2024-09-08T15:08:16.563Z"
   },
   {
    "duration": 181,
    "start_time": "2024-09-08T15:08:21.532Z"
   },
   {
    "duration": 342,
    "start_time": "2024-09-08T15:08:42.379Z"
   },
   {
    "duration": 183,
    "start_time": "2024-09-08T15:09:00.249Z"
   },
   {
    "duration": 174,
    "start_time": "2024-09-08T15:09:05.025Z"
   },
   {
    "duration": 321,
    "start_time": "2024-09-08T15:09:19.491Z"
   },
   {
    "duration": 178,
    "start_time": "2024-09-08T15:09:29.847Z"
   },
   {
    "duration": 6,
    "start_time": "2024-09-08T15:11:32.183Z"
   },
   {
    "duration": 6,
    "start_time": "2024-09-08T15:11:34.875Z"
   },
   {
    "duration": 6,
    "start_time": "2024-09-08T15:12:22.047Z"
   },
   {
    "duration": 174,
    "start_time": "2024-09-08T15:13:41.717Z"
   },
   {
    "duration": 167,
    "start_time": "2024-09-08T15:14:32.373Z"
   },
   {
    "duration": 170,
    "start_time": "2024-09-08T15:14:41.266Z"
   },
   {
    "duration": 169,
    "start_time": "2024-09-08T15:14:49.175Z"
   },
   {
    "duration": 296,
    "start_time": "2024-09-08T15:17:22.296Z"
   },
   {
    "duration": 6,
    "start_time": "2024-09-08T15:18:32.257Z"
   },
   {
    "duration": 176,
    "start_time": "2024-09-08T15:20:42.808Z"
   },
   {
    "duration": 182,
    "start_time": "2024-09-08T15:21:05.076Z"
   },
   {
    "duration": 170,
    "start_time": "2024-09-08T15:21:35.185Z"
   },
   {
    "duration": 193,
    "start_time": "2024-09-08T15:21:44.120Z"
   },
   {
    "duration": 186,
    "start_time": "2024-09-08T15:22:03.873Z"
   },
   {
    "duration": 181,
    "start_time": "2024-09-08T15:23:08.114Z"
   },
   {
    "duration": 191,
    "start_time": "2024-09-08T15:23:15.506Z"
   },
   {
    "duration": 409,
    "start_time": "2024-09-08T15:26:03.412Z"
   },
   {
    "duration": 36,
    "start_time": "2024-09-08T15:26:14.384Z"
   },
   {
    "duration": 279,
    "start_time": "2024-09-08T15:26:45.503Z"
   },
   {
    "duration": 5,
    "start_time": "2024-09-08T15:28:04.248Z"
   },
   {
    "duration": 5,
    "start_time": "2024-09-08T15:30:05.055Z"
   },
   {
    "duration": 5,
    "start_time": "2024-09-08T15:30:11.050Z"
   },
   {
    "duration": 6,
    "start_time": "2024-09-08T15:30:14.214Z"
   },
   {
    "duration": 5,
    "start_time": "2024-09-08T15:30:26.754Z"
   },
   {
    "duration": 7,
    "start_time": "2024-09-08T15:31:05.875Z"
   },
   {
    "duration": 227,
    "start_time": "2024-09-08T15:32:55.105Z"
   },
   {
    "duration": 137,
    "start_time": "2024-09-08T15:33:02.672Z"
   },
   {
    "duration": 138,
    "start_time": "2024-09-08T15:33:19.444Z"
   },
   {
    "duration": 344,
    "start_time": "2024-09-08T15:33:30.211Z"
   },
   {
    "duration": 191,
    "start_time": "2024-09-08T15:34:00.040Z"
   },
   {
    "duration": 128,
    "start_time": "2024-09-08T15:34:19.771Z"
   },
   {
    "duration": 185,
    "start_time": "2024-09-08T15:34:33.287Z"
   },
   {
    "duration": 199,
    "start_time": "2024-09-08T15:35:14.700Z"
   },
   {
    "duration": 185,
    "start_time": "2024-09-08T15:35:32.670Z"
   },
   {
    "duration": 179,
    "start_time": "2024-09-08T15:35:38.231Z"
   },
   {
    "duration": 186,
    "start_time": "2024-09-08T15:36:08.383Z"
   },
   {
    "duration": 178,
    "start_time": "2024-09-08T15:38:21.225Z"
   },
   {
    "duration": 169,
    "start_time": "2024-09-08T15:38:31.015Z"
   },
   {
    "duration": 183,
    "start_time": "2024-09-08T15:38:46.799Z"
   },
   {
    "duration": 176,
    "start_time": "2024-09-08T15:38:54.723Z"
   },
   {
    "duration": 184,
    "start_time": "2024-09-08T15:39:08.826Z"
   },
   {
    "duration": 181,
    "start_time": "2024-09-08T15:39:15.180Z"
   },
   {
    "duration": 5,
    "start_time": "2024-09-08T15:43:51.188Z"
   },
   {
    "duration": 4,
    "start_time": "2024-09-08T15:45:29.492Z"
   },
   {
    "duration": 5,
    "start_time": "2024-09-08T15:47:25.662Z"
   },
   {
    "duration": 5,
    "start_time": "2024-09-08T15:47:35.728Z"
   },
   {
    "duration": 4,
    "start_time": "2024-09-08T15:48:13.247Z"
   },
   {
    "duration": 4,
    "start_time": "2024-09-08T15:49:03.630Z"
   },
   {
    "duration": 4,
    "start_time": "2024-09-08T15:49:17.828Z"
   },
   {
    "duration": 5,
    "start_time": "2024-09-08T15:49:27.621Z"
   },
   {
    "duration": 13,
    "start_time": "2024-09-08T15:54:45.200Z"
   },
   {
    "duration": 509,
    "start_time": "2024-09-08T15:58:02.393Z"
   },
   {
    "duration": 37,
    "start_time": "2024-09-08T15:58:34.167Z"
   },
   {
    "duration": 724,
    "start_time": "2024-09-08T15:59:16.076Z"
   },
   {
    "duration": 169,
    "start_time": "2024-09-08T15:59:16.802Z"
   },
   {
    "duration": 9,
    "start_time": "2024-09-08T15:59:16.973Z"
   },
   {
    "duration": 9,
    "start_time": "2024-09-08T15:59:16.984Z"
   },
   {
    "duration": 2,
    "start_time": "2024-09-08T15:59:16.995Z"
   },
   {
    "duration": 3,
    "start_time": "2024-09-08T15:59:17.009Z"
   },
   {
    "duration": 8,
    "start_time": "2024-09-08T15:59:17.013Z"
   },
   {
    "duration": 7,
    "start_time": "2024-09-08T15:59:17.023Z"
   },
   {
    "duration": 2,
    "start_time": "2024-09-08T15:59:17.032Z"
   },
   {
    "duration": 15,
    "start_time": "2024-09-08T15:59:17.038Z"
   },
   {
    "duration": 8,
    "start_time": "2024-09-08T15:59:17.055Z"
   },
   {
    "duration": 57,
    "start_time": "2024-09-08T15:59:17.064Z"
   },
   {
    "duration": 12,
    "start_time": "2024-09-08T15:59:17.123Z"
   },
   {
    "duration": 12,
    "start_time": "2024-09-08T15:59:17.138Z"
   },
   {
    "duration": 7,
    "start_time": "2024-09-08T15:59:17.153Z"
   },
   {
    "duration": 21,
    "start_time": "2024-09-08T15:59:17.163Z"
   },
   {
    "duration": 43,
    "start_time": "2024-09-08T15:59:17.186Z"
   },
   {
    "duration": 11,
    "start_time": "2024-09-08T15:59:17.232Z"
   },
   {
    "duration": 23,
    "start_time": "2024-09-08T15:59:17.246Z"
   },
   {
    "duration": 41,
    "start_time": "2024-09-08T15:59:17.271Z"
   },
   {
    "duration": 6,
    "start_time": "2024-09-08T15:59:17.314Z"
   },
   {
    "duration": 20,
    "start_time": "2024-09-08T15:59:17.322Z"
   },
   {
    "duration": 17,
    "start_time": "2024-09-08T15:59:17.343Z"
   },
   {
    "duration": 13,
    "start_time": "2024-09-08T15:59:17.362Z"
   },
   {
    "duration": 53,
    "start_time": "2024-09-08T15:59:17.377Z"
   },
   {
    "duration": 30,
    "start_time": "2024-09-08T15:59:17.432Z"
   },
   {
    "duration": 14,
    "start_time": "2024-09-08T15:59:17.463Z"
   },
   {
    "duration": 102,
    "start_time": "2024-09-08T15:59:17.481Z"
   },
   {
    "duration": 315,
    "start_time": "2024-09-08T15:59:17.584Z"
   },
   {
    "duration": 282,
    "start_time": "2024-09-08T15:59:17.901Z"
   },
   {
    "duration": 5,
    "start_time": "2024-09-08T15:59:18.185Z"
   },
   {
    "duration": 209,
    "start_time": "2024-09-08T15:59:18.192Z"
   },
   {
    "duration": 281,
    "start_time": "2024-09-08T15:59:18.403Z"
   },
   {
    "duration": 4,
    "start_time": "2024-09-08T15:59:18.686Z"
   },
   {
    "duration": 183,
    "start_time": "2024-09-08T15:59:18.692Z"
   },
   {
    "duration": 292,
    "start_time": "2024-09-08T15:59:18.877Z"
   },
   {
    "duration": 5,
    "start_time": "2024-09-08T15:59:19.171Z"
   },
   {
    "duration": 257,
    "start_time": "2024-09-08T15:59:19.177Z"
   },
   {
    "duration": 289,
    "start_time": "2024-09-08T15:59:19.436Z"
   },
   {
    "duration": 193,
    "start_time": "2024-09-08T15:59:19.727Z"
   },
   {
    "duration": 4,
    "start_time": "2024-09-08T15:59:19.922Z"
   },
   {
    "duration": 200,
    "start_time": "2024-09-08T15:59:19.928Z"
   },
   {
    "duration": 6,
    "start_time": "2024-09-08T15:59:20.130Z"
   },
   {
    "duration": 36,
    "start_time": "2024-09-08T15:59:20.138Z"
   },
   {
    "duration": 811,
    "start_time": "2024-09-08T15:59:41.564Z"
   },
   {
    "duration": 134,
    "start_time": "2024-09-08T16:38:55.658Z"
   },
   {
    "duration": 805,
    "start_time": "2024-09-08T16:39:05.218Z"
   },
   {
    "duration": 176,
    "start_time": "2024-09-08T16:39:06.025Z"
   },
   {
    "duration": 10,
    "start_time": "2024-09-08T16:39:06.203Z"
   },
   {
    "duration": 12,
    "start_time": "2024-09-08T16:39:06.215Z"
   },
   {
    "duration": 2,
    "start_time": "2024-09-08T16:39:06.228Z"
   },
   {
    "duration": 3,
    "start_time": "2024-09-08T16:39:06.232Z"
   },
   {
    "duration": 7,
    "start_time": "2024-09-08T16:39:06.237Z"
   },
   {
    "duration": 8,
    "start_time": "2024-09-08T16:39:06.246Z"
   },
   {
    "duration": 4,
    "start_time": "2024-09-08T16:39:06.255Z"
   },
   {
    "duration": 47,
    "start_time": "2024-09-08T16:39:06.262Z"
   },
   {
    "duration": 8,
    "start_time": "2024-09-08T16:39:06.310Z"
   },
   {
    "duration": 24,
    "start_time": "2024-09-08T16:39:06.320Z"
   },
   {
    "duration": 12,
    "start_time": "2024-09-08T16:39:06.346Z"
   },
   {
    "duration": 13,
    "start_time": "2024-09-08T16:39:06.359Z"
   },
   {
    "duration": 36,
    "start_time": "2024-09-08T16:39:06.374Z"
   },
   {
    "duration": 17,
    "start_time": "2024-09-08T16:39:06.411Z"
   },
   {
    "duration": 13,
    "start_time": "2024-09-08T16:39:06.430Z"
   },
   {
    "duration": 9,
    "start_time": "2024-09-08T16:39:06.444Z"
   },
   {
    "duration": 21,
    "start_time": "2024-09-08T16:39:06.454Z"
   },
   {
    "duration": 51,
    "start_time": "2024-09-08T16:39:06.476Z"
   },
   {
    "duration": 7,
    "start_time": "2024-09-08T16:39:06.529Z"
   },
   {
    "duration": 21,
    "start_time": "2024-09-08T16:39:06.537Z"
   },
   {
    "duration": 18,
    "start_time": "2024-09-08T16:39:06.560Z"
   },
   {
    "duration": 38,
    "start_time": "2024-09-08T16:39:06.580Z"
   },
   {
    "duration": 26,
    "start_time": "2024-09-08T16:39:06.620Z"
   },
   {
    "duration": 33,
    "start_time": "2024-09-08T16:39:06.648Z"
   },
   {
    "duration": 41,
    "start_time": "2024-09-08T16:39:06.683Z"
   },
   {
    "duration": 89,
    "start_time": "2024-09-08T16:39:06.729Z"
   },
   {
    "duration": 314,
    "start_time": "2024-09-08T16:39:06.820Z"
   },
   {
    "duration": 298,
    "start_time": "2024-09-08T16:39:07.136Z"
   },
   {
    "duration": 6,
    "start_time": "2024-09-08T16:39:07.436Z"
   },
   {
    "duration": 211,
    "start_time": "2024-09-08T16:39:07.443Z"
   },
   {
    "duration": 286,
    "start_time": "2024-09-08T16:39:07.656Z"
   },
   {
    "duration": 7,
    "start_time": "2024-09-08T16:39:07.943Z"
   },
   {
    "duration": 189,
    "start_time": "2024-09-08T16:39:07.952Z"
   },
   {
    "duration": 299,
    "start_time": "2024-09-08T16:39:08.143Z"
   },
   {
    "duration": 5,
    "start_time": "2024-09-08T16:39:08.444Z"
   },
   {
    "duration": 258,
    "start_time": "2024-09-08T16:39:08.451Z"
   },
   {
    "duration": 287,
    "start_time": "2024-09-08T16:39:08.711Z"
   },
   {
    "duration": 195,
    "start_time": "2024-09-08T16:39:09.001Z"
   },
   {
    "duration": 5,
    "start_time": "2024-09-08T16:39:09.198Z"
   },
   {
    "duration": 186,
    "start_time": "2024-09-08T16:39:09.209Z"
   },
   {
    "duration": 11,
    "start_time": "2024-09-08T16:39:09.397Z"
   },
   {
    "duration": 865,
    "start_time": "2024-09-08T16:39:09.410Z"
   },
   {
    "duration": 148,
    "start_time": "2024-09-08T16:39:34.726Z"
   },
   {
    "duration": 21,
    "start_time": "2024-09-08T16:40:32.703Z"
   },
   {
    "duration": 17,
    "start_time": "2024-09-08T16:41:14.741Z"
   },
   {
    "duration": 21,
    "start_time": "2024-09-08T16:41:28.439Z"
   },
   {
    "duration": 726,
    "start_time": "2024-09-08T16:41:35.886Z"
   },
   {
    "duration": 153,
    "start_time": "2024-09-08T16:41:36.614Z"
   },
   {
    "duration": 10,
    "start_time": "2024-09-08T16:41:36.769Z"
   },
   {
    "duration": 9,
    "start_time": "2024-09-08T16:41:36.781Z"
   },
   {
    "duration": 2,
    "start_time": "2024-09-08T16:41:36.792Z"
   },
   {
    "duration": 2,
    "start_time": "2024-09-08T16:41:36.809Z"
   },
   {
    "duration": 8,
    "start_time": "2024-09-08T16:41:36.812Z"
   },
   {
    "duration": 7,
    "start_time": "2024-09-08T16:41:36.822Z"
   },
   {
    "duration": 2,
    "start_time": "2024-09-08T16:41:36.831Z"
   },
   {
    "duration": 14,
    "start_time": "2024-09-08T16:41:36.837Z"
   },
   {
    "duration": 9,
    "start_time": "2024-09-08T16:41:36.852Z"
   },
   {
    "duration": 61,
    "start_time": "2024-09-08T16:41:36.862Z"
   },
   {
    "duration": 12,
    "start_time": "2024-09-08T16:41:36.925Z"
   },
   {
    "duration": 15,
    "start_time": "2024-09-08T16:41:36.938Z"
   },
   {
    "duration": 7,
    "start_time": "2024-09-08T16:41:36.954Z"
   },
   {
    "duration": 17,
    "start_time": "2024-09-08T16:41:36.963Z"
   },
   {
    "duration": 14,
    "start_time": "2024-09-08T16:41:37.009Z"
   },
   {
    "duration": 8,
    "start_time": "2024-09-08T16:41:37.024Z"
   },
   {
    "duration": 20,
    "start_time": "2024-09-08T16:41:37.034Z"
   },
   {
    "duration": 20,
    "start_time": "2024-09-08T16:41:37.056Z"
   },
   {
    "duration": 35,
    "start_time": "2024-09-08T16:41:37.078Z"
   },
   {
    "duration": 21,
    "start_time": "2024-09-08T16:41:37.115Z"
   },
   {
    "duration": 17,
    "start_time": "2024-09-08T16:41:37.137Z"
   },
   {
    "duration": 13,
    "start_time": "2024-09-08T16:41:37.156Z"
   },
   {
    "duration": 54,
    "start_time": "2024-09-08T16:41:37.170Z"
   },
   {
    "duration": 31,
    "start_time": "2024-09-08T16:41:37.226Z"
   },
   {
    "duration": 16,
    "start_time": "2024-09-08T16:41:37.259Z"
   },
   {
    "duration": 102,
    "start_time": "2024-09-08T16:41:37.280Z"
   },
   {
    "duration": 304,
    "start_time": "2024-09-08T16:41:37.384Z"
   },
   {
    "duration": 290,
    "start_time": "2024-09-08T16:41:37.689Z"
   },
   {
    "duration": 5,
    "start_time": "2024-09-08T16:41:37.981Z"
   },
   {
    "duration": 204,
    "start_time": "2024-09-08T16:41:37.988Z"
   },
   {
    "duration": 304,
    "start_time": "2024-09-08T16:41:38.194Z"
   },
   {
    "duration": 9,
    "start_time": "2024-09-08T16:41:38.500Z"
   },
   {
    "duration": 178,
    "start_time": "2024-09-08T16:41:38.510Z"
   },
   {
    "duration": 302,
    "start_time": "2024-09-08T16:41:38.690Z"
   },
   {
    "duration": 5,
    "start_time": "2024-09-08T16:41:38.994Z"
   },
   {
    "duration": 268,
    "start_time": "2024-09-08T16:41:39.001Z"
   },
   {
    "duration": 291,
    "start_time": "2024-09-08T16:41:39.272Z"
   },
   {
    "duration": 187,
    "start_time": "2024-09-08T16:41:39.565Z"
   },
   {
    "duration": 5,
    "start_time": "2024-09-08T16:41:39.755Z"
   },
   {
    "duration": 200,
    "start_time": "2024-09-08T16:41:39.763Z"
   },
   {
    "duration": 5,
    "start_time": "2024-09-08T16:41:39.965Z"
   },
   {
    "duration": 860,
    "start_time": "2024-09-08T16:41:39.971Z"
   },
   {
    "duration": 717,
    "start_time": "2024-09-08T16:41:51.987Z"
   },
   {
    "duration": 157,
    "start_time": "2024-09-08T16:41:52.709Z"
   },
   {
    "duration": 10,
    "start_time": "2024-09-08T16:41:52.868Z"
   },
   {
    "duration": 10,
    "start_time": "2024-09-08T16:41:52.880Z"
   },
   {
    "duration": 2,
    "start_time": "2024-09-08T16:41:52.892Z"
   },
   {
    "duration": 15,
    "start_time": "2024-09-08T16:41:52.896Z"
   },
   {
    "duration": 8,
    "start_time": "2024-09-08T16:41:52.912Z"
   },
   {
    "duration": 7,
    "start_time": "2024-09-08T16:41:52.922Z"
   },
   {
    "duration": 2,
    "start_time": "2024-09-08T16:41:52.931Z"
   },
   {
    "duration": 15,
    "start_time": "2024-09-08T16:41:52.935Z"
   },
   {
    "duration": 8,
    "start_time": "2024-09-08T16:41:52.951Z"
   },
   {
    "duration": 63,
    "start_time": "2024-09-08T16:41:52.961Z"
   },
   {
    "duration": 13,
    "start_time": "2024-09-08T16:41:53.025Z"
   },
   {
    "duration": 12,
    "start_time": "2024-09-08T16:41:53.041Z"
   },
   {
    "duration": 8,
    "start_time": "2024-09-08T16:41:53.054Z"
   },
   {
    "duration": 46,
    "start_time": "2024-09-08T16:41:53.063Z"
   },
   {
    "duration": 14,
    "start_time": "2024-09-08T16:41:53.110Z"
   },
   {
    "duration": 8,
    "start_time": "2024-09-08T16:41:53.126Z"
   },
   {
    "duration": 21,
    "start_time": "2024-09-08T16:41:53.136Z"
   },
   {
    "duration": 19,
    "start_time": "2024-09-08T16:41:53.159Z"
   },
   {
    "duration": 7,
    "start_time": "2024-09-08T16:41:53.208Z"
   },
   {
    "duration": 20,
    "start_time": "2024-09-08T16:41:53.217Z"
   },
   {
    "duration": 18,
    "start_time": "2024-09-08T16:41:53.239Z"
   },
   {
    "duration": 13,
    "start_time": "2024-09-08T16:41:53.258Z"
   },
   {
    "duration": 48,
    "start_time": "2024-09-08T16:41:53.273Z"
   },
   {
    "duration": 29,
    "start_time": "2024-09-08T16:41:53.323Z"
   },
   {
    "duration": 16,
    "start_time": "2024-09-08T16:41:53.354Z"
   },
   {
    "duration": 95,
    "start_time": "2024-09-08T16:41:53.372Z"
   },
   {
    "duration": 296,
    "start_time": "2024-09-08T16:41:53.469Z"
   },
   {
    "duration": 283,
    "start_time": "2024-09-08T16:41:53.767Z"
   },
   {
    "duration": 5,
    "start_time": "2024-09-08T16:41:54.052Z"
   },
   {
    "duration": 208,
    "start_time": "2024-09-08T16:41:54.059Z"
   },
   {
    "duration": 277,
    "start_time": "2024-09-08T16:41:54.269Z"
   },
   {
    "duration": 5,
    "start_time": "2024-09-08T16:41:54.548Z"
   },
   {
    "duration": 189,
    "start_time": "2024-09-08T16:41:54.555Z"
   },
   {
    "duration": 296,
    "start_time": "2024-09-08T16:41:54.747Z"
   },
   {
    "duration": 5,
    "start_time": "2024-09-08T16:41:55.045Z"
   },
   {
    "duration": 262,
    "start_time": "2024-09-08T16:41:55.052Z"
   },
   {
    "duration": 288,
    "start_time": "2024-09-08T16:41:55.315Z"
   },
   {
    "duration": 185,
    "start_time": "2024-09-08T16:41:55.608Z"
   },
   {
    "duration": 13,
    "start_time": "2024-09-08T16:41:55.797Z"
   },
   {
    "duration": 189,
    "start_time": "2024-09-08T16:41:55.811Z"
   },
   {
    "duration": 10,
    "start_time": "2024-09-08T16:41:56.001Z"
   },
   {
    "duration": 21,
    "start_time": "2024-09-08T16:41:56.012Z"
   },
   {
    "duration": 862,
    "start_time": "2024-09-08T16:44:43.691Z"
   },
   {
    "duration": 739,
    "start_time": "2024-09-08T16:44:52.888Z"
   },
   {
    "duration": 160,
    "start_time": "2024-09-08T16:44:53.630Z"
   },
   {
    "duration": 15,
    "start_time": "2024-09-08T16:44:53.794Z"
   },
   {
    "duration": 11,
    "start_time": "2024-09-08T16:44:53.811Z"
   },
   {
    "duration": 3,
    "start_time": "2024-09-08T16:44:53.824Z"
   },
   {
    "duration": 2,
    "start_time": "2024-09-08T16:44:53.829Z"
   },
   {
    "duration": 9,
    "start_time": "2024-09-08T16:44:53.833Z"
   },
   {
    "duration": 7,
    "start_time": "2024-09-08T16:44:53.844Z"
   },
   {
    "duration": 3,
    "start_time": "2024-09-08T16:44:53.853Z"
   },
   {
    "duration": 15,
    "start_time": "2024-09-08T16:44:53.857Z"
   },
   {
    "duration": 42,
    "start_time": "2024-09-08T16:44:53.874Z"
   },
   {
    "duration": 25,
    "start_time": "2024-09-08T16:44:53.918Z"
   },
   {
    "duration": 13,
    "start_time": "2024-09-08T16:44:53.945Z"
   },
   {
    "duration": 12,
    "start_time": "2024-09-08T16:44:53.962Z"
   },
   {
    "duration": 41,
    "start_time": "2024-09-08T16:44:53.975Z"
   },
   {
    "duration": 19,
    "start_time": "2024-09-08T16:44:54.018Z"
   },
   {
    "duration": 13,
    "start_time": "2024-09-08T16:44:54.039Z"
   },
   {
    "duration": 8,
    "start_time": "2024-09-08T16:44:54.054Z"
   },
   {
    "duration": 50,
    "start_time": "2024-09-08T16:44:54.064Z"
   },
   {
    "duration": 22,
    "start_time": "2024-09-08T16:44:54.115Z"
   },
   {
    "duration": 7,
    "start_time": "2024-09-08T16:44:54.139Z"
   },
   {
    "duration": 22,
    "start_time": "2024-09-08T16:44:54.147Z"
   },
   {
    "duration": 47,
    "start_time": "2024-09-08T16:44:54.171Z"
   },
   {
    "duration": 14,
    "start_time": "2024-09-08T16:44:54.220Z"
   },
   {
    "duration": 25,
    "start_time": "2024-09-08T16:44:54.236Z"
   },
   {
    "duration": 52,
    "start_time": "2024-09-08T16:44:54.262Z"
   },
   {
    "duration": 14,
    "start_time": "2024-09-08T16:44:54.317Z"
   },
   {
    "duration": 92,
    "start_time": "2024-09-08T16:44:54.333Z"
   },
   {
    "duration": 307,
    "start_time": "2024-09-08T16:44:54.427Z"
   },
   {
    "duration": 308,
    "start_time": "2024-09-08T16:44:54.735Z"
   },
   {
    "duration": 6,
    "start_time": "2024-09-08T16:44:55.046Z"
   },
   {
    "duration": 218,
    "start_time": "2024-09-08T16:44:55.054Z"
   },
   {
    "duration": 303,
    "start_time": "2024-09-08T16:44:55.274Z"
   },
   {
    "duration": 5,
    "start_time": "2024-09-08T16:44:55.579Z"
   },
   {
    "duration": 197,
    "start_time": "2024-09-08T16:44:55.586Z"
   },
   {
    "duration": 309,
    "start_time": "2024-09-08T16:44:55.785Z"
   },
   {
    "duration": 13,
    "start_time": "2024-09-08T16:44:56.096Z"
   },
   {
    "duration": 272,
    "start_time": "2024-09-08T16:44:56.111Z"
   },
   {
    "duration": 303,
    "start_time": "2024-09-08T16:44:56.384Z"
   },
   {
    "duration": 204,
    "start_time": "2024-09-08T16:44:56.689Z"
   },
   {
    "duration": 11,
    "start_time": "2024-09-08T16:44:56.897Z"
   },
   {
    "duration": 199,
    "start_time": "2024-09-08T16:44:56.910Z"
   },
   {
    "duration": 5,
    "start_time": "2024-09-08T16:44:57.111Z"
   },
   {
    "duration": 26,
    "start_time": "2024-09-08T16:44:57.119Z"
   },
   {
    "duration": 731,
    "start_time": "2024-09-08T16:47:01.188Z"
   },
   {
    "duration": 163,
    "start_time": "2024-09-08T16:47:01.922Z"
   },
   {
    "duration": 10,
    "start_time": "2024-09-08T16:47:02.086Z"
   },
   {
    "duration": 14,
    "start_time": "2024-09-08T16:47:02.097Z"
   },
   {
    "duration": 2,
    "start_time": "2024-09-08T16:47:02.113Z"
   },
   {
    "duration": 2,
    "start_time": "2024-09-08T16:47:02.117Z"
   },
   {
    "duration": 8,
    "start_time": "2024-09-08T16:47:02.121Z"
   },
   {
    "duration": 7,
    "start_time": "2024-09-08T16:47:02.131Z"
   },
   {
    "duration": 3,
    "start_time": "2024-09-08T16:47:02.139Z"
   },
   {
    "duration": 16,
    "start_time": "2024-09-08T16:47:02.143Z"
   },
   {
    "duration": 10,
    "start_time": "2024-09-08T16:47:02.160Z"
   },
   {
    "duration": 26,
    "start_time": "2024-09-08T16:47:02.209Z"
   },
   {
    "duration": 14,
    "start_time": "2024-09-08T16:47:02.237Z"
   },
   {
    "duration": 13,
    "start_time": "2024-09-08T16:47:02.255Z"
   },
   {
    "duration": 6,
    "start_time": "2024-09-08T16:47:02.270Z"
   },
   {
    "duration": 47,
    "start_time": "2024-09-08T16:47:02.278Z"
   },
   {
    "duration": 13,
    "start_time": "2024-09-08T16:47:02.326Z"
   },
   {
    "duration": 7,
    "start_time": "2024-09-08T16:47:02.341Z"
   },
   {
    "duration": 20,
    "start_time": "2024-09-08T16:47:02.350Z"
   },
   {
    "duration": 47,
    "start_time": "2024-09-08T16:47:02.372Z"
   },
   {
    "duration": 6,
    "start_time": "2024-09-08T16:47:02.421Z"
   },
   {
    "duration": 21,
    "start_time": "2024-09-08T16:47:02.429Z"
   },
   {
    "duration": 17,
    "start_time": "2024-09-08T16:47:02.452Z"
   },
   {
    "duration": 38,
    "start_time": "2024-09-08T16:47:02.471Z"
   },
   {
    "duration": 23,
    "start_time": "2024-09-08T16:47:02.511Z"
   },
   {
    "duration": 29,
    "start_time": "2024-09-08T16:47:02.536Z"
   },
   {
    "duration": 15,
    "start_time": "2024-09-08T16:47:02.566Z"
   },
   {
    "duration": 104,
    "start_time": "2024-09-08T16:47:02.583Z"
   },
   {
    "duration": 306,
    "start_time": "2024-09-08T16:47:02.688Z"
   },
   {
    "duration": 301,
    "start_time": "2024-09-08T16:47:02.996Z"
   },
   {
    "duration": 12,
    "start_time": "2024-09-08T16:47:03.299Z"
   },
   {
    "duration": 200,
    "start_time": "2024-09-08T16:47:03.312Z"
   },
   {
    "duration": 287,
    "start_time": "2024-09-08T16:47:03.514Z"
   },
   {
    "duration": 10,
    "start_time": "2024-09-08T16:47:03.803Z"
   },
   {
    "duration": 180,
    "start_time": "2024-09-08T16:47:03.814Z"
   },
   {
    "duration": 305,
    "start_time": "2024-09-08T16:47:03.997Z"
   },
   {
    "duration": 6,
    "start_time": "2024-09-08T16:47:04.308Z"
   },
   {
    "duration": 269,
    "start_time": "2024-09-08T16:47:04.315Z"
   },
   {
    "duration": 298,
    "start_time": "2024-09-08T16:47:04.586Z"
   },
   {
    "duration": 195,
    "start_time": "2024-09-08T16:47:04.887Z"
   },
   {
    "duration": 4,
    "start_time": "2024-09-08T16:47:05.088Z"
   },
   {
    "duration": 199,
    "start_time": "2024-09-08T16:47:05.095Z"
   },
   {
    "duration": 13,
    "start_time": "2024-09-08T16:47:05.296Z"
   },
   {
    "duration": 28,
    "start_time": "2024-09-08T16:47:05.311Z"
   },
   {
    "duration": 266,
    "start_time": "2024-09-08T17:02:51.237Z"
   },
   {
    "duration": 12,
    "start_time": "2024-09-08T17:03:04.368Z"
   },
   {
    "duration": 11,
    "start_time": "2024-09-08T17:03:52.875Z"
   },
   {
    "duration": 9,
    "start_time": "2024-09-08T17:25:47.660Z"
   },
   {
    "duration": 9,
    "start_time": "2024-09-08T17:25:59.901Z"
   },
   {
    "duration": 9,
    "start_time": "2024-09-08T17:26:03.053Z"
   },
   {
    "duration": 757,
    "start_time": "2024-09-08T17:26:23.966Z"
   },
   {
    "duration": 168,
    "start_time": "2024-09-08T17:26:24.726Z"
   },
   {
    "duration": 5,
    "start_time": "2024-09-08T17:26:24.896Z"
   },
   {
    "duration": 0,
    "start_time": "2024-09-08T17:26:24.909Z"
   },
   {
    "duration": 0,
    "start_time": "2024-09-08T17:26:24.910Z"
   },
   {
    "duration": 0,
    "start_time": "2024-09-08T17:26:24.912Z"
   },
   {
    "duration": 0,
    "start_time": "2024-09-08T17:26:24.914Z"
   },
   {
    "duration": 0,
    "start_time": "2024-09-08T17:26:24.915Z"
   },
   {
    "duration": 0,
    "start_time": "2024-09-08T17:26:24.917Z"
   },
   {
    "duration": 0,
    "start_time": "2024-09-08T17:26:24.918Z"
   },
   {
    "duration": 0,
    "start_time": "2024-09-08T17:26:24.920Z"
   },
   {
    "duration": 0,
    "start_time": "2024-09-08T17:26:24.921Z"
   },
   {
    "duration": 0,
    "start_time": "2024-09-08T17:26:24.922Z"
   },
   {
    "duration": 0,
    "start_time": "2024-09-08T17:26:24.924Z"
   },
   {
    "duration": 0,
    "start_time": "2024-09-08T17:26:24.925Z"
   },
   {
    "duration": 0,
    "start_time": "2024-09-08T17:26:24.926Z"
   },
   {
    "duration": 0,
    "start_time": "2024-09-08T17:26:24.927Z"
   },
   {
    "duration": 0,
    "start_time": "2024-09-08T17:26:24.928Z"
   },
   {
    "duration": 0,
    "start_time": "2024-09-08T17:26:24.929Z"
   },
   {
    "duration": 0,
    "start_time": "2024-09-08T17:26:24.930Z"
   },
   {
    "duration": 0,
    "start_time": "2024-09-08T17:26:24.932Z"
   },
   {
    "duration": 0,
    "start_time": "2024-09-08T17:26:24.933Z"
   },
   {
    "duration": 0,
    "start_time": "2024-09-08T17:26:24.934Z"
   },
   {
    "duration": 0,
    "start_time": "2024-09-08T17:26:24.935Z"
   },
   {
    "duration": 0,
    "start_time": "2024-09-08T17:26:24.936Z"
   },
   {
    "duration": 0,
    "start_time": "2024-09-08T17:26:24.937Z"
   },
   {
    "duration": 0,
    "start_time": "2024-09-08T17:26:24.938Z"
   },
   {
    "duration": 0,
    "start_time": "2024-09-08T17:26:24.940Z"
   },
   {
    "duration": 1,
    "start_time": "2024-09-08T17:26:24.941Z"
   },
   {
    "duration": 0,
    "start_time": "2024-09-08T17:26:24.943Z"
   },
   {
    "duration": 0,
    "start_time": "2024-09-08T17:26:24.944Z"
   },
   {
    "duration": 0,
    "start_time": "2024-09-08T17:26:24.946Z"
   },
   {
    "duration": 0,
    "start_time": "2024-09-08T17:26:24.947Z"
   },
   {
    "duration": 0,
    "start_time": "2024-09-08T17:26:24.949Z"
   },
   {
    "duration": 0,
    "start_time": "2024-09-08T17:26:24.950Z"
   },
   {
    "duration": 0,
    "start_time": "2024-09-08T17:26:25.008Z"
   },
   {
    "duration": 0,
    "start_time": "2024-09-08T17:26:25.010Z"
   },
   {
    "duration": 0,
    "start_time": "2024-09-08T17:26:25.012Z"
   },
   {
    "duration": 0,
    "start_time": "2024-09-08T17:26:25.013Z"
   },
   {
    "duration": 0,
    "start_time": "2024-09-08T17:26:25.014Z"
   },
   {
    "duration": 0,
    "start_time": "2024-09-08T17:26:25.016Z"
   },
   {
    "duration": 0,
    "start_time": "2024-09-08T17:26:25.018Z"
   },
   {
    "duration": 0,
    "start_time": "2024-09-08T17:26:25.019Z"
   },
   {
    "duration": 0,
    "start_time": "2024-09-08T17:26:25.021Z"
   },
   {
    "duration": 0,
    "start_time": "2024-09-08T17:26:25.023Z"
   },
   {
    "duration": 0,
    "start_time": "2024-09-08T17:26:25.024Z"
   },
   {
    "duration": 0,
    "start_time": "2024-09-08T17:26:25.025Z"
   },
   {
    "duration": 10,
    "start_time": "2024-09-08T17:26:40.371Z"
   },
   {
    "duration": 10,
    "start_time": "2024-09-08T17:26:42.829Z"
   },
   {
    "duration": 380,
    "start_time": "2024-09-08T17:26:45.302Z"
   },
   {
    "duration": 9,
    "start_time": "2024-09-08T17:26:49.006Z"
   },
   {
    "duration": 738,
    "start_time": "2024-09-08T17:27:14.586Z"
   },
   {
    "duration": 162,
    "start_time": "2024-09-08T17:27:15.327Z"
   },
   {
    "duration": 9,
    "start_time": "2024-09-08T17:27:15.491Z"
   },
   {
    "duration": 16,
    "start_time": "2024-09-08T17:27:15.502Z"
   },
   {
    "duration": 7,
    "start_time": "2024-09-08T17:27:15.521Z"
   },
   {
    "duration": 2,
    "start_time": "2024-09-08T17:27:15.530Z"
   },
   {
    "duration": 9,
    "start_time": "2024-09-08T17:27:15.534Z"
   },
   {
    "duration": 9,
    "start_time": "2024-09-08T17:27:15.544Z"
   },
   {
    "duration": 11,
    "start_time": "2024-09-08T17:27:15.554Z"
   },
   {
    "duration": 3,
    "start_time": "2024-09-08T17:27:15.567Z"
   },
   {
    "duration": 50,
    "start_time": "2024-09-08T17:27:15.572Z"
   },
   {
    "duration": 9,
    "start_time": "2024-09-08T17:27:15.623Z"
   },
   {
    "duration": 24,
    "start_time": "2024-09-08T17:27:15.634Z"
   },
   {
    "duration": 14,
    "start_time": "2024-09-08T17:27:15.662Z"
   },
   {
    "duration": 37,
    "start_time": "2024-09-08T17:27:15.677Z"
   },
   {
    "duration": 7,
    "start_time": "2024-09-08T17:27:15.716Z"
   },
   {
    "duration": 17,
    "start_time": "2024-09-08T17:27:15.725Z"
   },
   {
    "duration": 2,
    "start_time": "2024-09-08T17:27:15.743Z"
   },
   {
    "duration": 13,
    "start_time": "2024-09-08T17:27:15.747Z"
   },
   {
    "duration": 12,
    "start_time": "2024-09-08T17:27:15.761Z"
   },
   {
    "duration": 49,
    "start_time": "2024-09-08T17:27:15.777Z"
   },
   {
    "duration": 25,
    "start_time": "2024-09-08T17:27:15.827Z"
   },
   {
    "duration": 7,
    "start_time": "2024-09-08T17:27:15.854Z"
   },
   {
    "duration": 21,
    "start_time": "2024-09-08T17:27:15.864Z"
   },
   {
    "duration": 38,
    "start_time": "2024-09-08T17:27:15.887Z"
   },
   {
    "duration": 12,
    "start_time": "2024-09-08T17:27:15.927Z"
   },
   {
    "duration": 24,
    "start_time": "2024-09-08T17:27:15.941Z"
   },
   {
    "duration": 53,
    "start_time": "2024-09-08T17:27:15.967Z"
   },
   {
    "duration": 14,
    "start_time": "2024-09-08T17:27:16.022Z"
   },
   {
    "duration": 93,
    "start_time": "2024-09-08T17:27:16.038Z"
   },
   {
    "duration": 303,
    "start_time": "2024-09-08T17:27:16.133Z"
   },
   {
    "duration": 291,
    "start_time": "2024-09-08T17:27:16.438Z"
   },
   {
    "duration": 6,
    "start_time": "2024-09-08T17:27:16.731Z"
   },
   {
    "duration": 205,
    "start_time": "2024-09-08T17:27:16.739Z"
   },
   {
    "duration": 316,
    "start_time": "2024-09-08T17:27:16.946Z"
   },
   {
    "duration": 5,
    "start_time": "2024-09-08T17:27:17.264Z"
   },
   {
    "duration": 201,
    "start_time": "2024-09-08T17:27:17.270Z"
   },
   {
    "duration": 304,
    "start_time": "2024-09-08T17:27:17.473Z"
   },
   {
    "duration": 5,
    "start_time": "2024-09-08T17:27:17.780Z"
   },
   {
    "duration": 262,
    "start_time": "2024-09-08T17:27:17.787Z"
   },
   {
    "duration": 298,
    "start_time": "2024-09-08T17:27:18.053Z"
   },
   {
    "duration": 187,
    "start_time": "2024-09-08T17:27:18.355Z"
   },
   {
    "duration": 5,
    "start_time": "2024-09-08T17:27:18.544Z"
   },
   {
    "duration": 194,
    "start_time": "2024-09-08T17:27:18.550Z"
   },
   {
    "duration": 5,
    "start_time": "2024-09-08T17:27:18.746Z"
   },
   {
    "duration": 27,
    "start_time": "2024-09-08T17:27:18.753Z"
   },
   {
    "duration": 5755,
    "start_time": "2024-09-10T10:27:15.487Z"
   },
   {
    "duration": 470,
    "start_time": "2024-09-10T10:27:21.244Z"
   },
   {
    "duration": 10,
    "start_time": "2024-09-10T10:27:21.716Z"
   },
   {
    "duration": 10,
    "start_time": "2024-09-10T10:27:21.728Z"
   },
   {
    "duration": 70,
    "start_time": "2024-09-10T10:27:21.739Z"
   },
   {
    "duration": 2,
    "start_time": "2024-09-10T10:27:21.811Z"
   },
   {
    "duration": 12,
    "start_time": "2024-09-10T10:27:21.815Z"
   },
   {
    "duration": 9,
    "start_time": "2024-09-10T10:27:21.829Z"
   },
   {
    "duration": 72,
    "start_time": "2024-09-10T10:27:21.839Z"
   },
   {
    "duration": 2,
    "start_time": "2024-09-10T10:27:21.915Z"
   },
   {
    "duration": 15,
    "start_time": "2024-09-10T10:27:21.919Z"
   },
   {
    "duration": 69,
    "start_time": "2024-09-10T10:27:21.937Z"
   },
   {
    "duration": 27,
    "start_time": "2024-09-10T10:27:22.008Z"
   },
   {
    "duration": 70,
    "start_time": "2024-09-10T10:27:22.037Z"
   },
   {
    "duration": 15,
    "start_time": "2024-09-10T10:27:22.108Z"
   },
   {
    "duration": 8,
    "start_time": "2024-09-10T10:27:22.125Z"
   },
   {
    "duration": 76,
    "start_time": "2024-09-10T10:27:22.134Z"
   },
   {
    "duration": 2,
    "start_time": "2024-09-10T10:27:22.212Z"
   },
   {
    "duration": 16,
    "start_time": "2024-09-10T10:27:22.216Z"
   },
   {
    "duration": 7,
    "start_time": "2024-09-10T10:27:22.234Z"
   },
   {
    "duration": 92,
    "start_time": "2024-09-10T10:27:22.243Z"
   },
   {
    "duration": 79,
    "start_time": "2024-09-10T10:27:22.336Z"
   },
   {
    "duration": 9,
    "start_time": "2024-09-10T10:27:22.417Z"
   },
   {
    "duration": 83,
    "start_time": "2024-09-10T10:27:22.428Z"
   },
   {
    "duration": 22,
    "start_time": "2024-09-10T10:27:22.513Z"
   },
   {
    "duration": 12,
    "start_time": "2024-09-10T10:27:22.537Z"
   },
   {
    "duration": 80,
    "start_time": "2024-09-10T10:27:22.551Z"
   },
   {
    "duration": 92,
    "start_time": "2024-09-10T10:27:22.637Z"
   },
   {
    "duration": 14,
    "start_time": "2024-09-10T10:27:22.732Z"
   },
   {
    "duration": 186,
    "start_time": "2024-09-10T10:27:22.748Z"
   },
   {
    "duration": 669,
    "start_time": "2024-09-10T10:27:22.936Z"
   },
   {
    "duration": 632,
    "start_time": "2024-09-10T10:27:23.607Z"
   },
   {
    "duration": 5,
    "start_time": "2024-09-10T10:27:24.242Z"
   },
   {
    "duration": 503,
    "start_time": "2024-09-10T10:27:24.306Z"
   },
   {
    "duration": 613,
    "start_time": "2024-09-10T10:27:24.811Z"
   },
   {
    "duration": 8,
    "start_time": "2024-09-10T10:27:25.426Z"
   },
   {
    "duration": 471,
    "start_time": "2024-09-10T10:27:25.436Z"
   },
   {
    "duration": 612,
    "start_time": "2024-09-10T10:27:25.909Z"
   },
   {
    "duration": 6,
    "start_time": "2024-09-10T10:27:26.523Z"
   },
   {
    "duration": 491,
    "start_time": "2024-09-10T10:27:26.531Z"
   },
   {
    "duration": 410,
    "start_time": "2024-09-10T10:27:27.024Z"
   },
   {
    "duration": 243,
    "start_time": "2024-09-10T10:27:27.436Z"
   },
   {
    "duration": 4,
    "start_time": "2024-09-10T10:27:27.681Z"
   },
   {
    "duration": 187,
    "start_time": "2024-09-10T10:27:27.687Z"
   },
   {
    "duration": 4,
    "start_time": "2024-09-10T10:27:27.876Z"
   },
   {
    "duration": 38,
    "start_time": "2024-09-10T10:27:27.882Z"
   },
   {
    "duration": 724,
    "start_time": "2024-09-10T13:12:42.570Z"
   },
   {
    "duration": 158,
    "start_time": "2024-09-10T13:12:43.296Z"
   },
   {
    "duration": 9,
    "start_time": "2024-09-10T13:12:43.456Z"
   },
   {
    "duration": 10,
    "start_time": "2024-09-10T13:12:43.467Z"
   },
   {
    "duration": 7,
    "start_time": "2024-09-10T13:12:43.479Z"
   },
   {
    "duration": 19,
    "start_time": "2024-09-10T13:12:43.488Z"
   },
   {
    "duration": 8,
    "start_time": "2024-09-10T13:12:43.509Z"
   },
   {
    "duration": 8,
    "start_time": "2024-09-10T13:12:43.518Z"
   },
   {
    "duration": 10,
    "start_time": "2024-09-10T13:12:43.528Z"
   },
   {
    "duration": 2,
    "start_time": "2024-09-10T13:12:43.540Z"
   },
   {
    "duration": 14,
    "start_time": "2024-09-10T13:12:43.544Z"
   },
   {
    "duration": 8,
    "start_time": "2024-09-10T13:12:43.605Z"
   },
   {
    "duration": 25,
    "start_time": "2024-09-10T13:12:43.615Z"
   },
   {
    "duration": 12,
    "start_time": "2024-09-10T13:12:43.644Z"
   },
   {
    "duration": 12,
    "start_time": "2024-09-10T13:12:43.657Z"
   },
   {
    "duration": 41,
    "start_time": "2024-09-10T13:12:43.671Z"
   },
   {
    "duration": 19,
    "start_time": "2024-09-10T13:12:43.714Z"
   },
   {
    "duration": 2,
    "start_time": "2024-09-10T13:12:43.734Z"
   },
   {
    "duration": 13,
    "start_time": "2024-09-10T13:12:43.738Z"
   },
   {
    "duration": 8,
    "start_time": "2024-09-10T13:12:43.752Z"
   },
   {
    "duration": 58,
    "start_time": "2024-09-10T13:12:43.762Z"
   },
   {
    "duration": 19,
    "start_time": "2024-09-10T13:12:43.823Z"
   },
   {
    "duration": 7,
    "start_time": "2024-09-10T13:12:43.844Z"
   },
   {
    "duration": 22,
    "start_time": "2024-09-10T13:12:43.853Z"
   },
   {
    "duration": 18,
    "start_time": "2024-09-10T13:12:43.906Z"
   },
   {
    "duration": 12,
    "start_time": "2024-09-10T13:12:43.926Z"
   },
   {
    "duration": 23,
    "start_time": "2024-09-10T13:12:43.940Z"
   },
   {
    "duration": 64,
    "start_time": "2024-09-10T13:12:43.964Z"
   },
   {
    "duration": 15,
    "start_time": "2024-09-10T13:12:44.030Z"
   },
   {
    "duration": 100,
    "start_time": "2024-09-10T13:12:44.047Z"
   },
   {
    "duration": 305,
    "start_time": "2024-09-10T13:12:44.149Z"
   },
   {
    "duration": 301,
    "start_time": "2024-09-10T13:12:44.456Z"
   },
   {
    "duration": 5,
    "start_time": "2024-09-10T13:12:44.759Z"
   },
   {
    "duration": 208,
    "start_time": "2024-09-10T13:12:44.766Z"
   },
   {
    "duration": 289,
    "start_time": "2024-09-10T13:12:44.977Z"
   },
   {
    "duration": 5,
    "start_time": "2024-09-10T13:12:45.268Z"
   },
   {
    "duration": 191,
    "start_time": "2024-09-10T13:12:45.274Z"
   },
   {
    "duration": 296,
    "start_time": "2024-09-10T13:12:45.467Z"
   },
   {
    "duration": 5,
    "start_time": "2024-09-10T13:12:45.765Z"
   },
   {
    "duration": 278,
    "start_time": "2024-09-10T13:12:45.772Z"
   },
   {
    "duration": 300,
    "start_time": "2024-09-10T13:12:46.055Z"
   },
   {
    "duration": 195,
    "start_time": "2024-09-10T13:12:46.357Z"
   },
   {
    "duration": 5,
    "start_time": "2024-09-10T13:12:46.554Z"
   },
   {
    "duration": 197,
    "start_time": "2024-09-10T13:12:46.561Z"
   },
   {
    "duration": 5,
    "start_time": "2024-09-10T13:12:46.760Z"
   },
   {
    "duration": 40,
    "start_time": "2024-09-10T13:12:46.767Z"
   },
   {
    "duration": 16,
    "start_time": "2024-09-10T13:22:27.560Z"
   },
   {
    "duration": 2599,
    "start_time": "2024-09-10T22:34:53.583Z"
   },
   {
    "duration": 283,
    "start_time": "2024-09-10T22:34:56.184Z"
   },
   {
    "duration": 9,
    "start_time": "2024-09-10T22:34:56.471Z"
   },
   {
    "duration": 10,
    "start_time": "2024-09-10T22:34:56.482Z"
   },
   {
    "duration": 8,
    "start_time": "2024-09-10T22:34:56.493Z"
   },
   {
    "duration": 2,
    "start_time": "2024-09-10T22:34:56.503Z"
   },
   {
    "duration": 8,
    "start_time": "2024-09-10T22:34:56.507Z"
   },
   {
    "duration": 7,
    "start_time": "2024-09-10T22:34:56.516Z"
   },
   {
    "duration": 48,
    "start_time": "2024-09-10T22:34:56.526Z"
   },
   {
    "duration": 3,
    "start_time": "2024-09-10T22:34:56.576Z"
   },
   {
    "duration": 16,
    "start_time": "2024-09-10T22:34:56.581Z"
   },
   {
    "duration": 8,
    "start_time": "2024-09-10T22:34:56.599Z"
   },
   {
    "duration": 24,
    "start_time": "2024-09-10T22:34:56.609Z"
   },
   {
    "duration": 41,
    "start_time": "2024-09-10T22:34:56.634Z"
   },
   {
    "duration": 14,
    "start_time": "2024-09-10T22:34:56.677Z"
   },
   {
    "duration": 8,
    "start_time": "2024-09-10T22:34:56.692Z"
   },
   {
    "duration": 17,
    "start_time": "2024-09-10T22:34:56.701Z"
   },
   {
    "duration": 2,
    "start_time": "2024-09-10T22:34:56.720Z"
   },
   {
    "duration": 46,
    "start_time": "2024-09-10T22:34:56.724Z"
   },
   {
    "duration": 13,
    "start_time": "2024-09-10T22:34:56.772Z"
   },
   {
    "duration": 25,
    "start_time": "2024-09-10T22:34:56.788Z"
   },
   {
    "duration": 2,
    "start_time": "2024-09-10T22:34:56.815Z"
   },
   {
    "duration": 8,
    "start_time": "2024-09-10T22:34:56.819Z"
   },
   {
    "duration": 48,
    "start_time": "2024-09-10T22:34:56.828Z"
   },
   {
    "duration": 18,
    "start_time": "2024-09-10T22:34:56.879Z"
   },
   {
    "duration": 12,
    "start_time": "2024-09-10T22:34:56.899Z"
   },
   {
    "duration": 25,
    "start_time": "2024-09-10T22:34:56.914Z"
   },
   {
    "duration": 854,
    "start_time": "2024-09-10T22:34:56.940Z"
   },
   {
    "duration": 0,
    "start_time": "2024-09-10T22:34:57.795Z"
   },
   {
    "duration": 0,
    "start_time": "2024-09-10T22:34:57.797Z"
   },
   {
    "duration": 0,
    "start_time": "2024-09-10T22:34:57.798Z"
   },
   {
    "duration": 0,
    "start_time": "2024-09-10T22:34:57.800Z"
   },
   {
    "duration": 0,
    "start_time": "2024-09-10T22:34:57.801Z"
   },
   {
    "duration": 0,
    "start_time": "2024-09-10T22:34:57.802Z"
   },
   {
    "duration": 0,
    "start_time": "2024-09-10T22:34:57.803Z"
   },
   {
    "duration": 0,
    "start_time": "2024-09-10T22:34:57.804Z"
   },
   {
    "duration": 0,
    "start_time": "2024-09-10T22:34:57.805Z"
   },
   {
    "duration": 0,
    "start_time": "2024-09-10T22:34:57.806Z"
   },
   {
    "duration": 0,
    "start_time": "2024-09-10T22:34:57.807Z"
   },
   {
    "duration": 0,
    "start_time": "2024-09-10T22:34:57.808Z"
   },
   {
    "duration": 0,
    "start_time": "2024-09-10T22:34:57.809Z"
   },
   {
    "duration": 0,
    "start_time": "2024-09-10T22:34:57.810Z"
   },
   {
    "duration": 0,
    "start_time": "2024-09-10T22:34:57.811Z"
   },
   {
    "duration": 0,
    "start_time": "2024-09-10T22:34:57.812Z"
   },
   {
    "duration": 0,
    "start_time": "2024-09-10T22:34:57.813Z"
   },
   {
    "duration": 0,
    "start_time": "2024-09-10T22:34:57.815Z"
   },
   {
    "duration": 458,
    "start_time": "2024-09-10T22:37:42.402Z"
   },
   {
    "duration": 61,
    "start_time": "2024-09-10T22:38:20.587Z"
   },
   {
    "duration": 64,
    "start_time": "2024-09-10T22:39:09.889Z"
   },
   {
    "duration": 71,
    "start_time": "2024-09-10T22:39:28.049Z"
   },
   {
    "duration": 36,
    "start_time": "2024-09-10T22:39:56.368Z"
   },
   {
    "duration": 704,
    "start_time": "2024-09-10T22:40:54.857Z"
   },
   {
    "duration": 156,
    "start_time": "2024-09-10T22:40:55.563Z"
   },
   {
    "duration": 10,
    "start_time": "2024-09-10T22:40:55.721Z"
   },
   {
    "duration": 10,
    "start_time": "2024-09-10T22:40:55.734Z"
   },
   {
    "duration": 26,
    "start_time": "2024-09-10T22:40:55.745Z"
   },
   {
    "duration": 2,
    "start_time": "2024-09-10T22:40:55.772Z"
   },
   {
    "duration": 8,
    "start_time": "2024-09-10T22:40:55.776Z"
   },
   {
    "duration": 8,
    "start_time": "2024-09-10T22:40:55.786Z"
   },
   {
    "duration": 11,
    "start_time": "2024-09-10T22:40:55.795Z"
   },
   {
    "duration": 2,
    "start_time": "2024-09-10T22:40:55.809Z"
   },
   {
    "duration": 15,
    "start_time": "2024-09-10T22:40:55.812Z"
   },
   {
    "duration": 49,
    "start_time": "2024-09-10T22:40:55.828Z"
   },
   {
    "duration": 24,
    "start_time": "2024-09-10T22:40:55.878Z"
   },
   {
    "duration": 12,
    "start_time": "2024-09-10T22:40:55.904Z"
   },
   {
    "duration": 10,
    "start_time": "2024-09-10T22:40:55.918Z"
   },
   {
    "duration": 7,
    "start_time": "2024-09-10T22:40:55.930Z"
   },
   {
    "duration": 46,
    "start_time": "2024-09-10T22:40:55.939Z"
   },
   {
    "duration": 2,
    "start_time": "2024-09-10T22:40:55.986Z"
   },
   {
    "duration": 13,
    "start_time": "2024-09-10T22:40:55.990Z"
   },
   {
    "duration": 7,
    "start_time": "2024-09-10T22:40:56.005Z"
   },
   {
    "duration": 19,
    "start_time": "2024-09-10T22:40:56.014Z"
   },
   {
    "duration": 3,
    "start_time": "2024-09-10T22:40:56.034Z"
   },
   {
    "duration": 9,
    "start_time": "2024-09-10T22:40:56.070Z"
   },
   {
    "duration": 21,
    "start_time": "2024-09-10T22:40:56.080Z"
   },
   {
    "duration": 17,
    "start_time": "2024-09-10T22:40:56.103Z"
   },
   {
    "duration": 13,
    "start_time": "2024-09-10T22:40:56.121Z"
   },
   {
    "duration": 50,
    "start_time": "2024-09-10T22:40:56.135Z"
   },
   {
    "duration": 49,
    "start_time": "2024-09-10T22:40:56.189Z"
   },
   {
    "duration": 36,
    "start_time": "2024-09-10T22:40:56.240Z"
   },
   {
    "duration": 77,
    "start_time": "2024-09-10T22:40:56.278Z"
   },
   {
    "duration": 316,
    "start_time": "2024-09-10T22:40:56.356Z"
   },
   {
    "duration": 298,
    "start_time": "2024-09-10T22:40:56.676Z"
   },
   {
    "duration": 6,
    "start_time": "2024-09-10T22:40:56.976Z"
   },
   {
    "duration": 200,
    "start_time": "2024-09-10T22:40:56.987Z"
   },
   {
    "duration": 290,
    "start_time": "2024-09-10T22:40:57.189Z"
   },
   {
    "duration": 5,
    "start_time": "2024-09-10T22:40:57.481Z"
   },
   {
    "duration": 186,
    "start_time": "2024-09-10T22:40:57.487Z"
   },
   {
    "duration": 525,
    "start_time": "2024-09-10T22:40:57.675Z"
   },
   {
    "duration": 0,
    "start_time": "2024-09-10T22:40:58.202Z"
   },
   {
    "duration": 0,
    "start_time": "2024-09-10T22:40:58.203Z"
   },
   {
    "duration": 0,
    "start_time": "2024-09-10T22:40:58.204Z"
   },
   {
    "duration": 0,
    "start_time": "2024-09-10T22:40:58.206Z"
   },
   {
    "duration": 0,
    "start_time": "2024-09-10T22:40:58.207Z"
   },
   {
    "duration": 0,
    "start_time": "2024-09-10T22:40:58.208Z"
   },
   {
    "duration": 0,
    "start_time": "2024-09-10T22:40:58.209Z"
   },
   {
    "duration": 0,
    "start_time": "2024-09-10T22:40:58.211Z"
   },
   {
    "duration": 28,
    "start_time": "2024-09-10T22:41:09.005Z"
   },
   {
    "duration": 14,
    "start_time": "2024-09-10T22:41:32.205Z"
   },
   {
    "duration": 276,
    "start_time": "2024-09-10T22:42:13.980Z"
   },
   {
    "duration": 333,
    "start_time": "2024-09-10T22:42:29.412Z"
   },
   {
    "duration": 300,
    "start_time": "2024-09-10T22:42:36.259Z"
   },
   {
    "duration": 284,
    "start_time": "2024-09-10T22:42:44.919Z"
   },
   {
    "duration": 5,
    "start_time": "2024-09-10T22:43:23.455Z"
   },
   {
    "duration": 185,
    "start_time": "2024-09-10T22:43:37.934Z"
   },
   {
    "duration": 173,
    "start_time": "2024-09-10T22:43:44.208Z"
   },
   {
    "duration": 176,
    "start_time": "2024-09-10T22:43:50.798Z"
   },
   {
    "duration": 168,
    "start_time": "2024-09-10T22:43:59.298Z"
   },
   {
    "duration": 278,
    "start_time": "2024-09-10T22:44:09.193Z"
   },
   {
    "duration": 367,
    "start_time": "2024-09-10T22:44:23.084Z"
   },
   {
    "duration": 69,
    "start_time": "2024-09-10T22:45:30.339Z"
   },
   {
    "duration": 752,
    "start_time": "2024-09-10T22:45:47.402Z"
   },
   {
    "duration": 164,
    "start_time": "2024-09-10T22:45:48.156Z"
   },
   {
    "duration": 10,
    "start_time": "2024-09-10T22:45:48.322Z"
   },
   {
    "duration": 10,
    "start_time": "2024-09-10T22:45:48.333Z"
   },
   {
    "duration": 8,
    "start_time": "2024-09-10T22:45:48.346Z"
   },
   {
    "duration": 2,
    "start_time": "2024-09-10T22:45:48.371Z"
   },
   {
    "duration": 9,
    "start_time": "2024-09-10T22:45:48.374Z"
   },
   {
    "duration": 7,
    "start_time": "2024-09-10T22:45:48.385Z"
   },
   {
    "duration": 10,
    "start_time": "2024-09-10T22:45:48.393Z"
   },
   {
    "duration": 2,
    "start_time": "2024-09-10T22:45:48.405Z"
   },
   {
    "duration": 15,
    "start_time": "2024-09-10T22:45:48.409Z"
   },
   {
    "duration": 46,
    "start_time": "2024-09-10T22:45:48.425Z"
   },
   {
    "duration": 25,
    "start_time": "2024-09-10T22:45:48.472Z"
   },
   {
    "duration": 12,
    "start_time": "2024-09-10T22:45:48.500Z"
   },
   {
    "duration": 11,
    "start_time": "2024-09-10T22:45:48.513Z"
   },
   {
    "duration": 7,
    "start_time": "2024-09-10T22:45:48.526Z"
   },
   {
    "duration": 49,
    "start_time": "2024-09-10T22:45:48.534Z"
   },
   {
    "duration": 2,
    "start_time": "2024-09-10T22:45:48.585Z"
   },
   {
    "duration": 13,
    "start_time": "2024-09-10T22:45:48.589Z"
   },
   {
    "duration": 9,
    "start_time": "2024-09-10T22:45:48.603Z"
   },
   {
    "duration": 20,
    "start_time": "2024-09-10T22:45:48.613Z"
   },
   {
    "duration": 2,
    "start_time": "2024-09-10T22:45:48.635Z"
   },
   {
    "duration": 39,
    "start_time": "2024-09-10T22:45:48.638Z"
   },
   {
    "duration": 22,
    "start_time": "2024-09-10T22:45:48.678Z"
   },
   {
    "duration": 18,
    "start_time": "2024-09-10T22:45:48.701Z"
   },
   {
    "duration": 12,
    "start_time": "2024-09-10T22:45:48.720Z"
   },
   {
    "duration": 54,
    "start_time": "2024-09-10T22:45:48.734Z"
   },
   {
    "duration": 37,
    "start_time": "2024-09-10T22:45:48.790Z"
   },
   {
    "duration": 15,
    "start_time": "2024-09-10T22:45:48.829Z"
   },
   {
    "duration": 90,
    "start_time": "2024-09-10T22:45:48.845Z"
   },
   {
    "duration": 306,
    "start_time": "2024-09-10T22:45:48.937Z"
   },
   {
    "duration": 309,
    "start_time": "2024-09-10T22:45:49.245Z"
   },
   {
    "duration": 5,
    "start_time": "2024-09-10T22:45:49.556Z"
   },
   {
    "duration": 187,
    "start_time": "2024-09-10T22:45:49.570Z"
   },
   {
    "duration": 296,
    "start_time": "2024-09-10T22:45:49.759Z"
   },
   {
    "duration": 4,
    "start_time": "2024-09-10T22:45:50.057Z"
   },
   {
    "duration": 177,
    "start_time": "2024-09-10T22:45:50.071Z"
   },
   {
    "duration": 322,
    "start_time": "2024-09-10T22:45:50.250Z"
   },
   {
    "duration": 4,
    "start_time": "2024-09-10T22:45:50.574Z"
   },
   {
    "duration": 180,
    "start_time": "2024-09-10T22:45:50.580Z"
   },
   {
    "duration": 355,
    "start_time": "2024-09-10T22:45:50.773Z"
   },
   {
    "duration": 197,
    "start_time": "2024-09-10T22:45:51.131Z"
   },
   {
    "duration": 4,
    "start_time": "2024-09-10T22:45:51.330Z"
   },
   {
    "duration": 213,
    "start_time": "2024-09-10T22:45:51.336Z"
   },
   {
    "duration": 4,
    "start_time": "2024-09-10T22:45:51.551Z"
   },
   {
    "duration": 55,
    "start_time": "2024-09-10T22:45:51.557Z"
   },
   {
    "duration": 273,
    "start_time": "2024-09-10T22:46:22.558Z"
   },
   {
    "duration": 280,
    "start_time": "2024-09-10T22:46:29.613Z"
   },
   {
    "duration": 283,
    "start_time": "2024-09-10T22:46:39.328Z"
   },
   {
    "duration": 349,
    "start_time": "2024-09-10T22:48:03.377Z"
   },
   {
    "duration": 303,
    "start_time": "2024-09-10T22:50:23.341Z"
   },
   {
    "duration": 297,
    "start_time": "2024-09-10T22:50:52.524Z"
   },
   {
    "duration": 295,
    "start_time": "2024-09-10T22:51:04.573Z"
   },
   {
    "duration": 68,
    "start_time": "2024-09-10T22:52:02.827Z"
   },
   {
    "duration": 35,
    "start_time": "2024-09-10T22:52:08.824Z"
   },
   {
    "duration": 89,
    "start_time": "2024-09-10T22:52:20.979Z"
   },
   {
    "duration": 720,
    "start_time": "2024-09-10T22:53:02.335Z"
   },
   {
    "duration": 155,
    "start_time": "2024-09-10T22:53:03.057Z"
   },
   {
    "duration": 9,
    "start_time": "2024-09-10T22:53:03.216Z"
   },
   {
    "duration": 10,
    "start_time": "2024-09-10T22:53:03.227Z"
   },
   {
    "duration": 8,
    "start_time": "2024-09-10T22:53:03.239Z"
   },
   {
    "duration": 2,
    "start_time": "2024-09-10T22:53:03.248Z"
   },
   {
    "duration": 8,
    "start_time": "2024-09-10T22:53:03.270Z"
   },
   {
    "duration": 8,
    "start_time": "2024-09-10T22:53:03.280Z"
   },
   {
    "duration": 9,
    "start_time": "2024-09-10T22:53:03.290Z"
   },
   {
    "duration": 2,
    "start_time": "2024-09-10T22:53:03.301Z"
   },
   {
    "duration": 14,
    "start_time": "2024-09-10T22:53:03.305Z"
   },
   {
    "duration": 8,
    "start_time": "2024-09-10T22:53:03.321Z"
   },
   {
    "duration": 60,
    "start_time": "2024-09-10T22:53:03.331Z"
   },
   {
    "duration": 11,
    "start_time": "2024-09-10T22:53:03.395Z"
   },
   {
    "duration": 11,
    "start_time": "2024-09-10T22:53:03.408Z"
   },
   {
    "duration": 8,
    "start_time": "2024-09-10T22:53:03.420Z"
   },
   {
    "duration": 46,
    "start_time": "2024-09-10T22:53:03.430Z"
   },
   {
    "duration": 2,
    "start_time": "2024-09-10T22:53:03.479Z"
   },
   {
    "duration": 13,
    "start_time": "2024-09-10T22:53:03.483Z"
   },
   {
    "duration": 8,
    "start_time": "2024-09-10T22:53:03.497Z"
   },
   {
    "duration": 21,
    "start_time": "2024-09-10T22:53:03.507Z"
   },
   {
    "duration": 2,
    "start_time": "2024-09-10T22:53:03.529Z"
   },
   {
    "duration": 42,
    "start_time": "2024-09-10T22:53:03.533Z"
   },
   {
    "duration": 23,
    "start_time": "2024-09-10T22:53:03.578Z"
   },
   {
    "duration": 18,
    "start_time": "2024-09-10T22:53:03.603Z"
   },
   {
    "duration": 13,
    "start_time": "2024-09-10T22:53:03.622Z"
   },
   {
    "duration": 49,
    "start_time": "2024-09-10T22:53:03.636Z"
   },
   {
    "duration": 36,
    "start_time": "2024-09-10T22:53:03.686Z"
   },
   {
    "duration": 14,
    "start_time": "2024-09-10T22:53:03.724Z"
   },
   {
    "duration": 100,
    "start_time": "2024-09-10T22:53:03.740Z"
   },
   {
    "duration": 320,
    "start_time": "2024-09-10T22:53:03.842Z"
   },
   {
    "duration": 301,
    "start_time": "2024-09-10T22:53:04.164Z"
   },
   {
    "duration": 6,
    "start_time": "2024-09-10T22:53:04.466Z"
   },
   {
    "duration": 207,
    "start_time": "2024-09-10T22:53:04.474Z"
   },
   {
    "duration": 295,
    "start_time": "2024-09-10T22:53:04.683Z"
   },
   {
    "duration": 5,
    "start_time": "2024-09-10T22:53:04.980Z"
   },
   {
    "duration": 190,
    "start_time": "2024-09-10T22:53:04.987Z"
   },
   {
    "duration": 304,
    "start_time": "2024-09-10T22:53:05.179Z"
   },
   {
    "duration": 5,
    "start_time": "2024-09-10T22:53:05.484Z"
   },
   {
    "duration": 253,
    "start_time": "2024-09-10T22:53:05.491Z"
   },
   {
    "duration": 291,
    "start_time": "2024-09-10T22:53:05.749Z"
   },
   {
    "duration": 187,
    "start_time": "2024-09-10T22:53:06.043Z"
   },
   {
    "duration": 6,
    "start_time": "2024-09-10T22:53:06.231Z"
   },
   {
    "duration": 200,
    "start_time": "2024-09-10T22:53:06.240Z"
   },
   {
    "duration": 5,
    "start_time": "2024-09-10T22:53:06.441Z"
   },
   {
    "duration": 35,
    "start_time": "2024-09-10T22:53:06.449Z"
   },
   {
    "duration": 297,
    "start_time": "2024-09-10T22:53:15.979Z"
   },
   {
    "duration": 294,
    "start_time": "2024-09-10T22:53:19.525Z"
   },
   {
    "duration": 339,
    "start_time": "2024-09-10T22:53:22.573Z"
   },
   {
    "duration": 263,
    "start_time": "2024-09-10T22:53:28.054Z"
   },
   {
    "duration": 5,
    "start_time": "2024-09-10T22:53:43.027Z"
   },
   {
    "duration": 279,
    "start_time": "2024-09-10T22:53:52.636Z"
   },
   {
    "duration": 5,
    "start_time": "2024-09-10T22:54:02.303Z"
   },
   {
    "duration": 181,
    "start_time": "2024-09-10T22:57:52.693Z"
   },
   {
    "duration": 182,
    "start_time": "2024-09-10T22:58:03.409Z"
   },
   {
    "duration": 870,
    "start_time": "2024-09-10T22:58:39.081Z"
   },
   {
    "duration": 186,
    "start_time": "2024-09-10T22:58:58.639Z"
   },
   {
    "duration": 182,
    "start_time": "2024-09-10T22:59:08.280Z"
   },
   {
    "duration": 308,
    "start_time": "2024-09-10T23:00:00.299Z"
   },
   {
    "duration": 136,
    "start_time": "2024-09-10T23:00:19.663Z"
   },
   {
    "duration": 166,
    "start_time": "2024-09-10T23:00:35.582Z"
   },
   {
    "duration": 189,
    "start_time": "2024-09-10T23:00:51.075Z"
   },
   {
    "duration": 465,
    "start_time": "2024-09-10T23:00:58.806Z"
   },
   {
    "duration": 191,
    "start_time": "2024-09-10T23:01:05.261Z"
   },
   {
    "duration": 165,
    "start_time": "2024-09-10T23:02:02.629Z"
   },
   {
    "duration": 136,
    "start_time": "2024-09-10T23:02:11.909Z"
   },
   {
    "duration": 173,
    "start_time": "2024-09-10T23:02:41.722Z"
   },
   {
    "duration": 170,
    "start_time": "2024-09-10T23:04:04.081Z"
   },
   {
    "duration": 179,
    "start_time": "2024-09-10T23:04:11.701Z"
   },
   {
    "duration": 168,
    "start_time": "2024-09-10T23:04:15.137Z"
   },
   {
    "duration": 313,
    "start_time": "2024-09-10T23:04:19.024Z"
   },
   {
    "duration": 168,
    "start_time": "2024-09-10T23:04:23.502Z"
   },
   {
    "duration": 183,
    "start_time": "2024-09-10T23:04:26.314Z"
   },
   {
    "duration": 188,
    "start_time": "2024-09-10T23:04:29.436Z"
   },
   {
    "duration": 181,
    "start_time": "2024-09-10T23:04:32.304Z"
   },
   {
    "duration": 180,
    "start_time": "2024-09-10T23:04:36.175Z"
   },
   {
    "duration": 208,
    "start_time": "2024-09-10T23:04:40.988Z"
   },
   {
    "duration": 334,
    "start_time": "2024-09-10T23:04:51.348Z"
   },
   {
    "duration": 310,
    "start_time": "2024-09-10T23:04:55.132Z"
   },
   {
    "duration": 295,
    "start_time": "2024-09-10T23:04:59.439Z"
   },
   {
    "duration": 303,
    "start_time": "2024-09-10T23:05:06.660Z"
   },
   {
    "duration": 184,
    "start_time": "2024-09-10T23:05:30.210Z"
   },
   {
    "duration": 168,
    "start_time": "2024-09-10T23:05:40.366Z"
   },
   {
    "duration": 292,
    "start_time": "2024-09-10T23:06:47.432Z"
   },
   {
    "duration": 470,
    "start_time": "2024-09-10T23:06:54.985Z"
   },
   {
    "duration": 282,
    "start_time": "2024-09-10T23:06:59.957Z"
   },
   {
    "duration": 281,
    "start_time": "2024-09-10T23:07:07.605Z"
   },
   {
    "duration": 276,
    "start_time": "2024-09-10T23:07:11.566Z"
   }
  ],
  "kernelspec": {
   "display_name": "Python 3 (ipykernel)",
   "language": "python",
   "name": "python3"
  },
  "language_info": {
   "codemirror_mode": {
    "name": "ipython",
    "version": 3
   },
   "file_extension": ".py",
   "mimetype": "text/x-python",
   "name": "python",
   "nbconvert_exporter": "python",
   "pygments_lexer": "ipython3",
   "version": "3.9.19"
  },
  "toc": {
   "base_numbering": 1,
   "nav_menu": {},
   "number_sections": true,
   "sideBar": true,
   "skip_h1_title": false,
   "title_cell": "Table of Contents",
   "title_sidebar": "Contents",
   "toc_cell": false,
   "toc_position": {
    "height": "calc(100% - 180px)",
    "left": "10px",
    "top": "150px",
    "width": "282.797px"
   },
   "toc_section_display": true,
   "toc_window_display": false
  }
 },
 "nbformat": 4,
 "nbformat_minor": 2
}
