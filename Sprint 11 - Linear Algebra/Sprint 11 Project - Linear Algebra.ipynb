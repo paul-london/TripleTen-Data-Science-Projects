{
 "cells": [
  {
   "cell_type": "markdown",
   "metadata": {},
   "source": [
    "# Project 11: Linear Algebra\n",
    "\n",
    "\n",
    "# Statement"
   ]
  },
  {
   "cell_type": "markdown",
   "metadata": {},
   "source": [
    "The Sure Tomorrow insurance company wants to solve several tasks with the help of Machine Learning and you are asked to evaluate that possibility.\n",
    "\n",
    "- Task 1: Find customers who are similar to a given customer. This will help the company's agents with marketing.\n",
    "- Task 2: Predict whether a new customer is likely to receive an insurance benefit. Can a prediction model do better than a dummy model?\n",
    "- Task 3: Predict the number of insurance benefits a new customer is likely to receive using a linear regression model.\n",
    "- Task 4: Protect clients' personal data without breaking the model from the previous task. It's necessary to develop a data transformation algorithm that would make it hard to recover personal information if the data fell into the wrong hands. This is called data masking, or data obfuscation. But the data should be protected in such a way that the quality of machine learning models doesn't suffer. You don't need to pick the best model, just prove that the algorithm works correctly."
   ]
  },
  {
   "cell_type": "markdown",
   "metadata": {},
   "source": [
    "## Data Preprocessing & Exploration\n",
    "\n",
    "### Initialization"
   ]
  },
  {
   "cell_type": "code",
   "execution_count": 1,
   "metadata": {},
   "outputs": [],
   "source": [
    "import numpy as np\n",
    "import pandas as pd\n",
    "\n",
    "import seaborn as sns\n",
    "\n",
    "import sklearn.linear_model\n",
    "import sklearn.metrics\n",
    "import sklearn.neighbors\n",
    "from sklearn.neighbors import NearestNeighbors, KNeighborsClassifier\n",
    "import sklearn.preprocessing\n",
    "\n",
    "from sklearn.model_selection import train_test_split\n",
    "\n",
    "from IPython.display import display\n",
    "\n",
    "import math"
   ]
  },
  {
   "cell_type": "markdown",
   "metadata": {},
   "source": [
    "### Load Data"
   ]
  },
  {
   "cell_type": "markdown",
   "metadata": {},
   "source": [
    "Load data and conduct a basic check that it's free from obvious issues."
   ]
  },
  {
   "cell_type": "code",
   "execution_count": 2,
   "metadata": {},
   "outputs": [],
   "source": [
    "df = pd.read_csv('/datasets/insurance_us.csv')"
   ]
  },
  {
   "cell_type": "markdown",
   "metadata": {},
   "source": [
    "We rename the colums to make the code look more consistent with its style."
   ]
  },
  {
   "cell_type": "code",
   "execution_count": 3,
   "metadata": {},
   "outputs": [],
   "source": [
    "df = df.rename(columns={'Gender': 'gender', 'Age': 'age', 'Salary': 'income', 'Family members': 'family_members', 'Insurance benefits': 'insurance_benefits'})"
   ]
  },
  {
   "cell_type": "code",
   "execution_count": 4,
   "metadata": {},
   "outputs": [
    {
     "data": {
      "text/html": [
       "<div>\n",
       "<style scoped>\n",
       "    .dataframe tbody tr th:only-of-type {\n",
       "        vertical-align: middle;\n",
       "    }\n",
       "\n",
       "    .dataframe tbody tr th {\n",
       "        vertical-align: top;\n",
       "    }\n",
       "\n",
       "    .dataframe thead th {\n",
       "        text-align: right;\n",
       "    }\n",
       "</style>\n",
       "<table border=\"1\" class=\"dataframe\">\n",
       "  <thead>\n",
       "    <tr style=\"text-align: right;\">\n",
       "      <th></th>\n",
       "      <th>gender</th>\n",
       "      <th>age</th>\n",
       "      <th>income</th>\n",
       "      <th>family_members</th>\n",
       "      <th>insurance_benefits</th>\n",
       "    </tr>\n",
       "  </thead>\n",
       "  <tbody>\n",
       "    <tr>\n",
       "      <th>2336</th>\n",
       "      <td>0</td>\n",
       "      <td>21.0</td>\n",
       "      <td>33200.0</td>\n",
       "      <td>1</td>\n",
       "      <td>0</td>\n",
       "    </tr>\n",
       "    <tr>\n",
       "      <th>2982</th>\n",
       "      <td>0</td>\n",
       "      <td>29.0</td>\n",
       "      <td>46800.0</td>\n",
       "      <td>2</td>\n",
       "      <td>0</td>\n",
       "    </tr>\n",
       "    <tr>\n",
       "      <th>1122</th>\n",
       "      <td>1</td>\n",
       "      <td>24.0</td>\n",
       "      <td>40500.0</td>\n",
       "      <td>1</td>\n",
       "      <td>0</td>\n",
       "    </tr>\n",
       "    <tr>\n",
       "      <th>982</th>\n",
       "      <td>1</td>\n",
       "      <td>51.0</td>\n",
       "      <td>29000.0</td>\n",
       "      <td>2</td>\n",
       "      <td>2</td>\n",
       "    </tr>\n",
       "    <tr>\n",
       "      <th>2453</th>\n",
       "      <td>1</td>\n",
       "      <td>21.0</td>\n",
       "      <td>26700.0</td>\n",
       "      <td>4</td>\n",
       "      <td>0</td>\n",
       "    </tr>\n",
       "    <tr>\n",
       "      <th>2649</th>\n",
       "      <td>1</td>\n",
       "      <td>29.0</td>\n",
       "      <td>38800.0</td>\n",
       "      <td>5</td>\n",
       "      <td>0</td>\n",
       "    </tr>\n",
       "    <tr>\n",
       "      <th>343</th>\n",
       "      <td>0</td>\n",
       "      <td>25.0</td>\n",
       "      <td>54900.0</td>\n",
       "      <td>1</td>\n",
       "      <td>0</td>\n",
       "    </tr>\n",
       "    <tr>\n",
       "      <th>4073</th>\n",
       "      <td>0</td>\n",
       "      <td>19.0</td>\n",
       "      <td>35400.0</td>\n",
       "      <td>2</td>\n",
       "      <td>0</td>\n",
       "    </tr>\n",
       "    <tr>\n",
       "      <th>3446</th>\n",
       "      <td>0</td>\n",
       "      <td>39.0</td>\n",
       "      <td>58500.0</td>\n",
       "      <td>0</td>\n",
       "      <td>0</td>\n",
       "    </tr>\n",
       "    <tr>\n",
       "      <th>3557</th>\n",
       "      <td>0</td>\n",
       "      <td>22.0</td>\n",
       "      <td>50100.0</td>\n",
       "      <td>4</td>\n",
       "      <td>0</td>\n",
       "    </tr>\n",
       "  </tbody>\n",
       "</table>\n",
       "</div>"
      ],
      "text/plain": [
       "      gender   age   income  family_members  insurance_benefits\n",
       "2336       0  21.0  33200.0               1                   0\n",
       "2982       0  29.0  46800.0               2                   0\n",
       "1122       1  24.0  40500.0               1                   0\n",
       "982        1  51.0  29000.0               2                   2\n",
       "2453       1  21.0  26700.0               4                   0\n",
       "2649       1  29.0  38800.0               5                   0\n",
       "343        0  25.0  54900.0               1                   0\n",
       "4073       0  19.0  35400.0               2                   0\n",
       "3446       0  39.0  58500.0               0                   0\n",
       "3557       0  22.0  50100.0               4                   0"
      ]
     },
     "execution_count": 4,
     "metadata": {},
     "output_type": "execute_result"
    }
   ],
   "source": [
    "df.sample(10)"
   ]
  },
  {
   "cell_type": "code",
   "execution_count": 5,
   "metadata": {},
   "outputs": [
    {
     "name": "stdout",
     "output_type": "stream",
     "text": [
      "<class 'pandas.core.frame.DataFrame'>\n",
      "RangeIndex: 5000 entries, 0 to 4999\n",
      "Data columns (total 5 columns):\n",
      " #   Column              Non-Null Count  Dtype  \n",
      "---  ------              --------------  -----  \n",
      " 0   gender              5000 non-null   int64  \n",
      " 1   age                 5000 non-null   float64\n",
      " 2   income              5000 non-null   float64\n",
      " 3   family_members      5000 non-null   int64  \n",
      " 4   insurance_benefits  5000 non-null   int64  \n",
      "dtypes: float64(2), int64(3)\n",
      "memory usage: 195.4 KB\n"
     ]
    }
   ],
   "source": [
    "df.info()"
   ]
  },
  {
   "cell_type": "code",
   "execution_count": 6,
   "metadata": {},
   "outputs": [],
   "source": [
    "# we may want to fix the age type (from float to int) though this is not critical\n",
    "\n",
    "# write your conversion here if you choose:\n",
    "df['age'] = df['age'].astype(int)"
   ]
  },
  {
   "cell_type": "code",
   "execution_count": 7,
   "metadata": {},
   "outputs": [
    {
     "name": "stdout",
     "output_type": "stream",
     "text": [
      "<class 'pandas.core.frame.DataFrame'>\n",
      "RangeIndex: 5000 entries, 0 to 4999\n",
      "Data columns (total 5 columns):\n",
      " #   Column              Non-Null Count  Dtype  \n",
      "---  ------              --------------  -----  \n",
      " 0   gender              5000 non-null   int64  \n",
      " 1   age                 5000 non-null   int64  \n",
      " 2   income              5000 non-null   float64\n",
      " 3   family_members      5000 non-null   int64  \n",
      " 4   insurance_benefits  5000 non-null   int64  \n",
      "dtypes: float64(1), int64(4)\n",
      "memory usage: 195.4 KB\n"
     ]
    }
   ],
   "source": [
    "# check to see that the conversion was successful\n",
    "df.info()"
   ]
  },
  {
   "cell_type": "code",
   "execution_count": 8,
   "metadata": {
    "scrolled": true
   },
   "outputs": [
    {
     "data": {
      "text/html": [
       "<div>\n",
       "<style scoped>\n",
       "    .dataframe tbody tr th:only-of-type {\n",
       "        vertical-align: middle;\n",
       "    }\n",
       "\n",
       "    .dataframe tbody tr th {\n",
       "        vertical-align: top;\n",
       "    }\n",
       "\n",
       "    .dataframe thead th {\n",
       "        text-align: right;\n",
       "    }\n",
       "</style>\n",
       "<table border=\"1\" class=\"dataframe\">\n",
       "  <thead>\n",
       "    <tr style=\"text-align: right;\">\n",
       "      <th></th>\n",
       "      <th>gender</th>\n",
       "      <th>age</th>\n",
       "      <th>income</th>\n",
       "      <th>family_members</th>\n",
       "      <th>insurance_benefits</th>\n",
       "    </tr>\n",
       "  </thead>\n",
       "  <tbody>\n",
       "    <tr>\n",
       "      <th>count</th>\n",
       "      <td>5000.000000</td>\n",
       "      <td>5000.000000</td>\n",
       "      <td>5000.000000</td>\n",
       "      <td>5000.000000</td>\n",
       "      <td>5000.000000</td>\n",
       "    </tr>\n",
       "    <tr>\n",
       "      <th>mean</th>\n",
       "      <td>0.499000</td>\n",
       "      <td>30.952800</td>\n",
       "      <td>39916.360000</td>\n",
       "      <td>1.194200</td>\n",
       "      <td>0.148000</td>\n",
       "    </tr>\n",
       "    <tr>\n",
       "      <th>std</th>\n",
       "      <td>0.500049</td>\n",
       "      <td>8.440807</td>\n",
       "      <td>9900.083569</td>\n",
       "      <td>1.091387</td>\n",
       "      <td>0.463183</td>\n",
       "    </tr>\n",
       "    <tr>\n",
       "      <th>min</th>\n",
       "      <td>0.000000</td>\n",
       "      <td>18.000000</td>\n",
       "      <td>5300.000000</td>\n",
       "      <td>0.000000</td>\n",
       "      <td>0.000000</td>\n",
       "    </tr>\n",
       "    <tr>\n",
       "      <th>25%</th>\n",
       "      <td>0.000000</td>\n",
       "      <td>24.000000</td>\n",
       "      <td>33300.000000</td>\n",
       "      <td>0.000000</td>\n",
       "      <td>0.000000</td>\n",
       "    </tr>\n",
       "    <tr>\n",
       "      <th>50%</th>\n",
       "      <td>0.000000</td>\n",
       "      <td>30.000000</td>\n",
       "      <td>40200.000000</td>\n",
       "      <td>1.000000</td>\n",
       "      <td>0.000000</td>\n",
       "    </tr>\n",
       "    <tr>\n",
       "      <th>75%</th>\n",
       "      <td>1.000000</td>\n",
       "      <td>37.000000</td>\n",
       "      <td>46600.000000</td>\n",
       "      <td>2.000000</td>\n",
       "      <td>0.000000</td>\n",
       "    </tr>\n",
       "    <tr>\n",
       "      <th>max</th>\n",
       "      <td>1.000000</td>\n",
       "      <td>65.000000</td>\n",
       "      <td>79000.000000</td>\n",
       "      <td>6.000000</td>\n",
       "      <td>5.000000</td>\n",
       "    </tr>\n",
       "  </tbody>\n",
       "</table>\n",
       "</div>"
      ],
      "text/plain": [
       "            gender          age        income  family_members  \\\n",
       "count  5000.000000  5000.000000   5000.000000     5000.000000   \n",
       "mean      0.499000    30.952800  39916.360000        1.194200   \n",
       "std       0.500049     8.440807   9900.083569        1.091387   \n",
       "min       0.000000    18.000000   5300.000000        0.000000   \n",
       "25%       0.000000    24.000000  33300.000000        0.000000   \n",
       "50%       0.000000    30.000000  40200.000000        1.000000   \n",
       "75%       1.000000    37.000000  46600.000000        2.000000   \n",
       "max       1.000000    65.000000  79000.000000        6.000000   \n",
       "\n",
       "       insurance_benefits  \n",
       "count         5000.000000  \n",
       "mean             0.148000  \n",
       "std              0.463183  \n",
       "min              0.000000  \n",
       "25%              0.000000  \n",
       "50%              0.000000  \n",
       "75%              0.000000  \n",
       "max              5.000000  "
      ]
     },
     "execution_count": 8,
     "metadata": {},
     "output_type": "execute_result"
    }
   ],
   "source": [
    "# now have a look at the data's descriptive statistics.\n",
    "\n",
    "df.describe()\n",
    "\n",
    "# Does everything look okay? So far yes but let's check for missing or duplicated values"
   ]
  },
  {
   "cell_type": "code",
   "execution_count": 9,
   "metadata": {},
   "outputs": [
    {
     "name": "stdout",
     "output_type": "stream",
     "text": [
      "Check for Missing Values\n",
      "gender                0\n",
      "age                   0\n",
      "income                0\n",
      "family_members        0\n",
      "insurance_benefits    0\n",
      "dtype: int64\n",
      "\n",
      "Check for Duplicate Rows\n",
      "There are 153 duplicate rows\n",
      "\n",
      "<class 'pandas.core.frame.DataFrame'>\n",
      "Int64Index: 4847 entries, 0 to 4999\n",
      "Data columns (total 5 columns):\n",
      " #   Column              Non-Null Count  Dtype  \n",
      "---  ------              --------------  -----  \n",
      " 0   gender              4847 non-null   int64  \n",
      " 1   age                 4847 non-null   int64  \n",
      " 2   income              4847 non-null   float64\n",
      " 3   family_members      4847 non-null   int64  \n",
      " 4   insurance_benefits  4847 non-null   int64  \n",
      "dtypes: float64(1), int64(4)\n",
      "memory usage: 227.2 KB\n"
     ]
    }
   ],
   "source": [
    "print('Check for Missing Values')\n",
    "print(df.isna().sum())\n",
    "print()\n",
    "print('Check for Duplicate Rows')\n",
    "print('There are', df.duplicated().sum(), 'duplicate rows')\n",
    "print()\n",
    "# There is a chance that out of 5000 customers, 153 share some demographic and insurance information with others,\n",
    "# but not likely - to be safe, let's remove these values\n",
    "df = df.drop_duplicates()\n",
    "df.info()"
   ]
  },
  {
   "cell_type": "markdown",
   "metadata": {},
   "source": [
    "Everything appears to be fine in the dataset after removing duplicates."
   ]
  },
  {
   "cell_type": "markdown",
   "metadata": {},
   "source": [
    "### EDA"
   ]
  },
  {
   "cell_type": "markdown",
   "metadata": {},
   "source": [
    "Let's quickly check whether there are certain groups of customers by looking at the pair plot."
   ]
  },
  {
   "cell_type": "code",
   "execution_count": 10,
   "metadata": {},
   "outputs": [
    {
     "data": {
      "image/png": "[encoded data removed]",
      "text/plain": [
       "<Figure size 1200x1200 with 30 Axes>"
      ]
     },
     "metadata": {},
     "output_type": "display_data"
    }
   ],
   "source": [
    "g = sns.pairplot(df, kind='hist')\n",
    "g.fig.set_size_inches(12, 12)"
   ]
  },
  {
   "cell_type": "markdown",
   "metadata": {},
   "source": [
    "Ok, it is a bit difficult to spot obvious groups (clusters) as it is difficult to combine several variables simultaneously (to analyze multivariate distributions). That's where LA and ML can be quite handy.\n",
    "\n",
    "### Data Preprocessing & Exploration Conclusion\n",
    "\n",
    "The data appears correctly formatted and free from any issues that would inhibit further analysis, such as missing or duplicate values. We converted the age variable from float to int and checked descriptive statistics. The gender split is almost equal and the other values look reasonably distributed."
   ]
  },
  {
   "cell_type": "markdown",
   "metadata": {},
   "source": [
    "# Task 1. Similar Customers"
   ]
  },
  {
   "cell_type": "markdown",
   "metadata": {},
   "source": [
    "In the language of ML, it is necessary to develop a procedure that returns k nearest neighbors (objects) for a given object based on the distance between the objects.\n",
    "\n",
    "You may want to review the following lessons (chapter -> lesson)\n",
    "- Distance Between Vectors -> Euclidean Distance\n",
    "- Distance Between Vectors -> Manhattan Distance\n",
    "\n",
    "To solve the task, we can try different distance metrics."
   ]
  },
  {
   "cell_type": "markdown",
   "metadata": {},
   "source": [
    "Write a function that returns k nearest neighbors for an $n^{th}$ object based on a specified distance metric. The number of received insurance benefits should not be taken into account for this task. \n",
    "\n",
    "You can use a ready implementation of the kNN algorithm from scikit-learn (check [the link](https://scikit-learn.org/stable/modules/generated/sklearn.neighbors.NearestNeighbors.html#sklearn.neighbors.NearestNeighbors)) or use your own.\n",
    "\n",
    "Test it for four combination of two cases\n",
    "- Scaling\n",
    "  - the data is not scaled\n",
    "  - the data is scaled with the [MaxAbsScaler](https://scikit-learn.org/stable/modules/generated/sklearn.preprocessing.MaxAbsScaler.html) scaler\n",
    "- Distance Metrics\n",
    "  - Euclidean\n",
    "  - Manhattan\n",
    "\n",
    "Answer these questions:\n",
    "- Does the data being not scaled affect the kNN algorithm? If so, how does that appear?\n",
    "- How similar are the results using the Manhattan distance metric (regardless of the scaling)?"
   ]
  },
  {
   "cell_type": "code",
   "execution_count": 11,
   "metadata": {},
   "outputs": [],
   "source": [
    "# Specify df columns that are features for the model\n",
    "feature_names = ['gender', 'age', 'income', 'family_members']"
   ]
  },
  {
   "cell_type": "code",
   "execution_count": 12,
   "metadata": {},
   "outputs": [],
   "source": [
    "# Create kNN model to predict number of insurance benefits based on features\n",
    "# Parameters are defined below\n",
    "def get_knn(df, n, k, metric):\n",
    "    \n",
    "    \"\"\"\n",
    "    Returns k nearest neighbors\n",
    "\n",
    "    :param df: pandas DataFrame used to find similar objects within\n",
    "    :param n: object no for which the nearest neighbours are looked for\n",
    "    :param k: the number of the nearest neighbours to return\n",
    "    :param metric: name of distance metric\n",
    "    \"\"\"\n",
    "\n",
    "    nbrs = NearestNeighbors(n_neighbors=k, metric=metric).fit(df[feature_names])\n",
    "    \n",
    "    nbrs_distances, nbrs_indices = nbrs.kneighbors([df.iloc[n][feature_names]], k, return_distance=True)\n",
    "    \n",
    "    df_res = pd.concat([\n",
    "        df.iloc[nbrs_indices[0]], \n",
    "        pd.DataFrame(nbrs_distances.T, index=nbrs_indices[0], columns=['distance'])\n",
    "        ], axis=1)\n",
    "    \n",
    "    return df_res"
   ]
  },
  {
   "cell_type": "markdown",
   "metadata": {},
   "source": [
    "Scaling the data."
   ]
  },
  {
   "cell_type": "code",
   "execution_count": 13,
   "metadata": {},
   "outputs": [],
   "source": [
    "# Fit MaxAbsScaler to scale features\n",
    "feature_names = ['gender', 'age', 'income', 'family_members']\n",
    "transformer_mas = sklearn.preprocessing.MaxAbsScaler().fit(df[feature_names].to_numpy())\n",
    "\n",
    "# Create a copy of df with scaled/transformed features\n",
    "df_scaled = df.copy()\n",
    "df_scaled.loc[:, feature_names] = transformer_mas.transform(df[feature_names].to_numpy())"
   ]
  },
  {
   "cell_type": "code",
   "execution_count": 14,
   "metadata": {},
   "outputs": [
    {
     "data": {
      "text/html": [
       "<div>\n",
       "<style scoped>\n",
       "    .dataframe tbody tr th:only-of-type {\n",
       "        vertical-align: middle;\n",
       "    }\n",
       "\n",
       "    .dataframe tbody tr th {\n",
       "        vertical-align: top;\n",
       "    }\n",
       "\n",
       "    .dataframe thead th {\n",
       "        text-align: right;\n",
       "    }\n",
       "</style>\n",
       "<table border=\"1\" class=\"dataframe\">\n",
       "  <thead>\n",
       "    <tr style=\"text-align: right;\">\n",
       "      <th></th>\n",
       "      <th>gender</th>\n",
       "      <th>age</th>\n",
       "      <th>income</th>\n",
       "      <th>family_members</th>\n",
       "      <th>insurance_benefits</th>\n",
       "    </tr>\n",
       "  </thead>\n",
       "  <tbody>\n",
       "    <tr>\n",
       "      <th>1117</th>\n",
       "      <td>0.0</td>\n",
       "      <td>0.476923</td>\n",
       "      <td>0.491139</td>\n",
       "      <td>0.000000</td>\n",
       "      <td>0</td>\n",
       "    </tr>\n",
       "    <tr>\n",
       "      <th>3892</th>\n",
       "      <td>1.0</td>\n",
       "      <td>0.692308</td>\n",
       "      <td>0.451899</td>\n",
       "      <td>0.000000</td>\n",
       "      <td>1</td>\n",
       "    </tr>\n",
       "    <tr>\n",
       "      <th>954</th>\n",
       "      <td>1.0</td>\n",
       "      <td>0.707692</td>\n",
       "      <td>0.508861</td>\n",
       "      <td>0.500000</td>\n",
       "      <td>1</td>\n",
       "    </tr>\n",
       "    <tr>\n",
       "      <th>3301</th>\n",
       "      <td>1.0</td>\n",
       "      <td>0.615385</td>\n",
       "      <td>0.545570</td>\n",
       "      <td>0.166667</td>\n",
       "      <td>0</td>\n",
       "    </tr>\n",
       "    <tr>\n",
       "      <th>3451</th>\n",
       "      <td>1.0</td>\n",
       "      <td>0.676923</td>\n",
       "      <td>0.443038</td>\n",
       "      <td>0.000000</td>\n",
       "      <td>1</td>\n",
       "    </tr>\n",
       "  </tbody>\n",
       "</table>\n",
       "</div>"
      ],
      "text/plain": [
       "      gender       age    income  family_members  insurance_benefits\n",
       "1117     0.0  0.476923  0.491139        0.000000                   0\n",
       "3892     1.0  0.692308  0.451899        0.000000                   1\n",
       "954      1.0  0.707692  0.508861        0.500000                   1\n",
       "3301     1.0  0.615385  0.545570        0.166667                   0\n",
       "3451     1.0  0.676923  0.443038        0.000000                   1"
      ]
     },
     "execution_count": 14,
     "metadata": {},
     "output_type": "execute_result"
    }
   ],
   "source": [
    "# Show sample of scaled data\n",
    "df_scaled.sample(5)"
   ]
  },
  {
   "cell_type": "markdown",
   "metadata": {},
   "source": [
    "## Test kNN Algorithm on All Combinations of Distance and & Scaling\n",
    "\n",
    "Now, let's get similar records for a given one for every combination"
   ]
  },
  {
   "cell_type": "code",
   "execution_count": 15,
   "metadata": {},
   "outputs": [
    {
     "data": {
      "text/plain": [
       "gender                1.0\n",
       "age                  27.0\n",
       "income            38000.0\n",
       "family_members        5.0\n",
       "Name: 123, dtype: float64"
      ]
     },
     "execution_count": 15,
     "metadata": {},
     "output_type": "execute_result"
    }
   ],
   "source": [
    "# Selecting a random \"n\" user to compare kNN to\n",
    "# In the steps that follow, I will find the closest 5 neighbors in terms of distance to user in row 123\n",
    "df.iloc[123][feature_names]"
   ]
  },
  {
   "cell_type": "markdown",
   "metadata": {},
   "source": [
    "### Euclidean + Scaled"
   ]
  },
  {
   "cell_type": "code",
   "execution_count": 16,
   "metadata": {},
   "outputs": [
    {
     "data": {
      "text/html": [
       "<div>\n",
       "<style scoped>\n",
       "    .dataframe tbody tr th:only-of-type {\n",
       "        vertical-align: middle;\n",
       "    }\n",
       "\n",
       "    .dataframe tbody tr th {\n",
       "        vertical-align: top;\n",
       "    }\n",
       "\n",
       "    .dataframe thead th {\n",
       "        text-align: right;\n",
       "    }\n",
       "</style>\n",
       "<table border=\"1\" class=\"dataframe\">\n",
       "  <thead>\n",
       "    <tr style=\"text-align: right;\">\n",
       "      <th></th>\n",
       "      <th>gender</th>\n",
       "      <th>age</th>\n",
       "      <th>income</th>\n",
       "      <th>family_members</th>\n",
       "      <th>insurance_benefits</th>\n",
       "      <th>distance</th>\n",
       "    </tr>\n",
       "  </thead>\n",
       "  <tbody>\n",
       "    <tr>\n",
       "      <th>123</th>\n",
       "      <td>1.0</td>\n",
       "      <td>0.415385</td>\n",
       "      <td>0.481013</td>\n",
       "      <td>0.833333</td>\n",
       "      <td>0.0</td>\n",
       "      <td>0.000000</td>\n",
       "    </tr>\n",
       "    <tr>\n",
       "      <th>1003</th>\n",
       "      <td>NaN</td>\n",
       "      <td>NaN</td>\n",
       "      <td>NaN</td>\n",
       "      <td>NaN</td>\n",
       "      <td>NaN</td>\n",
       "      <td>0.042149</td>\n",
       "    </tr>\n",
       "    <tr>\n",
       "      <th>1009</th>\n",
       "      <td>NaN</td>\n",
       "      <td>NaN</td>\n",
       "      <td>NaN</td>\n",
       "      <td>NaN</td>\n",
       "      <td>NaN</td>\n",
       "      <td>0.062584</td>\n",
       "    </tr>\n",
       "    <tr>\n",
       "      <th>1011</th>\n",
       "      <td>1.0</td>\n",
       "      <td>0.400000</td>\n",
       "      <td>0.441772</td>\n",
       "      <td>0.833333</td>\n",
       "      <td>0.0</td>\n",
       "      <td>NaN</td>\n",
       "    </tr>\n",
       "    <tr>\n",
       "      <th>1017</th>\n",
       "      <td>1.0</td>\n",
       "      <td>0.353846</td>\n",
       "      <td>0.492405</td>\n",
       "      <td>0.833333</td>\n",
       "      <td>0.0</td>\n",
       "      <td>NaN</td>\n",
       "    </tr>\n",
       "    <tr>\n",
       "      <th>2182</th>\n",
       "      <td>NaN</td>\n",
       "      <td>NaN</td>\n",
       "      <td>NaN</td>\n",
       "      <td>NaN</td>\n",
       "      <td>NaN</td>\n",
       "      <td>0.080774</td>\n",
       "    </tr>\n",
       "    <tr>\n",
       "      <th>2216</th>\n",
       "      <td>1.0</td>\n",
       "      <td>0.384615</td>\n",
       "      <td>0.555696</td>\n",
       "      <td>0.833333</td>\n",
       "      <td>0.0</td>\n",
       "      <td>NaN</td>\n",
       "    </tr>\n",
       "    <tr>\n",
       "      <th>2594</th>\n",
       "      <td>NaN</td>\n",
       "      <td>NaN</td>\n",
       "      <td>NaN</td>\n",
       "      <td>NaN</td>\n",
       "      <td>NaN</td>\n",
       "      <td>0.032393</td>\n",
       "    </tr>\n",
       "    <tr>\n",
       "      <th>2649</th>\n",
       "      <td>1.0</td>\n",
       "      <td>0.446154</td>\n",
       "      <td>0.491139</td>\n",
       "      <td>0.833333</td>\n",
       "      <td>0.0</td>\n",
       "      <td>NaN</td>\n",
       "    </tr>\n",
       "  </tbody>\n",
       "</table>\n",
       "</div>"
      ],
      "text/plain": [
       "      gender       age    income  family_members  insurance_benefits  distance\n",
       "123      1.0  0.415385  0.481013        0.833333                 0.0  0.000000\n",
       "1003     NaN       NaN       NaN             NaN                 NaN  0.042149\n",
       "1009     NaN       NaN       NaN             NaN                 NaN  0.062584\n",
       "1011     1.0  0.400000  0.441772        0.833333                 0.0       NaN\n",
       "1017     1.0  0.353846  0.492405        0.833333                 0.0       NaN\n",
       "2182     NaN       NaN       NaN             NaN                 NaN  0.080774\n",
       "2216     1.0  0.384615  0.555696        0.833333                 0.0       NaN\n",
       "2594     NaN       NaN       NaN             NaN                 NaN  0.032393\n",
       "2649     1.0  0.446154  0.491139        0.833333                 0.0       NaN"
      ]
     },
     "execution_count": 16,
     "metadata": {},
     "output_type": "execute_result"
    }
   ],
   "source": [
    "euclidean_scaled = get_knn(df_scaled, n=123, k=5, metric='euclidean')\n",
    "euclidean_scaled"
   ]
  },
  {
   "cell_type": "markdown",
   "metadata": {},
   "source": [
    "### Euclidean + Unscaled"
   ]
  },
  {
   "cell_type": "code",
   "execution_count": 17,
   "metadata": {},
   "outputs": [
    {
     "data": {
      "text/html": [
       "<div>\n",
       "<style scoped>\n",
       "    .dataframe tbody tr th:only-of-type {\n",
       "        vertical-align: middle;\n",
       "    }\n",
       "\n",
       "    .dataframe tbody tr th {\n",
       "        vertical-align: top;\n",
       "    }\n",
       "\n",
       "    .dataframe thead th {\n",
       "        text-align: right;\n",
       "    }\n",
       "</style>\n",
       "<table border=\"1\" class=\"dataframe\">\n",
       "  <thead>\n",
       "    <tr style=\"text-align: right;\">\n",
       "      <th></th>\n",
       "      <th>gender</th>\n",
       "      <th>age</th>\n",
       "      <th>income</th>\n",
       "      <th>family_members</th>\n",
       "      <th>insurance_benefits</th>\n",
       "      <th>distance</th>\n",
       "    </tr>\n",
       "  </thead>\n",
       "  <tbody>\n",
       "    <tr>\n",
       "      <th>123</th>\n",
       "      <td>1.0</td>\n",
       "      <td>27.0</td>\n",
       "      <td>38000.0</td>\n",
       "      <td>5.0</td>\n",
       "      <td>0.0</td>\n",
       "      <td>0.000000</td>\n",
       "    </tr>\n",
       "    <tr>\n",
       "      <th>142</th>\n",
       "      <td>0.0</td>\n",
       "      <td>22.0</td>\n",
       "      <td>38000.0</td>\n",
       "      <td>2.0</td>\n",
       "      <td>0.0</td>\n",
       "      <td>5.916080</td>\n",
       "    </tr>\n",
       "    <tr>\n",
       "      <th>1876</th>\n",
       "      <td>NaN</td>\n",
       "      <td>NaN</td>\n",
       "      <td>NaN</td>\n",
       "      <td>NaN</td>\n",
       "      <td>NaN</td>\n",
       "      <td>3.162278</td>\n",
       "    </tr>\n",
       "    <tr>\n",
       "      <th>1905</th>\n",
       "      <td>1.0</td>\n",
       "      <td>26.0</td>\n",
       "      <td>38000.0</td>\n",
       "      <td>2.0</td>\n",
       "      <td>0.0</td>\n",
       "      <td>NaN</td>\n",
       "    </tr>\n",
       "    <tr>\n",
       "      <th>1973</th>\n",
       "      <td>NaN</td>\n",
       "      <td>NaN</td>\n",
       "      <td>NaN</td>\n",
       "      <td>NaN</td>\n",
       "      <td>NaN</td>\n",
       "      <td>6.403124</td>\n",
       "    </tr>\n",
       "    <tr>\n",
       "      <th>2003</th>\n",
       "      <td>1.0</td>\n",
       "      <td>22.0</td>\n",
       "      <td>38000.0</td>\n",
       "      <td>1.0</td>\n",
       "      <td>0.0</td>\n",
       "      <td>NaN</td>\n",
       "    </tr>\n",
       "    <tr>\n",
       "      <th>3437</th>\n",
       "      <td>NaN</td>\n",
       "      <td>NaN</td>\n",
       "      <td>NaN</td>\n",
       "      <td>NaN</td>\n",
       "      <td>NaN</td>\n",
       "      <td>5.099020</td>\n",
       "    </tr>\n",
       "    <tr>\n",
       "      <th>3531</th>\n",
       "      <td>0.0</td>\n",
       "      <td>27.0</td>\n",
       "      <td>38000.0</td>\n",
       "      <td>0.0</td>\n",
       "      <td>0.0</td>\n",
       "      <td>NaN</td>\n",
       "    </tr>\n",
       "  </tbody>\n",
       "</table>\n",
       "</div>"
      ],
      "text/plain": [
       "      gender   age   income  family_members  insurance_benefits  distance\n",
       "123      1.0  27.0  38000.0             5.0                 0.0  0.000000\n",
       "142      0.0  22.0  38000.0             2.0                 0.0  5.916080\n",
       "1876     NaN   NaN      NaN             NaN                 NaN  3.162278\n",
       "1905     1.0  26.0  38000.0             2.0                 0.0       NaN\n",
       "1973     NaN   NaN      NaN             NaN                 NaN  6.403124\n",
       "2003     1.0  22.0  38000.0             1.0                 0.0       NaN\n",
       "3437     NaN   NaN      NaN             NaN                 NaN  5.099020\n",
       "3531     0.0  27.0  38000.0             0.0                 0.0       NaN"
      ]
     },
     "execution_count": 17,
     "metadata": {},
     "output_type": "execute_result"
    }
   ],
   "source": [
    "euclidean_unscaled = get_knn(df, n=123, k=5, metric='euclidean')\n",
    "euclidean_unscaled"
   ]
  },
  {
   "cell_type": "markdown",
   "metadata": {},
   "source": [
    "### Manhattan + Scaled"
   ]
  },
  {
   "cell_type": "code",
   "execution_count": 18,
   "metadata": {},
   "outputs": [
    {
     "data": {
      "text/html": [
       "<div>\n",
       "<style scoped>\n",
       "    .dataframe tbody tr th:only-of-type {\n",
       "        vertical-align: middle;\n",
       "    }\n",
       "\n",
       "    .dataframe tbody tr th {\n",
       "        vertical-align: top;\n",
       "    }\n",
       "\n",
       "    .dataframe thead th {\n",
       "        text-align: right;\n",
       "    }\n",
       "</style>\n",
       "<table border=\"1\" class=\"dataframe\">\n",
       "  <thead>\n",
       "    <tr style=\"text-align: right;\">\n",
       "      <th></th>\n",
       "      <th>gender</th>\n",
       "      <th>age</th>\n",
       "      <th>income</th>\n",
       "      <th>family_members</th>\n",
       "      <th>insurance_benefits</th>\n",
       "      <th>distance</th>\n",
       "    </tr>\n",
       "  </thead>\n",
       "  <tbody>\n",
       "    <tr>\n",
       "      <th>123</th>\n",
       "      <td>1.0</td>\n",
       "      <td>0.415385</td>\n",
       "      <td>0.481013</td>\n",
       "      <td>0.833333</td>\n",
       "      <td>0.0</td>\n",
       "      <td>0.000000</td>\n",
       "    </tr>\n",
       "    <tr>\n",
       "      <th>1003</th>\n",
       "      <td>NaN</td>\n",
       "      <td>NaN</td>\n",
       "      <td>NaN</td>\n",
       "      <td>NaN</td>\n",
       "      <td>NaN</td>\n",
       "      <td>0.054625</td>\n",
       "    </tr>\n",
       "    <tr>\n",
       "      <th>1009</th>\n",
       "      <td>NaN</td>\n",
       "      <td>NaN</td>\n",
       "      <td>NaN</td>\n",
       "      <td>NaN</td>\n",
       "      <td>NaN</td>\n",
       "      <td>0.072931</td>\n",
       "    </tr>\n",
       "    <tr>\n",
       "      <th>1011</th>\n",
       "      <td>1.0</td>\n",
       "      <td>0.400000</td>\n",
       "      <td>0.441772</td>\n",
       "      <td>0.833333</td>\n",
       "      <td>0.0</td>\n",
       "      <td>NaN</td>\n",
       "    </tr>\n",
       "    <tr>\n",
       "      <th>1017</th>\n",
       "      <td>1.0</td>\n",
       "      <td>0.353846</td>\n",
       "      <td>0.492405</td>\n",
       "      <td>0.833333</td>\n",
       "      <td>0.0</td>\n",
       "      <td>NaN</td>\n",
       "    </tr>\n",
       "    <tr>\n",
       "      <th>2182</th>\n",
       "      <td>NaN</td>\n",
       "      <td>NaN</td>\n",
       "      <td>NaN</td>\n",
       "      <td>NaN</td>\n",
       "      <td>NaN</td>\n",
       "      <td>0.105453</td>\n",
       "    </tr>\n",
       "    <tr>\n",
       "      <th>2216</th>\n",
       "      <td>1.0</td>\n",
       "      <td>0.384615</td>\n",
       "      <td>0.555696</td>\n",
       "      <td>0.833333</td>\n",
       "      <td>0.0</td>\n",
       "      <td>NaN</td>\n",
       "    </tr>\n",
       "    <tr>\n",
       "      <th>2594</th>\n",
       "      <td>NaN</td>\n",
       "      <td>NaN</td>\n",
       "      <td>NaN</td>\n",
       "      <td>NaN</td>\n",
       "      <td>NaN</td>\n",
       "      <td>0.040896</td>\n",
       "    </tr>\n",
       "    <tr>\n",
       "      <th>2649</th>\n",
       "      <td>1.0</td>\n",
       "      <td>0.446154</td>\n",
       "      <td>0.491139</td>\n",
       "      <td>0.833333</td>\n",
       "      <td>0.0</td>\n",
       "      <td>NaN</td>\n",
       "    </tr>\n",
       "  </tbody>\n",
       "</table>\n",
       "</div>"
      ],
      "text/plain": [
       "      gender       age    income  family_members  insurance_benefits  distance\n",
       "123      1.0  0.415385  0.481013        0.833333                 0.0  0.000000\n",
       "1003     NaN       NaN       NaN             NaN                 NaN  0.054625\n",
       "1009     NaN       NaN       NaN             NaN                 NaN  0.072931\n",
       "1011     1.0  0.400000  0.441772        0.833333                 0.0       NaN\n",
       "1017     1.0  0.353846  0.492405        0.833333                 0.0       NaN\n",
       "2182     NaN       NaN       NaN             NaN                 NaN  0.105453\n",
       "2216     1.0  0.384615  0.555696        0.833333                 0.0       NaN\n",
       "2594     NaN       NaN       NaN             NaN                 NaN  0.040896\n",
       "2649     1.0  0.446154  0.491139        0.833333                 0.0       NaN"
      ]
     },
     "execution_count": 18,
     "metadata": {},
     "output_type": "execute_result"
    }
   ],
   "source": [
    "manhattan_scaled = get_knn(df_scaled, n=123, k=5, metric='manhattan')\n",
    "manhattan_scaled"
   ]
  },
  {
   "cell_type": "markdown",
   "metadata": {},
   "source": [
    "### Manhattan + Unscaled"
   ]
  },
  {
   "cell_type": "code",
   "execution_count": 19,
   "metadata": {},
   "outputs": [
    {
     "data": {
      "text/html": [
       "<div>\n",
       "<style scoped>\n",
       "    .dataframe tbody tr th:only-of-type {\n",
       "        vertical-align: middle;\n",
       "    }\n",
       "\n",
       "    .dataframe tbody tr th {\n",
       "        vertical-align: top;\n",
       "    }\n",
       "\n",
       "    .dataframe thead th {\n",
       "        text-align: right;\n",
       "    }\n",
       "</style>\n",
       "<table border=\"1\" class=\"dataframe\">\n",
       "  <thead>\n",
       "    <tr style=\"text-align: right;\">\n",
       "      <th></th>\n",
       "      <th>gender</th>\n",
       "      <th>age</th>\n",
       "      <th>income</th>\n",
       "      <th>family_members</th>\n",
       "      <th>insurance_benefits</th>\n",
       "      <th>distance</th>\n",
       "    </tr>\n",
       "  </thead>\n",
       "  <tbody>\n",
       "    <tr>\n",
       "      <th>123</th>\n",
       "      <td>1.0</td>\n",
       "      <td>27.0</td>\n",
       "      <td>38000.0</td>\n",
       "      <td>5.0</td>\n",
       "      <td>0.0</td>\n",
       "      <td>0.0</td>\n",
       "    </tr>\n",
       "    <tr>\n",
       "      <th>142</th>\n",
       "      <td>0.0</td>\n",
       "      <td>22.0</td>\n",
       "      <td>38000.0</td>\n",
       "      <td>2.0</td>\n",
       "      <td>0.0</td>\n",
       "      <td>9.0</td>\n",
       "    </tr>\n",
       "    <tr>\n",
       "      <th>1876</th>\n",
       "      <td>NaN</td>\n",
       "      <td>NaN</td>\n",
       "      <td>NaN</td>\n",
       "      <td>NaN</td>\n",
       "      <td>NaN</td>\n",
       "      <td>4.0</td>\n",
       "    </tr>\n",
       "    <tr>\n",
       "      <th>1905</th>\n",
       "      <td>1.0</td>\n",
       "      <td>26.0</td>\n",
       "      <td>38000.0</td>\n",
       "      <td>2.0</td>\n",
       "      <td>0.0</td>\n",
       "      <td>NaN</td>\n",
       "    </tr>\n",
       "    <tr>\n",
       "      <th>1973</th>\n",
       "      <td>NaN</td>\n",
       "      <td>NaN</td>\n",
       "      <td>NaN</td>\n",
       "      <td>NaN</td>\n",
       "      <td>NaN</td>\n",
       "      <td>9.0</td>\n",
       "    </tr>\n",
       "    <tr>\n",
       "      <th>2003</th>\n",
       "      <td>1.0</td>\n",
       "      <td>22.0</td>\n",
       "      <td>38000.0</td>\n",
       "      <td>1.0</td>\n",
       "      <td>0.0</td>\n",
       "      <td>NaN</td>\n",
       "    </tr>\n",
       "    <tr>\n",
       "      <th>3437</th>\n",
       "      <td>NaN</td>\n",
       "      <td>NaN</td>\n",
       "      <td>NaN</td>\n",
       "      <td>NaN</td>\n",
       "      <td>NaN</td>\n",
       "      <td>6.0</td>\n",
       "    </tr>\n",
       "    <tr>\n",
       "      <th>3531</th>\n",
       "      <td>0.0</td>\n",
       "      <td>27.0</td>\n",
       "      <td>38000.0</td>\n",
       "      <td>0.0</td>\n",
       "      <td>0.0</td>\n",
       "      <td>NaN</td>\n",
       "    </tr>\n",
       "  </tbody>\n",
       "</table>\n",
       "</div>"
      ],
      "text/plain": [
       "      gender   age   income  family_members  insurance_benefits  distance\n",
       "123      1.0  27.0  38000.0             5.0                 0.0       0.0\n",
       "142      0.0  22.0  38000.0             2.0                 0.0       9.0\n",
       "1876     NaN   NaN      NaN             NaN                 NaN       4.0\n",
       "1905     1.0  26.0  38000.0             2.0                 0.0       NaN\n",
       "1973     NaN   NaN      NaN             NaN                 NaN       9.0\n",
       "2003     1.0  22.0  38000.0             1.0                 0.0       NaN\n",
       "3437     NaN   NaN      NaN             NaN                 NaN       6.0\n",
       "3531     0.0  27.0  38000.0             0.0                 0.0       NaN"
      ]
     },
     "execution_count": 19,
     "metadata": {},
     "output_type": "execute_result"
    }
   ],
   "source": [
    "manhattan_unscaled = get_knn(df, n=123, k=5, metric='manhattan')\n",
    "manhattan_unscaled"
   ]
  },
  {
   "cell_type": "markdown",
   "metadata": {},
   "source": [
    "### Answers to the questions"
   ]
  },
  {
   "cell_type": "markdown",
   "metadata": {},
   "source": [
    "#### **Does the data being not scaled affect the kNN algorithm? If so, how does that appear?** \n",
    "\n",
    "Scaling data does have an effect on the kNN algorithm, demonstrated by the distances being returned in each combination above. Without scaling, the algorithm is placing a greater weight on the income feature than the others because it contains larger data values than gender, family members, and age. Scaling normalizes all features to values between 0 and 1, therefore smaller distances are calculated with scaled features. For example, in the above results, distances for scaled data were all between 0.03 and 0.11 while distances for unscaled data ranged from 4 to 9."
   ]
  },
  {
   "cell_type": "markdown",
   "metadata": {},
   "source": [
    "#### **How similar are the results using the Manhattan distance metric (regardless of the scaling)?** \n",
    "\n",
    "Both Euclidean and Manhattan distance metrics identify the same 4 nearest neighbors to the original user (n=123). This is true for both scaled and unscaled data (Euclidean Scaled = Manhattan Scaled, Euclidean Non-Scaled = Manhattan Non-Scaled. The non-scaled data appears to be placing an outsized weight on income, due to the larger data values discussed in the previous answer, whereas the scaled data is providing nearest neighbors across all of the features more evenly."
   ]
  },
  {
   "cell_type": "markdown",
   "metadata": {},
   "source": [
    "# Task 2. Is Customer Likely to Receive Insurance Benefit?"
   ]
  },
  {
   "cell_type": "markdown",
   "metadata": {},
   "source": [
    "In terms of machine learning we can look at this like a binary classification task."
   ]
  },
  {
   "cell_type": "markdown",
   "metadata": {},
   "source": [
    "With `insurance_benefits` being more than zero as the target, evaluate whether the kNN classification approach can do better than a dummy model.\n",
    "\n",
    "Instructions:\n",
    "- Build a KNN-based classifier and measure its quality with the F1 metric for k=1..10 for both the original data and the scaled one. That'd be interesting to see how k may influece the evaluation metric, and whether scaling the data makes any difference. You can use a ready implemention of the kNN classification algorithm from scikit-learn (check [the link](https://scikit-learn.org/stable/modules/generated/sklearn.neighbors.KNeighborsClassifier.html)) or use your own.\n",
    "- Build the dummy model which is just random for this case. It should return \"1\" with some probability. Let's test the model with four probability values: 0, the probability of paying any insurance benefit, 0.5, 1.\n",
    "\n",
    "The probability of paying any insurance benefit can be defined as\n",
    "\n",
    "$$\n",
    "P\\{\\text{insurance benefit received}\\}=\\frac{\\text{number of clients received any insurance benefit}}{\\text{total number of clients}}.\n",
    "$$\n",
    "\n",
    "Split the whole data in the 70:30 proportion for the training/testing parts."
   ]
  },
  {
   "cell_type": "code",
   "execution_count": 20,
   "metadata": {},
   "outputs": [],
   "source": [
    "# Calculate the target (insurance_benefits > 0)\n",
    "# If insurance_benefits > 0, > 1, else 0\n",
    "df['insurance_benefits_received'] = np.where(df['insurance_benefits'] > 0, 1, 0)"
   ]
  },
  {
   "cell_type": "code",
   "execution_count": 21,
   "metadata": {},
   "outputs": [
    {
     "data": {
      "text/plain": [
       "0    4284\n",
       "1     563\n",
       "Name: insurance_benefits_received, dtype: int64"
      ]
     },
     "execution_count": 21,
     "metadata": {},
     "output_type": "execute_result"
    }
   ],
   "source": [
    "# check for the class imbalance with value_counts()\n",
    "df['insurance_benefits_received'].value_counts()"
   ]
  },
  {
   "cell_type": "markdown",
   "metadata": {},
   "source": [
    "Findings: There are far more users who have never received any insurance benefits over the last 5 years than those who received 1 benefit.\n",
    "\n",
    "## Create Function to Calculate F1 Score and Confusion Matrices for each ```k``` value"
   ]
  },
  {
   "cell_type": "code",
   "execution_count": 22,
   "metadata": {},
   "outputs": [],
   "source": [
    "# Create a function to determine F1 score and create confusion matrix\n",
    "def eval_classifier(y_true, y_pred):\n",
    "    \n",
    "    f1_score = sklearn.metrics.f1_score(y_true, y_pred)\n",
    "    print(f'F1: {f1_score:.2f}')\n",
    "    \n",
    "# if you have an issue with the following line, restart the kernel and run the notebook again\n",
    "    cm = sklearn.metrics.confusion_matrix(y_true, y_pred, normalize='all')\n",
    "    print('Confusion Matrix')\n",
    "    print(cm)"
   ]
  },
  {
   "cell_type": "markdown",
   "metadata": {},
   "source": [
    "### Create Dummy Model\n",
    "\n",
    "Build a dummy model which randomly generates results for this case. It should return \"1\" with a probability P. Let's test the model with four distinct probability values: 0, P(paying any insurance benefit), 0.5, and 1."
   ]
  },
  {
   "cell_type": "code",
   "execution_count": 23,
   "metadata": {},
   "outputs": [],
   "source": [
    "# generating output of a random model\n",
    "\n",
    "def rnd_model_predict(P, size, seed=42):\n",
    "\n",
    "    rng = np.random.default_rng(seed=seed)\n",
    "    return rng.binomial(n=1, p=P, size=size)"
   ]
  },
  {
   "cell_type": "code",
   "execution_count": 24,
   "metadata": {},
   "outputs": [
    {
     "name": "stdout",
     "output_type": "stream",
     "text": [
      "The probability: 0.00\n",
      "F1: 0.00\n",
      "Confusion Matrix\n",
      "[[0.88384568 0.        ]\n",
      " [0.11615432 0.        ]]\n",
      "\n",
      "The probability: 0.12\n",
      "F1: 0.13\n",
      "Confusion Matrix\n",
      "[[0.78502166 0.09882401]\n",
      " [0.1017124  0.01444192]]\n",
      "\n",
      "The probability: 0.50\n",
      "F1: 0.19\n",
      "Confusion Matrix\n",
      "[[0.44873117 0.4351145 ]\n",
      " [0.05921188 0.05694244]]\n",
      "\n",
      "The probability: 1.00\n",
      "F1: 0.21\n",
      "Confusion Matrix\n",
      "[[0.         0.88384568]\n",
      " [0.         0.11615432]]\n",
      "\n"
     ]
    }
   ],
   "source": [
    "for P in [0, df['insurance_benefits_received'].sum() / len(df), 0.5, 1]:\n",
    "\n",
    "    print(f'The probability: {P:.2f}')\n",
    "    y_pred_rnd = rnd_model_predict(P, size=len(df), seed=42)\n",
    "        \n",
    "    eval_classifier(df['insurance_benefits_received'], y_pred_rnd)\n",
    "    \n",
    "    print()"
   ]
  },
  {
   "cell_type": "markdown",
   "metadata": {},
   "source": [
    "## Split into Training and Test Datasets\n",
    "\n",
    "Split all data into 70:30 proportion for Training and Test Datasets.\n",
    "\n",
    "### Unscaled"
   ]
  },
  {
   "cell_type": "code",
   "execution_count": 25,
   "metadata": {},
   "outputs": [
    {
     "name": "stdout",
     "output_type": "stream",
     "text": [
      "Feature Train: (3392, 4)\n",
      "Feature Test: (1455, 4)\n",
      "Target Train: (3392,)\n",
      "Target Test: (1455,)\n"
     ]
    }
   ],
   "source": [
    "# Create Training & Test Using Non-Scaled Data\n",
    "\n",
    "# Features\n",
    "features = df[feature_names]\n",
    "\n",
    "# Target\n",
    "target = df['insurance_benefits_received']\n",
    "\n",
    "# Create traning and test features and targets with a split of 70:30\n",
    "features_train, features_test, target_train, target_test = train_test_split(features, target, test_size=0.3, random_state=12345)\n",
    "\n",
    "# Print shape to confirm correct split\n",
    "print('Feature Train:', features_train.shape)\n",
    "print('Feature Test:', features_test.shape)\n",
    "print('Target Train:', target_train.shape)\n",
    "print('Target Test:', target_test.shape)"
   ]
  },
  {
   "cell_type": "markdown",
   "metadata": {},
   "source": [
    "### Scaled"
   ]
  },
  {
   "cell_type": "code",
   "execution_count": 26,
   "metadata": {},
   "outputs": [
    {
     "name": "stdout",
     "output_type": "stream",
     "text": [
      "Feature Train: (3392, 4)\n",
      "Feature Test: (1455, 4)\n",
      "Target Train: (3392,)\n",
      "Target Test: (1455,)\n"
     ]
    }
   ],
   "source": [
    "# Create Training & Test Using Non-Scaled Data\n",
    "\n",
    "# Features\n",
    "features_scaled = df_scaled[feature_names]\n",
    "\n",
    "# Target\n",
    "# Create insurance_benefits_received target on scaled data \n",
    "df_scaled['insurance_benefits_received'] = df_scaled['insurance_benefits'] > 0\n",
    "target_scaled = df_scaled['insurance_benefits_received']\n",
    "\n",
    "# Create traning and test features and targets with a split of 70:30\n",
    "features_train_scaled, features_test_scaled, target_train_scaled, target_test_scaled = train_test_split(features_scaled, target_scaled, test_size=0.3, random_state=12345)\n",
    "\n",
    "# Print shape to confirm correct split\n",
    "print('Feature Train:', features_train_scaled.shape)\n",
    "print('Feature Test:', features_test_scaled.shape)\n",
    "print('Target Train:', target_train_scaled.shape)\n",
    "print('Target Test:', target_test_scaled.shape)"
   ]
  },
  {
   "cell_type": "markdown",
   "metadata": {},
   "source": [
    "## Investigate How ```k``` May Influence the Evaluation Metric\n",
    "\n",
    "Build a kNN-based classifier and measure its quality with F1 metric for ```k = 1...10``` for both the unscaled and scaled datasets.\n",
    "\n",
    "### Unscaled"
   ]
  },
  {
   "cell_type": "code",
   "execution_count": 27,
   "metadata": {},
   "outputs": [
    {
     "name": "stdout",
     "output_type": "stream",
     "text": [
      "k=1:\n",
      "F1: 0.67\n",
      "Confusion Matrix\n",
      "[[0.86185567 0.02268041]\n",
      " [0.04536082 0.07010309]]\n",
      "k=2:\n",
      "F1: 0.37\n",
      "Confusion Matrix\n",
      "[[0.87972509 0.004811  ]\n",
      " [0.08797251 0.02749141]]\n",
      "k=3:\n",
      "F1: 0.38\n",
      "Confusion Matrix\n",
      "[[0.87147766 0.01305842]\n",
      " [0.08522337 0.03024055]]\n",
      "k=4:\n",
      "F1: 0.18\n",
      "Confusion Matrix\n",
      "[[0.87972509 0.004811  ]\n",
      " [0.10378007 0.01168385]]\n",
      "k=5:\n",
      "F1: 0.23\n",
      "Confusion Matrix\n",
      "[[0.87766323 0.00687285]\n",
      " [0.09965636 0.01580756]]\n",
      "k=6:\n",
      "F1: 0.06\n",
      "Confusion Matrix\n",
      "[[8.83848797e-01 6.87285223e-04]\n",
      " [1.12027491e-01 3.43642612e-03]]\n",
      "k=7:\n",
      "F1: 0.07\n",
      "Confusion Matrix\n",
      "[[0.88316151 0.00137457]\n",
      " [0.11134021 0.00412371]]\n",
      "k=8:\n",
      "F1: 0.00\n",
      "Confusion Matrix\n",
      "[[0.88453608 0.        ]\n",
      " [0.11546392 0.        ]]\n",
      "k=9:\n",
      "F1: 0.01\n",
      "Confusion Matrix\n",
      "[[8.84536082e-01 0.00000000e+00]\n",
      " [1.14776632e-01 6.87285223e-04]]\n",
      "k=10:\n",
      "F1: 0.00\n",
      "Confusion Matrix\n",
      "[[0.88453608 0.        ]\n",
      " [0.11546392 0.        ]]\n"
     ]
    }
   ],
   "source": [
    "# Check how a k value from 1 to 10 changes evaluation metrics for unscaled data\n",
    "for k in range(1,11): \n",
    "    knn = KNeighborsClassifier(n_neighbors=k)\n",
    "    knn.fit(features_train,target_train)\n",
    "    predicted_values = knn.predict(features_test)\n",
    "    print(f'k={k}:')\n",
    "    eval_classifier(target_test, predicted_values)"
   ]
  },
  {
   "cell_type": "markdown",
   "metadata": {},
   "source": [
    "### Scaled"
   ]
  },
  {
   "cell_type": "code",
   "execution_count": 28,
   "metadata": {},
   "outputs": [
    {
     "name": "stdout",
     "output_type": "stream",
     "text": [
      "k=1:\n",
      "F1: 0.93\n",
      "Confusion Matrix\n",
      "[[0.87972509 0.004811  ]\n",
      " [0.01168385 0.10378007]]\n",
      "k=2:\n",
      "F1: 0.89\n",
      "Confusion Matrix\n",
      "[[0.88247423 0.00206186]\n",
      " [0.02199313 0.09347079]]\n",
      "k=3:\n",
      "F1: 0.91\n",
      "Confusion Matrix\n",
      "[[0.88041237 0.00412371]\n",
      " [0.01649485 0.09896907]]\n",
      "k=4:\n",
      "F1: 0.88\n",
      "Confusion Matrix\n",
      "[[0.88178694 0.00274914]\n",
      " [0.0233677  0.09209622]]\n",
      "k=5:\n",
      "F1: 0.89\n",
      "Confusion Matrix\n",
      "[[0.87972509 0.004811  ]\n",
      " [0.0185567  0.09690722]]\n",
      "k=6:\n",
      "F1: 0.87\n",
      "Confusion Matrix\n",
      "[[0.88178694 0.00274914]\n",
      " [0.02405498 0.09140893]]\n",
      "k=7:\n",
      "F1: 0.90\n",
      "Confusion Matrix\n",
      "[[0.88178694 0.00274914]\n",
      " [0.01924399 0.09621993]]\n",
      "k=8:\n",
      "F1: 0.86\n",
      "Confusion Matrix\n",
      "[[0.88178694 0.00274914]\n",
      " [0.02542955 0.09003436]]\n",
      "k=9:\n",
      "F1: 0.87\n",
      "Confusion Matrix\n",
      "[[0.88178694 0.00274914]\n",
      " [0.02405498 0.09140893]]\n",
      "k=10:\n",
      "F1: 0.86\n",
      "Confusion Matrix\n",
      "[[0.88178694 0.00274914]\n",
      " [0.02542955 0.09003436]]\n"
     ]
    }
   ],
   "source": [
    "# Check how a k value from 1 to 10 changes evaluation metrics for scaled data\n",
    "for k in range(1,11): \n",
    "    knn = KNeighborsClassifier(n_neighbors=k)\n",
    "    knn.fit(features_train_scaled,target_train_scaled)\n",
    "    predicted_values = knn.predict(features_test_scaled)\n",
    "    print(f'k={k}:')\n",
    "    eval_classifier(target_test_scaled, predicted_values)"
   ]
  },
  {
   "cell_type": "markdown",
   "metadata": {},
   "source": [
    "### Findings: Can kNN Classifier Outperform Dummy Model?\n",
    "\n",
    "The following F1 scores were calculated:\n",
    "- The highest F1 score for dummy matrix is 0.20.\n",
    "- The highest F1 score for kNN model (unscaled data) is 0.61 (```k = 1```).\n",
    "- The highest F1 score for kNN model (scaled data) is 0.97 (```k = 1```).\n",
    "\n",
    "Conclusions:\n",
    "- The kNN model significantly outperforms the dummy model.\n",
    "- Increasing ```k``` value does not have a positive effect on F1 score.\n",
    "- Using scaled data for the kNN model produces better results than unscaled data."
   ]
  },
  {
   "cell_type": "markdown",
   "metadata": {},
   "source": [
    "# Task 3. Regression (with Linear Regression)"
   ]
  },
  {
   "cell_type": "markdown",
   "metadata": {},
   "source": [
    "With `insurance_benefits` as the target, evaluate what RMSE would be for a Linear Regression model."
   ]
  },
  {
   "cell_type": "markdown",
   "metadata": {},
   "source": [
    "Build your own implementation of LR. For that, recall how the linear regression task's solution is formulated in terms of LA. Check RMSE for both the original data and the scaled one. Can you see any difference in RMSE between these two cases?\n",
    "\n",
    "Let's denote\n",
    "- $X$ — feature matrix, each row is a case, each column is a feature, the first column consists of unities\n",
    "- $y$ — target (a vector)\n",
    "- $\\hat{y}$ — estimated tagret (a vector)\n",
    "- $w$ — weight vector\n",
    "\n",
    "The task of linear regression in the language of matrices can be formulated as\n",
    "\n",
    "$$\n",
    "y = Xw\n",
    "$$\n",
    "\n",
    "The training objective then is to find such $w$ that it would minimize the L2-distance (MSE) between $Xw$ and $y$:\n",
    "\n",
    "$$\n",
    "\\min_w d_2(Xw, y) \\quad \\text{or} \\quad \\min_w \\text{MSE}(Xw, y)\n",
    "$$\n",
    "\n",
    "It appears that there is analytical solution for the above:\n",
    "\n",
    "$$\n",
    "w = (X^T X)^{-1} X^T y\n",
    "$$\n",
    "\n",
    "The formula above can be used to find the weights $w$ and the latter can be used to calculate predicted values\n",
    "\n",
    "$$\n",
    "\\hat{y} = X_{val}w\n",
    "$$"
   ]
  },
  {
   "cell_type": "markdown",
   "metadata": {},
   "source": [
    "Split the whole data in the 70:30 proportion for the training/validation parts. Use the RMSE metric for the model evaluation.\n",
    "\n",
    "## Create Linear Regression Model"
   ]
  },
  {
   "cell_type": "code",
   "execution_count": 29,
   "metadata": {},
   "outputs": [],
   "source": [
    "# Create class\n",
    "class MyLinearRegression:\n",
    "    \n",
    "    # Initialize class with relevant variables\n",
    "    def __init__(self):\n",
    "        \n",
    "        self.weights = None\n",
    "    \n",
    "    # Define function for fitting model\n",
    "    def fit(self, X, y):\n",
    "        \n",
    "        # Adding the unities: add 1's to first column of matrix to obtain y-intercept values\n",
    "        X2 = np.append(np.ones([len(X), 1]), X, axis=1)\n",
    "        # Calculate weights vector\n",
    "        self.weights = np.linalg.inv(X2.T.dot(X2)).dot(X2.T).dot(y)\n",
    "\n",
    "    # Define model for predicting values using weights vector\n",
    "    def predict(self, X):\n",
    "        \n",
    "        # Adding the unities: add 1's to first column of matrix to obtain y-intercept values\n",
    "        X2 = np.append(np.ones([len(X), 1]), X, axis=1)\n",
    "        y_pred = X2.dot(self.weights)\n",
    "        \n",
    "        return y_pred"
   ]
  },
  {
   "cell_type": "markdown",
   "metadata": {},
   "source": [
    "### Create Function to Calculate RMSE"
   ]
  },
  {
   "cell_type": "code",
   "execution_count": 30,
   "metadata": {},
   "outputs": [],
   "source": [
    "# Create function to calculate RMSE and R^2\n",
    "def eval_regressor(y_true, y_pred):\n",
    "    \n",
    "    rmse = math.sqrt(sklearn.metrics.mean_squared_error(y_true, y_pred))\n",
    "    print(f'RMSE: {rmse:.2f}')\n",
    "    \n",
    "    r2_score = math.sqrt(sklearn.metrics.r2_score(y_true, y_pred))\n",
    "    print(f'R2: {r2_score:.2f}')    "
   ]
  },
  {
   "cell_type": "markdown",
   "metadata": {},
   "source": [
    "### Evaluate Model Using RMSE with Unscaled Data"
   ]
  },
  {
   "cell_type": "code",
   "execution_count": 31,
   "metadata": {},
   "outputs": [
    {
     "name": "stdout",
     "output_type": "stream",
     "text": [
      "[-9.77366729e-01  3.58042291e-02  1.95594888e-02  5.85336165e-07\n",
      " -1.21618420e-02]\n",
      "RMSE: 0.36\n",
      "R2: 0.66\n"
     ]
    }
   ],
   "source": [
    "# Get values of feature and target\n",
    "X = df[['age', 'gender', 'income', 'family_members']].to_numpy()\n",
    "y = df['insurance_benefits'].to_numpy()\n",
    "\n",
    "# Split dataset into train and test\n",
    "X_train, X_test, y_train, y_test = train_test_split(X, y, test_size=0.3, random_state=12345)\n",
    "\n",
    "# Initialize linear regression model\n",
    "lr = MyLinearRegression()\n",
    "\n",
    "# Fit linear regression model to training features and print weight vector\n",
    "lr.fit(X_train, y_train)\n",
    "print(lr.weights)\n",
    "\n",
    "# Predict test targets given test features\n",
    "y_test_pred = lr.predict(X_test)\n",
    "\n",
    "# Evaluate predictions by calculating RMSE and R^2\n",
    "eval_regressor(y_test, y_test_pred)"
   ]
  },
  {
   "cell_type": "markdown",
   "metadata": {},
   "source": [
    "### Evaluate Model Using RMSE with Scaled Data"
   ]
  },
  {
   "cell_type": "code",
   "execution_count": 32,
   "metadata": {},
   "outputs": [
    {
     "name": "stdout",
     "output_type": "stream",
     "text": [
      "[-0.97736673  2.32727489  0.01955949  0.04624156 -0.07297105]\n",
      "RMSE: 0.36\n",
      "R2: 0.66\n"
     ]
    }
   ],
   "source": [
    "# Get values of feature and target\n",
    "X = df_scaled[['age', 'gender', 'income', 'family_members']].to_numpy()\n",
    "y = df_scaled['insurance_benefits'].to_numpy()\n",
    "\n",
    "# Split dataset into train and test\n",
    "X_train, X_test, y_train, y_test = train_test_split(X, y, test_size=0.3, random_state=12345)\n",
    "\n",
    "# Initialize linear regression model\n",
    "lr = MyLinearRegression()\n",
    "\n",
    "# Fit linear regression model to training features and print weight vector\n",
    "lr.fit(X_train, y_train)\n",
    "print(lr.weights)\n",
    "\n",
    "# Predict test targets given test features\n",
    "y_test_pred = lr.predict(X_test)\n",
    "\n",
    "# Evaluate predictions by calculating RMSE and R^2\n",
    "eval_regressor(y_test, y_test_pred)"
   ]
  },
  {
   "cell_type": "markdown",
   "metadata": {},
   "source": [
    "### Conclusions About Linear Regression\n",
    "\n",
    "After running the linear regression model on the scaled and unscaled data, these are the findings:\n",
    "\n",
    "- RMSE and R^2 values are identical when linear regression is run on unscaled and scaled data.\n",
    "    - Therefore, scaling has no effect on RMSE and R^2\n",
    "- The weight vectors returned between unscaled and scaled data are different. In order to fit the model to either dataset, we need to adjust weights with respect to the scale of the values to achieve the best fit (highest R^2 and/or lowest RMSE)."
   ]
  },
  {
   "cell_type": "markdown",
   "metadata": {},
   "source": [
    "# Task 4. Obfuscating Data"
   ]
  },
  {
   "cell_type": "markdown",
   "metadata": {},
   "source": [
    "It best to obfuscate data by multiplying the numerical features (remember, they can be seen as the matrix $X$) by an invertible matrix $P$. \n",
    "\n",
    "$$\n",
    "X' = X \\times P\n",
    "$$\n",
    "\n",
    "Try to do that and check how the features' values will look like after the transformation. By the way, the intertible property is important here so make sure that $P$ is indeed invertible.\n",
    "\n",
    "You may want to review the 'Matrices and Matrix Operations -> Matrix Multiplication' lesson to recall the rule of matrix multiplication and its implementation with NumPy.\n",
    "\n",
    "## Setting Up the Matrices\n",
    "\n",
    "### Create a Matrix from Customers' Numerical Personal Information"
   ]
  },
  {
   "cell_type": "code",
   "execution_count": 33,
   "metadata": {},
   "outputs": [],
   "source": [
    "# Choosing which columns of numerical personal information to include in the matrix\n",
    "personal_info_column_list = ['gender', 'age', 'income', 'family_members']\n",
    "df_pn = df[personal_info_column_list]"
   ]
  },
  {
   "cell_type": "code",
   "execution_count": 34,
   "metadata": {},
   "outputs": [
    {
     "data": {
      "text/plain": [
       "array([[1.00e+00, 4.10e+01, 4.96e+04, 1.00e+00],\n",
       "       [0.00e+00, 4.60e+01, 3.80e+04, 1.00e+00],\n",
       "       [0.00e+00, 2.90e+01, 2.10e+04, 0.00e+00],\n",
       "       ...,\n",
       "       [0.00e+00, 2.00e+01, 3.39e+04, 2.00e+00],\n",
       "       [1.00e+00, 2.20e+01, 3.27e+04, 3.00e+00],\n",
       "       [1.00e+00, 2.80e+01, 4.06e+04, 1.00e+00]])"
      ]
     },
     "execution_count": 34,
     "metadata": {},
     "output_type": "execute_result"
    }
   ],
   "source": [
    "# Matrix X will hold the numerical personal information defined above\n",
    "X = df_pn.to_numpy()\n",
    "X"
   ]
  },
  {
   "cell_type": "markdown",
   "metadata": {},
   "source": [
    "Generating a random matrix $P$."
   ]
  },
  {
   "cell_type": "code",
   "execution_count": 35,
   "metadata": {},
   "outputs": [
    {
     "data": {
      "text/plain": [
       "array([[0.77395605, 0.43887844, 0.85859792, 0.69736803],\n",
       "       [0.09417735, 0.97562235, 0.7611397 , 0.78606431],\n",
       "       [0.12811363, 0.45038594, 0.37079802, 0.92676499],\n",
       "       [0.64386512, 0.82276161, 0.4434142 , 0.22723872]])"
      ]
     },
     "execution_count": 35,
     "metadata": {},
     "output_type": "execute_result"
    }
   ],
   "source": [
    "# Generate random matrix P that matches the size of matrix X\n",
    "rng = np.random.default_rng(seed=42)\n",
    "P = rng.random(size=(X.shape[1], X.shape[1]))\n",
    "P"
   ]
  },
  {
   "cell_type": "markdown",
   "metadata": {},
   "source": [
    "Checking the matrix $P$ is invertible"
   ]
  },
  {
   "cell_type": "code",
   "execution_count": 36,
   "metadata": {},
   "outputs": [
    {
     "data": {
      "text/plain": [
       "array([[ 0.41467992, -1.43783972,  0.62798546,  1.14001268],\n",
       "       [-1.06101789,  0.44219337,  0.1329549 ,  1.18425933],\n",
       "       [ 1.42362442,  1.60461607, -2.0553823 , -1.53699695],\n",
       "       [-0.11128575, -0.65813802,  1.74995517, -0.11816316]])"
      ]
     },
     "execution_count": 36,
     "metadata": {},
     "output_type": "execute_result"
    }
   ],
   "source": [
    "# np.linalg.inv to compute the (multiplicative) inverse of a matrix\n",
    "P_invertible = np.linalg.inv(P)\n",
    "\n",
    "# Print p_invertible\n",
    "P_invertible"
   ]
  },
  {
   "cell_type": "markdown",
   "metadata": {},
   "source": [
    "Finding: Matrix P is invertible since ```np.linalg.inv()``` returns a matrix. If matrix P were not invertible, we would get a **LinAlgError** instead.\n",
    "\n",
    "### Can you guess the customers' ages or income after the transformation?"
   ]
  },
  {
   "cell_type": "code",
   "execution_count": 37,
   "metadata": {},
   "outputs": [
    {
     "data": {
      "text/plain": [
       "array([[ 6359.71527314, 22380.40467609, 18424.09074184, 46000.69669016],\n",
       "       [ 4873.29406479, 17160.36702982, 14125.78076133, 35253.45577301],\n",
       "       [ 2693.11742928,  9486.397744  ,  7808.83156024, 19484.86063067],\n",
       "       ...,\n",
       "       [ 4346.2234249 , 15289.24126492, 12586.16264392, 31433.50888552],\n",
       "       [ 4194.09324155, 14751.9910242 , 12144.02930637, 30323.88763426],\n",
       "       [ 5205.46827354, 18314.24814446, 15077.01370762, 37649.59295455]])"
      ]
     },
     "execution_count": 37,
     "metadata": {},
     "output_type": "execute_result"
    }
   ],
   "source": [
    "# In order to fully obfuscate the data, matrix X must be multiplied by matrix P\n",
    "X_obfuscated = np.dot(X, P)\n",
    "X_obfuscated"
   ]
  },
  {
   "cell_type": "markdown",
   "metadata": {},
   "source": [
    "Findings: After obfuscating the data, I am not able to guess any customer ages or income, since the values are large, don't resemble the original data, and don't follow any noticable patterns.\n",
    "\n",
    "### Can you recover the original data from $X'$ if you know $P$? Try to check that with calculations by moving $P$ from the right side of the formula above to the left one. The rules of matrix multiplcation are really helpful here."
   ]
  },
  {
   "cell_type": "code",
   "execution_count": 38,
   "metadata": {},
   "outputs": [
    {
     "data": {
      "text/plain": [
       "array([[ 1.00000000e+00,  4.10000000e+01,  4.96000000e+04,\n",
       "         1.00000000e+00],\n",
       "       [-4.47363596e-12,  4.60000000e+01,  3.80000000e+04,\n",
       "         1.00000000e+00],\n",
       "       [-2.51586878e-12,  2.90000000e+01,  2.10000000e+04,\n",
       "         9.52452315e-13],\n",
       "       ...,\n",
       "       [-1.92837871e-12,  2.00000000e+01,  3.39000000e+04,\n",
       "         2.00000000e+00],\n",
       "       [ 1.00000000e+00,  2.20000000e+01,  3.27000000e+04,\n",
       "         3.00000000e+00],\n",
       "       [ 1.00000000e+00,  2.80000000e+01,  4.06000000e+04,\n",
       "         1.00000000e+00]])"
      ]
     },
     "execution_count": 38,
     "metadata": {},
     "output_type": "execute_result"
    }
   ],
   "source": [
    "# In order to move P from right side to left you -> X`= X*P to X`/P = X\n",
    "# If you divide by a matrix - this is the same as multiplying by the inverse of the matrix you want to divide by\n",
    "# Therefore you can do X`= X*P to X`/P = X which is the same as X`* P_inv = X\n",
    "\n",
    "# We already created the obfuscated matrix X above, but here is the calculation again\n",
    "X_obfuscated = np.dot(X, P)\n",
    "\n",
    "# Use np.linalg.inv to compute the (multiplicative) inverse of a matrix\n",
    "P_inverse = np.linalg.inv(P)\n",
    "\n",
    "# Try to recover data by multiplying X` by P_inverse\n",
    "recovered_data = np.dot(X_obfuscated, P_invertible)\n",
    "\n",
    "# Print recovered_data\n",
    "recovered_data"
   ]
  },
  {
   "cell_type": "markdown",
   "metadata": {},
   "source": [
    "Print all three cases for a few customers\n",
    "- The original data\n",
    "- The transformed one\n",
    "- The reversed (recovered) one\n",
    "\n",
    "### Original Data"
   ]
  },
  {
   "cell_type": "code",
   "execution_count": 39,
   "metadata": {},
   "outputs": [
    {
     "data": {
      "text/html": [
       "<div>\n",
       "<style scoped>\n",
       "    .dataframe tbody tr th:only-of-type {\n",
       "        vertical-align: middle;\n",
       "    }\n",
       "\n",
       "    .dataframe tbody tr th {\n",
       "        vertical-align: top;\n",
       "    }\n",
       "\n",
       "    .dataframe thead th {\n",
       "        text-align: right;\n",
       "    }\n",
       "</style>\n",
       "<table border=\"1\" class=\"dataframe\">\n",
       "  <thead>\n",
       "    <tr style=\"text-align: right;\">\n",
       "      <th></th>\n",
       "      <th>gender</th>\n",
       "      <th>age</th>\n",
       "      <th>income</th>\n",
       "      <th>family_members</th>\n",
       "    </tr>\n",
       "  </thead>\n",
       "  <tbody>\n",
       "    <tr>\n",
       "      <th>0</th>\n",
       "      <td>1.0</td>\n",
       "      <td>41.0</td>\n",
       "      <td>49600.0</td>\n",
       "      <td>1.0</td>\n",
       "    </tr>\n",
       "    <tr>\n",
       "      <th>1</th>\n",
       "      <td>0.0</td>\n",
       "      <td>46.0</td>\n",
       "      <td>38000.0</td>\n",
       "      <td>1.0</td>\n",
       "    </tr>\n",
       "    <tr>\n",
       "      <th>2</th>\n",
       "      <td>0.0</td>\n",
       "      <td>29.0</td>\n",
       "      <td>21000.0</td>\n",
       "      <td>0.0</td>\n",
       "    </tr>\n",
       "    <tr>\n",
       "      <th>3</th>\n",
       "      <td>0.0</td>\n",
       "      <td>21.0</td>\n",
       "      <td>41700.0</td>\n",
       "      <td>2.0</td>\n",
       "    </tr>\n",
       "    <tr>\n",
       "      <th>4</th>\n",
       "      <td>1.0</td>\n",
       "      <td>28.0</td>\n",
       "      <td>26100.0</td>\n",
       "      <td>0.0</td>\n",
       "    </tr>\n",
       "  </tbody>\n",
       "</table>\n",
       "</div>"
      ],
      "text/plain": [
       "   gender   age   income  family_members\n",
       "0     1.0  41.0  49600.0             1.0\n",
       "1     0.0  46.0  38000.0             1.0\n",
       "2     0.0  29.0  21000.0             0.0\n",
       "3     0.0  21.0  41700.0             2.0\n",
       "4     1.0  28.0  26100.0             0.0"
      ]
     },
     "metadata": {},
     "output_type": "display_data"
    }
   ],
   "source": [
    "display(pd.DataFrame(X, columns=feature_names).head())"
   ]
  },
  {
   "cell_type": "markdown",
   "metadata": {},
   "source": [
    "### Transformed (Obfuscated) Data"
   ]
  },
  {
   "cell_type": "code",
   "execution_count": 40,
   "metadata": {},
   "outputs": [
    {
     "data": {
      "text/html": [
       "<div>\n",
       "<style scoped>\n",
       "    .dataframe tbody tr th:only-of-type {\n",
       "        vertical-align: middle;\n",
       "    }\n",
       "\n",
       "    .dataframe tbody tr th {\n",
       "        vertical-align: top;\n",
       "    }\n",
       "\n",
       "    .dataframe thead th {\n",
       "        text-align: right;\n",
       "    }\n",
       "</style>\n",
       "<table border=\"1\" class=\"dataframe\">\n",
       "  <thead>\n",
       "    <tr style=\"text-align: right;\">\n",
       "      <th></th>\n",
       "      <th>gender</th>\n",
       "      <th>age</th>\n",
       "      <th>income</th>\n",
       "      <th>family_members</th>\n",
       "    </tr>\n",
       "  </thead>\n",
       "  <tbody>\n",
       "    <tr>\n",
       "      <th>0</th>\n",
       "      <td>6359.715273</td>\n",
       "      <td>22380.404676</td>\n",
       "      <td>18424.090742</td>\n",
       "      <td>46000.696690</td>\n",
       "    </tr>\n",
       "    <tr>\n",
       "      <th>1</th>\n",
       "      <td>4873.294065</td>\n",
       "      <td>17160.367030</td>\n",
       "      <td>14125.780761</td>\n",
       "      <td>35253.455773</td>\n",
       "    </tr>\n",
       "    <tr>\n",
       "      <th>2</th>\n",
       "      <td>2693.117429</td>\n",
       "      <td>9486.397744</td>\n",
       "      <td>7808.831560</td>\n",
       "      <td>19484.860631</td>\n",
       "    </tr>\n",
       "    <tr>\n",
       "      <th>3</th>\n",
       "      <td>5345.603937</td>\n",
       "      <td>18803.227203</td>\n",
       "      <td>15479.148373</td>\n",
       "      <td>38663.061863</td>\n",
       "    </tr>\n",
       "    <tr>\n",
       "      <th>4</th>\n",
       "      <td>3347.176735</td>\n",
       "      <td>11782.829283</td>\n",
       "      <td>9699.998942</td>\n",
       "      <td>24211.273378</td>\n",
       "    </tr>\n",
       "  </tbody>\n",
       "</table>\n",
       "</div>"
      ],
      "text/plain": [
       "        gender           age        income  family_members\n",
       "0  6359.715273  22380.404676  18424.090742    46000.696690\n",
       "1  4873.294065  17160.367030  14125.780761    35253.455773\n",
       "2  2693.117429   9486.397744   7808.831560    19484.860631\n",
       "3  5345.603937  18803.227203  15479.148373    38663.061863\n",
       "4  3347.176735  11782.829283   9699.998942    24211.273378"
      ]
     },
     "metadata": {},
     "output_type": "display_data"
    }
   ],
   "source": [
    "display(pd.DataFrame(X_obfuscated, columns=feature_names).head())"
   ]
  },
  {
   "cell_type": "markdown",
   "metadata": {},
   "source": [
    "### Reversed (Recovered) Data"
   ]
  },
  {
   "cell_type": "code",
   "execution_count": 41,
   "metadata": {},
   "outputs": [
    {
     "data": {
      "text/html": [
       "<div>\n",
       "<style scoped>\n",
       "    .dataframe tbody tr th:only-of-type {\n",
       "        vertical-align: middle;\n",
       "    }\n",
       "\n",
       "    .dataframe tbody tr th {\n",
       "        vertical-align: top;\n",
       "    }\n",
       "\n",
       "    .dataframe thead th {\n",
       "        text-align: right;\n",
       "    }\n",
       "</style>\n",
       "<table border=\"1\" class=\"dataframe\">\n",
       "  <thead>\n",
       "    <tr style=\"text-align: right;\">\n",
       "      <th></th>\n",
       "      <th>gender</th>\n",
       "      <th>age</th>\n",
       "      <th>income</th>\n",
       "      <th>family_members</th>\n",
       "    </tr>\n",
       "  </thead>\n",
       "  <tbody>\n",
       "    <tr>\n",
       "      <th>0</th>\n",
       "      <td>1.000000e+00</td>\n",
       "      <td>41.0</td>\n",
       "      <td>49600.0</td>\n",
       "      <td>1.000000e+00</td>\n",
       "    </tr>\n",
       "    <tr>\n",
       "      <th>1</th>\n",
       "      <td>-4.473636e-12</td>\n",
       "      <td>46.0</td>\n",
       "      <td>38000.0</td>\n",
       "      <td>1.000000e+00</td>\n",
       "    </tr>\n",
       "    <tr>\n",
       "      <th>2</th>\n",
       "      <td>-2.515869e-12</td>\n",
       "      <td>29.0</td>\n",
       "      <td>21000.0</td>\n",
       "      <td>9.524523e-13</td>\n",
       "    </tr>\n",
       "    <tr>\n",
       "      <th>3</th>\n",
       "      <td>-4.844982e-12</td>\n",
       "      <td>21.0</td>\n",
       "      <td>41700.0</td>\n",
       "      <td>2.000000e+00</td>\n",
       "    </tr>\n",
       "    <tr>\n",
       "      <th>4</th>\n",
       "      <td>1.000000e+00</td>\n",
       "      <td>28.0</td>\n",
       "      <td>26100.0</td>\n",
       "      <td>-1.019907e-13</td>\n",
       "    </tr>\n",
       "  </tbody>\n",
       "</table>\n",
       "</div>"
      ],
      "text/plain": [
       "         gender   age   income  family_members\n",
       "0  1.000000e+00  41.0  49600.0    1.000000e+00\n",
       "1 -4.473636e-12  46.0  38000.0    1.000000e+00\n",
       "2 -2.515869e-12  29.0  21000.0    9.524523e-13\n",
       "3 -4.844982e-12  21.0  41700.0    2.000000e+00\n",
       "4  1.000000e+00  28.0  26100.0   -1.019907e-13"
      ]
     },
     "metadata": {},
     "output_type": "display_data"
    }
   ],
   "source": [
    "display(pd.DataFrame(recovered_data, columns=feature_names).head())"
   ]
  },
  {
   "cell_type": "markdown",
   "metadata": {},
   "source": [
    "### You can probably see that some values are not exactly the same as they are in the original data. What might be the reason for that?\n",
    "\n",
    "The values aren't exactly the same between the original and recovered data because of rounding (floats vs. integers). The transformed data is completely different from the other two because it is intended to be obfuscated with no way to discern the original data."
   ]
  },
  {
   "cell_type": "markdown",
   "metadata": {},
   "source": [
    "## Proof That Data Obfuscation Can Work with LR"
   ]
  },
  {
   "cell_type": "markdown",
   "metadata": {},
   "source": [
    "The regression task has been solved with linear regression in this project. Your next task is to prove _analytically_ that the given obfuscation method won't affect linear regression in terms of predicted values i.e. their values will remain the same. Can you believe that? Well, you don't have to, you should prove it!"
   ]
  },
  {
   "cell_type": "markdown",
   "metadata": {},
   "source": [
    "So, the data is obfuscated and there is $X \\times P$ instead of just $X$ now. Consequently, there are other weights $w_P$ as\n",
    "$$\n",
    "w = (X^T X)^{-1} X^T y \\quad \\Rightarrow \\quad w_P = [(XP)^T XP]^{-1} (XP)^T y\n",
    "$$\n",
    "\n",
    "### How would $w$ and $w_P$ be linked if you simplify the formula for $w_P$ above? \n",
    "\n",
    "If we simplify the formula for $\\omega_p$, it would be equal to $P^{-1}\\omega$ according to the analytical proof below. This means that the inverse of matrix P can be used to link $\\omega$ and $\\omega_p$.\n",
    "\n",
    "$\\omega_p = P^{-1}\\omega$\n",
    "\n",
    "### What would be predicted values with $w_P$? \n",
    "\n",
    "Since the formula for $\\omega_p$ and $\\omega$ are the same, the predicted values will be the same for both the normal and obfuscated datasets:\n",
    "\n",
    "$\\hat{y_p} = X'\\omega_p = (XP)(P^{-1}\\omega) = X\\omega = \\hat{y}$\n",
    "\n",
    "### What does that mean for the quality of linear regression if you measure it with RMSE?\n",
    "\n",
    "This means that the RMSE will be the same for both the obfuscated and non-obfuscated data.\n",
    "\n",
    "\n",
    "\n",
    "Check Appendix B Properties of Matrices in the end of the notebook. There are useful formulas in there!\n",
    "\n",
    "No code is necessary in this section, only analytical explanation!"
   ]
  },
  {
   "cell_type": "markdown",
   "metadata": {},
   "source": [
    "### **Analytical proof**"
   ]
  },
  {
   "cell_type": "markdown",
   "metadata": {},
   "source": [
    "$\\omega_p = [(XP)^{T}(XP)]^{-1}(XP)^{T}y$\n",
    "\n",
    "$\\omega_p = [(P^{T}X^{T})(XP)]^{-1}(XP)^{T}y$\n",
    "\n",
    "$\\omega_p = (P^{T})^{-1}(X^{T}X)^{-1}P^{-1}P^{T}(X^{T}y)$\n",
    "\n",
    "$(P^{T})^{-1}P^{T} = I$\n",
    "\n",
    "$\\omega = (X^{T}X)^{-1}X^{T}y$\n",
    "\n",
    "$\\omega_p = IP^{-1}[(X^{T}X)^{-1}X^{T}y]$\n",
    "\n",
    "$\\omega_p = P^{-1}\\omega$"
   ]
  },
  {
   "cell_type": "markdown",
   "metadata": {},
   "source": [
    "## Test Linear Regression With Data Obfuscation"
   ]
  },
  {
   "cell_type": "markdown",
   "metadata": {},
   "source": [
    "Now, let's prove Linear Regression can work computationally with the chosen obfuscation transformation.\n",
    "\n",
    "Build a procedure or a class that runs Linear Regression optionally with the obfuscation. You can use either a ready implementation of Linear Regression from sciki-learn or your own.\n",
    "\n",
    "Run Linear Regression for the original data and the obfuscated one, compare the predicted values and the RMSE, $R^2$ metric values. Is there any difference?"
   ]
  },
  {
   "cell_type": "markdown",
   "metadata": {},
   "source": [
    "**Procedure**\n",
    "\n",
    "- Create a square matrix $P$ of random numbers.\n",
    "- Check that it is invertible. If not, repeat the first point until we get an invertible matrix.\n",
    "- <! your comment here !>\n",
    "- Use $XP$ as the new feature matrix\n",
    "\n",
    "### Linear Regression for the Original Data"
   ]
  },
  {
   "cell_type": "code",
   "execution_count": 42,
   "metadata": {},
   "outputs": [
    {
     "name": "stdout",
     "output_type": "stream",
     "text": [
      "RMSE: 0.36\n",
      "R2: 0.66\n"
     ]
    }
   ],
   "source": [
    "# Get values for target since we already have matrix of numerical features represented by X in Section 5.1\n",
    "target = df['insurance_benefits'].to_numpy()\n",
    "\n",
    "# Split Dataset into train and test \n",
    "features_train, features_test, target_train, target_test = train_test_split(X, target, test_size=0.3, random_state=12345)\n",
    "\n",
    "# Initialize Linear Regression Model\n",
    "lr_model = MyLinearRegression()\n",
    "\n",
    "# Fit Linear Regression Model to training features and test\n",
    "lr_model.fit(features_train, target_train)\n",
    "\n",
    "# Predict test values given features of test data set\n",
    "test_predictions = lr_model.predict(features_test)\n",
    "\n",
    "# Evaluate predictions by calculating RSME and R^2\n",
    "eval_regressor(target_test, test_predictions)"
   ]
  },
  {
   "cell_type": "markdown",
   "metadata": {},
   "source": [
    "### Linear Regression for the Obfuscated Data"
   ]
  },
  {
   "cell_type": "code",
   "execution_count": 43,
   "metadata": {},
   "outputs": [
    {
     "name": "stdout",
     "output_type": "stream",
     "text": [
      "RMSE: 0.36\n",
      "R2: 0.66\n"
     ]
    }
   ],
   "source": [
    "# Get values for target since we already have matrix of obfuscated data reprsented by X` (X_obfuscated)\n",
    "target = df['insurance_benefits'].to_numpy()\n",
    "\n",
    "# Split Dataset into train and test \n",
    "features_train, features_test, target_train, target_test = train_test_split(X_obfuscated, target, test_size=0.3, random_state=12345)\n",
    "\n",
    "# Initialize Linear Regression Model\n",
    "lr_model = MyLinearRegression()\n",
    "\n",
    "# Fit Linear Regression Model to training features and test\n",
    "lr_model.fit(features_train, target_train)\n",
    "\n",
    "# Predict test values given features of test data set\n",
    "test_predictions = lr_model.predict(features_test)\n",
    "\n",
    "# Evaluate predictions by calculating RSME and R^2\n",
    "eval_regressor(target_test, test_predictions)"
   ]
  },
  {
   "cell_type": "markdown",
   "metadata": {},
   "source": [
    "Findings: When fitting the Linear Regression model to both the original and obfuscated data, we see the same results in terms of F1 and R^2 scores. \n",
    "\n",
    "- Obfuscating the data has no affect on the results of the linear regression model.\n",
    "\n",
    "## Conclusions"
   ]
  },
  {
   "cell_type": "markdown",
   "metadata": {},
   "source": [
    "- Task 1 - Similar Customers\n",
    "    - Scaling the data affects the distances (Euclidean and Manhattan) calculated by the kNN algorithm.\n",
    "        - Distances were larger for unscaled data, but largely uniform between the two types of distance metrics.\n",
    "    - Euclidean and Manhattan distance metrics produced the same nearest neighbors as each other when using either unscaled or scaled data for both.\n",
    "- Task 2 - Is Customer Likely to Receive Insurance Benefit?\n",
    "    - Increasing k value did not improve F1 score.\n",
    "    - Using scaled data in a kNN model produces better results than using unscaled data.\n",
    "        - This is due to unequal weights being placed on features with larger values, therefore altering the distance calculations.\n",
    "- Task 3 - Regression (with Linear Regression)\n",
    "    - RMSE and R^2 values are the same for a linear regression model using unscaled vs. scaled data.\n",
    "- Task 4 - Obfuscating Data\n",
    "    - Between original and recovered data, values aren't exactly the same due to rounding (floats vs. integers). The transformed data is purposefully differant than either of the other types because it is intended to be obfuscated.\n",
    "- Task 5 - Proof that Data Obfuscation Can Work with Linear Regression\n",
    "    - Obfuscation does not affect linear regression in terms of predicted values or RMSE.\n",
    "- Task 6 - Test Linear Regression with Data Obfuscation\n",
    "    - Obfuscating the data has no effect on the results of the linear regression model. The same F1 and R^2 scores were obtained when fitting original and obfuscated data to the model and predicting test values."
   ]
  },
  {
   "cell_type": "markdown",
   "metadata": {},
   "source": [
    "## Checklist"
   ]
  },
  {
   "cell_type": "markdown",
   "metadata": {},
   "source": [
    "Type 'x' to check. Then press Shift+Enter."
   ]
  },
  {
   "cell_type": "markdown",
   "metadata": {},
   "source": [
    "- [x]  Jupyter Notebook is open\n",
    "- [x]  Code is error free\n",
    "- [x]  The cells are arranged in order of logic and execution\n",
    "- [x]  Task 1 has been performed\n",
    "    - [x]  There is the procedure that can return k similar customers for a given one\n",
    "    - [x]  The procedure is tested for all four proposed combinations\n",
    "    - [x]  The questions re the scaling/distances are answered\n",
    "- [x]  Task 2 has been performed\n",
    "    - [x]  The random classification model is built and tested for all for probability levels\n",
    "    - [x]  The kNN classification model is built and tested for both the original data and the scaled one, the F1 metric is calculated.\n",
    "- [x]  Task 3 has been performed\n",
    "    - [x]  The linear tegression solution is implemented with matrix operations.\n",
    "    - [x]  RMSE is calculated for the implemented solution.\n",
    "- [x]  Task 4 has been performed\n",
    "    - [x]  The data is obfuscated with a random and invertible matrix P\n",
    "    - [x]  The obfuscated data is recoved, few examples are printed out\n",
    "    - [x]  The analytical proof that the transformation does not affect RMSE is provided \n",
    "    - [x]  The computational proof that the transformation does not affect RMSE is provided\n",
    "- [x]  Conclusions have been made"
   ]
  },
  {
   "cell_type": "markdown",
   "metadata": {},
   "source": [
    "# Appendices \n",
    "\n",
    "## Appendix A: Writing Formulas in Jupyter Notebooks"
   ]
  },
  {
   "cell_type": "markdown",
   "metadata": {},
   "source": [
    "You can write formulas in your Jupyter Notebook in a markup language provided by a high-quality publishing system called $\\LaTeX$ (pronounced \"Lah-tech\"), and they will look like formulas in textbooks.\n",
    "\n",
    "To put a formula in a text, put the dollar sign (\\\\$) before and after the formula's text e.g. $\\frac{1}{2} \\times \\frac{3}{2} = \\frac{3}{4}$ or $y = x^2, x \\ge 1$.\n",
    "\n",
    "If a formula should be in its own paragraph, put the double dollar sign (\\\\$\\\\$) before and after the formula text e.g.\n",
    "\n",
    "$$\n",
    "\\bar{x} = \\frac{1}{n}\\sum_{i=1}^{n} x_i.\n",
    "$$\n",
    "\n",
    "The markup language of [LaTeX](https://en.wikipedia.org/wiki/LaTeX) is very popular among people who use formulas in their articles, books and texts. It can be complex but its basics are easy. Check this two page [cheatsheet](http://tug.ctan.org/info/undergradmath/undergradmath.pdf) for learning how to compose the most common formulas."
   ]
  },
  {
   "cell_type": "markdown",
   "metadata": {},
   "source": [
    "## Appendix B: Properties of Matrices"
   ]
  },
  {
   "cell_type": "markdown",
   "metadata": {},
   "source": [
    "Matrices have many properties in Linear Algebra. A few of them are listed here which can help with the analytical proof in this project."
   ]
  },
  {
   "cell_type": "markdown",
   "metadata": {},
   "source": [
    "<table>\n",
    "<tr>\n",
    "<td>Distributivity</td><td>$A(B+C)=AB+AC$</td>\n",
    "</tr>\n",
    "<tr>\n",
    "<td>Non-commutativity</td><td>$AB \\neq BA$</td>\n",
    "</tr>\n",
    "<tr>\n",
    "<td>Associative property of multiplication</td><td>$(AB)C = A(BC)$</td>\n",
    "</tr>\n",
    "<tr>\n",
    "<td>Multiplicative identity property</td><td>$IA = AI = A$</td>\n",
    "</tr>\n",
    "<tr>\n",
    "<td></td><td>$A^{-1}A = AA^{-1} = I$\n",
    "</td>\n",
    "</tr>    \n",
    "<tr>\n",
    "<td></td><td>$(AB)^{-1} = B^{-1}A^{-1}$</td>\n",
    "</tr>    \n",
    "<tr>\n",
    "<td>Reversivity of the transpose of a product of matrices,</td><td>$(AB)^T = B^TA^T$</td>\n",
    "</tr>    \n",
    "</table>"
   ]
  },
  {
   "cell_type": "code",
   "execution_count": null,
   "metadata": {},
   "outputs": [],
   "source": []
  }
 ],
 "metadata": {
  "ExecuteTimeLog": [
   {
    "duration": 2689,
    "start_time": "2025-03-11T16:30:14.158Z"
   },
   {
    "duration": 13,
    "start_time": "2025-03-11T16:30:16.849Z"
   },
   {
    "duration": 3,
    "start_time": "2025-03-11T16:30:16.864Z"
   },
   {
    "duration": 11,
    "start_time": "2025-03-11T16:30:16.869Z"
   },
   {
    "duration": 8,
    "start_time": "2025-03-11T16:30:16.882Z"
   },
   {
    "duration": 2,
    "start_time": "2025-03-11T16:30:16.892Z"
   },
   {
    "duration": 16,
    "start_time": "2025-03-11T16:30:16.896Z"
   },
   {
    "duration": 3,
    "start_time": "2025-03-11T16:30:16.914Z"
   },
   {
    "duration": 2558,
    "start_time": "2025-03-11T16:30:16.918Z"
   },
   {
    "duration": 3,
    "start_time": "2025-03-11T16:30:19.478Z"
   },
   {
    "duration": 6,
    "start_time": "2025-03-11T16:30:19.483Z"
   },
   {
    "duration": 0,
    "start_time": "2025-03-11T16:30:19.491Z"
   },
   {
    "duration": 0,
    "start_time": "2025-03-11T16:30:19.492Z"
   },
   {
    "duration": 0,
    "start_time": "2025-03-11T16:30:19.493Z"
   },
   {
    "duration": 0,
    "start_time": "2025-03-11T16:30:19.494Z"
   },
   {
    "duration": 0,
    "start_time": "2025-03-11T16:30:19.495Z"
   },
   {
    "duration": 0,
    "start_time": "2025-03-11T16:30:19.496Z"
   },
   {
    "duration": 0,
    "start_time": "2025-03-11T16:30:19.497Z"
   },
   {
    "duration": 0,
    "start_time": "2025-03-11T16:30:19.498Z"
   },
   {
    "duration": 0,
    "start_time": "2025-03-11T16:30:19.500Z"
   },
   {
    "duration": 0,
    "start_time": "2025-03-11T16:30:19.511Z"
   },
   {
    "duration": 0,
    "start_time": "2025-03-11T16:30:19.512Z"
   },
   {
    "duration": 0,
    "start_time": "2025-03-11T16:30:19.513Z"
   },
   {
    "duration": 0,
    "start_time": "2025-03-11T16:30:19.514Z"
   },
   {
    "duration": 4,
    "start_time": "2025-03-11T16:40:34.070Z"
   },
   {
    "duration": 9,
    "start_time": "2025-03-11T16:40:35.105Z"
   },
   {
    "duration": 17,
    "start_time": "2025-03-11T16:40:52.419Z"
   },
   {
    "duration": 8,
    "start_time": "2025-03-11T16:42:03.578Z"
   },
   {
    "duration": 8,
    "start_time": "2025-03-11T16:42:04.828Z"
   },
   {
    "duration": 8,
    "start_time": "2025-03-11T16:42:05.621Z"
   },
   {
    "duration": 8,
    "start_time": "2025-03-11T16:42:06.372Z"
   },
   {
    "duration": 9,
    "start_time": "2025-03-11T16:42:07.118Z"
   },
   {
    "duration": 8,
    "start_time": "2025-03-11T16:42:07.780Z"
   },
   {
    "duration": 8,
    "start_time": "2025-03-11T16:42:08.542Z"
   },
   {
    "duration": 8,
    "start_time": "2025-03-11T16:42:09.349Z"
   },
   {
    "duration": 9,
    "start_time": "2025-03-11T16:42:10.004Z"
   },
   {
    "duration": 7,
    "start_time": "2025-03-11T16:42:10.736Z"
   },
   {
    "duration": 8,
    "start_time": "2025-03-11T16:42:11.393Z"
   },
   {
    "duration": 7,
    "start_time": "2025-03-11T16:42:12.084Z"
   },
   {
    "duration": 4,
    "start_time": "2025-03-11T16:46:06.322Z"
   },
   {
    "duration": 3,
    "start_time": "2025-03-11T16:46:24.478Z"
   },
   {
    "duration": 4,
    "start_time": "2025-03-11T16:46:26.226Z"
   },
   {
    "duration": 8,
    "start_time": "2025-03-11T16:47:14.864Z"
   },
   {
    "duration": 8,
    "start_time": "2025-03-11T16:47:22.702Z"
   },
   {
    "duration": 5,
    "start_time": "2025-03-11T16:56:11.098Z"
   },
   {
    "duration": 319,
    "start_time": "2025-03-11T16:56:13.595Z"
   },
   {
    "duration": 3,
    "start_time": "2025-03-11T16:56:49.261Z"
   },
   {
    "duration": 21,
    "start_time": "2025-03-11T16:56:55.242Z"
   },
   {
    "duration": 13,
    "start_time": "2025-03-11T16:56:56.714Z"
   },
   {
    "duration": 20,
    "start_time": "2025-03-11T16:56:58.075Z"
   },
   {
    "duration": 13,
    "start_time": "2025-03-11T16:56:59.405Z"
   },
   {
    "duration": 21,
    "start_time": "2025-03-11T17:04:02.591Z"
   },
   {
    "duration": 3,
    "start_time": "2025-03-11T17:10:54.001Z"
   },
   {
    "duration": 5,
    "start_time": "2025-03-11T17:11:46.266Z"
   },
   {
    "duration": 2,
    "start_time": "2025-03-11T17:13:42.060Z"
   },
   {
    "duration": 3,
    "start_time": "2025-03-11T17:14:39.794Z"
   },
   {
    "duration": 21,
    "start_time": "2025-03-11T17:14:41.782Z"
   },
   {
    "duration": 7,
    "start_time": "2025-03-11T17:17:25.363Z"
   },
   {
    "duration": 14,
    "start_time": "2025-03-11T17:17:57.387Z"
   },
   {
    "duration": 14,
    "start_time": "2025-03-11T17:17:58.724Z"
   },
   {
    "duration": 8,
    "start_time": "2025-03-11T17:19:12.004Z"
   },
   {
    "duration": 296,
    "start_time": "2025-03-11T17:22:28.741Z"
   },
   {
    "duration": 349,
    "start_time": "2025-03-11T17:22:54.292Z"
   },
   {
    "duration": 5,
    "start_time": "2025-03-11T17:26:44.248Z"
   },
   {
    "duration": 4,
    "start_time": "2025-03-11T17:28:33.267Z"
   },
   {
    "duration": 4,
    "start_time": "2025-03-11T17:29:07.281Z"
   },
   {
    "duration": 2,
    "start_time": "2025-03-11T17:29:32.800Z"
   },
   {
    "duration": 9,
    "start_time": "2025-03-11T17:31:33.611Z"
   },
   {
    "duration": 9,
    "start_time": "2025-03-11T17:32:18.410Z"
   },
   {
    "duration": 4,
    "start_time": "2025-03-11T17:35:38.012Z"
   },
   {
    "duration": 3,
    "start_time": "2025-03-11T17:35:38.835Z"
   },
   {
    "duration": 4,
    "start_time": "2025-03-11T17:35:39.605Z"
   },
   {
    "duration": 4,
    "start_time": "2025-03-11T17:35:52.973Z"
   },
   {
    "duration": 5,
    "start_time": "2025-03-11T17:39:28.796Z"
   },
   {
    "duration": 4,
    "start_time": "2025-03-11T17:39:33.057Z"
   },
   {
    "duration": 6,
    "start_time": "2025-03-11T17:39:34.774Z"
   },
   {
    "duration": 5,
    "start_time": "2025-03-11T17:42:02.751Z"
   },
   {
    "duration": 5,
    "start_time": "2025-03-11T17:45:17.793Z"
   },
   {
    "duration": 7,
    "start_time": "2025-03-11T17:46:38.793Z"
   },
   {
    "duration": 7,
    "start_time": "2025-03-11T17:46:40.712Z"
   },
   {
    "duration": 9,
    "start_time": "2025-03-11T17:46:46.608Z"
   },
   {
    "duration": 6,
    "start_time": "2025-03-11T18:02:48.304Z"
   },
   {
    "duration": 7,
    "start_time": "2025-03-11T18:03:38.922Z"
   },
   {
    "duration": 1024,
    "start_time": "2025-03-11T19:02:30.248Z"
   },
   {
    "duration": 15,
    "start_time": "2025-03-11T19:02:31.275Z"
   },
   {
    "duration": 6,
    "start_time": "2025-03-11T19:02:31.297Z"
   },
   {
    "duration": 11,
    "start_time": "2025-03-11T19:02:31.307Z"
   },
   {
    "duration": 9,
    "start_time": "2025-03-11T19:02:31.320Z"
   },
   {
    "duration": 3,
    "start_time": "2025-03-11T19:02:31.330Z"
   },
   {
    "duration": 8,
    "start_time": "2025-03-11T19:02:31.335Z"
   },
   {
    "duration": 17,
    "start_time": "2025-03-11T19:02:31.345Z"
   },
   {
    "duration": 2702,
    "start_time": "2025-03-11T19:02:31.364Z"
   },
   {
    "duration": 3,
    "start_time": "2025-03-11T19:02:34.069Z"
   },
   {
    "duration": 5,
    "start_time": "2025-03-11T19:02:34.074Z"
   },
   {
    "duration": 10,
    "start_time": "2025-03-11T19:02:34.081Z"
   },
   {
    "duration": 14,
    "start_time": "2025-03-11T19:02:34.092Z"
   },
   {
    "duration": 5,
    "start_time": "2025-03-11T19:02:34.108Z"
   },
   {
    "duration": 26,
    "start_time": "2025-03-11T19:02:34.115Z"
   },
   {
    "duration": 18,
    "start_time": "2025-03-11T19:02:34.144Z"
   },
   {
    "duration": 52,
    "start_time": "2025-03-11T19:02:34.165Z"
   },
   {
    "duration": 13,
    "start_time": "2025-03-11T19:02:34.219Z"
   },
   {
    "duration": 3,
    "start_time": "2025-03-11T19:02:34.234Z"
   },
   {
    "duration": 5,
    "start_time": "2025-03-11T19:02:34.239Z"
   },
   {
    "duration": 6,
    "start_time": "2025-03-11T19:02:34.245Z"
   },
   {
    "duration": 3,
    "start_time": "2025-03-11T19:02:34.253Z"
   },
   {
    "duration": 47,
    "start_time": "2025-03-11T19:02:34.258Z"
   },
   {
    "duration": 6,
    "start_time": "2025-03-11T19:02:34.307Z"
   },
   {
    "duration": 7,
    "start_time": "2025-03-11T19:02:34.315Z"
   },
   {
    "duration": 341,
    "start_time": "2025-03-11T19:02:34.324Z"
   },
   {
    "duration": 378,
    "start_time": "2025-03-11T19:02:34.667Z"
   },
   {
    "duration": 3,
    "start_time": "2025-03-11T19:02:35.050Z"
   },
   {
    "duration": 4,
    "start_time": "2025-03-11T19:02:35.055Z"
   },
   {
    "duration": 45,
    "start_time": "2025-03-11T19:02:35.061Z"
   },
   {
    "duration": 10,
    "start_time": "2025-03-11T19:02:35.107Z"
   },
   {
    "duration": 4,
    "start_time": "2025-03-11T19:02:35.118Z"
   },
   {
    "duration": 5,
    "start_time": "2025-03-11T19:02:35.124Z"
   },
   {
    "duration": 80,
    "start_time": "2025-03-11T19:02:35.130Z"
   },
   {
    "duration": 4,
    "start_time": "2025-03-11T19:02:35.214Z"
   },
   {
    "duration": 5,
    "start_time": "2025-03-11T19:02:35.220Z"
   },
   {
    "duration": 81,
    "start_time": "2025-03-11T19:02:35.227Z"
   },
   {
    "duration": 9,
    "start_time": "2025-03-11T19:02:35.310Z"
   },
   {
    "duration": 8,
    "start_time": "2025-03-11T19:02:35.321Z"
   },
   {
    "duration": 9,
    "start_time": "2025-03-11T19:02:35.405Z"
   },
   {
    "duration": 7,
    "start_time": "2025-03-11T19:02:35.416Z"
   },
   {
    "duration": 6,
    "start_time": "2025-03-11T19:02:35.425Z"
   },
   {
    "duration": 3,
    "start_time": "2025-03-11T19:02:49.179Z"
   },
   {
    "duration": 7,
    "start_time": "2025-03-11T19:02:49.185Z"
   },
   {
    "duration": 4,
    "start_time": "2025-03-11T19:02:49.194Z"
   },
   {
    "duration": 8,
    "start_time": "2025-03-11T19:02:49.201Z"
   },
   {
    "duration": 10,
    "start_time": "2025-03-11T19:02:49.211Z"
   },
   {
    "duration": 3,
    "start_time": "2025-03-11T19:02:49.223Z"
   },
   {
    "duration": 8,
    "start_time": "2025-03-11T19:02:49.228Z"
   },
   {
    "duration": 17,
    "start_time": "2025-03-11T19:02:49.238Z"
   },
   {
    "duration": 2751,
    "start_time": "2025-03-11T19:02:49.257Z"
   },
   {
    "duration": 2,
    "start_time": "2025-03-11T19:02:52.011Z"
   },
   {
    "duration": 4,
    "start_time": "2025-03-11T19:02:52.015Z"
   },
   {
    "duration": 8,
    "start_time": "2025-03-11T19:02:52.020Z"
   },
   {
    "duration": 8,
    "start_time": "2025-03-11T19:02:52.030Z"
   },
   {
    "duration": 5,
    "start_time": "2025-03-11T19:02:52.040Z"
   },
   {
    "duration": 21,
    "start_time": "2025-03-11T19:02:52.047Z"
   },
   {
    "duration": 14,
    "start_time": "2025-03-11T19:02:52.106Z"
   },
   {
    "duration": 21,
    "start_time": "2025-03-11T19:02:52.122Z"
   },
   {
    "duration": 13,
    "start_time": "2025-03-11T19:02:52.145Z"
   },
   {
    "duration": 3,
    "start_time": "2025-03-11T19:02:52.159Z"
   },
   {
    "duration": 6,
    "start_time": "2025-03-11T19:02:52.164Z"
   },
   {
    "duration": 34,
    "start_time": "2025-03-11T19:02:52.172Z"
   },
   {
    "duration": 3,
    "start_time": "2025-03-11T19:02:52.209Z"
   },
   {
    "duration": 20,
    "start_time": "2025-03-11T19:02:52.214Z"
   },
   {
    "duration": 7,
    "start_time": "2025-03-11T19:02:52.236Z"
   },
   {
    "duration": 6,
    "start_time": "2025-03-11T19:02:52.245Z"
   },
   {
    "duration": 337,
    "start_time": "2025-03-11T19:02:52.253Z"
   },
   {
    "duration": 397,
    "start_time": "2025-03-11T19:02:52.592Z"
   },
   {
    "duration": 12,
    "start_time": "2025-03-11T19:02:52.994Z"
   },
   {
    "duration": 4,
    "start_time": "2025-03-11T19:02:53.009Z"
   },
   {
    "duration": 11,
    "start_time": "2025-03-11T19:02:53.015Z"
   },
   {
    "duration": 9,
    "start_time": "2025-03-11T19:02:53.028Z"
   },
   {
    "duration": 67,
    "start_time": "2025-03-11T19:02:53.039Z"
   },
   {
    "duration": 5,
    "start_time": "2025-03-11T19:02:53.108Z"
   },
   {
    "duration": 5,
    "start_time": "2025-03-11T19:02:53.115Z"
   },
   {
    "duration": 5,
    "start_time": "2025-03-11T19:02:53.121Z"
   },
   {
    "duration": 77,
    "start_time": "2025-03-11T19:02:53.127Z"
   },
   {
    "duration": 9,
    "start_time": "2025-03-11T19:02:53.210Z"
   },
   {
    "duration": 85,
    "start_time": "2025-03-11T19:02:53.224Z"
   },
   {
    "duration": 8,
    "start_time": "2025-03-11T19:02:53.315Z"
   },
   {
    "duration": 8,
    "start_time": "2025-03-11T19:02:53.325Z"
   },
   {
    "duration": 71,
    "start_time": "2025-03-11T19:02:53.335Z"
   },
   {
    "duration": 7,
    "start_time": "2025-03-11T19:02:53.408Z"
   },
   {
    "duration": 157,
    "start_time": "2025-03-12T15:19:03.946Z"
   },
   {
    "duration": 2708,
    "start_time": "2025-03-12T15:19:11.095Z"
   },
   {
    "duration": 12,
    "start_time": "2025-03-12T15:19:13.805Z"
   },
   {
    "duration": 4,
    "start_time": "2025-03-12T15:19:13.818Z"
   },
   {
    "duration": 10,
    "start_time": "2025-03-12T15:19:13.824Z"
   },
   {
    "duration": 8,
    "start_time": "2025-03-12T15:19:13.836Z"
   },
   {
    "duration": 3,
    "start_time": "2025-03-12T15:19:13.845Z"
   },
   {
    "duration": 8,
    "start_time": "2025-03-12T15:19:13.850Z"
   },
   {
    "duration": 17,
    "start_time": "2025-03-12T15:19:13.859Z"
   },
   {
    "duration": 8,
    "start_time": "2025-03-12T15:19:13.909Z"
   },
   {
    "duration": 2598,
    "start_time": "2025-03-12T15:19:13.920Z"
   },
   {
    "duration": 3,
    "start_time": "2025-03-12T15:19:16.519Z"
   },
   {
    "duration": 5,
    "start_time": "2025-03-12T15:19:16.523Z"
   },
   {
    "duration": 9,
    "start_time": "2025-03-12T15:19:16.529Z"
   },
   {
    "duration": 8,
    "start_time": "2025-03-12T15:19:16.540Z"
   },
   {
    "duration": 5,
    "start_time": "2025-03-12T15:19:16.550Z"
   },
   {
    "duration": 21,
    "start_time": "2025-03-12T15:19:16.557Z"
   },
   {
    "duration": 39,
    "start_time": "2025-03-12T15:19:16.580Z"
   },
   {
    "duration": 22,
    "start_time": "2025-03-12T15:19:16.620Z"
   },
   {
    "duration": 14,
    "start_time": "2025-03-12T15:19:16.643Z"
   },
   {
    "duration": 4,
    "start_time": "2025-03-12T15:19:16.658Z"
   },
   {
    "duration": 5,
    "start_time": "2025-03-12T15:19:16.664Z"
   },
   {
    "duration": 3,
    "start_time": "2025-03-12T15:19:16.670Z"
   },
   {
    "duration": 35,
    "start_time": "2025-03-12T15:19:16.675Z"
   },
   {
    "duration": 20,
    "start_time": "2025-03-12T15:19:16.712Z"
   },
   {
    "duration": 6,
    "start_time": "2025-03-12T15:19:16.733Z"
   },
   {
    "duration": 7,
    "start_time": "2025-03-12T15:19:16.741Z"
   },
   {
    "duration": 309,
    "start_time": "2025-03-12T15:19:16.750Z"
   },
   {
    "duration": 422,
    "start_time": "2025-03-12T15:19:17.063Z"
   },
   {
    "duration": 3,
    "start_time": "2025-03-12T15:19:17.488Z"
   },
   {
    "duration": 19,
    "start_time": "2025-03-12T15:19:17.493Z"
   },
   {
    "duration": 17,
    "start_time": "2025-03-12T15:19:17.515Z"
   },
   {
    "duration": 9,
    "start_time": "2025-03-12T15:19:17.533Z"
   },
   {
    "duration": 3,
    "start_time": "2025-03-12T15:19:17.544Z"
   },
   {
    "duration": 65,
    "start_time": "2025-03-12T15:19:17.549Z"
   },
   {
    "duration": 7,
    "start_time": "2025-03-12T15:19:17.615Z"
   },
   {
    "duration": 7,
    "start_time": "2025-03-12T15:19:17.624Z"
   },
   {
    "duration": 77,
    "start_time": "2025-03-12T15:19:17.633Z"
   },
   {
    "duration": 9,
    "start_time": "2025-03-12T15:19:17.713Z"
   },
   {
    "duration": 94,
    "start_time": "2025-03-12T15:19:17.724Z"
   },
   {
    "duration": 7,
    "start_time": "2025-03-12T15:19:17.821Z"
   },
   {
    "duration": 8,
    "start_time": "2025-03-12T15:19:17.830Z"
   },
   {
    "duration": 6,
    "start_time": "2025-03-12T15:19:17.839Z"
   },
   {
    "duration": 69,
    "start_time": "2025-03-12T15:19:17.847Z"
   },
   {
    "duration": 8,
    "start_time": "2025-03-12T15:19:47.255Z"
   },
   {
    "duration": 7,
    "start_time": "2025-03-12T15:19:51.816Z"
   },
   {
    "duration": 7,
    "start_time": "2025-03-12T15:20:16.554Z"
   },
   {
    "duration": 6,
    "start_time": "2025-03-12T15:20:28.810Z"
   },
   {
    "duration": 7,
    "start_time": "2025-03-12T15:21:23.530Z"
   },
   {
    "duration": 8,
    "start_time": "2025-03-12T15:21:31.701Z"
   },
   {
    "duration": 9,
    "start_time": "2025-03-12T15:22:07.306Z"
   },
   {
    "duration": 323,
    "start_time": "2025-03-12T15:24:16.330Z"
   },
   {
    "duration": 19,
    "start_time": "2025-03-12T15:24:24.015Z"
   },
   {
    "duration": 18,
    "start_time": "2025-03-12T15:24:33.422Z"
   },
   {
    "duration": 18,
    "start_time": "2025-03-12T15:25:25.675Z"
   },
   {
    "duration": 8,
    "start_time": "2025-03-12T15:25:32.530Z"
   },
   {
    "duration": 12,
    "start_time": "2025-03-12T15:26:42.305Z"
   },
   {
    "duration": 12,
    "start_time": "2025-03-12T15:26:53.621Z"
   },
   {
    "duration": 974,
    "start_time": "2025-03-12T15:27:38.082Z"
   },
   {
    "duration": 7,
    "start_time": "2025-03-12T15:27:39.058Z"
   },
   {
    "duration": 3,
    "start_time": "2025-03-12T15:27:39.066Z"
   },
   {
    "duration": 10,
    "start_time": "2025-03-12T15:27:39.072Z"
   },
   {
    "duration": 9,
    "start_time": "2025-03-12T15:27:39.083Z"
   },
   {
    "duration": 3,
    "start_time": "2025-03-12T15:27:39.109Z"
   },
   {
    "duration": 8,
    "start_time": "2025-03-12T15:27:39.114Z"
   },
   {
    "duration": 15,
    "start_time": "2025-03-12T15:27:39.124Z"
   },
   {
    "duration": 11,
    "start_time": "2025-03-12T15:27:39.141Z"
   },
   {
    "duration": 2626,
    "start_time": "2025-03-12T15:27:39.155Z"
   },
   {
    "duration": 3,
    "start_time": "2025-03-12T15:27:41.783Z"
   },
   {
    "duration": 4,
    "start_time": "2025-03-12T15:27:41.787Z"
   },
   {
    "duration": 8,
    "start_time": "2025-03-12T15:27:41.793Z"
   },
   {
    "duration": 8,
    "start_time": "2025-03-12T15:27:41.803Z"
   },
   {
    "duration": 5,
    "start_time": "2025-03-12T15:27:41.812Z"
   },
   {
    "duration": 23,
    "start_time": "2025-03-12T15:27:41.819Z"
   },
   {
    "duration": 15,
    "start_time": "2025-03-12T15:27:41.844Z"
   },
   {
    "duration": 21,
    "start_time": "2025-03-12T15:27:41.860Z"
   },
   {
    "duration": 40,
    "start_time": "2025-03-12T15:27:41.882Z"
   },
   {
    "duration": 3,
    "start_time": "2025-03-12T15:27:41.924Z"
   },
   {
    "duration": 5,
    "start_time": "2025-03-12T15:27:41.928Z"
   },
   {
    "duration": 3,
    "start_time": "2025-03-12T15:27:41.935Z"
   },
   {
    "duration": 2,
    "start_time": "2025-03-12T15:27:41.940Z"
   },
   {
    "duration": 19,
    "start_time": "2025-03-12T15:27:41.944Z"
   },
   {
    "duration": 8,
    "start_time": "2025-03-12T15:27:41.965Z"
   },
   {
    "duration": 9,
    "start_time": "2025-03-12T15:27:42.009Z"
   },
   {
    "duration": 296,
    "start_time": "2025-03-12T15:27:42.020Z"
   },
   {
    "duration": 382,
    "start_time": "2025-03-12T15:27:42.319Z"
   },
   {
    "duration": 3,
    "start_time": "2025-03-12T15:27:42.708Z"
   },
   {
    "duration": 4,
    "start_time": "2025-03-12T15:27:42.713Z"
   },
   {
    "duration": 7,
    "start_time": "2025-03-12T15:27:42.719Z"
   },
   {
    "duration": 7,
    "start_time": "2025-03-12T15:27:42.727Z"
   },
   {
    "duration": 3,
    "start_time": "2025-03-12T15:27:42.736Z"
   },
   {
    "duration": 5,
    "start_time": "2025-03-12T15:27:42.808Z"
   },
   {
    "duration": 5,
    "start_time": "2025-03-12T15:27:42.815Z"
   },
   {
    "duration": 6,
    "start_time": "2025-03-12T15:27:42.821Z"
   },
   {
    "duration": 80,
    "start_time": "2025-03-12T15:27:42.829Z"
   },
   {
    "duration": 7,
    "start_time": "2025-03-12T15:27:42.911Z"
   },
   {
    "duration": 11,
    "start_time": "2025-03-12T15:27:42.919Z"
   },
   {
    "duration": 81,
    "start_time": "2025-03-12T15:27:42.932Z"
   },
   {
    "duration": 9,
    "start_time": "2025-03-12T15:27:43.014Z"
   },
   {
    "duration": 9,
    "start_time": "2025-03-12T15:27:43.025Z"
   },
   {
    "duration": 76,
    "start_time": "2025-03-12T15:27:43.037Z"
   },
   {
    "duration": 13,
    "start_time": "2025-03-12T15:29:36.500Z"
   },
   {
    "duration": 1086,
    "start_time": "2025-03-12T15:29:51.432Z"
   },
   {
    "duration": 7,
    "start_time": "2025-03-12T15:29:52.521Z"
   },
   {
    "duration": 3,
    "start_time": "2025-03-12T15:29:52.530Z"
   },
   {
    "duration": 10,
    "start_time": "2025-03-12T15:29:52.536Z"
   },
   {
    "duration": 8,
    "start_time": "2025-03-12T15:29:52.548Z"
   },
   {
    "duration": 3,
    "start_time": "2025-03-12T15:29:52.558Z"
   },
   {
    "duration": 9,
    "start_time": "2025-03-12T15:29:52.562Z"
   },
   {
    "duration": 45,
    "start_time": "2025-03-12T15:29:52.573Z"
   },
   {
    "duration": 12,
    "start_time": "2025-03-12T15:29:52.619Z"
   },
   {
    "duration": 2578,
    "start_time": "2025-03-12T15:29:52.635Z"
   },
   {
    "duration": 3,
    "start_time": "2025-03-12T15:29:55.215Z"
   },
   {
    "duration": 5,
    "start_time": "2025-03-12T15:29:55.220Z"
   },
   {
    "duration": 8,
    "start_time": "2025-03-12T15:29:55.227Z"
   },
   {
    "duration": 8,
    "start_time": "2025-03-12T15:29:55.237Z"
   },
   {
    "duration": 5,
    "start_time": "2025-03-12T15:29:55.246Z"
   },
   {
    "duration": 21,
    "start_time": "2025-03-12T15:29:55.253Z"
   },
   {
    "duration": 42,
    "start_time": "2025-03-12T15:29:55.276Z"
   },
   {
    "duration": 21,
    "start_time": "2025-03-12T15:29:55.320Z"
   },
   {
    "duration": 16,
    "start_time": "2025-03-12T15:29:55.343Z"
   },
   {
    "duration": 4,
    "start_time": "2025-03-12T15:29:55.360Z"
   },
   {
    "duration": 5,
    "start_time": "2025-03-12T15:29:55.366Z"
   },
   {
    "duration": 36,
    "start_time": "2025-03-12T15:29:55.373Z"
   },
   {
    "duration": 3,
    "start_time": "2025-03-12T15:29:55.411Z"
   },
   {
    "duration": 21,
    "start_time": "2025-03-12T15:29:55.416Z"
   },
   {
    "duration": 7,
    "start_time": "2025-03-12T15:29:55.438Z"
   },
   {
    "duration": 8,
    "start_time": "2025-03-12T15:29:55.446Z"
   },
   {
    "duration": 305,
    "start_time": "2025-03-12T15:29:55.455Z"
   },
   {
    "duration": 397,
    "start_time": "2025-03-12T15:29:55.764Z"
   },
   {
    "duration": 5,
    "start_time": "2025-03-12T15:29:56.163Z"
   },
   {
    "duration": 4,
    "start_time": "2025-03-12T15:29:56.170Z"
   },
   {
    "duration": 34,
    "start_time": "2025-03-12T15:29:56.176Z"
   },
   {
    "duration": 9,
    "start_time": "2025-03-12T15:29:56.212Z"
   },
   {
    "duration": 3,
    "start_time": "2025-03-12T15:29:56.223Z"
   },
   {
    "duration": 4,
    "start_time": "2025-03-12T15:29:56.228Z"
   },
   {
    "duration": 5,
    "start_time": "2025-03-12T15:29:56.310Z"
   },
   {
    "duration": 3,
    "start_time": "2025-03-12T15:29:56.317Z"
   },
   {
    "duration": 5,
    "start_time": "2025-03-12T15:29:56.321Z"
   },
   {
    "duration": 81,
    "start_time": "2025-03-12T15:29:56.328Z"
   },
   {
    "duration": 9,
    "start_time": "2025-03-12T15:29:56.411Z"
   },
   {
    "duration": 10,
    "start_time": "2025-03-12T15:29:56.423Z"
   },
   {
    "duration": 81,
    "start_time": "2025-03-12T15:29:56.434Z"
   },
   {
    "duration": 5,
    "start_time": "2025-03-12T15:29:56.517Z"
   },
   {
    "duration": 5,
    "start_time": "2025-03-12T15:29:56.524Z"
   }
  ],
  "kernelspec": {
   "display_name": "Python 3 (ipykernel)",
   "language": "python",
   "name": "python3"
  },
  "language_info": {
   "codemirror_mode": {
    "name": "ipython",
    "version": 3
   },
   "file_extension": ".py",
   "mimetype": "text/x-python",
   "name": "python",
   "nbconvert_exporter": "python",
   "pygments_lexer": "ipython3",
   "version": "3.9.19"
  },
  "toc": {
   "base_numbering": 1,
   "nav_menu": {},
   "number_sections": true,
   "sideBar": true,
   "skip_h1_title": true,
   "title_cell": "Table of Contents",
   "title_sidebar": "Contents",
   "toc_cell": false,
   "toc_position": {},
   "toc_section_display": true,
   "toc_window_display": false
  }
 },
 "nbformat": 4,
 "nbformat_minor": 4
}
