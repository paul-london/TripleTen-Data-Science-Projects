{
 "cells": [
  {
   "cell_type": "markdown",
   "id": "f85a80d2",
   "metadata": {},
   "source": [
    "# Sprint 1 Project: Working with Data in Python"
   ]
  },
  {
   "cell_type": "markdown",
   "id": "a1262df4",
   "metadata": {},
   "source": [
    "## Introduction <a id='intro'></a>\n",
    "In this project, you will work with data from the entertainment industry. You will study a dataset with records on movies and shows. The research will focus on the \"Golden Age\" of television, which began in 1999 with the release of *The Sopranos* and is still ongoing.\n",
    "\n",
    "The aim of this project is to investigate how the number of votes a title receives impacts its ratings. The assumption is that highly-rated shows (we will focus on TV shows, ignoring movies) released during the \"Golden Age\" of television also have the most votes.\n",
    "\n",
    "### Stages \n",
    "Data on movies and shows is stored in the `/datasets/movies_and_shows.csv` file. There is no information about the quality of the data, so you will need to explore it before doing the analysis.\n",
    "\n",
    "First, you'll evaluate the quality of the data and see whether its issues are significant. Then, during data preprocessing, you will try to account for the most critical problems.\n",
    " \n",
    "Your project will consist of three stages:\n",
    " 1. Data overview\n",
    " 2. Data preprocessing\n",
    " 3. Data analysis"
   ]
  },
  {
   "cell_type": "markdown",
   "id": "ac0593ac",
   "metadata": {},
   "source": [
    "## Stage 1. Data overview <a id='data_review'></a>\n",
    "\n",
    "Open and explore the data."
   ]
  },
  {
   "cell_type": "markdown",
   "id": "e86ed00e",
   "metadata": {},
   "source": [
    "You'll need `pandas`, so import it."
   ]
  },
  {
   "cell_type": "code",
   "execution_count": 1,
   "id": "1727d3f8",
   "metadata": {},
   "outputs": [],
   "source": [
    "# importing pandas\n",
    "import pandas as pd"
   ]
  },
  {
   "cell_type": "markdown",
   "id": "9821beeb",
   "metadata": {},
   "source": [
    "Read the `movies_and_shows.csv` file from the `datasets` folder and save it in the `df` variable:"
   ]
  },
  {
   "cell_type": "code",
   "execution_count": 2,
   "id": "fc5a1402",
   "metadata": {},
   "outputs": [],
   "source": [
    "# reading the files and storing them to df\n",
    "df = pd.read_csv('/datasets/movies_and_shows.csv')"
   ]
  },
  {
   "cell_type": "markdown",
   "id": "1cd0a96d",
   "metadata": {},
   "source": [
    "Print the first 10 table rows:"
   ]
  },
  {
   "cell_type": "code",
   "execution_count": 3,
   "id": "acd92001",
   "metadata": {},
   "outputs": [
    {
     "data": {
      "text/html": [
       "<div>\n",
       "<style scoped>\n",
       "    .dataframe tbody tr th:only-of-type {\n",
       "        vertical-align: middle;\n",
       "    }\n",
       "\n",
       "    .dataframe tbody tr th {\n",
       "        vertical-align: top;\n",
       "    }\n",
       "\n",
       "    .dataframe thead th {\n",
       "        text-align: right;\n",
       "    }\n",
       "</style>\n",
       "<table border=\"1\" class=\"dataframe\">\n",
       "  <thead>\n",
       "    <tr style=\"text-align: right;\">\n",
       "      <th></th>\n",
       "      <th>name</th>\n",
       "      <th>Character</th>\n",
       "      <th>r0le</th>\n",
       "      <th>TITLE</th>\n",
       "      <th>Type</th>\n",
       "      <th>release Year</th>\n",
       "      <th>genres</th>\n",
       "      <th>imdb sc0re</th>\n",
       "      <th>imdb v0tes</th>\n",
       "    </tr>\n",
       "  </thead>\n",
       "  <tbody>\n",
       "    <tr>\n",
       "      <th>0</th>\n",
       "      <td>Robert De Niro</td>\n",
       "      <td>Travis Bickle</td>\n",
       "      <td>ACTOR</td>\n",
       "      <td>Taxi Driver</td>\n",
       "      <td>MOVIE</td>\n",
       "      <td>1976</td>\n",
       "      <td>['drama', 'crime']</td>\n",
       "      <td>8.2</td>\n",
       "      <td>808582.0</td>\n",
       "    </tr>\n",
       "    <tr>\n",
       "      <th>1</th>\n",
       "      <td>Jodie Foster</td>\n",
       "      <td>Iris Steensma</td>\n",
       "      <td>ACTOR</td>\n",
       "      <td>Taxi Driver</td>\n",
       "      <td>MOVIE</td>\n",
       "      <td>1976</td>\n",
       "      <td>['drama', 'crime']</td>\n",
       "      <td>8.2</td>\n",
       "      <td>808582.0</td>\n",
       "    </tr>\n",
       "    <tr>\n",
       "      <th>2</th>\n",
       "      <td>Albert Brooks</td>\n",
       "      <td>Tom</td>\n",
       "      <td>ACTOR</td>\n",
       "      <td>Taxi Driver</td>\n",
       "      <td>MOVIE</td>\n",
       "      <td>1976</td>\n",
       "      <td>['drama', 'crime']</td>\n",
       "      <td>8.2</td>\n",
       "      <td>808582.0</td>\n",
       "    </tr>\n",
       "    <tr>\n",
       "      <th>3</th>\n",
       "      <td>Harvey Keitel</td>\n",
       "      <td>Matthew 'Sport' Higgins</td>\n",
       "      <td>ACTOR</td>\n",
       "      <td>Taxi Driver</td>\n",
       "      <td>MOVIE</td>\n",
       "      <td>1976</td>\n",
       "      <td>['drama', 'crime']</td>\n",
       "      <td>8.2</td>\n",
       "      <td>808582.0</td>\n",
       "    </tr>\n",
       "    <tr>\n",
       "      <th>4</th>\n",
       "      <td>Cybill Shepherd</td>\n",
       "      <td>Betsy</td>\n",
       "      <td>ACTOR</td>\n",
       "      <td>Taxi Driver</td>\n",
       "      <td>MOVIE</td>\n",
       "      <td>1976</td>\n",
       "      <td>['drama', 'crime']</td>\n",
       "      <td>8.2</td>\n",
       "      <td>808582.0</td>\n",
       "    </tr>\n",
       "    <tr>\n",
       "      <th>5</th>\n",
       "      <td>Peter Boyle</td>\n",
       "      <td>Wizard</td>\n",
       "      <td>ACTOR</td>\n",
       "      <td>Taxi Driver</td>\n",
       "      <td>MOVIE</td>\n",
       "      <td>1976</td>\n",
       "      <td>['drama', 'crime']</td>\n",
       "      <td>8.2</td>\n",
       "      <td>808582.0</td>\n",
       "    </tr>\n",
       "    <tr>\n",
       "      <th>6</th>\n",
       "      <td>Leonard Harris</td>\n",
       "      <td>Senator Charles Palantine</td>\n",
       "      <td>ACTOR</td>\n",
       "      <td>Taxi Driver</td>\n",
       "      <td>MOVIE</td>\n",
       "      <td>1976</td>\n",
       "      <td>['drama', 'crime']</td>\n",
       "      <td>8.2</td>\n",
       "      <td>808582.0</td>\n",
       "    </tr>\n",
       "    <tr>\n",
       "      <th>7</th>\n",
       "      <td>Diahnne Abbott</td>\n",
       "      <td>Concession Girl</td>\n",
       "      <td>ACTOR</td>\n",
       "      <td>Taxi Driver</td>\n",
       "      <td>MOVIE</td>\n",
       "      <td>1976</td>\n",
       "      <td>['drama', 'crime']</td>\n",
       "      <td>8.2</td>\n",
       "      <td>808582.0</td>\n",
       "    </tr>\n",
       "    <tr>\n",
       "      <th>8</th>\n",
       "      <td>Gino Ardito</td>\n",
       "      <td>Policeman at Rally</td>\n",
       "      <td>ACTOR</td>\n",
       "      <td>Taxi Driver</td>\n",
       "      <td>MOVIE</td>\n",
       "      <td>1976</td>\n",
       "      <td>['drama', 'crime']</td>\n",
       "      <td>8.2</td>\n",
       "      <td>808582.0</td>\n",
       "    </tr>\n",
       "    <tr>\n",
       "      <th>9</th>\n",
       "      <td>Martin Scorsese</td>\n",
       "      <td>Passenger Watching Silhouette</td>\n",
       "      <td>ACTOR</td>\n",
       "      <td>Taxi Driver</td>\n",
       "      <td>MOVIE</td>\n",
       "      <td>1976</td>\n",
       "      <td>['drama', 'crime']</td>\n",
       "      <td>8.2</td>\n",
       "      <td>808582.0</td>\n",
       "    </tr>\n",
       "  </tbody>\n",
       "</table>\n",
       "</div>"
      ],
      "text/plain": [
       "              name                      Character   r0le        TITLE   Type  \\\n",
       "0   Robert De Niro                  Travis Bickle  ACTOR  Taxi Driver  MOVIE   \n",
       "1     Jodie Foster                  Iris Steensma  ACTOR  Taxi Driver  MOVIE   \n",
       "2    Albert Brooks                            Tom  ACTOR  Taxi Driver  MOVIE   \n",
       "3    Harvey Keitel        Matthew 'Sport' Higgins  ACTOR  Taxi Driver  MOVIE   \n",
       "4  Cybill Shepherd                          Betsy  ACTOR  Taxi Driver  MOVIE   \n",
       "5      Peter Boyle                         Wizard  ACTOR  Taxi Driver  MOVIE   \n",
       "6   Leonard Harris      Senator Charles Palantine  ACTOR  Taxi Driver  MOVIE   \n",
       "7   Diahnne Abbott                Concession Girl  ACTOR  Taxi Driver  MOVIE   \n",
       "8      Gino Ardito             Policeman at Rally  ACTOR  Taxi Driver  MOVIE   \n",
       "9  Martin Scorsese  Passenger Watching Silhouette  ACTOR  Taxi Driver  MOVIE   \n",
       "\n",
       "   release Year              genres  imdb sc0re  imdb v0tes  \n",
       "0          1976  ['drama', 'crime']         8.2    808582.0  \n",
       "1          1976  ['drama', 'crime']         8.2    808582.0  \n",
       "2          1976  ['drama', 'crime']         8.2    808582.0  \n",
       "3          1976  ['drama', 'crime']         8.2    808582.0  \n",
       "4          1976  ['drama', 'crime']         8.2    808582.0  \n",
       "5          1976  ['drama', 'crime']         8.2    808582.0  \n",
       "6          1976  ['drama', 'crime']         8.2    808582.0  \n",
       "7          1976  ['drama', 'crime']         8.2    808582.0  \n",
       "8          1976  ['drama', 'crime']         8.2    808582.0  \n",
       "9          1976  ['drama', 'crime']         8.2    808582.0  "
      ]
     },
     "execution_count": 3,
     "metadata": {},
     "output_type": "execute_result"
    }
   ],
   "source": [
    "# obtaining the first 10 rows from the df table\n",
    "# hint: you can use head() and tail() in Jupyter Notebook without wrapping them into print()\n",
    "df.head(10)"
   ]
  },
  {
   "cell_type": "markdown",
   "id": "e579aa91",
   "metadata": {},
   "source": [
    "Obtain the general information about the table with one command:"
   ]
  },
  {
   "cell_type": "code",
   "execution_count": 4,
   "id": "7bf66d2a",
   "metadata": {},
   "outputs": [
    {
     "name": "stdout",
     "output_type": "stream",
     "text": [
      "<class 'pandas.core.frame.DataFrame'>\n",
      "RangeIndex: 85579 entries, 0 to 85578\n",
      "Data columns (total 9 columns):\n",
      " #   Column        Non-Null Count  Dtype  \n",
      "---  ------        --------------  -----  \n",
      " 0      name       85579 non-null  object \n",
      " 1   Character     85579 non-null  object \n",
      " 2   r0le          85579 non-null  object \n",
      " 3   TITLE         85578 non-null  object \n",
      " 4     Type        85579 non-null  object \n",
      " 5   release Year  85579 non-null  int64  \n",
      " 6   genres        85579 non-null  object \n",
      " 7   imdb sc0re    80970 non-null  float64\n",
      " 8   imdb v0tes    80853 non-null  float64\n",
      "dtypes: float64(2), int64(1), object(6)\n",
      "memory usage: 5.9+ MB\n"
     ]
    }
   ],
   "source": [
    "# obtaining general information about the data in df\n",
    "df.info()"
   ]
  },
  {
   "cell_type": "markdown",
   "id": "e91f62a7",
   "metadata": {},
   "source": [
    "The table contains nine columns. The majority store the same data type: object. The only exceptions are `'release Year'` (int64 type), `'imdb sc0re'` (float64 type) and `'imdb v0tes'` (float64 type). Scores and votes will be used in our analysis, so it's important to verify that they are present in the dataframe in the appropriate numeric format. Three columns (`'TITLE'`, `'imdb sc0re'` and `'imdb v0tes'`) have missing values.\n",
    "\n",
    "According to the documentation:\n",
    "- `'name'` — actor/director's name and last name\n",
    "- `'Character'` — character played (for actors)\n",
    "- `'r0le '` — the person's contribution to the title (it can be in the capacity of either actor or director)\n",
    "- `'TITLE '` — title of the movie (show)\n",
    "- `'  Type'` — show or movie\n",
    "- `'release Year'` — year when movie (show) was released\n",
    "- `'genres'` — list of genres under which the movie (show) falls\n",
    "- `'imdb sc0re'` — score on IMDb\n",
    "- `'imdb v0tes'` — votes on IMDb\n",
    "\n",
    "We can see three issues with the column names:\n",
    "1. Some names are uppercase, while others are lowercase.\n",
    "2. There are names containing whitespace.\n",
    "3. A few column names have digit '0' instead of letter 'o'. \n"
   ]
  },
  {
   "cell_type": "markdown",
   "id": "4355de7b",
   "metadata": {},
   "source": [
    "### Conclusions <a id='data_review_conclusions'></a> \n",
    "\n",
    "Each row in the table stores data about a movie or show. The columns can be divided into two categories: the first is about the roles held by different people who worked on the movie or show (role, name of the actor or director, and character if the row is about an actor); the second category is information about the movie or show itself (title, release year, genre, imdb figures).\n",
    "\n",
    "It's clear that there is sufficient data to do the analysis and evaluate our assumption. However, to move forward, we need to preprocess the data."
   ]
  },
  {
   "cell_type": "markdown",
   "id": "c5dc9111",
   "metadata": {},
   "source": [
    "## Stage 2. Data preprocessing <a id='data_preprocessing'></a>\n",
    "Correct the formatting in the column headers and deal with the missing values. Then, check whether there are duplicates in the data."
   ]
  },
  {
   "cell_type": "code",
   "execution_count": 5,
   "id": "9c850d13",
   "metadata": {},
   "outputs": [
    {
     "data": {
      "text/plain": [
       "Index(['   name', 'Character', 'r0le', 'TITLE', '  Type', 'release Year',\n",
       "       'genres', 'imdb sc0re', 'imdb v0tes'],\n",
       "      dtype='object')"
      ]
     },
     "execution_count": 5,
     "metadata": {},
     "output_type": "execute_result"
    }
   ],
   "source": [
    "# the list of column names in the df table\n",
    "df.columns"
   ]
  },
  {
   "cell_type": "markdown",
   "id": "5f966df9",
   "metadata": {},
   "source": [
    "Change the column names according to the rules of good style:\n",
    "* If the name has several words, use snake_case\n",
    "* All characters must be lowercase\n",
    "* Remove whitespace\n",
    "* Replace zero with letter 'o'"
   ]
  },
  {
   "cell_type": "code",
   "execution_count": 6,
   "id": "23a1dc11",
   "metadata": {},
   "outputs": [],
   "source": [
    "# renaming columns\n",
    "df = df.rename(columns=\n",
    "    {\n",
    "        '   name': 'name',\n",
    "        'Character': 'character',\n",
    "        'r0le': 'role',\n",
    "        'TITLE': 'title',\n",
    "        '  Type': 'type',\n",
    "        'release Year': 'release_year',\n",
    "        'imdb sc0re': 'imdb_score',\n",
    "        'imdb v0tes':'imdb_votes'\n",
    "    }\n",
    ")"
   ]
  },
  {
   "cell_type": "markdown",
   "id": "464fbd04",
   "metadata": {},
   "source": [
    "Check the result. Print the names of the columns once more:"
   ]
  },
  {
   "cell_type": "code",
   "execution_count": 7,
   "id": "0eb6527f",
   "metadata": {},
   "outputs": [
    {
     "data": {
      "text/plain": [
       "Index(['name', 'character', 'role', 'title', 'type', 'release_year', 'genres',\n",
       "       'imdb_score', 'imdb_votes'],\n",
       "      dtype='object')"
      ]
     },
     "execution_count": 7,
     "metadata": {},
     "output_type": "execute_result"
    }
   ],
   "source": [
    "# checking result: the list of column names\n",
    "df.columns"
   ]
  },
  {
   "cell_type": "markdown",
   "id": "14d9c319",
   "metadata": {},
   "source": [
    "### Missing values <a id='missing_values'></a>\n",
    "First, find the number of missing values in the table. To do so, combine two `pandas` methods:"
   ]
  },
  {
   "cell_type": "code",
   "execution_count": 8,
   "id": "737f927d",
   "metadata": {},
   "outputs": [
    {
     "data": {
      "text/plain": [
       "name               0\n",
       "character          0\n",
       "role               0\n",
       "title              1\n",
       "type               0\n",
       "release_year       0\n",
       "genres             0\n",
       "imdb_score      4609\n",
       "imdb_votes      4726\n",
       "dtype: int64"
      ]
     },
     "execution_count": 8,
     "metadata": {},
     "output_type": "execute_result"
    }
   ],
   "source": [
    "#calculating missing values\n",
    "df.isna().sum()"
   ]
  },
  {
   "cell_type": "markdown",
   "id": "c8272df3",
   "metadata": {},
   "source": [
    "Not all missing values affect the research: the single missing value in `'title'` is not critical. The missing values in columns `'imdb_score'` and `'imdb_votes'` represent around 6% of all records (4,609 and 4,726, respectively, of the total 85,579). This could potentially affect our research. To avoid this issue, we will drop rows with missing values in the `'imdb_score'` and `'imdb_votes'` columns."
   ]
  },
  {
   "cell_type": "code",
   "execution_count": 9,
   "id": "599d5550",
   "metadata": {},
   "outputs": [],
   "source": [
    "# dropping rows where columns with title, scores and votes have missing values\n",
    "df = df.dropna()"
   ]
  },
  {
   "cell_type": "markdown",
   "id": "2156887f",
   "metadata": {},
   "source": [
    "Make sure the table doesn't contain any more missing values. Count the missing values again."
   ]
  },
  {
   "cell_type": "code",
   "execution_count": 10,
   "id": "55c0b0ce",
   "metadata": {},
   "outputs": [
    {
     "data": {
      "text/plain": [
       "name            0\n",
       "character       0\n",
       "role            0\n",
       "title           0\n",
       "type            0\n",
       "release_year    0\n",
       "genres          0\n",
       "imdb_score      0\n",
       "imdb_votes      0\n",
       "dtype: int64"
      ]
     },
     "execution_count": 10,
     "metadata": {},
     "output_type": "execute_result"
    }
   ],
   "source": [
    "# counting missing values\n",
    "df.isna().sum()"
   ]
  },
  {
   "cell_type": "markdown",
   "id": "a7dc7aa0",
   "metadata": {},
   "source": [
    "### Duplicates <a id='duplicates'></a>\n",
    "Find the number of duplicate rows in the table using one command:"
   ]
  },
  {
   "cell_type": "code",
   "execution_count": 11,
   "id": "9227df01",
   "metadata": {},
   "outputs": [
    {
     "data": {
      "text/plain": [
       "6994"
      ]
     },
     "execution_count": 11,
     "metadata": {},
     "output_type": "execute_result"
    }
   ],
   "source": [
    "# counting duplicate rows\n",
    "df.duplicated().sum()"
   ]
  },
  {
   "cell_type": "markdown",
   "id": "5f6eb0fc",
   "metadata": {},
   "source": [
    "Review the duplicate rows to determine if removing them would distort our dataset."
   ]
  },
  {
   "cell_type": "code",
   "execution_count": 12,
   "id": "bcf32fcb",
   "metadata": {},
   "outputs": [
    {
     "data": {
      "text/html": [
       "<div>\n",
       "<style scoped>\n",
       "    .dataframe tbody tr th:only-of-type {\n",
       "        vertical-align: middle;\n",
       "    }\n",
       "\n",
       "    .dataframe tbody tr th {\n",
       "        vertical-align: top;\n",
       "    }\n",
       "\n",
       "    .dataframe thead th {\n",
       "        text-align: right;\n",
       "    }\n",
       "</style>\n",
       "<table border=\"1\" class=\"dataframe\">\n",
       "  <thead>\n",
       "    <tr style=\"text-align: right;\">\n",
       "      <th></th>\n",
       "      <th>name</th>\n",
       "      <th>character</th>\n",
       "      <th>role</th>\n",
       "      <th>title</th>\n",
       "      <th>type</th>\n",
       "      <th>release_year</th>\n",
       "      <th>genres</th>\n",
       "      <th>imdb_score</th>\n",
       "      <th>imdb_votes</th>\n",
       "    </tr>\n",
       "  </thead>\n",
       "  <tbody>\n",
       "    <tr>\n",
       "      <th>85572</th>\n",
       "      <td>Ana Mar??a S?­nchez</td>\n",
       "      <td>Lourdes</td>\n",
       "      <td>ACTOR</td>\n",
       "      <td>Lokillo</td>\n",
       "      <td>MOVIE</td>\n",
       "      <td>2021</td>\n",
       "      <td>['comedy']</td>\n",
       "      <td>3.8</td>\n",
       "      <td>68.0</td>\n",
       "    </tr>\n",
       "    <tr>\n",
       "      <th>85571</th>\n",
       "      <td>Carla Giraldo</td>\n",
       "      <td>Valery Reinoso</td>\n",
       "      <td>ACTOR</td>\n",
       "      <td>Lokillo</td>\n",
       "      <td>MOVIE</td>\n",
       "      <td>2021</td>\n",
       "      <td>['comedy']</td>\n",
       "      <td>3.8</td>\n",
       "      <td>68.0</td>\n",
       "    </tr>\n",
       "    <tr>\n",
       "      <th>85577</th>\n",
       "      <td>Isabel Gaona</td>\n",
       "      <td>Cacica</td>\n",
       "      <td>ACTOR</td>\n",
       "      <td>Lokillo</td>\n",
       "      <td>MOVIE</td>\n",
       "      <td>2021</td>\n",
       "      <td>['comedy']</td>\n",
       "      <td>3.8</td>\n",
       "      <td>68.0</td>\n",
       "    </tr>\n",
       "    <tr>\n",
       "      <th>85570</th>\n",
       "      <td>Javier Gardeaz?­bal</td>\n",
       "      <td>Agust??n \"Peluca\" Ort??z</td>\n",
       "      <td>ACTOR</td>\n",
       "      <td>Lokillo</td>\n",
       "      <td>MOVIE</td>\n",
       "      <td>2021</td>\n",
       "      <td>['comedy']</td>\n",
       "      <td>3.8</td>\n",
       "      <td>68.0</td>\n",
       "    </tr>\n",
       "    <tr>\n",
       "      <th>85569</th>\n",
       "      <td>Jessica Cediel</td>\n",
       "      <td>Liliana Navarro</td>\n",
       "      <td>ACTOR</td>\n",
       "      <td>Lokillo</td>\n",
       "      <td>MOVIE</td>\n",
       "      <td>2021</td>\n",
       "      <td>['comedy']</td>\n",
       "      <td>3.8</td>\n",
       "      <td>68.0</td>\n",
       "    </tr>\n",
       "  </tbody>\n",
       "</table>\n",
       "</div>"
      ],
      "text/plain": [
       "                      name                 character   role    title   type  \\\n",
       "85572  Ana Mar??a S?­nchez                   Lourdes  ACTOR  Lokillo  MOVIE   \n",
       "85571        Carla Giraldo            Valery Reinoso  ACTOR  Lokillo  MOVIE   \n",
       "85577         Isabel Gaona                    Cacica  ACTOR  Lokillo  MOVIE   \n",
       "85570  Javier Gardeaz?­bal  Agust??n \"Peluca\" Ort??z  ACTOR  Lokillo  MOVIE   \n",
       "85569       Jessica Cediel           Liliana Navarro  ACTOR  Lokillo  MOVIE   \n",
       "\n",
       "       release_year      genres  imdb_score  imdb_votes  \n",
       "85572          2021  ['comedy']         3.8        68.0  \n",
       "85571          2021  ['comedy']         3.8        68.0  \n",
       "85577          2021  ['comedy']         3.8        68.0  \n",
       "85570          2021  ['comedy']         3.8        68.0  \n",
       "85569          2021  ['comedy']         3.8        68.0  "
      ]
     },
     "execution_count": 12,
     "metadata": {},
     "output_type": "execute_result"
    }
   ],
   "source": [
    "# Produce table with duplicates (with original rows included) and review last 5 rows\n",
    "df_duplicated = df[df.duplicated(keep=False)]\n",
    "df_duplicated.tail().sort_values(by='name')"
   ]
  },
  {
   "cell_type": "markdown",
   "id": "a1ed6640",
   "metadata": {},
   "source": [
    "There are two clear duplicates in the printed rows. We can safely remove them.\n",
    "Call the `pandas` method for getting rid of duplicate rows:"
   ]
  },
  {
   "cell_type": "code",
   "execution_count": 13,
   "id": "724d5bc8",
   "metadata": {},
   "outputs": [],
   "source": [
    "# removing duplicate rows\n",
    "df = df.drop_duplicates()"
   ]
  },
  {
   "cell_type": "markdown",
   "id": "fc8c77ba",
   "metadata": {},
   "source": [
    "Check for duplicate rows once more to make sure you have removed all of them:"
   ]
  },
  {
   "cell_type": "code",
   "execution_count": 14,
   "id": "8091a9bc",
   "metadata": {},
   "outputs": [
    {
     "data": {
      "text/plain": [
       "0"
      ]
     },
     "execution_count": 14,
     "metadata": {},
     "output_type": "execute_result"
    }
   ],
   "source": [
    "# checking for duplicates\n",
    "df.duplicated().sum()"
   ]
  },
  {
   "cell_type": "markdown",
   "id": "1d802b07",
   "metadata": {},
   "source": [
    "Now get rid of implicit duplicates in the `'type'` column. For example, the string `'SHOW'` can be written in different ways. These kinds of errors will also affect the result."
   ]
  },
  {
   "cell_type": "markdown",
   "id": "d5f987ed",
   "metadata": {},
   "source": [
    "Print a list of unique `'type'` names, sorted in alphabetical order. To do so:\n",
    "* Retrieve the intended dataframe column \n",
    "* Apply a sorting method to it\n",
    "* For the sorted column, call the method that will return all unique column values"
   ]
  },
  {
   "cell_type": "code",
   "execution_count": 15,
   "id": "3d7b0ac5",
   "metadata": {},
   "outputs": [
    {
     "data": {
      "text/plain": [
       "array(['MOVIE', 'SHOW', 'movies', 'shows', 'the movie', 'tv', 'tv series',\n",
       "       'tv show', 'tv shows'], dtype=object)"
      ]
     },
     "execution_count": 15,
     "metadata": {},
     "output_type": "execute_result"
    }
   ],
   "source": [
    "# viewing unique type names\n",
    "df_type = df.loc[:, 'type']\n",
    "df_type.sort_values().unique()"
   ]
  },
  {
   "cell_type": "markdown",
   "id": "ac6e8b18",
   "metadata": {},
   "source": [
    "Look through the list to find implicit duplicates of `'show'` (`'movie'` duplicates will be ignored since the assumption is about shows). These could be names written incorrectly or alternative names of the same genre.\n",
    "\n",
    "You will see the following implicit duplicates:\n",
    "* `'shows'`\n",
    "* `'SHOW'`\n",
    "* `'tv show'`\n",
    "* `'tv shows'`\n",
    "* `'tv series'`\n",
    "* `'tv'`\n",
    "\n",
    "To get rid of them, declare the function `replace_wrong_show()` with two parameters: \n",
    "* `wrong_shows_list=` — the list of duplicates\n",
    "* `correct_show=` — the string with the correct value\n",
    "\n",
    "The function should correct the names in the `'type'` column from the `df` table (i.e., replace each value from the `wrong_shows_list` list with the value in `correct_show`)."
   ]
  },
  {
   "cell_type": "code",
   "execution_count": 16,
   "id": "bff944f9",
   "metadata": {},
   "outputs": [],
   "source": [
    "# function for replacing implicit duplicates\n",
    "\n",
    "wrong_shows_list = ['shows', 'tv show', 'tv shows', 'tv series', 'tv']\n",
    "correct_show = 'SHOW'\n",
    "def replace_wrong_show(df, wrong_shows_list, correct_show):\n",
    "    for show in wrong_shows_list:\n",
    "        df['type'] = df['type'].replace(show, correct_show)\n",
    "    return df"
   ]
  },
  {
   "cell_type": "markdown",
   "id": "d02d13a6",
   "metadata": {},
   "source": [
    "Call `replace_wrong_show()` and pass it arguments so that it clears implicit duplicates and replaces them with `SHOW`:"
   ]
  },
  {
   "cell_type": "code",
   "execution_count": 17,
   "id": "a2217e53",
   "metadata": {},
   "outputs": [],
   "source": [
    "# removing implicit duplicates\n",
    "df = replace_wrong_show(df, wrong_shows_list, correct_show)"
   ]
  },
  {
   "cell_type": "markdown",
   "id": "318b09f7",
   "metadata": {},
   "source": [
    "Make sure the duplicate names are removed. Print the list of unique values from the `'type'` column:"
   ]
  },
  {
   "cell_type": "code",
   "execution_count": 18,
   "id": "25d49d73",
   "metadata": {},
   "outputs": [
    {
     "data": {
      "text/plain": [
       "array(['MOVIE', 'the movie', 'SHOW', 'movies'], dtype=object)"
      ]
     },
     "execution_count": 18,
     "metadata": {},
     "output_type": "execute_result"
    }
   ],
   "source": [
    "# viewing unique genre names\n",
    "df.loc[:, 'type'].unique()"
   ]
  },
  {
   "cell_type": "markdown",
   "id": "18b2049e",
   "metadata": {},
   "source": [
    "### Conclusions <a id='data_preprocessing_conclusions'></a>\n",
    "We detected three issues with the data:\n",
    "\n",
    "- Incorrect header styles\n",
    "- Missing values\n",
    "- Duplicate rows and implicit duplicates\n",
    "\n",
    "The headers have been cleaned up to make processing the table simpler.\n",
    "\n",
    "All rows with missing values have been removed. \n",
    "\n",
    "The absence of duplicates will make the results more precise and easier to understand.\n",
    "\n",
    "Now we can move on to our analysis of the prepared data."
   ]
  },
  {
   "cell_type": "markdown",
   "id": "1aa0f1b1",
   "metadata": {},
   "source": [
    "## Stage 3. Data analysis <a id='hypotheses'></a>"
   ]
  },
  {
   "cell_type": "markdown",
   "id": "f8fb6a0e",
   "metadata": {},
   "source": [
    "Based on the previous project stages, you can now define how the assumption will be checked. Calculate the average amount of votes for each score (this data is available in the `imdb_score` and `imdb_votes` columns), and then check how these averages relate to each other. If the averages for shows with the highest scores are bigger than those for shows with lower scores, the assumption appears to be true.\n",
    "\n",
    "Based on this, complete the following steps:\n",
    "\n",
    "- Filter the dataframe to only include shows released in 1999 or later.\n",
    "- Group scores into buckets by rounding the values of the appropriate column (a set of 1-10 integers will help us make the outcome of our calculations more evident without damaging the quality of our research).\n",
    "- Identify outliers among scores based on their number of votes, and exclude scores with few votes.\n",
    "- Calculate the average votes for each score and check whether the assumption matches the results."
   ]
  },
  {
   "cell_type": "markdown",
   "id": "0ea2cb51",
   "metadata": {},
   "source": [
    "To filter the dataframe and only include shows released in 1999 or later, you will take two steps. First, keep only titles published in 1999 or later in our dataframe. Then, filter the table to only contain shows (movies will be removed)."
   ]
  },
  {
   "cell_type": "code",
   "execution_count": 19,
   "id": "6a704aa1",
   "metadata": {},
   "outputs": [],
   "source": [
    "# using conditional indexing modify df so it has only titles released after 1999 (with 1999 included)\n",
    "# give the slice of dataframe new name\n",
    "df_1999_shows = df[df['release_year'] >= 1999]"
   ]
  },
  {
   "cell_type": "code",
   "execution_count": 20,
   "id": "128dc6a9",
   "metadata": {
    "scrolled": true
   },
   "outputs": [],
   "source": [
    "# repeat conditional indexing so df has only shows (movies are removed as result)\n",
    "df_1999_shows = df_1999_shows[df_1999_shows['type'] == 'SHOW']"
   ]
  },
  {
   "cell_type": "markdown",
   "id": "9648040c",
   "metadata": {},
   "source": [
    "The scores that are to be grouped should be rounded. For instance, titles with scores like 7.8, 8.1, and 8.3 will all be placed in the same bucket with a score of 8."
   ]
  },
  {
   "cell_type": "code",
   "execution_count": 21,
   "id": "54bbd5c0",
   "metadata": {},
   "outputs": [
    {
     "data": {
      "text/html": [
       "<div>\n",
       "<style scoped>\n",
       "    .dataframe tbody tr th:only-of-type {\n",
       "        vertical-align: middle;\n",
       "    }\n",
       "\n",
       "    .dataframe tbody tr th {\n",
       "        vertical-align: top;\n",
       "    }\n",
       "\n",
       "    .dataframe thead th {\n",
       "        text-align: right;\n",
       "    }\n",
       "</style>\n",
       "<table border=\"1\" class=\"dataframe\">\n",
       "  <thead>\n",
       "    <tr style=\"text-align: right;\">\n",
       "      <th></th>\n",
       "      <th>name</th>\n",
       "      <th>character</th>\n",
       "      <th>role</th>\n",
       "      <th>title</th>\n",
       "      <th>type</th>\n",
       "      <th>release_year</th>\n",
       "      <th>genres</th>\n",
       "      <th>imdb_score</th>\n",
       "      <th>imdb_votes</th>\n",
       "    </tr>\n",
       "  </thead>\n",
       "  <tbody>\n",
       "    <tr>\n",
       "      <th>85433</th>\n",
       "      <td>Maneerat Kam-Uan</td>\n",
       "      <td>Ae</td>\n",
       "      <td>ACTOR</td>\n",
       "      <td>Let's Eat</td>\n",
       "      <td>SHOW</td>\n",
       "      <td>2021</td>\n",
       "      <td>['drama', 'comedy']</td>\n",
       "      <td>8.0</td>\n",
       "      <td>5.0</td>\n",
       "    </tr>\n",
       "    <tr>\n",
       "      <th>85434</th>\n",
       "      <td>Rudklao Amratisha</td>\n",
       "      <td>unknown</td>\n",
       "      <td>ACTOR</td>\n",
       "      <td>Let's Eat</td>\n",
       "      <td>SHOW</td>\n",
       "      <td>2021</td>\n",
       "      <td>['drama', 'comedy']</td>\n",
       "      <td>8.0</td>\n",
       "      <td>5.0</td>\n",
       "    </tr>\n",
       "    <tr>\n",
       "      <th>85435</th>\n",
       "      <td>Jaturong Mokjok</td>\n",
       "      <td>unknown</td>\n",
       "      <td>ACTOR</td>\n",
       "      <td>Let's Eat</td>\n",
       "      <td>SHOW</td>\n",
       "      <td>2021</td>\n",
       "      <td>['drama', 'comedy']</td>\n",
       "      <td>8.0</td>\n",
       "      <td>5.0</td>\n",
       "    </tr>\n",
       "    <tr>\n",
       "      <th>85436</th>\n",
       "      <td>Pisamai Wilaisak</td>\n",
       "      <td>unknown</td>\n",
       "      <td>ACTOR</td>\n",
       "      <td>Let's Eat</td>\n",
       "      <td>SHOW</td>\n",
       "      <td>2021</td>\n",
       "      <td>['drama', 'comedy']</td>\n",
       "      <td>8.0</td>\n",
       "      <td>5.0</td>\n",
       "    </tr>\n",
       "    <tr>\n",
       "      <th>85437</th>\n",
       "      <td>Sarawut Wichiensarn</td>\n",
       "      <td>unknown</td>\n",
       "      <td>DIRECTOR</td>\n",
       "      <td>Let's Eat</td>\n",
       "      <td>SHOW</td>\n",
       "      <td>2021</td>\n",
       "      <td>['drama', 'comedy']</td>\n",
       "      <td>8.0</td>\n",
       "      <td>5.0</td>\n",
       "    </tr>\n",
       "  </tbody>\n",
       "</table>\n",
       "</div>"
      ],
      "text/plain": [
       "                      name character      role      title  type  release_year  \\\n",
       "85433     Maneerat Kam-Uan        Ae     ACTOR  Let's Eat  SHOW          2021   \n",
       "85434    Rudklao Amratisha   unknown     ACTOR  Let's Eat  SHOW          2021   \n",
       "85435      Jaturong Mokjok   unknown     ACTOR  Let's Eat  SHOW          2021   \n",
       "85436     Pisamai Wilaisak   unknown     ACTOR  Let's Eat  SHOW          2021   \n",
       "85437  Sarawut Wichiensarn   unknown  DIRECTOR  Let's Eat  SHOW          2021   \n",
       "\n",
       "                    genres  imdb_score  imdb_votes  \n",
       "85433  ['drama', 'comedy']         8.0         5.0  \n",
       "85434  ['drama', 'comedy']         8.0         5.0  \n",
       "85435  ['drama', 'comedy']         8.0         5.0  \n",
       "85436  ['drama', 'comedy']         8.0         5.0  \n",
       "85437  ['drama', 'comedy']         8.0         5.0  "
      ]
     },
     "execution_count": 21,
     "metadata": {},
     "output_type": "execute_result"
    }
   ],
   "source": [
    "# rounding column with scores\n",
    "df_1999_shows['imdb_score'] = df_1999_shows['imdb_score'].round(0)\n",
    "#checking the outcome with tail()\n",
    "df_1999_shows.tail()"
   ]
  },
  {
   "cell_type": "markdown",
   "id": "36dbd00a",
   "metadata": {},
   "source": [
    "It is now time to identify outliers based on the number of votes."
   ]
  },
  {
   "cell_type": "code",
   "execution_count": 22,
   "id": "b8b55e95",
   "metadata": {},
   "outputs": [
    {
     "data": {
      "text/plain": [
       "imdb_score\n",
       "2.0       24\n",
       "3.0       27\n",
       "4.0      174\n",
       "5.0      581\n",
       "6.0     2365\n",
       "7.0     4342\n",
       "8.0     4194\n",
       "9.0      542\n",
       "10.0       8\n",
       "Name: name, dtype: int64"
      ]
     },
     "execution_count": 22,
     "metadata": {},
     "output_type": "execute_result"
    }
   ],
   "source": [
    "# Use groupby() for scores and count all unique values in each group, print the result\n",
    "df_1999_shows.groupby('imdb_score')['name'].nunique()"
   ]
  },
  {
   "cell_type": "markdown",
   "id": "1ba6daae",
   "metadata": {},
   "source": [
    "Based on the aggregation performed, it is evident that scores 2 (24 voted shows), 3 (27 voted shows), and 10 (only 8 voted shows) are outliers. There isn't enough data for these scores for the average number of votes to be meaningful."
   ]
  },
  {
   "cell_type": "markdown",
   "id": "bd468c46",
   "metadata": {},
   "source": [
    "To obtain the mean numbers of votes for the selected scores (we identified a range of 4-9 as acceptable), use conditional filtering and grouping."
   ]
  },
  {
   "cell_type": "code",
   "execution_count": 23,
   "id": "d1867e0e",
   "metadata": {},
   "outputs": [
    {
     "data": {
      "text/html": [
       "<div>\n",
       "<style scoped>\n",
       "    .dataframe tbody tr th:only-of-type {\n",
       "        vertical-align: middle;\n",
       "    }\n",
       "\n",
       "    .dataframe tbody tr th {\n",
       "        vertical-align: top;\n",
       "    }\n",
       "\n",
       "    .dataframe thead th {\n",
       "        text-align: right;\n",
       "    }\n",
       "</style>\n",
       "<table border=\"1\" class=\"dataframe\">\n",
       "  <thead>\n",
       "    <tr style=\"text-align: right;\">\n",
       "      <th></th>\n",
       "      <th>imdb_score</th>\n",
       "      <th>imdb_votes</th>\n",
       "    </tr>\n",
       "  </thead>\n",
       "  <tbody>\n",
       "    <tr>\n",
       "      <th>0</th>\n",
       "      <td>4.0</td>\n",
       "      <td>5277.583333</td>\n",
       "    </tr>\n",
       "    <tr>\n",
       "      <th>1</th>\n",
       "      <td>5.0</td>\n",
       "      <td>3143.942568</td>\n",
       "    </tr>\n",
       "    <tr>\n",
       "      <th>2</th>\n",
       "      <td>6.0</td>\n",
       "      <td>3481.717322</td>\n",
       "    </tr>\n",
       "    <tr>\n",
       "      <th>3</th>\n",
       "      <td>7.0</td>\n",
       "      <td>8727.068211</td>\n",
       "    </tr>\n",
       "    <tr>\n",
       "      <th>4</th>\n",
       "      <td>8.0</td>\n",
       "      <td>30299.460967</td>\n",
       "    </tr>\n",
       "    <tr>\n",
       "      <th>5</th>\n",
       "      <td>9.0</td>\n",
       "      <td>126904.109515</td>\n",
       "    </tr>\n",
       "  </tbody>\n",
       "</table>\n",
       "</div>"
      ],
      "text/plain": [
       "   imdb_score     imdb_votes\n",
       "0         4.0    5277.583333\n",
       "1         5.0    3143.942568\n",
       "2         6.0    3481.717322\n",
       "3         7.0    8727.068211\n",
       "4         8.0   30299.460967\n",
       "5         9.0  126904.109515"
      ]
     },
     "execution_count": 23,
     "metadata": {},
     "output_type": "execute_result"
    }
   ],
   "source": [
    "# filter dataframe using two conditions (scores to be in the range 4-9)\n",
    "df_filtered_1999_shows = df_1999_shows[(df_1999_shows['imdb_score'] > 3) & (df_1999_shows['imdb_score'] <= 9)]\n",
    "# group scores and corresponding average number of votes, reset index and print the result\n",
    "grouped_scores = df_filtered_1999_shows.groupby('imdb_score')['imdb_votes'].agg('mean').reset_index()\n",
    "grouped_scores"
   ]
  },
  {
   "cell_type": "markdown",
   "id": "96a66d14",
   "metadata": {},
   "source": [
    "Now for the final step! Round the column with the averages, rename both columns, and print the dataframe in descending order."
   ]
  },
  {
   "cell_type": "code",
   "execution_count": 24,
   "id": "5999051b",
   "metadata": {},
   "outputs": [
    {
     "data": {
      "text/html": [
       "<div>\n",
       "<style scoped>\n",
       "    .dataframe tbody tr th:only-of-type {\n",
       "        vertical-align: middle;\n",
       "    }\n",
       "\n",
       "    .dataframe tbody tr th {\n",
       "        vertical-align: top;\n",
       "    }\n",
       "\n",
       "    .dataframe thead th {\n",
       "        text-align: right;\n",
       "    }\n",
       "</style>\n",
       "<table border=\"1\" class=\"dataframe\">\n",
       "  <thead>\n",
       "    <tr style=\"text-align: right;\">\n",
       "      <th></th>\n",
       "      <th>IMDB Score</th>\n",
       "      <th>Average IMDB Votes</th>\n",
       "    </tr>\n",
       "  </thead>\n",
       "  <tbody>\n",
       "    <tr>\n",
       "      <th>5</th>\n",
       "      <td>9.0</td>\n",
       "      <td>126904.0</td>\n",
       "    </tr>\n",
       "    <tr>\n",
       "      <th>4</th>\n",
       "      <td>8.0</td>\n",
       "      <td>30299.0</td>\n",
       "    </tr>\n",
       "    <tr>\n",
       "      <th>3</th>\n",
       "      <td>7.0</td>\n",
       "      <td>8727.0</td>\n",
       "    </tr>\n",
       "    <tr>\n",
       "      <th>2</th>\n",
       "      <td>6.0</td>\n",
       "      <td>3482.0</td>\n",
       "    </tr>\n",
       "    <tr>\n",
       "      <th>1</th>\n",
       "      <td>5.0</td>\n",
       "      <td>3144.0</td>\n",
       "    </tr>\n",
       "    <tr>\n",
       "      <th>0</th>\n",
       "      <td>4.0</td>\n",
       "      <td>5278.0</td>\n",
       "    </tr>\n",
       "  </tbody>\n",
       "</table>\n",
       "</div>"
      ],
      "text/plain": [
       "   IMDB Score  Average IMDB Votes\n",
       "5         9.0            126904.0\n",
       "4         8.0             30299.0\n",
       "3         7.0              8727.0\n",
       "2         6.0              3482.0\n",
       "1         5.0              3144.0\n",
       "0         4.0              5278.0"
      ]
     },
     "execution_count": 24,
     "metadata": {},
     "output_type": "execute_result"
    }
   ],
   "source": [
    "# round column with averages\n",
    "grouped_scores['imdb_votes'] = grouped_scores['imdb_votes'].round()\n",
    "# rename columns\n",
    "grouped_scores = grouped_scores.rename(columns={'imdb_score': 'IMDB Score', 'imdb_votes': 'Average IMDB Votes'})\n",
    "# print dataframe in descending order\n",
    "sorted_grouped_scores = grouped_scores.sort_values('IMDB Score', ascending=False)\n",
    "sorted_grouped_scores"
   ]
  },
  {
   "cell_type": "markdown",
   "id": "af07386d",
   "metadata": {},
   "source": [
    "The assumption macthes the analysis: the shows with the top 3 scores have the most amounts of votes."
   ]
  },
  {
   "cell_type": "markdown",
   "id": "84e29a37",
   "metadata": {},
   "source": [
    "## Conclusion <a id='hypotheses'></a>"
   ]
  },
  {
   "cell_type": "markdown",
   "id": "984766a3",
   "metadata": {},
   "source": [
    "The research done confirms that highly-rated shows released during the \"Golden Age\" of television also have the most votes. While shows with score 4 have more votes than ones with scores 5 and 6, the top three (scores 7-9) have the largest number. The data studied represents around 94% of the original set, so we can be confident in our findings."
   ]
  }
 ],
 "metadata": {
  "ExecuteTimeLog": [
   {
    "duration": 446,
    "start_time": "2024-07-28T23:48:42.740Z"
   },
   {
    "duration": 1079,
    "start_time": "2024-07-28T23:49:20.225Z"
   },
   {
    "duration": 268,
    "start_time": "2024-07-28T23:49:27.414Z"
   },
   {
    "duration": 24,
    "start_time": "2024-07-28T23:50:09.093Z"
   },
   {
    "duration": 194,
    "start_time": "2024-07-28T23:50:53.807Z"
   },
   {
    "duration": 18,
    "start_time": "2024-07-28T23:50:56.832Z"
   },
   {
    "duration": 37,
    "start_time": "2024-07-28T23:51:15.085Z"
   },
   {
    "duration": 23,
    "start_time": "2024-07-28T23:53:00.675Z"
   },
   {
    "duration": 21,
    "start_time": "2024-07-28T23:53:09.383Z"
   },
   {
    "duration": 4,
    "start_time": "2024-07-28T23:53:54.035Z"
   },
   {
    "duration": 7,
    "start_time": "2024-07-28T23:54:02.137Z"
   },
   {
    "duration": 158,
    "start_time": "2024-07-28T23:57:09.970Z"
   },
   {
    "duration": 6,
    "start_time": "2024-07-28T23:57:19.527Z"
   },
   {
    "duration": 28,
    "start_time": "2024-07-28T23:57:27.539Z"
   },
   {
    "duration": 6,
    "start_time": "2024-07-28T23:57:50.569Z"
   },
   {
    "duration": 151,
    "start_time": "2024-07-28T23:59:43.675Z"
   },
   {
    "duration": 6,
    "start_time": "2024-07-28T23:59:46.332Z"
   },
   {
    "duration": 26,
    "start_time": "2024-07-29T00:00:12.942Z"
   },
   {
    "duration": 160,
    "start_time": "2024-07-29T00:01:05.388Z"
   },
   {
    "duration": 6,
    "start_time": "2024-07-29T00:01:15.715Z"
   },
   {
    "duration": 30,
    "start_time": "2024-07-29T00:02:03.351Z"
   },
   {
    "duration": 42,
    "start_time": "2024-07-29T00:06:39.901Z"
   },
   {
    "duration": 21,
    "start_time": "2024-07-29T00:06:53.436Z"
   },
   {
    "duration": 31,
    "start_time": "2024-07-29T00:06:59.434Z"
   },
   {
    "duration": 42,
    "start_time": "2024-07-29T00:07:54.408Z"
   },
   {
    "duration": 28,
    "start_time": "2024-07-29T00:07:57.339Z"
   },
   {
    "duration": 79,
    "start_time": "2024-07-29T00:08:43.851Z"
   },
   {
    "duration": 82,
    "start_time": "2024-07-29T00:09:31.232Z"
   },
   {
    "duration": 107,
    "start_time": "2024-07-29T00:09:46.801Z"
   },
   {
    "duration": 106,
    "start_time": "2024-07-29T00:10:18.986Z"
   },
   {
    "duration": 84,
    "start_time": "2024-07-29T00:11:00.849Z"
   },
   {
    "duration": 152,
    "start_time": "2024-07-29T00:13:05.127Z"
   },
   {
    "duration": 5,
    "start_time": "2024-07-29T00:13:07.903Z"
   },
   {
    "duration": 56,
    "start_time": "2024-07-29T00:15:45.576Z"
   },
   {
    "duration": 6,
    "start_time": "2024-07-29T00:15:47.517Z"
   },
   {
    "duration": 28,
    "start_time": "2024-07-29T00:15:55.214Z"
   },
   {
    "duration": 30,
    "start_time": "2024-07-29T00:16:15.982Z"
   },
   {
    "duration": 29,
    "start_time": "2024-07-29T00:16:43.449Z"
   },
   {
    "duration": 3,
    "start_time": "2024-07-29T00:16:56.474Z"
   },
   {
    "duration": 28,
    "start_time": "2024-07-29T00:16:59.643Z"
   },
   {
    "duration": 30,
    "start_time": "2024-07-29T00:17:01.460Z"
   },
   {
    "duration": 37,
    "start_time": "2024-07-29T00:17:04.701Z"
   },
   {
    "duration": 79,
    "start_time": "2024-07-29T00:17:24.587Z"
   },
   {
    "duration": 90,
    "start_time": "2024-07-29T00:17:27.042Z"
   },
   {
    "duration": 94,
    "start_time": "2024-07-29T00:17:37.964Z"
   },
   {
    "duration": 77,
    "start_time": "2024-07-29T00:17:41.313Z"
   },
   {
    "duration": 19,
    "start_time": "2024-07-29T00:18:27.993Z"
   },
   {
    "duration": 20,
    "start_time": "2024-07-29T00:18:51.409Z"
   },
   {
    "duration": 93,
    "start_time": "2024-07-29T00:19:08.054Z"
   },
   {
    "duration": 80,
    "start_time": "2024-07-29T00:19:50.823Z"
   },
   {
    "duration": 86,
    "start_time": "2024-07-29T00:20:01.453Z"
   },
   {
    "duration": 103,
    "start_time": "2024-07-29T00:20:07.664Z"
   },
   {
    "duration": 24,
    "start_time": "2024-07-29T00:21:54.289Z"
   },
   {
    "duration": 58,
    "start_time": "2024-07-29T00:22:38.036Z"
   },
   {
    "duration": 70,
    "start_time": "2024-07-29T00:22:49.457Z"
   },
   {
    "duration": 66,
    "start_time": "2024-07-29T00:23:44.600Z"
   },
   {
    "duration": 61,
    "start_time": "2024-07-29T00:23:55.827Z"
   },
   {
    "duration": 4,
    "start_time": "2024-07-29T00:28:58.378Z"
   },
   {
    "duration": 22,
    "start_time": "2024-07-29T00:29:23.783Z"
   },
   {
    "duration": 5,
    "start_time": "2024-07-29T00:29:46.604Z"
   },
   {
    "duration": 2661,
    "start_time": "2024-07-29T00:30:09.772Z"
   },
   {
    "duration": 8,
    "start_time": "2024-07-29T00:30:12.436Z"
   },
   {
    "duration": 6,
    "start_time": "2024-07-29T00:30:16.941Z"
   },
   {
    "duration": 64,
    "start_time": "2024-07-29T00:31:46.195Z"
   },
   {
    "duration": 5,
    "start_time": "2024-07-29T00:32:03.997Z"
   },
   {
    "duration": 1106,
    "start_time": "2024-07-29T00:32:05.866Z"
   },
   {
    "duration": 62,
    "start_time": "2024-07-29T00:32:07.789Z"
   },
   {
    "duration": 4,
    "start_time": "2024-07-29T00:35:14.320Z"
   },
   {
    "duration": 1072,
    "start_time": "2024-07-29T00:35:16.467Z"
   },
   {
    "duration": 63,
    "start_time": "2024-07-29T00:35:39.684Z"
   },
   {
    "duration": 62,
    "start_time": "2024-07-29T00:36:52.259Z"
   },
   {
    "duration": 64,
    "start_time": "2024-07-29T00:37:01.461Z"
   },
   {
    "duration": 5,
    "start_time": "2024-07-29T00:37:07.049Z"
   },
   {
    "duration": 109,
    "start_time": "2024-07-29T00:37:20.094Z"
   },
   {
    "duration": 6,
    "start_time": "2024-07-29T00:41:34.490Z"
   },
   {
    "duration": 23,
    "start_time": "2024-07-29T00:41:42.968Z"
   },
   {
    "duration": 458,
    "start_time": "2024-07-29T00:42:48.037Z"
   },
   {
    "duration": 13,
    "start_time": "2024-07-29T00:43:24.184Z"
   },
   {
    "duration": 17,
    "start_time": "2024-07-29T00:43:32.330Z"
   },
   {
    "duration": 34,
    "start_time": "2024-07-29T00:45:10.716Z"
   },
   {
    "duration": 17,
    "start_time": "2024-07-29T00:45:47.192Z"
   },
   {
    "duration": 17,
    "start_time": "2024-07-29T00:46:15.763Z"
   },
   {
    "duration": 8,
    "start_time": "2024-07-29T00:47:44.237Z"
   },
   {
    "duration": 248,
    "start_time": "2024-07-29T00:48:02.711Z"
   },
   {
    "duration": 59,
    "start_time": "2024-07-29T00:48:07.144Z"
   },
   {
    "duration": 60,
    "start_time": "2024-07-29T00:48:10.731Z"
   },
   {
    "duration": 152,
    "start_time": "2024-07-29T00:49:27.932Z"
   },
   {
    "duration": 4,
    "start_time": "2024-07-29T00:50:25.153Z"
   },
   {
    "duration": 111,
    "start_time": "2024-07-29T00:50:27.614Z"
   },
   {
    "duration": 6,
    "start_time": "2024-07-29T00:50:34.559Z"
   },
   {
    "duration": 114,
    "start_time": "2024-07-29T00:50:35.975Z"
   },
   {
    "duration": 5,
    "start_time": "2024-07-29T00:50:39.827Z"
   },
   {
    "duration": 119,
    "start_time": "2024-07-29T00:50:41.492Z"
   },
   {
    "duration": 109,
    "start_time": "2024-07-29T00:50:43.922Z"
   },
   {
    "duration": 111,
    "start_time": "2024-07-29T00:50:45.641Z"
   },
   {
    "duration": 5,
    "start_time": "2024-07-29T00:51:59.754Z"
   },
   {
    "duration": 1665,
    "start_time": "2024-07-29T00:52:02.199Z"
   },
   {
    "duration": 1600,
    "start_time": "2024-07-29T00:52:06.449Z"
   },
   {
    "duration": 63,
    "start_time": "2024-07-29T00:52:36.777Z"
   },
   {
    "duration": 5,
    "start_time": "2024-07-29T00:53:44.813Z"
   },
   {
    "duration": 126,
    "start_time": "2024-07-29T00:53:48.104Z"
   },
   {
    "duration": 5,
    "start_time": "2024-07-29T00:55:17.800Z"
   },
   {
    "duration": 1644,
    "start_time": "2024-07-29T00:55:19.566Z"
   },
   {
    "duration": 1593,
    "start_time": "2024-07-29T00:55:23.934Z"
   },
   {
    "duration": 60,
    "start_time": "2024-07-29T00:55:29.603Z"
   },
   {
    "duration": 4,
    "start_time": "2024-07-29T00:56:00.429Z"
   },
   {
    "duration": 1639,
    "start_time": "2024-07-29T00:56:02.586Z"
   },
   {
    "duration": 60,
    "start_time": "2024-07-29T00:56:06.718Z"
   },
   {
    "duration": 4,
    "start_time": "2024-07-29T00:56:19.766Z"
   },
   {
    "duration": 1623,
    "start_time": "2024-07-29T00:56:48.507Z"
   },
   {
    "duration": 59,
    "start_time": "2024-07-29T00:57:25.022Z"
   },
   {
    "duration": 71,
    "start_time": "2024-07-29T00:57:29.956Z"
   },
   {
    "duration": 1657,
    "start_time": "2024-07-29T00:58:24.358Z"
   },
   {
    "duration": 61,
    "start_time": "2024-07-29T00:58:31.009Z"
   },
   {
    "duration": 60,
    "start_time": "2024-07-29T00:59:08.568Z"
   },
   {
    "duration": 1708,
    "start_time": "2024-07-29T00:59:27.315Z"
   },
   {
    "duration": 7,
    "start_time": "2024-07-29T00:59:44.741Z"
   },
   {
    "duration": 1544,
    "start_time": "2024-07-29T00:59:54.769Z"
   },
   {
    "duration": 25,
    "start_time": "2024-07-29T01:00:01.442Z"
   },
   {
    "duration": 1691,
    "start_time": "2024-07-29T01:00:04.135Z"
   },
   {
    "duration": 4,
    "start_time": "2024-07-29T01:01:31.423Z"
   },
   {
    "duration": 1523,
    "start_time": "2024-07-29T01:01:38.356Z"
   },
   {
    "duration": 62,
    "start_time": "2024-07-29T01:05:17.614Z"
   },
   {
    "duration": 1542,
    "start_time": "2024-07-29T01:05:25.841Z"
   },
   {
    "duration": 60,
    "start_time": "2024-07-29T01:06:17.795Z"
   },
   {
    "duration": 14,
    "start_time": "2024-07-29T01:06:24.002Z"
   },
   {
    "duration": 15,
    "start_time": "2024-07-29T01:06:24.829Z"
   },
   {
    "duration": 19,
    "start_time": "2024-07-29T01:06:27.002Z"
   },
   {
    "duration": 12,
    "start_time": "2024-07-29T01:16:15.686Z"
   },
   {
    "duration": 119,
    "start_time": "2024-07-29T01:16:18.372Z"
   },
   {
    "duration": 84,
    "start_time": "2024-07-29T01:16:22.525Z"
   },
   {
    "duration": 6,
    "start_time": "2024-07-29T01:17:11.684Z"
   },
   {
    "duration": 103,
    "start_time": "2024-07-29T01:17:12.855Z"
   },
   {
    "duration": 4,
    "start_time": "2024-07-29T01:28:05.238Z"
   },
   {
    "duration": 14,
    "start_time": "2024-07-29T01:28:07.118Z"
   },
   {
    "duration": 62,
    "start_time": "2024-07-29T01:28:13.983Z"
   },
   {
    "duration": 6,
    "start_time": "2024-07-29T01:29:46.870Z"
   },
   {
    "duration": 7,
    "start_time": "2024-07-29T01:31:41.008Z"
   },
   {
    "duration": 8,
    "start_time": "2024-07-29T01:31:48.954Z"
   },
   {
    "duration": 15,
    "start_time": "2024-07-29T01:31:52.894Z"
   },
   {
    "duration": 61,
    "start_time": "2024-07-29T01:31:54.923Z"
   },
   {
    "duration": 5,
    "start_time": "2024-07-29T01:32:43.504Z"
   },
   {
    "duration": 15,
    "start_time": "2024-07-29T01:32:45.418Z"
   },
   {
    "duration": 62,
    "start_time": "2024-07-29T01:32:47.453Z"
   },
   {
    "duration": 4,
    "start_time": "2024-07-29T01:33:33.762Z"
   },
   {
    "duration": 17,
    "start_time": "2024-07-29T01:33:39.652Z"
   },
   {
    "duration": 62,
    "start_time": "2024-07-29T01:33:52.100Z"
   },
   {
    "duration": 5,
    "start_time": "2024-07-29T01:34:33.068Z"
   },
   {
    "duration": 19,
    "start_time": "2024-07-29T01:34:35.208Z"
   },
   {
    "duration": 62,
    "start_time": "2024-07-29T01:34:44.074Z"
   },
   {
    "duration": 5,
    "start_time": "2024-07-29T01:35:34.128Z"
   },
   {
    "duration": 18,
    "start_time": "2024-07-29T01:35:36.151Z"
   },
   {
    "duration": 61,
    "start_time": "2024-07-29T01:35:38.415Z"
   },
   {
    "duration": 5,
    "start_time": "2024-07-29T01:41:56.509Z"
   },
   {
    "duration": 18,
    "start_time": "2024-07-29T01:41:58.428Z"
   },
   {
    "duration": 62,
    "start_time": "2024-07-29T01:42:00.463Z"
   },
   {
    "duration": 4,
    "start_time": "2024-07-29T01:42:51.217Z"
   },
   {
    "duration": 14,
    "start_time": "2024-07-29T01:42:52.899Z"
   },
   {
    "duration": 61,
    "start_time": "2024-07-29T01:42:55.059Z"
   },
   {
    "duration": 4,
    "start_time": "2024-07-29T01:44:13.584Z"
   },
   {
    "duration": 5,
    "start_time": "2024-07-29T01:48:11.516Z"
   },
   {
    "duration": 22,
    "start_time": "2024-07-29T01:48:23.892Z"
   },
   {
    "duration": 60,
    "start_time": "2024-07-29T01:48:29.522Z"
   },
   {
    "duration": 5,
    "start_time": "2024-07-29T01:49:53.335Z"
   },
   {
    "duration": 18,
    "start_time": "2024-07-29T01:49:55.647Z"
   },
   {
    "duration": 61,
    "start_time": "2024-07-29T01:49:58.362Z"
   },
   {
    "duration": 5,
    "start_time": "2024-07-29T01:51:08.997Z"
   },
   {
    "duration": 23,
    "start_time": "2024-07-29T01:51:11.706Z"
   },
   {
    "duration": 60,
    "start_time": "2024-07-29T01:51:14.346Z"
   },
   {
    "duration": 5,
    "start_time": "2024-07-29T01:53:29.066Z"
   },
   {
    "duration": 24,
    "start_time": "2024-07-29T01:53:31.999Z"
   },
   {
    "duration": 61,
    "start_time": "2024-07-29T01:53:33.822Z"
   },
   {
    "duration": 5,
    "start_time": "2024-07-29T01:56:56.373Z"
   },
   {
    "duration": 6,
    "start_time": "2024-07-29T01:56:58.420Z"
   },
   {
    "duration": 61,
    "start_time": "2024-07-29T01:57:05.144Z"
   },
   {
    "duration": 5,
    "start_time": "2024-07-29T01:57:30.815Z"
   },
   {
    "duration": 16,
    "start_time": "2024-07-29T01:57:33.922Z"
   },
   {
    "duration": 61,
    "start_time": "2024-07-29T01:57:35.476Z"
   },
   {
    "duration": 5,
    "start_time": "2024-07-29T01:57:53.271Z"
   },
   {
    "duration": 177,
    "start_time": "2024-07-29T01:57:55.601Z"
   },
   {
    "duration": 62,
    "start_time": "2024-07-29T01:57:57.677Z"
   },
   {
    "duration": 5,
    "start_time": "2024-07-29T01:59:43.195Z"
   },
   {
    "duration": 26,
    "start_time": "2024-07-29T01:59:44.478Z"
   },
   {
    "duration": 67,
    "start_time": "2024-07-29T01:59:46.178Z"
   },
   {
    "duration": 6,
    "start_time": "2024-07-29T02:00:48.346Z"
   },
   {
    "duration": 23,
    "start_time": "2024-07-29T02:00:49.247Z"
   },
   {
    "duration": 60,
    "start_time": "2024-07-29T02:00:50.797Z"
   },
   {
    "duration": 6,
    "start_time": "2024-07-29T02:02:32.031Z"
   },
   {
    "duration": 25,
    "start_time": "2024-07-29T02:02:32.889Z"
   },
   {
    "duration": 68,
    "start_time": "2024-07-29T02:02:38.167Z"
   },
   {
    "duration": 5,
    "start_time": "2024-07-29T02:03:09.827Z"
   },
   {
    "duration": 23,
    "start_time": "2024-07-29T02:03:11.565Z"
   },
   {
    "duration": 60,
    "start_time": "2024-07-29T02:03:19.602Z"
   },
   {
    "duration": 5,
    "start_time": "2024-07-29T02:03:49.402Z"
   },
   {
    "duration": 24,
    "start_time": "2024-07-29T02:03:50.353Z"
   },
   {
    "duration": 60,
    "start_time": "2024-07-29T02:03:52.104Z"
   },
   {
    "duration": 6,
    "start_time": "2024-07-29T02:06:16.332Z"
   },
   {
    "duration": 26,
    "start_time": "2024-07-29T02:06:20.420Z"
   },
   {
    "duration": 72,
    "start_time": "2024-07-29T02:06:31.724Z"
   },
   {
    "duration": 24,
    "start_time": "2024-07-29T02:09:03.338Z"
   },
   {
    "duration": 25,
    "start_time": "2024-07-29T02:09:28.627Z"
   },
   {
    "duration": 24,
    "start_time": "2024-07-29T02:09:35.636Z"
   },
   {
    "duration": 5,
    "start_time": "2024-07-29T02:10:08.797Z"
   },
   {
    "duration": 23,
    "start_time": "2024-07-29T02:10:10.623Z"
   },
   {
    "duration": 25,
    "start_time": "2024-07-29T02:10:15.224Z"
   },
   {
    "duration": 7,
    "start_time": "2024-07-29T02:10:40.086Z"
   },
   {
    "duration": 25,
    "start_time": "2024-07-29T02:10:41.250Z"
   },
   {
    "duration": 5,
    "start_time": "2024-07-29T02:11:27.172Z"
   },
   {
    "duration": 32,
    "start_time": "2024-07-29T02:11:28.203Z"
   },
   {
    "duration": 5,
    "start_time": "2024-07-29T02:12:09.251Z"
   },
   {
    "duration": 27,
    "start_time": "2024-07-29T02:12:10.159Z"
   },
   {
    "duration": 10,
    "start_time": "2024-07-29T02:12:25.298Z"
   },
   {
    "duration": 10,
    "start_time": "2024-07-29T02:12:35.634Z"
   },
   {
    "duration": 5,
    "start_time": "2024-07-29T02:15:05.317Z"
   },
   {
    "duration": 24,
    "start_time": "2024-07-29T02:15:11.838Z"
   },
   {
    "duration": 9,
    "start_time": "2024-07-29T02:15:14.975Z"
   },
   {
    "duration": 5,
    "start_time": "2024-07-29T02:17:56.519Z"
   },
   {
    "duration": 30,
    "start_time": "2024-07-29T02:17:57.406Z"
   },
   {
    "duration": 5,
    "start_time": "2024-07-29T02:19:49.896Z"
   },
   {
    "duration": 25,
    "start_time": "2024-07-29T02:19:51.824Z"
   },
   {
    "duration": 9,
    "start_time": "2024-07-29T02:19:54.506Z"
   },
   {
    "duration": 19,
    "start_time": "2024-07-29T02:20:08.429Z"
   },
   {
    "duration": 5,
    "start_time": "2024-07-29T02:20:18.896Z"
   },
   {
    "duration": 6,
    "start_time": "2024-07-29T02:20:22.235Z"
   },
   {
    "duration": 56,
    "start_time": "2024-07-29T02:20:34.829Z"
   },
   {
    "duration": 10,
    "start_time": "2024-07-29T02:20:43.146Z"
   },
   {
    "duration": 4,
    "start_time": "2024-07-29T02:21:42.890Z"
   },
   {
    "duration": 22,
    "start_time": "2024-07-29T02:21:44.080Z"
   },
   {
    "duration": 10,
    "start_time": "2024-07-29T02:21:58.155Z"
   },
   {
    "duration": 10,
    "start_time": "2024-07-29T02:22:01.018Z"
   },
   {
    "duration": 5,
    "start_time": "2024-07-29T02:22:46.429Z"
   },
   {
    "duration": 200,
    "start_time": "2024-07-29T02:22:47.620Z"
   },
   {
    "duration": 9,
    "start_time": "2024-07-29T02:22:51.266Z"
   },
   {
    "duration": 6,
    "start_time": "2024-07-29T02:23:17.963Z"
   },
   {
    "duration": 191,
    "start_time": "2024-07-29T02:23:19.122Z"
   },
   {
    "duration": 10,
    "start_time": "2024-07-29T02:23:22.864Z"
   },
   {
    "duration": 5,
    "start_time": "2024-07-29T02:23:40.021Z"
   },
   {
    "duration": 23,
    "start_time": "2024-07-29T02:23:40.925Z"
   },
   {
    "duration": 6,
    "start_time": "2024-07-29T02:25:07.051Z"
   },
   {
    "duration": 220,
    "start_time": "2024-07-29T02:25:08.156Z"
   },
   {
    "duration": 10,
    "start_time": "2024-07-29T02:25:10.126Z"
   },
   {
    "duration": 5,
    "start_time": "2024-07-29T02:25:27.618Z"
   },
   {
    "duration": 203,
    "start_time": "2024-07-29T02:25:28.632Z"
   },
   {
    "duration": 10,
    "start_time": "2024-07-29T02:25:38.608Z"
   },
   {
    "duration": 5,
    "start_time": "2024-07-29T02:26:04.204Z"
   },
   {
    "duration": 7,
    "start_time": "2024-07-29T02:26:05.246Z"
   },
   {
    "duration": 10,
    "start_time": "2024-07-29T02:26:15.352Z"
   },
   {
    "duration": 5,
    "start_time": "2024-07-29T02:26:44.329Z"
   },
   {
    "duration": 7,
    "start_time": "2024-07-29T02:26:45.117Z"
   },
   {
    "duration": 5,
    "start_time": "2024-07-29T02:26:52.915Z"
   },
   {
    "duration": 9,
    "start_time": "2024-07-29T02:26:53.440Z"
   },
   {
    "duration": 5,
    "start_time": "2024-07-29T02:27:01.428Z"
   },
   {
    "duration": 9,
    "start_time": "2024-07-29T02:27:02.245Z"
   },
   {
    "duration": 8,
    "start_time": "2024-07-29T02:30:28.660Z"
   },
   {
    "duration": 7,
    "start_time": "2024-07-29T02:30:35.903Z"
   },
   {
    "duration": 10,
    "start_time": "2024-07-29T02:30:37.535Z"
   },
   {
    "duration": 9,
    "start_time": "2024-07-29T02:30:46.563Z"
   },
   {
    "duration": 5,
    "start_time": "2024-07-29T02:31:12.494Z"
   },
   {
    "duration": 9,
    "start_time": "2024-07-29T02:31:13.526Z"
   },
   {
    "duration": 5,
    "start_time": "2024-07-29T02:31:58.399Z"
   },
   {
    "duration": 8,
    "start_time": "2024-07-29T02:31:59.461Z"
   },
   {
    "duration": 10,
    "start_time": "2024-07-29T02:32:01.984Z"
   },
   {
    "duration": 5,
    "start_time": "2024-07-29T02:33:46.820Z"
   },
   {
    "duration": 36,
    "start_time": "2024-07-29T02:33:47.783Z"
   },
   {
    "duration": 5,
    "start_time": "2024-07-29T02:33:55.659Z"
   },
   {
    "duration": 1431,
    "start_time": "2024-07-29T02:33:57.268Z"
   },
   {
    "duration": 0,
    "start_time": "2024-07-29T02:33:58.703Z"
   },
   {
    "duration": 6,
    "start_time": "2024-07-29T02:34:33.486Z"
   },
   {
    "duration": 1578,
    "start_time": "2024-07-29T02:34:34.291Z"
   },
   {
    "duration": 13,
    "start_time": "2024-07-29T02:34:36.093Z"
   },
   {
    "duration": 13,
    "start_time": "2024-07-29T02:34:37.823Z"
   },
   {
    "duration": 1455,
    "start_time": "2024-07-29T02:35:10.412Z"
   },
   {
    "duration": 6,
    "start_time": "2024-07-29T02:36:05.561Z"
   },
   {
    "duration": 8,
    "start_time": "2024-07-29T02:36:07.675Z"
   },
   {
    "duration": 9,
    "start_time": "2024-07-29T02:36:21.136Z"
   },
   {
    "duration": 11,
    "start_time": "2024-07-29T02:36:34.182Z"
   },
   {
    "duration": 5,
    "start_time": "2024-07-29T02:37:15.624Z"
   },
   {
    "duration": 8,
    "start_time": "2024-07-29T02:37:16.375Z"
   },
   {
    "duration": 6,
    "start_time": "2024-07-29T02:38:07.698Z"
   },
   {
    "duration": 1205,
    "start_time": "2024-07-29T02:38:08.803Z"
   },
   {
    "duration": 5,
    "start_time": "2024-07-29T02:39:56.820Z"
   },
   {
    "duration": 1201,
    "start_time": "2024-07-29T02:39:58.822Z"
   },
   {
    "duration": 10,
    "start_time": "2024-07-29T02:40:11.992Z"
   },
   {
    "duration": 6,
    "start_time": "2024-07-29T02:40:48.822Z"
   },
   {
    "duration": 7,
    "start_time": "2024-07-29T02:42:11.907Z"
   },
   {
    "duration": 0,
    "start_time": "2024-07-29T02:42:13.676Z"
   },
   {
    "duration": 6,
    "start_time": "2024-07-29T02:42:15.019Z"
   },
   {
    "duration": 1740,
    "start_time": "2024-07-29T02:42:17.045Z"
   },
   {
    "duration": 5,
    "start_time": "2024-07-29T02:43:48.399Z"
   },
   {
    "duration": 10,
    "start_time": "2024-07-29T02:45:16.439Z"
   },
   {
    "duration": 6,
    "start_time": "2024-07-29T02:45:17.748Z"
   },
   {
    "duration": 701,
    "start_time": "2024-07-29T02:45:17.757Z"
   },
   {
    "duration": 9,
    "start_time": "2024-07-29T02:45:52.714Z"
   },
   {
    "duration": 6,
    "start_time": "2024-07-29T02:49:50.262Z"
   },
   {
    "duration": 47,
    "start_time": "2024-07-29T02:49:52.336Z"
   },
   {
    "duration": 5,
    "start_time": "2024-07-29T02:50:09.202Z"
   },
   {
    "duration": 49,
    "start_time": "2024-07-29T02:50:10.384Z"
   },
   {
    "duration": 5,
    "start_time": "2024-07-29T02:50:56.080Z"
   },
   {
    "duration": 53,
    "start_time": "2024-07-29T02:50:57.475Z"
   },
   {
    "duration": 47,
    "start_time": "2024-07-29T02:51:01.466Z"
   },
   {
    "duration": 6,
    "start_time": "2024-07-29T02:51:33.484Z"
   },
   {
    "duration": 38,
    "start_time": "2024-07-29T02:51:35.585Z"
   },
   {
    "duration": 10,
    "start_time": "2024-07-29T02:52:34.756Z"
   },
   {
    "duration": 5,
    "start_time": "2024-07-29T02:53:31.962Z"
   },
   {
    "duration": 50,
    "start_time": "2024-07-29T02:53:33.098Z"
   },
   {
    "duration": 6,
    "start_time": "2024-07-29T02:54:40.803Z"
   },
   {
    "duration": 6,
    "start_time": "2024-07-29T02:55:01.670Z"
   },
   {
    "duration": 5,
    "start_time": "2024-07-29T02:55:06.216Z"
   },
   {
    "duration": 5,
    "start_time": "2024-07-29T02:55:26.616Z"
   },
   {
    "duration": 5,
    "start_time": "2024-07-29T02:57:08.618Z"
   },
   {
    "duration": 45,
    "start_time": "2024-07-29T02:57:11.822Z"
   },
   {
    "duration": 5,
    "start_time": "2024-07-29T02:57:43.630Z"
   },
   {
    "duration": 36,
    "start_time": "2024-07-29T02:57:44.430Z"
   },
   {
    "duration": 11,
    "start_time": "2024-07-29T02:58:06.898Z"
   },
   {
    "duration": 10,
    "start_time": "2024-07-29T02:58:32.256Z"
   },
   {
    "duration": 5,
    "start_time": "2024-07-29T03:02:26.581Z"
   },
   {
    "duration": 48,
    "start_time": "2024-07-29T03:02:28.990Z"
   },
   {
    "duration": 5,
    "start_time": "2024-07-29T03:12:18.568Z"
   },
   {
    "duration": 41,
    "start_time": "2024-07-29T03:12:20.694Z"
   },
   {
    "duration": 10,
    "start_time": "2024-07-29T03:12:33.216Z"
   },
   {
    "duration": 8,
    "start_time": "2024-07-29T03:13:26.339Z"
   },
   {
    "duration": 55,
    "start_time": "2024-07-29T03:13:27.757Z"
   },
   {
    "duration": 6,
    "start_time": "2024-07-29T03:14:26.440Z"
   },
   {
    "duration": 83,
    "start_time": "2024-07-29T03:14:28.114Z"
   },
   {
    "duration": 67,
    "start_time": "2024-07-29T03:15:03.883Z"
   },
   {
    "duration": 6,
    "start_time": "2024-07-29T03:15:23.896Z"
   },
   {
    "duration": 55,
    "start_time": "2024-07-29T03:15:24.889Z"
   },
   {
    "duration": 53,
    "start_time": "2024-07-29T03:15:25.806Z"
   },
   {
    "duration": 9,
    "start_time": "2024-07-29T03:16:35.075Z"
   },
   {
    "duration": 53,
    "start_time": "2024-07-29T03:16:35.791Z"
   },
   {
    "duration": 8,
    "start_time": "2024-07-29T03:17:13.695Z"
   },
   {
    "duration": 56,
    "start_time": "2024-07-29T03:17:15.026Z"
   },
   {
    "duration": 7,
    "start_time": "2024-07-29T03:18:11.508Z"
   },
   {
    "duration": 54,
    "start_time": "2024-07-29T03:18:12.490Z"
   },
   {
    "duration": 6,
    "start_time": "2024-07-29T03:18:59.103Z"
   },
   {
    "duration": 54,
    "start_time": "2024-07-29T03:19:00.106Z"
   },
   {
    "duration": 7,
    "start_time": "2024-07-29T03:19:40.974Z"
   },
   {
    "duration": 56,
    "start_time": "2024-07-29T03:19:42.266Z"
   },
   {
    "duration": 9,
    "start_time": "2024-07-29T03:21:24.998Z"
   },
   {
    "duration": 54,
    "start_time": "2024-07-29T03:21:26.508Z"
   },
   {
    "duration": 13,
    "start_time": "2024-07-29T03:21:55.042Z"
   },
   {
    "duration": 7,
    "start_time": "2024-07-29T03:22:09.479Z"
   },
   {
    "duration": 9,
    "start_time": "2024-07-29T03:22:14.792Z"
   },
   {
    "duration": 8,
    "start_time": "2024-07-29T03:23:16.945Z"
   },
   {
    "duration": 52,
    "start_time": "2024-07-29T03:23:18.532Z"
   },
   {
    "duration": 6,
    "start_time": "2024-07-29T03:23:35.825Z"
   },
   {
    "duration": 56,
    "start_time": "2024-07-29T03:23:36.925Z"
   },
   {
    "duration": 6,
    "start_time": "2024-07-29T03:26:05.987Z"
   },
   {
    "duration": 37,
    "start_time": "2024-07-29T03:26:07.116Z"
   },
   {
    "duration": 7,
    "start_time": "2024-07-29T03:28:45.251Z"
   },
   {
    "duration": 444,
    "start_time": "2024-07-29T03:34:01.050Z"
   },
   {
    "duration": 209,
    "start_time": "2024-07-29T03:34:01.502Z"
   },
   {
    "duration": 25,
    "start_time": "2024-07-29T03:34:01.714Z"
   },
   {
    "duration": 62,
    "start_time": "2024-07-29T03:34:01.742Z"
   },
   {
    "duration": 8,
    "start_time": "2024-07-29T03:34:01.808Z"
   },
   {
    "duration": 48,
    "start_time": "2024-07-29T03:34:01.819Z"
   },
   {
    "duration": 6,
    "start_time": "2024-07-29T03:34:01.870Z"
   },
   {
    "duration": 30,
    "start_time": "2024-07-29T03:34:01.902Z"
   },
   {
    "duration": 71,
    "start_time": "2024-07-29T03:34:01.936Z"
   },
   {
    "duration": 30,
    "start_time": "2024-07-29T03:34:02.012Z"
   },
   {
    "duration": 97,
    "start_time": "2024-07-29T03:34:02.045Z"
   },
   {
    "duration": 100,
    "start_time": "2024-07-29T03:34:02.145Z"
   },
   {
    "duration": 116,
    "start_time": "2024-07-29T03:34:02.248Z"
   },
   {
    "duration": 92,
    "start_time": "2024-07-29T03:34:02.370Z"
   },
   {
    "duration": 1981,
    "start_time": "2024-07-29T03:34:02.465Z"
   },
   {
    "duration": 0,
    "start_time": "2024-07-29T03:34:04.449Z"
   },
   {
    "duration": 0,
    "start_time": "2024-07-29T03:34:04.451Z"
   },
   {
    "duration": 0,
    "start_time": "2024-07-29T03:34:04.454Z"
   },
   {
    "duration": 0,
    "start_time": "2024-07-29T03:34:04.456Z"
   },
   {
    "duration": 0,
    "start_time": "2024-07-29T03:34:04.458Z"
   },
   {
    "duration": 0,
    "start_time": "2024-07-29T03:34:04.460Z"
   },
   {
    "duration": 0,
    "start_time": "2024-07-29T03:34:04.463Z"
   },
   {
    "duration": 0,
    "start_time": "2024-07-29T03:34:04.466Z"
   },
   {
    "duration": 0,
    "start_time": "2024-07-29T03:34:04.468Z"
   },
   {
    "duration": 146,
    "start_time": "2024-07-29T03:34:10.335Z"
   },
   {
    "duration": 145,
    "start_time": "2024-07-29T03:34:15.101Z"
   },
   {
    "duration": 5,
    "start_time": "2024-07-29T03:34:19.024Z"
   },
   {
    "duration": 87,
    "start_time": "2024-07-29T03:34:20.490Z"
   },
   {
    "duration": 3,
    "start_time": "2024-07-29T03:34:26.442Z"
   },
   {
    "duration": 232,
    "start_time": "2024-07-29T03:34:28.099Z"
   },
   {
    "duration": 17,
    "start_time": "2024-07-29T03:34:29.363Z"
   },
   {
    "duration": 36,
    "start_time": "2024-07-29T03:34:31.164Z"
   },
   {
    "duration": 7,
    "start_time": "2024-07-29T03:34:33.933Z"
   },
   {
    "duration": 51,
    "start_time": "2024-07-29T03:34:35.902Z"
   },
   {
    "duration": 6,
    "start_time": "2024-07-29T03:34:37.323Z"
   },
   {
    "duration": 13,
    "start_time": "2024-07-29T03:34:44.316Z"
   },
   {
    "duration": 6,
    "start_time": "2024-07-29T03:34:45.665Z"
   },
   {
    "duration": 30,
    "start_time": "2024-07-29T03:34:48.468Z"
   },
   {
    "duration": 49,
    "start_time": "2024-07-29T03:34:51.209Z"
   },
   {
    "duration": 29,
    "start_time": "2024-07-29T03:34:52.246Z"
   },
   {
    "duration": 74,
    "start_time": "2024-07-29T03:34:54.729Z"
   },
   {
    "duration": 91,
    "start_time": "2024-07-29T03:34:55.999Z"
   },
   {
    "duration": 99,
    "start_time": "2024-07-29T03:34:57.650Z"
   },
   {
    "duration": 79,
    "start_time": "2024-07-29T03:35:00.240Z"
   },
   {
    "duration": 61,
    "start_time": "2024-07-29T03:35:07.563Z"
   },
   {
    "duration": 5,
    "start_time": "2024-07-29T03:35:11.658Z"
   },
   {
    "duration": 23,
    "start_time": "2024-07-29T03:35:13.215Z"
   },
   {
    "duration": 11,
    "start_time": "2024-07-29T03:35:14.892Z"
   },
   {
    "duration": 15,
    "start_time": "2024-07-29T03:35:25.232Z"
   },
   {
    "duration": 16,
    "start_time": "2024-07-29T03:35:26.468Z"
   },
   {
    "duration": 20,
    "start_time": "2024-07-29T03:35:28.929Z"
   },
   {
    "duration": 18,
    "start_time": "2024-07-29T03:36:15.219Z"
   },
   {
    "duration": 18,
    "start_time": "2024-07-29T03:36:16.705Z"
   },
   {
    "duration": 364,
    "start_time": "2024-07-29T23:44:06.692Z"
   },
   {
    "duration": 82,
    "start_time": "2024-07-29T23:45:35.050Z"
   },
   {
    "duration": 6,
    "start_time": "2024-07-29T23:46:29.361Z"
   },
   {
    "duration": 33,
    "start_time": "2024-07-29T23:46:35.602Z"
   },
   {
    "duration": 33,
    "start_time": "2024-07-29T23:46:54.933Z"
   },
   {
    "duration": 33,
    "start_time": "2024-07-29T23:46:58.271Z"
   },
   {
    "duration": 32,
    "start_time": "2024-07-29T23:47:03.498Z"
   },
   {
    "duration": 5,
    "start_time": "2024-07-29T23:47:31.882Z"
   },
   {
    "duration": 32,
    "start_time": "2024-07-29T23:47:57.711Z"
   },
   {
    "duration": 46,
    "start_time": "2024-07-29T23:49:10.778Z"
   },
   {
    "duration": 20,
    "start_time": "2024-07-29T23:49:45.736Z"
   },
   {
    "duration": 13,
    "start_time": "2024-07-29T23:50:00.163Z"
   },
   {
    "duration": 26,
    "start_time": "2024-07-29T23:50:10.579Z"
   },
   {
    "duration": 8,
    "start_time": "2024-07-29T23:51:40.307Z"
   },
   {
    "duration": 8,
    "start_time": "2024-07-29T23:53:53.543Z"
   },
   {
    "duration": 7,
    "start_time": "2024-07-29T23:55:34.960Z"
   },
   {
    "duration": 7,
    "start_time": "2024-07-29T23:55:56.587Z"
   },
   {
    "duration": 43,
    "start_time": "2024-07-29T23:56:04.665Z"
   },
   {
    "duration": 41,
    "start_time": "2024-07-29T23:56:48.663Z"
   },
   {
    "duration": 85,
    "start_time": "2024-07-29T23:57:24.928Z"
   },
   {
    "duration": 25,
    "start_time": "2024-07-29T23:58:18.359Z"
   },
   {
    "duration": 35,
    "start_time": "2024-07-29T23:59:20.284Z"
   },
   {
    "duration": 37,
    "start_time": "2024-07-29T23:59:43.405Z"
   },
   {
    "duration": 36,
    "start_time": "2024-07-30T00:00:03.597Z"
   },
   {
    "duration": 37,
    "start_time": "2024-07-30T00:00:44.932Z"
   },
   {
    "duration": 25,
    "start_time": "2024-07-30T00:00:52.443Z"
   },
   {
    "duration": 39,
    "start_time": "2024-07-30T00:01:30.608Z"
   },
   {
    "duration": 36,
    "start_time": "2024-07-30T00:02:18.459Z"
   },
   {
    "duration": 32,
    "start_time": "2024-07-30T00:02:29.643Z"
   },
   {
    "duration": 12,
    "start_time": "2024-07-30T00:02:37.768Z"
   },
   {
    "duration": 16,
    "start_time": "2024-07-30T00:02:39.011Z"
   },
   {
    "duration": 19,
    "start_time": "2024-07-30T00:02:40.742Z"
   },
   {
    "duration": 10,
    "start_time": "2024-07-30T00:02:44.044Z"
   },
   {
    "duration": 11,
    "start_time": "2024-07-30T00:02:47.865Z"
   },
   {
    "duration": 42,
    "start_time": "2024-07-30T00:02:53.420Z"
   },
   {
    "duration": 39,
    "start_time": "2024-07-30T00:03:34.211Z"
   },
   {
    "duration": 34,
    "start_time": "2024-07-30T00:05:09.154Z"
   },
   {
    "duration": 36,
    "start_time": "2024-07-30T00:07:09.813Z"
   },
   {
    "duration": 39,
    "start_time": "2024-07-30T00:07:31.972Z"
   },
   {
    "duration": 37,
    "start_time": "2024-07-30T00:08:02.114Z"
   },
   {
    "duration": 39,
    "start_time": "2024-07-30T00:09:53.318Z"
   },
   {
    "duration": 39,
    "start_time": "2024-07-30T00:11:20.350Z"
   },
   {
    "duration": 36,
    "start_time": "2024-07-30T00:12:17.450Z"
   },
   {
    "duration": 35,
    "start_time": "2024-07-30T00:13:12.903Z"
   },
   {
    "duration": 6,
    "start_time": "2024-07-30T00:21:29.493Z"
   },
   {
    "duration": 5,
    "start_time": "2024-07-30T00:21:55.438Z"
   },
   {
    "duration": 34,
    "start_time": "2024-07-30T00:22:08.570Z"
   },
   {
    "duration": 145,
    "start_time": "2024-07-30T00:22:45.172Z"
   },
   {
    "duration": 30,
    "start_time": "2024-07-30T00:23:36.262Z"
   },
   {
    "duration": 37,
    "start_time": "2024-07-30T00:23:42.091Z"
   },
   {
    "duration": 34,
    "start_time": "2024-07-30T00:26:07.279Z"
   },
   {
    "duration": 33,
    "start_time": "2024-07-30T00:31:32.598Z"
   },
   {
    "duration": 24,
    "start_time": "2024-07-30T00:31:35.424Z"
   },
   {
    "duration": 37,
    "start_time": "2024-07-30T00:32:43.514Z"
   },
   {
    "duration": 36,
    "start_time": "2024-07-30T00:34:47.094Z"
   },
   {
    "duration": 12,
    "start_time": "2024-07-30T00:35:00.014Z"
   },
   {
    "duration": 16,
    "start_time": "2024-07-30T00:35:02.931Z"
   },
   {
    "duration": 18,
    "start_time": "2024-07-30T00:35:05.058Z"
   },
   {
    "duration": 9,
    "start_time": "2024-07-30T00:35:10.351Z"
   },
   {
    "duration": 18,
    "start_time": "2024-07-30T00:35:12.343Z"
   },
   {
    "duration": 28,
    "start_time": "2024-07-30T00:35:20.877Z"
   },
   {
    "duration": 79,
    "start_time": "2024-07-30T00:35:22.247Z"
   },
   {
    "duration": 76,
    "start_time": "2024-07-30T00:35:23.258Z"
   },
   {
    "duration": 75,
    "start_time": "2024-07-30T00:36:25.125Z"
   },
   {
    "duration": 76,
    "start_time": "2024-07-30T00:36:29.491Z"
   },
   {
    "duration": 79,
    "start_time": "2024-07-30T00:36:53.703Z"
   },
   {
    "duration": 77,
    "start_time": "2024-07-30T00:37:28.417Z"
   },
   {
    "duration": 78,
    "start_time": "2024-07-30T00:37:50.151Z"
   },
   {
    "duration": 19,
    "start_time": "2024-07-30T00:38:03.757Z"
   },
   {
    "duration": 26,
    "start_time": "2024-07-30T00:38:05.564Z"
   },
   {
    "duration": 80,
    "start_time": "2024-07-30T00:38:07.258Z"
   },
   {
    "duration": 78,
    "start_time": "2024-07-30T00:38:08.309Z"
   },
   {
    "duration": 18,
    "start_time": "2024-07-30T00:38:10.259Z"
   },
   {
    "duration": 26,
    "start_time": "2024-07-30T00:38:11.345Z"
   },
   {
    "duration": 78,
    "start_time": "2024-07-30T00:38:42.054Z"
   },
   {
    "duration": 18,
    "start_time": "2024-07-30T00:38:45.813Z"
   },
   {
    "duration": 28,
    "start_time": "2024-07-30T00:38:47.547Z"
   },
   {
    "duration": 81,
    "start_time": "2024-07-30T00:39:03.612Z"
   },
   {
    "duration": 19,
    "start_time": "2024-07-30T00:39:06.964Z"
   },
   {
    "duration": 14,
    "start_time": "2024-07-30T00:39:07.781Z"
   },
   {
    "duration": 76,
    "start_time": "2024-07-30T00:39:18.761Z"
   },
   {
    "duration": 18,
    "start_time": "2024-07-30T00:39:20.594Z"
   },
   {
    "duration": 15,
    "start_time": "2024-07-30T00:39:23.597Z"
   },
   {
    "duration": 21,
    "start_time": "2024-07-30T00:40:00.600Z"
   },
   {
    "duration": 20,
    "start_time": "2024-07-30T00:40:01.314Z"
   },
   {
    "duration": 17,
    "start_time": "2024-07-30T00:40:07.422Z"
   },
   {
    "duration": 21,
    "start_time": "2024-07-30T00:40:08.478Z"
   },
   {
    "duration": 16,
    "start_time": "2024-07-30T00:40:16.127Z"
   },
   {
    "duration": 10,
    "start_time": "2024-07-30T00:41:08.871Z"
   },
   {
    "duration": 24,
    "start_time": "2024-07-30T00:41:30.610Z"
   },
   {
    "duration": 24,
    "start_time": "2024-07-30T00:41:45.459Z"
   },
   {
    "duration": 7,
    "start_time": "2024-07-30T00:41:55.112Z"
   },
   {
    "duration": 444,
    "start_time": "2024-07-30T04:32:10.803Z"
   },
   {
    "duration": 238,
    "start_time": "2024-07-30T04:32:11.251Z"
   },
   {
    "duration": 29,
    "start_time": "2024-07-30T04:32:11.493Z"
   },
   {
    "duration": 62,
    "start_time": "2024-07-30T04:32:11.526Z"
   },
   {
    "duration": 6,
    "start_time": "2024-07-30T04:32:11.593Z"
   },
   {
    "duration": 8,
    "start_time": "2024-07-30T04:32:11.602Z"
   },
   {
    "duration": 7,
    "start_time": "2024-07-30T04:32:11.613Z"
   },
   {
    "duration": 66,
    "start_time": "2024-07-30T04:32:11.623Z"
   },
   {
    "duration": 40,
    "start_time": "2024-07-30T04:32:11.692Z"
   },
   {
    "duration": 57,
    "start_time": "2024-07-30T04:32:11.734Z"
   },
   {
    "duration": 91,
    "start_time": "2024-07-30T04:32:11.794Z"
   },
   {
    "duration": 97,
    "start_time": "2024-07-30T04:32:11.887Z"
   },
   {
    "duration": 107,
    "start_time": "2024-07-30T04:32:11.989Z"
   },
   {
    "duration": 96,
    "start_time": "2024-07-30T04:32:12.101Z"
   },
   {
    "duration": 74,
    "start_time": "2024-07-30T04:32:12.199Z"
   },
   {
    "duration": 5,
    "start_time": "2024-07-30T04:32:12.276Z"
   },
   {
    "duration": 21,
    "start_time": "2024-07-30T04:32:12.285Z"
   },
   {
    "duration": 11,
    "start_time": "2024-07-30T04:32:12.308Z"
   },
   {
    "duration": 50,
    "start_time": "2024-07-30T04:32:12.322Z"
   },
   {
    "duration": 16,
    "start_time": "2024-07-30T04:32:12.374Z"
   },
   {
    "duration": 19,
    "start_time": "2024-07-30T04:32:12.392Z"
   },
   {
    "duration": 8,
    "start_time": "2024-07-30T04:32:12.414Z"
   },
   {
    "duration": 56,
    "start_time": "2024-07-30T04:32:12.425Z"
   },
   {
    "duration": 14,
    "start_time": "2024-07-30T04:32:12.484Z"
   },
   {
    "duration": 6,
    "start_time": "2024-07-30T04:38:12.346Z"
   },
   {
    "duration": 21,
    "start_time": "2024-07-30T04:38:19.337Z"
   },
   {
    "duration": 3,
    "start_time": "2024-07-30T04:38:30.078Z"
   },
   {
    "duration": 208,
    "start_time": "2024-07-30T04:38:30.086Z"
   },
   {
    "duration": 17,
    "start_time": "2024-07-30T04:38:30.297Z"
   },
   {
    "duration": 55,
    "start_time": "2024-07-30T04:38:30.318Z"
   },
   {
    "duration": 6,
    "start_time": "2024-07-30T04:38:30.376Z"
   },
   {
    "duration": 10,
    "start_time": "2024-07-30T04:38:30.385Z"
   },
   {
    "duration": 5,
    "start_time": "2024-07-30T04:38:30.398Z"
   },
   {
    "duration": 76,
    "start_time": "2024-07-30T04:38:30.407Z"
   },
   {
    "duration": 38,
    "start_time": "2024-07-30T04:38:30.486Z"
   },
   {
    "duration": 46,
    "start_time": "2024-07-30T04:38:30.527Z"
   },
   {
    "duration": 91,
    "start_time": "2024-07-30T04:38:30.579Z"
   },
   {
    "duration": 96,
    "start_time": "2024-07-30T04:38:30.673Z"
   },
   {
    "duration": 105,
    "start_time": "2024-07-30T04:38:30.771Z"
   },
   {
    "duration": 87,
    "start_time": "2024-07-30T04:38:30.879Z"
   },
   {
    "duration": 64,
    "start_time": "2024-07-30T04:38:30.969Z"
   },
   {
    "duration": 4,
    "start_time": "2024-07-30T04:38:33.378Z"
   },
   {
    "duration": 21,
    "start_time": "2024-07-30T04:38:35.105Z"
   },
   {
    "duration": 12,
    "start_time": "2024-07-30T04:38:39.032Z"
   },
   {
    "duration": 10,
    "start_time": "2024-07-30T04:40:48.881Z"
   },
   {
    "duration": 12,
    "start_time": "2024-07-30T04:42:06.769Z"
   },
   {
    "duration": 467,
    "start_time": "2024-08-01T00:36:25.631Z"
   },
   {
    "duration": 236,
    "start_time": "2024-08-01T00:36:26.102Z"
   },
   {
    "duration": 24,
    "start_time": "2024-08-01T00:36:26.340Z"
   },
   {
    "duration": 61,
    "start_time": "2024-08-01T00:36:26.368Z"
   },
   {
    "duration": 6,
    "start_time": "2024-08-01T00:36:26.433Z"
   },
   {
    "duration": 8,
    "start_time": "2024-08-01T00:36:26.443Z"
   },
   {
    "duration": 5,
    "start_time": "2024-08-01T00:36:26.454Z"
   },
   {
    "duration": 64,
    "start_time": "2024-08-01T00:36:26.463Z"
   },
   {
    "duration": 40,
    "start_time": "2024-08-01T00:36:26.530Z"
   },
   {
    "duration": 55,
    "start_time": "2024-08-01T00:36:26.576Z"
   },
   {
    "duration": 91,
    "start_time": "2024-08-01T00:36:26.634Z"
   },
   {
    "duration": 95,
    "start_time": "2024-08-01T00:36:26.728Z"
   },
   {
    "duration": 108,
    "start_time": "2024-08-01T00:36:26.826Z"
   },
   {
    "duration": 92,
    "start_time": "2024-08-01T00:36:26.937Z"
   },
   {
    "duration": 63,
    "start_time": "2024-08-01T00:36:27.033Z"
   },
   {
    "duration": 6,
    "start_time": "2024-08-01T00:36:27.109Z"
   },
   {
    "duration": 27,
    "start_time": "2024-08-01T00:36:27.119Z"
   },
   {
    "duration": 12,
    "start_time": "2024-08-01T00:36:27.149Z"
   },
   {
    "duration": 52,
    "start_time": "2024-08-01T00:36:27.164Z"
   },
   {
    "duration": 16,
    "start_time": "2024-08-01T00:36:27.218Z"
   },
   {
    "duration": 17,
    "start_time": "2024-08-01T00:36:27.237Z"
   },
   {
    "duration": 9,
    "start_time": "2024-08-01T00:36:27.257Z"
   },
   {
    "duration": 19,
    "start_time": "2024-08-01T00:36:27.310Z"
   },
   {
    "duration": 20,
    "start_time": "2024-08-01T00:36:27.331Z"
   },
   {
    "duration": 879,
    "start_time": "2024-08-01T00:37:58.895Z"
   },
   {
    "duration": 90,
    "start_time": "2024-08-01T00:38:14.476Z"
   },
   {
    "duration": 114,
    "start_time": "2024-08-01T00:38:24.489Z"
   },
   {
    "duration": 95,
    "start_time": "2024-08-01T00:39:18.453Z"
   },
   {
    "duration": 93,
    "start_time": "2024-08-01T00:39:30.685Z"
   },
   {
    "duration": 92,
    "start_time": "2024-08-01T00:40:30.892Z"
   },
   {
    "duration": 486,
    "start_time": "2024-08-01T00:40:58.799Z"
   },
   {
    "duration": 205,
    "start_time": "2024-08-01T00:40:59.289Z"
   },
   {
    "duration": 28,
    "start_time": "2024-08-01T00:40:59.500Z"
   },
   {
    "duration": 36,
    "start_time": "2024-08-01T00:40:59.533Z"
   },
   {
    "duration": 37,
    "start_time": "2024-08-01T00:40:59.571Z"
   },
   {
    "duration": 8,
    "start_time": "2024-08-01T00:40:59.611Z"
   },
   {
    "duration": 6,
    "start_time": "2024-08-01T00:40:59.622Z"
   },
   {
    "duration": 29,
    "start_time": "2024-08-01T00:40:59.632Z"
   },
   {
    "duration": 78,
    "start_time": "2024-08-01T00:40:59.664Z"
   },
   {
    "duration": 28,
    "start_time": "2024-08-01T00:40:59.748Z"
   },
   {
    "duration": 105,
    "start_time": "2024-08-01T00:40:59.779Z"
   },
   {
    "duration": 102,
    "start_time": "2024-08-01T00:40:59.887Z"
   },
   {
    "duration": 101,
    "start_time": "2024-08-01T00:40:59.992Z"
   },
   {
    "duration": 97,
    "start_time": "2024-08-01T00:41:00.097Z"
   },
   {
    "duration": 57,
    "start_time": "2024-08-01T00:41:00.210Z"
   },
   {
    "duration": 5,
    "start_time": "2024-08-01T00:41:00.270Z"
   },
   {
    "duration": 49,
    "start_time": "2024-08-01T00:41:00.278Z"
   },
   {
    "duration": 10,
    "start_time": "2024-08-01T00:41:00.330Z"
   },
   {
    "duration": 13,
    "start_time": "2024-08-01T00:41:00.343Z"
   },
   {
    "duration": 15,
    "start_time": "2024-08-01T00:41:00.359Z"
   },
   {
    "duration": 23,
    "start_time": "2024-08-01T00:41:00.409Z"
   },
   {
    "duration": 8,
    "start_time": "2024-08-01T00:41:00.435Z"
   },
   {
    "duration": 18,
    "start_time": "2024-08-01T00:41:00.446Z"
   },
   {
    "duration": 55,
    "start_time": "2024-08-01T00:41:00.466Z"
   },
   {
    "duration": 70,
    "start_time": "2024-08-01T00:41:20.841Z"
   },
   {
    "duration": 69,
    "start_time": "2024-08-01T00:41:53.532Z"
   },
   {
    "duration": 480,
    "start_time": "2024-08-01T00:41:59.111Z"
   },
   {
    "duration": 204,
    "start_time": "2024-08-01T00:41:59.594Z"
   },
   {
    "duration": 31,
    "start_time": "2024-08-01T00:41:59.801Z"
   },
   {
    "duration": 38,
    "start_time": "2024-08-01T00:41:59.837Z"
   },
   {
    "duration": 34,
    "start_time": "2024-08-01T00:41:59.878Z"
   },
   {
    "duration": 9,
    "start_time": "2024-08-01T00:41:59.916Z"
   },
   {
    "duration": 6,
    "start_time": "2024-08-01T00:41:59.928Z"
   },
   {
    "duration": 28,
    "start_time": "2024-08-01T00:41:59.937Z"
   },
   {
    "duration": 82,
    "start_time": "2024-08-01T00:41:59.968Z"
   },
   {
    "duration": 29,
    "start_time": "2024-08-01T00:42:00.055Z"
   },
   {
    "duration": 101,
    "start_time": "2024-08-01T00:42:00.110Z"
   },
   {
    "duration": 104,
    "start_time": "2024-08-01T00:42:00.214Z"
   },
   {
    "duration": 90,
    "start_time": "2024-08-01T00:42:00.321Z"
   },
   {
    "duration": 71,
    "start_time": "2024-08-01T00:42:00.414Z"
   },
   {
    "duration": 73,
    "start_time": "2024-08-01T00:42:00.487Z"
   },
   {
    "duration": 6,
    "start_time": "2024-08-01T00:42:00.563Z"
   },
   {
    "duration": 48,
    "start_time": "2024-08-01T00:42:00.573Z"
   },
   {
    "duration": 10,
    "start_time": "2024-08-01T00:42:00.624Z"
   },
   {
    "duration": 12,
    "start_time": "2024-08-01T00:42:00.637Z"
   },
   {
    "duration": 15,
    "start_time": "2024-08-01T00:42:00.651Z"
   },
   {
    "duration": 56,
    "start_time": "2024-08-01T00:42:00.668Z"
   },
   {
    "duration": 8,
    "start_time": "2024-08-01T00:42:00.728Z"
   },
   {
    "duration": 17,
    "start_time": "2024-08-01T00:42:00.740Z"
   },
   {
    "duration": 55,
    "start_time": "2024-08-01T00:42:00.760Z"
   },
   {
    "duration": 4,
    "start_time": "2024-08-01T00:42:43.617Z"
   },
   {
    "duration": 19,
    "start_time": "2024-08-01T00:42:46.968Z"
   },
   {
    "duration": 11,
    "start_time": "2024-08-01T00:42:48.575Z"
   },
   {
    "duration": 445,
    "start_time": "2024-08-01T00:43:00.334Z"
   },
   {
    "duration": 211,
    "start_time": "2024-08-01T00:43:00.783Z"
   },
   {
    "duration": 31,
    "start_time": "2024-08-01T00:43:00.997Z"
   },
   {
    "duration": 37,
    "start_time": "2024-08-01T00:43:01.032Z"
   },
   {
    "duration": 37,
    "start_time": "2024-08-01T00:43:01.074Z"
   },
   {
    "duration": 11,
    "start_time": "2024-08-01T00:43:01.115Z"
   },
   {
    "duration": 8,
    "start_time": "2024-08-01T00:43:01.130Z"
   },
   {
    "duration": 68,
    "start_time": "2024-08-01T00:43:01.142Z"
   },
   {
    "duration": 43,
    "start_time": "2024-08-01T00:43:01.213Z"
   },
   {
    "duration": 53,
    "start_time": "2024-08-01T00:43:01.259Z"
   },
   {
    "duration": 76,
    "start_time": "2024-08-01T00:43:01.315Z"
   },
   {
    "duration": 101,
    "start_time": "2024-08-01T00:43:01.409Z"
   },
   {
    "duration": 95,
    "start_time": "2024-08-01T00:43:01.514Z"
   },
   {
    "duration": 72,
    "start_time": "2024-08-01T00:43:01.615Z"
   },
   {
    "duration": 71,
    "start_time": "2024-08-01T00:43:01.690Z"
   },
   {
    "duration": 4,
    "start_time": "2024-08-01T00:43:01.764Z"
   },
   {
    "duration": 44,
    "start_time": "2024-08-01T00:43:01.771Z"
   },
   {
    "duration": 11,
    "start_time": "2024-08-01T00:43:01.818Z"
   },
   {
    "duration": 13,
    "start_time": "2024-08-01T00:43:01.832Z"
   },
   {
    "duration": 14,
    "start_time": "2024-08-01T00:43:01.848Z"
   },
   {
    "duration": 54,
    "start_time": "2024-08-01T00:43:01.865Z"
   },
   {
    "duration": 9,
    "start_time": "2024-08-01T00:43:01.922Z"
   },
   {
    "duration": 18,
    "start_time": "2024-08-01T00:43:01.934Z"
   },
   {
    "duration": 14,
    "start_time": "2024-08-01T00:43:01.955Z"
   },
   {
    "duration": 8,
    "start_time": "2024-08-01T00:44:48.234Z"
   },
   {
    "duration": 17,
    "start_time": "2024-08-01T00:45:14.099Z"
   },
   {
    "duration": 11,
    "start_time": "2024-08-01T00:45:34.283Z"
   },
   {
    "duration": 459,
    "start_time": "2024-08-01T00:45:49.545Z"
   },
   {
    "duration": 213,
    "start_time": "2024-08-01T00:45:50.009Z"
   },
   {
    "duration": 26,
    "start_time": "2024-08-01T00:45:50.226Z"
   },
   {
    "duration": 62,
    "start_time": "2024-08-01T00:45:50.255Z"
   },
   {
    "duration": 7,
    "start_time": "2024-08-01T00:45:50.327Z"
   },
   {
    "duration": 10,
    "start_time": "2024-08-01T00:45:50.337Z"
   },
   {
    "duration": 7,
    "start_time": "2024-08-01T00:45:50.351Z"
   },
   {
    "duration": 72,
    "start_time": "2024-08-01T00:45:50.362Z"
   },
   {
    "duration": 41,
    "start_time": "2024-08-01T00:45:50.437Z"
   },
   {
    "duration": 50,
    "start_time": "2024-08-01T00:45:50.481Z"
   },
   {
    "duration": 104,
    "start_time": "2024-08-01T00:45:50.534Z"
   },
   {
    "duration": 102,
    "start_time": "2024-08-01T00:45:50.641Z"
   },
   {
    "duration": 93,
    "start_time": "2024-08-01T00:45:50.747Z"
   },
   {
    "duration": 85,
    "start_time": "2024-08-01T00:45:50.846Z"
   },
   {
    "duration": 56,
    "start_time": "2024-08-01T00:45:50.934Z"
   },
   {
    "duration": 17,
    "start_time": "2024-08-01T00:45:50.993Z"
   },
   {
    "duration": 20,
    "start_time": "2024-08-01T00:45:51.013Z"
   },
   {
    "duration": 11,
    "start_time": "2024-08-01T00:45:51.036Z"
   },
   {
    "duration": 12,
    "start_time": "2024-08-01T00:45:51.050Z"
   },
   {
    "duration": 56,
    "start_time": "2024-08-01T00:45:51.065Z"
   },
   {
    "duration": 17,
    "start_time": "2024-08-01T00:45:51.124Z"
   },
   {
    "duration": 13,
    "start_time": "2024-08-01T00:45:51.144Z"
   },
   {
    "duration": 57,
    "start_time": "2024-08-01T00:45:51.160Z"
   },
   {
    "duration": 16,
    "start_time": "2024-08-01T00:45:51.220Z"
   },
   {
    "duration": 14,
    "start_time": "2024-08-01T00:46:52.054Z"
   },
   {
    "duration": 14,
    "start_time": "2024-08-01T00:46:59.587Z"
   },
   {
    "duration": 17,
    "start_time": "2024-08-01T00:47:03.090Z"
   },
   {
    "duration": 17,
    "start_time": "2024-08-01T00:47:09.666Z"
   },
   {
    "duration": 25,
    "start_time": "2024-08-01T00:47:17.339Z"
   },
   {
    "duration": 15,
    "start_time": "2024-08-01T00:47:27.482Z"
   },
   {
    "duration": 468,
    "start_time": "2024-08-01T00:47:44.785Z"
   },
   {
    "duration": 211,
    "start_time": "2024-08-01T00:47:45.256Z"
   },
   {
    "duration": 24,
    "start_time": "2024-08-01T00:47:45.469Z"
   },
   {
    "duration": 38,
    "start_time": "2024-08-01T00:47:45.510Z"
   },
   {
    "duration": 6,
    "start_time": "2024-08-01T00:47:45.552Z"
   },
   {
    "duration": 9,
    "start_time": "2024-08-01T00:47:45.561Z"
   },
   {
    "duration": 39,
    "start_time": "2024-08-01T00:47:45.573Z"
   },
   {
    "duration": 36,
    "start_time": "2024-08-01T00:47:45.615Z"
   },
   {
    "duration": 72,
    "start_time": "2024-08-01T00:47:45.654Z"
   },
   {
    "duration": 29,
    "start_time": "2024-08-01T00:47:45.734Z"
   },
   {
    "duration": 101,
    "start_time": "2024-08-01T00:47:45.766Z"
   },
   {
    "duration": 105,
    "start_time": "2024-08-01T00:47:45.870Z"
   },
   {
    "duration": 93,
    "start_time": "2024-08-01T00:47:45.978Z"
   },
   {
    "duration": 83,
    "start_time": "2024-08-01T00:47:46.075Z"
   },
   {
    "duration": 64,
    "start_time": "2024-08-01T00:47:46.160Z"
   },
   {
    "duration": 5,
    "start_time": "2024-08-01T00:47:46.228Z"
   },
   {
    "duration": 20,
    "start_time": "2024-08-01T00:47:46.235Z"
   },
   {
    "duration": 11,
    "start_time": "2024-08-01T00:47:46.259Z"
   },
   {
    "duration": 44,
    "start_time": "2024-08-01T00:47:46.273Z"
   },
   {
    "duration": 16,
    "start_time": "2024-08-01T00:47:46.320Z"
   },
   {
    "duration": 17,
    "start_time": "2024-08-01T00:47:46.339Z"
   },
   {
    "duration": 52,
    "start_time": "2024-08-01T00:47:46.361Z"
   },
   {
    "duration": 18,
    "start_time": "2024-08-01T00:47:46.416Z"
   },
   {
    "duration": 14,
    "start_time": "2024-08-01T00:47:46.437Z"
   },
   {
    "duration": 13,
    "start_time": "2024-08-01T00:48:43.035Z"
   },
   {
    "duration": 448,
    "start_time": "2024-08-01T00:48:48.974Z"
   },
   {
    "duration": 218,
    "start_time": "2024-08-01T00:48:49.425Z"
   },
   {
    "duration": 26,
    "start_time": "2024-08-01T00:48:49.645Z"
   },
   {
    "duration": 54,
    "start_time": "2024-08-01T00:48:49.675Z"
   },
   {
    "duration": 6,
    "start_time": "2024-08-01T00:48:49.732Z"
   },
   {
    "duration": 9,
    "start_time": "2024-08-01T00:48:49.742Z"
   },
   {
    "duration": 5,
    "start_time": "2024-08-01T00:48:49.754Z"
   },
   {
    "duration": 73,
    "start_time": "2024-08-01T00:48:49.763Z"
   },
   {
    "duration": 41,
    "start_time": "2024-08-01T00:48:49.839Z"
   },
   {
    "duration": 30,
    "start_time": "2024-08-01T00:48:49.910Z"
   },
   {
    "duration": 95,
    "start_time": "2024-08-01T00:48:49.943Z"
   },
   {
    "duration": 101,
    "start_time": "2024-08-01T00:48:50.041Z"
   },
   {
    "duration": 98,
    "start_time": "2024-08-01T00:48:50.145Z"
   },
   {
    "duration": 96,
    "start_time": "2024-08-01T00:48:50.246Z"
   },
   {
    "duration": 68,
    "start_time": "2024-08-01T00:48:50.346Z"
   },
   {
    "duration": 5,
    "start_time": "2024-08-01T00:48:50.417Z"
   },
   {
    "duration": 22,
    "start_time": "2024-08-01T00:48:50.426Z"
   },
   {
    "duration": 11,
    "start_time": "2024-08-01T00:48:50.451Z"
   },
   {
    "duration": 51,
    "start_time": "2024-08-01T00:48:50.466Z"
   },
   {
    "duration": 16,
    "start_time": "2024-08-01T00:48:50.520Z"
   },
   {
    "duration": 18,
    "start_time": "2024-08-01T00:48:50.538Z"
   },
   {
    "duration": 51,
    "start_time": "2024-08-01T00:48:50.559Z"
   },
   {
    "duration": 18,
    "start_time": "2024-08-01T00:48:50.613Z"
   },
   {
    "duration": 16,
    "start_time": "2024-08-01T00:48:50.634Z"
   }
  ],
  "kernelspec": {
   "display_name": "Python 3 (ipykernel)",
   "language": "python",
   "name": "python3"
  },
  "language_info": {
   "codemirror_mode": {
    "name": "ipython",
    "version": 3
   },
   "file_extension": ".py",
   "mimetype": "text/x-python",
   "name": "python",
   "nbconvert_exporter": "python",
   "pygments_lexer": "ipython3",
   "version": "3.9.19"
  },
  "toc": {
   "base_numbering": 1,
   "nav_menu": {},
   "number_sections": true,
   "sideBar": true,
   "skip_h1_title": true,
   "title_cell": "Table of Contents",
   "title_sidebar": "Contents",
   "toc_cell": false,
   "toc_position": {},
   "toc_section_display": true,
   "toc_window_display": false
  }
 },
 "nbformat": 4,
 "nbformat_minor": 0
}
